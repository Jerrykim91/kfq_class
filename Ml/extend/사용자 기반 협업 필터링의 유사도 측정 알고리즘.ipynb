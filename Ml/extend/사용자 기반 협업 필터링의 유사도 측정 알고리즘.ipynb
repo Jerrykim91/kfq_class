{
 "cells": [
  {
   "cell_type": "code",
   "execution_count": 1,
   "metadata": {},
   "outputs": [],
   "source": [
    "from scipy.spatial.distance import correlation"
   ]
  },
  {
   "cell_type": "code",
   "execution_count": 2,
   "metadata": {},
   "outputs": [],
   "source": [
    "# 피어슨 상관관계\n",
    "def person_coefficient( u, v ):\n",
    "    return 1 - correlation( u, v)"
   ]
  },
  {
   "cell_type": "code",
   "execution_count": 4,
   "metadata": {},
   "outputs": [],
   "source": [
    "# 피어슨 상관관계 직접 구현\n",
    "import numpy as np\n",
    "def person_coefficient_law( u, v ):\n",
    "    u_diff = u - np.mean(u)\n",
    "    v_diff = v - np.mean(v)\n",
    "    return np.dot( u_diff, v_diff ) \n",
    "           / ( np.sqrt( sum( u_diff ** 2 ) ) * np.sqrt( sum( v_diff ** 2) ) )"
   ]
  },
  {
   "cell_type": "code",
   "execution_count": 5,
   "metadata": {},
   "outputs": [],
   "source": [
    "# 코사인 유도\n",
    "from scipy.spatial.distance import cosine\n",
    "def cosine_similarity( u, v ):\n",
    "    return 1 - cosine( u, v)"
   ]
  },
  {
   "cell_type": "code",
   "execution_count": 6,
   "metadata": {},
   "outputs": [],
   "source": [
    "# 코사인 유도 직접 구현\n",
    "import numpy as np\n",
    "def cosine_similarity_law( u, v ):\n",
    "    return np.dot( u, v ) / ( np.sqrt( sum( u ** 2 ) ) * np.sqrt( sum( v ** 2) ) )"
   ]
  },
  {
   "cell_type": "code",
   "execution_count": 8,
   "metadata": {},
   "outputs": [],
   "source": [
    "# 자카드 계수\n",
    "from scipy.spatial.distance import jaccard\n",
    "def jaccard_similarity( u, v ):\n",
    "    return 1- jaccard(u, v)"
   ]
  },
  {
   "cell_type": "code",
   "execution_count": 7,
   "metadata": {},
   "outputs": [],
   "source": [
    "# 자카드 계수 직접 구현\n",
    "import numpy as np\n",
    "def jaccard_similarity( u, v ):\n",
    "    return np.dot( u, v ) / ( sum(np.absolute(u)) + sum(np.absolute(v)) - np.dot(u,v)  )"
   ]
  },
  {
   "cell_type": "code",
   "execution_count": 10,
   "metadata": {},
   "outputs": [],
   "source": [
    "# 개선된 코사인 유도 \n",
    "import numpy as np\n",
    "def adjusted_cosine_similarity( m, n, u_mean ):\n",
    "    ad_m = m - u_mean\n",
    "    ad_n = n - u_mean\n",
    "    return np.dot( ad_m, ad_n ) / ( np.sqrt( sum( ad_m ** 2 ) ) * np.sqrt( sum( ad_n ** 2) ) )"
   ]
  },
  {
   "cell_type": "code",
   "execution_count": null,
   "metadata": {},
   "outputs": [],
   "source": []
  },
  {
   "cell_type": "code",
   "execution_count": null,
   "metadata": {},
   "outputs": [],
   "source": []
  },
  {
   "cell_type": "code",
   "execution_count": null,
   "metadata": {},
   "outputs": [],
   "source": []
  }
 ],
 "metadata": {
  "kernelspec": {
   "display_name": "Python 3",
   "language": "python",
   "name": "python3"
  },
  "language_info": {
   "codemirror_mode": {
    "name": "ipython",
    "version": 3
   },
   "file_extension": ".py",
   "mimetype": "text/x-python",
   "name": "python",
   "nbconvert_exporter": "python",
   "pygments_lexer": "ipython3",
   "version": "3.6.5"
  }
 },
 "nbformat": 4,
 "nbformat_minor": 2
}
