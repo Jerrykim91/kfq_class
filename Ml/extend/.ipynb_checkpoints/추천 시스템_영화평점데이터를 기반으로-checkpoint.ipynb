{
 "cells": [
  {
   "cell_type": "markdown",
   "metadata": {},
   "source": [
    "#### 데이터 로드 및 살펴보기"
   ]
  },
  {
   "cell_type": "code",
   "execution_count": 46,
   "metadata": {},
   "outputs": [],
   "source": [
    "import pandas as pd"
   ]
  },
  {
   "cell_type": "code",
   "execution_count": 47,
   "metadata": {},
   "outputs": [
    {
     "data": {
      "text/plain": [
       "(943, 5)"
      ]
     },
     "execution_count": 47,
     "metadata": {},
     "output_type": "execute_result"
    }
   ],
   "source": [
    "# 고객 정보 로드\n",
    "# 고객 정보 컬럼 ; 아이디, 나이, 성별, 직업, 주소(우편번호)\n",
    "cols  = ['uid','age','sex','job','zip_code']\n",
    "users = pd.read_csv( './ml-100k/u.user', sep='|', names=cols )\n",
    "users.shape"
   ]
  },
  {
   "cell_type": "code",
   "execution_count": 48,
   "metadata": {},
   "outputs": [
    {
     "data": {
      "text/html": [
       "<div>\n",
       "<style scoped>\n",
       "    .dataframe tbody tr th:only-of-type {\n",
       "        vertical-align: middle;\n",
       "    }\n",
       "\n",
       "    .dataframe tbody tr th {\n",
       "        vertical-align: top;\n",
       "    }\n",
       "\n",
       "    .dataframe thead th {\n",
       "        text-align: right;\n",
       "    }\n",
       "</style>\n",
       "<table border=\"1\" class=\"dataframe\">\n",
       "  <thead>\n",
       "    <tr style=\"text-align: right;\">\n",
       "      <th></th>\n",
       "      <th>uid</th>\n",
       "      <th>age</th>\n",
       "      <th>sex</th>\n",
       "      <th>job</th>\n",
       "      <th>zip_code</th>\n",
       "    </tr>\n",
       "  </thead>\n",
       "  <tbody>\n",
       "    <tr>\n",
       "      <th>0</th>\n",
       "      <td>1</td>\n",
       "      <td>24</td>\n",
       "      <td>M</td>\n",
       "      <td>technician</td>\n",
       "      <td>85711</td>\n",
       "    </tr>\n",
       "    <tr>\n",
       "      <th>1</th>\n",
       "      <td>2</td>\n",
       "      <td>53</td>\n",
       "      <td>F</td>\n",
       "      <td>other</td>\n",
       "      <td>94043</td>\n",
       "    </tr>\n",
       "    <tr>\n",
       "      <th>2</th>\n",
       "      <td>3</td>\n",
       "      <td>23</td>\n",
       "      <td>M</td>\n",
       "      <td>writer</td>\n",
       "      <td>32067</td>\n",
       "    </tr>\n",
       "    <tr>\n",
       "      <th>3</th>\n",
       "      <td>4</td>\n",
       "      <td>24</td>\n",
       "      <td>M</td>\n",
       "      <td>technician</td>\n",
       "      <td>43537</td>\n",
       "    </tr>\n",
       "    <tr>\n",
       "      <th>4</th>\n",
       "      <td>5</td>\n",
       "      <td>33</td>\n",
       "      <td>F</td>\n",
       "      <td>other</td>\n",
       "      <td>15213</td>\n",
       "    </tr>\n",
       "  </tbody>\n",
       "</table>\n",
       "</div>"
      ],
      "text/plain": [
       "   uid  age sex         job zip_code\n",
       "0    1   24   M  technician    85711\n",
       "1    2   53   F       other    94043\n",
       "2    3   23   M      writer    32067\n",
       "3    4   24   M  technician    43537\n",
       "4    5   33   F       other    15213"
      ]
     },
     "execution_count": 48,
     "metadata": {},
     "output_type": "execute_result"
    }
   ],
   "source": [
    "users.head()"
   ]
  },
  {
   "cell_type": "code",
   "execution_count": 49,
   "metadata": {},
   "outputs": [
    {
     "data": {
      "text/html": [
       "<div>\n",
       "<style scoped>\n",
       "    .dataframe tbody tr th:only-of-type {\n",
       "        vertical-align: middle;\n",
       "    }\n",
       "\n",
       "    .dataframe tbody tr th {\n",
       "        vertical-align: top;\n",
       "    }\n",
       "\n",
       "    .dataframe thead th {\n",
       "        text-align: right;\n",
       "    }\n",
       "</style>\n",
       "<table border=\"1\" class=\"dataframe\">\n",
       "  <thead>\n",
       "    <tr style=\"text-align: right;\">\n",
       "      <th></th>\n",
       "      <th>mid</th>\n",
       "      <th>title</th>\n",
       "      <th>relese_date</th>\n",
       "      <th>video_relese_date</th>\n",
       "      <th>imdb_url</th>\n",
       "    </tr>\n",
       "  </thead>\n",
       "  <tbody>\n",
       "    <tr>\n",
       "      <th>0</th>\n",
       "      <td>1</td>\n",
       "      <td>Toy Story (1995)</td>\n",
       "      <td>01-Jan-1995</td>\n",
       "      <td>NaN</td>\n",
       "      <td>http://us.imdb.com/M/title-exact?Toy%20Story%2...</td>\n",
       "    </tr>\n",
       "    <tr>\n",
       "      <th>1</th>\n",
       "      <td>2</td>\n",
       "      <td>GoldenEye (1995)</td>\n",
       "      <td>01-Jan-1995</td>\n",
       "      <td>NaN</td>\n",
       "      <td>http://us.imdb.com/M/title-exact?GoldenEye%20(...</td>\n",
       "    </tr>\n",
       "    <tr>\n",
       "      <th>2</th>\n",
       "      <td>3</td>\n",
       "      <td>Four Rooms (1995)</td>\n",
       "      <td>01-Jan-1995</td>\n",
       "      <td>NaN</td>\n",
       "      <td>http://us.imdb.com/M/title-exact?Four%20Rooms%...</td>\n",
       "    </tr>\n",
       "    <tr>\n",
       "      <th>3</th>\n",
       "      <td>4</td>\n",
       "      <td>Get Shorty (1995)</td>\n",
       "      <td>01-Jan-1995</td>\n",
       "      <td>NaN</td>\n",
       "      <td>http://us.imdb.com/M/title-exact?Get%20Shorty%...</td>\n",
       "    </tr>\n",
       "    <tr>\n",
       "      <th>4</th>\n",
       "      <td>5</td>\n",
       "      <td>Copycat (1995)</td>\n",
       "      <td>01-Jan-1995</td>\n",
       "      <td>NaN</td>\n",
       "      <td>http://us.imdb.com/M/title-exact?Copycat%20(1995)</td>\n",
       "    </tr>\n",
       "  </tbody>\n",
       "</table>\n",
       "</div>"
      ],
      "text/plain": [
       "   mid              title  relese_date  video_relese_date  \\\n",
       "0    1   Toy Story (1995)  01-Jan-1995                NaN   \n",
       "1    2   GoldenEye (1995)  01-Jan-1995                NaN   \n",
       "2    3  Four Rooms (1995)  01-Jan-1995                NaN   \n",
       "3    4  Get Shorty (1995)  01-Jan-1995                NaN   \n",
       "4    5     Copycat (1995)  01-Jan-1995                NaN   \n",
       "\n",
       "                                            imdb_url  \n",
       "0  http://us.imdb.com/M/title-exact?Toy%20Story%2...  \n",
       "1  http://us.imdb.com/M/title-exact?GoldenEye%20(...  \n",
       "2  http://us.imdb.com/M/title-exact?Four%20Rooms%...  \n",
       "3  http://us.imdb.com/M/title-exact?Get%20Shorty%...  \n",
       "4  http://us.imdb.com/M/title-exact?Copycat%20(1995)  "
      ]
     },
     "execution_count": 49,
     "metadata": {},
     "output_type": "execute_result"
    }
   ],
   "source": [
    "# 영화 정보 로드\n",
    "# 영화ID, 제목, 개봉일, 비디오개봉일, imdb 주소\n",
    "m_cols = ['mid','title','relese_date','video_relese_date','imdb_url']\n",
    "# 실제 데이터에 컬럼이 더 많은데, 앞에서부터 잘라서 적용하고 싶다\n",
    "movies = pd.read_csv( './ml-100k/u.item', sep='|', names=m_cols, \n",
    "                      encoding='latin1', usecols=range(5) )\n",
    "movies.head()"
   ]
  },
  {
   "cell_type": "code",
   "execution_count": 50,
   "metadata": {},
   "outputs": [
    {
     "data": {
      "text/plain": [
       "(1682, 5)"
      ]
     },
     "execution_count": 50,
     "metadata": {},
     "output_type": "execute_result"
    }
   ],
   "source": [
    "movies.shape"
   ]
  },
  {
   "cell_type": "code",
   "execution_count": 51,
   "metadata": {},
   "outputs": [
    {
     "ename": "SyntaxError",
     "evalue": "invalid syntax (<ipython-input-51-8646c1f465c4>, line 1)",
     "output_type": "error",
     "traceback": [
      "\u001b[1;36m  File \u001b[1;32m\"<ipython-input-51-8646c1f465c4>\"\u001b[1;36m, line \u001b[1;32m1\u001b[0m\n\u001b[1;33m    - u.user : 고객 정보\u001b[0m\n\u001b[1;37m                   ^\u001b[0m\n\u001b[1;31mSyntaxError\u001b[0m\u001b[1;31m:\u001b[0m invalid syntax\n"
     ]
    }
   ],
   "source": [
    "- u.user : 고객 정보\n",
    "- u.item : 영화 정보\n",
    "- u.data : 평점 정보"
   ]
  },
  {
   "cell_type": "code",
   "execution_count": null,
   "metadata": {
    "scrolled": true
   },
   "outputs": [],
   "source": [
    "# 평점 정보\n",
    "ratings_cols    = ['uid','mid','rating','unix_timestamp']\n",
    "ratings = pd.read_csv( './ml-100k/u.data', sep='\\t', names=ratings_cols )\n",
    "ratings.shape"
   ]
  },
  {
   "cell_type": "code",
   "execution_count": null,
   "metadata": {},
   "outputs": [],
   "source": [
    "ratings.head()"
   ]
  },
  {
   "cell_type": "code",
   "execution_count": null,
   "metadata": {},
   "outputs": [],
   "source": [
    "# unix_timestamp -> 우리가 알수 있는 YYYY-MM-dd hh:mm:ss\n",
    "# date라는 컬럼에 추가\n",
    "ratings[ 'date' ] = pd.to_datetime( ratings[ 'unix_timestamp' ], unit='s' )"
   ]
  },
  {
   "cell_type": "code",
   "execution_count": null,
   "metadata": {
    "scrolled": true
   },
   "outputs": [],
   "source": [
    "ratings.head()"
   ]
  },
  {
   "cell_type": "markdown",
   "metadata": {},
   "source": [
    "#### 데이터 준비/시각화/통찰"
   ]
  },
  {
   "cell_type": "code",
   "execution_count": null,
   "metadata": {},
   "outputs": [],
   "source": [
    "# 정보 병합\n",
    "# movies, ratings, users\n",
    "# movies, ratings => 병합 movies_ratings\n",
    "movies_ratings = pd.merge( movies, ratings )\n",
    "movies_ratings.head()"
   ]
  },
  {
   "cell_type": "code",
   "execution_count": null,
   "metadata": {},
   "outputs": [],
   "source": [
    "movies_ratings.shape"
   ]
  },
  {
   "cell_type": "code",
   "execution_count": null,
   "metadata": {},
   "outputs": [],
   "source": [
    "movie_lens = pd.merge( movies_ratings, users)\n",
    "movie_lens.head()"
   ]
  },
  {
   "cell_type": "code",
   "execution_count": null,
   "metadata": {},
   "outputs": [],
   "source": [
    "movie_lens.shape"
   ]
  },
  {
   "cell_type": "code",
   "execution_count": null,
   "metadata": {},
   "outputs": [],
   "source": [
    "# 평가를 가장 많이 받은 작품 상위 10개 \n",
    "movie_lens.title.value_counts()[:10]\n",
    "# 인기가 아주 없는 영화는 빼고(평점 특정 개수 이하는 제외), \n",
    "# 보여지는 데이터를 기준으로 살펴보면 영화가 오래 될수록 평가를 많인 받는 경향이\n",
    "# 보인다. "
   ]
  },
  {
   "cell_type": "code",
   "execution_count": null,
   "metadata": {},
   "outputs": [],
   "source": [
    "movie_lens.title.value_counts()[-10:]"
   ]
  },
  {
   "cell_type": "code",
   "execution_count": null,
   "metadata": {},
   "outputs": [],
   "source": [
    "import numpy as np"
   ]
  },
  {
   "cell_type": "code",
   "execution_count": null,
   "metadata": {},
   "outputs": [],
   "source": [
    "# 제목기준으로 데이ㅏ터를 나누는데, 평가의 개수, 평점평균을 포함한 데이터 프레임\n",
    "# 인덱스에 title, 컬럼에 평가의 개수:size, 평점평균:mean\n",
    "# 피벗없이 수행\n",
    "# rating : 1차 레벨 컬럼, np.size, np.mean 2차 래벨의 컬럼\n",
    "movie_state = movie_lens.groupby('title').agg( {'rating':[ np.size, np.mean]} )\n",
    "movie_state.head()"
   ]
  },
  {
   "cell_type": "code",
   "execution_count": null,
   "metadata": {},
   "outputs": [],
   "source": [
    "# 평점을 받는 개수가 1개인 영화, 즉 소수의 평가를 받은 영화가 많다\n",
    "# 평균의 수가 적으면 노이즈가 개입되기 쉽다\n",
    "# 일정 횟수 이상인 경우 (여기서는 100건 기준)만 대상으로 처리하겟다"
   ]
  },
  {
   "cell_type": "code",
   "execution_count": null,
   "metadata": {},
   "outputs": [],
   "source": [
    "# 평가의 개수가 100개 이상인 데이터만 대상 추출 -> 블리언인덱싱\n",
    "best_100_over = movie_state['rating']['size'] >= 100"
   ]
  },
  {
   "cell_type": "code",
   "execution_count": null,
   "metadata": {},
   "outputs": [],
   "source": [
    "# 오름 차순 정렬하시오 -> 평균기준\n",
    "# 변수명 tmp\n",
    "tmp = movie_state[ best_100_over ].sort_values( by=[ ('rating','mean') ], \n",
    "                                                ascending=False)\n",
    "tmp.head()"
   ]
  },
  {
   "cell_type": "code",
   "execution_count": null,
   "metadata": {},
   "outputs": [],
   "source": [
    "tmp.tail()"
   ]
  },
  {
   "cell_type": "code",
   "execution_count": null,
   "metadata": {},
   "outputs": [],
   "source": [
    "tmp.shape"
   ]
  },
  {
   "cell_type": "code",
   "execution_count": null,
   "metadata": {},
   "outputs": [],
   "source": [
    "# 간단한 시각화\n",
    "# 영화별 평점 개수 : x축\n",
    "# 사용자별 평가 횟수 : y축 \n",
    "from matplotlib import pyplot as plt\n",
    "from korea_font import initKoreaFontLoad\n",
    "initKoreaFontLoad()"
   ]
  },
  {
   "cell_type": "code",
   "execution_count": null,
   "metadata": {},
   "outputs": [],
   "source": [
    "#%matplotlib inline"
   ]
  },
  {
   "cell_type": "code",
   "execution_count": null,
   "metadata": {},
   "outputs": [],
   "source": [
    "# 사용자별 평점을 내린 개수\n",
    "movie_lens.groupby('uid').size()[:10]"
   ]
  },
  {
   "cell_type": "code",
   "execution_count": null,
   "metadata": {},
   "outputs": [],
   "source": [
    "# 히스토그램 \n",
    "plt.style.use('ggplot')\n",
    "movie_lens.groupby('uid').size().sort_values( ascending=False ).hist()\n",
    "# 빈도가 낮아지는 그래프 모양 -> 길게 꼬리르 늘어뜨리는 모양이다 => 롱테일분포\n",
    "# \"지프의 법칙\"을 따르는 굴곡 모양이다\n",
    "# 자연어 말뭉치 표현에 나타나는 단어들을 그 사용 빈도가 높은순으로 나열하면,\n",
    "# 모든 단어의 사용 빈도는 해당 단어의 빈도 순위에 반비례한다\n",
    "# 영화의 평가가 많으면, 그 사용들중에는 1회성 평가회수도 많다"
   ]
  },
  {
   "cell_type": "code",
   "execution_count": null,
   "metadata": {},
   "outputs": [],
   "source": [
    "# 사용자별 평가 회수, 평균 \n",
    "user_state = movie_lens.groupby('uid').agg( { 'rating' : [ np.size, np.mean ]} )\n",
    "user_state.head()"
   ]
  },
  {
   "cell_type": "code",
   "execution_count": null,
   "metadata": {},
   "outputs": [],
   "source": [
    "user_state.shape"
   ]
  },
  {
   "cell_type": "code",
   "execution_count": null,
   "metadata": {},
   "outputs": [],
   "source": [
    "user_state['rating'].describe()\n",
    "# 평균값 데이터를 보면, 최저 1.49점, 최대 4.87점, 25~75% 지점의 모두다 3.대에\\\n",
    "# 머물러 있어서, 일반적으로 (평균적으로) 3.59정도는 받는다 (3점이상는 받는다)\n",
    "# 3점이하는 진짜 영화가 아닌것이다.\n",
    "# 최대 점수와 최저 점수는 편중된것으로 보인다"
   ]
  },
  {
   "cell_type": "markdown",
   "metadata": {},
   "source": [
    "#### 인수분해 머신을 이용한 추천 시스템 구성\n",
    "\n",
    "- 행렬 인수 분해라는 기능을 일반화한 알고리즘 -> 차원축소기법\n",
    "- 회소 행렬을 다룰소 있는 알고리즘\n",
    "- 특징끼리 영향을 주고 받는 상호 작용 개념을 계산에 적용이 가능\n",
    "- 범주형 변수를 더미 변수(파생 변수)로 변환하여 범주간 상호 작용성도 계산 가능\n",
    "- 알고리즘은 회귀, 분류, 학습등도 가능  \n",
    "- C++로 만들어진 libFM이라는 알고리즘이 가장 유명 -> 파이썬으로 구성된 fastFM "
   ]
  },
  {
   "cell_type": "markdown",
   "metadata": {},
   "source": [
    "##### fastFM 제공 알고리즘\n",
    "- ALS : 교대 최소 제곱법\n",
    " > 장점: 예측 시간 빠름, SGD보다 하이퍼파라이터가 작다  \n",
    " > 단점: 규제 반드시(필수)\n",
    "- SGD : 확률적 경사하강법 \n",
    " > 장점: 예측 시간 빠름, 대규모 데이터(빅데이터)를 빠르게 학습할수 있다  \n",
    " > 단점: 규제 반드시(필수), 하이퍼파라이터가 많다  \n",
    "- MCMC : 마르코프 연쇄 몬테카를로\n",
    " > 장점: 하이퍼파라이터가 작다. 자동 규제(알아서적용)\n",
    " > 단점: 학습 시간이 다소 느림"
   ]
  },
  {
   "cell_type": "markdown",
   "metadata": {},
   "source": [
    "#### 도커 도입\n",
    "\n",
    "- 사용하고자 하는 오픈소스 알고리즘(모듈)중에는 윈도우에서 수행이 불가능한 경우가 많다. \n",
    "- 도커를 이용하여 리눅스 생태계를 만들고, 거기서 fastFM 을 설치후 주피터를 연결하여 개발을 이어가겟다."
   ]
  },
  {
   "cell_type": "code",
   "execution_count": null,
   "metadata": {},
   "outputs": [],
   "source": [
    "# 도커 설치\n",
    "# 1. 도커 가입\n",
    "- docker.com\n",
    "\n",
    "# 2. 도커 다운로드 및 설치 (윈도우용)\n",
    "- https://www.docker.com/products/docker-desktop\n",
    "- 다운로드 및 설치 850MB\n",
    "or \n",
    "[ 공식적으로는 window 10 home 에디션 이하 ]\n",
    "- https://github.com/docker/toolbox/releases\n",
    "- 다운로드및 설치\n",
    "  (별도 체크박스 수정없이 다 긍정 및 확인 하면서 설치)\n",
    "\n",
    "# 3. 도커 콘솔 가동 (docker desktop)\n",
    "$ docker version\n",
    "\n",
    "# 4. 컨테이너 이미지 다운로드 (도커 허브에서 다운로드)\n",
    "$ docker pull ubuntu:latest\n",
    "-> 네트워크가 않되는 사람( docker version 수행서 서버 접속 에러난 경우)\n",
    "$ dockerCli.exe -SwitchDaemon\n",
    "$ docker version\n",
    "-> 위에 명령 수행후확인\n",
    "-> 그래도 않되면 도커툴 설치후 도커툴에서 진행\n",
    "\n",
    "or\n",
    "$ docker pull ubuntu:18.04\n",
    "\n",
    "# 5. 다운로드한 이미지 확인\n",
    "$ docker images\n",
    "\n",
    "# 6. 다운로드한 이미지 제거\n",
    "$ docker rmi ubuntu:latest\n",
    "- 확인\n",
    "$ docker images\n",
    "\n",
    "# 7. 컨테이너 이미지를 이용하여 컨테이너 생성 및 로그인\n",
    "# 단 포트는 컨테이너를 생성할때 단 한번 세팅이 가능\n",
    "$ docker run -p 8888:8888 -p 8123:8123 --name ml -i -t ubuntu:latest /bin/bash\n",
    "=> -p  인바운드포트:아웃바운트포트, 1회만 세팅, 필요한 만큼 추가\n",
    "=> --name 컨테이너 인스턴스의 이름\n",
    "=> -i(interactive), -t(Pseudo-tty) 이 옵션 추가하면 Bash shell에 \n",
    "   입력 및 출력을 수행할수 있다\n",
    "=> ubuntu:latest 설치할 이미지\n",
    "=> /bin/bash는 커맨드 쉘의 한 종류, 이를 사용하기 위해 명령어 입력\n",
    "\n",
    "# 8. 리눅스에서 빠져나가기\n",
    "root@$ exit\n",
    "\n",
    "# 9. 컨테이너 인스턴스의 목록\n",
    "$ docker ps -a\n",
    "\n",
    "# 10. 컨테이너 인스턴스 가동\n",
    "$ docker start ml\n",
    "$ docker ps -a\n",
    "\n",
    "# 11. 재가동\n",
    "$ docker restart ml\n",
    "\n",
    "# 12. 접속\n",
    "$ docker attach ml\n",
    "root@$ ...\n",
    "\n",
    "# 13. 리눅스는 나가서, 컨테이너 인스턴스 제거\n",
    "root@$ exit\n",
    "$ docker rm ml\n",
    "$ docker ps -a"
   ]
  },
  {
   "cell_type": "code",
   "execution_count": null,
   "metadata": {},
   "outputs": [],
   "source": [
    "# 14. 리눅스상에서 환경 구축\n",
    "root@$ apt-get update && apt-get -y upgrade\n",
    "\n",
    "-> https://github.com/ibayer/fastFM\n",
    "\n",
    "- 패키지 설치\n",
    "root@$ apt-get -y install python3-dev libopenblas-dev git python3-pip nano wget unzip\n",
    "\n",
    "- fastFM 소스 다운로드\n",
    "root@$ cd home\n",
    "root@$ git clone --recursive https://github.com/ibayer/fastFM.git\n",
    "root@$ cd fastFM    \n",
    "\n",
    "- 파이썬 라이브러리 설치\n",
    "root@$ pip3 install -r ./requirements.txt\n",
    "\n",
    "- 빌드 -> 중간에이나 끝부분에 error 가 보일수도 있다(무시)\n",
    "root@$ PYTHON=python3 make\n",
    "\n",
    "- 패키지 설치\n",
    "root@$ pip3 install .\n",
    "root@$ python3\n",
    ">>> from fastFM import als\n",
    ">>> \n",
    ">>> exit()\n",
    "root@$ pip3 install pandas matplotlib jupyter\n",
    "\n",
    "- 주피터 노트북 가동\n",
    "root@$ jupyter notebook --ip=0.0.0.0 --port=8123 --allow-root --no-browser\n",
    "or \n",
    "root@$ jupyter notebook --ip=0.0.0.0 --allow-root ( 기본 포트 8888 )\n",
    "\n",
    "- 기본 PC에서 브라우저 접속\n",
    "[toolbox 사용자]\n",
    "도커 구동시 IP를 사용\n",
    "docker is configured to use the default machine with IP 192.168.99.100\n",
    "http://192.168.99.100:8123/?token=c4a28a0fec6d6eff0d3d28a9a0d62838f5f7a188cdedf686\n",
    "\n",
    "[일반 사용자]\n",
    "http://127.0.0.1:8123/?token=c4a28a0fec6d6eff0d3d28a9a0d62838f5f7a188cdedf686\n"
   ]
  },
  {
   "cell_type": "code",
   "execution_count": null,
   "metadata": {},
   "outputs": [],
   "source": []
  },
  {
   "cell_type": "code",
   "execution_count": null,
   "metadata": {},
   "outputs": [],
   "source": []
  }
 ],
 "metadata": {
  "kernelspec": {
   "display_name": "Python 3",
   "language": "python",
   "name": "python3"
  },
  "language_info": {
   "codemirror_mode": {
    "name": "ipython",
    "version": 3
   },
   "file_extension": ".py",
   "mimetype": "text/x-python",
   "name": "python",
   "nbconvert_exporter": "python",
   "pygments_lexer": "ipython3",
   "version": "3.6.5"
  }
 },
 "nbformat": 4,
 "nbformat_minor": 2
}
