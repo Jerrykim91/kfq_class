{
 "cells": [
  {
   "cell_type": "markdown",
   "metadata": {},
   "source": [
    "#### 데이터 로드 및 살펴보기"
   ]
  },
  {
   "cell_type": "code",
   "execution_count": 31,
   "metadata": {},
   "outputs": [],
   "source": [
    "import pandas as pd"
   ]
  },
  {
   "cell_type": "code",
   "execution_count": 32,
   "metadata": {},
   "outputs": [
    {
     "data": {
      "text/plain": [
       "(943, 5)"
      ]
     },
     "execution_count": 32,
     "metadata": {},
     "output_type": "execute_result"
    }
   ],
   "source": [
    "# 고객 정보 로드\n",
    "# 고객 정보 컬럼 ; 아이디, 나이, 성별, 직업, 주소(우편번호)\n",
    "cols  = ['uid','age','sex','job','zip_code']\n",
    "users = pd.read_csv( './ml-100k/u.user', sep='|', names=cols )\n",
    "users.shape"
   ]
  },
  {
   "cell_type": "code",
   "execution_count": 33,
   "metadata": {},
   "outputs": [
    {
     "data": {
      "text/html": [
       "<div>\n",
       "<style scoped>\n",
       "    .dataframe tbody tr th:only-of-type {\n",
       "        vertical-align: middle;\n",
       "    }\n",
       "\n",
       "    .dataframe tbody tr th {\n",
       "        vertical-align: top;\n",
       "    }\n",
       "\n",
       "    .dataframe thead th {\n",
       "        text-align: right;\n",
       "    }\n",
       "</style>\n",
       "<table border=\"1\" class=\"dataframe\">\n",
       "  <thead>\n",
       "    <tr style=\"text-align: right;\">\n",
       "      <th></th>\n",
       "      <th>uid</th>\n",
       "      <th>age</th>\n",
       "      <th>sex</th>\n",
       "      <th>job</th>\n",
       "      <th>zip_code</th>\n",
       "    </tr>\n",
       "  </thead>\n",
       "  <tbody>\n",
       "    <tr>\n",
       "      <td>0</td>\n",
       "      <td>1</td>\n",
       "      <td>24</td>\n",
       "      <td>M</td>\n",
       "      <td>technician</td>\n",
       "      <td>85711</td>\n",
       "    </tr>\n",
       "    <tr>\n",
       "      <td>1</td>\n",
       "      <td>2</td>\n",
       "      <td>53</td>\n",
       "      <td>F</td>\n",
       "      <td>other</td>\n",
       "      <td>94043</td>\n",
       "    </tr>\n",
       "    <tr>\n",
       "      <td>2</td>\n",
       "      <td>3</td>\n",
       "      <td>23</td>\n",
       "      <td>M</td>\n",
       "      <td>writer</td>\n",
       "      <td>32067</td>\n",
       "    </tr>\n",
       "    <tr>\n",
       "      <td>3</td>\n",
       "      <td>4</td>\n",
       "      <td>24</td>\n",
       "      <td>M</td>\n",
       "      <td>technician</td>\n",
       "      <td>43537</td>\n",
       "    </tr>\n",
       "    <tr>\n",
       "      <td>4</td>\n",
       "      <td>5</td>\n",
       "      <td>33</td>\n",
       "      <td>F</td>\n",
       "      <td>other</td>\n",
       "      <td>15213</td>\n",
       "    </tr>\n",
       "  </tbody>\n",
       "</table>\n",
       "</div>"
      ],
      "text/plain": [
       "   uid  age sex         job zip_code\n",
       "0    1   24   M  technician    85711\n",
       "1    2   53   F       other    94043\n",
       "2    3   23   M      writer    32067\n",
       "3    4   24   M  technician    43537\n",
       "4    5   33   F       other    15213"
      ]
     },
     "execution_count": 33,
     "metadata": {},
     "output_type": "execute_result"
    }
   ],
   "source": [
    "users.head()"
   ]
  },
  {
   "cell_type": "code",
   "execution_count": 34,
   "metadata": {},
   "outputs": [
    {
     "data": {
      "text/html": [
       "<div>\n",
       "<style scoped>\n",
       "    .dataframe tbody tr th:only-of-type {\n",
       "        vertical-align: middle;\n",
       "    }\n",
       "\n",
       "    .dataframe tbody tr th {\n",
       "        vertical-align: top;\n",
       "    }\n",
       "\n",
       "    .dataframe thead th {\n",
       "        text-align: right;\n",
       "    }\n",
       "</style>\n",
       "<table border=\"1\" class=\"dataframe\">\n",
       "  <thead>\n",
       "    <tr style=\"text-align: right;\">\n",
       "      <th></th>\n",
       "      <th>mid</th>\n",
       "      <th>title</th>\n",
       "      <th>relese_date</th>\n",
       "      <th>video_relese_date</th>\n",
       "      <th>imdb_url</th>\n",
       "    </tr>\n",
       "  </thead>\n",
       "  <tbody>\n",
       "    <tr>\n",
       "      <td>0</td>\n",
       "      <td>1</td>\n",
       "      <td>Toy Story (1995)</td>\n",
       "      <td>01-Jan-1995</td>\n",
       "      <td>NaN</td>\n",
       "      <td>http://us.imdb.com/M/title-exact?Toy%20Story%2...</td>\n",
       "    </tr>\n",
       "    <tr>\n",
       "      <td>1</td>\n",
       "      <td>2</td>\n",
       "      <td>GoldenEye (1995)</td>\n",
       "      <td>01-Jan-1995</td>\n",
       "      <td>NaN</td>\n",
       "      <td>http://us.imdb.com/M/title-exact?GoldenEye%20(...</td>\n",
       "    </tr>\n",
       "    <tr>\n",
       "      <td>2</td>\n",
       "      <td>3</td>\n",
       "      <td>Four Rooms (1995)</td>\n",
       "      <td>01-Jan-1995</td>\n",
       "      <td>NaN</td>\n",
       "      <td>http://us.imdb.com/M/title-exact?Four%20Rooms%...</td>\n",
       "    </tr>\n",
       "    <tr>\n",
       "      <td>3</td>\n",
       "      <td>4</td>\n",
       "      <td>Get Shorty (1995)</td>\n",
       "      <td>01-Jan-1995</td>\n",
       "      <td>NaN</td>\n",
       "      <td>http://us.imdb.com/M/title-exact?Get%20Shorty%...</td>\n",
       "    </tr>\n",
       "    <tr>\n",
       "      <td>4</td>\n",
       "      <td>5</td>\n",
       "      <td>Copycat (1995)</td>\n",
       "      <td>01-Jan-1995</td>\n",
       "      <td>NaN</td>\n",
       "      <td>http://us.imdb.com/M/title-exact?Copycat%20(1995)</td>\n",
       "    </tr>\n",
       "  </tbody>\n",
       "</table>\n",
       "</div>"
      ],
      "text/plain": [
       "   mid              title  relese_date  video_relese_date  \\\n",
       "0    1   Toy Story (1995)  01-Jan-1995                NaN   \n",
       "1    2   GoldenEye (1995)  01-Jan-1995                NaN   \n",
       "2    3  Four Rooms (1995)  01-Jan-1995                NaN   \n",
       "3    4  Get Shorty (1995)  01-Jan-1995                NaN   \n",
       "4    5     Copycat (1995)  01-Jan-1995                NaN   \n",
       "\n",
       "                                            imdb_url  \n",
       "0  http://us.imdb.com/M/title-exact?Toy%20Story%2...  \n",
       "1  http://us.imdb.com/M/title-exact?GoldenEye%20(...  \n",
       "2  http://us.imdb.com/M/title-exact?Four%20Rooms%...  \n",
       "3  http://us.imdb.com/M/title-exact?Get%20Shorty%...  \n",
       "4  http://us.imdb.com/M/title-exact?Copycat%20(1995)  "
      ]
     },
     "execution_count": 34,
     "metadata": {},
     "output_type": "execute_result"
    }
   ],
   "source": [
    "# 영화 정보 로드\n",
    "# 영화ID, 제목, 개봉일, 비디오개봉일, imdb 주소\n",
    "m_cols = ['mid','title','relese_date','video_relese_date','imdb_url']\n",
    "# 실제 데이터에 컬럼이 더 많은데, 앞에서부터 잘라서 적용하고 싶다\n",
    "movies = pd.read_csv( './ml-100k/u.item', sep='|', names=m_cols, \n",
    "                      encoding='latin1', usecols=range(5) )\n",
    "movies.head()"
   ]
  },
  {
   "cell_type": "code",
   "execution_count": 35,
   "metadata": {},
   "outputs": [
    {
     "data": {
      "text/plain": [
       "(1682, 5)"
      ]
     },
     "execution_count": 35,
     "metadata": {},
     "output_type": "execute_result"
    }
   ],
   "source": [
    "movies.shape"
   ]
  },
  {
   "cell_type": "markdown",
   "metadata": {},
   "source": [
    "- u.user : 고객 정보\n",
    "- u.item : 영화 정보\n",
    "- u.data : 평점 정보"
   ]
  },
  {
   "cell_type": "code",
   "execution_count": 36,
   "metadata": {
    "scrolled": true
   },
   "outputs": [
    {
     "data": {
      "text/plain": [
       "(100000, 4)"
      ]
     },
     "execution_count": 36,
     "metadata": {},
     "output_type": "execute_result"
    }
   ],
   "source": [
    "# 평점 정보\n",
    "ratings_cols    = ['uid','mid','rating','unix_timestamp']\n",
    "ratings = pd.read_csv( './ml-100k/u.data', sep='\\t', names=ratings_cols )\n",
    "ratings.shape"
   ]
  },
  {
   "cell_type": "code",
   "execution_count": 37,
   "metadata": {},
   "outputs": [
    {
     "data": {
      "text/html": [
       "<div>\n",
       "<style scoped>\n",
       "    .dataframe tbody tr th:only-of-type {\n",
       "        vertical-align: middle;\n",
       "    }\n",
       "\n",
       "    .dataframe tbody tr th {\n",
       "        vertical-align: top;\n",
       "    }\n",
       "\n",
       "    .dataframe thead th {\n",
       "        text-align: right;\n",
       "    }\n",
       "</style>\n",
       "<table border=\"1\" class=\"dataframe\">\n",
       "  <thead>\n",
       "    <tr style=\"text-align: right;\">\n",
       "      <th></th>\n",
       "      <th>uid</th>\n",
       "      <th>mid</th>\n",
       "      <th>rating</th>\n",
       "      <th>unix_timestamp</th>\n",
       "    </tr>\n",
       "  </thead>\n",
       "  <tbody>\n",
       "    <tr>\n",
       "      <td>0</td>\n",
       "      <td>196</td>\n",
       "      <td>242</td>\n",
       "      <td>3</td>\n",
       "      <td>881250949</td>\n",
       "    </tr>\n",
       "    <tr>\n",
       "      <td>1</td>\n",
       "      <td>186</td>\n",
       "      <td>302</td>\n",
       "      <td>3</td>\n",
       "      <td>891717742</td>\n",
       "    </tr>\n",
       "    <tr>\n",
       "      <td>2</td>\n",
       "      <td>22</td>\n",
       "      <td>377</td>\n",
       "      <td>1</td>\n",
       "      <td>878887116</td>\n",
       "    </tr>\n",
       "    <tr>\n",
       "      <td>3</td>\n",
       "      <td>244</td>\n",
       "      <td>51</td>\n",
       "      <td>2</td>\n",
       "      <td>880606923</td>\n",
       "    </tr>\n",
       "    <tr>\n",
       "      <td>4</td>\n",
       "      <td>166</td>\n",
       "      <td>346</td>\n",
       "      <td>1</td>\n",
       "      <td>886397596</td>\n",
       "    </tr>\n",
       "  </tbody>\n",
       "</table>\n",
       "</div>"
      ],
      "text/plain": [
       "   uid  mid  rating  unix_timestamp\n",
       "0  196  242       3       881250949\n",
       "1  186  302       3       891717742\n",
       "2   22  377       1       878887116\n",
       "3  244   51       2       880606923\n",
       "4  166  346       1       886397596"
      ]
     },
     "execution_count": 37,
     "metadata": {},
     "output_type": "execute_result"
    }
   ],
   "source": [
    "ratings.head()"
   ]
  },
  {
   "cell_type": "code",
   "execution_count": 38,
   "metadata": {},
   "outputs": [],
   "source": [
    "# unix_timestamp -> 우리가 알수 있는 YYYY-MM-dd hh:mm:ss\n",
    "# date라는 컬럼에 추가\n",
    "ratings[ 'date' ] = pd.to_datetime( ratings[ 'unix_timestamp' ], unit='s' )"
   ]
  },
  {
   "cell_type": "code",
   "execution_count": 39,
   "metadata": {
    "scrolled": true
   },
   "outputs": [
    {
     "data": {
      "text/html": [
       "<div>\n",
       "<style scoped>\n",
       "    .dataframe tbody tr th:only-of-type {\n",
       "        vertical-align: middle;\n",
       "    }\n",
       "\n",
       "    .dataframe tbody tr th {\n",
       "        vertical-align: top;\n",
       "    }\n",
       "\n",
       "    .dataframe thead th {\n",
       "        text-align: right;\n",
       "    }\n",
       "</style>\n",
       "<table border=\"1\" class=\"dataframe\">\n",
       "  <thead>\n",
       "    <tr style=\"text-align: right;\">\n",
       "      <th></th>\n",
       "      <th>uid</th>\n",
       "      <th>mid</th>\n",
       "      <th>rating</th>\n",
       "      <th>unix_timestamp</th>\n",
       "      <th>date</th>\n",
       "    </tr>\n",
       "  </thead>\n",
       "  <tbody>\n",
       "    <tr>\n",
       "      <td>0</td>\n",
       "      <td>196</td>\n",
       "      <td>242</td>\n",
       "      <td>3</td>\n",
       "      <td>881250949</td>\n",
       "      <td>1997-12-04 15:55:49</td>\n",
       "    </tr>\n",
       "    <tr>\n",
       "      <td>1</td>\n",
       "      <td>186</td>\n",
       "      <td>302</td>\n",
       "      <td>3</td>\n",
       "      <td>891717742</td>\n",
       "      <td>1998-04-04 19:22:22</td>\n",
       "    </tr>\n",
       "    <tr>\n",
       "      <td>2</td>\n",
       "      <td>22</td>\n",
       "      <td>377</td>\n",
       "      <td>1</td>\n",
       "      <td>878887116</td>\n",
       "      <td>1997-11-07 07:18:36</td>\n",
       "    </tr>\n",
       "    <tr>\n",
       "      <td>3</td>\n",
       "      <td>244</td>\n",
       "      <td>51</td>\n",
       "      <td>2</td>\n",
       "      <td>880606923</td>\n",
       "      <td>1997-11-27 05:02:03</td>\n",
       "    </tr>\n",
       "    <tr>\n",
       "      <td>4</td>\n",
       "      <td>166</td>\n",
       "      <td>346</td>\n",
       "      <td>1</td>\n",
       "      <td>886397596</td>\n",
       "      <td>1998-02-02 05:33:16</td>\n",
       "    </tr>\n",
       "  </tbody>\n",
       "</table>\n",
       "</div>"
      ],
      "text/plain": [
       "   uid  mid  rating  unix_timestamp                date\n",
       "0  196  242       3       881250949 1997-12-04 15:55:49\n",
       "1  186  302       3       891717742 1998-04-04 19:22:22\n",
       "2   22  377       1       878887116 1997-11-07 07:18:36\n",
       "3  244   51       2       880606923 1997-11-27 05:02:03\n",
       "4  166  346       1       886397596 1998-02-02 05:33:16"
      ]
     },
     "execution_count": 39,
     "metadata": {},
     "output_type": "execute_result"
    }
   ],
   "source": [
    "ratings.head()"
   ]
  },
  {
   "cell_type": "markdown",
   "metadata": {},
   "source": [
    "#### 데이터 준비/시각화/통찰"
   ]
  },
  {
   "cell_type": "code",
   "execution_count": 40,
   "metadata": {},
   "outputs": [
    {
     "data": {
      "text/html": [
       "<div>\n",
       "<style scoped>\n",
       "    .dataframe tbody tr th:only-of-type {\n",
       "        vertical-align: middle;\n",
       "    }\n",
       "\n",
       "    .dataframe tbody tr th {\n",
       "        vertical-align: top;\n",
       "    }\n",
       "\n",
       "    .dataframe thead th {\n",
       "        text-align: right;\n",
       "    }\n",
       "</style>\n",
       "<table border=\"1\" class=\"dataframe\">\n",
       "  <thead>\n",
       "    <tr style=\"text-align: right;\">\n",
       "      <th></th>\n",
       "      <th>mid</th>\n",
       "      <th>title</th>\n",
       "      <th>relese_date</th>\n",
       "      <th>video_relese_date</th>\n",
       "      <th>imdb_url</th>\n",
       "      <th>uid</th>\n",
       "      <th>rating</th>\n",
       "      <th>unix_timestamp</th>\n",
       "      <th>date</th>\n",
       "    </tr>\n",
       "  </thead>\n",
       "  <tbody>\n",
       "    <tr>\n",
       "      <td>0</td>\n",
       "      <td>1</td>\n",
       "      <td>Toy Story (1995)</td>\n",
       "      <td>01-Jan-1995</td>\n",
       "      <td>NaN</td>\n",
       "      <td>http://us.imdb.com/M/title-exact?Toy%20Story%2...</td>\n",
       "      <td>308</td>\n",
       "      <td>4</td>\n",
       "      <td>887736532</td>\n",
       "      <td>1998-02-17 17:28:52</td>\n",
       "    </tr>\n",
       "    <tr>\n",
       "      <td>1</td>\n",
       "      <td>1</td>\n",
       "      <td>Toy Story (1995)</td>\n",
       "      <td>01-Jan-1995</td>\n",
       "      <td>NaN</td>\n",
       "      <td>http://us.imdb.com/M/title-exact?Toy%20Story%2...</td>\n",
       "      <td>287</td>\n",
       "      <td>5</td>\n",
       "      <td>875334088</td>\n",
       "      <td>1997-09-27 04:21:28</td>\n",
       "    </tr>\n",
       "    <tr>\n",
       "      <td>2</td>\n",
       "      <td>1</td>\n",
       "      <td>Toy Story (1995)</td>\n",
       "      <td>01-Jan-1995</td>\n",
       "      <td>NaN</td>\n",
       "      <td>http://us.imdb.com/M/title-exact?Toy%20Story%2...</td>\n",
       "      <td>148</td>\n",
       "      <td>4</td>\n",
       "      <td>877019411</td>\n",
       "      <td>1997-10-16 16:30:11</td>\n",
       "    </tr>\n",
       "    <tr>\n",
       "      <td>3</td>\n",
       "      <td>1</td>\n",
       "      <td>Toy Story (1995)</td>\n",
       "      <td>01-Jan-1995</td>\n",
       "      <td>NaN</td>\n",
       "      <td>http://us.imdb.com/M/title-exact?Toy%20Story%2...</td>\n",
       "      <td>280</td>\n",
       "      <td>4</td>\n",
       "      <td>891700426</td>\n",
       "      <td>1998-04-04 14:33:46</td>\n",
       "    </tr>\n",
       "    <tr>\n",
       "      <td>4</td>\n",
       "      <td>1</td>\n",
       "      <td>Toy Story (1995)</td>\n",
       "      <td>01-Jan-1995</td>\n",
       "      <td>NaN</td>\n",
       "      <td>http://us.imdb.com/M/title-exact?Toy%20Story%2...</td>\n",
       "      <td>66</td>\n",
       "      <td>3</td>\n",
       "      <td>883601324</td>\n",
       "      <td>1997-12-31 20:48:44</td>\n",
       "    </tr>\n",
       "  </tbody>\n",
       "</table>\n",
       "</div>"
      ],
      "text/plain": [
       "   mid             title  relese_date  video_relese_date  \\\n",
       "0    1  Toy Story (1995)  01-Jan-1995                NaN   \n",
       "1    1  Toy Story (1995)  01-Jan-1995                NaN   \n",
       "2    1  Toy Story (1995)  01-Jan-1995                NaN   \n",
       "3    1  Toy Story (1995)  01-Jan-1995                NaN   \n",
       "4    1  Toy Story (1995)  01-Jan-1995                NaN   \n",
       "\n",
       "                                            imdb_url  uid  rating  \\\n",
       "0  http://us.imdb.com/M/title-exact?Toy%20Story%2...  308       4   \n",
       "1  http://us.imdb.com/M/title-exact?Toy%20Story%2...  287       5   \n",
       "2  http://us.imdb.com/M/title-exact?Toy%20Story%2...  148       4   \n",
       "3  http://us.imdb.com/M/title-exact?Toy%20Story%2...  280       4   \n",
       "4  http://us.imdb.com/M/title-exact?Toy%20Story%2...   66       3   \n",
       "\n",
       "   unix_timestamp                date  \n",
       "0       887736532 1998-02-17 17:28:52  \n",
       "1       875334088 1997-09-27 04:21:28  \n",
       "2       877019411 1997-10-16 16:30:11  \n",
       "3       891700426 1998-04-04 14:33:46  \n",
       "4       883601324 1997-12-31 20:48:44  "
      ]
     },
     "execution_count": 40,
     "metadata": {},
     "output_type": "execute_result"
    }
   ],
   "source": [
    "# 정보 병합\n",
    "# movies, ratings, users\n",
    "# movies, ratings => 병합 movies_ratings\n",
    "movies_ratings = pd.merge( movies, ratings )\n",
    "movies_ratings.head()"
   ]
  },
  {
   "cell_type": "code",
   "execution_count": 41,
   "metadata": {},
   "outputs": [
    {
     "data": {
      "text/plain": [
       "(100000, 9)"
      ]
     },
     "execution_count": 41,
     "metadata": {},
     "output_type": "execute_result"
    }
   ],
   "source": [
    "movies_ratings.shape"
   ]
  },
  {
   "cell_type": "code",
   "execution_count": 42,
   "metadata": {},
   "outputs": [
    {
     "data": {
      "text/html": [
       "<div>\n",
       "<style scoped>\n",
       "    .dataframe tbody tr th:only-of-type {\n",
       "        vertical-align: middle;\n",
       "    }\n",
       "\n",
       "    .dataframe tbody tr th {\n",
       "        vertical-align: top;\n",
       "    }\n",
       "\n",
       "    .dataframe thead th {\n",
       "        text-align: right;\n",
       "    }\n",
       "</style>\n",
       "<table border=\"1\" class=\"dataframe\">\n",
       "  <thead>\n",
       "    <tr style=\"text-align: right;\">\n",
       "      <th></th>\n",
       "      <th>mid</th>\n",
       "      <th>title</th>\n",
       "      <th>relese_date</th>\n",
       "      <th>video_relese_date</th>\n",
       "      <th>imdb_url</th>\n",
       "      <th>uid</th>\n",
       "      <th>rating</th>\n",
       "      <th>unix_timestamp</th>\n",
       "      <th>date</th>\n",
       "      <th>age</th>\n",
       "      <th>sex</th>\n",
       "      <th>job</th>\n",
       "      <th>zip_code</th>\n",
       "    </tr>\n",
       "  </thead>\n",
       "  <tbody>\n",
       "    <tr>\n",
       "      <td>0</td>\n",
       "      <td>1</td>\n",
       "      <td>Toy Story (1995)</td>\n",
       "      <td>01-Jan-1995</td>\n",
       "      <td>NaN</td>\n",
       "      <td>http://us.imdb.com/M/title-exact?Toy%20Story%2...</td>\n",
       "      <td>308</td>\n",
       "      <td>4</td>\n",
       "      <td>887736532</td>\n",
       "      <td>1998-02-17 17:28:52</td>\n",
       "      <td>60</td>\n",
       "      <td>M</td>\n",
       "      <td>retired</td>\n",
       "      <td>95076</td>\n",
       "    </tr>\n",
       "    <tr>\n",
       "      <td>1</td>\n",
       "      <td>4</td>\n",
       "      <td>Get Shorty (1995)</td>\n",
       "      <td>01-Jan-1995</td>\n",
       "      <td>NaN</td>\n",
       "      <td>http://us.imdb.com/M/title-exact?Get%20Shorty%...</td>\n",
       "      <td>308</td>\n",
       "      <td>5</td>\n",
       "      <td>887737890</td>\n",
       "      <td>1998-02-17 17:51:30</td>\n",
       "      <td>60</td>\n",
       "      <td>M</td>\n",
       "      <td>retired</td>\n",
       "      <td>95076</td>\n",
       "    </tr>\n",
       "    <tr>\n",
       "      <td>2</td>\n",
       "      <td>5</td>\n",
       "      <td>Copycat (1995)</td>\n",
       "      <td>01-Jan-1995</td>\n",
       "      <td>NaN</td>\n",
       "      <td>http://us.imdb.com/M/title-exact?Copycat%20(1995)</td>\n",
       "      <td>308</td>\n",
       "      <td>4</td>\n",
       "      <td>887739608</td>\n",
       "      <td>1998-02-17 18:20:08</td>\n",
       "      <td>60</td>\n",
       "      <td>M</td>\n",
       "      <td>retired</td>\n",
       "      <td>95076</td>\n",
       "    </tr>\n",
       "    <tr>\n",
       "      <td>3</td>\n",
       "      <td>7</td>\n",
       "      <td>Twelve Monkeys (1995)</td>\n",
       "      <td>01-Jan-1995</td>\n",
       "      <td>NaN</td>\n",
       "      <td>http://us.imdb.com/M/title-exact?Twelve%20Monk...</td>\n",
       "      <td>308</td>\n",
       "      <td>4</td>\n",
       "      <td>887738847</td>\n",
       "      <td>1998-02-17 18:07:27</td>\n",
       "      <td>60</td>\n",
       "      <td>M</td>\n",
       "      <td>retired</td>\n",
       "      <td>95076</td>\n",
       "    </tr>\n",
       "    <tr>\n",
       "      <td>4</td>\n",
       "      <td>8</td>\n",
       "      <td>Babe (1995)</td>\n",
       "      <td>01-Jan-1995</td>\n",
       "      <td>NaN</td>\n",
       "      <td>http://us.imdb.com/M/title-exact?Babe%20(1995)</td>\n",
       "      <td>308</td>\n",
       "      <td>5</td>\n",
       "      <td>887736696</td>\n",
       "      <td>1998-02-17 17:31:36</td>\n",
       "      <td>60</td>\n",
       "      <td>M</td>\n",
       "      <td>retired</td>\n",
       "      <td>95076</td>\n",
       "    </tr>\n",
       "  </tbody>\n",
       "</table>\n",
       "</div>"
      ],
      "text/plain": [
       "   mid                  title  relese_date  video_relese_date  \\\n",
       "0    1       Toy Story (1995)  01-Jan-1995                NaN   \n",
       "1    4      Get Shorty (1995)  01-Jan-1995                NaN   \n",
       "2    5         Copycat (1995)  01-Jan-1995                NaN   \n",
       "3    7  Twelve Monkeys (1995)  01-Jan-1995                NaN   \n",
       "4    8            Babe (1995)  01-Jan-1995                NaN   \n",
       "\n",
       "                                            imdb_url  uid  rating  \\\n",
       "0  http://us.imdb.com/M/title-exact?Toy%20Story%2...  308       4   \n",
       "1  http://us.imdb.com/M/title-exact?Get%20Shorty%...  308       5   \n",
       "2  http://us.imdb.com/M/title-exact?Copycat%20(1995)  308       4   \n",
       "3  http://us.imdb.com/M/title-exact?Twelve%20Monk...  308       4   \n",
       "4     http://us.imdb.com/M/title-exact?Babe%20(1995)  308       5   \n",
       "\n",
       "   unix_timestamp                date  age sex      job zip_code  \n",
       "0       887736532 1998-02-17 17:28:52   60   M  retired    95076  \n",
       "1       887737890 1998-02-17 17:51:30   60   M  retired    95076  \n",
       "2       887739608 1998-02-17 18:20:08   60   M  retired    95076  \n",
       "3       887738847 1998-02-17 18:07:27   60   M  retired    95076  \n",
       "4       887736696 1998-02-17 17:31:36   60   M  retired    95076  "
      ]
     },
     "execution_count": 42,
     "metadata": {},
     "output_type": "execute_result"
    }
   ],
   "source": [
    "movie_lens = pd.merge( movies_ratings, users)\n",
    "movie_lens.head()"
   ]
  },
  {
   "cell_type": "code",
   "execution_count": 43,
   "metadata": {},
   "outputs": [
    {
     "data": {
      "text/plain": [
       "(100000, 13)"
      ]
     },
     "execution_count": 43,
     "metadata": {},
     "output_type": "execute_result"
    }
   ],
   "source": [
    "movie_lens.shape"
   ]
  },
  {
   "cell_type": "code",
   "execution_count": 44,
   "metadata": {},
   "outputs": [
    {
     "data": {
      "text/plain": [
       "Star Wars (1977)                 583\n",
       "Contact (1997)                   509\n",
       "Fargo (1996)                     508\n",
       "Return of the Jedi (1983)        507\n",
       "Liar Liar (1997)                 485\n",
       "English Patient, The (1996)      481\n",
       "Scream (1996)                    478\n",
       "Toy Story (1995)                 452\n",
       "Air Force One (1997)             431\n",
       "Independence Day (ID4) (1996)    429\n",
       "Name: title, dtype: int64"
      ]
     },
     "execution_count": 44,
     "metadata": {},
     "output_type": "execute_result"
    }
   ],
   "source": [
    "# 평가를 가장 많이 받은 작품 상위 10개 \n",
    "movie_lens.title.value_counts()[:10]\n",
    "# 인기가 아주 없는 영화는 빼고(평점 특정 개수 이하는 제외), \n",
    "# 보여지는 데이터를 기준으로 살펴보면 영화가 오래 될수록 평가를 많인 받는 경향이\n",
    "# 보인다. "
   ]
  },
  {
   "cell_type": "code",
   "execution_count": 45,
   "metadata": {},
   "outputs": [
    {
     "data": {
      "text/plain": [
       "King of New York (1990)                     1\n",
       "Vie est belle, La (Life is Rosey) (1987)    1\n",
       "Crude Oasis, The (1995)                     1\n",
       "Wife, The (1995)                            1\n",
       "Dadetown (1995)                             1\n",
       "Tainted (1998)                              1\n",
       "Angela (1995)                               1\n",
       "Here Comes Cookie (1935)                    1\n",
       "Coldblooded (1995)                          1\n",
       "To Cross the Rubicon (1991)                 1\n",
       "Name: title, dtype: int64"
      ]
     },
     "execution_count": 45,
     "metadata": {},
     "output_type": "execute_result"
    }
   ],
   "source": [
    "movie_lens.title.value_counts()[-10:]"
   ]
  },
  {
   "cell_type": "code",
   "execution_count": 46,
   "metadata": {},
   "outputs": [],
   "source": [
    "import numpy as np"
   ]
  },
  {
   "cell_type": "code",
   "execution_count": 47,
   "metadata": {},
   "outputs": [
    {
     "data": {
      "text/html": [
       "<div>\n",
       "<style scoped>\n",
       "    .dataframe tbody tr th:only-of-type {\n",
       "        vertical-align: middle;\n",
       "    }\n",
       "\n",
       "    .dataframe tbody tr th {\n",
       "        vertical-align: top;\n",
       "    }\n",
       "\n",
       "    .dataframe thead tr th {\n",
       "        text-align: left;\n",
       "    }\n",
       "\n",
       "    .dataframe thead tr:last-of-type th {\n",
       "        text-align: right;\n",
       "    }\n",
       "</style>\n",
       "<table border=\"1\" class=\"dataframe\">\n",
       "  <thead>\n",
       "    <tr>\n",
       "      <th></th>\n",
       "      <th colspan=\"2\" halign=\"left\">rating</th>\n",
       "    </tr>\n",
       "    <tr>\n",
       "      <th></th>\n",
       "      <th>size</th>\n",
       "      <th>mean</th>\n",
       "    </tr>\n",
       "    <tr>\n",
       "      <th>title</th>\n",
       "      <th></th>\n",
       "      <th></th>\n",
       "    </tr>\n",
       "  </thead>\n",
       "  <tbody>\n",
       "    <tr>\n",
       "      <td>'Til There Was You (1997)</td>\n",
       "      <td>9</td>\n",
       "      <td>2.333333</td>\n",
       "    </tr>\n",
       "    <tr>\n",
       "      <td>1-900 (1994)</td>\n",
       "      <td>5</td>\n",
       "      <td>2.600000</td>\n",
       "    </tr>\n",
       "    <tr>\n",
       "      <td>101 Dalmatians (1996)</td>\n",
       "      <td>109</td>\n",
       "      <td>2.908257</td>\n",
       "    </tr>\n",
       "    <tr>\n",
       "      <td>12 Angry Men (1957)</td>\n",
       "      <td>125</td>\n",
       "      <td>4.344000</td>\n",
       "    </tr>\n",
       "    <tr>\n",
       "      <td>187 (1997)</td>\n",
       "      <td>41</td>\n",
       "      <td>3.024390</td>\n",
       "    </tr>\n",
       "  </tbody>\n",
       "</table>\n",
       "</div>"
      ],
      "text/plain": [
       "                          rating          \n",
       "                            size      mean\n",
       "title                                     \n",
       "'Til There Was You (1997)      9  2.333333\n",
       "1-900 (1994)                   5  2.600000\n",
       "101 Dalmatians (1996)        109  2.908257\n",
       "12 Angry Men (1957)          125  4.344000\n",
       "187 (1997)                    41  3.024390"
      ]
     },
     "execution_count": 47,
     "metadata": {},
     "output_type": "execute_result"
    }
   ],
   "source": [
    "# 제목기준으로 데이ㅏ터를 나누는데, 평가의 개수, 평점평균을 포함한 데이터 프레임\n",
    "# 인덱스에 title, 컬럼에 평가의 개수:size, 평점평균:mean\n",
    "# 피벗없이 수행\n",
    "# rating : 1차 레벨 컬럼, np.size, np.mean 2차 래벨의 컬럼\n",
    "movie_state = movie_lens.groupby('title').agg( {'rating':[ np.size, np.mean]} )\n",
    "movie_state.head()"
   ]
  },
  {
   "cell_type": "code",
   "execution_count": 48,
   "metadata": {},
   "outputs": [],
   "source": [
    "# 평점을 받는 개수가 1개인 영화, 즉 소수의 평가를 받은 영화가 많다\n",
    "# 평균의 수가 적으면 노이즈가 개입되기 쉽다\n",
    "# 일정 횟수 이상인 경우 (여기서는 100건 기준)만 대상으로 처리하겟다"
   ]
  },
  {
   "cell_type": "code",
   "execution_count": 49,
   "metadata": {},
   "outputs": [],
   "source": [
    "# 평가의 개수가 100개 이상인 데이터만 대상 추출 -> 블리언인덱싱\n",
    "best_100_over = movie_state['rating']['size'] >= 100"
   ]
  },
  {
   "cell_type": "code",
   "execution_count": 50,
   "metadata": {},
   "outputs": [
    {
     "data": {
      "text/html": [
       "<div>\n",
       "<style scoped>\n",
       "    .dataframe tbody tr th:only-of-type {\n",
       "        vertical-align: middle;\n",
       "    }\n",
       "\n",
       "    .dataframe tbody tr th {\n",
       "        vertical-align: top;\n",
       "    }\n",
       "\n",
       "    .dataframe thead tr th {\n",
       "        text-align: left;\n",
       "    }\n",
       "\n",
       "    .dataframe thead tr:last-of-type th {\n",
       "        text-align: right;\n",
       "    }\n",
       "</style>\n",
       "<table border=\"1\" class=\"dataframe\">\n",
       "  <thead>\n",
       "    <tr>\n",
       "      <th></th>\n",
       "      <th colspan=\"2\" halign=\"left\">rating</th>\n",
       "    </tr>\n",
       "    <tr>\n",
       "      <th></th>\n",
       "      <th>size</th>\n",
       "      <th>mean</th>\n",
       "    </tr>\n",
       "    <tr>\n",
       "      <th>title</th>\n",
       "      <th></th>\n",
       "      <th></th>\n",
       "    </tr>\n",
       "  </thead>\n",
       "  <tbody>\n",
       "    <tr>\n",
       "      <td>Close Shave, A (1995)</td>\n",
       "      <td>112</td>\n",
       "      <td>4.491071</td>\n",
       "    </tr>\n",
       "    <tr>\n",
       "      <td>Schindler's List (1993)</td>\n",
       "      <td>298</td>\n",
       "      <td>4.466443</td>\n",
       "    </tr>\n",
       "    <tr>\n",
       "      <td>Wrong Trousers, The (1993)</td>\n",
       "      <td>118</td>\n",
       "      <td>4.466102</td>\n",
       "    </tr>\n",
       "    <tr>\n",
       "      <td>Casablanca (1942)</td>\n",
       "      <td>243</td>\n",
       "      <td>4.456790</td>\n",
       "    </tr>\n",
       "    <tr>\n",
       "      <td>Shawshank Redemption, The (1994)</td>\n",
       "      <td>283</td>\n",
       "      <td>4.445230</td>\n",
       "    </tr>\n",
       "  </tbody>\n",
       "</table>\n",
       "</div>"
      ],
      "text/plain": [
       "                                 rating          \n",
       "                                   size      mean\n",
       "title                                            \n",
       "Close Shave, A (1995)               112  4.491071\n",
       "Schindler's List (1993)             298  4.466443\n",
       "Wrong Trousers, The (1993)          118  4.466102\n",
       "Casablanca (1942)                   243  4.456790\n",
       "Shawshank Redemption, The (1994)    283  4.445230"
      ]
     },
     "execution_count": 50,
     "metadata": {},
     "output_type": "execute_result"
    }
   ],
   "source": [
    "# 오름 차순 정렬하시오 -> 평균기준\n",
    "# 변수명 tmp\n",
    "tmp = movie_state[ best_100_over ].sort_values( by=[ ('rating','mean') ], \n",
    "                                                ascending=False)\n",
    "tmp.head()"
   ]
  },
  {
   "cell_type": "code",
   "execution_count": 51,
   "metadata": {},
   "outputs": [
    {
     "data": {
      "text/html": [
       "<div>\n",
       "<style scoped>\n",
       "    .dataframe tbody tr th:only-of-type {\n",
       "        vertical-align: middle;\n",
       "    }\n",
       "\n",
       "    .dataframe tbody tr th {\n",
       "        vertical-align: top;\n",
       "    }\n",
       "\n",
       "    .dataframe thead tr th {\n",
       "        text-align: left;\n",
       "    }\n",
       "\n",
       "    .dataframe thead tr:last-of-type th {\n",
       "        text-align: right;\n",
       "    }\n",
       "</style>\n",
       "<table border=\"1\" class=\"dataframe\">\n",
       "  <thead>\n",
       "    <tr>\n",
       "      <th></th>\n",
       "      <th colspan=\"2\" halign=\"left\">rating</th>\n",
       "    </tr>\n",
       "    <tr>\n",
       "      <th></th>\n",
       "      <th>size</th>\n",
       "      <th>mean</th>\n",
       "    </tr>\n",
       "    <tr>\n",
       "      <th>title</th>\n",
       "      <th></th>\n",
       "      <th></th>\n",
       "    </tr>\n",
       "  </thead>\n",
       "  <tbody>\n",
       "    <tr>\n",
       "      <td>Spawn (1997)</td>\n",
       "      <td>143</td>\n",
       "      <td>2.615385</td>\n",
       "    </tr>\n",
       "    <tr>\n",
       "      <td>Event Horizon (1997)</td>\n",
       "      <td>127</td>\n",
       "      <td>2.574803</td>\n",
       "    </tr>\n",
       "    <tr>\n",
       "      <td>Crash (1996)</td>\n",
       "      <td>128</td>\n",
       "      <td>2.546875</td>\n",
       "    </tr>\n",
       "    <tr>\n",
       "      <td>Jungle2Jungle (1997)</td>\n",
       "      <td>132</td>\n",
       "      <td>2.439394</td>\n",
       "    </tr>\n",
       "    <tr>\n",
       "      <td>Cable Guy, The (1996)</td>\n",
       "      <td>106</td>\n",
       "      <td>2.339623</td>\n",
       "    </tr>\n",
       "  </tbody>\n",
       "</table>\n",
       "</div>"
      ],
      "text/plain": [
       "                      rating          \n",
       "                        size      mean\n",
       "title                                 \n",
       "Spawn (1997)             143  2.615385\n",
       "Event Horizon (1997)     127  2.574803\n",
       "Crash (1996)             128  2.546875\n",
       "Jungle2Jungle (1997)     132  2.439394\n",
       "Cable Guy, The (1996)    106  2.339623"
      ]
     },
     "execution_count": 51,
     "metadata": {},
     "output_type": "execute_result"
    }
   ],
   "source": [
    "tmp.tail()"
   ]
  },
  {
   "cell_type": "code",
   "execution_count": 52,
   "metadata": {},
   "outputs": [
    {
     "data": {
      "text/plain": [
       "(338, 2)"
      ]
     },
     "execution_count": 52,
     "metadata": {},
     "output_type": "execute_result"
    }
   ],
   "source": [
    "tmp.shape"
   ]
  },
  {
   "cell_type": "code",
   "execution_count": 53,
   "metadata": {},
   "outputs": [
    {
     "name": "stdout",
     "output_type": "stream",
     "text": [
      "알수없는 시스템\n"
     ]
    }
   ],
   "source": [
    "# 간단한 시각화\n",
    "# 영화별 평점 개수 : x축\n",
    "# 사용자별 평가 횟수 : y축 \n",
    "from matplotlib import pyplot as plt\n",
    "from korea_font import initKoreaFontLoad\n",
    "initKoreaFontLoad()"
   ]
  },
  {
   "cell_type": "code",
   "execution_count": 54,
   "metadata": {},
   "outputs": [],
   "source": [
    "#%matplotlib inline"
   ]
  },
  {
   "cell_type": "code",
   "execution_count": 55,
   "metadata": {},
   "outputs": [
    {
     "data": {
      "text/plain": [
       "uid\n",
       "1     272\n",
       "2      62\n",
       "3      54\n",
       "4      24\n",
       "5     175\n",
       "6     211\n",
       "7     403\n",
       "8      59\n",
       "9      22\n",
       "10    184\n",
       "dtype: int64"
      ]
     },
     "execution_count": 55,
     "metadata": {},
     "output_type": "execute_result"
    }
   ],
   "source": [
    "# 사용자별 평점을 내린 개수\n",
    "movie_lens.groupby('uid').size()[:10]"
   ]
  },
  {
   "cell_type": "code",
   "execution_count": 56,
   "metadata": {},
   "outputs": [
    {
     "data": {
      "text/plain": [
       "<matplotlib.axes._subplots.AxesSubplot at 0x7f93a6f21080>"
      ]
     },
     "execution_count": 56,
     "metadata": {},
     "output_type": "execute_result"
    },
    {
     "data": {
      "image/png": "[encoded data removed]",
      "text/plain": [
       "<Figure size 432x288 with 1 Axes>"
      ]
     },
     "metadata": {},
     "output_type": "display_data"
    }
   ],
   "source": [
    "# 히스토그램 \n",
    "plt.style.use('ggplot')\n",
    "movie_lens.groupby('uid').size().sort_values( ascending=False ).hist()\n",
    "# 빈도가 낮아지는 그래프 모양 -> 길게 꼬리르 늘어뜨리는 모양이다 => 롱테일분포\n",
    "# \"지프의 법칙\"을 따르는 굴곡 모양이다\n",
    "# 자연어 말뭉치 표현에 나타나는 단어들을 그 사용 빈도가 높은순으로 나열하면,\n",
    "# 모든 단어의 사용 빈도는 해당 단어의 빈도 순위에 반비례한다\n",
    "# 영화의 평가가 많으면, 그 사용들중에는 1회성 평가회수도 많다"
   ]
  },
  {
   "cell_type": "code",
   "execution_count": 57,
   "metadata": {},
   "outputs": [
    {
     "data": {
      "text/html": [
       "<div>\n",
       "<style scoped>\n",
       "    .dataframe tbody tr th:only-of-type {\n",
       "        vertical-align: middle;\n",
       "    }\n",
       "\n",
       "    .dataframe tbody tr th {\n",
       "        vertical-align: top;\n",
       "    }\n",
       "\n",
       "    .dataframe thead tr th {\n",
       "        text-align: left;\n",
       "    }\n",
       "\n",
       "    .dataframe thead tr:last-of-type th {\n",
       "        text-align: right;\n",
       "    }\n",
       "</style>\n",
       "<table border=\"1\" class=\"dataframe\">\n",
       "  <thead>\n",
       "    <tr>\n",
       "      <th></th>\n",
       "      <th colspan=\"2\" halign=\"left\">rating</th>\n",
       "    </tr>\n",
       "    <tr>\n",
       "      <th></th>\n",
       "      <th>size</th>\n",
       "      <th>mean</th>\n",
       "    </tr>\n",
       "    <tr>\n",
       "      <th>uid</th>\n",
       "      <th></th>\n",
       "      <th></th>\n",
       "    </tr>\n",
       "  </thead>\n",
       "  <tbody>\n",
       "    <tr>\n",
       "      <td>1</td>\n",
       "      <td>272</td>\n",
       "      <td>3.610294</td>\n",
       "    </tr>\n",
       "    <tr>\n",
       "      <td>2</td>\n",
       "      <td>62</td>\n",
       "      <td>3.709677</td>\n",
       "    </tr>\n",
       "    <tr>\n",
       "      <td>3</td>\n",
       "      <td>54</td>\n",
       "      <td>2.796296</td>\n",
       "    </tr>\n",
       "    <tr>\n",
       "      <td>4</td>\n",
       "      <td>24</td>\n",
       "      <td>4.333333</td>\n",
       "    </tr>\n",
       "    <tr>\n",
       "      <td>5</td>\n",
       "      <td>175</td>\n",
       "      <td>2.874286</td>\n",
       "    </tr>\n",
       "  </tbody>\n",
       "</table>\n",
       "</div>"
      ],
      "text/plain": [
       "    rating          \n",
       "      size      mean\n",
       "uid                 \n",
       "1      272  3.610294\n",
       "2       62  3.709677\n",
       "3       54  2.796296\n",
       "4       24  4.333333\n",
       "5      175  2.874286"
      ]
     },
     "execution_count": 57,
     "metadata": {},
     "output_type": "execute_result"
    }
   ],
   "source": [
    "# 사용자별 평가 회수, 평균 \n",
    "user_state = movie_lens.groupby('uid').agg( { 'rating' : [ np.size, np.mean ]} )\n",
    "user_state.head()"
   ]
  },
  {
   "cell_type": "code",
   "execution_count": 58,
   "metadata": {},
   "outputs": [
    {
     "data": {
      "text/plain": [
       "(943, 2)"
      ]
     },
     "execution_count": 58,
     "metadata": {},
     "output_type": "execute_result"
    }
   ],
   "source": [
    "user_state.shape"
   ]
  },
  {
   "cell_type": "code",
   "execution_count": 59,
   "metadata": {},
   "outputs": [
    {
     "data": {
      "text/html": [
       "<div>\n",
       "<style scoped>\n",
       "    .dataframe tbody tr th:only-of-type {\n",
       "        vertical-align: middle;\n",
       "    }\n",
       "\n",
       "    .dataframe tbody tr th {\n",
       "        vertical-align: top;\n",
       "    }\n",
       "\n",
       "    .dataframe thead th {\n",
       "        text-align: right;\n",
       "    }\n",
       "</style>\n",
       "<table border=\"1\" class=\"dataframe\">\n",
       "  <thead>\n",
       "    <tr style=\"text-align: right;\">\n",
       "      <th></th>\n",
       "      <th>size</th>\n",
       "      <th>mean</th>\n",
       "    </tr>\n",
       "  </thead>\n",
       "  <tbody>\n",
       "    <tr>\n",
       "      <td>count</td>\n",
       "      <td>943.000000</td>\n",
       "      <td>943.000000</td>\n",
       "    </tr>\n",
       "    <tr>\n",
       "      <td>mean</td>\n",
       "      <td>106.044539</td>\n",
       "      <td>3.588191</td>\n",
       "    </tr>\n",
       "    <tr>\n",
       "      <td>std</td>\n",
       "      <td>100.931743</td>\n",
       "      <td>0.445233</td>\n",
       "    </tr>\n",
       "    <tr>\n",
       "      <td>min</td>\n",
       "      <td>20.000000</td>\n",
       "      <td>1.491954</td>\n",
       "    </tr>\n",
       "    <tr>\n",
       "      <td>25%</td>\n",
       "      <td>33.000000</td>\n",
       "      <td>3.323054</td>\n",
       "    </tr>\n",
       "    <tr>\n",
       "      <td>50%</td>\n",
       "      <td>65.000000</td>\n",
       "      <td>3.620690</td>\n",
       "    </tr>\n",
       "    <tr>\n",
       "      <td>75%</td>\n",
       "      <td>148.000000</td>\n",
       "      <td>3.869565</td>\n",
       "    </tr>\n",
       "    <tr>\n",
       "      <td>max</td>\n",
       "      <td>737.000000</td>\n",
       "      <td>4.869565</td>\n",
       "    </tr>\n",
       "  </tbody>\n",
       "</table>\n",
       "</div>"
      ],
      "text/plain": [
       "             size        mean\n",
       "count  943.000000  943.000000\n",
       "mean   106.044539    3.588191\n",
       "std    100.931743    0.445233\n",
       "min     20.000000    1.491954\n",
       "25%     33.000000    3.323054\n",
       "50%     65.000000    3.620690\n",
       "75%    148.000000    3.869565\n",
       "max    737.000000    4.869565"
      ]
     },
     "execution_count": 59,
     "metadata": {},
     "output_type": "execute_result"
    }
   ],
   "source": [
    "user_state['rating'].describe()\n",
    "# 평균값 데이터를 보면, 최저 1.49점, 최대 4.87점, 25~75% 지점의 모두다 3.대에\\\n",
    "# 머물러 있어서, 일반적으로 (평균적으로) 3.59정도는 받는다 (3점이상는 받는다)\n",
    "# 3점이하는 진짜 영화가 아닌것이다.\n",
    "# 최대 점수와 최저 점수는 편중된것으로 보인다"
   ]
  },
  {
   "cell_type": "markdown",
   "metadata": {},
   "source": [
    "#### 인수분해 머신을 이용한 추천 시스템 구성\n",
    "\n",
    "- 행렬 인수 분해라는 기능을 일반화한 알고리즘 -> 차원축소기법\n",
    "- 회소 행렬을 다룰소 있는 알고리즘\n",
    "- 특징끼리 영향을 주고 받는 상호 작용 개념을 계산에 적용이 가능\n",
    "- 범주형 변수를 더미 변수(파생 변수)로 변환하여 범주간 상호 작용성도 계산 가능\n",
    "- 알고리즘은 회귀, 분류, 학습등도 가능  \n",
    "- C++로 만들어진 libFM이라는 알고리즘이 가장 유명 -> 파이썬으로 구성된 fastFM "
   ]
  },
  {
   "cell_type": "markdown",
   "metadata": {},
   "source": [
    "##### fastFM 제공 알고리즘\n",
    "- ALS : 교대 최소 제곱법\n",
    " > 장점: 예측 시간 빠름, SGD보다 하이퍼파라이터가 작다  \n",
    " > 단점: 규제 반드시(필수)\n",
    "- SGD : 확률적 경사하강법 \n",
    " > 장점: 예측 시간 빠름, 대규모 데이터(빅데이터)를 빠르게 학습할수 있다  \n",
    " > 단점: 규제 반드시(필수), 하이퍼파라이터가 많다  \n",
    "- MCMC : 마르코프 연쇄 몬테카를로\n",
    " > 장점: 하이퍼파라이터가 작다. 자동 규제(알아서적용)\n",
    " > 단점: 학습 시간이 다소 느림"
   ]
  },
  {
   "cell_type": "markdown",
   "metadata": {},
   "source": [
    "#### 도커 도입\n",
    "\n",
    "- 사용하고자 하는 오픈소스 알고리즘(모듈)중에는 윈도우에서 수행이 불가능한 경우가 많다. \n",
    "- 도커를 이용하여 리눅스 생태계를 만들고, 거기서 fastFM 을 설치후 주피터를 연결하여 개발을 이어가겟다."
   ]
  },
  {
   "cell_type": "code",
   "execution_count": null,
   "metadata": {},
   "outputs": [],
   "source": [
    "# 도커 설치\n",
    "# 1. 도커 가입\n",
    "- docker.com\n",
    "\n",
    "# 2. 도커 다운로드 및 설치 (윈도우용)\n",
    "- https://www.docker.com/products/docker-desktop\n",
    "- 다운로드 및 설치 850MB\n",
    "or \n",
    "[ 공식적으로는 window 10 home 에디션 이하 ]\n",
    "- https://github.com/docker/toolbox/releases\n",
    "- 다운로드및 설치\n",
    "  (별도 체크박스 수정없이 다 긍정 및 확인 하면서 설치)\n",
    "\n",
    "# 3. 도커 콘솔 가동 (docker desktop)\n",
    "$ docker version\n",
    "\n",
    "# 4. 컨테이너 이미지 다운로드 (도커 허브에서 다운로드)\n",
    "$ docker pull ubuntu:latest\n",
    "-> 네트워크가 않되는 사람( docker version 수행서 서버 접속 에러난 경우)\n",
    "$ dockerCli.exe -SwitchDaemon\n",
    "$ docker version\n",
    "-> 위에 명령 수행후확인\n",
    "-> 그래도 않되면 도커툴 설치후 도커툴에서 진행\n",
    "\n",
    "or\n",
    "$ docker pull ubuntu:18.04\n",
    "\n",
    "# 5. 다운로드한 이미지 확인\n",
    "$ docker images\n",
    "\n",
    "# 6. 다운로드한 이미지 제거\n",
    "$ docker rmi ubuntu:latest\n",
    "- 확인\n",
    "$ docker images\n",
    "\n",
    "# 7. 컨테이너 이미지를 이용하여 컨테이너 생성 및 로그인\n",
    "# 단 포트는 컨테이너를 생성할때 단 한번 세팅이 가능\n",
    "$ docker run -p 8888:8888 -p 8123:8123 --name ml -i -t ubuntu:latest /bin/bash\n",
    "=> -p  인바운드포트:아웃바운트포트, 1회만 세팅, 필요한 만큼 추가\n",
    "=> --name 컨테이너 인스턴스의 이름\n",
    "=> -i(interactive), -t(Pseudo-tty) 이 옵션 추가하면 Bash shell에 \n",
    "   입력 및 출력을 수행할수 있다\n",
    "=> ubuntu:latest 설치할 이미지\n",
    "=> /bin/bash는 커맨드 쉘의 한 종류, 이를 사용하기 위해 명령어 입력\n",
    "\n",
    "# 8. 리눅스에서 빠져나가기\n",
    "root@$ exit\n",
    "\n",
    "# 9. 컨테이너 인스턴스의 목록\n",
    "$ docker ps -a\n",
    "\n",
    "# 10. 컨테이너 인스턴스 가동\n",
    "$ docker start ml\n",
    "$ docker ps -a\n",
    "\n",
    "# 11. 재가동\n",
    "$ docker restart ml\n",
    "\n",
    "# 12. 접속\n",
    "$ docker attach ml\n",
    "root@$ ...\n",
    "\n",
    "# 13. 리눅스는 나가서, 컨테이너 인스턴스 제거\n",
    "root@$ exit\n",
    "$ docker rm ml\n",
    "$ docker ps -a"
   ]
  },
  {
   "cell_type": "code",
   "execution_count": null,
   "metadata": {},
   "outputs": [],
   "source": [
    "# 14. 리눅스상에서 환경 구축\n",
    "root@$ apt-get update && apt-get -y upgrade\n",
    "\n",
    "-> https://github.com/ibayer/fastFM\n",
    "\n",
    "- 패키지 설치\n",
    "root@$ apt-get -y install python3-dev libopenblas-dev git python3-pip nano wget unzip\n",
    "\n",
    "- fastFM 소스 다운로드\n",
    "root@$ cd home\n",
    "root@$ git clone --recursive https://github.com/ibayer/fastFM.git\n",
    "root@$ cd fastFM    \n",
    "\n",
    "- 파이썬 라이브러리 설치\n",
    "root@$ pip3 install -r ./requirements.txt\n",
    "\n",
    "- 빌드 -> 중간에이나 끝부분에 error 가 보일수도 있다(무시)\n",
    "root@$ PYTHON=python3 make\n",
    "\n",
    "- 패키지 설치\n",
    "root@$ pip3 install .\n",
    "root@$ python3\n",
    ">>> from fastFM import als\n",
    ">>> \n",
    ">>> exit()\n",
    "root@$ pip3 install pandas matplotlib jupyter\n",
    "\n",
    "- 주피터 노트북 가동\n",
    "root@$ jupyter notebook --ip=0.0.0.0 --port=8123 --allow-root --no-browser\n",
    "or \n",
    "root@$ jupyter notebook --ip=0.0.0.0 --allow-root ( 기본 포트 8888 )\n",
    "\n",
    "- 기본 PC에서 브라우저 접속\n",
    "[toolbox 사용자]\n",
    "도커 구동시 IP를 사용\n",
    "docker is configured to use the default machine with IP 192.168.99.100\n",
    "http://192.168.99.100:8123/?token=c4a28a0fec6d6eff0d3d28a9a0d62838f5f7a188cdedf686\n",
    "\n",
    "[일반 사용자]\n",
    "http://127.0.0.1:8123/?token=c4a28a0fec6d6eff0d3d28a9a0d62838f5f7a188cdedf686\n"
   ]
  },
  {
   "cell_type": "code",
   "execution_count": null,
   "metadata": {},
   "outputs": [],
   "source": [
    "- 사용자가 커스텀한 이미지를 도커 허브에 업로드\n",
    "- 도커 컨테이너의 이미지화 및 배포\n",
    "$ docker commit --help\n",
    "\n",
    "- 1단계 도커 컨테이너 인스턴스 가동을 중단\n",
    "root@$ exit  <- 비가동중이면 해당 상황 없음\n",
    "$ docker stop ml\n",
    "\n",
    "- 2단계 도커 컨테이너 인스턴스 아이디 확인\n",
    "$ docker ps -a\n",
    "CONTAINER ID        IMAGE               COMMAND             CREATED             STATUS                    PORTS               NAMES\n",
    "b5881a744df7        ubuntu:latest       \"/bin/bash\"         18 hours ago        Exited (0) 16 hours ago                       ml\n",
    "\n",
    "- 3단계 이미지 생성\n",
    "- CONTAINER ID를 복사해서, tag는 생략하면 무조건 latest 자동으로 붙는다\n",
    "$ docker commit -a 'kenshi@nate.com' b5881a744df7 kenshi0216/ub_ju_base:0.1\n",
    "- 확인\n",
    "$ docker images\n",
    "\n",
    "- 4단계 로그인\n",
    "$ docker login\n",
    "\n",
    "- 5단계 배포\n",
    "$ docker push kenshi0216/ub_ju_base:0.1"
   ]
  },
  {
   "cell_type": "markdown",
   "metadata": {},
   "source": [
    "- 컨테이너 인스턴스에 작업 파일 전송을 통해 작업을 이어간다\n",
    "$ docker start ml\n",
    "$ docker attach ml\n",
    "root@$ cd home\n",
    "root@$ mkdir dev && cd dev\n",
    "root@$ jupyter notebook --ip=0.0.0.0 --port=8123 --allow-root --no-browser\n",
    "\n",
    "- 로컬 PC <-> 도커의 인스턴스에 파일을 보내는 방법 \n",
    "- 주피터를 사용할 경우 주피터 업로드를 통해 수행\n",
    "- 순수 도커 명령 이용\n",
    "$ docker cp 로컬PC파일경로 인스턴스네임:인스턴스상에경로\n",
    "$ docker cp C:\\Users\\User\\Documents\\Dropbox\\busan\\py_projects\\ml\\extend\\korea_font.py\n",
    "            ml:/home/dev"
   ]
  },
  {
   "cell_type": "code",
   "execution_count": 60,
   "metadata": {},
   "outputs": [],
   "source": [
    "# 모듈 사용 확인 \n",
    "from fastFM import als"
   ]
  },
  {
   "cell_type": "markdown",
   "metadata": {},
   "source": [
    "####  가상(더미)데이터를 이용하여 기능 처리 확인"
   ]
  },
  {
   "cell_type": "code",
   "execution_count": 61,
   "metadata": {},
   "outputs": [],
   "source": [
    "# DictVectorizer : 딕셔너리의 백터화 -> 딕녀서리의 값이 문자열인 경우 백터화 처리\n",
    "from sklearn.feature_extraction import DictVectorizer\n",
    "import numpy as np"
   ]
  },
  {
   "cell_type": "code",
   "execution_count": 62,
   "metadata": {},
   "outputs": [],
   "source": [
    "v = DictVectorizer()"
   ]
  },
  {
   "cell_type": "code",
   "execution_count": 63,
   "metadata": {},
   "outputs": [
    {
     "data": {
      "text/plain": [
       "[{'uid': '1', 'item': '5', 'age': 19},\n",
       " {'uid': '2', 'item': '43', 'age': 33},\n",
       " {'uid': '3', 'item': '20', 'age': 55},\n",
       " {'uid': '4', 'item': '10', 'age': 20},\n",
       " {'uid': '5', 'item': '9', 'age': 44}]"
      ]
     },
     "execution_count": 63,
     "metadata": {},
     "output_type": "execute_result"
    }
   ],
   "source": [
    "# 더미 데이터\n",
    "train = [\n",
    "    { 'uid':'1', 'item':'5', 'age':19 },\n",
    "    { 'uid':'2', 'item':'43', 'age':33 },\n",
    "    { 'uid':'3', 'item':'20', 'age':55 },\n",
    "    { 'uid':'4', 'item':'10', 'age':20 },\n",
    "    { 'uid':'5', 'item':'9', 'age':44 },\n",
    "]\n",
    "train"
   ]
  },
  {
   "cell_type": "code",
   "execution_count": 64,
   "metadata": {},
   "outputs": [
    {
     "data": {
      "text/plain": [
       "array([[19.,  0.,  0.,  0.,  1.,  0.,  1.,  0.,  0.,  0.,  0.],\n",
       "       [33.,  0.,  0.,  1.,  0.,  0.,  0.,  1.,  0.,  0.,  0.],\n",
       "       [55.,  0.,  1.,  0.,  0.,  0.,  0.,  0.,  1.,  0.,  0.],\n",
       "       [20.,  1.,  0.,  0.,  0.,  0.,  0.,  0.,  0.,  1.,  0.],\n",
       "       [44.,  0.,  0.,  0.,  0.,  1.,  0.,  0.,  0.,  0.,  1.]])"
      ]
     },
     "execution_count": 64,
     "metadata": {},
     "output_type": "execute_result"
    }
   ],
   "source": [
    "# 수치는 그래도 두고, 문자열만 백터화 진행\n",
    "# 문자열은 범주형으로 인식하고 처리\n",
    "X = v.fit_transform( train )\n",
    "X.toarray()"
   ]
  },
  {
   "cell_type": "code",
   "execution_count": 65,
   "metadata": {},
   "outputs": [],
   "source": [
    "# 위의 백터화의 방식은 중복되지 않는 값의 개수만큼 변수(컬럼을)를 만들고,\n",
    "# 0, 1의 이진 데이터로 그 값들을 분류하는 방식으로 백터화 처리를 한다\n",
    "# 0,1 의 이진 데이터니는 학습성능이 우수하기 대문에 컬럼이 수가 많아진다는 문제점이\n",
    "# 있지만, 시도해볼만한 방법 "
   ]
  },
  {
   "cell_type": "code",
   "execution_count": 66,
   "metadata": {},
   "outputs": [],
   "source": [
    "# 학습 => 이들이 평가한 점수\n",
    "# 평점 순서대로\n",
    "y = np.array( [5.0, 1.0, 2.0, 4.0, 4.4] )"
   ]
  },
  {
   "cell_type": "code",
   "execution_count": 67,
   "metadata": {},
   "outputs": [],
   "source": [
    "# 알고리즘 생성\n",
    "fm = als.FMRegression( n_iter=1000, init_stdev=0.1, rank=2, \n",
    "                       l2_reg_w=0.1, l2_reg_V=0.5 )"
   ]
  },
  {
   "cell_type": "code",
   "execution_count": 68,
   "metadata": {},
   "outputs": [
    {
     "data": {
      "text/plain": [
       "FMRegression(init_stdev=0.1, l2_reg=0, l2_reg_V=0.5, l2_reg_w=0.1, n_iter=1000,\n",
       "             random_state=123, rank=2)"
      ]
     },
     "execution_count": 68,
     "metadata": {},
     "output_type": "execute_result"
    }
   ],
   "source": [
    "# 학습\n",
    "fm.fit( X, y )"
   ]
  },
  {
   "cell_type": "code",
   "execution_count": 69,
   "metadata": {},
   "outputs": [
    {
     "data": {
      "text/plain": [
       "array([3.78469444])"
      ]
     },
     "execution_count": 69,
     "metadata": {},
     "output_type": "execute_result"
    }
   ],
   "source": [
    "# 예측\n",
    "# 나이가 24세, 유저번호 6, 아이템 10번, 내릴 평점은?\n",
    "tmp_dic = { 'uid':'6', 'item':'10', 'age':24 }\n",
    "fm.predict( v.transform( tmp_dic ) )"
   ]
  },
  {
   "cell_type": "markdown",
   "metadata": {},
   "source": [
    "- 위의 예측값이 나왔으나, 향후 데이터가 늘어가고 모델이 갱신되는 상황이 오면\n",
    "- 성능이 개선되었는지 판단하는 근거가 필요하다 \n",
    "- 또한, 하이퍼파라미터 튜닝을 수행하지 않아서 => 성능을 극대화 하는 성능 평가가 필요\n",
    "- 회귀모델 => 평균 제곱근 오차를 이용 => 손실함수를 통해서 판단 줄이는 방향으로 개선\n",
    "- 손실함수\n",
    " > 정답에 대한 오류를 숫자로 나타나는 것  \n",
    " > 오답에 가까우면 값이 크고, 정답에 가까우면 작은 값으로 나오는 경향  \n",
    " > np.sqrt( mean_squard_error() )\n",
    " \n",
    "- 평균 제곱근 오차\n",
    " > RMSE : root mean squard error\n",
    " > RMSE = 예측값과 실제값을 배열로 만들어서 차이를 제곱으로 합하고, 이것을 다시 배열           의 요소수로 나눈값의 제곱근"
   ]
  },
  {
   "cell_type": "markdown",
   "metadata": {},
   "source": [
    "####  성능평가 -> 회귀 "
   ]
  },
  {
   "cell_type": "code",
   "execution_count": 70,
   "metadata": {},
   "outputs": [],
   "source": [
    "def loadData( fileName, path='./ml-100k/' ):\n",
    "    #print( path + fileName )\n",
    "    # 훈련 데이터은 담는 그릇\n",
    "    data = []\n",
    "    # 평점 데이터를 담는 그릇\n",
    "    y    =  []\n",
    "    users = set()\n",
    "    items = set()\n",
    "    # 컬럼 : uid, mid, rating, unix_timestamp\n",
    "    with open(path + fileName) as f:\n",
    "        # 파일 포인터는 for문에 넣으면 한줄씩 리딩\n",
    "        for line in f:\n",
    "            #print( line.split('\\t') )\n",
    "            # 리스트를 튜플을 분해해서 변수로 받는 형식을 동일하게 적용하면\n",
    "            # 리스트이 각 맴버들이 변수에 순서대로 들어가서 변수가 생성된다\n",
    "            (uid, mid, rating, ts) = line.split('\\t')\n",
    "            #print( uid, mid, rating, ts  )\n",
    "            # 훈련용 데이터를 받아줘야 => [ {}, {}, {}, ..]\n",
    "            # uid, mid => 다 문자열이어야 한다 => 백터화 할거라서\n",
    "            data.append( { 'uid':uid, 'mid':mid } )\n",
    "            y.append( float(rating) )\n",
    "            users.add( uid )\n",
    "            items.add( mid )\n",
    "            #break\n",
    "    \n",
    "    # users, items : 현 데이터의 유저 목록, 아이템 목록만 모은것, 중복제거\n",
    "    return ( data, np.array(y), users, items )"
   ]
  },
  {
   "cell_type": "code",
   "execution_count": 71,
   "metadata": {},
   "outputs": [
    {
     "data": {
      "text/plain": [
       "([{'uid': '1', 'mid': '1'}, {'uid': '1', 'mid': '2'}],\n",
       " array([5., 3.]),\n",
       " 943,\n",
       " 1680)"
      ]
     },
     "execution_count": 71,
     "metadata": {},
     "output_type": "execute_result"
    }
   ],
   "source": [
    "# 데이터로드 및 원하는 자료구조로 편성  => 함수\n",
    "(dev_data, y_dev, dev_users, dev_items) = loadData('ua.base')\n",
    "dev_data[:2], y_dev[:2], len(dev_users), len(dev_items)"
   ]
  },
  {
   "cell_type": "code",
   "execution_count": 72,
   "metadata": {},
   "outputs": [],
   "source": [
    "(test_data, y_test, test_users, test_items) = loadData('ua.test')"
   ]
  },
  {
   "cell_type": "code",
   "execution_count": 73,
   "metadata": {},
   "outputs": [
    {
     "data": {
      "text/plain": [
       "([{'uid': '1', 'mid': '20'}, {'uid': '1', 'mid': '33'}],\n",
       " array([4., 4.]),\n",
       " 943,\n",
       " 1129)"
      ]
     },
     "execution_count": 73,
     "metadata": {},
     "output_type": "execute_result"
    }
   ],
   "source": [
    "test_data[:2], y_test[:2], len(test_users), len(test_items)"
   ]
  },
  {
   "cell_type": "code",
   "execution_count": 74,
   "metadata": {},
   "outputs": [],
   "source": [
    "# dev_data -> 백터화 : X_dev(변수명)\n",
    "v = DictVectorizer()"
   ]
  },
  {
   "cell_type": "code",
   "execution_count": 75,
   "metadata": {},
   "outputs": [],
   "source": [
    "# 훈련용 데이터의 백터화\n",
    "X_dev = v.fit_transform( dev_data )"
   ]
  },
  {
   "cell_type": "code",
   "execution_count": 76,
   "metadata": {},
   "outputs": [
    {
     "data": {
      "text/plain": [
       "((90570, 2623), 90570)"
      ]
     },
     "execution_count": 76,
     "metadata": {},
     "output_type": "execute_result"
    }
   ],
   "source": [
    "X_dev.shape, len( dev_data)"
   ]
  },
  {
   "cell_type": "code",
   "execution_count": 77,
   "metadata": {},
   "outputs": [],
   "source": [
    "# 테스트용 데이터의 백터화\n",
    "X_test = v.fit_transform( test_data )"
   ]
  },
  {
   "cell_type": "code",
   "execution_count": 78,
   "metadata": {},
   "outputs": [
    {
     "data": {
      "text/plain": [
       "(9430, 2072)"
      ]
     },
     "execution_count": 78,
     "metadata": {},
     "output_type": "execute_result"
    }
   ],
   "source": [
    "X_test.shape"
   ]
  },
  {
   "cell_type": "code",
   "execution_count": 79,
   "metadata": {},
   "outputs": [
    {
     "data": {
      "text/plain": [
       "1.120180145761465"
      ]
     },
     "execution_count": 79,
     "metadata": {},
     "output_type": "execute_result"
    }
   ],
   "source": [
    "# y_test (평점) 표준 편차 현재값 기억 -> 이값을 하이퍼파라미터 튜닝을 통해서 \n",
    "# 예측을 수행 => 평균제곱 오차에 대한 값이 이것보다 작아지면 성능이 개선되었다\n",
    "# 맨 처음의 기준치\n",
    "np.std( y_test )"
   ]
  },
  {
   "cell_type": "code",
   "execution_count": 80,
   "metadata": {},
   "outputs": [],
   "source": [
    "# 훈련 => 훈련용 + 검증용 분리\n",
    "# X_dev  => 훈련용 => 훈련용, 검증용 분리\n",
    "# X_text => 예측용 및 성능평가 수행\n",
    "from sklearn.model_selection import train_test_split"
   ]
  },
  {
   "cell_type": "code",
   "execution_count": 81,
   "metadata": {},
   "outputs": [],
   "source": [
    "# 실험이나 테스트 수행시 램덤값일 지정하면 시드가 고정이 되서, 항상 같은 분류로 섞인다\n",
    "X_train, X_dev_test, y_train, y_dev_test = train_test_split( X_dev, \n",
    "                                            y_dev, test_size=0.1, random_state=42 )"
   ]
  },
  {
   "cell_type": "code",
   "execution_count": 82,
   "metadata": {},
   "outputs": [
    {
     "data": {
      "text/plain": [
       "((81513, 2623), (9057, 2623))"
      ]
     },
     "execution_count": 82,
     "metadata": {},
     "output_type": "execute_result"
    }
   ],
   "source": [
    "X_train.shape, X_dev_test.shape"
   ]
  },
  {
   "cell_type": "code",
   "execution_count": 83,
   "metadata": {},
   "outputs": [
    {
     "data": {
      "text/plain": [
       "(81513, 9057)"
      ]
     },
     "execution_count": 83,
     "metadata": {},
     "output_type": "execute_result"
    }
   ],
   "source": [
    "len(y_train), len(y_dev_test)"
   ]
  },
  {
   "cell_type": "code",
   "execution_count": 84,
   "metadata": {},
   "outputs": [
    {
     "data": {
      "text/plain": [
       "numpy.ndarray"
      ]
     },
     "execution_count": 84,
     "metadata": {},
     "output_type": "execute_result"
    }
   ],
   "source": [
    "type(y_train)"
   ]
  },
  {
   "cell_type": "code",
   "execution_count": 85,
   "metadata": {},
   "outputs": [],
   "source": [
    "# 데이터 준비 완료"
   ]
  },
  {
   "cell_type": "markdown",
   "metadata": {},
   "source": [
    "- MCMC\n",
    "> 하이퍼파라미터 작다  \n",
    "> 학습시간이 많이 걸려서, 실시간 처리를 원한다면 SGD를 사용  \n",
    "> 학습후 예측을 동시에 수행 -> 함수도 제공"
   ]
  },
  {
   "cell_type": "code",
   "execution_count": 86,
   "metadata": {},
   "outputs": [],
   "source": [
    "from sklearn.metrics import mean_squared_error\n",
    "from fastFM import mcmc"
   ]
  },
  {
   "cell_type": "code",
   "execution_count": 87,
   "metadata": {},
   "outputs": [],
   "source": [
    "# 하이퍼파라미터\n",
    "n_tier    = 300 # 테스트의 총 시도회수\n",
    "step_size = 1   # 예측 및 평가 수행시 데이터를 사용하는 간격\n",
    "seed      = 123\n",
    "rank      = 4"
   ]
  },
  {
   "cell_type": "code",
   "execution_count": 88,
   "metadata": {},
   "outputs": [],
   "source": [
    "# mcmc 알고리즘 생성\n",
    "fm = mcmc.FMRegression( n_iter=0, rank = rank, random_state=seed )"
   ]
  },
  {
   "cell_type": "code",
   "execution_count": 89,
   "metadata": {},
   "outputs": [
    {
     "data": {
      "text/plain": [
       "array([0., 0., 0., ..., 0., 0., 0.])"
      ]
     },
     "execution_count": 89,
     "metadata": {},
     "output_type": "execute_result"
    }
   ],
   "source": [
    "# 학습및 예측\n",
    "fm.fit_predict( X_train, y_train, X_dev_test )"
   ]
  },
  {
   "cell_type": "code",
   "execution_count": 90,
   "metadata": {},
   "outputs": [
    {
     "data": {
      "text/plain": [
       "array([[0., 0., 0., ..., 0., 0., 0.],\n",
       "       [0., 0., 0., ..., 0., 0., 0.],\n",
       "       [0., 0., 0., ..., 0., 0., 0.],\n",
       "       ...,\n",
       "       [0., 0., 0., ..., 0., 0., 0.],\n",
       "       [0., 0., 0., ..., 0., 0., 0.],\n",
       "       [0., 0., 0., ..., 0., 0., 0.]])"
      ]
     },
     "execution_count": 90,
     "metadata": {},
     "output_type": "execute_result"
    }
   ],
   "source": [
    "# 하이퍼파라미터값을들 받은 배열\n",
    "np.zeros( ( n_tier , (3 + 2* rank) ), dtype=np.float64 )"
   ]
  },
  {
   "cell_type": "code",
   "execution_count": 91,
   "metadata": {},
   "outputs": [],
   "source": [
    "# 손실함수 결과를 담을 리스트\n",
    "rmse_test = []\n",
    "# 하이퍼파라미터 데이터를 담을 그릇 -> 0행렬, 배열(다 기본값이 0)\n",
    "# 11 = 3 + 2* rank\n",
    "# 300 * 11 배열(행렬)\n",
    "hyper_params_storage = np.zeros( ( n_tier , (3 + 2* rank) ), dtype=np.float64 )\n",
    "# n_tier를 1<= x <300\n",
    "for n, i in enumerate(range(1, n_tier)):\n",
    "    # n : 0 ~  인덱스\n",
    "    # i : 1 ~ 299 연속수\n",
    "    #print( n, i )\n",
    "    # 시드 교체\n",
    "    fm.random_state = i * seed # 1*123, 2*123, ... 299*123\n",
    "    # 학습 및 예측\n",
    "    y_pred = fm.fit_predict( X_train, y_train,  X_dev_test, n_more_iter=step_size )\n",
    "    # 손실 함수를 계산에서 리스트에 담는다\n",
    "    rmse_test.append( np.sqrt( mean_squared_error( y_pred, y_dev_test ) ) )\n",
    "    # 하이퍼파라미터 값들을 담아둔다\n",
    "    #print( fm.hyper_param_, type(fm.hyper_param_), fm.hyper_param_.shape )\n",
    "    # numpy의 특정 row값을 치환 => Dataframe의 iloc가 표현적으로 같다\n",
    "    hyper_params_storage[ n, : ] = fm.hyper_param_\n",
    "    #break"
   ]
  },
  {
   "cell_type": "code",
   "execution_count": 92,
   "metadata": {},
   "outputs": [
    {
     "name": "stdout",
     "output_type": "stream",
     "text": [
      "1.120180145761465 -> 하이퍼파라미터적용후 최젃성능 -> 0.8959692745565979\n"
     ]
    }
   ],
   "source": [
    "print( np.std( y_test ), '-> 하이퍼파라미터적용후 최젃성능 ->', np.min( rmse_test )  )"
   ]
  },
  {
   "cell_type": "code",
   "execution_count": 93,
   "metadata": {},
   "outputs": [],
   "source": [
    "# 사용자아이디, 영화 아이디 <-> 평점  관계에 대한 회귀알고리즘을 적용하여 상관성\n",
    "# 체크 -> 이를 판단하는 지표로 평균 제곱근 오차를 이용 =>\n",
    "# 손실함수를 통해서 판단 줄이는 방향으로 개선 (하이퍼파라미터 튜닝, 난수값 조정)\n",
    "\n",
    "# 회귀 알고리즘 => 인수분해머신 기능을 지원하는 libFM을 사용=>C++=> 파이썬버전\n",
    "# fastFM을 사용한것이다 => 오픈소스알고리즘"
   ]
  },
  {
   "cell_type": "code",
   "execution_count": 94,
   "metadata": {},
   "outputs": [],
   "source": [
    "from matplotlib import pyplot as plt"
   ]
  },
  {
   "cell_type": "code",
   "execution_count": 95,
   "metadata": {},
   "outputs": [
    {
     "data": {
      "text/plain": [
       "(299,)"
      ]
     },
     "execution_count": 95,
     "metadata": {},
     "output_type": "execute_result"
    }
   ],
   "source": [
    "# 시각화를 하기 위해서 step_size(간격)이 벌어지면 데이터가ㅣ 채워지는 인덱스도 \n",
    "# 벌어지므로, 자동으로 대응하기 위해서 step_size를 구성 했다 \n",
    "x = np.arange( 1, n_tier ) * step_size\n",
    "x.shape"
   ]
  },
  {
   "cell_type": "code",
   "execution_count": 96,
   "metadata": {},
   "outputs": [
    {
     "data": {
      "text/plain": [
       "(299,)"
      ]
     },
     "execution_count": 96,
     "metadata": {},
     "output_type": "execute_result"
    }
   ],
   "source": [
    "hyper_params_storage[:-1, 0].shape"
   ]
  },
  {
   "cell_type": "code",
   "execution_count": 97,
   "metadata": {},
   "outputs": [
    {
     "data": {
      "text/plain": [
       "<matplotlib.legend.Legend at 0x7f939b0a1cf8>"
      ]
     },
     "execution_count": 97,
     "metadata": {},
     "output_type": "execute_result"
    },
    {
     "data": {
      "image/png": "[encoded data removed]",
      "text/plain": [
       "<Figure size 1080x576 with 4 Axes>"
      ]
     },
     "metadata": {},
     "output_type": "display_data"
    }
   ],
   "source": [
    "fig, axes = plt.subplots( nrows=2, ncols=2, sharex=True, figsize=(15, 8) )\n",
    "\n",
    "# rmse      : 평균제곱근오차\n",
    "axes[0, 0].plot(  x, rmse_test, label='X_dev_test rmse', color='r' )\n",
    "axes[0, 0].legend()\n",
    "\n",
    "# alpha     : 하이퍼파라미터 중 0번째\n",
    "axes[0, 1].plot( x, hyper_params_storage[:-1, 0], label='alpha', color='b' )\n",
    "axes[0, 1].legend()\n",
    "\n",
    "# lambda_w : 하이퍼파라미터 중 1번째\n",
    "axes[1, 0].plot( x, hyper_params_storage[:-1, 1], label='lambda_w', color='g' )\n",
    "axes[1, 0].legend()\n",
    "\n",
    "# mu_w     : 하이퍼파라미터 중 3번째\n",
    "axes[1, 1].plot( x, hyper_params_storage[:-1, 3], label='mu_w', color='r' )\n",
    "axes[1, 1].legend()"
   ]
  },
  {
   "cell_type": "code",
   "execution_count": 98,
   "metadata": {},
   "outputs": [
    {
     "data": {
      "text/plain": [
       "<matplotlib.legend.Legend at 0x7f939a56d7b8>"
      ]
     },
     "execution_count": 98,
     "metadata": {},
     "output_type": "execute_result"
    },
    {
     "data": {
      "image/png": "[encoded data removed]",
      "text/plain": [
       "<Figure size 1080x576 with 4 Axes>"
      ]
     },
     "metadata": {},
     "output_type": "display_data"
    }
   ],
   "source": [
    "# 값의 편차가 급격히 차이가 나면 의미없는 부분이나, 큰부분은 배제 시키면\n",
    "# 편차가 큰 초기값들 여기서는 ~5까지를 배제\n",
    "# 집중해야된 부분에 정확하게 볼수 잇다\n",
    "\n",
    "fig, axes = plt.subplots( nrows=2, ncols=2, sharex=True, figsize=(15, 8) )\n",
    "\n",
    "# rmse      : 평균제곱근오차\n",
    "axes[0, 0].plot(  x[5:], rmse_test[5:], label='X_dev_test rmse', color='r' )\n",
    "axes[0, 0].legend()\n",
    "\n",
    "# alpha     : 하이퍼파라미터 중 0번째\n",
    "axes[0, 1].plot( x[5:], hyper_params_storage[5:-1, 0], label='alpha', color='b' )\n",
    "axes[0, 1].legend()\n",
    "\n",
    "# lambda_w : 하이퍼파라미터 중 1번째\n",
    "axes[1, 0].plot( x[5:], hyper_params_storage[5:-1, 1], label='lambda_w', color='g' )\n",
    "axes[1, 0].legend()\n",
    "\n",
    "# mu_w     : 하이퍼파라미터 중 3번째\n",
    "axes[1, 1].plot( x[5:], hyper_params_storage[5:-1, 3], label='mu_w', color='r' )\n",
    "axes[1, 1].legend()"
   ]
  },
  {
   "cell_type": "markdown",
   "metadata": {},
   "source": [
    "- 반복 구간이 특정 수치를 넘어가면  ex)  mu_w 는 100, alpha는 150 지점\n",
    "- 안정화 되간다 => 값을 수렴하고 있다\n",
    "- 검증 데이터의 표준편차가 1.2였는데, 예측 시점에서 평균제곱은 오차는 0.89까지 감소되었다\n",
    "- 위의 하이퍼파라미터는 random_state를 조정한것 -> rank 나 다른요소도 검토하면 결과치는 다를수 있다 -> 하이퍼파라미터 튜닝 기법을 이용하여 자동화 처리 수행하는게 좀더 효율적\n",
    "- 현 시점에서 시도를 해볼수 있는 향상 방법 => 평점 1.0 ~ 5.0 사이 존재 -> 정규화\n",
    "- 평점은 0 ~ 1사이로 조정 (스케일러) 성능 향상을 좀 꽤할수 있다"
   ]
  },
  {
   "cell_type": "markdown",
   "metadata": {},
   "source": [
    "- 상황인지추천 기법\n",
    "- 다양한 특성 조합을 바꿔가면서, 테스트를 수행 => 예측의 성능을 높일수 있는 검증수행가능\n",
    "- 사용자아이디와 아이템아이디만을 이용하여 예측모델을 구축 했는데, 기타 특성을 조합해서 예측성능을 높일수 있다면 => 기본 정보 이외의 티가 정보를 활용하여 추천을 수행할수 있다면 이것을 상화인지추천 이라고 정의 -> fastFM 지원 여러 특성 조합을 테스트할수 있다"
   ]
  },
  {
   "cell_type": "code",
   "execution_count": 99,
   "metadata": {},
   "outputs": [
    {
     "data": {
      "text/plain": [
       "Index(['mid', 'title', 'relese_date', 'video_relese_date', 'imdb_url', 'uid',\n",
       "       'rating', 'unix_timestamp', 'date', 'age', 'sex', 'job', 'zip_code'],\n",
       "      dtype='object')"
      ]
     },
     "execution_count": 99,
     "metadata": {},
     "output_type": "execute_result"
    }
   ],
   "source": [
    "movie_lens.columns"
   ]
  },
  {
   "cell_type": "code",
   "execution_count": 100,
   "metadata": {},
   "outputs": [
    {
     "data": {
      "text/html": [
       "<div>\n",
       "<style scoped>\n",
       "    .dataframe tbody tr th:only-of-type {\n",
       "        vertical-align: middle;\n",
       "    }\n",
       "\n",
       "    .dataframe tbody tr th {\n",
       "        vertical-align: top;\n",
       "    }\n",
       "\n",
       "    .dataframe thead th {\n",
       "        text-align: right;\n",
       "    }\n",
       "</style>\n",
       "<table border=\"1\" class=\"dataframe\">\n",
       "  <thead>\n",
       "    <tr style=\"text-align: right;\">\n",
       "      <th></th>\n",
       "      <th>mid</th>\n",
       "      <th>title</th>\n",
       "      <th>relese_date</th>\n",
       "      <th>video_relese_date</th>\n",
       "      <th>imdb_url</th>\n",
       "      <th>uid</th>\n",
       "      <th>rating</th>\n",
       "      <th>unix_timestamp</th>\n",
       "      <th>date</th>\n",
       "      <th>age</th>\n",
       "      <th>sex</th>\n",
       "      <th>job</th>\n",
       "      <th>zip_code</th>\n",
       "    </tr>\n",
       "  </thead>\n",
       "  <tbody>\n",
       "    <tr>\n",
       "      <td>0</td>\n",
       "      <td>1</td>\n",
       "      <td>Toy Story (1995)</td>\n",
       "      <td>01-Jan-1995</td>\n",
       "      <td>NaN</td>\n",
       "      <td>http://us.imdb.com/M/title-exact?Toy%20Story%2...</td>\n",
       "      <td>308</td>\n",
       "      <td>4</td>\n",
       "      <td>887736532</td>\n",
       "      <td>1998-02-17 17:28:52</td>\n",
       "      <td>60</td>\n",
       "      <td>M</td>\n",
       "      <td>retired</td>\n",
       "      <td>95076</td>\n",
       "    </tr>\n",
       "  </tbody>\n",
       "</table>\n",
       "</div>"
      ],
      "text/plain": [
       "   mid             title  relese_date  video_relese_date  \\\n",
       "0    1  Toy Story (1995)  01-Jan-1995                NaN   \n",
       "\n",
       "                                            imdb_url  uid  rating  \\\n",
       "0  http://us.imdb.com/M/title-exact?Toy%20Story%2...  308       4   \n",
       "\n",
       "   unix_timestamp                date  age sex      job zip_code  \n",
       "0       887736532 1998-02-17 17:28:52   60   M  retired    95076  "
      ]
     },
     "execution_count": 100,
     "metadata": {},
     "output_type": "execute_result"
    }
   ],
   "source": [
    "movie_lens.head(1)"
   ]
  },
  {
   "cell_type": "code",
   "execution_count": 119,
   "metadata": {},
   "outputs": [],
   "source": [
    "def getYear(x):\n",
    "    #print( type(x) )\n",
    "    # 데이터를 안전하게 획듟할려고 조건문을 쓰지면, 사전에 NAN으로 판단되는 \n",
    "    # 결측치는 미리 제거하고 진행해야 한다. 이런 경우에는 조건문이 굳이 필요 없음\n",
    "    if x:\n",
    "        t = str(x).split( '-' )\n",
    "        if len(t) == 3:\n",
    "            return t[2]\n",
    "    \n",
    "t = movie_lens['relese_date'].apply( getYear )"
   ]
  },
  {
   "cell_type": "code",
   "execution_count": 116,
   "metadata": {},
   "outputs": [],
   "source": [
    "# 필요한 컬럼 추가\n",
    "movie_lens['year'] = movie_lens['relese_date'].apply( getYear )"
   ]
  },
  {
   "cell_type": "code",
   "execution_count": 117,
   "metadata": {},
   "outputs": [],
   "source": [
    "# 컬럼 조합 후보 => 컬럼추가 , 순서 조합 등 다양한 시도\n",
    "candidate_columns = [\n",
    "    ['uid', 'mid', 'age', 'sex', 'year', 'rating'],\n",
    "    ['uid', 'mid', 'sex', 'year', 'rating'],\n",
    "    ['uid', 'mid', 'age', 'sex', 'rating'],\n",
    "    ['uid', 'mid', 'rating'],\n",
    "]"
   ]
  },
  {
   "cell_type": "code",
   "execution_count": 118,
   "metadata": {},
   "outputs": [
    {
     "data": {
      "text/html": [
       "<div>\n",
       "<style scoped>\n",
       "    .dataframe tbody tr th:only-of-type {\n",
       "        vertical-align: middle;\n",
       "    }\n",
       "\n",
       "    .dataframe tbody tr th {\n",
       "        vertical-align: top;\n",
       "    }\n",
       "\n",
       "    .dataframe thead th {\n",
       "        text-align: right;\n",
       "    }\n",
       "</style>\n",
       "<table border=\"1\" class=\"dataframe\">\n",
       "  <thead>\n",
       "    <tr style=\"text-align: right;\">\n",
       "      <th></th>\n",
       "      <th>uid</th>\n",
       "      <th>mid</th>\n",
       "      <th>age</th>\n",
       "      <th>sex</th>\n",
       "      <th>year</th>\n",
       "      <th>rating</th>\n",
       "    </tr>\n",
       "  </thead>\n",
       "  <tbody>\n",
       "    <tr>\n",
       "      <td>0</td>\n",
       "      <td>308</td>\n",
       "      <td>1</td>\n",
       "      <td>60</td>\n",
       "      <td>M</td>\n",
       "      <td>1995</td>\n",
       "      <td>4</td>\n",
       "    </tr>\n",
       "    <tr>\n",
       "      <td>1</td>\n",
       "      <td>308</td>\n",
       "      <td>4</td>\n",
       "      <td>60</td>\n",
       "      <td>M</td>\n",
       "      <td>1995</td>\n",
       "      <td>5</td>\n",
       "    </tr>\n",
       "  </tbody>\n",
       "</table>\n",
       "</div>"
      ],
      "text/plain": [
       "   uid  mid  age sex  year  rating\n",
       "0  308    1   60   M  1995       4\n",
       "1  308    4   60   M  1995       5"
      ]
     },
     "execution_count": 118,
     "metadata": {},
     "output_type": "execute_result"
    }
   ],
   "source": [
    "movie_lens[ candidate_columns[0] ].head(2)"
   ]
  },
  {
   "cell_type": "code",
   "execution_count": 120,
   "metadata": {},
   "outputs": [],
   "source": [
    "# 특정 컬럼 문자열로 타입 전환\n",
    "movie_lens[ 'uid' ] = movie_lens[ 'uid' ].astype( str )\n",
    "movie_lens[ 'mid' ] = movie_lens[ 'mid' ].astype( str )"
   ]
  },
  {
   "cell_type": "code",
   "execution_count": 121,
   "metadata": {},
   "outputs": [],
   "source": [
    "# 하이퍼파라미터 고정\n",
    "rmse_test = []\n",
    "n_iter    = 500\n",
    "seed      = 123\n",
    "rank      = 8"
   ]
  },
  {
   "cell_type": "code",
   "execution_count": 141,
   "metadata": {},
   "outputs": [],
   "source": [
    "# 정규화 모듈\n",
    "from sklearn.preprocessing import StandardScaler"
   ]
  },
  {
   "cell_type": "code",
   "execution_count": 142,
   "metadata": {},
   "outputs": [],
   "source": [
    "col = candidate_columns[0]\n",
    "filtered_movie_lens = movie_lens[ col ].dropna()\n",
    "v = DictVectorizer()\n",
    "tmp = list(filtered_movie_lens.drop('rating', axis=1).T.to_dict().values())\n",
    "X_ori_addFeature = v.fit_transform( tmp )\n",
    "y_ori_addFeature = filtered_movie_lens['rating'].to_list()\n",
    "X_train, X_test, y_train, y_test = train_test_split( X_ori_addFeature, y_ori_addFeature, test_size=0.1, random_state=42 )"
   ]
  },
  {
   "cell_type": "code",
   "execution_count": 143,
   "metadata": {},
   "outputs": [],
   "source": [
    "scaler = StandardScaler()"
   ]
  },
  {
   "cell_type": "code",
   "execution_count": 146,
   "metadata": {},
   "outputs": [
    {
     "data": {
      "text/plain": [
       "([4, 5], list)"
      ]
     },
     "execution_count": 146,
     "metadata": {},
     "output_type": "execute_result"
    }
   ],
   "source": [
    "y_train[:2], type(y_train)"
   ]
  },
  {
   "cell_type": "code",
   "execution_count": 148,
   "metadata": {},
   "outputs": [
    {
     "data": {
      "text/plain": [
       "array([[4],\n",
       "       [5],\n",
       "       [5],\n",
       "       ...,\n",
       "       [4],\n",
       "       [2],\n",
       "       [3]])"
      ]
     },
     "execution_count": 148,
     "metadata": {},
     "output_type": "execute_result"
    }
   ],
   "source": [
    "np.array(y_train).reshape(-1,1)"
   ]
  },
  {
   "cell_type": "code",
   "execution_count": 155,
   "metadata": {},
   "outputs": [],
   "source": [
    "# ravel()는 일차로 다시 펼쳐주는 함수 <-> reshape()\n",
    "# 6.평점 정규화\n",
    "y_train_norm = scaler.fit_transform( np.array(y_train).reshape(-1,1) ).ravel()\n",
    "# 검토 사항 값의 범위"
   ]
  },
  {
   "cell_type": "code",
   "execution_count": 156,
   "metadata": {},
   "outputs": [],
   "source": [
    "# 7. 알고리즘 생성\n",
    "fm = mcmc.FMRegression( n_iter=n_iter, rank=rank, random_state=seed )"
   ]
  },
  {
   "cell_type": "code",
   "execution_count": 157,
   "metadata": {},
   "outputs": [],
   "source": [
    "# 8. 훈련하면서 예측\n",
    "y_pred = fm.fit_predict( X_train,  y_train_norm, X_test )"
   ]
  },
  {
   "cell_type": "code",
   "execution_count": 158,
   "metadata": {},
   "outputs": [],
   "source": [
    "# 9. 손실함수 결과 추가\n",
    "# scaler.inverse_transform() <-> scaler.fit_transform()\n",
    "# 평균 제곱근 오차를 수행하기 위해서 입력 데이터들이( 예측값, 실제값) 형태가 동일\n",
    "# 해야 하고, 값의 범주도 동일해야 하므로, 정규화된 데이터를 실제값과 같은 범주에 \n",
    "# 들어오겠끔 inverse_transform()을 통해서 변환 처리\n",
    "rmse_test.append( np.sqrt( mean_squared_error( scaler.inverse_transform( y_pred.reshape(-1,1)  ), y_test ) ) )"
   ]
  },
  {
   "cell_type": "code",
   "execution_count": 159,
   "metadata": {},
   "outputs": [
    {
     "data": {
      "text/plain": [
       "[0.8868912332560999]"
      ]
     },
     "execution_count": 159,
     "metadata": {},
     "output_type": "execute_result"
    }
   ],
   "source": [
    "rmse_test"
   ]
  },
  {
   "cell_type": "code",
   "execution_count": 160,
   "metadata": {},
   "outputs": [
    {
     "name": "stdout",
     "output_type": "stream",
     "text": [
      "<class 'scipy.sparse.csr.csr_matrix'> <class 'list'>\n",
      "<class 'scipy.sparse.csr.csr_matrix'> <class 'list'>\n",
      "<class 'scipy.sparse.csr.csr_matrix'> <class 'list'>\n",
      "<class 'scipy.sparse.csr.csr_matrix'> <class 'list'>\n"
     ]
    }
   ],
   "source": [
    "rmse_test = []\n",
    "# 조합별 반복\n",
    "for col in candidate_columns:\n",
    "    #print( movie_lens[ col ].head(1) )\n",
    "    # 1. 결측 제거\n",
    "    filtered_movie_lens = movie_lens[ col ].dropna()\n",
    "    \n",
    "    # 2. 백터화 도구 생성\n",
    "    v = DictVectorizer()\n",
    "    # rating을 제거 => 사본처리 => dict화 {} => 리스트에 맴버 [{}, {} ] => 백터화\n",
    "    \n",
    "    # 3. 데이터를 백터화 할수 있게 [ {}, {}] 구조로 변환\n",
    "    # [:2] => 데이터가 10만개라서, 회전, 딕셔너리화 할때 오래걸리니까, \n",
    "    # 데이터를 샘플로 줄여서 작업 진행 => 모듈 완서잉 끝나면 제거\n",
    "    #print( list(filtered_movie_lens[:2].drop('rating', axis=1).T.to_dict().values()) )\n",
    "    tmp = list(filtered_movie_lens.drop('rating', axis=1).T.to_dict().values())\n",
    "    \n",
    "    # 4. 백터화\n",
    "    X_ori_addFeature = v.fit_transform( tmp )\n",
    "    #print( X_ori_addFeature \n",
    "    y_ori_addFeature = filtered_movie_lens['rating'].to_list()\n",
    "    # train_test_split() 함수에 넣는 데이터의 형식으로 서로 맞춰주기 위해 리스트화 처리\n",
    "    # 일반적으로 넣어 보고 에러나면 보정하는 방법도 잇음\n",
    "    print( type(X_ori_addFeature), type(y_ori_addFeature) )\n",
    "    \n",
    "    # 5. 데이터 분류\n",
    "    X_train, X_test, y_train, y_test = train_test_split( X_ori_addFeature, \n",
    "                                y_ori_addFeature, test_size=0.1, random_state=42 )\n",
    "    \n",
    "    # 6. 평점 정규화\n",
    "    scaler = StandardScaler()\n",
    "    y_train_norm = scaler.fit_transform( np.array(y_train).reshape(-1,1) ).ravel()\n",
    "    \n",
    "    # 7. 알고리즘 생성\n",
    "    fm = mcmc.FMRegression( n_iter=n_iter, rank=rank, random_state=seed )\n",
    "    \n",
    "    # 8. 훈련하면서 예측\n",
    "    # 훈련데이터, 훈련데이터의 답안, 테스트데이터 순서로 입력\n",
    "    y_pred = fm.fit_predict( X_train,  y_train_norm,  X_test )\n",
    "    \n",
    "    # 9. 손실함수 결과 추가\n",
    "    # scaler.inverse_transform() <-> scaler.fit_transform()\n",
    "    # 평균 제곱근 오차를 수행하기 위해서 입력 데이터들이( 예측값, 실제값) 형태가 동일\n",
    "    # 해야 하고, 값의 범주도 동일해야 하므로, 정규화된 데이터를 실제값과 같은 범주에 \n",
    "    # 들어오겠끔 inverse_transform()을 통해서 변환 처리\n",
    "    rmse_test.append( np.sqrt( mean_squared_error( scaler.inverse_transform( y_pred.reshape(-1,1)  ), y_test ) ) )\n",
    "\n",
    "    #break "
   ]
  },
  {
   "cell_type": "code",
   "execution_count": 162,
   "metadata": {},
   "outputs": [
    {
     "data": {
      "text/plain": [
       "[0.8868912332560999, 0.8834404187907334, 0.8922375852811406, 0.887744557428427]"
      ]
     },
     "execution_count": 162,
     "metadata": {},
     "output_type": "execute_result"
    }
   ],
   "source": [
    "# 위에서 초기화를 않해서 결과가 하나 더 있다 \n",
    "rmse_test"
   ]
  },
  {
   "cell_type": "code",
   "execution_count": 163,
   "metadata": {},
   "outputs": [
    {
     "data": {
      "text/plain": [
       "array([0, 1, 2, 3])"
      ]
     },
     "execution_count": 163,
     "metadata": {},
     "output_type": "execute_result"
    }
   ],
   "source": [
    "# x축에는 A, B, C, D\n",
    "# y축에는 값\n",
    "# 바차트\n",
    "# y값의 제한, 0.88~0.90 사이로 제한\n",
    "index = np.arange( len(rmse_test[1:] ) )\n",
    "index"
   ]
  },
  {
   "cell_type": "code",
   "execution_count": 166,
   "metadata": {},
   "outputs": [
    {
     "data": {
      "text/plain": [
       "(0.88, 0.895)"
      ]
     },
     "execution_count": 166,
     "metadata": {},
     "output_type": "execute_result"
    },
    {
     "data": {
      "image/png": "[encoded data removed]",
      "text/plain": [
       "<Figure size 432x288 with 1 Axes>"
      ]
     },
     "metadata": {},
     "output_type": "display_data"
    }
   ],
   "source": [
    "bar = plt.bar( index, height=rmse_test[1:] )\n",
    "plt.xticks( index, ('A','B','C','D') )\n",
    "plt.ylim( (0.88, 0.895) )\n",
    "# B 조합 => ['uid', 'mid', 'sex', 'year', 'rating']이 가장 좋은 성능을 내고 있다\n",
    "# 다양한 특성 조합을 간단하게 변경해 가면서 성능 평가를 수행\n",
    "# 어떤 특성을 추가하면 성능을 높일수 있는지 쉽게 검증\n",
    "# uid, mid 이외에 정보를 활용하여 추천을 수행하는 추천모델을 만드는 방식=>상황인지추천"
   ]
  },
  {
   "cell_type": "code",
   "execution_count": null,
   "metadata": {},
   "outputs": [],
   "source": []
  },
  {
   "cell_type": "code",
   "execution_count": null,
   "metadata": {},
   "outputs": [],
   "source": []
  },
  {
   "cell_type": "code",
   "execution_count": null,
   "metadata": {},
   "outputs": [],
   "source": []
  },
  {
   "cell_type": "code",
   "execution_count": null,
   "metadata": {},
   "outputs": [],
   "source": []
  },
  {
   "cell_type": "code",
   "execution_count": null,
   "metadata": {},
   "outputs": [],
   "source": []
  }
 ],
 "metadata": {
  "kernelspec": {
   "display_name": "Python 3",
   "language": "python",
   "name": "python3"
  },
  "language_info": {
   "codemirror_mode": {
    "name": "ipython",
    "version": 3
   },
   "file_extension": ".py",
   "mimetype": "text/x-python",
   "name": "python",
   "nbconvert_exporter": "python",
   "pygments_lexer": "ipython3",
   "version": "3.6.8"
  }
 },
 "nbformat": 4,
 "nbformat_minor": 2
}
