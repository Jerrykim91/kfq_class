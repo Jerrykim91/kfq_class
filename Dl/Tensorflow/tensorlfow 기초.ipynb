{
 "cells": [
  {
   "cell_type": "code",
   "execution_count": 2,
   "metadata": {},
   "outputs": [],
   "source": [
    "import tensorflow as tf"
   ]
  },
  {
   "cell_type": "code",
   "execution_count": 3,
   "metadata": {},
   "outputs": [
    {
     "data": {
      "text/plain": [
       "<tf.Tensor 'Const:0' shape=() dtype=string>"
      ]
     },
     "execution_count": 3,
     "metadata": {},
     "output_type": "execute_result"
    }
   ],
   "source": [
    "hi = tf.constant('hello')\n",
    "hi"
   ]
  },
  {
   "cell_type": "code",
   "execution_count": 4,
   "metadata": {},
   "outputs": [
    {
     "data": {
      "text/plain": [
       "b'hello'"
      ]
     },
     "execution_count": 4,
     "metadata": {},
     "output_type": "execute_result"
    }
   ],
   "source": [
    "sess = tf.Session()\n",
    "sess.run( hi )"
   ]
  },
  {
   "cell_type": "markdown",
   "metadata": {},
   "source": [
    "#### 텐서플로우를 이용한 간단한 계산\n",
    "\n",
    "- 덧셈"
   ]
  },
  {
   "cell_type": "code",
   "execution_count": 6,
   "metadata": {},
   "outputs": [
    {
     "data": {
      "text/plain": [
       "(<tf.Tensor 'Const_3:0' shape=() dtype=int32>,\n",
       " <tf.Tensor 'Const_4:0' shape=() dtype=int32>)"
      ]
     },
     "execution_count": 6,
     "metadata": {},
     "output_type": "execute_result"
    }
   ],
   "source": [
    "# 상수 정의\n",
    "a = tf.constant( 1234 )\n",
    "b = tf.constant( 5000 )\n",
    "a, b"
   ]
  },
  {
   "cell_type": "code",
   "execution_count": 8,
   "metadata": {},
   "outputs": [
    {
     "data": {
      "text/plain": [
       "<tf.Tensor 'add_1:0' shape=() dtype=int32>"
      ]
     },
     "execution_count": 8,
     "metadata": {},
     "output_type": "execute_result"
    }
   ],
   "source": [
    "# 계산 정의\n",
    "add_op = a + b\n",
    "add_op"
   ]
  },
  {
   "cell_type": "markdown",
   "metadata": {},
   "source": [
    "- 텐서플로우는 덧셈이라는 계산을 정의만 할뿐, 변수에 add_op에 대입되는 것은\n",
    "- 덧셈의 결과로 나오는 상수가 아니라 데이터 플로우 그래프라는 객체이다"
   ]
  },
  {
   "cell_type": "code",
   "execution_count": 9,
   "metadata": {},
   "outputs": [],
   "source": [
    "# 세션을 시작\n",
    "sess = tf.Session()"
   ]
  },
  {
   "cell_type": "code",
   "execution_count": 10,
   "metadata": {},
   "outputs": [
    {
     "data": {
      "text/plain": [
       "(6234, numpy.int32)"
      ]
     },
     "execution_count": 10,
     "metadata": {},
     "output_type": "execute_result"
    }
   ],
   "source": [
    "# 계산 처리는 파이썬이 하지 않고, 파이썬 외부 즉 텐서플로우에서 진행\n",
    "# 계산 처리는 그래프라는 객체를 구축하고, 이러한 그래프르 텐서플로우가 \n",
    "# 실행하면서  데이터를 흘러가는 구조이다\n",
    "res = sess.run( add_op )\n",
    "res, type(res)"
   ]
  },
  {
   "cell_type": "markdown",
   "metadata": {},
   "source": [
    "#### 텐서플로우의 기본 항목\n",
    "\n",
    "- 핵심 데이터 구조 요소 3개\n",
    " > 상수:Constant   \n",
    " > 변수:Variable    \n",
    " > 플레이스홀더:Placeholder    "
   ]
  },
  {
   "cell_type": "code",
   "execution_count": 12,
   "metadata": {},
   "outputs": [
    {
     "data": {
      "text/plain": [
       "(<tf.Tensor 'a_1:0' shape=() dtype=int32>,\n",
       " <tf.Tensor 'b_1:0' shape=() dtype=int32>,\n",
       " <tf.Tensor 'c_1:0' shape=() dtype=int32>)"
      ]
     },
     "execution_count": 12,
     "metadata": {},
     "output_type": "execute_result"
    }
   ],
   "source": [
    "# 상수 정의\n",
    "a = tf.constant( 120, name='a' )\n",
    "b = tf.constant( 130, name='b' )\n",
    "c = tf.constant( 140, name='c' )\n",
    "\n",
    "a, b, c"
   ]
  },
  {
   "cell_type": "code",
   "execution_count": 14,
   "metadata": {},
   "outputs": [
    {
     "data": {
      "text/plain": [
       "(<tf.Variable 'v_1:0' shape=() dtype=int32_ref>, 'v_1:0')"
      ]
     },
     "execution_count": 14,
     "metadata": {},
     "output_type": "execute_result"
    }
   ],
   "source": [
    "# 변수 정의\n",
    "v = tf.Variable( 0, name='v' )\n",
    "v, v.name"
   ]
  },
  {
   "cell_type": "code",
   "execution_count": 15,
   "metadata": {},
   "outputs": [
    {
     "data": {
      "text/plain": [
       "<tf.Tensor 'add_3:0' shape=() dtype=int32>"
      ]
     },
     "execution_count": 15,
     "metadata": {},
     "output_type": "execute_result"
    }
   ],
   "source": [
    "# 데이터 플로우 그래프 정의\n",
    "calc_op = a + b + c\n",
    "calc_op"
   ]
  },
  {
   "cell_type": "code",
   "execution_count": 16,
   "metadata": {},
   "outputs": [
    {
     "data": {
      "text/plain": [
       "<tf.Tensor 'Assign:0' shape=() dtype=int32_ref>"
      ]
     },
     "execution_count": 16,
     "metadata": {},
     "output_type": "execute_result"
    }
   ],
   "source": [
    "# 변수에 값을 대입 => 데이터 플로우 그래프\n",
    "assign_op = tf.assign( v, calc_op )\n",
    "assign_op"
   ]
  },
  {
   "cell_type": "code",
   "execution_count": 17,
   "metadata": {},
   "outputs": [
    {
     "data": {
      "text/plain": [
       "390"
      ]
     },
     "execution_count": 17,
     "metadata": {},
     "output_type": "execute_result"
    }
   ],
   "source": [
    "# 세션 실행\n",
    "sess = tf.Session()\n",
    "sess.run( assign_op )"
   ]
  },
  {
   "cell_type": "code",
   "execution_count": 19,
   "metadata": {},
   "outputs": [
    {
     "data": {
      "text/plain": [
       "(<tf.Variable 'v_1:0' shape=() dtype=int32_ref>, 390)"
      ]
     },
     "execution_count": 19,
     "metadata": {},
     "output_type": "execute_result"
    }
   ],
   "source": [
    "# 변수값 출력하기 -> 세션 수행을 통해서 확인\n",
    "v, sess.run( v )"
   ]
  },
  {
   "cell_type": "markdown",
   "metadata": {},
   "source": [
    "- 플레이스홀더\n",
    "> 쿼리 수행할때, ? 기호 <= 이런 느낌  \n",
    "> 데이터 플로우 그래프 구축시, 값을 넣지 않고, 값을 담을 수 있는 형태의 그릇만 만드는 형식 => 세션이 수행될때 값을 넣어서 실행   \n",
    "> 템플릿과 유사하가 값을 넣어 두는 공간을 만드는 기능  "
   ]
  },
  {
   "cell_type": "code",
   "execution_count": 21,
   "metadata": {},
   "outputs": [
    {
     "data": {
      "text/plain": [
       "<tf.Tensor 'Placeholder_1:0' shape=(3,) dtype=int32>"
      ]
     },
     "execution_count": 21,
     "metadata": {},
     "output_type": "execute_result"
    }
   ],
   "source": [
    "# 정수형 데이터를 3개를 담을수 있는 그릇(배열이용) 준비 => 플레이스 홀더를 준비\n",
    "a = tf.placeholder( tf.int32, [3] )\n",
    "a"
   ]
  },
  {
   "cell_type": "code",
   "execution_count": 22,
   "metadata": {},
   "outputs": [],
   "source": [
    "# 상수\n",
    "b = tf.constant( 2 )"
   ]
  },
  {
   "cell_type": "code",
   "execution_count": 23,
   "metadata": {},
   "outputs": [],
   "source": [
    "# 데이터 플로우 그래프\n",
    "# 배열 * 값 => 행렬 * 값 => 백터 * 스칼라\n",
    "x2_op = a * b"
   ]
  },
  {
   "cell_type": "code",
   "execution_count": 24,
   "metadata": {},
   "outputs": [],
   "source": [
    "sess = tf.Session()"
   ]
  },
  {
   "cell_type": "code",
   "execution_count": 25,
   "metadata": {},
   "outputs": [
    {
     "data": {
      "text/plain": [
       "array([2, 4, 6])"
      ]
     },
     "execution_count": 25,
     "metadata": {},
     "output_type": "execute_result"
    }
   ],
   "source": [
    "# 수행\n",
    "# feed_dict는 플레이스 홀더에 값을 채운다\n",
    "r1 = sess.run( x2_op, feed_dict={ a:[1,2,3] } )\n",
    "r1"
   ]
  },
  {
   "cell_type": "markdown",
   "metadata": {},
   "source": [
    "#### 배열의 크기를 가변으로 처리하여 구성"
   ]
  },
  {
   "cell_type": "code",
   "execution_count": 26,
   "metadata": {},
   "outputs": [],
   "source": [
    "# None을 넣으면 가변 처리가 되서, 배열의 개수는 가변적으로 대입 가능\n",
    "# 플레이스 홀더 정의\n",
    "a = tf.placeholder( tf.int32, [None] )"
   ]
  },
  {
   "cell_type": "code",
   "execution_count": 27,
   "metadata": {},
   "outputs": [],
   "source": [
    "# 상수 정의\n",
    "b = tf.constant( 10 )"
   ]
  },
  {
   "cell_type": "code",
   "execution_count": 28,
   "metadata": {},
   "outputs": [],
   "source": [
    "# 데이터 플로우 그래프 정의\n",
    "x10_op = a * b"
   ]
  },
  {
   "cell_type": "code",
   "execution_count": 29,
   "metadata": {},
   "outputs": [],
   "source": [
    "sess = tf.Session()"
   ]
  },
  {
   "cell_type": "code",
   "execution_count": 30,
   "metadata": {},
   "outputs": [
    {
     "data": {
      "text/plain": [
       "array([10, 20, 30, 40, 50])"
      ]
     },
     "execution_count": 30,
     "metadata": {},
     "output_type": "execute_result"
    }
   ],
   "source": [
    "sess.run( x10_op,  feed_dict={ a:[1,2,3,4,5] })"
   ]
  },
  {
   "cell_type": "code",
   "execution_count": 31,
   "metadata": {},
   "outputs": [
    {
     "data": {
      "text/plain": [
       "array([100, 200])"
      ]
     },
     "execution_count": 31,
     "metadata": {},
     "output_type": "execute_result"
    }
   ],
   "source": [
    "sess.run( x10_op,  feed_dict={ a:[10,20] })"
   ]
  },
  {
   "cell_type": "code",
   "execution_count": null,
   "metadata": {},
   "outputs": [],
   "source": []
  }
 ],
 "metadata": {
  "kernelspec": {
   "display_name": "Python 3",
   "language": "python",
   "name": "python3"
  },
  "language_info": {
   "codemirror_mode": {
    "name": "ipython",
    "version": 3
   },
   "file_extension": ".py",
   "mimetype": "text/x-python",
   "name": "python",
   "nbconvert_exporter": "python",
   "pygments_lexer": "ipython3",
   "version": "3.6.5"
  }
 },
 "nbformat": 4,
 "nbformat_minor": 2
}
