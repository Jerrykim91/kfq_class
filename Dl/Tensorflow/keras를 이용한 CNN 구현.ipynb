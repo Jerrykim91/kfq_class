{
 "cells": [
  {
   "cell_type": "code",
   "execution_count": 3,
   "metadata": {},
   "outputs": [],
   "source": [
    "import keras\n",
    "from keras import models,layers"
   ]
  },
  {
   "cell_type": "code",
   "execution_count": 4,
   "metadata": {},
   "outputs": [],
   "source": [
    "from keras import backend\n",
    "from keras.datasets import mnist"
   ]
  },
  {
   "cell_type": "code",
   "execution_count": 6,
   "metadata": {},
   "outputs": [],
   "source": [
    "# 데이터 획득\n",
    "(x_train, y_train), (x_test, y_test) = mnist.load_data()"
   ]
  },
  {
   "cell_type": "code",
   "execution_count": 7,
   "metadata": {},
   "outputs": [
    {
     "data": {
      "text/plain": [
       "((60000, 28, 28), (60000,), (10000, 28, 28), (10000,))"
      ]
     },
     "execution_count": 7,
     "metadata": {},
     "output_type": "execute_result"
    }
   ],
   "source": [
    "x_train.shape, y_train.shape, x_test.shape, y_test.shape"
   ]
  },
  {
   "cell_type": "code",
   "execution_count": 8,
   "metadata": {},
   "outputs": [
    {
     "data": {
      "text/plain": [
       "(28, 28)"
      ]
     },
     "execution_count": 8,
     "metadata": {},
     "output_type": "execute_result"
    }
   ],
   "source": [
    "# 이미지 크기\n",
    "img_rows, img_cols = x_train.shape[1:]\n",
    "img_rows, img_cols"
   ]
  },
  {
   "cell_type": "code",
   "execution_count": 9,
   "metadata": {},
   "outputs": [
    {
     "data": {
      "text/plain": [
       "'channels_last'"
      ]
     },
     "execution_count": 9,
     "metadata": {},
     "output_type": "execute_result"
    }
   ],
   "source": [
    "# 채널의 위치 조정\n",
    "backend.image_data_format()"
   ]
  },
  {
   "cell_type": "code",
   "execution_count": 10,
   "metadata": {},
   "outputs": [],
   "source": [
    "if backend.image_data_format() == 'channel_first':\n",
    "    x_train = x_train.reshape( x_train.shape[0], 1, img_rows, img_cols )\n",
    "    x_test  = x_test.reshape(  x_test.shape[0],  1, img_rows, img_cols  )\n",
    "    input_shape = ( 1, img_rows, img_cols )\n",
    "else:\n",
    "    # 흑백 이미지의 채널 정보를 처리하기 위해서는 추가 차원을 넣어야 한다\n",
    "    # 컬러 이미지는 RGB색상을 다루는 채널 정보가 이미지 데이터에 포함되어 있다\n",
    "    # 흑백은 채널 정보가 업서엇, 입력 데이터 차원을 하나 더 추가해야 하다\n",
    "    # 채널의 위치를 확인해서 앞쪽이면 앞으로, 뒤쪽이면 뒤로 배치\n",
    "    x_train = x_train.reshape( x_train.shape[0], img_rows, img_cols, 1  )\n",
    "    x_test  = x_test.reshape(  x_test.shape[0],  img_rows, img_cols, 1  )\n",
    "    input_shape = ( img_rows, img_cols, 1 )"
   ]
  },
  {
   "cell_type": "code",
   "execution_count": 12,
   "metadata": {},
   "outputs": [],
   "source": [
    "x_train = x_train.astype('float32')\n",
    "x_test  = x_test.astype('float32')"
   ]
  },
  {
   "cell_type": "code",
   "execution_count": 13,
   "metadata": {},
   "outputs": [],
   "source": [
    "x_train /= 255\n",
    "x_test  /= 255"
   ]
  },
  {
   "cell_type": "code",
   "execution_count": 14,
   "metadata": {},
   "outputs": [
    {
     "data": {
      "text/plain": [
       "array([5, 0, 4, 1, 9], dtype=uint8)"
      ]
     },
     "execution_count": 14,
     "metadata": {},
     "output_type": "execute_result"
    }
   ],
   "source": [
    "y_train[:5]"
   ]
  },
  {
   "cell_type": "code",
   "execution_count": 20,
   "metadata": {},
   "outputs": [],
   "source": [
    "a = set(y_train)\n",
    "label_nums = len(a)"
   ]
  },
  {
   "cell_type": "code",
   "execution_count": 21,
   "metadata": {},
   "outputs": [],
   "source": [
    "# 레이블의 분류형 변수로 특성 이진화 처리\n",
    "y_train = keras.utils.to_categorical( y_train, label_nums )\n",
    "y_test  = keras.utils.to_categorical( y_test, label_nums )"
   ]
  },
  {
   "cell_type": "code",
   "execution_count": 24,
   "metadata": {},
   "outputs": [
    {
     "data": {
      "text/plain": [
       "array([[0., 0., 0., 0., 0., 1., 0., 0., 0., 0.],\n",
       "       [1., 0., 0., 0., 0., 0., 0., 0., 0., 0.]], dtype=float32)"
      ]
     },
     "execution_count": 24,
     "metadata": {},
     "output_type": "execute_result"
    }
   ],
   "source": [
    "y_train[:2]"
   ]
  },
  {
   "cell_type": "code",
   "execution_count": 23,
   "metadata": {},
   "outputs": [
    {
     "data": {
      "text/plain": [
       "((60000, 28, 28, 1), (60000, 10))"
      ]
     },
     "execution_count": 23,
     "metadata": {},
     "output_type": "execute_result"
    }
   ],
   "source": [
    "x_train.shape, y_train.shape"
   ]
  },
  {
   "cell_type": "code",
   "execution_count": 25,
   "metadata": {},
   "outputs": [],
   "source": [
    "# 모델 생성\n",
    "model = models.Sequential()"
   ]
  },
  {
   "cell_type": "code",
   "execution_count": 26,
   "metadata": {},
   "outputs": [
    {
     "name": "stdout",
     "output_type": "stream",
     "text": [
      "WARNING:tensorflow:From C:\\Users\\User\\Anaconda3\\lib\\site-packages\\tensorflow\\python\\framework\\op_def_library.py:263: colocate_with (from tensorflow.python.framework.ops) is deprecated and will be removed in a future version.\n",
      "Instructions for updating:\n",
      "Colocations handled automatically by placer.\n"
     ]
    }
   ],
   "source": [
    "# 합성곱층 생성\n",
    "# 32: 출력 채널\n",
    "# 커널, 필터, 가중치 => 3x3, 활성화함수 지정, 편향은 생략\n",
    "model.add( layers.Conv2D( 32, kernel_size=(3,3), \n",
    "                          activation='relu', input_shape=input_shape ) )"
   ]
  },
  {
   "cell_type": "code",
   "execution_count": 27,
   "metadata": {},
   "outputs": [],
   "source": [
    "# 풀링층\n",
    "model.add( layers.MaxPool2D( pool_size=(2,2) ) )"
   ]
  },
  {
   "cell_type": "code",
   "execution_count": 28,
   "metadata": {},
   "outputs": [
    {
     "name": "stdout",
     "output_type": "stream",
     "text": [
      "WARNING:tensorflow:From C:\\Users\\User\\Anaconda3\\lib\\site-packages\\keras\\backend\\tensorflow_backend.py:3445: calling dropout (from tensorflow.python.ops.nn_ops) with keep_prob is deprecated and will be removed in a future version.\n",
      "Instructions for updating:\n",
      "Please use `rate` instead of `keep_prob`. Rate should be set to `rate = 1 - keep_prob`.\n"
     ]
    }
   ],
   "source": [
    "# 과적합 방지\n",
    "# 0.25 : 설정값\n",
    "model.add( layers.Dropout( 0.25 ) )"
   ]
  },
  {
   "cell_type": "code",
   "execution_count": 29,
   "metadata": {},
   "outputs": [],
   "source": [
    "# 합성곱 2\n",
    "model.add( layers.Conv2D( 64, (3,3), activation='relu' ) )"
   ]
  },
  {
   "cell_type": "code",
   "execution_count": 30,
   "metadata": {},
   "outputs": [],
   "source": [
    "# 풀링층 2\n",
    "model.add( layers.MaxPool2D( pool_size=(2,2) ) )"
   ]
  },
  {
   "cell_type": "code",
   "execution_count": 31,
   "metadata": {},
   "outputs": [],
   "source": [
    "# 과적합 방지\n",
    "# 0.25 : 설정값\n",
    "model.add( layers.Dropout( 0.25 ) )"
   ]
  },
  {
   "cell_type": "code",
   "execution_count": 32,
   "metadata": {},
   "outputs": [],
   "source": [
    "# 데이터를 편다 \n",
    "model.add( layers.Flatten() )"
   ]
  },
  {
   "cell_type": "code",
   "execution_count": 33,
   "metadata": {},
   "outputs": [],
   "source": [
    "# 전결합층\n",
    "# 128: 출력 채널 설정\n",
    "model.add( layers.Dense( 128, activation='relu' ) )"
   ]
  },
  {
   "cell_type": "code",
   "execution_count": 34,
   "metadata": {},
   "outputs": [],
   "source": [
    "# 과적합 방지\n",
    "# 0.5 : 설정값\n",
    "model.add( layers.Dropout( 0.5 ) )"
   ]
  },
  {
   "cell_type": "code",
   "execution_count": 35,
   "metadata": {},
   "outputs": [],
   "source": [
    "# 출력층\n",
    "model.add( layers.Dense( label_nums, activation='softmax' ) )"
   ]
  },
  {
   "cell_type": "code",
   "execution_count": 36,
   "metadata": {},
   "outputs": [],
   "source": [
    "# 손실함수:크로스엔트로피 \n",
    "# 최적화:평균제곱근오차 : rmsprop\n",
    "# 정확도\n",
    "model.compile( loss=keras.losses.categorical_crossentropy,\n",
    "               optimizer='rmsprop', metrics=['accuracy'])"
   ]
  },
  {
   "cell_type": "code",
   "execution_count": 37,
   "metadata": {},
   "outputs": [],
   "source": [
    "# 학습 사이즈 \n",
    "batch_size = 128\n",
    "# 수행회수\n",
    "epochs     = 10"
   ]
  },
  {
   "cell_type": "code",
   "execution_count": 38,
   "metadata": {},
   "outputs": [
    {
     "name": "stdout",
     "output_type": "stream",
     "text": [
      "WARNING:tensorflow:From C:\\Users\\User\\Anaconda3\\lib\\site-packages\\tensorflow\\python\\ops\\math_ops.py:3066: to_int32 (from tensorflow.python.ops.math_ops) is deprecated and will be removed in a future version.\n",
      "Instructions for updating:\n",
      "Use tf.cast instead.\n",
      "Train on 48000 samples, validate on 12000 samples\n",
      "Epoch 1/10\n",
      "48000/48000 [==============================] - 110s 2ms/step - loss: 0.3447 - acc: 0.8921 - val_loss: 0.0873 - val_acc: 0.9752\n",
      "Epoch 2/10\n",
      "48000/48000 [==============================] - 67s 1ms/step - loss: 0.1151 - acc: 0.9657 - val_loss: 0.0639 - val_acc: 0.9813\n",
      "Epoch 3/10\n",
      "48000/48000 [==============================] - 66s 1ms/step - loss: 0.0879 - acc: 0.9745 - val_loss: 0.0471 - val_acc: 0.9865\n",
      "Epoch 4/10\n",
      "48000/48000 [==============================] - 68s 1ms/step - loss: 0.0725 - acc: 0.9775 - val_loss: 0.0407 - val_acc: 0.9887\n",
      "Epoch 5/10\n",
      "48000/48000 [==============================] - 79s 2ms/step - loss: 0.0630 - acc: 0.9815 - val_loss: 0.0371 - val_acc: 0.9897\n",
      "Epoch 6/10\n",
      "48000/48000 [==============================] - 76s 2ms/step - loss: 0.0584 - acc: 0.9822 - val_loss: 0.0354 - val_acc: 0.9899\n",
      "Epoch 7/10\n",
      "48000/48000 [==============================] - 73s 2ms/step - loss: 0.0532 - acc: 0.9846 - val_loss: 0.0373 - val_acc: 0.9910\n",
      "Epoch 8/10\n",
      "48000/48000 [==============================] - 68s 1ms/step - loss: 0.0490 - acc: 0.9858 - val_loss: 0.0321 - val_acc: 0.9917\n",
      "Epoch 9/10\n",
      "48000/48000 [==============================] - 66s 1ms/step - loss: 0.0486 - acc: 0.9858 - val_loss: 0.0299 - val_acc: 0.9918\n",
      "Epoch 10/10\n",
      "48000/48000 [==============================] - 78s 2ms/step - loss: 0.0453 - acc: 0.9861 - val_loss: 0.0328 - val_acc: 0.9908\n"
     ]
    }
   ],
   "source": [
    "# 훈련데이터 중에 검증용 20% 사용\n",
    "his = model.fit( x_train, y_train, batch_size=batch_size, epochs=epochs, \n",
    "                 validation_split=0.2 )"
   ]
  },
  {
   "cell_type": "code",
   "execution_count": 40,
   "metadata": {},
   "outputs": [
    {
     "name": "stdout",
     "output_type": "stream",
     "text": [
      "10000/10000 [==============================] - 4s 435us/step\n"
     ]
    },
    {
     "data": {
      "text/plain": [
       "[0.025114613091268983, 0.9914]"
      ]
     },
     "execution_count": 40,
     "metadata": {},
     "output_type": "execute_result"
    }
   ],
   "source": [
    "score = model.evaluate( x_test, y_test )\n",
    "score"
   ]
  },
  {
   "cell_type": "code",
   "execution_count": null,
   "metadata": {},
   "outputs": [],
   "source": []
  },
  {
   "cell_type": "code",
   "execution_count": null,
   "metadata": {},
   "outputs": [],
   "source": []
  }
 ],
 "metadata": {
  "kernelspec": {
   "display_name": "Python 3",
   "language": "python",
   "name": "python3"
  },
  "language_info": {
   "codemirror_mode": {
    "name": "ipython",
    "version": 3
   },
   "file_extension": ".py",
   "mimetype": "text/x-python",
   "name": "python",
   "nbconvert_exporter": "python",
   "pygments_lexer": "ipython3",
   "version": "3.6.5"
  }
 },
 "nbformat": 4,
 "nbformat_minor": 2
}
