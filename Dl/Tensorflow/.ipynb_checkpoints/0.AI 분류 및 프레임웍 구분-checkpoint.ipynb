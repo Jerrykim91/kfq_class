{
 "cells": [
  {
   "cell_type": "markdown",
   "metadata": {},
   "source": [
    "### AI : Artificial Intelligence\n",
    "\n",
    "- AI\n",
    "    - AGI : Artificial General Intelligence\n",
    "        - 인공일반지능\n",
    "        - 영화에서보는  AI, 여러가지 일을 다 처리\n",
    "        - 인간이 할수 있는 어떤 지적 업무도 다 성공적으로 수행해 내는 기계의지능\n",
    "        - 대화, 판단, 게임, 등등 인간이 하는 모든 것을 그 이상으로 수행\n",
    "    - ANI : Artificial Narrow Intelligence\n",
    "        - 좁은 AI\n",
    "        - 하나의 작업에 촛점을 맞춘 인공지능\n",
    "        - 한개만 잘한다. 하나의 작업외에는 아무것도 못한다\n",
    "        - 얼굴인식(페이스북)등\n",
    "        - 이런 AI를 학습하기 위한 작업 ->  Machine Learning\n",
    "            1. suspervised Learning : label이 존재. 데이터를 분류해서 제공\n",
    "            2. unsuspervised Learning : lable이 없다. 특성 추출, 군집\n",
    "            3. semi-suspervised Learning : 일부만 label이존재\n",
    "            4. Reinforcement Learning : 행동심리학에서 영감을 얻고, 어떤 환경에서 정의된 에이전트(agent)가 최대화 행동, 행동 순서들을 선택하는 방법 : DQN, 알파고\n",
    "        - 머신러닝을 달성하기 위한 방벙중에 하나 딥러닝(Deep Learnig)\n",
    "            - 뉴럴 네트워크:(인공)신경망을 이용하여 학습 수행\n",
    "            - 대규모 데이터, 프로세스 필요, GPU  연산(CUDA, ROCM)\n",
    "            - 이를 위한 대표적인 언어 : 파이썬\n",
    "            - 이를 위한 프레임웍크(엔진) \n",
    "              텐서플로우 : Tensorflow : 구글의 백업, 거대 커뮤니티, 최강자\n",
    "              케라스     : Keras : 딥러닝 입문시 좋다(쉬워서), 여러엔진사용가능\n",
    "                                   엔진이 아니라 인터페이스이다, 인간을 위해설계\n",
    "              파이토치   : PyTorch : 페이스북 백업, 2019년도 엔진 2위\n",
    "            - bit.ly/2kIVBGh : 딥러닝 프레임웍 scores\n",
    "                - Tensorflow > PyTorch > Keras (2019 순위)"
   ]
  },
  {
   "cell_type": "markdown",
   "metadata": {},
   "source": [
    "<img src='./0.dl_framework.png'>\n",
    "<img src='./0.dl_job_rank.png'>\n",
    "<img src='./0.dl_science_rank.png'>\n",
    "<img src='./0.dl_rank_2019.png'>"
   ]
  },
  {
   "cell_type": "code",
   "execution_count": null,
   "metadata": {},
   "outputs": [],
   "source": []
  },
  {
   "cell_type": "code",
   "execution_count": null,
   "metadata": {},
   "outputs": [],
   "source": []
  },
  {
   "cell_type": "code",
   "execution_count": null,
   "metadata": {},
   "outputs": [],
   "source": []
  },
  {
   "cell_type": "code",
   "execution_count": null,
   "metadata": {},
   "outputs": [],
   "source": []
  },
  {
   "cell_type": "code",
   "execution_count": null,
   "metadata": {},
   "outputs": [],
   "source": []
  },
  {
   "cell_type": "code",
   "execution_count": null,
   "metadata": {},
   "outputs": [],
   "source": []
  },
  {
   "cell_type": "code",
   "execution_count": null,
   "metadata": {},
   "outputs": [],
   "source": []
  },
  {
   "cell_type": "code",
   "execution_count": null,
   "metadata": {},
   "outputs": [],
   "source": []
  },
  {
   "cell_type": "code",
   "execution_count": null,
   "metadata": {},
   "outputs": [],
   "source": []
  },
  {
   "cell_type": "code",
   "execution_count": null,
   "metadata": {},
   "outputs": [],
   "source": []
  }
 ],
 "metadata": {
  "kernelspec": {
   "display_name": "Python 3",
   "language": "python",
   "name": "python3"
  },
  "language_info": {
   "codemirror_mode": {
    "name": "ipython",
    "version": 3
   },
   "file_extension": ".py",
   "mimetype": "text/x-python",
   "name": "python",
   "nbconvert_exporter": "python",
   "pygments_lexer": "ipython3",
   "version": "3.6.5"
  }
 },
 "nbformat": 4,
 "nbformat_minor": 2
}
