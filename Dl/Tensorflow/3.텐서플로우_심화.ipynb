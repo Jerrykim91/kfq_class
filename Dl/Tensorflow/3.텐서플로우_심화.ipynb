{
 "cells": [
  {
   "cell_type": "markdown",
   "metadata": {},
   "source": [
    "### 텐서플로우를 이용하여 ML 구현"
   ]
  },
  {
   "cell_type": "markdown",
   "metadata": {},
   "source": [
    "- 알고리즘 SVM 을 이용하여 BMI를 학습시키고, 비만도를 판정\n",
    "- BMI 지수 = (몸무게/키)*키\n",
    "- 데이터 3.bmi.csv"
   ]
  },
  {
   "cell_type": "markdown",
   "metadata": {},
   "source": [
    "<img src='./텐서용어.png'>"
   ]
  },
  {
   "cell_type": "code",
   "execution_count": 1,
   "metadata": {},
   "outputs": [
    {
     "name": "stderr",
     "output_type": "stream",
     "text": [
      "C:\\Users\\User\\Anaconda3\\lib\\site-packages\\tensorflow\\python\\framework\\dtypes.py:516: FutureWarning: Passing (type, 1) or '1type' as a synonym of type is deprecated; in a future version of numpy, it will be understood as (type, (1,)) / '(1,)type'.\n",
      "  _np_qint8 = np.dtype([(\"qint8\", np.int8, 1)])\n",
      "C:\\Users\\User\\Anaconda3\\lib\\site-packages\\tensorflow\\python\\framework\\dtypes.py:517: FutureWarning: Passing (type, 1) or '1type' as a synonym of type is deprecated; in a future version of numpy, it will be understood as (type, (1,)) / '(1,)type'.\n",
      "  _np_quint8 = np.dtype([(\"quint8\", np.uint8, 1)])\n",
      "C:\\Users\\User\\Anaconda3\\lib\\site-packages\\tensorflow\\python\\framework\\dtypes.py:518: FutureWarning: Passing (type, 1) or '1type' as a synonym of type is deprecated; in a future version of numpy, it will be understood as (type, (1,)) / '(1,)type'.\n",
      "  _np_qint16 = np.dtype([(\"qint16\", np.int16, 1)])\n",
      "C:\\Users\\User\\Anaconda3\\lib\\site-packages\\tensorflow\\python\\framework\\dtypes.py:519: FutureWarning: Passing (type, 1) or '1type' as a synonym of type is deprecated; in a future version of numpy, it will be understood as (type, (1,)) / '(1,)type'.\n",
      "  _np_quint16 = np.dtype([(\"quint16\", np.uint16, 1)])\n",
      "C:\\Users\\User\\Anaconda3\\lib\\site-packages\\tensorflow\\python\\framework\\dtypes.py:520: FutureWarning: Passing (type, 1) or '1type' as a synonym of type is deprecated; in a future version of numpy, it will be understood as (type, (1,)) / '(1,)type'.\n",
      "  _np_qint32 = np.dtype([(\"qint32\", np.int32, 1)])\n",
      "C:\\Users\\User\\Anaconda3\\lib\\site-packages\\tensorflow\\python\\framework\\dtypes.py:525: FutureWarning: Passing (type, 1) or '1type' as a synonym of type is deprecated; in a future version of numpy, it will be understood as (type, (1,)) / '(1,)type'.\n",
      "  np_resource = np.dtype([(\"resource\", np.ubyte, 1)])\n",
      "C:\\Users\\User\\Anaconda3\\lib\\site-packages\\h5py\\__init__.py:36: FutureWarning: Conversion of the second argument of issubdtype from `float` to `np.floating` is deprecated. In future, it will be treated as `np.float64 == np.dtype(float).type`.\n",
      "  from ._conv import register_converters as _register_converters\n",
      "C:\\Users\\User\\Anaconda3\\lib\\site-packages\\tensorboard\\compat\\tensorflow_stub\\dtypes.py:541: FutureWarning: Passing (type, 1) or '1type' as a synonym of type is deprecated; in a future version of numpy, it will be understood as (type, (1,)) / '(1,)type'.\n",
      "  _np_qint8 = np.dtype([(\"qint8\", np.int8, 1)])\n",
      "C:\\Users\\User\\Anaconda3\\lib\\site-packages\\tensorboard\\compat\\tensorflow_stub\\dtypes.py:542: FutureWarning: Passing (type, 1) or '1type' as a synonym of type is deprecated; in a future version of numpy, it will be understood as (type, (1,)) / '(1,)type'.\n",
      "  _np_quint8 = np.dtype([(\"quint8\", np.uint8, 1)])\n",
      "C:\\Users\\User\\Anaconda3\\lib\\site-packages\\tensorboard\\compat\\tensorflow_stub\\dtypes.py:543: FutureWarning: Passing (type, 1) or '1type' as a synonym of type is deprecated; in a future version of numpy, it will be understood as (type, (1,)) / '(1,)type'.\n",
      "  _np_qint16 = np.dtype([(\"qint16\", np.int16, 1)])\n",
      "C:\\Users\\User\\Anaconda3\\lib\\site-packages\\tensorboard\\compat\\tensorflow_stub\\dtypes.py:544: FutureWarning: Passing (type, 1) or '1type' as a synonym of type is deprecated; in a future version of numpy, it will be understood as (type, (1,)) / '(1,)type'.\n",
      "  _np_quint16 = np.dtype([(\"quint16\", np.uint16, 1)])\n",
      "C:\\Users\\User\\Anaconda3\\lib\\site-packages\\tensorboard\\compat\\tensorflow_stub\\dtypes.py:545: FutureWarning: Passing (type, 1) or '1type' as a synonym of type is deprecated; in a future version of numpy, it will be understood as (type, (1,)) / '(1,)type'.\n",
      "  _np_qint32 = np.dtype([(\"qint32\", np.int32, 1)])\n",
      "C:\\Users\\User\\Anaconda3\\lib\\site-packages\\tensorboard\\compat\\tensorflow_stub\\dtypes.py:550: FutureWarning: Passing (type, 1) or '1type' as a synonym of type is deprecated; in a future version of numpy, it will be understood as (type, (1,)) / '(1,)type'.\n",
      "  np_resource = np.dtype([(\"resource\", np.ubyte, 1)])\n"
     ]
    }
   ],
   "source": [
    "# 사용패키지 로드\n",
    "import pandas as pd\n",
    "import numpy as np\n",
    "import tensorflow as tf"
   ]
  },
  {
   "cell_type": "code",
   "execution_count": 2,
   "metadata": {},
   "outputs": [
    {
     "data": {
      "text/plain": [
       "(20000, 3)"
      ]
     },
     "execution_count": 2,
     "metadata": {},
     "output_type": "execute_result"
    }
   ],
   "source": [
    "# 데이터로드\n",
    "csv = pd.read_csv('./3_bmi.csv')\n",
    "csv.shape"
   ]
  },
  {
   "cell_type": "code",
   "execution_count": 3,
   "metadata": {},
   "outputs": [
    {
     "data": {
      "text/html": [
       "<div>\n",
       "<style scoped>\n",
       "    .dataframe tbody tr th:only-of-type {\n",
       "        vertical-align: middle;\n",
       "    }\n",
       "\n",
       "    .dataframe tbody tr th {\n",
       "        vertical-align: top;\n",
       "    }\n",
       "\n",
       "    .dataframe thead th {\n",
       "        text-align: right;\n",
       "    }\n",
       "</style>\n",
       "<table border=\"1\" class=\"dataframe\">\n",
       "  <thead>\n",
       "    <tr style=\"text-align: right;\">\n",
       "      <th></th>\n",
       "      <th>height</th>\n",
       "      <th>weight</th>\n",
       "      <th>label</th>\n",
       "    </tr>\n",
       "  </thead>\n",
       "  <tbody>\n",
       "    <tr>\n",
       "      <th>0</th>\n",
       "      <td>178</td>\n",
       "      <td>69</td>\n",
       "      <td>normal</td>\n",
       "    </tr>\n",
       "    <tr>\n",
       "      <th>1</th>\n",
       "      <td>190</td>\n",
       "      <td>62</td>\n",
       "      <td>thin</td>\n",
       "    </tr>\n",
       "  </tbody>\n",
       "</table>\n",
       "</div>"
      ],
      "text/plain": [
       "   height  weight   label\n",
       "0     178      69  normal\n",
       "1     190      62    thin"
      ]
     },
     "execution_count": 3,
     "metadata": {},
     "output_type": "execute_result"
    }
   ],
   "source": [
    "csv.head(2)"
   ]
  },
  {
   "cell_type": "code",
   "execution_count": 4,
   "metadata": {},
   "outputs": [],
   "source": [
    "# 데이터 전처리\n",
    "# height\tweight의 최대값기준 정규화\n",
    "csv['height'] = csv['height']  / csv['height'].max()\n",
    "csv['weight'] = csv['weight']  / csv['weight'].max()"
   ]
  },
  {
   "cell_type": "code",
   "execution_count": 5,
   "metadata": {},
   "outputs": [
    {
     "data": {
      "text/plain": [
       "(0.6, 1.0)"
      ]
     },
     "execution_count": 5,
     "metadata": {},
     "output_type": "execute_result"
    }
   ],
   "source": [
    "csv['height'].min(), csv['height'].max()"
   ]
  },
  {
   "cell_type": "code",
   "execution_count": 6,
   "metadata": {},
   "outputs": [
    {
     "data": {
      "text/plain": [
       "(0.4375, 1.0)"
      ]
     },
     "execution_count": 6,
     "metadata": {},
     "output_type": "execute_result"
    }
   ],
   "source": [
    "csv['weight'].min(), csv['weight'].max()"
   ]
  },
  {
   "cell_type": "code",
   "execution_count": 7,
   "metadata": {},
   "outputs": [
    {
     "data": {
      "text/html": [
       "<div>\n",
       "<style scoped>\n",
       "    .dataframe tbody tr th:only-of-type {\n",
       "        vertical-align: middle;\n",
       "    }\n",
       "\n",
       "    .dataframe tbody tr th {\n",
       "        vertical-align: top;\n",
       "    }\n",
       "\n",
       "    .dataframe thead th {\n",
       "        text-align: right;\n",
       "    }\n",
       "</style>\n",
       "<table border=\"1\" class=\"dataframe\">\n",
       "  <thead>\n",
       "    <tr style=\"text-align: right;\">\n",
       "      <th></th>\n",
       "      <th>height</th>\n",
       "      <th>weight</th>\n",
       "      <th>label</th>\n",
       "    </tr>\n",
       "  </thead>\n",
       "  <tbody>\n",
       "    <tr>\n",
       "      <th>0</th>\n",
       "      <td>0.89</td>\n",
       "      <td>0.8625</td>\n",
       "      <td>normal</td>\n",
       "    </tr>\n",
       "    <tr>\n",
       "      <th>1</th>\n",
       "      <td>0.95</td>\n",
       "      <td>0.7750</td>\n",
       "      <td>thin</td>\n",
       "    </tr>\n",
       "  </tbody>\n",
       "</table>\n",
       "</div>"
      ],
      "text/plain": [
       "   height  weight   label\n",
       "0    0.89  0.8625  normal\n",
       "1    0.95  0.7750    thin"
      ]
     },
     "execution_count": 7,
     "metadata": {},
     "output_type": "execute_result"
    }
   ],
   "source": [
    "csv.head(2)"
   ]
  },
  {
   "cell_type": "code",
   "execution_count": 8,
   "metadata": {},
   "outputs": [
    {
     "data": {
      "text/plain": [
       "array(['normal', 'thin', 'fat'], dtype=object)"
      ]
     },
     "execution_count": 8,
     "metadata": {},
     "output_type": "execute_result"
    }
   ],
   "source": [
    "csv['label'].unique()"
   ]
  },
  {
   "cell_type": "code",
   "execution_count": 9,
   "metadata": {},
   "outputs": [],
   "source": [
    "# csv['label']의 백터화 => 분류변수\n",
    "labelClass = {\n",
    "    'thin':  [1,0,0],\n",
    "    'normal':[0,1,0],\n",
    "    'fat':   [0,0,1]\n",
    "}"
   ]
  },
  {
   "cell_type": "code",
   "execution_count": 10,
   "metadata": {},
   "outputs": [
    {
     "data": {
      "text/plain": [
       "0    [0, 1, 0]\n",
       "1    [1, 0, 0]\n",
       "Name: label_bmi, dtype: object"
      ]
     },
     "execution_count": 10,
     "metadata": {},
     "output_type": "execute_result"
    }
   ],
   "source": [
    "# 데이터 전환 -> 값으로 배열을 넣는다 => np.array( 리스트 )\n",
    "csv['label_bmi'] = csv['label'].apply( lambda x : np.array( labelClass[x] ) )\n",
    "csv['label_bmi'][:2]"
   ]
  },
  {
   "cell_type": "code",
   "execution_count": 11,
   "metadata": {},
   "outputs": [
    {
     "data": {
      "text/html": [
       "<div>\n",
       "<style scoped>\n",
       "    .dataframe tbody tr th:only-of-type {\n",
       "        vertical-align: middle;\n",
       "    }\n",
       "\n",
       "    .dataframe tbody tr th {\n",
       "        vertical-align: top;\n",
       "    }\n",
       "\n",
       "    .dataframe thead th {\n",
       "        text-align: right;\n",
       "    }\n",
       "</style>\n",
       "<table border=\"1\" class=\"dataframe\">\n",
       "  <thead>\n",
       "    <tr style=\"text-align: right;\">\n",
       "      <th></th>\n",
       "      <th>height</th>\n",
       "      <th>weight</th>\n",
       "      <th>label</th>\n",
       "      <th>label_bmi</th>\n",
       "    </tr>\n",
       "  </thead>\n",
       "  <tbody>\n",
       "    <tr>\n",
       "      <th>0</th>\n",
       "      <td>0.89</td>\n",
       "      <td>0.8625</td>\n",
       "      <td>normal</td>\n",
       "      <td>[0, 1, 0]</td>\n",
       "    </tr>\n",
       "    <tr>\n",
       "      <th>1</th>\n",
       "      <td>0.95</td>\n",
       "      <td>0.7750</td>\n",
       "      <td>thin</td>\n",
       "      <td>[1, 0, 0]</td>\n",
       "    </tr>\n",
       "  </tbody>\n",
       "</table>\n",
       "</div>"
      ],
      "text/plain": [
       "   height  weight   label  label_bmi\n",
       "0    0.89  0.8625  normal  [0, 1, 0]\n",
       "1    0.95  0.7750    thin  [1, 0, 0]"
      ]
     },
     "execution_count": 11,
     "metadata": {},
     "output_type": "execute_result"
    }
   ],
   "source": [
    "csv.head(2)"
   ]
  },
  {
   "cell_type": "code",
   "execution_count": 12,
   "metadata": {},
   "outputs": [],
   "source": [
    "# 데이터 준비 -> 훈련용 데이터, 검증용 데이터로 분류\n",
    "from sklearn.model_selection import train_test_split"
   ]
  },
  {
   "cell_type": "code",
   "execution_count": 13,
   "metadata": {},
   "outputs": [
    {
     "data": {
      "text/plain": [
       "(   height  weight\n",
       " 0    0.89  0.8625, 0    [0, 1, 0]\n",
       " Name: label_bmi, dtype: object)"
      ]
     },
     "execution_count": 13,
     "metadata": {},
     "output_type": "execute_result"
    }
   ],
   "source": [
    "csv[ ['height','weight'] ].head(1), csv['label_bmi'][:1]"
   ]
  },
  {
   "cell_type": "code",
   "execution_count": 14,
   "metadata": {},
   "outputs": [],
   "source": [
    "# 일관성 있게 결과를 얻고 싶다면 => 난수의 시드를 고정해라\n",
    "X_train, X_test, y_train, y_test = train_test_split(\n",
    "    csv[ ['weight','height'] ], csv['label_bmi'],\n",
    "    test_size = 0.25, random_state = 0 )"
   ]
  },
  {
   "cell_type": "code",
   "execution_count": 15,
   "metadata": {},
   "outputs": [
    {
     "data": {
      "text/plain": [
       "((15000, 2), (5000, 2), (15000,), (5000,))"
      ]
     },
     "execution_count": 15,
     "metadata": {},
     "output_type": "execute_result"
    }
   ],
   "source": [
    "X_train.shape, X_test.shape, y_train.shape, y_test.shape"
   ]
  },
  {
   "cell_type": "code",
   "execution_count": 16,
   "metadata": {},
   "outputs": [
    {
     "data": {
      "text/plain": [
       "16152    [0, 1, 0]\n",
       "17768    [0, 0, 1]\n",
       "Name: label_bmi, dtype: object"
      ]
     },
     "execution_count": 16,
     "metadata": {},
     "output_type": "execute_result"
    }
   ],
   "source": [
    "y_train[:2]"
   ]
  },
  {
   "cell_type": "markdown",
   "metadata": {},
   "source": [
    "- 텐서플로우 등장\n",
    "- 소프트맥스 회귀라는 알고리즘을 사용 -> DL 수행시 자주 사용하는 활성화 함수중에\n",
    "  하나, softmax(), sigmod(),.. : 소프트맥스 회귀->인공신경망과 아주 유사\n",
    "<img src='./sm0.png' width='200'>"
   ]
  },
  {
   "cell_type": "markdown",
   "metadata": {},
   "source": [
    "- 각각의 입력값에 가중치(W)를 곱하고, 편향:바이어스(b)를 더하고 나서 \n",
    "- softmax() 함수를 통과 시키면,  출력값이 나타나게 된다"
   ]
  },
  {
   "cell_type": "markdown",
   "metadata": {},
   "source": [
    "<img src='./sm1.png' width='500'>"
   ]
  },
  {
   "cell_type": "markdown",
   "metadata": {},
   "source": [
    "<img src='./sm2.png' width='500'>"
   ]
  },
  {
   "cell_type": "markdown",
   "metadata": {},
   "source": [
    "<img src='./sm3.png' width='500'>"
   ]
  },
  {
   "cell_type": "markdown",
   "metadata": {},
   "source": [
    "- **y = softmax( Wx + b )**\n",
    "- 실제 텐서플로우로 구현시 차원유지를 위해서 Wx는 xW로 구현할수 있다 행렬곱"
   ]
  },
  {
   "cell_type": "code",
   "execution_count": 17,
   "metadata": {},
   "outputs": [],
   "source": [
    "# 소프트맥스회귀 식을 텐서플로우 구현하기 위해 구성요소 정의\n",
    "# 입력 => x => 키, 몸무게  이렇것이  N개\n",
    "#x = tf.placeholder( tf.float32, [None, 2] \n",
    "x  = tf.placeholder(tf.float32, [None, 2])"
   ]
  },
  {
   "cell_type": "code",
   "execution_count": 18,
   "metadata": {},
   "outputs": [],
   "source": [
    "# 출력  y_ -> 1,0,0 or 0,1,0 or 0,0,1 -> [None 3]\n",
    "#y_ = tf.placeholder( tf.float32, [None, 3] )\n",
    "y_ = tf.placeholder(tf.float32, [None, 3])"
   ]
  },
  {
   "cell_type": "code",
   "execution_count": 19,
   "metadata": {},
   "outputs": [],
   "source": [
    "# 가중치 : W -> 필터, 커널로 표현\n",
    "# W*[None,2] + b = [None,3]\n",
    "# [None,2]*[2, 3] + [3] = [None,3]\n",
    "# tf.zeros() 통해서 해당 행렬에 기본값을 0으로 세팅\n",
    "#W = tf.Variable( tf.zeros([2, 3]) )\n",
    "W = tf.Variable(tf.zeros([2, 3]));"
   ]
  },
  {
   "cell_type": "code",
   "execution_count": 20,
   "metadata": {},
   "outputs": [],
   "source": [
    "# 편향, 바이어스\n",
    "#b = tf.Variable( tf.zeros([3]) )\n",
    "b = tf.Variable(tf.zeros([3]));    "
   ]
  },
  {
   "cell_type": "code",
   "execution_count": 21,
   "metadata": {},
   "outputs": [],
   "source": [
    "# 데이터 플로우 그래프 y\n",
    "#y = tf.nn.softmax( tf.matmul( x, W ) + b )\n",
    "y = tf.nn.softmax(tf.matmul(x, W) + b)"
   ]
  },
  {
   "cell_type": "code",
   "execution_count": 22,
   "metadata": {},
   "outputs": [
    {
     "data": {
      "text/plain": [
       "'(?, 2) x (2, 3) + (3,) = (?, 3)'"
      ]
     },
     "execution_count": 22,
     "metadata": {},
     "output_type": "execute_result"
    }
   ],
   "source": [
    "'%s x %s + %s = %s' % ( x.shape, W.shape, b.shape, y.shape )"
   ]
  },
  {
   "cell_type": "markdown",
   "metadata": {},
   "source": [
    "#### 학습\n",
    "\n",
    "- 좋은 모델에 대한 정의\n",
    "- 기준\n",
    "    - 비용(cost), 손실(loss)등 원하는 결과에서 얼마나 떨어져 있는지 지표\n",
    "    - 이런 격차를 줄이는 방향으로 내용 전개. \n",
    "    - 이를 위해서 통상 \"크로스 엔트로피\" 알고리즘 적용\n",
    "    - 정보 이론 분야에 정보 알축 알고리즘으로 고안  \n",
    "    - 도박, 머신러닝등에 중요한 아이디어로 사용\n",
    "    <img src='./sm4.png' width='200'>"
   ]
  },
  {
   "cell_type": "code",
   "execution_count": 23,
   "metadata": {},
   "outputs": [],
   "source": [
    "# 텐서플로워로 크로스 엔트로피 구성\n",
    "# y_ : 정답 레이블, y:예측 레이블\n",
    "#cross_entropy = -tf.reduce_sum(y_ * tf.log(y) )\n",
    "cross_entropy = -tf.reduce_sum(y_ * tf.log(y))"
   ]
  },
  {
   "cell_type": "code",
   "execution_count": 24,
   "metadata": {},
   "outputs": [],
   "source": [
    "# 크로스 엔트로피값을 최소화 하도록 작업이 진행\n",
    "# 이런 지시는 => 경사 하강법(gradient descent algorithm)으로 수행\n",
    "# 경사하강법을 적용하면, 텐서플로우가 각각의 변수를 비용을 줄이는 방향으로\n",
    "# 조금씩 이동시켜서 연산. => 오차율이 최소가 되게 하기 위해 \n",
    "# 경사 하강법 알고리즘 생성\n",
    "\n",
    "# 하이퍼파라미터 0.01\n",
    "#optimzer = tf.train.GradientDescentOptimizer( 0.01 ) \n",
    "optimizer     = tf.train.GradientDescentOptimizer(0.01)"
   ]
  },
  {
   "cell_type": "code",
   "execution_count": 25,
   "metadata": {},
   "outputs": [],
   "source": [
    "# 훈련 정의\n",
    "#train = optimzer.minimize( cross_entropy )\n",
    "train         = optimizer.minimize(cross_entropy)"
   ]
  },
  {
   "cell_type": "code",
   "execution_count": 26,
   "metadata": {},
   "outputs": [],
   "source": [
    "# 정답률 예측 정의\n",
    "# y_ : 정답 레이블\n",
    "# y  : 예측 레이블\n",
    "# tf.argmax( y, 1 ) : 모델이 판단하기에 각 데이터별 가장 적합하다고 판단되는라벨\n",
    "predict = tf.equal( tf.argmax( y, 1 ), tf.argmax( y_, 1) )"
   ]
  },
  {
   "cell_type": "code",
   "execution_count": 27,
   "metadata": {},
   "outputs": [],
   "source": [
    "# 정확도 정의\n",
    "# predict => 불린형 리스트 => 부동소수 변환 => 평균\n",
    "#accurary = tf.reduce_mean( tf.cast(predict, tf.float32) )\n",
    "accuracy      = tf.reduce_mean(tf.cast(predict, tf.float32))"
   ]
  },
  {
   "cell_type": "markdown",
   "metadata": {},
   "source": [
    "- 세션 가동 => 실제 연산 수행 => 결과 획득"
   ]
  },
  {
   "cell_type": "code",
   "execution_count": 28,
   "metadata": {},
   "outputs": [
    {
     "name": "stdout",
     "output_type": "stream",
     "text": [
      "W <tf.Variable 'Variable:0' shape=(2, 3) dtype=float32_ref>\n",
      "b <tf.Variable 'Variable_1:0' shape=(3,) dtype=float32_ref>\n",
      "b 150\n",
      "step=0 cre=106.28909 acc=0.3788\n",
      "step=16 cre=97.68382 acc=0.4046\n",
      "step=32 cre=94.6158 acc=0.623\n",
      "step=48 cre=91.6945 acc=0.7016\n",
      "step=64 cre=87.549416 acc=0.719\n",
      "step=80 cre=81.48253 acc=0.805\n",
      "step=96 cre=81.0717 acc=0.661\n",
      "step=112 cre=78.853745 acc=0.7536\n",
      "step=128 cre=73.00946 acc=0.7486\n",
      "step=144 cre=75.01829 acc=0.818\n",
      "step=160 cre=68.12228 acc=0.691\n",
      "step=176 cre=62.46381 acc=0.6828\n",
      "step=192 cre=65.49155 acc=0.6866\n",
      "step=208 cre=67.22738 acc=0.7402\n",
      "step=224 cre=64.77496 acc=0.7442\n",
      "step=240 cre=65.125626 acc=0.8458\n",
      "step=256 cre=68.325935 acc=0.862\n",
      "step=272 cre=62.622192 acc=0.7408\n",
      "step=288 cre=53.811142 acc=0.7004\n",
      "step=304 cre=59.383442 acc=0.775\n",
      "step=320 cre=61.36272 acc=0.815\n",
      "step=336 cre=60.890743 acc=0.8784\n",
      "step=352 cre=59.50278 acc=0.8822\n",
      "step=368 cre=60.583725 acc=0.8654\n",
      "step=384 cre=54.07996 acc=0.8678\n",
      "step=400 cre=55.819664 acc=0.8086\n",
      "step=416 cre=57.83302 acc=0.8924\n",
      "step=432 cre=55.281395 acc=0.8532\n",
      "step=448 cre=52.920937 acc=0.7788\n",
      "step=464 cre=51.30915 acc=0.7766\n",
      "step=480 cre=51.642178 acc=0.8814\n",
      "step=496 cre=50.18199 acc=0.8158\n",
      "step=512 cre=49.678383 acc=0.8234\n",
      "step=528 cre=51.510532 acc=0.8276\n",
      "step=544 cre=49.864693 acc=0.81\n",
      "step=560 cre=48.514458 acc=0.826\n",
      "step=576 cre=51.248405 acc=0.8974\n",
      "step=592 cre=46.807266 acc=0.8146\n",
      "step=608 cre=51.708126 acc=0.8578\n",
      "step=624 cre=48.025375 acc=0.8508\n",
      "step=640 cre=51.685024 acc=0.8596\n",
      "step=656 cre=49.100903 acc=0.8696\n",
      "step=672 cre=49.414394 acc=0.8548\n",
      "step=688 cre=47.326107 acc=0.8988\n",
      "step=704 cre=50.415688 acc=0.905\n",
      "step=720 cre=44.00172 acc=0.883\n",
      "step=736 cre=41.4389 acc=0.8886\n",
      "step=752 cre=44.401512 acc=0.8462\n",
      "step=768 cre=52.40029 acc=0.881\n",
      "step=784 cre=46.948162 acc=0.8986\n",
      "step=800 cre=52.119232 acc=0.9046\n",
      "step=816 cre=42.565643 acc=0.8726\n",
      "step=832 cre=42.32799 acc=0.8928\n",
      "step=848 cre=44.975594 acc=0.851\n",
      "step=864 cre=46.18118 acc=0.9068\n",
      "step=880 cre=43.334045 acc=0.8542\n",
      "step=896 cre=48.959984 acc=0.896\n",
      "step=912 cre=39.766975 acc=0.8586\n",
      "step=928 cre=42.84901 acc=0.9156\n",
      "step=944 cre=38.338207 acc=0.8576\n",
      "step=960 cre=38.203392 acc=0.8532\n",
      "step=976 cre=37.883804 acc=0.8562\n",
      "step=992 cre=43.413876 acc=0.9134\n",
      "step=1008 cre=36.155224 acc=0.8728\n",
      "step=1024 cre=41.37648 acc=0.8988\n",
      "step=1040 cre=39.79689 acc=0.9154\n",
      "step=1056 cre=41.09075 acc=0.8998\n",
      "step=1072 cre=41.43325 acc=0.916\n",
      "step=1088 cre=39.822514 acc=0.8944\n",
      "step=1104 cre=43.13252 acc=0.8708\n",
      "step=1120 cre=40.978966 acc=0.9084\n",
      "step=1136 cre=40.795025 acc=0.9238\n",
      "step=1152 cre=40.842777 acc=0.915\n",
      "step=1168 cre=42.524776 acc=0.92\n",
      "step=1184 cre=38.22757 acc=0.8898\n",
      "step=1200 cre=34.898884 acc=0.807\n",
      "step=1216 cre=43.66051 acc=0.9256\n",
      "step=1232 cre=41.745293 acc=0.923\n",
      "step=1248 cre=39.354275 acc=0.9004\n",
      "step=1264 cre=32.63232 acc=0.8394\n",
      "step=1280 cre=41.321537 acc=0.9278\n",
      "step=1296 cre=31.930283 acc=0.826\n",
      "step=1312 cre=47.706875 acc=0.9266\n",
      "step=1328 cre=39.934677 acc=0.9086\n",
      "step=1344 cre=34.392525 acc=0.9296\n",
      "step=1360 cre=39.46239 acc=0.9248\n",
      "step=1376 cre=40.87503 acc=0.9086\n",
      "step=1392 cre=35.714886 acc=0.9212\n",
      "step=1408 cre=38.53984 acc=0.9304\n",
      "step=1424 cre=38.078545 acc=0.9278\n",
      "step=1440 cre=40.022163 acc=0.894\n",
      "step=1456 cre=38.217224 acc=0.9342\n",
      "step=1472 cre=38.73121 acc=0.9322\n",
      "step=1488 cre=39.98662 acc=0.9346\n",
      "step=1504 cre=38.537815 acc=0.9278\n",
      "step=1520 cre=36.031677 acc=0.919\n",
      "step=1536 cre=33.726597 acc=0.872\n",
      "step=1552 cre=34.92503 acc=0.9358\n",
      "step=1568 cre=40.231663 acc=0.9216\n",
      "step=1584 cre=38.892086 acc=0.9412\n",
      "step=1600 cre=34.833794 acc=0.94\n",
      "step=1616 cre=40.455254 acc=0.9154\n",
      "step=1632 cre=36.112114 acc=0.9086\n",
      "step=1648 cre=35.443604 acc=0.9152\n",
      "step=1664 cre=36.946644 acc=0.9428\n",
      "step=1680 cre=32.623566 acc=0.9104\n",
      "step=1696 cre=36.88946 acc=0.94\n",
      "step=1712 cre=38.142097 acc=0.9332\n",
      "step=1728 cre=32.059303 acc=0.9382\n",
      "step=1744 cre=40.17557 acc=0.9246\n",
      "step=1760 cre=36.436047 acc=0.906\n",
      "step=1776 cre=37.348354 acc=0.9356\n",
      "step=1792 cre=35.440083 acc=0.9274\n",
      "step=1808 cre=36.01061 acc=0.9234\n",
      "step=1824 cre=38.854137 acc=0.9066\n",
      "step=1840 cre=34.002888 acc=0.9298\n",
      "step=1856 cre=38.021553 acc=0.9298\n",
      "step=1872 cre=35.09642 acc=0.9406\n",
      "step=1888 cre=36.63945 acc=0.9444\n",
      "step=1904 cre=35.88865 acc=0.9116\n",
      "step=1920 cre=33.478714 acc=0.9398\n",
      "step=1936 cre=37.66327 acc=0.9428\n",
      "step=1952 cre=36.922157 acc=0.9508\n",
      "step=1968 cre=35.381084 acc=0.9488\n",
      "step=1984 cre=30.449638 acc=0.9516\n",
      "step=2000 cre=34.48612 acc=0.9374\n",
      "step=2016 cre=32.62149 acc=0.9416\n",
      "step=2032 cre=32.459877 acc=0.9394\n",
      "step=2048 cre=30.650595 acc=0.9518\n",
      "step=2064 cre=31.462 acc=0.9454\n",
      "step=2080 cre=37.001545 acc=0.9354\n",
      "step=2096 cre=31.785475 acc=0.943\n",
      "step=2112 cre=30.102682 acc=0.9174\n",
      "step=2128 cre=31.355177 acc=0.936\n",
      "step=2144 cre=30.764349 acc=0.9262\n",
      "step=2160 cre=33.17587 acc=0.9494\n",
      "step=2176 cre=35.75714 acc=0.9542\n",
      "step=2192 cre=31.57409 acc=0.9502\n",
      "step=2208 cre=31.949343 acc=0.9518\n",
      "step=2224 cre=31.160383 acc=0.93\n",
      "step=2240 cre=30.202108 acc=0.9186\n",
      "step=2256 cre=30.237322 acc=0.9522\n",
      "step=2272 cre=31.845833 acc=0.9218\n",
      "step=2288 cre=37.69994 acc=0.9412\n",
      "step=2304 cre=31.010798 acc=0.9458\n",
      "step=2320 cre=33.461285 acc=0.9428\n",
      "step=2336 cre=28.545614 acc=0.9096\n",
      "step=2352 cre=36.397533 acc=0.9294\n",
      "step=2368 cre=28.771399 acc=0.9476\n",
      "step=2384 cre=28.663279 acc=0.9528\n",
      "정답률 0.9344\n"
     ]
    }
   ],
   "source": [
    "# 구동을 반복해서 시키면 학습량이 증가해서, 정확도가 상승한다\n",
    "with tf.Session() as sess:\n",
    "    # 변수 초기화\n",
    "    sess.run( tf.global_variables_initializer() )\n",
    "    print( \"W\", W)\n",
    "    print( \"b\", b)\n",
    "    \n",
    "    # 학습 데이터 0 ~ 15000 => 100개 단위로 학습하겟다 => 150회 학습\n",
    "    TERM = 100\n",
    "    size = int(X_train.shape[0]/TERM)\n",
    "    print( \"b\", size)\n",
    "    \n",
    "    # 학습\n",
    "    # 성능 향상(일반적)\n",
    "    for step in range( size*16 ):\n",
    "        # X_train에서 데이터를 추출 ->  시작위치\n",
    "        startIdx = (int)(step * TERM/16)\n",
    "        # 앞에서 부터 TERM  단위로 훈련 데이터를 추출 하겟다\n",
    "        rows = X_train[ startIdx :startIdx + TERM ]\n",
    "    \n",
    "        # 학습 데이터 구성\n",
    "        x_pat = rows[ ['weight','height'] ]\n",
    "        y_ans = list(y_train[ startIdx :startIdx + TERM ])\n",
    "        # 평가를 위한 구조\n",
    "        fd    = { x:x_pat,  y_:y_ans }\n",
    "        \n",
    "        # 학습 세트 훈련\n",
    "        # sess.run 구동시 데이터를 전달 => feed_dict=\n",
    "        sess.run( train, feed_dict=fd )\n",
    "        \n",
    "        # 중간 확인\n",
    "        if step % 16 == 0:# 15번째 마다 점검\n",
    "            # 크로스 엔트로피값 획득\n",
    "            cre = sess.run( cross_entropy, feed_dict=fd )\n",
    "            # 정확도 : X_train, X_test, y_train, y_test\n",
    "            acc = sess.run( accuracy, feed_dict={x:X_test, y_:list(y_test)} )\n",
    "            print( 'step=%s cre=%s acc=%s' % (step, cre, acc) )\n",
    "            \n",
    "    # 최종적인 정답값 확인\n",
    "    acc = sess.run( accuracy, feed_dict={x:X_test, y_:list(y_test)} )\n",
    "    print('정답률', acc)\n",
    "    \n",
    "    # 텐서들의 관계및 흐름을 보기 위해 지원: 텐서보드\n",
    "    tf.summary.FileWriter( './bmi_tf_log', graph=sess.graph )"
   ]
  },
  {
   "cell_type": "code",
   "execution_count": null,
   "metadata": {},
   "outputs": [],
   "source": [
    "# 텐서보드 가동\n",
    "# shell을 가동 \n",
    "!tensorboard --logdir=bmi_tf_log\n",
    "# http://ip:6006"
   ]
  },
  {
   "cell_type": "code",
   "execution_count": null,
   "metadata": {},
   "outputs": [],
   "source": [
    "# 컴퓨터 따라서 실행이 않될수 있으니 \n",
    "$ tensorboard --logdir=bmi_tf_log"
   ]
  },
  {
   "cell_type": "code",
   "execution_count": null,
   "metadata": {},
   "outputs": [],
   "source": []
  },
  {
   "cell_type": "code",
   "execution_count": null,
   "metadata": {},
   "outputs": [],
   "source": []
  },
  {
   "cell_type": "code",
   "execution_count": null,
   "metadata": {},
   "outputs": [],
   "source": []
  },
  {
   "cell_type": "code",
   "execution_count": null,
   "metadata": {},
   "outputs": [],
   "source": []
  },
  {
   "cell_type": "code",
   "execution_count": null,
   "metadata": {},
   "outputs": [],
   "source": []
  }
 ],
 "metadata": {
  "kernelspec": {
   "display_name": "Python 3",
   "language": "python",
   "name": "python3"
  },
  "language_info": {
   "codemirror_mode": {
    "name": "ipython",
    "version": 3
   },
   "file_extension": ".py",
   "mimetype": "text/x-python",
   "name": "python",
   "nbconvert_exporter": "python",
   "pygments_lexer": "ipython3",
   "version": "3.6.5"
  }
 },
 "nbformat": 4,
 "nbformat_minor": 2
}
