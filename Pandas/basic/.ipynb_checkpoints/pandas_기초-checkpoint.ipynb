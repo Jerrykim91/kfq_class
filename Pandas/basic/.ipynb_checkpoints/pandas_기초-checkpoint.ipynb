{
 "cells": [
  {
   "cell_type": "markdown",
   "metadata": {},
   "source": [
    "## pandas 기초\n",
    "\n",
    "- pandas는 R의 핵심 데이터 시리즈와 프레임을 파이썬의 추가한것이다\n",
    "- numpy를 기반으로 구현되었고, numpy 대비 기능을 더 확장하여 재구현한것\n",
    "- Python Data Analysis Library\n",
    "- https://pandas.pydata.org"
   ]
  },
  {
   "cell_type": "code",
   "execution_count": 31,
   "metadata": {},
   "outputs": [],
   "source": [
    "import numpy as np\n",
    "import pandas as pd"
   ]
  },
  {
   "cell_type": "markdown",
   "metadata": {},
   "source": [
    "- 파이썬의 자료구조\n",
    "> 수치형, 문자열, 리스트, 딕셔너리, 튜플, 집합, 블린  \n",
    "- numpy의 자료구조\n",
    "> ndarray(배열) : 배열의 데이터는 모든 같은 타입이다.\n",
    "- pandas의 자료구조\n",
    "> Series(시리즈), DataFrame(데이터프레임)  \n",
    "> DataFrame의 인덱싱 -> Series의 인덱싱 -> 값(스칼라), 수치, 문자, 블린, NaN 이 등장  > Series: 인덱스와 데이터만 존재하는, 컬럼이 없는 자료구조  \n",
    "> DataFrame: 인덱스와 컬럼이 존재하는 자료구조\n",
    "> NaN : 데이터가 없다. (난, 넌), Not a Number => np.nan"
   ]
  },
  {
   "cell_type": "code",
   "execution_count": 32,
   "metadata": {},
   "outputs": [
    {
     "data": {
      "text/plain": [
       "0    1.0\n",
       "1    3.0\n",
       "2    5.0\n",
       "3    NaN\n",
       "4    6.0\n",
       "5    8.0\n",
       "dtype: float64"
      ]
     },
     "execution_count": 32,
     "metadata": {},
     "output_type": "execute_result"
    }
   ],
   "source": [
    "# Series\n",
    "# 데이터를 정수로 넣었으나 기본형으로 float64가 반영되었다\n",
    "a = pd.Series( [1,3,5,np.nan, 6,8] )\n",
    "a"
   ]
  },
  {
   "cell_type": "code",
   "execution_count": 33,
   "metadata": {},
   "outputs": [
    {
     "data": {
      "text/plain": [
       "dtype('float64')"
      ]
     },
     "execution_count": 33,
     "metadata": {},
     "output_type": "execute_result"
    }
   ],
   "source": [
    "# 속성-타입\n",
    "a.dtype"
   ]
  },
  {
   "cell_type": "code",
   "execution_count": 34,
   "metadata": {},
   "outputs": [
    {
     "data": {
      "text/plain": [
       "(6,)"
      ]
     },
     "execution_count": 34,
     "metadata": {},
     "output_type": "execute_result"
    }
   ],
   "source": [
    "# 속성-크기\n",
    "a.shape\n",
    "# 1차원데이터로 총6개의 데이터가 존재"
   ]
  },
  {
   "cell_type": "code",
   "execution_count": 35,
   "metadata": {},
   "outputs": [
    {
     "data": {
      "text/plain": [
       "(['A', 'B', 'C', 'D'],\n",
       " DatetimeIndex(['2019-08-12', '2019-08-13', '2019-08-14', '2019-08-15',\n",
       "                '2019-08-16', '2019-08-17', '2019-08-18'],\n",
       "               dtype='datetime64[ns]', freq='D'))"
      ]
     },
     "execution_count": 35,
     "metadata": {},
     "output_type": "execute_result"
    }
   ],
   "source": [
    "# DataFrame\n",
    "# 인덱스와 컬럼이 존재하는 자료구조\n",
    "cols   = list('ABCD') # ['A','B','C','D']\n",
    "indexs = pd.date_range('20190812', periods=7)\n",
    "# 컬럼 4개, 인덱스 7개\n",
    "cols, indexs"
   ]
  },
  {
   "cell_type": "code",
   "execution_count": 36,
   "metadata": {},
   "outputs": [
    {
     "data": {
      "text/plain": [
       "(array([[-0.98623167,  0.21079312,  0.24845099,  0.51831836],\n",
       "        [ 0.12702371, -0.39684833, -1.13595582, -0.01893462],\n",
       "        [ 0.12789857, -1.37906398, -0.96180707,  0.43154078],\n",
       "        [ 0.2538674 , -0.14841347,  1.1000304 ,  1.07753015],\n",
       "        [-0.40305449, -1.27607336,  0.38673681, -0.15429143],\n",
       "        [-0.19129383, -0.17136055,  0.07618368, -0.14870524],\n",
       "        [-1.06113039, -0.07903367,  0.43644983, -0.9517162 ]]), (7, 4))"
      ]
     },
     "execution_count": 36,
     "metadata": {},
     "output_type": "execute_result"
    }
   ],
   "source": [
    "# 데이터는  shape => (7,4)\n",
    "datas = np.random.randn(7,4)\n",
    "datas, datas.shape"
   ]
  },
  {
   "cell_type": "code",
   "execution_count": 37,
   "metadata": {},
   "outputs": [
    {
     "data": {
      "text/html": [
       "<div>\n",
       "<style scoped>\n",
       "    .dataframe tbody tr th:only-of-type {\n",
       "        vertical-align: middle;\n",
       "    }\n",
       "\n",
       "    .dataframe tbody tr th {\n",
       "        vertical-align: top;\n",
       "    }\n",
       "\n",
       "    .dataframe thead th {\n",
       "        text-align: right;\n",
       "    }\n",
       "</style>\n",
       "<table border=\"1\" class=\"dataframe\">\n",
       "  <thead>\n",
       "    <tr style=\"text-align: right;\">\n",
       "      <th></th>\n",
       "      <th>A</th>\n",
       "      <th>B</th>\n",
       "      <th>C</th>\n",
       "      <th>D</th>\n",
       "    </tr>\n",
       "  </thead>\n",
       "  <tbody>\n",
       "    <tr>\n",
       "      <th>2019-08-12</th>\n",
       "      <td>-0.986232</td>\n",
       "      <td>0.210793</td>\n",
       "      <td>0.248451</td>\n",
       "      <td>0.518318</td>\n",
       "    </tr>\n",
       "    <tr>\n",
       "      <th>2019-08-13</th>\n",
       "      <td>0.127024</td>\n",
       "      <td>-0.396848</td>\n",
       "      <td>-1.135956</td>\n",
       "      <td>-0.018935</td>\n",
       "    </tr>\n",
       "    <tr>\n",
       "      <th>2019-08-14</th>\n",
       "      <td>0.127899</td>\n",
       "      <td>-1.379064</td>\n",
       "      <td>-0.961807</td>\n",
       "      <td>0.431541</td>\n",
       "    </tr>\n",
       "    <tr>\n",
       "      <th>2019-08-15</th>\n",
       "      <td>0.253867</td>\n",
       "      <td>-0.148413</td>\n",
       "      <td>1.100030</td>\n",
       "      <td>1.077530</td>\n",
       "    </tr>\n",
       "    <tr>\n",
       "      <th>2019-08-16</th>\n",
       "      <td>-0.403054</td>\n",
       "      <td>-1.276073</td>\n",
       "      <td>0.386737</td>\n",
       "      <td>-0.154291</td>\n",
       "    </tr>\n",
       "    <tr>\n",
       "      <th>2019-08-17</th>\n",
       "      <td>-0.191294</td>\n",
       "      <td>-0.171361</td>\n",
       "      <td>0.076184</td>\n",
       "      <td>-0.148705</td>\n",
       "    </tr>\n",
       "    <tr>\n",
       "      <th>2019-08-18</th>\n",
       "      <td>-1.061130</td>\n",
       "      <td>-0.079034</td>\n",
       "      <td>0.436450</td>\n",
       "      <td>-0.951716</td>\n",
       "    </tr>\n",
       "  </tbody>\n",
       "</table>\n",
       "</div>"
      ],
      "text/plain": [
       "                   A         B         C         D\n",
       "2019-08-12 -0.986232  0.210793  0.248451  0.518318\n",
       "2019-08-13  0.127024 -0.396848 -1.135956 -0.018935\n",
       "2019-08-14  0.127899 -1.379064 -0.961807  0.431541\n",
       "2019-08-15  0.253867 -0.148413  1.100030  1.077530\n",
       "2019-08-16 -0.403054 -1.276073  0.386737 -0.154291\n",
       "2019-08-17 -0.191294 -0.171361  0.076184 -0.148705\n",
       "2019-08-18 -1.061130 -0.079034  0.436450 -0.951716"
      ]
     },
     "execution_count": 37,
     "metadata": {},
     "output_type": "execute_result"
    }
   ],
   "source": [
    "# df 생성\n",
    "df = pd.DataFrame( datas, index=indexs, columns=cols )\n",
    "df"
   ]
  },
  {
   "cell_type": "markdown",
   "metadata": {},
   "source": [
    "- **데이터가 로드된후 DataFrame을 만든후 점검할 사항**"
   ]
  },
  {
   "cell_type": "code",
   "execution_count": 38,
   "metadata": {},
   "outputs": [
    {
     "data": {
      "text/html": [
       "<div>\n",
       "<style scoped>\n",
       "    .dataframe tbody tr th:only-of-type {\n",
       "        vertical-align: middle;\n",
       "    }\n",
       "\n",
       "    .dataframe tbody tr th {\n",
       "        vertical-align: top;\n",
       "    }\n",
       "\n",
       "    .dataframe thead th {\n",
       "        text-align: right;\n",
       "    }\n",
       "</style>\n",
       "<table border=\"1\" class=\"dataframe\">\n",
       "  <thead>\n",
       "    <tr style=\"text-align: right;\">\n",
       "      <th></th>\n",
       "      <th>A</th>\n",
       "      <th>B</th>\n",
       "      <th>C</th>\n",
       "      <th>D</th>\n",
       "    </tr>\n",
       "  </thead>\n",
       "  <tbody>\n",
       "    <tr>\n",
       "      <th>2019-08-12</th>\n",
       "      <td>-0.986232</td>\n",
       "      <td>0.210793</td>\n",
       "      <td>0.248451</td>\n",
       "      <td>0.518318</td>\n",
       "    </tr>\n",
       "    <tr>\n",
       "      <th>2019-08-13</th>\n",
       "      <td>0.127024</td>\n",
       "      <td>-0.396848</td>\n",
       "      <td>-1.135956</td>\n",
       "      <td>-0.018935</td>\n",
       "    </tr>\n",
       "    <tr>\n",
       "      <th>2019-08-14</th>\n",
       "      <td>0.127899</td>\n",
       "      <td>-1.379064</td>\n",
       "      <td>-0.961807</td>\n",
       "      <td>0.431541</td>\n",
       "    </tr>\n",
       "  </tbody>\n",
       "</table>\n",
       "</div>"
      ],
      "text/plain": [
       "                   A         B         C         D\n",
       "2019-08-12 -0.986232  0.210793  0.248451  0.518318\n",
       "2019-08-13  0.127024 -0.396848 -1.135956 -0.018935\n",
       "2019-08-14  0.127899 -1.379064 -0.961807  0.431541"
      ]
     },
     "execution_count": 38,
     "metadata": {},
     "output_type": "execute_result"
    }
   ],
   "source": [
    "df.head(3)"
   ]
  },
  {
   "cell_type": "code",
   "execution_count": 39,
   "metadata": {},
   "outputs": [
    {
     "data": {
      "text/html": [
       "<div>\n",
       "<style scoped>\n",
       "    .dataframe tbody tr th:only-of-type {\n",
       "        vertical-align: middle;\n",
       "    }\n",
       "\n",
       "    .dataframe tbody tr th {\n",
       "        vertical-align: top;\n",
       "    }\n",
       "\n",
       "    .dataframe thead th {\n",
       "        text-align: right;\n",
       "    }\n",
       "</style>\n",
       "<table border=\"1\" class=\"dataframe\">\n",
       "  <thead>\n",
       "    <tr style=\"text-align: right;\">\n",
       "      <th></th>\n",
       "      <th>A</th>\n",
       "      <th>B</th>\n",
       "      <th>C</th>\n",
       "      <th>D</th>\n",
       "    </tr>\n",
       "  </thead>\n",
       "  <tbody>\n",
       "    <tr>\n",
       "      <th>2019-08-17</th>\n",
       "      <td>-0.191294</td>\n",
       "      <td>-0.171361</td>\n",
       "      <td>0.076184</td>\n",
       "      <td>-0.148705</td>\n",
       "    </tr>\n",
       "    <tr>\n",
       "      <th>2019-08-18</th>\n",
       "      <td>-1.061130</td>\n",
       "      <td>-0.079034</td>\n",
       "      <td>0.436450</td>\n",
       "      <td>-0.951716</td>\n",
       "    </tr>\n",
       "  </tbody>\n",
       "</table>\n",
       "</div>"
      ],
      "text/plain": [
       "                   A         B         C         D\n",
       "2019-08-17 -0.191294 -0.171361  0.076184 -0.148705\n",
       "2019-08-18 -1.061130 -0.079034  0.436450 -0.951716"
      ]
     },
     "execution_count": 39,
     "metadata": {},
     "output_type": "execute_result"
    }
   ],
   "source": [
    "df.tail(2)"
   ]
  },
  {
   "cell_type": "code",
   "execution_count": 40,
   "metadata": {},
   "outputs": [
    {
     "data": {
      "text/plain": [
       "Index(['A', 'B', 'C', 'D'], dtype='object')"
      ]
     },
     "execution_count": 40,
     "metadata": {},
     "output_type": "execute_result"
    }
   ],
   "source": [
    "df.columns"
   ]
  },
  {
   "cell_type": "code",
   "execution_count": 41,
   "metadata": {},
   "outputs": [
    {
     "data": {
      "text/plain": [
       "DatetimeIndex(['2019-08-12', '2019-08-13', '2019-08-14', '2019-08-15',\n",
       "               '2019-08-16', '2019-08-17', '2019-08-18'],\n",
       "              dtype='datetime64[ns]', freq='D')"
      ]
     },
     "execution_count": 41,
     "metadata": {},
     "output_type": "execute_result"
    }
   ],
   "source": [
    "df.index"
   ]
  },
  {
   "cell_type": "code",
   "execution_count": 42,
   "metadata": {},
   "outputs": [
    {
     "data": {
      "text/plain": [
       "array([[-0.98623167,  0.21079312,  0.24845099,  0.51831836],\n",
       "       [ 0.12702371, -0.39684833, -1.13595582, -0.01893462],\n",
       "       [ 0.12789857, -1.37906398, -0.96180707,  0.43154078],\n",
       "       [ 0.2538674 , -0.14841347,  1.1000304 ,  1.07753015],\n",
       "       [-0.40305449, -1.27607336,  0.38673681, -0.15429143],\n",
       "       [-0.19129383, -0.17136055,  0.07618368, -0.14870524],\n",
       "       [-1.06113039, -0.07903367,  0.43644983, -0.9517162 ]])"
      ]
     },
     "execution_count": 42,
     "metadata": {},
     "output_type": "execute_result"
    }
   ],
   "source": [
    "df.values"
   ]
  },
  {
   "cell_type": "code",
   "execution_count": 43,
   "metadata": {},
   "outputs": [
    {
     "data": {
      "text/plain": [
       "numpy.ndarray"
      ]
     },
     "execution_count": 43,
     "metadata": {},
     "output_type": "execute_result"
    }
   ],
   "source": [
    "type(df.values)"
   ]
  },
  {
   "cell_type": "code",
   "execution_count": 44,
   "metadata": {},
   "outputs": [
    {
     "data": {
      "text/plain": [
       "(7, 4)"
      ]
     },
     "execution_count": 44,
     "metadata": {},
     "output_type": "execute_result"
    }
   ],
   "source": [
    "df.shape"
   ]
  },
  {
   "cell_type": "code",
   "execution_count": 45,
   "metadata": {},
   "outputs": [
    {
     "data": {
      "text/plain": [
       "A    float64\n",
       "B    float64\n",
       "C    float64\n",
       "D    float64\n",
       "dtype: object"
      ]
     },
     "execution_count": 45,
     "metadata": {},
     "output_type": "execute_result"
    }
   ],
   "source": [
    "df.dtypes"
   ]
  },
  {
   "cell_type": "code",
   "execution_count": 46,
   "metadata": {},
   "outputs": [
    {
     "name": "stdout",
     "output_type": "stream",
     "text": [
      "<class 'pandas.core.frame.DataFrame'>\n",
      "DatetimeIndex: 7 entries, 2019-08-12 to 2019-08-18\n",
      "Freq: D\n",
      "Data columns (total 4 columns):\n",
      "A    7 non-null float64\n",
      "B    7 non-null float64\n",
      "C    7 non-null float64\n",
      "D    7 non-null float64\n",
      "dtypes: float64(4)\n",
      "memory usage: 280.0 bytes\n"
     ]
    }
   ],
   "source": [
    "# df의 개요\n",
    "df.info()"
   ]
  },
  {
   "cell_type": "code",
   "execution_count": 47,
   "metadata": {},
   "outputs": [
    {
     "data": {
      "text/html": [
       "<div>\n",
       "<style scoped>\n",
       "    .dataframe tbody tr th:only-of-type {\n",
       "        vertical-align: middle;\n",
       "    }\n",
       "\n",
       "    .dataframe tbody tr th {\n",
       "        vertical-align: top;\n",
       "    }\n",
       "\n",
       "    .dataframe thead th {\n",
       "        text-align: right;\n",
       "    }\n",
       "</style>\n",
       "<table border=\"1\" class=\"dataframe\">\n",
       "  <thead>\n",
       "    <tr style=\"text-align: right;\">\n",
       "      <th></th>\n",
       "      <th>A</th>\n",
       "      <th>B</th>\n",
       "      <th>C</th>\n",
       "      <th>D</th>\n",
       "    </tr>\n",
       "  </thead>\n",
       "  <tbody>\n",
       "    <tr>\n",
       "      <th>count</th>\n",
       "      <td>7.000000</td>\n",
       "      <td>7.000000</td>\n",
       "      <td>7.000000</td>\n",
       "      <td>7.000000</td>\n",
       "    </tr>\n",
       "    <tr>\n",
       "      <th>mean</th>\n",
       "      <td>-0.304703</td>\n",
       "      <td>-0.462857</td>\n",
       "      <td>0.021441</td>\n",
       "      <td>0.107677</td>\n",
       "    </tr>\n",
       "    <tr>\n",
       "      <th>std</th>\n",
       "      <td>0.539248</td>\n",
       "      <td>0.617803</td>\n",
       "      <td>0.798948</td>\n",
       "      <td>0.643795</td>\n",
       "    </tr>\n",
       "    <tr>\n",
       "      <th>min</th>\n",
       "      <td>-1.061130</td>\n",
       "      <td>-1.379064</td>\n",
       "      <td>-1.135956</td>\n",
       "      <td>-0.951716</td>\n",
       "    </tr>\n",
       "    <tr>\n",
       "      <th>25%</th>\n",
       "      <td>-0.694643</td>\n",
       "      <td>-0.836461</td>\n",
       "      <td>-0.442812</td>\n",
       "      <td>-0.151498</td>\n",
       "    </tr>\n",
       "    <tr>\n",
       "      <th>50%</th>\n",
       "      <td>-0.191294</td>\n",
       "      <td>-0.171361</td>\n",
       "      <td>0.248451</td>\n",
       "      <td>-0.018935</td>\n",
       "    </tr>\n",
       "    <tr>\n",
       "      <th>75%</th>\n",
       "      <td>0.127461</td>\n",
       "      <td>-0.113724</td>\n",
       "      <td>0.411593</td>\n",
       "      <td>0.474930</td>\n",
       "    </tr>\n",
       "    <tr>\n",
       "      <th>max</th>\n",
       "      <td>0.253867</td>\n",
       "      <td>0.210793</td>\n",
       "      <td>1.100030</td>\n",
       "      <td>1.077530</td>\n",
       "    </tr>\n",
       "  </tbody>\n",
       "</table>\n",
       "</div>"
      ],
      "text/plain": [
       "              A         B         C         D\n",
       "count  7.000000  7.000000  7.000000  7.000000\n",
       "mean  -0.304703 -0.462857  0.021441  0.107677\n",
       "std    0.539248  0.617803  0.798948  0.643795\n",
       "min   -1.061130 -1.379064 -1.135956 -0.951716\n",
       "25%   -0.694643 -0.836461 -0.442812 -0.151498\n",
       "50%   -0.191294 -0.171361  0.248451 -0.018935\n",
       "75%    0.127461 -0.113724  0.411593  0.474930\n",
       "max    0.253867  0.210793  1.100030  1.077530"
      ]
     },
     "execution_count": 47,
     "metadata": {},
     "output_type": "execute_result"
    }
   ],
   "source": [
    "# 통계요약 : 개수, 평균, 표준편차, 최소, 25%, 50%, 75%, 최대\n",
    "df.describe()"
   ]
  },
  {
   "cell_type": "code",
   "execution_count": 48,
   "metadata": {},
   "outputs": [
    {
     "data": {
      "text/html": [
       "<div>\n",
       "<style scoped>\n",
       "    .dataframe tbody tr th:only-of-type {\n",
       "        vertical-align: middle;\n",
       "    }\n",
       "\n",
       "    .dataframe tbody tr th {\n",
       "        vertical-align: top;\n",
       "    }\n",
       "\n",
       "    .dataframe thead th {\n",
       "        text-align: right;\n",
       "    }\n",
       "</style>\n",
       "<table border=\"1\" class=\"dataframe\">\n",
       "  <thead>\n",
       "    <tr style=\"text-align: right;\">\n",
       "      <th></th>\n",
       "      <th>A</th>\n",
       "      <th>B</th>\n",
       "      <th>C</th>\n",
       "      <th>D</th>\n",
       "    </tr>\n",
       "  </thead>\n",
       "  <tbody>\n",
       "    <tr>\n",
       "      <th>2019-08-12</th>\n",
       "      <td>-0.986232</td>\n",
       "      <td>0.210793</td>\n",
       "      <td>0.248451</td>\n",
       "      <td>0.518318</td>\n",
       "    </tr>\n",
       "    <tr>\n",
       "      <th>2019-08-18</th>\n",
       "      <td>-1.061130</td>\n",
       "      <td>-0.079034</td>\n",
       "      <td>0.436450</td>\n",
       "      <td>-0.951716</td>\n",
       "    </tr>\n",
       "    <tr>\n",
       "      <th>2019-08-15</th>\n",
       "      <td>0.253867</td>\n",
       "      <td>-0.148413</td>\n",
       "      <td>1.100030</td>\n",
       "      <td>1.077530</td>\n",
       "    </tr>\n",
       "    <tr>\n",
       "      <th>2019-08-17</th>\n",
       "      <td>-0.191294</td>\n",
       "      <td>-0.171361</td>\n",
       "      <td>0.076184</td>\n",
       "      <td>-0.148705</td>\n",
       "    </tr>\n",
       "    <tr>\n",
       "      <th>2019-08-13</th>\n",
       "      <td>0.127024</td>\n",
       "      <td>-0.396848</td>\n",
       "      <td>-1.135956</td>\n",
       "      <td>-0.018935</td>\n",
       "    </tr>\n",
       "    <tr>\n",
       "      <th>2019-08-16</th>\n",
       "      <td>-0.403054</td>\n",
       "      <td>-1.276073</td>\n",
       "      <td>0.386737</td>\n",
       "      <td>-0.154291</td>\n",
       "    </tr>\n",
       "    <tr>\n",
       "      <th>2019-08-14</th>\n",
       "      <td>0.127899</td>\n",
       "      <td>-1.379064</td>\n",
       "      <td>-0.961807</td>\n",
       "      <td>0.431541</td>\n",
       "    </tr>\n",
       "  </tbody>\n",
       "</table>\n",
       "</div>"
      ],
      "text/plain": [
       "                   A         B         C         D\n",
       "2019-08-12 -0.986232  0.210793  0.248451  0.518318\n",
       "2019-08-18 -1.061130 -0.079034  0.436450 -0.951716\n",
       "2019-08-15  0.253867 -0.148413  1.100030  1.077530\n",
       "2019-08-17 -0.191294 -0.171361  0.076184 -0.148705\n",
       "2019-08-13  0.127024 -0.396848 -1.135956 -0.018935\n",
       "2019-08-16 -0.403054 -1.276073  0.386737 -0.154291\n",
       "2019-08-14  0.127899 -1.379064 -0.961807  0.431541"
      ]
     },
     "execution_count": 48,
     "metadata": {},
     "output_type": "execute_result"
    }
   ],
   "source": [
    "# B열 기준 데이터를 정렬, 내림차순\n",
    "df.sort_values( by='B', ascending=False )"
   ]
  },
  {
   "cell_type": "code",
   "execution_count": 49,
   "metadata": {},
   "outputs": [
    {
     "data": {
      "text/plain": [
       "(2019-08-12    0.248451\n",
       " 2019-08-13   -1.135956\n",
       " 2019-08-14   -0.961807\n",
       " 2019-08-15    1.100030\n",
       " 2019-08-16    0.386737\n",
       " 2019-08-17    0.076184\n",
       " 2019-08-18    0.436450\n",
       " Freq: D, Name: C, dtype: float64, pandas.core.series.Series)"
      ]
     },
     "execution_count": 49,
     "metadata": {},
     "output_type": "execute_result"
    }
   ],
   "source": [
    "# 특정 컬럼의 데이터만 보기 => 인덱싱 => 차원축소\n",
    "df['C'], type(df['C'])"
   ]
  },
  {
   "cell_type": "code",
   "execution_count": 50,
   "metadata": {},
   "outputs": [
    {
     "data": {
      "text/html": [
       "<div>\n",
       "<style scoped>\n",
       "    .dataframe tbody tr th:only-of-type {\n",
       "        vertical-align: middle;\n",
       "    }\n",
       "\n",
       "    .dataframe tbody tr th {\n",
       "        vertical-align: top;\n",
       "    }\n",
       "\n",
       "    .dataframe thead th {\n",
       "        text-align: right;\n",
       "    }\n",
       "</style>\n",
       "<table border=\"1\" class=\"dataframe\">\n",
       "  <thead>\n",
       "    <tr style=\"text-align: right;\">\n",
       "      <th></th>\n",
       "      <th>A</th>\n",
       "      <th>B</th>\n",
       "      <th>C</th>\n",
       "      <th>D</th>\n",
       "    </tr>\n",
       "  </thead>\n",
       "  <tbody>\n",
       "    <tr>\n",
       "      <th>2019-08-12</th>\n",
       "      <td>-0.986232</td>\n",
       "      <td>0.210793</td>\n",
       "      <td>0.248451</td>\n",
       "      <td>0.518318</td>\n",
       "    </tr>\n",
       "    <tr>\n",
       "      <th>2019-08-13</th>\n",
       "      <td>0.127024</td>\n",
       "      <td>-0.396848</td>\n",
       "      <td>-1.135956</td>\n",
       "      <td>-0.018935</td>\n",
       "    </tr>\n",
       "    <tr>\n",
       "      <th>2019-08-14</th>\n",
       "      <td>0.127899</td>\n",
       "      <td>-1.379064</td>\n",
       "      <td>-0.961807</td>\n",
       "      <td>0.431541</td>\n",
       "    </tr>\n",
       "    <tr>\n",
       "      <th>2019-08-15</th>\n",
       "      <td>0.253867</td>\n",
       "      <td>-0.148413</td>\n",
       "      <td>1.100030</td>\n",
       "      <td>1.077530</td>\n",
       "    </tr>\n",
       "    <tr>\n",
       "      <th>2019-08-16</th>\n",
       "      <td>-0.403054</td>\n",
       "      <td>-1.276073</td>\n",
       "      <td>0.386737</td>\n",
       "      <td>-0.154291</td>\n",
       "    </tr>\n",
       "    <tr>\n",
       "      <th>2019-08-17</th>\n",
       "      <td>-0.191294</td>\n",
       "      <td>-0.171361</td>\n",
       "      <td>0.076184</td>\n",
       "      <td>-0.148705</td>\n",
       "    </tr>\n",
       "    <tr>\n",
       "      <th>2019-08-18</th>\n",
       "      <td>-1.061130</td>\n",
       "      <td>-0.079034</td>\n",
       "      <td>0.436450</td>\n",
       "      <td>-0.951716</td>\n",
       "    </tr>\n",
       "  </tbody>\n",
       "</table>\n",
       "</div>"
      ],
      "text/plain": [
       "                   A         B         C         D\n",
       "2019-08-12 -0.986232  0.210793  0.248451  0.518318\n",
       "2019-08-13  0.127024 -0.396848 -1.135956 -0.018935\n",
       "2019-08-14  0.127899 -1.379064 -0.961807  0.431541\n",
       "2019-08-15  0.253867 -0.148413  1.100030  1.077530\n",
       "2019-08-16 -0.403054 -1.276073  0.386737 -0.154291\n",
       "2019-08-17 -0.191294 -0.171361  0.076184 -0.148705\n",
       "2019-08-18 -1.061130 -0.079034  0.436450 -0.951716"
      ]
     },
     "execution_count": 50,
     "metadata": {},
     "output_type": "execute_result"
    }
   ],
   "source": [
    "# 슬라이싱 : 차원유지\n",
    "df[:] # 카피동일"
   ]
  },
  {
   "cell_type": "code",
   "execution_count": 51,
   "metadata": {},
   "outputs": [
    {
     "data": {
      "text/html": [
       "<div>\n",
       "<style scoped>\n",
       "    .dataframe tbody tr th:only-of-type {\n",
       "        vertical-align: middle;\n",
       "    }\n",
       "\n",
       "    .dataframe tbody tr th {\n",
       "        vertical-align: top;\n",
       "    }\n",
       "\n",
       "    .dataframe thead th {\n",
       "        text-align: right;\n",
       "    }\n",
       "</style>\n",
       "<table border=\"1\" class=\"dataframe\">\n",
       "  <thead>\n",
       "    <tr style=\"text-align: right;\">\n",
       "      <th></th>\n",
       "      <th>A</th>\n",
       "      <th>B</th>\n",
       "      <th>C</th>\n",
       "      <th>D</th>\n",
       "    </tr>\n",
       "  </thead>\n",
       "  <tbody>\n",
       "    <tr>\n",
       "      <th>2019-08-13</th>\n",
       "      <td>0.127024</td>\n",
       "      <td>-0.396848</td>\n",
       "      <td>-1.135956</td>\n",
       "      <td>-0.018935</td>\n",
       "    </tr>\n",
       "    <tr>\n",
       "      <th>2019-08-14</th>\n",
       "      <td>0.127899</td>\n",
       "      <td>-1.379064</td>\n",
       "      <td>-0.961807</td>\n",
       "      <td>0.431541</td>\n",
       "    </tr>\n",
       "  </tbody>\n",
       "</table>\n",
       "</div>"
      ],
      "text/plain": [
       "                   A         B         C         D\n",
       "2019-08-13  0.127024 -0.396848 -1.135956 -0.018935\n",
       "2019-08-14  0.127899 -1.379064 -0.961807  0.431541"
      ]
     },
     "execution_count": 51,
     "metadata": {},
     "output_type": "execute_result"
    }
   ],
   "source": [
    "# 데이터가 슬라이싱 되서 나온다 => 차원을 유지해야 하니까\n",
    "# a <= x <b\n",
    "df[1:3] "
   ]
  },
  {
   "cell_type": "code",
   "execution_count": 52,
   "metadata": {},
   "outputs": [
    {
     "data": {
      "text/html": [
       "<div>\n",
       "<style scoped>\n",
       "    .dataframe tbody tr th:only-of-type {\n",
       "        vertical-align: middle;\n",
       "    }\n",
       "\n",
       "    .dataframe tbody tr th {\n",
       "        vertical-align: top;\n",
       "    }\n",
       "\n",
       "    .dataframe thead th {\n",
       "        text-align: right;\n",
       "    }\n",
       "</style>\n",
       "<table border=\"1\" class=\"dataframe\">\n",
       "  <thead>\n",
       "    <tr style=\"text-align: right;\">\n",
       "      <th></th>\n",
       "      <th>A</th>\n",
       "      <th>B</th>\n",
       "      <th>C</th>\n",
       "      <th>D</th>\n",
       "    </tr>\n",
       "  </thead>\n",
       "  <tbody>\n",
       "    <tr>\n",
       "      <th>2019-08-13</th>\n",
       "      <td>0.127024</td>\n",
       "      <td>-0.396848</td>\n",
       "      <td>-1.135956</td>\n",
       "      <td>-0.018935</td>\n",
       "    </tr>\n",
       "    <tr>\n",
       "      <th>2019-08-14</th>\n",
       "      <td>0.127899</td>\n",
       "      <td>-1.379064</td>\n",
       "      <td>-0.961807</td>\n",
       "      <td>0.431541</td>\n",
       "    </tr>\n",
       "    <tr>\n",
       "      <th>2019-08-15</th>\n",
       "      <td>0.253867</td>\n",
       "      <td>-0.148413</td>\n",
       "      <td>1.100030</td>\n",
       "      <td>1.077530</td>\n",
       "    </tr>\n",
       "  </tbody>\n",
       "</table>\n",
       "</div>"
      ],
      "text/plain": [
       "                   A         B         C         D\n",
       "2019-08-13  0.127024 -0.396848 -1.135956 -0.018935\n",
       "2019-08-14  0.127899 -1.379064 -0.961807  0.431541\n",
       "2019-08-15  0.253867 -0.148413  1.100030  1.077530"
      ]
     },
     "execution_count": 52,
     "metadata": {},
     "output_type": "execute_result"
    }
   ],
   "source": [
    "# 슬라이싱을 하는데 인덱스값이 아닌, 실제값으로 자르기\n",
    "# a <= x <=b\n",
    "df[ '2019-08-13' : '2019-08-15' ]"
   ]
  },
  {
   "cell_type": "markdown",
   "metadata": {},
   "source": [
    "- 전통적인 인덱싱와 슬라이싱을 진행하면 표현의 한계점에 도달\n",
    "- 이를 극복하기 위해서 pandas 만의 데이터 추출법이 추가가 되었다 \n",
    "- loc, iloc <= 2개를 주로 사용한다\n",
    "- 연속데이터에 대한 추출 <-> 비연속 데이터들의 추출법 (펜시인덱싱, 쿼리수행등등)"
   ]
  },
  {
   "cell_type": "markdown",
   "metadata": {},
   "source": [
    "### loc"
   ]
  },
  {
   "cell_type": "code",
   "execution_count": 53,
   "metadata": {},
   "outputs": [
    {
     "data": {
      "text/plain": [
       "(A   -0.986232\n",
       " B    0.210793\n",
       " C    0.248451\n",
       " D    0.518318\n",
       " Name: 2019-08-12 00:00:00, dtype: float64, pandas.core.series.Series)"
      ]
     },
     "execution_count": 53,
     "metadata": {},
     "output_type": "execute_result"
    }
   ],
   "source": [
    "# loc : location 정보를 옵션으로 하여 슬라이싱 지원\n",
    "# loc을 통한 데이어 추출\n",
    "# df.loc[ 인덱스명 ]\n",
    "df.loc[ '2019-08-12' ], type(df.loc[ '2019-08-12' ])"
   ]
  },
  {
   "cell_type": "code",
   "execution_count": 54,
   "metadata": {},
   "outputs": [
    {
     "data": {
      "text/html": [
       "<div>\n",
       "<style scoped>\n",
       "    .dataframe tbody tr th:only-of-type {\n",
       "        vertical-align: middle;\n",
       "    }\n",
       "\n",
       "    .dataframe tbody tr th {\n",
       "        vertical-align: top;\n",
       "    }\n",
       "\n",
       "    .dataframe thead th {\n",
       "        text-align: right;\n",
       "    }\n",
       "</style>\n",
       "<table border=\"1\" class=\"dataframe\">\n",
       "  <thead>\n",
       "    <tr style=\"text-align: right;\">\n",
       "      <th></th>\n",
       "      <th>A</th>\n",
       "      <th>B</th>\n",
       "      <th>C</th>\n",
       "      <th>D</th>\n",
       "    </tr>\n",
       "  </thead>\n",
       "  <tbody>\n",
       "    <tr>\n",
       "      <th>2019-08-12</th>\n",
       "      <td>-0.986232</td>\n",
       "      <td>0.210793</td>\n",
       "      <td>0.248451</td>\n",
       "      <td>0.518318</td>\n",
       "    </tr>\n",
       "    <tr>\n",
       "      <th>2019-08-13</th>\n",
       "      <td>0.127024</td>\n",
       "      <td>-0.396848</td>\n",
       "      <td>-1.135956</td>\n",
       "      <td>-0.018935</td>\n",
       "    </tr>\n",
       "    <tr>\n",
       "      <th>2019-08-14</th>\n",
       "      <td>0.127899</td>\n",
       "      <td>-1.379064</td>\n",
       "      <td>-0.961807</td>\n",
       "      <td>0.431541</td>\n",
       "    </tr>\n",
       "    <tr>\n",
       "      <th>2019-08-15</th>\n",
       "      <td>0.253867</td>\n",
       "      <td>-0.148413</td>\n",
       "      <td>1.100030</td>\n",
       "      <td>1.077530</td>\n",
       "    </tr>\n",
       "    <tr>\n",
       "      <th>2019-08-16</th>\n",
       "      <td>-0.403054</td>\n",
       "      <td>-1.276073</td>\n",
       "      <td>0.386737</td>\n",
       "      <td>-0.154291</td>\n",
       "    </tr>\n",
       "    <tr>\n",
       "      <th>2019-08-17</th>\n",
       "      <td>-0.191294</td>\n",
       "      <td>-0.171361</td>\n",
       "      <td>0.076184</td>\n",
       "      <td>-0.148705</td>\n",
       "    </tr>\n",
       "    <tr>\n",
       "      <th>2019-08-18</th>\n",
       "      <td>-1.061130</td>\n",
       "      <td>-0.079034</td>\n",
       "      <td>0.436450</td>\n",
       "      <td>-0.951716</td>\n",
       "    </tr>\n",
       "  </tbody>\n",
       "</table>\n",
       "</div>"
      ],
      "text/plain": [
       "                   A         B         C         D\n",
       "2019-08-12 -0.986232  0.210793  0.248451  0.518318\n",
       "2019-08-13  0.127024 -0.396848 -1.135956 -0.018935\n",
       "2019-08-14  0.127899 -1.379064 -0.961807  0.431541\n",
       "2019-08-15  0.253867 -0.148413  1.100030  1.077530\n",
       "2019-08-16 -0.403054 -1.276073  0.386737 -0.154291\n",
       "2019-08-17 -0.191294 -0.171361  0.076184 -0.148705\n",
       "2019-08-18 -1.061130 -0.079034  0.436450 -0.951716"
      ]
     },
     "execution_count": 54,
     "metadata": {},
     "output_type": "execute_result"
    }
   ],
   "source": [
    "# 원본카피\n",
    "df.loc[ : ]"
   ]
  },
  {
   "cell_type": "code",
   "execution_count": 55,
   "metadata": {},
   "outputs": [
    {
     "data": {
      "text/html": [
       "<div>\n",
       "<style scoped>\n",
       "    .dataframe tbody tr th:only-of-type {\n",
       "        vertical-align: middle;\n",
       "    }\n",
       "\n",
       "    .dataframe tbody tr th {\n",
       "        vertical-align: top;\n",
       "    }\n",
       "\n",
       "    .dataframe thead th {\n",
       "        text-align: right;\n",
       "    }\n",
       "</style>\n",
       "<table border=\"1\" class=\"dataframe\">\n",
       "  <thead>\n",
       "    <tr style=\"text-align: right;\">\n",
       "      <th></th>\n",
       "      <th>A</th>\n",
       "      <th>C</th>\n",
       "    </tr>\n",
       "  </thead>\n",
       "  <tbody>\n",
       "    <tr>\n",
       "      <th>2019-08-12</th>\n",
       "      <td>-0.986232</td>\n",
       "      <td>0.248451</td>\n",
       "    </tr>\n",
       "    <tr>\n",
       "      <th>2019-08-13</th>\n",
       "      <td>0.127024</td>\n",
       "      <td>-1.135956</td>\n",
       "    </tr>\n",
       "    <tr>\n",
       "      <th>2019-08-14</th>\n",
       "      <td>0.127899</td>\n",
       "      <td>-0.961807</td>\n",
       "    </tr>\n",
       "    <tr>\n",
       "      <th>2019-08-15</th>\n",
       "      <td>0.253867</td>\n",
       "      <td>1.100030</td>\n",
       "    </tr>\n",
       "    <tr>\n",
       "      <th>2019-08-16</th>\n",
       "      <td>-0.403054</td>\n",
       "      <td>0.386737</td>\n",
       "    </tr>\n",
       "    <tr>\n",
       "      <th>2019-08-17</th>\n",
       "      <td>-0.191294</td>\n",
       "      <td>0.076184</td>\n",
       "    </tr>\n",
       "    <tr>\n",
       "      <th>2019-08-18</th>\n",
       "      <td>-1.061130</td>\n",
       "      <td>0.436450</td>\n",
       "    </tr>\n",
       "  </tbody>\n",
       "</table>\n",
       "</div>"
      ],
      "text/plain": [
       "                   A         C\n",
       "2019-08-12 -0.986232  0.248451\n",
       "2019-08-13  0.127024 -1.135956\n",
       "2019-08-14  0.127899 -0.961807\n",
       "2019-08-15  0.253867  1.100030\n",
       "2019-08-16 -0.403054  0.386737\n",
       "2019-08-17 -0.191294  0.076184\n",
       "2019-08-18 -1.061130  0.436450"
      ]
     },
     "execution_count": 55,
     "metadata": {},
     "output_type": "execute_result"
    }
   ],
   "source": [
    "# 인덱스쪽은 전부 포함시키고(1차원), 컬럼은 A,C만 포함(2차원)\n",
    "df.loc[ : , ['A','C'] ]"
   ]
  },
  {
   "cell_type": "code",
   "execution_count": 56,
   "metadata": {},
   "outputs": [
    {
     "data": {
      "text/plain": [
       "2019-08-12   -0.986232\n",
       "2019-08-13    0.127024\n",
       "2019-08-14    0.127899\n",
       "2019-08-15    0.253867\n",
       "2019-08-16   -0.403054\n",
       "2019-08-17   -0.191294\n",
       "2019-08-18   -1.061130\n",
       "Freq: D, Name: A, dtype: float64"
      ]
     },
     "execution_count": 56,
     "metadata": {},
     "output_type": "execute_result"
    }
   ],
   "source": [
    "# 차원축소\n",
    "df.loc[ : , 'A' ]"
   ]
  },
  {
   "cell_type": "code",
   "execution_count": 57,
   "metadata": {},
   "outputs": [
    {
     "data": {
      "text/html": [
       "<div>\n",
       "<style scoped>\n",
       "    .dataframe tbody tr th:only-of-type {\n",
       "        vertical-align: middle;\n",
       "    }\n",
       "\n",
       "    .dataframe tbody tr th {\n",
       "        vertical-align: top;\n",
       "    }\n",
       "\n",
       "    .dataframe thead th {\n",
       "        text-align: right;\n",
       "    }\n",
       "</style>\n",
       "<table border=\"1\" class=\"dataframe\">\n",
       "  <thead>\n",
       "    <tr style=\"text-align: right;\">\n",
       "      <th></th>\n",
       "      <th>A</th>\n",
       "    </tr>\n",
       "  </thead>\n",
       "  <tbody>\n",
       "    <tr>\n",
       "      <th>2019-08-12</th>\n",
       "      <td>-0.986232</td>\n",
       "    </tr>\n",
       "    <tr>\n",
       "      <th>2019-08-13</th>\n",
       "      <td>0.127024</td>\n",
       "    </tr>\n",
       "    <tr>\n",
       "      <th>2019-08-14</th>\n",
       "      <td>0.127899</td>\n",
       "    </tr>\n",
       "    <tr>\n",
       "      <th>2019-08-15</th>\n",
       "      <td>0.253867</td>\n",
       "    </tr>\n",
       "    <tr>\n",
       "      <th>2019-08-16</th>\n",
       "      <td>-0.403054</td>\n",
       "    </tr>\n",
       "    <tr>\n",
       "      <th>2019-08-17</th>\n",
       "      <td>-0.191294</td>\n",
       "    </tr>\n",
       "    <tr>\n",
       "      <th>2019-08-18</th>\n",
       "      <td>-1.061130</td>\n",
       "    </tr>\n",
       "  </tbody>\n",
       "</table>\n",
       "</div>"
      ],
      "text/plain": [
       "                   A\n",
       "2019-08-12 -0.986232\n",
       "2019-08-13  0.127024\n",
       "2019-08-14  0.127899\n",
       "2019-08-15  0.253867\n",
       "2019-08-16 -0.403054\n",
       "2019-08-17 -0.191294\n",
       "2019-08-18 -1.061130"
      ]
     },
     "execution_count": 57,
     "metadata": {},
     "output_type": "execute_result"
    }
   ],
   "source": [
    "# 차원유지\n",
    "df.loc[ : , ['A'] ]"
   ]
  },
  {
   "cell_type": "code",
   "execution_count": 58,
   "metadata": {},
   "outputs": [
    {
     "data": {
      "text/html": [
       "<div>\n",
       "<style scoped>\n",
       "    .dataframe tbody tr th:only-of-type {\n",
       "        vertical-align: middle;\n",
       "    }\n",
       "\n",
       "    .dataframe tbody tr th {\n",
       "        vertical-align: top;\n",
       "    }\n",
       "\n",
       "    .dataframe thead th {\n",
       "        text-align: right;\n",
       "    }\n",
       "</style>\n",
       "<table border=\"1\" class=\"dataframe\">\n",
       "  <thead>\n",
       "    <tr style=\"text-align: right;\">\n",
       "      <th></th>\n",
       "      <th>A</th>\n",
       "      <th>C</th>\n",
       "    </tr>\n",
       "  </thead>\n",
       "  <tbody>\n",
       "    <tr>\n",
       "      <th>2019-08-13</th>\n",
       "      <td>0.127024</td>\n",
       "      <td>-1.135956</td>\n",
       "    </tr>\n",
       "    <tr>\n",
       "      <th>2019-08-14</th>\n",
       "      <td>0.127899</td>\n",
       "      <td>-0.961807</td>\n",
       "    </tr>\n",
       "    <tr>\n",
       "      <th>2019-08-15</th>\n",
       "      <td>0.253867</td>\n",
       "      <td>1.100030</td>\n",
       "    </tr>\n",
       "  </tbody>\n",
       "</table>\n",
       "</div>"
      ],
      "text/plain": [
       "                   A         C\n",
       "2019-08-13  0.127024 -1.135956\n",
       "2019-08-14  0.127899 -0.961807\n",
       "2019-08-15  0.253867  1.100030"
      ]
     },
     "execution_count": 58,
     "metadata": {},
     "output_type": "execute_result"
    }
   ],
   "source": [
    "df.loc[ '2019-08-13':'2019-08-15' , ['A','C'] ]"
   ]
  },
  {
   "cell_type": "code",
   "execution_count": 59,
   "metadata": {},
   "outputs": [
    {
     "data": {
      "text/plain": [
       "A    0.127024\n",
       "C   -1.135956\n",
       "Name: 2019-08-13 00:00:00, dtype: float64"
      ]
     },
     "execution_count": 59,
     "metadata": {},
     "output_type": "execute_result"
    }
   ],
   "source": [
    "# 차원축소 -> 인덱스를 한개만 지정\n",
    "df.loc[ '2019-08-13' , ['A','C'] ]"
   ]
  },
  {
   "cell_type": "code",
   "execution_count": 60,
   "metadata": {},
   "outputs": [],
   "source": [
    "# error\n",
    "#df.loc[ ['2019-08-13'] , ['A','C'] ]\n",
    "# error\n",
    "#df.loc[ ['2019-08-13':'2019-08-13'] , ['A','C'] ]"
   ]
  },
  {
   "cell_type": "code",
   "execution_count": 61,
   "metadata": {},
   "outputs": [
    {
     "data": {
      "text/html": [
       "<div>\n",
       "<style scoped>\n",
       "    .dataframe tbody tr th:only-of-type {\n",
       "        vertical-align: middle;\n",
       "    }\n",
       "\n",
       "    .dataframe tbody tr th {\n",
       "        vertical-align: top;\n",
       "    }\n",
       "\n",
       "    .dataframe thead th {\n",
       "        text-align: right;\n",
       "    }\n",
       "</style>\n",
       "<table border=\"1\" class=\"dataframe\">\n",
       "  <thead>\n",
       "    <tr style=\"text-align: right;\">\n",
       "      <th></th>\n",
       "      <th>A</th>\n",
       "      <th>C</th>\n",
       "    </tr>\n",
       "  </thead>\n",
       "  <tbody>\n",
       "    <tr>\n",
       "      <th>2019-08-13</th>\n",
       "      <td>0.127024</td>\n",
       "      <td>-1.135956</td>\n",
       "    </tr>\n",
       "  </tbody>\n",
       "</table>\n",
       "</div>"
      ],
      "text/plain": [
       "                   A         C\n",
       "2019-08-13  0.127024 -1.135956"
      ]
     },
     "execution_count": 61,
     "metadata": {},
     "output_type": "execute_result"
    }
   ],
   "source": [
    "df.loc[ '2019-08-13':'2019-08-13' , ['A','C'] ]"
   ]
  },
  {
   "cell_type": "code",
   "execution_count": 62,
   "metadata": {},
   "outputs": [
    {
     "data": {
      "text/plain": [
       "0.12702370935382853"
      ]
     },
     "execution_count": 62,
     "metadata": {},
     "output_type": "execute_result"
    }
   ],
   "source": [
    "# 차원축소가 2회 진행 -> 스칼라(값)\n",
    "df.loc[ '2019-08-13' , 'A' ]"
   ]
  },
  {
   "cell_type": "markdown",
   "metadata": {},
   "source": [
    "### iloc\n",
    "\n",
    "- 펜시인덱싱과 유사 하다\n",
    "- 행과 열의 번호를 이용하여 데이터를 접근하는 방식\n",
    "- i->index"
   ]
  },
  {
   "cell_type": "code",
   "execution_count": 63,
   "metadata": {},
   "outputs": [
    {
     "data": {
      "text/plain": [
       "A    0.127024\n",
       "B   -0.396848\n",
       "C   -1.135956\n",
       "D   -0.018935\n",
       "Name: 2019-08-13 00:00:00, dtype: float64"
      ]
     },
     "execution_count": 63,
     "metadata": {},
     "output_type": "execute_result"
    }
   ],
   "source": [
    "# 2019-08-13자 데이터 추출\n",
    "# 1 => 인덱스값이 1인 데이터\n",
    "df.iloc[ 1 ]"
   ]
  },
  {
   "cell_type": "code",
   "execution_count": 64,
   "metadata": {},
   "outputs": [
    {
     "data": {
      "text/html": [
       "<div>\n",
       "<style scoped>\n",
       "    .dataframe tbody tr th:only-of-type {\n",
       "        vertical-align: middle;\n",
       "    }\n",
       "\n",
       "    .dataframe tbody tr th {\n",
       "        vertical-align: top;\n",
       "    }\n",
       "\n",
       "    .dataframe thead th {\n",
       "        text-align: right;\n",
       "    }\n",
       "</style>\n",
       "<table border=\"1\" class=\"dataframe\">\n",
       "  <thead>\n",
       "    <tr style=\"text-align: right;\">\n",
       "      <th></th>\n",
       "      <th>B</th>\n",
       "      <th>C</th>\n",
       "    </tr>\n",
       "  </thead>\n",
       "  <tbody>\n",
       "    <tr>\n",
       "      <th>2019-08-13</th>\n",
       "      <td>-0.396848</td>\n",
       "      <td>-1.135956</td>\n",
       "    </tr>\n",
       "    <tr>\n",
       "      <th>2019-08-14</th>\n",
       "      <td>-1.379064</td>\n",
       "      <td>-0.961807</td>\n",
       "    </tr>\n",
       "  </tbody>\n",
       "</table>\n",
       "</div>"
      ],
      "text/plain": [
       "                   B         C\n",
       "2019-08-13 -0.396848 -1.135956\n",
       "2019-08-14 -1.379064 -0.961807"
      ]
     },
     "execution_count": 64,
     "metadata": {},
     "output_type": "execute_result"
    }
   ],
   "source": [
    "# iloc 슬라이싱\n",
    "# a <= index < b,   c <= column < d\n",
    "df.iloc[ 1:3, 1:3 ]"
   ]
  },
  {
   "cell_type": "code",
   "execution_count": 65,
   "metadata": {},
   "outputs": [
    {
     "data": {
      "text/html": [
       "<div>\n",
       "<style scoped>\n",
       "    .dataframe tbody tr th:only-of-type {\n",
       "        vertical-align: middle;\n",
       "    }\n",
       "\n",
       "    .dataframe tbody tr th {\n",
       "        vertical-align: top;\n",
       "    }\n",
       "\n",
       "    .dataframe thead th {\n",
       "        text-align: right;\n",
       "    }\n",
       "</style>\n",
       "<table border=\"1\" class=\"dataframe\">\n",
       "  <thead>\n",
       "    <tr style=\"text-align: right;\">\n",
       "      <th></th>\n",
       "      <th>A</th>\n",
       "      <th>C</th>\n",
       "    </tr>\n",
       "  </thead>\n",
       "  <tbody>\n",
       "    <tr>\n",
       "      <th>2019-08-13</th>\n",
       "      <td>0.127024</td>\n",
       "      <td>-1.135956</td>\n",
       "    </tr>\n",
       "    <tr>\n",
       "      <th>2019-08-16</th>\n",
       "      <td>-0.403054</td>\n",
       "      <td>0.386737</td>\n",
       "    </tr>\n",
       "    <tr>\n",
       "      <th>2019-08-14</th>\n",
       "      <td>0.127899</td>\n",
       "      <td>-0.961807</td>\n",
       "    </tr>\n",
       "  </tbody>\n",
       "</table>\n",
       "</div>"
      ],
      "text/plain": [
       "                   A         C\n",
       "2019-08-13  0.127024 -1.135956\n",
       "2019-08-16 -0.403054  0.386737\n",
       "2019-08-14  0.127899 -0.961807"
      ]
     },
     "execution_count": 65,
     "metadata": {},
     "output_type": "execute_result"
    }
   ],
   "source": [
    "# iloc + 펜시인덱싱 기법 사용 (인덱스, 컬럼을 비연속적 위치를 나열)\n",
    "df.iloc[ [1,4,2] , [0,2] ]"
   ]
  },
  {
   "cell_type": "code",
   "execution_count": 66,
   "metadata": {},
   "outputs": [
    {
     "data": {
      "text/html": [
       "<div>\n",
       "<style scoped>\n",
       "    .dataframe tbody tr th:only-of-type {\n",
       "        vertical-align: middle;\n",
       "    }\n",
       "\n",
       "    .dataframe tbody tr th {\n",
       "        vertical-align: top;\n",
       "    }\n",
       "\n",
       "    .dataframe thead th {\n",
       "        text-align: right;\n",
       "    }\n",
       "</style>\n",
       "<table border=\"1\" class=\"dataframe\">\n",
       "  <thead>\n",
       "    <tr style=\"text-align: right;\">\n",
       "      <th></th>\n",
       "      <th>A</th>\n",
       "      <th>B</th>\n",
       "      <th>C</th>\n",
       "      <th>D</th>\n",
       "    </tr>\n",
       "  </thead>\n",
       "  <tbody>\n",
       "    <tr>\n",
       "      <th>2019-08-12</th>\n",
       "      <td>-0.986232</td>\n",
       "      <td>0.210793</td>\n",
       "      <td>0.248451</td>\n",
       "      <td>0.518318</td>\n",
       "    </tr>\n",
       "    <tr>\n",
       "      <th>2019-08-15</th>\n",
       "      <td>0.253867</td>\n",
       "      <td>-0.148413</td>\n",
       "      <td>1.100030</td>\n",
       "      <td>1.077530</td>\n",
       "    </tr>\n",
       "    <tr>\n",
       "      <th>2019-08-16</th>\n",
       "      <td>-0.403054</td>\n",
       "      <td>-1.276073</td>\n",
       "      <td>0.386737</td>\n",
       "      <td>-0.154291</td>\n",
       "    </tr>\n",
       "    <tr>\n",
       "      <th>2019-08-17</th>\n",
       "      <td>-0.191294</td>\n",
       "      <td>-0.171361</td>\n",
       "      <td>0.076184</td>\n",
       "      <td>-0.148705</td>\n",
       "    </tr>\n",
       "    <tr>\n",
       "      <th>2019-08-18</th>\n",
       "      <td>-1.061130</td>\n",
       "      <td>-0.079034</td>\n",
       "      <td>0.436450</td>\n",
       "      <td>-0.951716</td>\n",
       "    </tr>\n",
       "  </tbody>\n",
       "</table>\n",
       "</div>"
      ],
      "text/plain": [
       "                   A         B         C         D\n",
       "2019-08-12 -0.986232  0.210793  0.248451  0.518318\n",
       "2019-08-15  0.253867 -0.148413  1.100030  1.077530\n",
       "2019-08-16 -0.403054 -1.276073  0.386737 -0.154291\n",
       "2019-08-17 -0.191294 -0.171361  0.076184 -0.148705\n",
       "2019-08-18 -1.061130 -0.079034  0.436450 -0.951716"
      ]
     },
     "execution_count": 66,
     "metadata": {},
     "output_type": "execute_result"
    }
   ],
   "source": [
    "# 특정 조건에 만족하는 데이터만 추출\n",
    "# 데이터프레임이 생성되면 컬러명은 맴버 변수로 자동생성됨\n",
    "# C컬럼에 존재하는 데이터중에 양수만(양수면 True, 0이하면 False)\n",
    "# 조건을 부여하여 블리언 데이터를 만들어 참만 포함시키는 방식 : 블리언 인덱싱\n",
    "# [ T, F, F, F, T, T, T ] 데이터를  and하면 참만 살아남아서 아래과 같은 결과를 발생\n",
    "# df에 식을 치면 => 전체 구성원에 전부다 연산이 진행된다 \n",
    "# 행렬 (연산) 값 => 각 구성원에 일일이 다 연산하는것과 동일\n",
    "df[ df.C > 0 ]"
   ]
  },
  {
   "cell_type": "code",
   "execution_count": 67,
   "metadata": {},
   "outputs": [
    {
     "data": {
      "text/html": [
       "<div>\n",
       "<style scoped>\n",
       "    .dataframe tbody tr th:only-of-type {\n",
       "        vertical-align: middle;\n",
       "    }\n",
       "\n",
       "    .dataframe tbody tr th {\n",
       "        vertical-align: top;\n",
       "    }\n",
       "\n",
       "    .dataframe thead th {\n",
       "        text-align: right;\n",
       "    }\n",
       "</style>\n",
       "<table border=\"1\" class=\"dataframe\">\n",
       "  <thead>\n",
       "    <tr style=\"text-align: right;\">\n",
       "      <th></th>\n",
       "      <th>A</th>\n",
       "      <th>B</th>\n",
       "      <th>C</th>\n",
       "      <th>D</th>\n",
       "    </tr>\n",
       "  </thead>\n",
       "  <tbody>\n",
       "    <tr>\n",
       "      <th>2019-08-12</th>\n",
       "      <td>NaN</td>\n",
       "      <td>0.210793</td>\n",
       "      <td>0.248451</td>\n",
       "      <td>0.518318</td>\n",
       "    </tr>\n",
       "    <tr>\n",
       "      <th>2019-08-13</th>\n",
       "      <td>0.127024</td>\n",
       "      <td>NaN</td>\n",
       "      <td>NaN</td>\n",
       "      <td>NaN</td>\n",
       "    </tr>\n",
       "    <tr>\n",
       "      <th>2019-08-14</th>\n",
       "      <td>0.127899</td>\n",
       "      <td>NaN</td>\n",
       "      <td>NaN</td>\n",
       "      <td>0.431541</td>\n",
       "    </tr>\n",
       "    <tr>\n",
       "      <th>2019-08-15</th>\n",
       "      <td>0.253867</td>\n",
       "      <td>NaN</td>\n",
       "      <td>1.100030</td>\n",
       "      <td>1.077530</td>\n",
       "    </tr>\n",
       "    <tr>\n",
       "      <th>2019-08-16</th>\n",
       "      <td>NaN</td>\n",
       "      <td>NaN</td>\n",
       "      <td>0.386737</td>\n",
       "      <td>NaN</td>\n",
       "    </tr>\n",
       "    <tr>\n",
       "      <th>2019-08-17</th>\n",
       "      <td>NaN</td>\n",
       "      <td>NaN</td>\n",
       "      <td>0.076184</td>\n",
       "      <td>NaN</td>\n",
       "    </tr>\n",
       "    <tr>\n",
       "      <th>2019-08-18</th>\n",
       "      <td>NaN</td>\n",
       "      <td>NaN</td>\n",
       "      <td>0.436450</td>\n",
       "      <td>NaN</td>\n",
       "    </tr>\n",
       "  </tbody>\n",
       "</table>\n",
       "</div>"
      ],
      "text/plain": [
       "                   A         B         C         D\n",
       "2019-08-12       NaN  0.210793  0.248451  0.518318\n",
       "2019-08-13  0.127024       NaN       NaN       NaN\n",
       "2019-08-14  0.127899       NaN       NaN  0.431541\n",
       "2019-08-15  0.253867       NaN  1.100030  1.077530\n",
       "2019-08-16       NaN       NaN  0.386737       NaN\n",
       "2019-08-17       NaN       NaN  0.076184       NaN\n",
       "2019-08-18       NaN       NaN  0.436450       NaN"
      ]
     },
     "execution_count": 67,
     "metadata": {},
     "output_type": "execute_result"
    }
   ],
   "source": [
    "# 데이터 전체를 기준으로 0보다 큰가? 0보다 같거나 작은 데이터들은? NaN 대체\n",
    "df[ df > 0  ]"
   ]
  },
  {
   "cell_type": "code",
   "execution_count": 68,
   "metadata": {},
   "outputs": [
    {
     "data": {
      "text/plain": [
       "(                   A         B         C         D\n",
       " 2019-08-12 -0.986232  0.210793  0.248451  0.518318\n",
       " 2019-08-13  0.127024 -0.396848 -1.135956 -0.018935\n",
       " 2019-08-14  0.127899 -1.379064 -0.961807  0.431541\n",
       " 2019-08-15  0.253867 -0.148413  1.100030  1.077530\n",
       " 2019-08-16 -0.403054 -1.276073  0.386737 -0.154291\n",
       " 2019-08-17 -0.191294 -0.171361  0.076184 -0.148705\n",
       " 2019-08-18 -1.061130 -0.079034  0.436450 -0.951716,\n",
       "                    A         B         C         D\n",
       " 2019-08-12 -0.986232  0.210793  0.248451  0.518318\n",
       " 2019-08-13  0.127024 -0.396848 -1.135956 -0.018935\n",
       " 2019-08-14  0.127899 -1.379064 -0.961807  0.431541\n",
       " 2019-08-15  0.253867 -0.148413  1.100030  1.077530\n",
       " 2019-08-16 -0.403054 -1.276073  0.386737 -0.154291\n",
       " 2019-08-17 -0.191294 -0.171361  0.076184 -0.148705\n",
       " 2019-08-18 -1.061130 -0.079034  0.436450 -0.951716)"
      ]
     },
     "execution_count": 68,
     "metadata": {},
     "output_type": "execute_result"
    }
   ],
   "source": [
    "# 복사 \n",
    "df.copy(), df[:]"
   ]
  },
  {
   "cell_type": "code",
   "execution_count": 69,
   "metadata": {},
   "outputs": [
    {
     "data": {
      "text/html": [
       "<div>\n",
       "<style scoped>\n",
       "    .dataframe tbody tr th:only-of-type {\n",
       "        vertical-align: middle;\n",
       "    }\n",
       "\n",
       "    .dataframe tbody tr th {\n",
       "        vertical-align: top;\n",
       "    }\n",
       "\n",
       "    .dataframe thead th {\n",
       "        text-align: right;\n",
       "    }\n",
       "</style>\n",
       "<table border=\"1\" class=\"dataframe\">\n",
       "  <thead>\n",
       "    <tr style=\"text-align: right;\">\n",
       "      <th></th>\n",
       "      <th>A</th>\n",
       "      <th>B</th>\n",
       "      <th>C</th>\n",
       "      <th>D</th>\n",
       "      <th>E</th>\n",
       "    </tr>\n",
       "  </thead>\n",
       "  <tbody>\n",
       "    <tr>\n",
       "      <th>2019-08-12</th>\n",
       "      <td>-0.986232</td>\n",
       "      <td>0.210793</td>\n",
       "      <td>0.248451</td>\n",
       "      <td>0.518318</td>\n",
       "      <td>one</td>\n",
       "    </tr>\n",
       "    <tr>\n",
       "      <th>2019-08-13</th>\n",
       "      <td>0.127024</td>\n",
       "      <td>-0.396848</td>\n",
       "      <td>-1.135956</td>\n",
       "      <td>-0.018935</td>\n",
       "      <td>one</td>\n",
       "    </tr>\n",
       "  </tbody>\n",
       "</table>\n",
       "</div>"
      ],
      "text/plain": [
       "                   A         B         C         D    E\n",
       "2019-08-12 -0.986232  0.210793  0.248451  0.518318  one\n",
       "2019-08-13  0.127024 -0.396848 -1.135956 -0.018935  one"
      ]
     },
     "execution_count": 69,
     "metadata": {},
     "output_type": "execute_result"
    }
   ],
   "source": [
    "# 기존 데이터 df에 새로운 컬럼을 추가한다 !! (아주 중요) => 파생변수\n",
    "# 기존  df의 1차원과 동수의 데이터가 존재해야 한다\n",
    "# 데이터는 리스트 ok, Series도 ok\n",
    "new_data = ['one','one','two','three','four','three','five']\n",
    "# 데이터 추가, 대상[ 신규컬럼명 ] = 데이터\n",
    "df['E'] = new_data\n",
    "df.head(2)"
   ]
  },
  {
   "cell_type": "code",
   "execution_count": 70,
   "metadata": {},
   "outputs": [
    {
     "data": {
      "text/plain": [
       "2019-08-12    False\n",
       "2019-08-13    False\n",
       "2019-08-14     True\n",
       "2019-08-15    False\n",
       "2019-08-16     True\n",
       "2019-08-17    False\n",
       "2019-08-18    False\n",
       "Freq: D, Name: E, dtype: bool"
      ]
     },
     "execution_count": 70,
     "metadata": {},
     "output_type": "execute_result"
    }
   ],
   "source": [
    "# 데이터 조사\n",
    "# 안에 그런값이 잇는가?\n",
    "df['E'].isin( ['two','four'] )"
   ]
  },
  {
   "cell_type": "code",
   "execution_count": 71,
   "metadata": {},
   "outputs": [
    {
     "data": {
      "text/html": [
       "<div>\n",
       "<style scoped>\n",
       "    .dataframe tbody tr th:only-of-type {\n",
       "        vertical-align: middle;\n",
       "    }\n",
       "\n",
       "    .dataframe tbody tr th {\n",
       "        vertical-align: top;\n",
       "    }\n",
       "\n",
       "    .dataframe thead th {\n",
       "        text-align: right;\n",
       "    }\n",
       "</style>\n",
       "<table border=\"1\" class=\"dataframe\">\n",
       "  <thead>\n",
       "    <tr style=\"text-align: right;\">\n",
       "      <th></th>\n",
       "      <th>A</th>\n",
       "      <th>B</th>\n",
       "      <th>C</th>\n",
       "      <th>D</th>\n",
       "      <th>E</th>\n",
       "    </tr>\n",
       "  </thead>\n",
       "  <tbody>\n",
       "    <tr>\n",
       "      <th>2019-08-14</th>\n",
       "      <td>0.127899</td>\n",
       "      <td>-1.379064</td>\n",
       "      <td>-0.961807</td>\n",
       "      <td>0.431541</td>\n",
       "      <td>two</td>\n",
       "    </tr>\n",
       "    <tr>\n",
       "      <th>2019-08-16</th>\n",
       "      <td>-0.403054</td>\n",
       "      <td>-1.276073</td>\n",
       "      <td>0.386737</td>\n",
       "      <td>-0.154291</td>\n",
       "      <td>four</td>\n",
       "    </tr>\n",
       "  </tbody>\n",
       "</table>\n",
       "</div>"
      ],
      "text/plain": [
       "                   A         B         C         D     E\n",
       "2019-08-14  0.127899 -1.379064 -0.961807  0.431541   two\n",
       "2019-08-16 -0.403054 -1.276073  0.386737 -0.154291  four"
      ]
     },
     "execution_count": 71,
     "metadata": {},
     "output_type": "execute_result"
    }
   ],
   "source": [
    "df[ df['E'].isin( ['two','four'] )  ]"
   ]
  },
  {
   "cell_type": "code",
   "execution_count": 72,
   "metadata": {},
   "outputs": [
    {
     "data": {
      "text/html": [
       "<div>\n",
       "<style scoped>\n",
       "    .dataframe tbody tr th:only-of-type {\n",
       "        vertical-align: middle;\n",
       "    }\n",
       "\n",
       "    .dataframe tbody tr th {\n",
       "        vertical-align: top;\n",
       "    }\n",
       "\n",
       "    .dataframe thead th {\n",
       "        text-align: right;\n",
       "    }\n",
       "</style>\n",
       "<table border=\"1\" class=\"dataframe\">\n",
       "  <thead>\n",
       "    <tr style=\"text-align: right;\">\n",
       "      <th></th>\n",
       "      <th>A</th>\n",
       "      <th>B</th>\n",
       "      <th>C</th>\n",
       "      <th>D</th>\n",
       "      <th>E</th>\n",
       "    </tr>\n",
       "  </thead>\n",
       "  <tbody>\n",
       "    <tr>\n",
       "      <th>2019-08-12</th>\n",
       "      <td>-0.986232</td>\n",
       "      <td>0.210793</td>\n",
       "      <td>0.248451</td>\n",
       "      <td>0.518318</td>\n",
       "      <td>one</td>\n",
       "    </tr>\n",
       "    <tr>\n",
       "      <th>2019-08-13</th>\n",
       "      <td>-0.859208</td>\n",
       "      <td>-0.186055</td>\n",
       "      <td>-0.887505</td>\n",
       "      <td>0.499384</td>\n",
       "      <td>oneone</td>\n",
       "    </tr>\n",
       "    <tr>\n",
       "      <th>2019-08-14</th>\n",
       "      <td>-0.731309</td>\n",
       "      <td>-1.565119</td>\n",
       "      <td>-1.849312</td>\n",
       "      <td>0.930925</td>\n",
       "      <td>oneonetwo</td>\n",
       "    </tr>\n",
       "    <tr>\n",
       "      <th>2019-08-15</th>\n",
       "      <td>-0.477442</td>\n",
       "      <td>-1.713533</td>\n",
       "      <td>-0.749281</td>\n",
       "      <td>2.008455</td>\n",
       "      <td>oneonetwothree</td>\n",
       "    </tr>\n",
       "    <tr>\n",
       "      <th>2019-08-16</th>\n",
       "      <td>-0.880496</td>\n",
       "      <td>-2.989606</td>\n",
       "      <td>-0.362545</td>\n",
       "      <td>1.854163</td>\n",
       "      <td>oneonetwothreefour</td>\n",
       "    </tr>\n",
       "    <tr>\n",
       "      <th>2019-08-17</th>\n",
       "      <td>-1.071790</td>\n",
       "      <td>-3.160967</td>\n",
       "      <td>-0.286361</td>\n",
       "      <td>1.705458</td>\n",
       "      <td>oneonetwothreefourthree</td>\n",
       "    </tr>\n",
       "    <tr>\n",
       "      <th>2019-08-18</th>\n",
       "      <td>-2.132921</td>\n",
       "      <td>-3.240000</td>\n",
       "      <td>0.150089</td>\n",
       "      <td>0.753742</td>\n",
       "      <td>oneonetwothreefourthreefive</td>\n",
       "    </tr>\n",
       "  </tbody>\n",
       "</table>\n",
       "</div>"
      ],
      "text/plain": [
       "                   A         B         C         D  \\\n",
       "2019-08-12 -0.986232  0.210793  0.248451  0.518318   \n",
       "2019-08-13 -0.859208 -0.186055 -0.887505  0.499384   \n",
       "2019-08-14 -0.731309 -1.565119 -1.849312  0.930925   \n",
       "2019-08-15 -0.477442 -1.713533 -0.749281  2.008455   \n",
       "2019-08-16 -0.880496 -2.989606 -0.362545  1.854163   \n",
       "2019-08-17 -1.071790 -3.160967 -0.286361  1.705458   \n",
       "2019-08-18 -2.132921 -3.240000  0.150089  0.753742   \n",
       "\n",
       "                                      E  \n",
       "2019-08-12                          one  \n",
       "2019-08-13                       oneone  \n",
       "2019-08-14                    oneonetwo  \n",
       "2019-08-15               oneonetwothree  \n",
       "2019-08-16           oneonetwothreefour  \n",
       "2019-08-17      oneonetwothreefourthree  \n",
       "2019-08-18  oneonetwothreefourthreefive  "
      ]
     },
     "execution_count": 72,
     "metadata": {},
     "output_type": "execute_result"
    }
   ],
   "source": [
    "# 누적합\n",
    "# apply( 함수를 표현 ) => 맴버들을 다 건드린다\n",
    "df.apply( np.cumsum )"
   ]
  },
  {
   "cell_type": "code",
   "execution_count": 75,
   "metadata": {},
   "outputs": [
    {
     "ename": "KeyError",
     "evalue": "\"labels ['E'] not contained in axis\"",
     "output_type": "error",
     "traceback": [
      "\u001b[1;31m---------------------------------------------------------------------------\u001b[0m",
      "\u001b[1;31mKeyError\u001b[0m                                  Traceback (most recent call last)",
      "\u001b[1;32m<ipython-input-75-f12b4143267c>\u001b[0m in \u001b[0;36m<module>\u001b[1;34m\u001b[0m\n\u001b[0;32m      1\u001b[0m \u001b[1;31m# 제거\u001b[0m\u001b[1;33m\u001b[0m\u001b[1;33m\u001b[0m\u001b[1;33m\u001b[0m\u001b[0m\n\u001b[1;32m----> 2\u001b[1;33m \u001b[0mdf\u001b[0m\u001b[1;33m.\u001b[0m\u001b[0mdrop\u001b[0m\u001b[1;33m(\u001b[0m \u001b[1;33m[\u001b[0m\u001b[1;34m'E'\u001b[0m\u001b[1;33m]\u001b[0m\u001b[1;33m,\u001b[0m \u001b[0minplace\u001b[0m\u001b[1;33m=\u001b[0m\u001b[1;32mTrue\u001b[0m\u001b[1;33m,\u001b[0m \u001b[0maxis\u001b[0m\u001b[1;33m=\u001b[0m\u001b[1;36m1\u001b[0m \u001b[1;33m)\u001b[0m\u001b[1;33m\u001b[0m\u001b[1;33m\u001b[0m\u001b[0m\n\u001b[0m\u001b[0;32m      3\u001b[0m \u001b[0mdf\u001b[0m\u001b[1;33m\u001b[0m\u001b[1;33m\u001b[0m\u001b[0m\n",
      "\u001b[1;32m~\\Anaconda3\\envs\\analysis\\lib\\site-packages\\pandas\\core\\frame.py\u001b[0m in \u001b[0;36mdrop\u001b[1;34m(self, labels, axis, index, columns, level, inplace, errors)\u001b[0m\n\u001b[0;32m   3692\u001b[0m                                            \u001b[0mindex\u001b[0m\u001b[1;33m=\u001b[0m\u001b[0mindex\u001b[0m\u001b[1;33m,\u001b[0m \u001b[0mcolumns\u001b[0m\u001b[1;33m=\u001b[0m\u001b[0mcolumns\u001b[0m\u001b[1;33m,\u001b[0m\u001b[1;33m\u001b[0m\u001b[1;33m\u001b[0m\u001b[0m\n\u001b[0;32m   3693\u001b[0m                                            \u001b[0mlevel\u001b[0m\u001b[1;33m=\u001b[0m\u001b[0mlevel\u001b[0m\u001b[1;33m,\u001b[0m \u001b[0minplace\u001b[0m\u001b[1;33m=\u001b[0m\u001b[0minplace\u001b[0m\u001b[1;33m,\u001b[0m\u001b[1;33m\u001b[0m\u001b[1;33m\u001b[0m\u001b[0m\n\u001b[1;32m-> 3694\u001b[1;33m                                            errors=errors)\n\u001b[0m\u001b[0;32m   3695\u001b[0m \u001b[1;33m\u001b[0m\u001b[0m\n\u001b[0;32m   3696\u001b[0m     @rewrite_axis_style_signature('mapper', [('copy', True),\n",
      "\u001b[1;32m~\\Anaconda3\\envs\\analysis\\lib\\site-packages\\pandas\\core\\generic.py\u001b[0m in \u001b[0;36mdrop\u001b[1;34m(self, labels, axis, index, columns, level, inplace, errors)\u001b[0m\n\u001b[0;32m   3106\u001b[0m         \u001b[1;32mfor\u001b[0m \u001b[0maxis\u001b[0m\u001b[1;33m,\u001b[0m \u001b[0mlabels\u001b[0m \u001b[1;32min\u001b[0m \u001b[0maxes\u001b[0m\u001b[1;33m.\u001b[0m\u001b[0mitems\u001b[0m\u001b[1;33m(\u001b[0m\u001b[1;33m)\u001b[0m\u001b[1;33m:\u001b[0m\u001b[1;33m\u001b[0m\u001b[1;33m\u001b[0m\u001b[0m\n\u001b[0;32m   3107\u001b[0m             \u001b[1;32mif\u001b[0m \u001b[0mlabels\u001b[0m \u001b[1;32mis\u001b[0m \u001b[1;32mnot\u001b[0m \u001b[1;32mNone\u001b[0m\u001b[1;33m:\u001b[0m\u001b[1;33m\u001b[0m\u001b[1;33m\u001b[0m\u001b[0m\n\u001b[1;32m-> 3108\u001b[1;33m                 \u001b[0mobj\u001b[0m \u001b[1;33m=\u001b[0m \u001b[0mobj\u001b[0m\u001b[1;33m.\u001b[0m\u001b[0m_drop_axis\u001b[0m\u001b[1;33m(\u001b[0m\u001b[0mlabels\u001b[0m\u001b[1;33m,\u001b[0m \u001b[0maxis\u001b[0m\u001b[1;33m,\u001b[0m \u001b[0mlevel\u001b[0m\u001b[1;33m=\u001b[0m\u001b[0mlevel\u001b[0m\u001b[1;33m,\u001b[0m \u001b[0merrors\u001b[0m\u001b[1;33m=\u001b[0m\u001b[0merrors\u001b[0m\u001b[1;33m)\u001b[0m\u001b[1;33m\u001b[0m\u001b[1;33m\u001b[0m\u001b[0m\n\u001b[0m\u001b[0;32m   3109\u001b[0m \u001b[1;33m\u001b[0m\u001b[0m\n\u001b[0;32m   3110\u001b[0m         \u001b[1;32mif\u001b[0m \u001b[0minplace\u001b[0m\u001b[1;33m:\u001b[0m\u001b[1;33m\u001b[0m\u001b[1;33m\u001b[0m\u001b[0m\n",
      "\u001b[1;32m~\\Anaconda3\\envs\\analysis\\lib\\site-packages\\pandas\\core\\generic.py\u001b[0m in \u001b[0;36m_drop_axis\u001b[1;34m(self, labels, axis, level, errors)\u001b[0m\n\u001b[0;32m   3138\u001b[0m                 \u001b[0mnew_axis\u001b[0m \u001b[1;33m=\u001b[0m \u001b[0maxis\u001b[0m\u001b[1;33m.\u001b[0m\u001b[0mdrop\u001b[0m\u001b[1;33m(\u001b[0m\u001b[0mlabels\u001b[0m\u001b[1;33m,\u001b[0m \u001b[0mlevel\u001b[0m\u001b[1;33m=\u001b[0m\u001b[0mlevel\u001b[0m\u001b[1;33m,\u001b[0m \u001b[0merrors\u001b[0m\u001b[1;33m=\u001b[0m\u001b[0merrors\u001b[0m\u001b[1;33m)\u001b[0m\u001b[1;33m\u001b[0m\u001b[1;33m\u001b[0m\u001b[0m\n\u001b[0;32m   3139\u001b[0m             \u001b[1;32melse\u001b[0m\u001b[1;33m:\u001b[0m\u001b[1;33m\u001b[0m\u001b[1;33m\u001b[0m\u001b[0m\n\u001b[1;32m-> 3140\u001b[1;33m                 \u001b[0mnew_axis\u001b[0m \u001b[1;33m=\u001b[0m \u001b[0maxis\u001b[0m\u001b[1;33m.\u001b[0m\u001b[0mdrop\u001b[0m\u001b[1;33m(\u001b[0m\u001b[0mlabels\u001b[0m\u001b[1;33m,\u001b[0m \u001b[0merrors\u001b[0m\u001b[1;33m=\u001b[0m\u001b[0merrors\u001b[0m\u001b[1;33m)\u001b[0m\u001b[1;33m\u001b[0m\u001b[1;33m\u001b[0m\u001b[0m\n\u001b[0m\u001b[0;32m   3141\u001b[0m             \u001b[0mdropped\u001b[0m \u001b[1;33m=\u001b[0m \u001b[0mself\u001b[0m\u001b[1;33m.\u001b[0m\u001b[0mreindex\u001b[0m\u001b[1;33m(\u001b[0m\u001b[1;33m**\u001b[0m\u001b[1;33m{\u001b[0m\u001b[0maxis_name\u001b[0m\u001b[1;33m:\u001b[0m \u001b[0mnew_axis\u001b[0m\u001b[1;33m}\u001b[0m\u001b[1;33m)\u001b[0m\u001b[1;33m\u001b[0m\u001b[1;33m\u001b[0m\u001b[0m\n\u001b[0;32m   3142\u001b[0m             \u001b[1;32mtry\u001b[0m\u001b[1;33m:\u001b[0m\u001b[1;33m\u001b[0m\u001b[1;33m\u001b[0m\u001b[0m\n",
      "\u001b[1;32m~\\Anaconda3\\envs\\analysis\\lib\\site-packages\\pandas\\core\\indexes\\base.py\u001b[0m in \u001b[0;36mdrop\u001b[1;34m(self, labels, errors)\u001b[0m\n\u001b[0;32m   4385\u001b[0m             \u001b[1;32mif\u001b[0m \u001b[0merrors\u001b[0m \u001b[1;33m!=\u001b[0m \u001b[1;34m'ignore'\u001b[0m\u001b[1;33m:\u001b[0m\u001b[1;33m\u001b[0m\u001b[1;33m\u001b[0m\u001b[0m\n\u001b[0;32m   4386\u001b[0m                 raise KeyError(\n\u001b[1;32m-> 4387\u001b[1;33m                     'labels %s not contained in axis' % labels[mask])\n\u001b[0m\u001b[0;32m   4388\u001b[0m             \u001b[0mindexer\u001b[0m \u001b[1;33m=\u001b[0m \u001b[0mindexer\u001b[0m\u001b[1;33m[\u001b[0m\u001b[1;33m~\u001b[0m\u001b[0mmask\u001b[0m\u001b[1;33m]\u001b[0m\u001b[1;33m\u001b[0m\u001b[1;33m\u001b[0m\u001b[0m\n\u001b[0;32m   4389\u001b[0m         \u001b[1;32mreturn\u001b[0m \u001b[0mself\u001b[0m\u001b[1;33m.\u001b[0m\u001b[0mdelete\u001b[0m\u001b[1;33m(\u001b[0m\u001b[0mindexer\u001b[0m\u001b[1;33m)\u001b[0m\u001b[1;33m\u001b[0m\u001b[1;33m\u001b[0m\u001b[0m\n",
      "\u001b[1;31mKeyError\u001b[0m: \"labels ['E'] not contained in axis\""
     ]
    }
   ],
   "source": [
    "try:    \n",
    "    # 제거\n",
    "    df.drop( ['E'], inplace=True, axis=1 )\n",
    "    df\n",
    "except Exception as e:\n",
    "    pass"
   ]
  },
  {
   "cell_type": "code",
   "execution_count": null,
   "metadata": {},
   "outputs": [],
   "source": []
  },
  {
   "cell_type": "code",
   "execution_count": null,
   "metadata": {},
   "outputs": [],
   "source": []
  },
  {
   "cell_type": "code",
   "execution_count": null,
   "metadata": {},
   "outputs": [],
   "source": []
  }
 ],
 "metadata": {
  "kernelspec": {
   "display_name": "Python 3",
   "language": "python",
   "name": "python3"
  },
  "language_info": {
   "codemirror_mode": {
    "name": "ipython",
    "version": 3
   },
   "file_extension": ".py",
   "mimetype": "text/x-python",
   "name": "python",
   "nbconvert_exporter": "python",
   "pygments_lexer": "ipython3",
   "version": "3.6.9"
  }
 },
 "nbformat": 4,
 "nbformat_minor": 2
}
