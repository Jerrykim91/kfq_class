{
 "cells": [
  {
   "cell_type": "markdown",
   "metadata": {},
   "source": [
    "## Pandas 기초 \n",
    "\n",
    "- pandsas는 R의 핵심 데이터 시리즈와 프레임을 파이썬에 추가한 것이다.\n",
    "- numpy를 기반으로 구현되었고, numpy 대비 기능을 더 확장하여 재구현한것\n",
    "- Python Data Analysis Library\n",
    "    + https://pandas.pydata.org"
   ]
  },
  {
   "cell_type": "code",
   "execution_count": 1,
   "metadata": {},
   "outputs": [],
   "source": [
    "import numpy as np\n",
    "import pandas as pd"
   ]
  },
  {
   "cell_type": "markdown",
   "metadata": {},
   "source": [
    "## 파이썬의 자료구조\n",
    "\n",
    "- 수치형, 문자열, 리스트, 딕셔너리, 튜플, 집합, 블린  \n",
    "\n",
    "## numpy의 자료구조\n",
    "\n",
    "- ndarray(배열) : 배열의 데이터는 모든 같은 타입이다.\n",
    "\n",
    "## pandas의 자료구조\n",
    "\n",
    "- Series(시리즈), DataFrame(데이터프레임)  \n",
    "\n",
    "- DataFrame의 인덱싱 -> Series의 인덱싱 -> 값(스칼라), 수치, 문자, 블린, NaN 이 등장  \n",
    "- Series: 인덱스와 데이터만 존재하는, 컬럼이 없는 자료구조  \n",
    "- DataFrame: 인덱스와 컬럼이 존재하는 자료구조\n",
    "\n",
    "### 결측값\n",
    "- NaN : 데이터가 없다. (난, 넌), Not a Number => np.nan"
   ]
  },
  {
   "cell_type": "code",
   "execution_count": 2,
   "metadata": {},
   "outputs": [
    {
     "data": {
      "text/plain": [
       "0    1.0\n",
       "1    3.0\n",
       "2    5.0\n",
       "3    NaN\n",
       "4    6.0\n",
       "5    8.0\n",
       "dtype: float64"
      ]
     },
     "execution_count": 2,
     "metadata": {},
     "output_type": "execute_result"
    }
   ],
   "source": [
    "# series\n",
    "# 데이터를 정수로 넣었으나 기본형으로 float64가 반영되었다.\n",
    "s = pd.Series([1,3,5,np.nan,6,8])\n",
    "s"
   ]
  },
  {
   "cell_type": "code",
   "execution_count": 4,
   "metadata": {},
   "outputs": [
    {
     "data": {
      "text/plain": [
       "dtype('float64')"
      ]
     },
     "execution_count": 4,
     "metadata": {},
     "output_type": "execute_result"
    }
   ],
   "source": [
    "# 속성-타입\n",
    "s.dtype"
   ]
  },
  {
   "cell_type": "code",
   "execution_count": 5,
   "metadata": {},
   "outputs": [
    {
     "data": {
      "text/plain": [
       "(6,)"
      ]
     },
     "execution_count": 5,
     "metadata": {},
     "output_type": "execute_result"
    }
   ],
   "source": [
    "# 속성-크기\n",
    "s.shape\n",
    "# 1차원데이터로 총6개의 데이터가 존재"
   ]
  },
  {
   "cell_type": "code",
   "execution_count": 6,
   "metadata": {},
   "outputs": [
    {
     "data": {
      "text/plain": [
       "(['A', 'B', 'C', 'D'],\n",
       " DatetimeIndex(['2019-08-12', '2019-08-13', '2019-08-14', '2019-08-15',\n",
       "                '2019-08-16', '2019-08-17', '2019-08-18'],\n",
       "               dtype='datetime64[ns]', freq='D'))"
      ]
     },
     "execution_count": 6,
     "metadata": {},
     "output_type": "execute_result"
    }
   ],
   "source": [
    "# DataFrame\n",
    "# 인덱스와 컬럼이 존재하는 자료구조\n",
    "cols   = list('ABCD') # ['A','B','C','D']\n",
    "indexs = pd.date_range('20190812', periods=7)\n",
    "\n",
    "# 컬럼 4개, 인덱스 7개\n",
    "cols, indexs"
   ]
  },
  {
   "cell_type": "code",
   "execution_count": 7,
   "metadata": {},
   "outputs": [
    {
     "data": {
      "text/plain": [
       "(array([[-0.9362263 ,  1.67314147, -0.8894701 , -0.82115808],\n",
       "        [-0.6128375 ,  0.65047414, -0.60523238, -2.01869234],\n",
       "        [ 0.84736246,  0.15148148,  0.90968612, -0.75838229],\n",
       "        [ 0.19352527, -1.25555732,  0.49233354, -0.15449815],\n",
       "        [ 0.32460286,  2.1503056 , -0.41620876, -0.13862482],\n",
       "        [-1.25768262,  0.25567388, -0.4409155 ,  0.78621552],\n",
       "        [ 0.30211332,  0.14613594,  1.59568586, -0.84864596]]),\n",
       " (7, 4))"
      ]
     },
     "execution_count": 7,
     "metadata": {},
     "output_type": "execute_result"
    }
   ],
   "source": [
    "# 데이터는 shape => (7,4)\n",
    "datas = np.random.randn(7,4)\n",
    "datas, datas.shape"
   ]
  },
  {
   "cell_type": "code",
   "execution_count": 8,
   "metadata": {},
   "outputs": [
    {
     "data": {
      "text/html": [
       "<div>\n",
       "<style scoped>\n",
       "    .dataframe tbody tr th:only-of-type {\n",
       "        vertical-align: middle;\n",
       "    }\n",
       "\n",
       "    .dataframe tbody tr th {\n",
       "        vertical-align: top;\n",
       "    }\n",
       "\n",
       "    .dataframe thead th {\n",
       "        text-align: right;\n",
       "    }\n",
       "</style>\n",
       "<table border=\"1\" class=\"dataframe\">\n",
       "  <thead>\n",
       "    <tr style=\"text-align: right;\">\n",
       "      <th></th>\n",
       "      <th>A</th>\n",
       "      <th>B</th>\n",
       "      <th>C</th>\n",
       "      <th>D</th>\n",
       "    </tr>\n",
       "  </thead>\n",
       "  <tbody>\n",
       "    <tr>\n",
       "      <th>2019-08-12</th>\n",
       "      <td>-0.936226</td>\n",
       "      <td>1.673141</td>\n",
       "      <td>-0.889470</td>\n",
       "      <td>-0.821158</td>\n",
       "    </tr>\n",
       "    <tr>\n",
       "      <th>2019-08-13</th>\n",
       "      <td>-0.612838</td>\n",
       "      <td>0.650474</td>\n",
       "      <td>-0.605232</td>\n",
       "      <td>-2.018692</td>\n",
       "    </tr>\n",
       "    <tr>\n",
       "      <th>2019-08-14</th>\n",
       "      <td>0.847362</td>\n",
       "      <td>0.151481</td>\n",
       "      <td>0.909686</td>\n",
       "      <td>-0.758382</td>\n",
       "    </tr>\n",
       "    <tr>\n",
       "      <th>2019-08-15</th>\n",
       "      <td>0.193525</td>\n",
       "      <td>-1.255557</td>\n",
       "      <td>0.492334</td>\n",
       "      <td>-0.154498</td>\n",
       "    </tr>\n",
       "    <tr>\n",
       "      <th>2019-08-16</th>\n",
       "      <td>0.324603</td>\n",
       "      <td>2.150306</td>\n",
       "      <td>-0.416209</td>\n",
       "      <td>-0.138625</td>\n",
       "    </tr>\n",
       "    <tr>\n",
       "      <th>2019-08-17</th>\n",
       "      <td>-1.257683</td>\n",
       "      <td>0.255674</td>\n",
       "      <td>-0.440915</td>\n",
       "      <td>0.786216</td>\n",
       "    </tr>\n",
       "    <tr>\n",
       "      <th>2019-08-18</th>\n",
       "      <td>0.302113</td>\n",
       "      <td>0.146136</td>\n",
       "      <td>1.595686</td>\n",
       "      <td>-0.848646</td>\n",
       "    </tr>\n",
       "  </tbody>\n",
       "</table>\n",
       "</div>"
      ],
      "text/plain": [
       "                   A         B         C         D\n",
       "2019-08-12 -0.936226  1.673141 -0.889470 -0.821158\n",
       "2019-08-13 -0.612838  0.650474 -0.605232 -2.018692\n",
       "2019-08-14  0.847362  0.151481  0.909686 -0.758382\n",
       "2019-08-15  0.193525 -1.255557  0.492334 -0.154498\n",
       "2019-08-16  0.324603  2.150306 -0.416209 -0.138625\n",
       "2019-08-17 -1.257683  0.255674 -0.440915  0.786216\n",
       "2019-08-18  0.302113  0.146136  1.595686 -0.848646"
      ]
     },
     "execution_count": 8,
     "metadata": {},
     "output_type": "execute_result"
    }
   ],
   "source": [
    "# df 생성\n",
    "df = pd.DataFrame( datas, index=indexs, columns=cols)\n",
    "df"
   ]
  },
  {
   "cell_type": "markdown",
   "metadata": {},
   "source": [
    "- **데이터가 로드된후 DataFrame을 만든후 점검할 사항**"
   ]
  },
  {
   "cell_type": "code",
   "execution_count": 9,
   "metadata": {},
   "outputs": [
    {
     "data": {
      "text/html": [
       "<div>\n",
       "<style scoped>\n",
       "    .dataframe tbody tr th:only-of-type {\n",
       "        vertical-align: middle;\n",
       "    }\n",
       "\n",
       "    .dataframe tbody tr th {\n",
       "        vertical-align: top;\n",
       "    }\n",
       "\n",
       "    .dataframe thead th {\n",
       "        text-align: right;\n",
       "    }\n",
       "</style>\n",
       "<table border=\"1\" class=\"dataframe\">\n",
       "  <thead>\n",
       "    <tr style=\"text-align: right;\">\n",
       "      <th></th>\n",
       "      <th>A</th>\n",
       "      <th>B</th>\n",
       "      <th>C</th>\n",
       "      <th>D</th>\n",
       "    </tr>\n",
       "  </thead>\n",
       "  <tbody>\n",
       "    <tr>\n",
       "      <th>2019-08-12</th>\n",
       "      <td>-0.936226</td>\n",
       "      <td>1.673141</td>\n",
       "      <td>-0.889470</td>\n",
       "      <td>-0.821158</td>\n",
       "    </tr>\n",
       "    <tr>\n",
       "      <th>2019-08-13</th>\n",
       "      <td>-0.612838</td>\n",
       "      <td>0.650474</td>\n",
       "      <td>-0.605232</td>\n",
       "      <td>-2.018692</td>\n",
       "    </tr>\n",
       "    <tr>\n",
       "      <th>2019-08-14</th>\n",
       "      <td>0.847362</td>\n",
       "      <td>0.151481</td>\n",
       "      <td>0.909686</td>\n",
       "      <td>-0.758382</td>\n",
       "    </tr>\n",
       "  </tbody>\n",
       "</table>\n",
       "</div>"
      ],
      "text/plain": [
       "                   A         B         C         D\n",
       "2019-08-12 -0.936226  1.673141 -0.889470 -0.821158\n",
       "2019-08-13 -0.612838  0.650474 -0.605232 -2.018692\n",
       "2019-08-14  0.847362  0.151481  0.909686 -0.758382"
      ]
     },
     "execution_count": 9,
     "metadata": {},
     "output_type": "execute_result"
    }
   ],
   "source": [
    "df.head(3)"
   ]
  },
  {
   "cell_type": "code",
   "execution_count": 10,
   "metadata": {},
   "outputs": [
    {
     "data": {
      "text/html": [
       "<div>\n",
       "<style scoped>\n",
       "    .dataframe tbody tr th:only-of-type {\n",
       "        vertical-align: middle;\n",
       "    }\n",
       "\n",
       "    .dataframe tbody tr th {\n",
       "        vertical-align: top;\n",
       "    }\n",
       "\n",
       "    .dataframe thead th {\n",
       "        text-align: right;\n",
       "    }\n",
       "</style>\n",
       "<table border=\"1\" class=\"dataframe\">\n",
       "  <thead>\n",
       "    <tr style=\"text-align: right;\">\n",
       "      <th></th>\n",
       "      <th>A</th>\n",
       "      <th>B</th>\n",
       "      <th>C</th>\n",
       "      <th>D</th>\n",
       "    </tr>\n",
       "  </thead>\n",
       "  <tbody>\n",
       "    <tr>\n",
       "      <th>2019-08-17</th>\n",
       "      <td>-1.257683</td>\n",
       "      <td>0.255674</td>\n",
       "      <td>-0.440915</td>\n",
       "      <td>0.786216</td>\n",
       "    </tr>\n",
       "    <tr>\n",
       "      <th>2019-08-18</th>\n",
       "      <td>0.302113</td>\n",
       "      <td>0.146136</td>\n",
       "      <td>1.595686</td>\n",
       "      <td>-0.848646</td>\n",
       "    </tr>\n",
       "  </tbody>\n",
       "</table>\n",
       "</div>"
      ],
      "text/plain": [
       "                   A         B         C         D\n",
       "2019-08-17 -1.257683  0.255674 -0.440915  0.786216\n",
       "2019-08-18  0.302113  0.146136  1.595686 -0.848646"
      ]
     },
     "execution_count": 10,
     "metadata": {},
     "output_type": "execute_result"
    }
   ],
   "source": [
    "df.tail(2)"
   ]
  },
  {
   "cell_type": "code",
   "execution_count": 11,
   "metadata": {},
   "outputs": [
    {
     "data": {
      "text/plain": [
       "Index(['A', 'B', 'C', 'D'], dtype='object')"
      ]
     },
     "execution_count": 11,
     "metadata": {},
     "output_type": "execute_result"
    }
   ],
   "source": [
    "df.columns"
   ]
  },
  {
   "cell_type": "code",
   "execution_count": 12,
   "metadata": {},
   "outputs": [
    {
     "data": {
      "text/plain": [
       "DatetimeIndex(['2019-08-12', '2019-08-13', '2019-08-14', '2019-08-15',\n",
       "               '2019-08-16', '2019-08-17', '2019-08-18'],\n",
       "              dtype='datetime64[ns]', freq='D')"
      ]
     },
     "execution_count": 12,
     "metadata": {},
     "output_type": "execute_result"
    }
   ],
   "source": [
    "df.index"
   ]
  },
  {
   "cell_type": "code",
   "execution_count": 13,
   "metadata": {},
   "outputs": [
    {
     "data": {
      "text/plain": [
       "array([[-0.9362263 ,  1.67314147, -0.8894701 , -0.82115808],\n",
       "       [-0.6128375 ,  0.65047414, -0.60523238, -2.01869234],\n",
       "       [ 0.84736246,  0.15148148,  0.90968612, -0.75838229],\n",
       "       [ 0.19352527, -1.25555732,  0.49233354, -0.15449815],\n",
       "       [ 0.32460286,  2.1503056 , -0.41620876, -0.13862482],\n",
       "       [-1.25768262,  0.25567388, -0.4409155 ,  0.78621552],\n",
       "       [ 0.30211332,  0.14613594,  1.59568586, -0.84864596]])"
      ]
     },
     "execution_count": 13,
     "metadata": {},
     "output_type": "execute_result"
    }
   ],
   "source": [
    "df.values"
   ]
  },
  {
   "cell_type": "code",
   "execution_count": 14,
   "metadata": {},
   "outputs": [
    {
     "data": {
      "text/plain": [
       "numpy.ndarray"
      ]
     },
     "execution_count": 14,
     "metadata": {},
     "output_type": "execute_result"
    }
   ],
   "source": [
    "type(df.values)"
   ]
  },
  {
   "cell_type": "code",
   "execution_count": 15,
   "metadata": {},
   "outputs": [
    {
     "data": {
      "text/plain": [
       "(7, 4)"
      ]
     },
     "execution_count": 15,
     "metadata": {},
     "output_type": "execute_result"
    }
   ],
   "source": [
    "df.shape"
   ]
  },
  {
   "cell_type": "code",
   "execution_count": 16,
   "metadata": {},
   "outputs": [
    {
     "data": {
      "text/plain": [
       "A    float64\n",
       "B    float64\n",
       "C    float64\n",
       "D    float64\n",
       "dtype: object"
      ]
     },
     "execution_count": 16,
     "metadata": {},
     "output_type": "execute_result"
    }
   ],
   "source": [
    "df.dtypes"
   ]
  },
  {
   "cell_type": "code",
   "execution_count": 17,
   "metadata": {},
   "outputs": [
    {
     "name": "stdout",
     "output_type": "stream",
     "text": [
      "<class 'pandas.core.frame.DataFrame'>\n",
      "DatetimeIndex: 7 entries, 2019-08-12 to 2019-08-18\n",
      "Freq: D\n",
      "Data columns (total 4 columns):\n",
      " #   Column  Non-Null Count  Dtype  \n",
      "---  ------  --------------  -----  \n",
      " 0   A       7 non-null      float64\n",
      " 1   B       7 non-null      float64\n",
      " 2   C       7 non-null      float64\n",
      " 3   D       7 non-null      float64\n",
      "dtypes: float64(4)\n",
      "memory usage: 280.0 bytes\n"
     ]
    }
   ],
   "source": [
    "# df의 개요\n",
    "df.info()"
   ]
  },
  {
   "cell_type": "code",
   "execution_count": 18,
   "metadata": {},
   "outputs": [
    {
     "data": {
      "text/html": [
       "<div>\n",
       "<style scoped>\n",
       "    .dataframe tbody tr th:only-of-type {\n",
       "        vertical-align: middle;\n",
       "    }\n",
       "\n",
       "    .dataframe tbody tr th {\n",
       "        vertical-align: top;\n",
       "    }\n",
       "\n",
       "    .dataframe thead th {\n",
       "        text-align: right;\n",
       "    }\n",
       "</style>\n",
       "<table border=\"1\" class=\"dataframe\">\n",
       "  <thead>\n",
       "    <tr style=\"text-align: right;\">\n",
       "      <th></th>\n",
       "      <th>A</th>\n",
       "      <th>B</th>\n",
       "      <th>C</th>\n",
       "      <th>D</th>\n",
       "    </tr>\n",
       "  </thead>\n",
       "  <tbody>\n",
       "    <tr>\n",
       "      <th>count</th>\n",
       "      <td>7.000000</td>\n",
       "      <td>7.000000</td>\n",
       "      <td>7.000000</td>\n",
       "      <td>7.000000</td>\n",
       "    </tr>\n",
       "    <tr>\n",
       "      <th>mean</th>\n",
       "      <td>-0.162735</td>\n",
       "      <td>0.538808</td>\n",
       "      <td>0.092268</td>\n",
       "      <td>-0.564827</td>\n",
       "    </tr>\n",
       "    <tr>\n",
       "      <th>std</th>\n",
       "      <td>0.774660</td>\n",
       "      <td>1.118051</td>\n",
       "      <td>0.920293</td>\n",
       "      <td>0.863402</td>\n",
       "    </tr>\n",
       "    <tr>\n",
       "      <th>min</th>\n",
       "      <td>-1.257683</td>\n",
       "      <td>-1.255557</td>\n",
       "      <td>-0.889470</td>\n",
       "      <td>-2.018692</td>\n",
       "    </tr>\n",
       "    <tr>\n",
       "      <th>25%</th>\n",
       "      <td>-0.774532</td>\n",
       "      <td>0.148809</td>\n",
       "      <td>-0.523074</td>\n",
       "      <td>-0.834902</td>\n",
       "    </tr>\n",
       "    <tr>\n",
       "      <th>50%</th>\n",
       "      <td>0.193525</td>\n",
       "      <td>0.255674</td>\n",
       "      <td>-0.416209</td>\n",
       "      <td>-0.758382</td>\n",
       "    </tr>\n",
       "    <tr>\n",
       "      <th>75%</th>\n",
       "      <td>0.313358</td>\n",
       "      <td>1.161808</td>\n",
       "      <td>0.701010</td>\n",
       "      <td>-0.146561</td>\n",
       "    </tr>\n",
       "    <tr>\n",
       "      <th>max</th>\n",
       "      <td>0.847362</td>\n",
       "      <td>2.150306</td>\n",
       "      <td>1.595686</td>\n",
       "      <td>0.786216</td>\n",
       "    </tr>\n",
       "  </tbody>\n",
       "</table>\n",
       "</div>"
      ],
      "text/plain": [
       "              A         B         C         D\n",
       "count  7.000000  7.000000  7.000000  7.000000\n",
       "mean  -0.162735  0.538808  0.092268 -0.564827\n",
       "std    0.774660  1.118051  0.920293  0.863402\n",
       "min   -1.257683 -1.255557 -0.889470 -2.018692\n",
       "25%   -0.774532  0.148809 -0.523074 -0.834902\n",
       "50%    0.193525  0.255674 -0.416209 -0.758382\n",
       "75%    0.313358  1.161808  0.701010 -0.146561\n",
       "max    0.847362  2.150306  1.595686  0.786216"
      ]
     },
     "execution_count": 18,
     "metadata": {},
     "output_type": "execute_result"
    }
   ],
   "source": [
    "# 통계요약 : 개수, 평균, 표준편차, 최소, 25%, 50%, 75%, 최대\n",
    "df.describe()"
   ]
  },
  {
   "cell_type": "code",
   "execution_count": 19,
   "metadata": {},
   "outputs": [
    {
     "data": {
      "text/html": [
       "<div>\n",
       "<style scoped>\n",
       "    .dataframe tbody tr th:only-of-type {\n",
       "        vertical-align: middle;\n",
       "    }\n",
       "\n",
       "    .dataframe tbody tr th {\n",
       "        vertical-align: top;\n",
       "    }\n",
       "\n",
       "    .dataframe thead th {\n",
       "        text-align: right;\n",
       "    }\n",
       "</style>\n",
       "<table border=\"1\" class=\"dataframe\">\n",
       "  <thead>\n",
       "    <tr style=\"text-align: right;\">\n",
       "      <th></th>\n",
       "      <th>A</th>\n",
       "      <th>B</th>\n",
       "      <th>C</th>\n",
       "      <th>D</th>\n",
       "    </tr>\n",
       "  </thead>\n",
       "  <tbody>\n",
       "    <tr>\n",
       "      <th>2019-08-16</th>\n",
       "      <td>0.324603</td>\n",
       "      <td>2.150306</td>\n",
       "      <td>-0.416209</td>\n",
       "      <td>-0.138625</td>\n",
       "    </tr>\n",
       "    <tr>\n",
       "      <th>2019-08-12</th>\n",
       "      <td>-0.936226</td>\n",
       "      <td>1.673141</td>\n",
       "      <td>-0.889470</td>\n",
       "      <td>-0.821158</td>\n",
       "    </tr>\n",
       "    <tr>\n",
       "      <th>2019-08-13</th>\n",
       "      <td>-0.612838</td>\n",
       "      <td>0.650474</td>\n",
       "      <td>-0.605232</td>\n",
       "      <td>-2.018692</td>\n",
       "    </tr>\n",
       "    <tr>\n",
       "      <th>2019-08-17</th>\n",
       "      <td>-1.257683</td>\n",
       "      <td>0.255674</td>\n",
       "      <td>-0.440915</td>\n",
       "      <td>0.786216</td>\n",
       "    </tr>\n",
       "    <tr>\n",
       "      <th>2019-08-14</th>\n",
       "      <td>0.847362</td>\n",
       "      <td>0.151481</td>\n",
       "      <td>0.909686</td>\n",
       "      <td>-0.758382</td>\n",
       "    </tr>\n",
       "    <tr>\n",
       "      <th>2019-08-18</th>\n",
       "      <td>0.302113</td>\n",
       "      <td>0.146136</td>\n",
       "      <td>1.595686</td>\n",
       "      <td>-0.848646</td>\n",
       "    </tr>\n",
       "    <tr>\n",
       "      <th>2019-08-15</th>\n",
       "      <td>0.193525</td>\n",
       "      <td>-1.255557</td>\n",
       "      <td>0.492334</td>\n",
       "      <td>-0.154498</td>\n",
       "    </tr>\n",
       "  </tbody>\n",
       "</table>\n",
       "</div>"
      ],
      "text/plain": [
       "                   A         B         C         D\n",
       "2019-08-16  0.324603  2.150306 -0.416209 -0.138625\n",
       "2019-08-12 -0.936226  1.673141 -0.889470 -0.821158\n",
       "2019-08-13 -0.612838  0.650474 -0.605232 -2.018692\n",
       "2019-08-17 -1.257683  0.255674 -0.440915  0.786216\n",
       "2019-08-14  0.847362  0.151481  0.909686 -0.758382\n",
       "2019-08-18  0.302113  0.146136  1.595686 -0.848646\n",
       "2019-08-15  0.193525 -1.255557  0.492334 -0.154498"
      ]
     },
     "execution_count": 19,
     "metadata": {},
     "output_type": "execute_result"
    }
   ],
   "source": [
    "# B열 기준 데이터를 정렬, 내림차순\n",
    "df.sort_values( by='B', ascending=False )"
   ]
  },
  {
   "cell_type": "code",
   "execution_count": 20,
   "metadata": {},
   "outputs": [
    {
     "data": {
      "text/plain": [
       "(2019-08-12   -0.889470\n",
       " 2019-08-13   -0.605232\n",
       " 2019-08-14    0.909686\n",
       " 2019-08-15    0.492334\n",
       " 2019-08-16   -0.416209\n",
       " 2019-08-17   -0.440915\n",
       " 2019-08-18    1.595686\n",
       " Freq: D, Name: C, dtype: float64,\n",
       " pandas.core.series.Series)"
      ]
     },
     "execution_count": 20,
     "metadata": {},
     "output_type": "execute_result"
    }
   ],
   "source": [
    "# 특정 컬럼의 데이터만 보기 => 인덱싱 => 차원축소\n",
    "df['C'], type(df['C'])"
   ]
  },
  {
   "cell_type": "code",
   "execution_count": 21,
   "metadata": {},
   "outputs": [
    {
     "data": {
      "text/html": [
       "<div>\n",
       "<style scoped>\n",
       "    .dataframe tbody tr th:only-of-type {\n",
       "        vertical-align: middle;\n",
       "    }\n",
       "\n",
       "    .dataframe tbody tr th {\n",
       "        vertical-align: top;\n",
       "    }\n",
       "\n",
       "    .dataframe thead th {\n",
       "        text-align: right;\n",
       "    }\n",
       "</style>\n",
       "<table border=\"1\" class=\"dataframe\">\n",
       "  <thead>\n",
       "    <tr style=\"text-align: right;\">\n",
       "      <th></th>\n",
       "      <th>A</th>\n",
       "      <th>B</th>\n",
       "      <th>C</th>\n",
       "      <th>D</th>\n",
       "    </tr>\n",
       "  </thead>\n",
       "  <tbody>\n",
       "    <tr>\n",
       "      <th>2019-08-12</th>\n",
       "      <td>-0.936226</td>\n",
       "      <td>1.673141</td>\n",
       "      <td>-0.889470</td>\n",
       "      <td>-0.821158</td>\n",
       "    </tr>\n",
       "    <tr>\n",
       "      <th>2019-08-13</th>\n",
       "      <td>-0.612838</td>\n",
       "      <td>0.650474</td>\n",
       "      <td>-0.605232</td>\n",
       "      <td>-2.018692</td>\n",
       "    </tr>\n",
       "    <tr>\n",
       "      <th>2019-08-14</th>\n",
       "      <td>0.847362</td>\n",
       "      <td>0.151481</td>\n",
       "      <td>0.909686</td>\n",
       "      <td>-0.758382</td>\n",
       "    </tr>\n",
       "    <tr>\n",
       "      <th>2019-08-15</th>\n",
       "      <td>0.193525</td>\n",
       "      <td>-1.255557</td>\n",
       "      <td>0.492334</td>\n",
       "      <td>-0.154498</td>\n",
       "    </tr>\n",
       "    <tr>\n",
       "      <th>2019-08-16</th>\n",
       "      <td>0.324603</td>\n",
       "      <td>2.150306</td>\n",
       "      <td>-0.416209</td>\n",
       "      <td>-0.138625</td>\n",
       "    </tr>\n",
       "    <tr>\n",
       "      <th>2019-08-17</th>\n",
       "      <td>-1.257683</td>\n",
       "      <td>0.255674</td>\n",
       "      <td>-0.440915</td>\n",
       "      <td>0.786216</td>\n",
       "    </tr>\n",
       "    <tr>\n",
       "      <th>2019-08-18</th>\n",
       "      <td>0.302113</td>\n",
       "      <td>0.146136</td>\n",
       "      <td>1.595686</td>\n",
       "      <td>-0.848646</td>\n",
       "    </tr>\n",
       "  </tbody>\n",
       "</table>\n",
       "</div>"
      ],
      "text/plain": [
       "                   A         B         C         D\n",
       "2019-08-12 -0.936226  1.673141 -0.889470 -0.821158\n",
       "2019-08-13 -0.612838  0.650474 -0.605232 -2.018692\n",
       "2019-08-14  0.847362  0.151481  0.909686 -0.758382\n",
       "2019-08-15  0.193525 -1.255557  0.492334 -0.154498\n",
       "2019-08-16  0.324603  2.150306 -0.416209 -0.138625\n",
       "2019-08-17 -1.257683  0.255674 -0.440915  0.786216\n",
       "2019-08-18  0.302113  0.146136  1.595686 -0.848646"
      ]
     },
     "execution_count": 21,
     "metadata": {},
     "output_type": "execute_result"
    }
   ],
   "source": [
    "# 슬라이싱 : 차원유지\n",
    "df[:] # 카피동일"
   ]
  },
  {
   "cell_type": "code",
   "execution_count": 51,
   "metadata": {},
   "outputs": [
    {
     "data": {
      "text/html": [
       "<div>\n",
       "<style scoped>\n",
       "    .dataframe tbody tr th:only-of-type {\n",
       "        vertical-align: middle;\n",
       "    }\n",
       "\n",
       "    .dataframe tbody tr th {\n",
       "        vertical-align: top;\n",
       "    }\n",
       "\n",
       "    .dataframe thead th {\n",
       "        text-align: right;\n",
       "    }\n",
       "</style>\n",
       "<table border=\"1\" class=\"dataframe\">\n",
       "  <thead>\n",
       "    <tr style=\"text-align: right;\">\n",
       "      <th></th>\n",
       "      <th>A</th>\n",
       "      <th>B</th>\n",
       "      <th>C</th>\n",
       "      <th>D</th>\n",
       "    </tr>\n",
       "  </thead>\n",
       "  <tbody>\n",
       "    <tr>\n",
       "      <th>2019-08-13</th>\n",
       "      <td>0.127024</td>\n",
       "      <td>-0.396848</td>\n",
       "      <td>-1.135956</td>\n",
       "      <td>-0.018935</td>\n",
       "    </tr>\n",
       "    <tr>\n",
       "      <th>2019-08-14</th>\n",
       "      <td>0.127899</td>\n",
       "      <td>-1.379064</td>\n",
       "      <td>-0.961807</td>\n",
       "      <td>0.431541</td>\n",
       "    </tr>\n",
       "  </tbody>\n",
       "</table>\n",
       "</div>"
      ],
      "text/plain": [
       "                   A         B         C         D\n",
       "2019-08-13  0.127024 -0.396848 -1.135956 -0.018935\n",
       "2019-08-14  0.127899 -1.379064 -0.961807  0.431541"
      ]
     },
     "execution_count": 51,
     "metadata": {},
     "output_type": "execute_result"
    }
   ],
   "source": [
    "# 데이터가 슬라이싱 되서 나온다 => 차원을 유지해야 하니까\n",
    "# a <= x <b\n",
    "df[1:3] "
   ]
  },
  {
   "cell_type": "code",
   "execution_count": 22,
   "metadata": {},
   "outputs": [
    {
     "data": {
      "text/html": [
       "<div>\n",
       "<style scoped>\n",
       "    .dataframe tbody tr th:only-of-type {\n",
       "        vertical-align: middle;\n",
       "    }\n",
       "\n",
       "    .dataframe tbody tr th {\n",
       "        vertical-align: top;\n",
       "    }\n",
       "\n",
       "    .dataframe thead th {\n",
       "        text-align: right;\n",
       "    }\n",
       "</style>\n",
       "<table border=\"1\" class=\"dataframe\">\n",
       "  <thead>\n",
       "    <tr style=\"text-align: right;\">\n",
       "      <th></th>\n",
       "      <th>A</th>\n",
       "      <th>B</th>\n",
       "      <th>C</th>\n",
       "      <th>D</th>\n",
       "    </tr>\n",
       "  </thead>\n",
       "  <tbody>\n",
       "    <tr>\n",
       "      <th>2019-08-13</th>\n",
       "      <td>-0.612838</td>\n",
       "      <td>0.650474</td>\n",
       "      <td>-0.605232</td>\n",
       "      <td>-2.018692</td>\n",
       "    </tr>\n",
       "    <tr>\n",
       "      <th>2019-08-14</th>\n",
       "      <td>0.847362</td>\n",
       "      <td>0.151481</td>\n",
       "      <td>0.909686</td>\n",
       "      <td>-0.758382</td>\n",
       "    </tr>\n",
       "    <tr>\n",
       "      <th>2019-08-15</th>\n",
       "      <td>0.193525</td>\n",
       "      <td>-1.255557</td>\n",
       "      <td>0.492334</td>\n",
       "      <td>-0.154498</td>\n",
       "    </tr>\n",
       "  </tbody>\n",
       "</table>\n",
       "</div>"
      ],
      "text/plain": [
       "                   A         B         C         D\n",
       "2019-08-13 -0.612838  0.650474 -0.605232 -2.018692\n",
       "2019-08-14  0.847362  0.151481  0.909686 -0.758382\n",
       "2019-08-15  0.193525 -1.255557  0.492334 -0.154498"
      ]
     },
     "execution_count": 22,
     "metadata": {},
     "output_type": "execute_result"
    }
   ],
   "source": [
    "# 슬라이싱 >>> 인덱스값이 아닌, 실제값으로 자르기\n",
    "# a <= x <=b\n",
    "df[ '2019-08-13' : '2019-08-15' ]"
   ]
  },
  {
   "cell_type": "markdown",
   "metadata": {},
   "source": [
    "- 전통적인 인덱싱와 슬라이싱을 진행하면 표현의 한계점에 도달\n",
    "- 이를 극복하기 위해서 pandas 만의 데이터 추출법이 추가가 되었다 \n",
    "- loc, iloc <= 2개를 주로 사용한다.\n",
    "- 연속데이터에 대한 추출 <-> 비연속 데이터들의 추출법 (펜시인덱싱, 쿼리수행등등)"
   ]
  },
  {
   "cell_type": "markdown",
   "metadata": {},
   "source": [
    "## loc\n",
    "\n",
    "- loc : location 정보를 옵션으로 슬라이싱을 지원\n",
    "-  loc을 통한 데이터 추출\n",
    "- `df.loc[ 인덱스명 ]`"
   ]
  },
  {
   "cell_type": "code",
   "execution_count": 23,
   "metadata": {},
   "outputs": [
    {
     "data": {
      "text/plain": [
       "(A   -0.936226\n",
       " B    1.673141\n",
       " C   -0.889470\n",
       " D   -0.821158\n",
       " Name: 2019-08-12 00:00:00, dtype: float64,\n",
       " pandas.core.series.Series)"
      ]
     },
     "execution_count": 23,
     "metadata": {},
     "output_type": "execute_result"
    }
   ],
   "source": [
    "df.loc[ '2019-08-12' ], type(df.loc[ '2019-08-12' ])"
   ]
  },
  {
   "cell_type": "code",
   "execution_count": 24,
   "metadata": {},
   "outputs": [
    {
     "data": {
      "text/html": [
       "<div>\n",
       "<style scoped>\n",
       "    .dataframe tbody tr th:only-of-type {\n",
       "        vertical-align: middle;\n",
       "    }\n",
       "\n",
       "    .dataframe tbody tr th {\n",
       "        vertical-align: top;\n",
       "    }\n",
       "\n",
       "    .dataframe thead th {\n",
       "        text-align: right;\n",
       "    }\n",
       "</style>\n",
       "<table border=\"1\" class=\"dataframe\">\n",
       "  <thead>\n",
       "    <tr style=\"text-align: right;\">\n",
       "      <th></th>\n",
       "      <th>A</th>\n",
       "      <th>B</th>\n",
       "      <th>C</th>\n",
       "      <th>D</th>\n",
       "    </tr>\n",
       "  </thead>\n",
       "  <tbody>\n",
       "    <tr>\n",
       "      <th>2019-08-12</th>\n",
       "      <td>-0.936226</td>\n",
       "      <td>1.673141</td>\n",
       "      <td>-0.889470</td>\n",
       "      <td>-0.821158</td>\n",
       "    </tr>\n",
       "    <tr>\n",
       "      <th>2019-08-13</th>\n",
       "      <td>-0.612838</td>\n",
       "      <td>0.650474</td>\n",
       "      <td>-0.605232</td>\n",
       "      <td>-2.018692</td>\n",
       "    </tr>\n",
       "    <tr>\n",
       "      <th>2019-08-14</th>\n",
       "      <td>0.847362</td>\n",
       "      <td>0.151481</td>\n",
       "      <td>0.909686</td>\n",
       "      <td>-0.758382</td>\n",
       "    </tr>\n",
       "    <tr>\n",
       "      <th>2019-08-15</th>\n",
       "      <td>0.193525</td>\n",
       "      <td>-1.255557</td>\n",
       "      <td>0.492334</td>\n",
       "      <td>-0.154498</td>\n",
       "    </tr>\n",
       "    <tr>\n",
       "      <th>2019-08-16</th>\n",
       "      <td>0.324603</td>\n",
       "      <td>2.150306</td>\n",
       "      <td>-0.416209</td>\n",
       "      <td>-0.138625</td>\n",
       "    </tr>\n",
       "    <tr>\n",
       "      <th>2019-08-17</th>\n",
       "      <td>-1.257683</td>\n",
       "      <td>0.255674</td>\n",
       "      <td>-0.440915</td>\n",
       "      <td>0.786216</td>\n",
       "    </tr>\n",
       "    <tr>\n",
       "      <th>2019-08-18</th>\n",
       "      <td>0.302113</td>\n",
       "      <td>0.146136</td>\n",
       "      <td>1.595686</td>\n",
       "      <td>-0.848646</td>\n",
       "    </tr>\n",
       "  </tbody>\n",
       "</table>\n",
       "</div>"
      ],
      "text/plain": [
       "                   A         B         C         D\n",
       "2019-08-12 -0.936226  1.673141 -0.889470 -0.821158\n",
       "2019-08-13 -0.612838  0.650474 -0.605232 -2.018692\n",
       "2019-08-14  0.847362  0.151481  0.909686 -0.758382\n",
       "2019-08-15  0.193525 -1.255557  0.492334 -0.154498\n",
       "2019-08-16  0.324603  2.150306 -0.416209 -0.138625\n",
       "2019-08-17 -1.257683  0.255674 -0.440915  0.786216\n",
       "2019-08-18  0.302113  0.146136  1.595686 -0.848646"
      ]
     },
     "execution_count": 24,
     "metadata": {},
     "output_type": "execute_result"
    }
   ],
   "source": [
    "# 원본카피\n",
    "df.loc[ : ]"
   ]
  },
  {
   "cell_type": "code",
   "execution_count": 25,
   "metadata": {},
   "outputs": [
    {
     "data": {
      "text/html": [
       "<div>\n",
       "<style scoped>\n",
       "    .dataframe tbody tr th:only-of-type {\n",
       "        vertical-align: middle;\n",
       "    }\n",
       "\n",
       "    .dataframe tbody tr th {\n",
       "        vertical-align: top;\n",
       "    }\n",
       "\n",
       "    .dataframe thead th {\n",
       "        text-align: right;\n",
       "    }\n",
       "</style>\n",
       "<table border=\"1\" class=\"dataframe\">\n",
       "  <thead>\n",
       "    <tr style=\"text-align: right;\">\n",
       "      <th></th>\n",
       "      <th>A</th>\n",
       "      <th>C</th>\n",
       "    </tr>\n",
       "  </thead>\n",
       "  <tbody>\n",
       "    <tr>\n",
       "      <th>2019-08-12</th>\n",
       "      <td>-0.936226</td>\n",
       "      <td>-0.889470</td>\n",
       "    </tr>\n",
       "    <tr>\n",
       "      <th>2019-08-13</th>\n",
       "      <td>-0.612838</td>\n",
       "      <td>-0.605232</td>\n",
       "    </tr>\n",
       "    <tr>\n",
       "      <th>2019-08-14</th>\n",
       "      <td>0.847362</td>\n",
       "      <td>0.909686</td>\n",
       "    </tr>\n",
       "    <tr>\n",
       "      <th>2019-08-15</th>\n",
       "      <td>0.193525</td>\n",
       "      <td>0.492334</td>\n",
       "    </tr>\n",
       "    <tr>\n",
       "      <th>2019-08-16</th>\n",
       "      <td>0.324603</td>\n",
       "      <td>-0.416209</td>\n",
       "    </tr>\n",
       "    <tr>\n",
       "      <th>2019-08-17</th>\n",
       "      <td>-1.257683</td>\n",
       "      <td>-0.440915</td>\n",
       "    </tr>\n",
       "    <tr>\n",
       "      <th>2019-08-18</th>\n",
       "      <td>0.302113</td>\n",
       "      <td>1.595686</td>\n",
       "    </tr>\n",
       "  </tbody>\n",
       "</table>\n",
       "</div>"
      ],
      "text/plain": [
       "                   A         C\n",
       "2019-08-12 -0.936226 -0.889470\n",
       "2019-08-13 -0.612838 -0.605232\n",
       "2019-08-14  0.847362  0.909686\n",
       "2019-08-15  0.193525  0.492334\n",
       "2019-08-16  0.324603 -0.416209\n",
       "2019-08-17 -1.257683 -0.440915\n",
       "2019-08-18  0.302113  1.595686"
      ]
     },
     "execution_count": 25,
     "metadata": {},
     "output_type": "execute_result"
    }
   ],
   "source": [
    "# 인덱스쪽은 전부 포함시키고(1차원), 컬럼은 A,C만 포함(2차원)\n",
    "df.loc[ : , ['A','C'] ]"
   ]
  },
  {
   "cell_type": "code",
   "execution_count": null,
   "metadata": {},
   "outputs": [],
   "source": [
    "### 중요 "
   ]
  },
  {
   "cell_type": "code",
   "execution_count": 26,
   "metadata": {},
   "outputs": [
    {
     "data": {
      "text/plain": [
       "2019-08-12   -0.936226\n",
       "2019-08-13   -0.612838\n",
       "2019-08-14    0.847362\n",
       "2019-08-15    0.193525\n",
       "2019-08-16    0.324603\n",
       "2019-08-17   -1.257683\n",
       "2019-08-18    0.302113\n",
       "Freq: D, Name: A, dtype: float64"
      ]
     },
     "execution_count": 26,
     "metadata": {},
     "output_type": "execute_result"
    }
   ],
   "source": [
    "# 차원축소\n",
    "df.loc[ : , 'A' ]"
   ]
  },
  {
   "cell_type": "code",
   "execution_count": 27,
   "metadata": {},
   "outputs": [
    {
     "data": {
      "text/html": [
       "<div>\n",
       "<style scoped>\n",
       "    .dataframe tbody tr th:only-of-type {\n",
       "        vertical-align: middle;\n",
       "    }\n",
       "\n",
       "    .dataframe tbody tr th {\n",
       "        vertical-align: top;\n",
       "    }\n",
       "\n",
       "    .dataframe thead th {\n",
       "        text-align: right;\n",
       "    }\n",
       "</style>\n",
       "<table border=\"1\" class=\"dataframe\">\n",
       "  <thead>\n",
       "    <tr style=\"text-align: right;\">\n",
       "      <th></th>\n",
       "      <th>A</th>\n",
       "    </tr>\n",
       "  </thead>\n",
       "  <tbody>\n",
       "    <tr>\n",
       "      <th>2019-08-12</th>\n",
       "      <td>-0.936226</td>\n",
       "    </tr>\n",
       "    <tr>\n",
       "      <th>2019-08-13</th>\n",
       "      <td>-0.612838</td>\n",
       "    </tr>\n",
       "    <tr>\n",
       "      <th>2019-08-14</th>\n",
       "      <td>0.847362</td>\n",
       "    </tr>\n",
       "    <tr>\n",
       "      <th>2019-08-15</th>\n",
       "      <td>0.193525</td>\n",
       "    </tr>\n",
       "    <tr>\n",
       "      <th>2019-08-16</th>\n",
       "      <td>0.324603</td>\n",
       "    </tr>\n",
       "    <tr>\n",
       "      <th>2019-08-17</th>\n",
       "      <td>-1.257683</td>\n",
       "    </tr>\n",
       "    <tr>\n",
       "      <th>2019-08-18</th>\n",
       "      <td>0.302113</td>\n",
       "    </tr>\n",
       "  </tbody>\n",
       "</table>\n",
       "</div>"
      ],
      "text/plain": [
       "                   A\n",
       "2019-08-12 -0.936226\n",
       "2019-08-13 -0.612838\n",
       "2019-08-14  0.847362\n",
       "2019-08-15  0.193525\n",
       "2019-08-16  0.324603\n",
       "2019-08-17 -1.257683\n",
       "2019-08-18  0.302113"
      ]
     },
     "execution_count": 27,
     "metadata": {},
     "output_type": "execute_result"
    }
   ],
   "source": [
    "# 차원유지 -> 차이는 [] 여부 \n",
    "df.loc[ : , ['A'] ]"
   ]
  },
  {
   "cell_type": "code",
   "execution_count": 28,
   "metadata": {},
   "outputs": [
    {
     "data": {
      "text/html": [
       "<div>\n",
       "<style scoped>\n",
       "    .dataframe tbody tr th:only-of-type {\n",
       "        vertical-align: middle;\n",
       "    }\n",
       "\n",
       "    .dataframe tbody tr th {\n",
       "        vertical-align: top;\n",
       "    }\n",
       "\n",
       "    .dataframe thead th {\n",
       "        text-align: right;\n",
       "    }\n",
       "</style>\n",
       "<table border=\"1\" class=\"dataframe\">\n",
       "  <thead>\n",
       "    <tr style=\"text-align: right;\">\n",
       "      <th></th>\n",
       "      <th>A</th>\n",
       "      <th>C</th>\n",
       "    </tr>\n",
       "  </thead>\n",
       "  <tbody>\n",
       "    <tr>\n",
       "      <th>2019-08-13</th>\n",
       "      <td>-0.612838</td>\n",
       "      <td>-0.605232</td>\n",
       "    </tr>\n",
       "    <tr>\n",
       "      <th>2019-08-14</th>\n",
       "      <td>0.847362</td>\n",
       "      <td>0.909686</td>\n",
       "    </tr>\n",
       "    <tr>\n",
       "      <th>2019-08-15</th>\n",
       "      <td>0.193525</td>\n",
       "      <td>0.492334</td>\n",
       "    </tr>\n",
       "  </tbody>\n",
       "</table>\n",
       "</div>"
      ],
      "text/plain": [
       "                   A         C\n",
       "2019-08-13 -0.612838 -0.605232\n",
       "2019-08-14  0.847362  0.909686\n",
       "2019-08-15  0.193525  0.492334"
      ]
     },
     "execution_count": 28,
     "metadata": {},
     "output_type": "execute_result"
    }
   ],
   "source": [
    "df.loc[ '2019-08-13':'2019-08-15' , ['A','C'] ]"
   ]
  },
  {
   "cell_type": "markdown",
   "metadata": {},
   "source": [
    "### 주의 \n",
    "\n",
    "```py\n",
    "# error\n",
    "df.loc[ ['2019-08-13'] , ['A','C'] ]\n",
    "\n",
    "# error\n",
    "df.loc[ ['2019-08-13':'2019-08-13'] , ['A','C'] ]\n",
    "```"
   ]
  },
  {
   "cell_type": "code",
   "execution_count": 30,
   "metadata": {},
   "outputs": [
    {
     "data": {
      "text/html": [
       "<div>\n",
       "<style scoped>\n",
       "    .dataframe tbody tr th:only-of-type {\n",
       "        vertical-align: middle;\n",
       "    }\n",
       "\n",
       "    .dataframe tbody tr th {\n",
       "        vertical-align: top;\n",
       "    }\n",
       "\n",
       "    .dataframe thead th {\n",
       "        text-align: right;\n",
       "    }\n",
       "</style>\n",
       "<table border=\"1\" class=\"dataframe\">\n",
       "  <thead>\n",
       "    <tr style=\"text-align: right;\">\n",
       "      <th></th>\n",
       "      <th>A</th>\n",
       "      <th>C</th>\n",
       "    </tr>\n",
       "  </thead>\n",
       "  <tbody>\n",
       "    <tr>\n",
       "      <th>2019-08-13</th>\n",
       "      <td>-0.612838</td>\n",
       "      <td>-0.605232</td>\n",
       "    </tr>\n",
       "  </tbody>\n",
       "</table>\n",
       "</div>"
      ],
      "text/plain": [
       "                   A         C\n",
       "2019-08-13 -0.612838 -0.605232"
      ]
     },
     "execution_count": 30,
     "metadata": {},
     "output_type": "execute_result"
    }
   ],
   "source": [
    "df.loc['2019-08-13':'2019-08-13' , ['A','C']]"
   ]
  },
  {
   "cell_type": "code",
   "execution_count": 34,
   "metadata": {},
   "outputs": [
    {
     "data": {
      "text/plain": [
       "A   -0.612838\n",
       "C   -0.605232\n",
       "Name: 2019-08-13 00:00:00, dtype: float64"
      ]
     },
     "execution_count": 34,
     "metadata": {},
     "output_type": "execute_result"
    }
   ],
   "source": [
    "# 차원축소 -> 인덱스를 한개만 지정\n",
    "df.loc['2019-08-13', ['A','C']]"
   ]
  },
  {
   "cell_type": "code",
   "execution_count": 35,
   "metadata": {},
   "outputs": [
    {
     "data": {
      "text/plain": [
       "-0.6128375007630857"
      ]
     },
     "execution_count": 35,
     "metadata": {},
     "output_type": "execute_result"
    }
   ],
   "source": [
    "# 차원축소가 2회 진행 -> 스칼라(값)\n",
    "df.loc['2019-08-13', 'A']"
   ]
  },
  {
   "cell_type": "code",
   "execution_count": null,
   "metadata": {},
   "outputs": [],
   "source": []
  },
  {
   "cell_type": "markdown",
   "metadata": {},
   "source": [
    "## iloc\n",
    "\n",
    "- 펜시인덱싱과 유사하다.\n",
    "- 행과 열의 번호를 이용하여 데이터를 접근하는 방식이다.\n",
    "- i -> index"
   ]
  },
  {
   "cell_type": "code",
   "execution_count": 38,
   "metadata": {},
   "outputs": [
    {
     "data": {
      "text/plain": [
       "A   -0.612838\n",
       "B    0.650474\n",
       "C   -0.605232\n",
       "D   -2.018692\n",
       "Name: 2019-08-13 00:00:00, dtype: float64"
      ]
     },
     "execution_count": 38,
     "metadata": {},
     "output_type": "execute_result"
    }
   ],
   "source": [
    "# 2019-08-13일자 데이터 추출\n",
    "# 1 => 인덱스값이 1인 데이터\n",
    "df.iloc[1]"
   ]
  },
  {
   "cell_type": "code",
   "execution_count": 39,
   "metadata": {},
   "outputs": [
    {
     "data": {
      "text/html": [
       "<div>\n",
       "<style scoped>\n",
       "    .dataframe tbody tr th:only-of-type {\n",
       "        vertical-align: middle;\n",
       "    }\n",
       "\n",
       "    .dataframe tbody tr th {\n",
       "        vertical-align: top;\n",
       "    }\n",
       "\n",
       "    .dataframe thead th {\n",
       "        text-align: right;\n",
       "    }\n",
       "</style>\n",
       "<table border=\"1\" class=\"dataframe\">\n",
       "  <thead>\n",
       "    <tr style=\"text-align: right;\">\n",
       "      <th></th>\n",
       "      <th>B</th>\n",
       "      <th>C</th>\n",
       "    </tr>\n",
       "  </thead>\n",
       "  <tbody>\n",
       "    <tr>\n",
       "      <th>2019-08-13</th>\n",
       "      <td>0.650474</td>\n",
       "      <td>-0.605232</td>\n",
       "    </tr>\n",
       "    <tr>\n",
       "      <th>2019-08-14</th>\n",
       "      <td>0.151481</td>\n",
       "      <td>0.909686</td>\n",
       "    </tr>\n",
       "  </tbody>\n",
       "</table>\n",
       "</div>"
      ],
      "text/plain": [
       "                   B         C\n",
       "2019-08-13  0.650474 -0.605232\n",
       "2019-08-14  0.151481  0.909686"
      ]
     },
     "execution_count": 39,
     "metadata": {},
     "output_type": "execute_result"
    }
   ],
   "source": [
    "# iloc 슬라이싱\n",
    "# a <= index < b, c <= column < d\n",
    "df.iloc[1:3, 1:3]"
   ]
  },
  {
   "cell_type": "code",
   "execution_count": 43,
   "metadata": {},
   "outputs": [
    {
     "data": {
      "text/html": [
       "<div>\n",
       "<style scoped>\n",
       "    .dataframe tbody tr th:only-of-type {\n",
       "        vertical-align: middle;\n",
       "    }\n",
       "\n",
       "    .dataframe tbody tr th {\n",
       "        vertical-align: top;\n",
       "    }\n",
       "\n",
       "    .dataframe thead th {\n",
       "        text-align: right;\n",
       "    }\n",
       "</style>\n",
       "<table border=\"1\" class=\"dataframe\">\n",
       "  <thead>\n",
       "    <tr style=\"text-align: right;\">\n",
       "      <th></th>\n",
       "      <th>A</th>\n",
       "      <th>C</th>\n",
       "    </tr>\n",
       "  </thead>\n",
       "  <tbody>\n",
       "    <tr>\n",
       "      <th>2019-08-13</th>\n",
       "      <td>-0.612838</td>\n",
       "      <td>-0.605232</td>\n",
       "    </tr>\n",
       "    <tr>\n",
       "      <th>2019-08-16</th>\n",
       "      <td>0.324603</td>\n",
       "      <td>-0.416209</td>\n",
       "    </tr>\n",
       "    <tr>\n",
       "      <th>2019-08-14</th>\n",
       "      <td>0.847362</td>\n",
       "      <td>0.909686</td>\n",
       "    </tr>\n",
       "  </tbody>\n",
       "</table>\n",
       "</div>"
      ],
      "text/plain": [
       "                   A         C\n",
       "2019-08-13 -0.612838 -0.605232\n",
       "2019-08-16  0.324603 -0.416209\n",
       "2019-08-14  0.847362  0.909686"
      ]
     },
     "execution_count": 43,
     "metadata": {},
     "output_type": "execute_result"
    }
   ],
   "source": [
    "# iloc + 펜시인덱싱 기법 사용(인덱스, 컬럼을 비연속적 위치를 나열)\n",
    "df.iloc[[1,4,2],[0,2]]"
   ]
  },
  {
   "cell_type": "markdown",
   "metadata": {},
   "source": [
    "- 특정조건에 만족하는 데이터만 추출한다.\n",
    "- 데이터프레임이 생성되면 컬럼명은 멤버변수로 자동생성된다. \n",
    "- C 컬럼에 존재하는 데이터중에 양수만(양수면 True, 0이하면 False)\n",
    "조건을 부여하여 불리언 데이터를 만들어 참만 포함시키는 방식 : 불리언 인덱싱\n",
    "- [ T, F, F, F, T, T, T ] 데이터를 and하면 참만 살아남아서 아래과 같은 결과를 확인 가능하다. \n",
    "- df에 식을 치면 => 전체 구성원에 전부다 연산이 진행된다 \n",
    "- 행렬(연산) 값 => 각 구성원에 일일이 다 연산하는것과 동일"
   ]
  },
  {
   "cell_type": "code",
   "execution_count": 44,
   "metadata": {},
   "outputs": [
    {
     "data": {
      "text/html": [
       "<div>\n",
       "<style scoped>\n",
       "    .dataframe tbody tr th:only-of-type {\n",
       "        vertical-align: middle;\n",
       "    }\n",
       "\n",
       "    .dataframe tbody tr th {\n",
       "        vertical-align: top;\n",
       "    }\n",
       "\n",
       "    .dataframe thead th {\n",
       "        text-align: right;\n",
       "    }\n",
       "</style>\n",
       "<table border=\"1\" class=\"dataframe\">\n",
       "  <thead>\n",
       "    <tr style=\"text-align: right;\">\n",
       "      <th></th>\n",
       "      <th>A</th>\n",
       "      <th>B</th>\n",
       "      <th>C</th>\n",
       "      <th>D</th>\n",
       "    </tr>\n",
       "  </thead>\n",
       "  <tbody>\n",
       "    <tr>\n",
       "      <th>2019-08-14</th>\n",
       "      <td>0.847362</td>\n",
       "      <td>0.151481</td>\n",
       "      <td>0.909686</td>\n",
       "      <td>-0.758382</td>\n",
       "    </tr>\n",
       "    <tr>\n",
       "      <th>2019-08-15</th>\n",
       "      <td>0.193525</td>\n",
       "      <td>-1.255557</td>\n",
       "      <td>0.492334</td>\n",
       "      <td>-0.154498</td>\n",
       "    </tr>\n",
       "    <tr>\n",
       "      <th>2019-08-18</th>\n",
       "      <td>0.302113</td>\n",
       "      <td>0.146136</td>\n",
       "      <td>1.595686</td>\n",
       "      <td>-0.848646</td>\n",
       "    </tr>\n",
       "  </tbody>\n",
       "</table>\n",
       "</div>"
      ],
      "text/plain": [
       "                   A         B         C         D\n",
       "2019-08-14  0.847362  0.151481  0.909686 -0.758382\n",
       "2019-08-15  0.193525 -1.255557  0.492334 -0.154498\n",
       "2019-08-18  0.302113  0.146136  1.595686 -0.848646"
      ]
     },
     "execution_count": 44,
     "metadata": {},
     "output_type": "execute_result"
    }
   ],
   "source": [
    "df[df.C > 0]"
   ]
  },
  {
   "cell_type": "code",
   "execution_count": 45,
   "metadata": {},
   "outputs": [
    {
     "data": {
      "text/html": [
       "<div>\n",
       "<style scoped>\n",
       "    .dataframe tbody tr th:only-of-type {\n",
       "        vertical-align: middle;\n",
       "    }\n",
       "\n",
       "    .dataframe tbody tr th {\n",
       "        vertical-align: top;\n",
       "    }\n",
       "\n",
       "    .dataframe thead th {\n",
       "        text-align: right;\n",
       "    }\n",
       "</style>\n",
       "<table border=\"1\" class=\"dataframe\">\n",
       "  <thead>\n",
       "    <tr style=\"text-align: right;\">\n",
       "      <th></th>\n",
       "      <th>A</th>\n",
       "      <th>B</th>\n",
       "      <th>C</th>\n",
       "      <th>D</th>\n",
       "    </tr>\n",
       "  </thead>\n",
       "  <tbody>\n",
       "    <tr>\n",
       "      <th>2019-08-12</th>\n",
       "      <td>NaN</td>\n",
       "      <td>1.673141</td>\n",
       "      <td>NaN</td>\n",
       "      <td>NaN</td>\n",
       "    </tr>\n",
       "    <tr>\n",
       "      <th>2019-08-13</th>\n",
       "      <td>NaN</td>\n",
       "      <td>0.650474</td>\n",
       "      <td>NaN</td>\n",
       "      <td>NaN</td>\n",
       "    </tr>\n",
       "    <tr>\n",
       "      <th>2019-08-14</th>\n",
       "      <td>0.847362</td>\n",
       "      <td>0.151481</td>\n",
       "      <td>0.909686</td>\n",
       "      <td>NaN</td>\n",
       "    </tr>\n",
       "    <tr>\n",
       "      <th>2019-08-15</th>\n",
       "      <td>0.193525</td>\n",
       "      <td>NaN</td>\n",
       "      <td>0.492334</td>\n",
       "      <td>NaN</td>\n",
       "    </tr>\n",
       "    <tr>\n",
       "      <th>2019-08-16</th>\n",
       "      <td>0.324603</td>\n",
       "      <td>2.150306</td>\n",
       "      <td>NaN</td>\n",
       "      <td>NaN</td>\n",
       "    </tr>\n",
       "    <tr>\n",
       "      <th>2019-08-17</th>\n",
       "      <td>NaN</td>\n",
       "      <td>0.255674</td>\n",
       "      <td>NaN</td>\n",
       "      <td>0.786216</td>\n",
       "    </tr>\n",
       "    <tr>\n",
       "      <th>2019-08-18</th>\n",
       "      <td>0.302113</td>\n",
       "      <td>0.146136</td>\n",
       "      <td>1.595686</td>\n",
       "      <td>NaN</td>\n",
       "    </tr>\n",
       "  </tbody>\n",
       "</table>\n",
       "</div>"
      ],
      "text/plain": [
       "                   A         B         C         D\n",
       "2019-08-12       NaN  1.673141       NaN       NaN\n",
       "2019-08-13       NaN  0.650474       NaN       NaN\n",
       "2019-08-14  0.847362  0.151481  0.909686       NaN\n",
       "2019-08-15  0.193525       NaN  0.492334       NaN\n",
       "2019-08-16  0.324603  2.150306       NaN       NaN\n",
       "2019-08-17       NaN  0.255674       NaN  0.786216\n",
       "2019-08-18  0.302113  0.146136  1.595686       NaN"
      ]
     },
     "execution_count": 45,
     "metadata": {},
     "output_type": "execute_result"
    }
   ],
   "source": [
    "# 데이터 전체를 기준으로 0보다 큰가? 0보다 같거나 작은 데이터들은? NaN 대체\n",
    "df[df > 0 ]"
   ]
  },
  {
   "cell_type": "code",
   "execution_count": 46,
   "metadata": {},
   "outputs": [
    {
     "data": {
      "text/plain": [
       "(                   A         B         C         D\n",
       " 2019-08-12 -0.936226  1.673141 -0.889470 -0.821158\n",
       " 2019-08-13 -0.612838  0.650474 -0.605232 -2.018692\n",
       " 2019-08-14  0.847362  0.151481  0.909686 -0.758382\n",
       " 2019-08-15  0.193525 -1.255557  0.492334 -0.154498\n",
       " 2019-08-16  0.324603  2.150306 -0.416209 -0.138625\n",
       " 2019-08-17 -1.257683  0.255674 -0.440915  0.786216\n",
       " 2019-08-18  0.302113  0.146136  1.595686 -0.848646,\n",
       "                    A         B         C         D\n",
       " 2019-08-12 -0.936226  1.673141 -0.889470 -0.821158\n",
       " 2019-08-13 -0.612838  0.650474 -0.605232 -2.018692\n",
       " 2019-08-14  0.847362  0.151481  0.909686 -0.758382\n",
       " 2019-08-15  0.193525 -1.255557  0.492334 -0.154498\n",
       " 2019-08-16  0.324603  2.150306 -0.416209 -0.138625\n",
       " 2019-08-17 -1.257683  0.255674 -0.440915  0.786216\n",
       " 2019-08-18  0.302113  0.146136  1.595686 -0.848646)"
      ]
     },
     "execution_count": 46,
     "metadata": {},
     "output_type": "execute_result"
    }
   ],
   "source": [
    "# 복사 \n",
    "df.copy(), df[:]"
   ]
  },
  {
   "cell_type": "code",
   "execution_count": 48,
   "metadata": {},
   "outputs": [
    {
     "data": {
      "text/html": [
       "<div>\n",
       "<style scoped>\n",
       "    .dataframe tbody tr th:only-of-type {\n",
       "        vertical-align: middle;\n",
       "    }\n",
       "\n",
       "    .dataframe tbody tr th {\n",
       "        vertical-align: top;\n",
       "    }\n",
       "\n",
       "    .dataframe thead th {\n",
       "        text-align: right;\n",
       "    }\n",
       "</style>\n",
       "<table border=\"1\" class=\"dataframe\">\n",
       "  <thead>\n",
       "    <tr style=\"text-align: right;\">\n",
       "      <th></th>\n",
       "      <th>A</th>\n",
       "      <th>B</th>\n",
       "      <th>C</th>\n",
       "      <th>D</th>\n",
       "      <th>E</th>\n",
       "    </tr>\n",
       "  </thead>\n",
       "  <tbody>\n",
       "    <tr>\n",
       "      <th>2019-08-12</th>\n",
       "      <td>-0.936226</td>\n",
       "      <td>1.673141</td>\n",
       "      <td>-0.889470</td>\n",
       "      <td>-0.821158</td>\n",
       "      <td>one</td>\n",
       "    </tr>\n",
       "    <tr>\n",
       "      <th>2019-08-13</th>\n",
       "      <td>-0.612838</td>\n",
       "      <td>0.650474</td>\n",
       "      <td>-0.605232</td>\n",
       "      <td>-2.018692</td>\n",
       "      <td>one</td>\n",
       "    </tr>\n",
       "  </tbody>\n",
       "</table>\n",
       "</div>"
      ],
      "text/plain": [
       "                   A         B         C         D    E\n",
       "2019-08-12 -0.936226  1.673141 -0.889470 -0.821158  one\n",
       "2019-08-13 -0.612838  0.650474 -0.605232 -2.018692  one"
      ]
     },
     "execution_count": 48,
     "metadata": {},
     "output_type": "execute_result"
    }
   ],
   "source": [
    "# 기존 데이터 df에 새로운 컬럼을 추가한다 !! (아주 중요) => 파생변수\n",
    "# 기존 df의 1차원과 동수의 데이터가 존재해야한다.\n",
    "# 데이터는 리스트 ok, Series도 ok\n",
    "new_data = ['one','one','two','three','four','three','five']\n",
    "df['E'] = new_data # 데이터 추가, 대상[신규컬럼명] = 데이터\n",
    "df.head(2)"
   ]
  },
  {
   "cell_type": "code",
   "execution_count": 70,
   "metadata": {},
   "outputs": [
    {
     "data": {
      "text/plain": [
       "2019-08-12    False\n",
       "2019-08-13    False\n",
       "2019-08-14     True\n",
       "2019-08-15    False\n",
       "2019-08-16     True\n",
       "2019-08-17    False\n",
       "2019-08-18    False\n",
       "Freq: D, Name: E, dtype: bool"
      ]
     },
     "execution_count": 70,
     "metadata": {},
     "output_type": "execute_result"
    }
   ],
   "source": [
    "# 데이터 조사 - 값의 여부 확인 \n",
    "# 안에 그런값이 있는가?  \n",
    "df['E'].isin( ['two','four'])"
   ]
  },
  {
   "cell_type": "code",
   "execution_count": 49,
   "metadata": {},
   "outputs": [
    {
     "data": {
      "text/html": [
       "<div>\n",
       "<style scoped>\n",
       "    .dataframe tbody tr th:only-of-type {\n",
       "        vertical-align: middle;\n",
       "    }\n",
       "\n",
       "    .dataframe tbody tr th {\n",
       "        vertical-align: top;\n",
       "    }\n",
       "\n",
       "    .dataframe thead th {\n",
       "        text-align: right;\n",
       "    }\n",
       "</style>\n",
       "<table border=\"1\" class=\"dataframe\">\n",
       "  <thead>\n",
       "    <tr style=\"text-align: right;\">\n",
       "      <th></th>\n",
       "      <th>A</th>\n",
       "      <th>B</th>\n",
       "      <th>C</th>\n",
       "      <th>D</th>\n",
       "      <th>E</th>\n",
       "    </tr>\n",
       "  </thead>\n",
       "  <tbody>\n",
       "    <tr>\n",
       "      <th>2019-08-14</th>\n",
       "      <td>0.847362</td>\n",
       "      <td>0.151481</td>\n",
       "      <td>0.909686</td>\n",
       "      <td>-0.758382</td>\n",
       "      <td>two</td>\n",
       "    </tr>\n",
       "    <tr>\n",
       "      <th>2019-08-16</th>\n",
       "      <td>0.324603</td>\n",
       "      <td>2.150306</td>\n",
       "      <td>-0.416209</td>\n",
       "      <td>-0.138625</td>\n",
       "      <td>four</td>\n",
       "    </tr>\n",
       "  </tbody>\n",
       "</table>\n",
       "</div>"
      ],
      "text/plain": [
       "                   A         B         C         D     E\n",
       "2019-08-14  0.847362  0.151481  0.909686 -0.758382   two\n",
       "2019-08-16  0.324603  2.150306 -0.416209 -0.138625  four"
      ]
     },
     "execution_count": 49,
     "metadata": {},
     "output_type": "execute_result"
    }
   ],
   "source": [
    "df[df['E'].isin(['two','four'])]"
   ]
  },
  {
   "cell_type": "code",
   "execution_count": 72,
   "metadata": {},
   "outputs": [
    {
     "data": {
      "text/html": [
       "<div>\n",
       "<style scoped>\n",
       "    .dataframe tbody tr th:only-of-type {\n",
       "        vertical-align: middle;\n",
       "    }\n",
       "\n",
       "    .dataframe tbody tr th {\n",
       "        vertical-align: top;\n",
       "    }\n",
       "\n",
       "    .dataframe thead th {\n",
       "        text-align: right;\n",
       "    }\n",
       "</style>\n",
       "<table border=\"1\" class=\"dataframe\">\n",
       "  <thead>\n",
       "    <tr style=\"text-align: right;\">\n",
       "      <th></th>\n",
       "      <th>A</th>\n",
       "      <th>B</th>\n",
       "      <th>C</th>\n",
       "      <th>D</th>\n",
       "      <th>E</th>\n",
       "    </tr>\n",
       "  </thead>\n",
       "  <tbody>\n",
       "    <tr>\n",
       "      <th>2019-08-12</th>\n",
       "      <td>-0.986232</td>\n",
       "      <td>0.210793</td>\n",
       "      <td>0.248451</td>\n",
       "      <td>0.518318</td>\n",
       "      <td>one</td>\n",
       "    </tr>\n",
       "    <tr>\n",
       "      <th>2019-08-13</th>\n",
       "      <td>-0.859208</td>\n",
       "      <td>-0.186055</td>\n",
       "      <td>-0.887505</td>\n",
       "      <td>0.499384</td>\n",
       "      <td>oneone</td>\n",
       "    </tr>\n",
       "    <tr>\n",
       "      <th>2019-08-14</th>\n",
       "      <td>-0.731309</td>\n",
       "      <td>-1.565119</td>\n",
       "      <td>-1.849312</td>\n",
       "      <td>0.930925</td>\n",
       "      <td>oneonetwo</td>\n",
       "    </tr>\n",
       "    <tr>\n",
       "      <th>2019-08-15</th>\n",
       "      <td>-0.477442</td>\n",
       "      <td>-1.713533</td>\n",
       "      <td>-0.749281</td>\n",
       "      <td>2.008455</td>\n",
       "      <td>oneonetwothree</td>\n",
       "    </tr>\n",
       "    <tr>\n",
       "      <th>2019-08-16</th>\n",
       "      <td>-0.880496</td>\n",
       "      <td>-2.989606</td>\n",
       "      <td>-0.362545</td>\n",
       "      <td>1.854163</td>\n",
       "      <td>oneonetwothreefour</td>\n",
       "    </tr>\n",
       "    <tr>\n",
       "      <th>2019-08-17</th>\n",
       "      <td>-1.071790</td>\n",
       "      <td>-3.160967</td>\n",
       "      <td>-0.286361</td>\n",
       "      <td>1.705458</td>\n",
       "      <td>oneonetwothreefourthree</td>\n",
       "    </tr>\n",
       "    <tr>\n",
       "      <th>2019-08-18</th>\n",
       "      <td>-2.132921</td>\n",
       "      <td>-3.240000</td>\n",
       "      <td>0.150089</td>\n",
       "      <td>0.753742</td>\n",
       "      <td>oneonetwothreefourthreefive</td>\n",
       "    </tr>\n",
       "  </tbody>\n",
       "</table>\n",
       "</div>"
      ],
      "text/plain": [
       "                   A         B         C         D  \\\n",
       "2019-08-12 -0.986232  0.210793  0.248451  0.518318   \n",
       "2019-08-13 -0.859208 -0.186055 -0.887505  0.499384   \n",
       "2019-08-14 -0.731309 -1.565119 -1.849312  0.930925   \n",
       "2019-08-15 -0.477442 -1.713533 -0.749281  2.008455   \n",
       "2019-08-16 -0.880496 -2.989606 -0.362545  1.854163   \n",
       "2019-08-17 -1.071790 -3.160967 -0.286361  1.705458   \n",
       "2019-08-18 -2.132921 -3.240000  0.150089  0.753742   \n",
       "\n",
       "                                      E  \n",
       "2019-08-12                          one  \n",
       "2019-08-13                       oneone  \n",
       "2019-08-14                    oneonetwo  \n",
       "2019-08-15               oneonetwothree  \n",
       "2019-08-16           oneonetwothreefour  \n",
       "2019-08-17      oneonetwothreefourthree  \n",
       "2019-08-18  oneonetwothreefourthreefive  "
      ]
     },
     "execution_count": 72,
     "metadata": {},
     "output_type": "execute_result"
    }
   ],
   "source": [
    "# 누적합\n",
    "# apply( 함수를 표현 ) => 멤버들을 다 건드린다.\n",
    "# -> E를 보면 이해가 쉽다 !\n",
    "df.apply(np.cumsum)"
   ]
  },
  {
   "cell_type": "code",
   "execution_count": 50,
   "metadata": {},
   "outputs": [],
   "source": [
    "try:    \n",
    "    # 제거\n",
    "    df.drop(['E'],inplace=True,axis=1)\n",
    "    df\n",
    "except Exception as e:\n",
    "    pass"
   ]
  },
  {
   "cell_type": "code",
   "execution_count": 51,
   "metadata": {},
   "outputs": [
    {
     "data": {
      "text/plain": [
       "A    2.105045\n",
       "B    3.405863\n",
       "C    2.485156\n",
       "D    2.804908\n",
       "dtype: float64"
      ]
     },
     "execution_count": 51,
     "metadata": {},
     "output_type": "execute_result"
    }
   ],
   "source": [
    "# 각 컬럼의 최대값에서 최소값을 뺀 값 => 거리:distance\n",
    "# 람다 함수 이용 \n",
    "df.apply(lambda x:x.max()-x.min())"
   ]
  },
  {
   "cell_type": "code",
   "execution_count": 52,
   "metadata": {},
   "outputs": [
    {
     "data": {
      "text/plain": [
       "(A    0.847362\n",
       " B    2.150306\n",
       " C    1.595686\n",
       " D    0.786216\n",
       " dtype: float64,\n",
       " A   -1.257683\n",
       " B   -1.255557\n",
       " C   -0.889470\n",
       " D   -2.018692\n",
       " dtype: float64)"
      ]
     },
     "execution_count": 52,
     "metadata": {},
     "output_type": "execute_result"
    }
   ],
   "source": [
    "df.max(), df.min()"
   ]
  },
  {
   "cell_type": "code",
   "execution_count": null,
   "metadata": {},
   "outputs": [],
   "source": []
  }
 ],
 "metadata": {
  "kernelspec": {
   "display_name": "Python 3",
   "language": "python",
   "name": "python3"
  },
  "language_info": {
   "codemirror_mode": {
    "name": "ipython",
    "version": 3
   },
   "file_extension": ".py",
   "mimetype": "text/x-python",
   "name": "python",
   "nbconvert_exporter": "python",
   "pygments_lexer": "ipython3",
   "version": "3.7.6"
  }
 },
 "nbformat": 4,
 "nbformat_minor": 2
}
