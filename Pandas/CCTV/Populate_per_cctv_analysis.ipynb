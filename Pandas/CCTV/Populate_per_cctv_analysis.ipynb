{
 "cells": [
  {
   "cell_type": "markdown",
   "metadata": {},
   "source": [
    "### 서울시 구별 cctv 분석 , 구별 인구 대비 분석\n",
    "이름 > seoul_cctv_state.xlsx 로 저장<br>\n",
    "위치 > '../data/seoul_cctv_state.xlsx'\n",
    "\n",
    "### 서울시 인구 통계\n",
    "이름 > report.csv <br>\n",
    "위치 > '../data/report.csv'\n",
    "\n",
    "### ???\n",
    "이름 > Report.csv <br>\n",
    "위치 > '../data/Report.xlsx'\n",
    "위치 > '../data/Report.csv'\n",
    "\n",
    "----\n",
    "+ 개별 데이터 분석 \n",
    "+ 상관성 분석\n",
    "+ pandas 사용법 분석, 시각화 연습 "
   ]
  },
  {
   "cell_type": "code",
   "execution_count": 2,
   "metadata": {},
   "outputs": [],
   "source": [
    "import pandas as pd \n",
    "import numpy as np"
   ]
  },
  {
   "cell_type": "markdown",
   "metadata": {},
   "source": [
    "1. 먼저 모듈을 불러온다 즉, 시작은 import를 먼저 !<br>\n",
    "\n",
    "**Pandas**\n",
    "- import pandas as pd  => as는 as 뒤에 붙는 pd라는 짧은 단어로 대체 (---)\n",
    "- s_cctv.head() = > pandas의 첫 5행만 보여달라 \n",
    "- pandas에서 엑셀(csv) 파일로드\n",
    "- 데이터를 부분 확인후 데이터이 이상여부 간단히 시각적 확인"
   ]
  },
  {
   "cell_type": "code",
   "execution_count": 3,
   "metadata": {},
   "outputs": [
    {
     "data": {
      "text/html": [
       "<div>\n",
       "<style scoped>\n",
       "    .dataframe tbody tr th:only-of-type {\n",
       "        vertical-align: middle;\n",
       "    }\n",
       "\n",
       "    .dataframe tbody tr th {\n",
       "        vertical-align: top;\n",
       "    }\n",
       "\n",
       "    .dataframe thead th {\n",
       "        text-align: right;\n",
       "    }\n",
       "</style>\n",
       "<table border=\"1\" class=\"dataframe\">\n",
       "  <thead>\n",
       "    <tr style=\"text-align: right;\">\n",
       "      <th></th>\n",
       "      <th>기관명</th>\n",
       "      <th>소계</th>\n",
       "      <th>2011년 이전</th>\n",
       "      <th>2012년</th>\n",
       "      <th>2013년</th>\n",
       "      <th>2014년</th>\n",
       "      <th>2015년</th>\n",
       "      <th>2016년</th>\n",
       "      <th>2017년</th>\n",
       "      <th>2018년</th>\n",
       "    </tr>\n",
       "  </thead>\n",
       "  <tbody>\n",
       "    <tr>\n",
       "      <td>0</td>\n",
       "      <td>강 남 구</td>\n",
       "      <td>5221</td>\n",
       "      <td>1944.0</td>\n",
       "      <td>195.0</td>\n",
       "      <td>316.0</td>\n",
       "      <td>430</td>\n",
       "      <td>546</td>\n",
       "      <td>765</td>\n",
       "      <td>577</td>\n",
       "      <td>448</td>\n",
       "    </tr>\n",
       "    <tr>\n",
       "      <td>1</td>\n",
       "      <td>강 동 구</td>\n",
       "      <td>1879</td>\n",
       "      <td>303.0</td>\n",
       "      <td>387.0</td>\n",
       "      <td>134.0</td>\n",
       "      <td>59</td>\n",
       "      <td>144</td>\n",
       "      <td>194</td>\n",
       "      <td>273</td>\n",
       "      <td>385</td>\n",
       "    </tr>\n",
       "    <tr>\n",
       "      <td>2</td>\n",
       "      <td>강 북 구</td>\n",
       "      <td>1265</td>\n",
       "      <td>243.0</td>\n",
       "      <td>88.0</td>\n",
       "      <td>141.0</td>\n",
       "      <td>74</td>\n",
       "      <td>145</td>\n",
       "      <td>254</td>\n",
       "      <td>1</td>\n",
       "      <td>319</td>\n",
       "    </tr>\n",
       "  </tbody>\n",
       "</table>\n",
       "</div>"
      ],
      "text/plain": [
       "     기관명    소계  2011년 이전  2012년  2013년  2014년  2015년  2016년  2017년  2018년\n",
       "0  강 남 구  5221    1944.0  195.0  316.0    430    546    765    577    448\n",
       "1  강 동 구  1879     303.0  387.0  134.0     59    144    194    273    385\n",
       "2  강 북 구  1265     243.0   88.0  141.0     74    145    254      1    319"
      ]
     },
     "execution_count": 3,
     "metadata": {},
     "output_type": "execute_result"
    }
   ],
   "source": [
    "s_cctv= pd.read_excel('../data/seoul_cctv_state.xlsx', encoding='utf-8')\n",
    "# 상위 값 확인 \n",
    "#s_cctv.head() # 상위 5개 \n",
    "s_cctv.head(3) # 상위 3개 "
   ]
  },
  {
   "cell_type": "code",
   "execution_count": 4,
   "metadata": {},
   "outputs": [
    {
     "data": {
      "text/html": [
       "<div>\n",
       "<style scoped>\n",
       "    .dataframe tbody tr th:only-of-type {\n",
       "        vertical-align: middle;\n",
       "    }\n",
       "\n",
       "    .dataframe tbody tr th {\n",
       "        vertical-align: top;\n",
       "    }\n",
       "\n",
       "    .dataframe thead th {\n",
       "        text-align: right;\n",
       "    }\n",
       "</style>\n",
       "<table border=\"1\" class=\"dataframe\">\n",
       "  <thead>\n",
       "    <tr style=\"text-align: right;\">\n",
       "      <th></th>\n",
       "      <th>기관명</th>\n",
       "      <th>소계</th>\n",
       "      <th>2011년 이전</th>\n",
       "      <th>2012년</th>\n",
       "      <th>2013년</th>\n",
       "      <th>2014년</th>\n",
       "      <th>2015년</th>\n",
       "      <th>2016년</th>\n",
       "      <th>2017년</th>\n",
       "      <th>2018년</th>\n",
       "    </tr>\n",
       "  </thead>\n",
       "  <tbody>\n",
       "    <tr>\n",
       "      <td>23</td>\n",
       "      <td>중     구</td>\n",
       "      <td>1544</td>\n",
       "      <td>25.0</td>\n",
       "      <td>165.0</td>\n",
       "      <td>114.0</td>\n",
       "      <td>80</td>\n",
       "      <td>245</td>\n",
       "      <td>270</td>\n",
       "      <td>317</td>\n",
       "      <td>328</td>\n",
       "    </tr>\n",
       "    <tr>\n",
       "      <td>24</td>\n",
       "      <td>중 랑 구</td>\n",
       "      <td>1068</td>\n",
       "      <td>NaN</td>\n",
       "      <td>NaN</td>\n",
       "      <td>NaN</td>\n",
       "      <td>770</td>\n",
       "      <td>102</td>\n",
       "      <td>121</td>\n",
       "      <td>66</td>\n",
       "      <td>9</td>\n",
       "    </tr>\n",
       "  </tbody>\n",
       "</table>\n",
       "</div>"
      ],
      "text/plain": [
       "        기관명    소계  2011년 이전  2012년  2013년  2014년  2015년  2016년  2017년  2018년\n",
       "23  중     구  1544      25.0  165.0  114.0     80    245    270    317    328\n",
       "24    중 랑 구  1068       NaN    NaN    NaN    770    102    121     66      9"
      ]
     },
     "execution_count": 4,
     "metadata": {},
     "output_type": "execute_result"
    }
   ],
   "source": [
    "# 하위값 확인 \n",
    "s_cctv.tail() # 5개 (기본 5개)\n",
    "s_cctv.tail(2) #2개 "
   ]
  },
  {
   "cell_type": "code",
   "execution_count": 5,
   "metadata": {},
   "outputs": [
    {
     "data": {
      "text/plain": [
       "Index(['기관명', '소계', '2011년 이전', '2012년', '2013년', '2014년', '2015년', '2016년',\n",
       "       '2017년', '2018년'],\n",
       "      dtype='object')"
      ]
     },
     "execution_count": 5,
     "metadata": {},
     "output_type": "execute_result"
    }
   ],
   "source": [
    "#전체 확인 \n",
    "#s_cctv\n",
    "# 탐색\n",
    "s_cctv.columns\n",
    "# 열을 보여달라"
   ]
  },
  {
   "cell_type": "code",
   "execution_count": 6,
   "metadata": {},
   "outputs": [
    {
     "data": {
      "text/plain": [
       "'소계'"
      ]
     },
     "execution_count": 6,
     "metadata": {},
     "output_type": "execute_result"
    }
   ],
   "source": [
    "# '소계'라는 컬럼명 확득 \n",
    "s_cctv.columns[1]"
   ]
  },
  {
   "cell_type": "code",
   "execution_count": 7,
   "metadata": {},
   "outputs": [
    {
     "data": {
      "text/html": [
       "<div>\n",
       "<style scoped>\n",
       "    .dataframe tbody tr th:only-of-type {\n",
       "        vertical-align: middle;\n",
       "    }\n",
       "\n",
       "    .dataframe tbody tr th {\n",
       "        vertical-align: top;\n",
       "    }\n",
       "\n",
       "    .dataframe thead th {\n",
       "        text-align: right;\n",
       "    }\n",
       "</style>\n",
       "<table border=\"1\" class=\"dataframe\">\n",
       "  <thead>\n",
       "    <tr style=\"text-align: right;\">\n",
       "      <th></th>\n",
       "      <th>자치구</th>\n",
       "      <th>소계</th>\n",
       "      <th>2011년 이전</th>\n",
       "      <th>2012년</th>\n",
       "      <th>2013년</th>\n",
       "      <th>2014년</th>\n",
       "      <th>2015년</th>\n",
       "      <th>2016년</th>\n",
       "      <th>2017년</th>\n",
       "      <th>2018년</th>\n",
       "    </tr>\n",
       "  </thead>\n",
       "  <tbody>\n",
       "    <tr>\n",
       "      <td>0</td>\n",
       "      <td>강 남 구</td>\n",
       "      <td>5221</td>\n",
       "      <td>1944.0</td>\n",
       "      <td>195.0</td>\n",
       "      <td>316.0</td>\n",
       "      <td>430</td>\n",
       "      <td>546</td>\n",
       "      <td>765</td>\n",
       "      <td>577</td>\n",
       "      <td>448</td>\n",
       "    </tr>\n",
       "    <tr>\n",
       "      <td>1</td>\n",
       "      <td>강 동 구</td>\n",
       "      <td>1879</td>\n",
       "      <td>303.0</td>\n",
       "      <td>387.0</td>\n",
       "      <td>134.0</td>\n",
       "      <td>59</td>\n",
       "      <td>144</td>\n",
       "      <td>194</td>\n",
       "      <td>273</td>\n",
       "      <td>385</td>\n",
       "    </tr>\n",
       "  </tbody>\n",
       "</table>\n",
       "</div>"
      ],
      "text/plain": [
       "     자치구    소계  2011년 이전  2012년  2013년  2014년  2015년  2016년  2017년  2018년\n",
       "0  강 남 구  5221    1944.0  195.0  316.0    430    546    765    577    448\n",
       "1  강 동 구  1879     303.0  387.0  134.0     59    144    194    273    385"
      ]
     },
     "execution_count": 7,
     "metadata": {},
     "output_type": "execute_result"
    }
   ],
   "source": [
    "# 기관명 => 자치구로 명칭을 통일 \n",
    "#    - DataFrame(데이터 프레임)의 컬럼명을 변경 => 의미의 정확성 부여 \n",
    "# inplace_ 파라미터는 원본을 변경할것인가 => Ture면 원본 변경해서 반영까지 \n",
    "# 키 key : 이전 컬럼명, 값 : 신규 컬럼명\n",
    "s_cctv.rename( columns={ s_cctv.columns[0]:'자치구' }, inplace=True )\n",
    "# 확인_ 컬럼명 변경이 반영되었는지 head로 확인 \n",
    "s_cctv.head(2)"
   ]
  },
  {
   "cell_type": "markdown",
   "metadata": {},
   "source": [
    "# 연습 \n",
    "- s_pop 이라는 변수 명으로 report.csv를 데이터 로드 하기 \n",
    "- 데이터가 잘 오픈되지 않아서 일단 Report.**xls**로 다시 받아서 진행 "
   ]
  },
  {
   "cell_type": "code",
   "execution_count": 8,
   "metadata": {
    "scrolled": true
   },
   "outputs": [
    {
     "data": {
      "text/html": [
       "<div>\n",
       "<style scoped>\n",
       "    .dataframe tbody tr th:only-of-type {\n",
       "        vertical-align: middle;\n",
       "    }\n",
       "\n",
       "    .dataframe tbody tr th {\n",
       "        vertical-align: top;\n",
       "    }\n",
       "\n",
       "    .dataframe thead th {\n",
       "        text-align: right;\n",
       "    }\n",
       "</style>\n",
       "<table border=\"1\" class=\"dataframe\">\n",
       "  <thead>\n",
       "    <tr style=\"text-align: right;\">\n",
       "      <th></th>\n",
       "      <th>기간</th>\n",
       "      <th>자치구</th>\n",
       "      <th>세대</th>\n",
       "      <th>인구</th>\n",
       "      <th>인구.1</th>\n",
       "      <th>인구.2</th>\n",
       "      <th>인구.3</th>\n",
       "      <th>인구.4</th>\n",
       "      <th>인구.5</th>\n",
       "      <th>인구.6</th>\n",
       "      <th>인구.7</th>\n",
       "      <th>인구.8</th>\n",
       "      <th>인구밀도</th>\n",
       "      <th>인구밀도.1</th>\n",
       "      <th>세대당인구</th>\n",
       "      <th>65세이상고령자</th>\n",
       "    </tr>\n",
       "  </thead>\n",
       "  <tbody>\n",
       "    <tr>\n",
       "      <td>0</td>\n",
       "      <td>기간</td>\n",
       "      <td>자치구</td>\n",
       "      <td>세대</td>\n",
       "      <td>합계</td>\n",
       "      <td>합계</td>\n",
       "      <td>합계</td>\n",
       "      <td>한국인</td>\n",
       "      <td>한국인</td>\n",
       "      <td>한국인</td>\n",
       "      <td>등록외국인</td>\n",
       "      <td>등록외국인</td>\n",
       "      <td>등록외국인</td>\n",
       "      <td>인구밀도</td>\n",
       "      <td>인구밀도</td>\n",
       "      <td>세대당인구</td>\n",
       "      <td>65세이상고령자</td>\n",
       "    </tr>\n",
       "    <tr>\n",
       "      <td>1</td>\n",
       "      <td>기간</td>\n",
       "      <td>자치구</td>\n",
       "      <td>세대</td>\n",
       "      <td>계</td>\n",
       "      <td>남자</td>\n",
       "      <td>여자</td>\n",
       "      <td>계</td>\n",
       "      <td>남자</td>\n",
       "      <td>여자</td>\n",
       "      <td>계</td>\n",
       "      <td>남자</td>\n",
       "      <td>여자</td>\n",
       "      <td>인구밀도(명/㎢)</td>\n",
       "      <td>면적(㎢)</td>\n",
       "      <td>세대당인구</td>\n",
       "      <td>65세이상고령자</td>\n",
       "    </tr>\n",
       "    <tr>\n",
       "      <td>2</td>\n",
       "      <td>2011</td>\n",
       "      <td>합계</td>\n",
       "      <td>4192752</td>\n",
       "      <td>10528774</td>\n",
       "      <td>5208492</td>\n",
       "      <td>5320282</td>\n",
       "      <td>10249679</td>\n",
       "      <td>5073899</td>\n",
       "      <td>5175780</td>\n",
       "      <td>279095</td>\n",
       "      <td>134593</td>\n",
       "      <td>144502</td>\n",
       "      <td>17397</td>\n",
       "      <td>605.2</td>\n",
       "      <td>2.4</td>\n",
       "      <td>1049425</td>\n",
       "    </tr>\n",
       "    <tr>\n",
       "      <td>3</td>\n",
       "      <td>2011</td>\n",
       "      <td>종로구</td>\n",
       "      <td>76688</td>\n",
       "      <td>177419</td>\n",
       "      <td>88107</td>\n",
       "      <td>89312</td>\n",
       "      <td>168382</td>\n",
       "      <td>83931</td>\n",
       "      <td>84451</td>\n",
       "      <td>9037</td>\n",
       "      <td>4176</td>\n",
       "      <td>4861</td>\n",
       "      <td>7421</td>\n",
       "      <td>23.9</td>\n",
       "      <td>2.2</td>\n",
       "      <td>22939</td>\n",
       "    </tr>\n",
       "    <tr>\n",
       "      <td>4</td>\n",
       "      <td>2011</td>\n",
       "      <td>중구</td>\n",
       "      <td>61475</td>\n",
       "      <td>141567</td>\n",
       "      <td>71137</td>\n",
       "      <td>70430</td>\n",
       "      <td>133193</td>\n",
       "      <td>67065</td>\n",
       "      <td>66128</td>\n",
       "      <td>8374</td>\n",
       "      <td>4072</td>\n",
       "      <td>4302</td>\n",
       "      <td>14212</td>\n",
       "      <td>10</td>\n",
       "      <td>2.2</td>\n",
       "      <td>18099</td>\n",
       "    </tr>\n",
       "  </tbody>\n",
       "</table>\n",
       "</div>"
      ],
      "text/plain": [
       "     기간  자치구       세대        인구     인구.1     인구.2      인구.3     인구.4     인구.5  \\\n",
       "0    기간  자치구       세대        합계       합계       합계       한국인      한국인      한국인   \n",
       "1    기간  자치구       세대         계       남자       여자         계       남자       여자   \n",
       "2  2011   합계  4192752  10528774  5208492  5320282  10249679  5073899  5175780   \n",
       "3  2011  종로구    76688    177419    88107    89312    168382    83931    84451   \n",
       "4  2011   중구    61475    141567    71137    70430    133193    67065    66128   \n",
       "\n",
       "     인구.6    인구.7    인구.8       인구밀도 인구밀도.1  세대당인구  65세이상고령자  \n",
       "0   등록외국인   등록외국인   등록외국인       인구밀도   인구밀도  세대당인구  65세이상고령자  \n",
       "1       계      남자      여자  인구밀도(명/㎢)  면적(㎢)  세대당인구  65세이상고령자  \n",
       "2  279095  134593  144502      17397  605.2    2.4   1049425  \n",
       "3    9037    4176    4861       7421   23.9    2.2     22939  \n",
       "4    8374    4072    4302      14212     10    2.2     18099  "
      ]
     },
     "execution_count": 8,
     "metadata": {},
     "output_type": "execute_result"
    }
   ],
   "source": [
    "#인구현황 \n",
    "s_pop = pd.read_excel('../data/Report.xls', encoding='utf-8')\n",
    "# euc-kr => 한글을 2byte로 변환하는 방법 \n",
    "s_pop.head()"
   ]
  },
  {
   "cell_type": "code",
   "execution_count": 9,
   "metadata": {},
   "outputs": [
    {
     "data": {
      "text/html": [
       "<div>\n",
       "<style scoped>\n",
       "    .dataframe tbody tr th:only-of-type {\n",
       "        vertical-align: middle;\n",
       "    }\n",
       "\n",
       "    .dataframe tbody tr th {\n",
       "        vertical-align: top;\n",
       "    }\n",
       "\n",
       "    .dataframe thead th {\n",
       "        text-align: right;\n",
       "    }\n",
       "</style>\n",
       "<table border=\"1\" class=\"dataframe\">\n",
       "  <thead>\n",
       "    <tr style=\"text-align: right;\">\n",
       "      <th></th>\n",
       "      <th>기간</th>\n",
       "      <th>자치구</th>\n",
       "      <th>계</th>\n",
       "      <th>계.1</th>\n",
       "      <th>계.2</th>\n",
       "      <th>65세이상고령자</th>\n",
       "    </tr>\n",
       "  </thead>\n",
       "  <tbody>\n",
       "    <tr>\n",
       "      <td>0</td>\n",
       "      <td>2011</td>\n",
       "      <td>합계</td>\n",
       "      <td>10528774</td>\n",
       "      <td>10249679</td>\n",
       "      <td>279095</td>\n",
       "      <td>1049425</td>\n",
       "    </tr>\n",
       "    <tr>\n",
       "      <td>1</td>\n",
       "      <td>2011</td>\n",
       "      <td>종로구</td>\n",
       "      <td>177419</td>\n",
       "      <td>168382</td>\n",
       "      <td>9037</td>\n",
       "      <td>22939</td>\n",
       "    </tr>\n",
       "  </tbody>\n",
       "</table>\n",
       "</div>"
      ],
      "text/plain": [
       "     기간  자치구         계       계.1     계.2  65세이상고령자\n",
       "0  2011   합계  10528774  10249679  279095   1049425\n",
       "1  2011  종로구    177419    168382    9037     22939"
      ]
     },
     "execution_count": 9,
     "metadata": {},
     "output_type": "execute_result"
    }
   ],
   "source": [
    "s_pop = pd.read_excel('../data/Report.xls', \n",
    "                      header  = 2,\n",
    "                      usecols ='A,B,D,G,J,P', # 엑셀 컬럼순서 \n",
    "                      encoding='utf-8')\n",
    "# 데이터를 보니 컬럼쪽이 2개가 더 많이 나타남 \n",
    "# 헤더를 2번으로 지정하여 개수를 줄일것 \n",
    "# 필요없는 데이터는 로드 단계에서 걸러 내자  => 사전데이터르 보고 판단.\n",
    "s_pop.head(2)"
   ]
  },
  {
   "cell_type": "markdown",
   "metadata": {},
   "source": [
    "### 컬럼명을 의미 있게 조정 \n",
    "-  계 ~ .... 고령자 수 = > 인구수, 한국인 , 외국인 , 고령자\n",
    "\n",
    "\n",
    "**1번 방법**\n",
    "\n",
    "    '''\n",
    "\n",
    "    s_cctv.rename( columns={ s_pop.columns[0]:'자치구' \n",
    "                         s_pop.columns[1]:'인구수',\n",
    "                         s_pop.columns[2]:'한국인',\n",
    "                         s_pop.columns[3]:'외국인',\n",
    "                         s_pop.columns[4]:'고령자'\n",
    "                       }, inplace=True )\n",
    "    '''\n",
    "\n",
    "**2번 방법**\n",
    "\n",
    "    '''\n",
    "    dic = {\n",
    "            s_pop.columns[0]:'자치구' \n",
    "            s_pop.columns[1]:'인구수',\n",
    "            s_pop.columns[2]:'한국인',\n",
    "            s_pop.columns[3]:'외국인',\n",
    "            s_pop.columns[4]:'고령자'\n",
    "    }\n",
    "    s_pop.rename( columns=dic,inplace=True )\n",
    "    s_pop.head(2)\n",
    "\n",
    "    '''"
   ]
  },
  {
   "cell_type": "code",
   "execution_count": 10,
   "metadata": {},
   "outputs": [
    {
     "data": {
      "text/html": [
       "<div>\n",
       "<style scoped>\n",
       "    .dataframe tbody tr th:only-of-type {\n",
       "        vertical-align: middle;\n",
       "    }\n",
       "\n",
       "    .dataframe tbody tr th {\n",
       "        vertical-align: top;\n",
       "    }\n",
       "\n",
       "    .dataframe thead th {\n",
       "        text-align: right;\n",
       "    }\n",
       "</style>\n",
       "<table border=\"1\" class=\"dataframe\">\n",
       "  <thead>\n",
       "    <tr style=\"text-align: right;\">\n",
       "      <th></th>\n",
       "      <th>기간</th>\n",
       "      <th>자치구</th>\n",
       "      <th>인구수</th>\n",
       "      <th>한국인</th>\n",
       "      <th>외국인</th>\n",
       "      <th>고령자</th>\n",
       "    </tr>\n",
       "  </thead>\n",
       "  <tbody>\n",
       "    <tr>\n",
       "      <td>0</td>\n",
       "      <td>2011</td>\n",
       "      <td>합계</td>\n",
       "      <td>10528774</td>\n",
       "      <td>10249679</td>\n",
       "      <td>279095</td>\n",
       "      <td>1049425</td>\n",
       "    </tr>\n",
       "    <tr>\n",
       "      <td>1</td>\n",
       "      <td>2011</td>\n",
       "      <td>종로구</td>\n",
       "      <td>177419</td>\n",
       "      <td>168382</td>\n",
       "      <td>9037</td>\n",
       "      <td>22939</td>\n",
       "    </tr>\n",
       "  </tbody>\n",
       "</table>\n",
       "</div>"
      ],
      "text/plain": [
       "     기간  자치구       인구수       한국인     외국인      고령자\n",
       "0  2011   합계  10528774  10249679  279095  1049425\n",
       "1  2011  종로구    177419    168382    9037    22939"
      ]
     },
     "execution_count": 10,
     "metadata": {},
     "output_type": "execute_result"
    }
   ],
   "source": [
    "dic = {\n",
    "        s_pop.columns[1]:'자치구',\n",
    "        s_pop.columns[2]:'인구수',\n",
    "        s_pop.columns[3]:'한국인',\n",
    "        s_pop.columns[4]:'외국인',\n",
    "        s_pop.columns[5]:'고령자'\n",
    "}\n",
    "s_pop.rename( columns=dic,inplace=True )\n",
    "s_pop.head(2)"
   ]
  },
  {
   "cell_type": "markdown",
   "metadata": {},
   "source": [
    "## pandas 기초 \n",
    "\n",
    "<a href='http://localhost:8888/notebooks/Desktop/projects/analysis/pandas/basic/pandas_%EA%B8%B0%EC%B4%88.ipynb'>이동하기</a>"
   ]
  },
  {
   "cell_type": "markdown",
   "metadata": {},
   "source": [
    "## 데이터 특성파악"
   ]
  },
  {
   "cell_type": "code",
   "execution_count": 11,
   "metadata": {},
   "outputs": [
    {
     "data": {
      "text/html": [
       "<div>\n",
       "<style scoped>\n",
       "    .dataframe tbody tr th:only-of-type {\n",
       "        vertical-align: middle;\n",
       "    }\n",
       "\n",
       "    .dataframe tbody tr th {\n",
       "        vertical-align: top;\n",
       "    }\n",
       "\n",
       "    .dataframe thead th {\n",
       "        text-align: right;\n",
       "    }\n",
       "</style>\n",
       "<table border=\"1\" class=\"dataframe\">\n",
       "  <thead>\n",
       "    <tr style=\"text-align: right;\">\n",
       "      <th></th>\n",
       "      <th>자치구</th>\n",
       "      <th>소계</th>\n",
       "      <th>2011년 이전</th>\n",
       "      <th>2012년</th>\n",
       "      <th>2013년</th>\n",
       "      <th>2014년</th>\n",
       "      <th>2015년</th>\n",
       "      <th>2016년</th>\n",
       "      <th>2017년</th>\n",
       "      <th>2018년</th>\n",
       "    </tr>\n",
       "  </thead>\n",
       "  <tbody>\n",
       "    <tr>\n",
       "      <td>0</td>\n",
       "      <td>강 남 구</td>\n",
       "      <td>5221</td>\n",
       "      <td>1944.0</td>\n",
       "      <td>195.0</td>\n",
       "      <td>316.0</td>\n",
       "      <td>430</td>\n",
       "      <td>546</td>\n",
       "      <td>765</td>\n",
       "      <td>577</td>\n",
       "      <td>448</td>\n",
       "    </tr>\n",
       "    <tr>\n",
       "      <td>1</td>\n",
       "      <td>강 동 구</td>\n",
       "      <td>1879</td>\n",
       "      <td>303.0</td>\n",
       "      <td>387.0</td>\n",
       "      <td>134.0</td>\n",
       "      <td>59</td>\n",
       "      <td>144</td>\n",
       "      <td>194</td>\n",
       "      <td>273</td>\n",
       "      <td>385</td>\n",
       "    </tr>\n",
       "    <tr>\n",
       "      <td>2</td>\n",
       "      <td>강 북 구</td>\n",
       "      <td>1265</td>\n",
       "      <td>243.0</td>\n",
       "      <td>88.0</td>\n",
       "      <td>141.0</td>\n",
       "      <td>74</td>\n",
       "      <td>145</td>\n",
       "      <td>254</td>\n",
       "      <td>1</td>\n",
       "      <td>319</td>\n",
       "    </tr>\n",
       "  </tbody>\n",
       "</table>\n",
       "</div>"
      ],
      "text/plain": [
       "     자치구    소계  2011년 이전  2012년  2013년  2014년  2015년  2016년  2017년  2018년\n",
       "0  강 남 구  5221    1944.0  195.0  316.0    430    546    765    577    448\n",
       "1  강 동 구  1879     303.0  387.0  134.0     59    144    194    273    385\n",
       "2  강 북 구  1265     243.0   88.0  141.0     74    145    254      1    319"
      ]
     },
     "execution_count": 11,
     "metadata": {},
     "output_type": "execute_result"
    }
   ],
   "source": [
    "s_cctv.head(3)"
   ]
  },
  {
   "cell_type": "code",
   "execution_count": 12,
   "metadata": {},
   "outputs": [
    {
     "data": {
      "text/html": [
       "<div>\n",
       "<style scoped>\n",
       "    .dataframe tbody tr th:only-of-type {\n",
       "        vertical-align: middle;\n",
       "    }\n",
       "\n",
       "    .dataframe tbody tr th {\n",
       "        vertical-align: top;\n",
       "    }\n",
       "\n",
       "    .dataframe thead th {\n",
       "        text-align: right;\n",
       "    }\n",
       "</style>\n",
       "<table border=\"1\" class=\"dataframe\">\n",
       "  <thead>\n",
       "    <tr style=\"text-align: right;\">\n",
       "      <th></th>\n",
       "      <th>자치구</th>\n",
       "      <th>소계</th>\n",
       "      <th>2011년 이전</th>\n",
       "      <th>2012년</th>\n",
       "      <th>2013년</th>\n",
       "      <th>2014년</th>\n",
       "      <th>2015년</th>\n",
       "      <th>2016년</th>\n",
       "      <th>2017년</th>\n",
       "      <th>2018년</th>\n",
       "    </tr>\n",
       "  </thead>\n",
       "  <tbody>\n",
       "    <tr>\n",
       "      <td>0</td>\n",
       "      <td>강 남 구</td>\n",
       "      <td>5221</td>\n",
       "      <td>1944.0</td>\n",
       "      <td>195.0</td>\n",
       "      <td>316.0</td>\n",
       "      <td>430</td>\n",
       "      <td>546</td>\n",
       "      <td>765</td>\n",
       "      <td>577</td>\n",
       "      <td>448</td>\n",
       "    </tr>\n",
       "    <tr>\n",
       "      <td>4</td>\n",
       "      <td>관 악 구</td>\n",
       "      <td>3985</td>\n",
       "      <td>430.0</td>\n",
       "      <td>56.0</td>\n",
       "      <td>419.0</td>\n",
       "      <td>487</td>\n",
       "      <td>609</td>\n",
       "      <td>619</td>\n",
       "      <td>694</td>\n",
       "      <td>671</td>\n",
       "    </tr>\n",
       "    <tr>\n",
       "      <td>6</td>\n",
       "      <td>구 로 구</td>\n",
       "      <td>3227</td>\n",
       "      <td>852.0</td>\n",
       "      <td>219.0</td>\n",
       "      <td>349.0</td>\n",
       "      <td>187</td>\n",
       "      <td>268</td>\n",
       "      <td>326</td>\n",
       "      <td>540</td>\n",
       "      <td>486</td>\n",
       "    </tr>\n",
       "  </tbody>\n",
       "</table>\n",
       "</div>"
      ],
      "text/plain": [
       "     자치구    소계  2011년 이전  2012년  2013년  2014년  2015년  2016년  2017년  2018년\n",
       "0  강 남 구  5221    1944.0  195.0  316.0    430    546    765    577    448\n",
       "4  관 악 구  3985     430.0   56.0  419.0    487    609    619    694    671\n",
       "6  구 로 구  3227     852.0  219.0  349.0    187    268    326    540    486"
      ]
     },
     "execution_count": 12,
     "metadata": {},
     "output_type": "execute_result"
    }
   ],
   "source": [
    "# 소계 칼럼을 중심으로 오른차순 정렬\n",
    "s_cctv.sort_values( by='소계', ascending=False ).head(3)"
   ]
  },
  {
   "cell_type": "code",
   "execution_count": 13,
   "metadata": {},
   "outputs": [
    {
     "data": {
      "text/html": [
       "<div>\n",
       "<style scoped>\n",
       "    .dataframe tbody tr th:only-of-type {\n",
       "        vertical-align: middle;\n",
       "    }\n",
       "\n",
       "    .dataframe tbody tr th {\n",
       "        vertical-align: top;\n",
       "    }\n",
       "\n",
       "    .dataframe thead th {\n",
       "        text-align: right;\n",
       "    }\n",
       "</style>\n",
       "<table border=\"1\" class=\"dataframe\">\n",
       "  <thead>\n",
       "    <tr style=\"text-align: right;\">\n",
       "      <th></th>\n",
       "      <th>자치구</th>\n",
       "      <th>소계</th>\n",
       "      <th>2011년 이전</th>\n",
       "      <th>2012년</th>\n",
       "      <th>2013년</th>\n",
       "      <th>2014년</th>\n",
       "      <th>2015년</th>\n",
       "      <th>2016년</th>\n",
       "      <th>2017년</th>\n",
       "      <th>2018년</th>\n",
       "    </tr>\n",
       "  </thead>\n",
       "  <tbody>\n",
       "    <tr>\n",
       "      <td>9</td>\n",
       "      <td>도 봉 구</td>\n",
       "      <td>858</td>\n",
       "      <td>197.0</td>\n",
       "      <td>66.0</td>\n",
       "      <td>8.0</td>\n",
       "      <td>185</td>\n",
       "      <td>59</td>\n",
       "      <td>155</td>\n",
       "      <td>117</td>\n",
       "      <td>71</td>\n",
       "    </tr>\n",
       "    <tr>\n",
       "      <td>24</td>\n",
       "      <td>중 랑 구</td>\n",
       "      <td>1068</td>\n",
       "      <td>NaN</td>\n",
       "      <td>NaN</td>\n",
       "      <td>NaN</td>\n",
       "      <td>770</td>\n",
       "      <td>102</td>\n",
       "      <td>121</td>\n",
       "      <td>66</td>\n",
       "      <td>9</td>\n",
       "    </tr>\n",
       "    <tr>\n",
       "      <td>2</td>\n",
       "      <td>강 북 구</td>\n",
       "      <td>1265</td>\n",
       "      <td>243.0</td>\n",
       "      <td>88.0</td>\n",
       "      <td>141.0</td>\n",
       "      <td>74</td>\n",
       "      <td>145</td>\n",
       "      <td>254</td>\n",
       "      <td>1</td>\n",
       "      <td>319</td>\n",
       "    </tr>\n",
       "  </tbody>\n",
       "</table>\n",
       "</div>"
      ],
      "text/plain": [
       "      자치구    소계  2011년 이전  2012년  2013년  2014년  2015년  2016년  2017년  2018년\n",
       "9   도 봉 구   858     197.0   66.0    8.0    185     59    155    117     71\n",
       "24  중 랑 구  1068       NaN    NaN    NaN    770    102    121     66      9\n",
       "2   강 북 구  1265     243.0   88.0  141.0     74    145    254      1    319"
      ]
     },
     "execution_count": 13,
     "metadata": {},
     "output_type": "execute_result"
    }
   ],
   "source": [
    "s_cctv.sort_values( by='소계', ascending=True ).head(3)\n",
    "#cctv 전체 개수인 소계로 정렬 "
   ]
  },
  {
   "cell_type": "code",
   "execution_count": 14,
   "metadata": {},
   "outputs": [
    {
     "data": {
      "text/html": [
       "<div>\n",
       "<style scoped>\n",
       "    .dataframe tbody tr th:only-of-type {\n",
       "        vertical-align: middle;\n",
       "    }\n",
       "\n",
       "    .dataframe tbody tr th {\n",
       "        vertical-align: top;\n",
       "    }\n",
       "\n",
       "    .dataframe thead th {\n",
       "        text-align: right;\n",
       "    }\n",
       "</style>\n",
       "<table border=\"1\" class=\"dataframe\">\n",
       "  <thead>\n",
       "    <tr style=\"text-align: right;\">\n",
       "      <th></th>\n",
       "      <th>자치구</th>\n",
       "      <th>소계</th>\n",
       "      <th>2011년 이전</th>\n",
       "      <th>2012년</th>\n",
       "      <th>2013년</th>\n",
       "      <th>2014년</th>\n",
       "      <th>2015년</th>\n",
       "      <th>2016년</th>\n",
       "      <th>2017년</th>\n",
       "      <th>2018년</th>\n",
       "    </tr>\n",
       "  </thead>\n",
       "  <tbody>\n",
       "    <tr>\n",
       "      <td>6</td>\n",
       "      <td>구 로 구</td>\n",
       "      <td>3227</td>\n",
       "      <td>852.0</td>\n",
       "      <td>219.0</td>\n",
       "      <td>349.0</td>\n",
       "      <td>187</td>\n",
       "      <td>268</td>\n",
       "      <td>326</td>\n",
       "      <td>540</td>\n",
       "      <td>486</td>\n",
       "    </tr>\n",
       "    <tr>\n",
       "      <td>4</td>\n",
       "      <td>관 악 구</td>\n",
       "      <td>3985</td>\n",
       "      <td>430.0</td>\n",
       "      <td>56.0</td>\n",
       "      <td>419.0</td>\n",
       "      <td>487</td>\n",
       "      <td>609</td>\n",
       "      <td>619</td>\n",
       "      <td>694</td>\n",
       "      <td>671</td>\n",
       "    </tr>\n",
       "    <tr>\n",
       "      <td>0</td>\n",
       "      <td>강 남 구</td>\n",
       "      <td>5221</td>\n",
       "      <td>1944.0</td>\n",
       "      <td>195.0</td>\n",
       "      <td>316.0</td>\n",
       "      <td>430</td>\n",
       "      <td>546</td>\n",
       "      <td>765</td>\n",
       "      <td>577</td>\n",
       "      <td>448</td>\n",
       "    </tr>\n",
       "  </tbody>\n",
       "</table>\n",
       "</div>"
      ],
      "text/plain": [
       "     자치구    소계  2011년 이전  2012년  2013년  2014년  2015년  2016년  2017년  2018년\n",
       "6  구 로 구  3227     852.0  219.0  349.0    187    268    326    540    486\n",
       "4  관 악 구  3985     430.0   56.0  419.0    487    609    619    694    671\n",
       "0  강 남 구  5221    1944.0  195.0  316.0    430    546    765    577    448"
      ]
     },
     "execution_count": 14,
     "metadata": {},
     "output_type": "execute_result"
    }
   ],
   "source": [
    "# 소계 칼럼을 중심으로 내림차순 정렬\n",
    "s_cctv.sort_values( by='소계', ascending=True ).tail(3)"
   ]
  },
  {
   "cell_type": "markdown",
   "metadata": {},
   "source": [
    "- 강남구, 구로구 지역은 상업지구가 많아서, 관악구나 성북구는 산을 타고 빌라촌이 많다\n",
    "- 이런 지역에는 인구 밀도가 비교적 높아서(예상) 혹은 유동인구가 많아서 CCTV가 많지 않나 예상이 된다\n",
    "- 도봉구, 중랑구, 강북구등은 주거지가 많아서 적어 보이고, 종로구는 보류\n",
    "- 2011년도이전 대비, 향수 7년간 증가율 계산\n",
    "- 7년간증가율 = (2012+2013+2014+...+2018)/2011년 * 100"
   ]
  },
  {
   "cell_type": "code",
   "execution_count": 15,
   "metadata": {},
   "outputs": [
    {
     "data": {
      "text/plain": [
       "0     3277.0\n",
       "1     1576.0\n",
       "2     1022.0\n",
       "3     1398.0\n",
       "4     3555.0\n",
       "5     1111.0\n",
       "6     2375.0\n",
       "7     1607.0\n",
       "8     1425.0\n",
       "9      661.0\n",
       "10       NaN\n",
       "11    1542.0\n",
       "12    1350.0\n",
       "13    1556.0\n",
       "14    1663.0\n",
       "15    2014.0\n",
       "16    2224.0\n",
       "17     986.0\n",
       "18    2003.0\n",
       "19    2363.0\n",
       "20     784.0\n",
       "21    1597.0\n",
       "22    1463.0\n",
       "23    1519.0\n",
       "24       NaN\n",
       "dtype: float64"
      ]
     },
     "execution_count": 15,
     "metadata": {},
     "output_type": "execute_result"
    }
   ],
   "source": [
    "# 증가률 계산 \n",
    "tmp_sum = s_cctv['2012년'] + s_cctv['2013년'] + s_cctv['2014년'] + s_cctv['2015년'] + s_cctv['2016년'] + s_cctv['2017년'] + s_cctv['2018년']\n",
    "tmp_sum"
   ]
  },
  {
   "cell_type": "code",
   "execution_count": 16,
   "metadata": {},
   "outputs": [
    {
     "data": {
      "text/html": [
       "<div>\n",
       "<style scoped>\n",
       "    .dataframe tbody tr th:only-of-type {\n",
       "        vertical-align: middle;\n",
       "    }\n",
       "\n",
       "    .dataframe tbody tr th {\n",
       "        vertical-align: top;\n",
       "    }\n",
       "\n",
       "    .dataframe thead th {\n",
       "        text-align: right;\n",
       "    }\n",
       "</style>\n",
       "<table border=\"1\" class=\"dataframe\">\n",
       "  <thead>\n",
       "    <tr style=\"text-align: right;\">\n",
       "      <th></th>\n",
       "      <th>자치구</th>\n",
       "      <th>소계</th>\n",
       "      <th>2011년 이전</th>\n",
       "      <th>2012년</th>\n",
       "      <th>2013년</th>\n",
       "      <th>2014년</th>\n",
       "      <th>2015년</th>\n",
       "      <th>2016년</th>\n",
       "      <th>2017년</th>\n",
       "      <th>2018년</th>\n",
       "      <th>최신증가율</th>\n",
       "    </tr>\n",
       "  </thead>\n",
       "  <tbody>\n",
       "    <tr>\n",
       "      <td>0</td>\n",
       "      <td>강 남 구</td>\n",
       "      <td>5221</td>\n",
       "      <td>1944.0</td>\n",
       "      <td>195.0</td>\n",
       "      <td>316.0</td>\n",
       "      <td>430</td>\n",
       "      <td>546</td>\n",
       "      <td>765</td>\n",
       "      <td>577</td>\n",
       "      <td>448</td>\n",
       "      <td>168.569959</td>\n",
       "    </tr>\n",
       "    <tr>\n",
       "      <td>1</td>\n",
       "      <td>강 동 구</td>\n",
       "      <td>1879</td>\n",
       "      <td>303.0</td>\n",
       "      <td>387.0</td>\n",
       "      <td>134.0</td>\n",
       "      <td>59</td>\n",
       "      <td>144</td>\n",
       "      <td>194</td>\n",
       "      <td>273</td>\n",
       "      <td>385</td>\n",
       "      <td>520.132013</td>\n",
       "    </tr>\n",
       "    <tr>\n",
       "      <td>2</td>\n",
       "      <td>강 북 구</td>\n",
       "      <td>1265</td>\n",
       "      <td>243.0</td>\n",
       "      <td>88.0</td>\n",
       "      <td>141.0</td>\n",
       "      <td>74</td>\n",
       "      <td>145</td>\n",
       "      <td>254</td>\n",
       "      <td>1</td>\n",
       "      <td>319</td>\n",
       "      <td>420.576132</td>\n",
       "    </tr>\n",
       "    <tr>\n",
       "      <td>3</td>\n",
       "      <td>강 서 구</td>\n",
       "      <td>1617</td>\n",
       "      <td>219.0</td>\n",
       "      <td>155.0</td>\n",
       "      <td>118.0</td>\n",
       "      <td>230</td>\n",
       "      <td>187</td>\n",
       "      <td>190</td>\n",
       "      <td>264</td>\n",
       "      <td>254</td>\n",
       "      <td>638.356164</td>\n",
       "    </tr>\n",
       "    <tr>\n",
       "      <td>4</td>\n",
       "      <td>관 악 구</td>\n",
       "      <td>3985</td>\n",
       "      <td>430.0</td>\n",
       "      <td>56.0</td>\n",
       "      <td>419.0</td>\n",
       "      <td>487</td>\n",
       "      <td>609</td>\n",
       "      <td>619</td>\n",
       "      <td>694</td>\n",
       "      <td>671</td>\n",
       "      <td>826.744186</td>\n",
       "    </tr>\n",
       "  </tbody>\n",
       "</table>\n",
       "</div>"
      ],
      "text/plain": [
       "     자치구    소계  2011년 이전  2012년  2013년  2014년  2015년  2016년  2017년  2018년  \\\n",
       "0  강 남 구  5221    1944.0  195.0  316.0    430    546    765    577    448   \n",
       "1  강 동 구  1879     303.0  387.0  134.0     59    144    194    273    385   \n",
       "2  강 북 구  1265     243.0   88.0  141.0     74    145    254      1    319   \n",
       "3  강 서 구  1617     219.0  155.0  118.0    230    187    190    264    254   \n",
       "4  관 악 구  3985     430.0   56.0  419.0    487    609    619    694    671   \n",
       "\n",
       "        최신증가율  \n",
       "0  168.569959  \n",
       "1  520.132013  \n",
       "2  420.576132  \n",
       "3  638.356164  \n",
       "4  826.744186  "
      ]
     },
     "execution_count": 16,
     "metadata": {},
     "output_type": "execute_result"
    }
   ],
   "source": [
    "s_cctv['최신증가율']= (tmp_sum) / (s_cctv['2011년 이전']) * 100\n",
    "s_cctv.head(5)"
   ]
  },
  {
   "cell_type": "code",
   "execution_count": 17,
   "metadata": {},
   "outputs": [
    {
     "data": {
      "text/html": [
       "<div>\n",
       "<style scoped>\n",
       "    .dataframe tbody tr th:only-of-type {\n",
       "        vertical-align: middle;\n",
       "    }\n",
       "\n",
       "    .dataframe tbody tr th {\n",
       "        vertical-align: top;\n",
       "    }\n",
       "\n",
       "    .dataframe thead th {\n",
       "        text-align: right;\n",
       "    }\n",
       "</style>\n",
       "<table border=\"1\" class=\"dataframe\">\n",
       "  <thead>\n",
       "    <tr style=\"text-align: right;\">\n",
       "      <th></th>\n",
       "      <th>자치구</th>\n",
       "      <th>소계</th>\n",
       "      <th>2011년 이전</th>\n",
       "      <th>2012년</th>\n",
       "      <th>2013년</th>\n",
       "      <th>2014년</th>\n",
       "      <th>2015년</th>\n",
       "      <th>2016년</th>\n",
       "      <th>2017년</th>\n",
       "      <th>2018년</th>\n",
       "      <th>최신증가율</th>\n",
       "    </tr>\n",
       "  </thead>\n",
       "  <tbody>\n",
       "    <tr>\n",
       "      <td>22</td>\n",
       "      <td>종 로 구</td>\n",
       "      <td>1471</td>\n",
       "      <td>8.0</td>\n",
       "      <td>7.0</td>\n",
       "      <td>599.0</td>\n",
       "      <td>132</td>\n",
       "      <td>195</td>\n",
       "      <td>148</td>\n",
       "      <td>281</td>\n",
       "      <td>101</td>\n",
       "      <td>18287.500000</td>\n",
       "    </tr>\n",
       "    <tr>\n",
       "      <td>23</td>\n",
       "      <td>중     구</td>\n",
       "      <td>1544</td>\n",
       "      <td>25.0</td>\n",
       "      <td>165.0</td>\n",
       "      <td>114.0</td>\n",
       "      <td>80</td>\n",
       "      <td>245</td>\n",
       "      <td>270</td>\n",
       "      <td>317</td>\n",
       "      <td>328</td>\n",
       "      <td>6076.000000</td>\n",
       "    </tr>\n",
       "    <tr>\n",
       "      <td>7</td>\n",
       "      <td>금 천 구</td>\n",
       "      <td>1634</td>\n",
       "      <td>27.0</td>\n",
       "      <td>17.0</td>\n",
       "      <td>242.0</td>\n",
       "      <td>101</td>\n",
       "      <td>382</td>\n",
       "      <td>136</td>\n",
       "      <td>199</td>\n",
       "      <td>530</td>\n",
       "      <td>5951.851852</td>\n",
       "    </tr>\n",
       "    <tr>\n",
       "      <td>19</td>\n",
       "      <td>영등포구</td>\n",
       "      <td>2495</td>\n",
       "      <td>132.0</td>\n",
       "      <td>121.0</td>\n",
       "      <td>206.0</td>\n",
       "      <td>217</td>\n",
       "      <td>366</td>\n",
       "      <td>289</td>\n",
       "      <td>371</td>\n",
       "      <td>793</td>\n",
       "      <td>1790.151515</td>\n",
       "    </tr>\n",
       "    <tr>\n",
       "      <td>4</td>\n",
       "      <td>관 악 구</td>\n",
       "      <td>3985</td>\n",
       "      <td>430.0</td>\n",
       "      <td>56.0</td>\n",
       "      <td>419.0</td>\n",
       "      <td>487</td>\n",
       "      <td>609</td>\n",
       "      <td>619</td>\n",
       "      <td>694</td>\n",
       "      <td>671</td>\n",
       "      <td>826.744186</td>\n",
       "    </tr>\n",
       "  </tbody>\n",
       "</table>\n",
       "</div>"
      ],
      "text/plain": [
       "        자치구    소계  2011년 이전  2012년  2013년  2014년  2015년  2016년  2017년  2018년  \\\n",
       "22    종 로 구  1471       8.0    7.0  599.0    132    195    148    281    101   \n",
       "23  중     구  1544      25.0  165.0  114.0     80    245    270    317    328   \n",
       "7     금 천 구  1634      27.0   17.0  242.0    101    382    136    199    530   \n",
       "19     영등포구  2495     132.0  121.0  206.0    217    366    289    371    793   \n",
       "4     관 악 구  3985     430.0   56.0  419.0    487    609    619    694    671   \n",
       "\n",
       "           최신증가율  \n",
       "22  18287.500000  \n",
       "23   6076.000000  \n",
       "7    5951.851852  \n",
       "19   1790.151515  \n",
       "4     826.744186  "
      ]
     },
     "execution_count": 17,
     "metadata": {},
     "output_type": "execute_result"
    }
   ],
   "source": [
    "s_cctv.sort_values(by='최신증가율', ascending=False).head(5)"
   ]
  },
  {
   "cell_type": "markdown",
   "metadata": {},
   "source": [
    "- 결측치가 이미 존재했던 중랑구, 동대문구에 대한 조치 필요\n",
    "> 결측치를 0으로 처리하는 방안  \n",
    "> 최초 데이터가 존재하는 년도까지 기준점으로 잡고 가는방향  \n",
    "> 최초 데이터에 대한 의구심을 가지고 다시 데이터를 수집 하는 방향  \n",
    "- 종로구는 초기 데이터가 워낙 작아서 증가율이 너무 크게 나온다\n",
    "> 특정 구간까지는 ~년도이전으로 묶어주는것이 나을듯하다  \n",
    "- 공공데이터 자료 검토 결과 2018년도와 2019년도 자료가 상이하다\n",
    "- nan 처리 -> 0으로 진행\n",
    "- 원래는, 자료 제공기관에 문의하여 확인과정이 필요하나, 절차상 생략하고, 2019년도 자료에서 2011이전~2012, 2013, 2014 까지를 합산하여 새로운 컬럼 2014년도 이전을 생성\n",
    "- 필요없는 자료는 제거\n",
    "- 2014년도 이전 자료 대비 2015~2018 최신증가율(4년간)이란믄 항목으로 추가"
   ]
  },
  {
   "cell_type": "markdown",
   "metadata": {},
   "source": [
    "### nan 처리 => 결측치 처리\n",
    "- 결측값 채우기\n",
    " > 1. 특정값  \n",
    " > 2. 앞방향으로 채우기->시계열활용  \n",
    " > 3. 뒷방향으로 채우기->시계열활용  \n",
    " > 4. 채우는 회수 제한  \n",
    "- 결측값 대체하기 \n",
    " > 변수별 평균으로 대체  \n",
    "- 결측값 처리\n",
    " > 다른 변수의 값으로 대체  \n",
    "- 결측값 제거\n",
    " > 아래 코드 참조(isnull 검사후 => 블리언인덱싱이용 => 원데이터에 대상 index를 획득  \n",
    " > any()로 검사후 참이면 해당 인덱스에 일치되는 데이터를 제거"
   ]
  },
  {
   "cell_type": "code",
   "execution_count": 18,
   "metadata": {},
   "outputs": [
    {
     "data": {
      "text/html": [
       "<div>\n",
       "<style scoped>\n",
       "    .dataframe tbody tr th:only-of-type {\n",
       "        vertical-align: middle;\n",
       "    }\n",
       "\n",
       "    .dataframe tbody tr th {\n",
       "        vertical-align: top;\n",
       "    }\n",
       "\n",
       "    .dataframe thead th {\n",
       "        text-align: right;\n",
       "    }\n",
       "</style>\n",
       "<table border=\"1\" class=\"dataframe\">\n",
       "  <thead>\n",
       "    <tr style=\"text-align: right;\">\n",
       "      <th></th>\n",
       "      <th>자치구</th>\n",
       "      <th>소계</th>\n",
       "      <th>2011년 이전</th>\n",
       "      <th>2012년</th>\n",
       "      <th>2013년</th>\n",
       "      <th>2014년</th>\n",
       "      <th>2015년</th>\n",
       "      <th>2016년</th>\n",
       "      <th>2017년</th>\n",
       "      <th>2018년</th>\n",
       "      <th>최신증가율</th>\n",
       "    </tr>\n",
       "  </thead>\n",
       "  <tbody>\n",
       "    <tr>\n",
       "      <td>0</td>\n",
       "      <td>강 남 구</td>\n",
       "      <td>5221</td>\n",
       "      <td>1944.0</td>\n",
       "      <td>195.0</td>\n",
       "      <td>316.0</td>\n",
       "      <td>430</td>\n",
       "      <td>546</td>\n",
       "      <td>765</td>\n",
       "      <td>577</td>\n",
       "      <td>448</td>\n",
       "      <td>168.569959</td>\n",
       "    </tr>\n",
       "    <tr>\n",
       "      <td>1</td>\n",
       "      <td>강 동 구</td>\n",
       "      <td>1879</td>\n",
       "      <td>303.0</td>\n",
       "      <td>387.0</td>\n",
       "      <td>134.0</td>\n",
       "      <td>59</td>\n",
       "      <td>144</td>\n",
       "      <td>194</td>\n",
       "      <td>273</td>\n",
       "      <td>385</td>\n",
       "      <td>520.132013</td>\n",
       "    </tr>\n",
       "    <tr>\n",
       "      <td>2</td>\n",
       "      <td>강 북 구</td>\n",
       "      <td>1265</td>\n",
       "      <td>243.0</td>\n",
       "      <td>88.0</td>\n",
       "      <td>141.0</td>\n",
       "      <td>74</td>\n",
       "      <td>145</td>\n",
       "      <td>254</td>\n",
       "      <td>1</td>\n",
       "      <td>319</td>\n",
       "      <td>420.576132</td>\n",
       "    </tr>\n",
       "    <tr>\n",
       "      <td>3</td>\n",
       "      <td>강 서 구</td>\n",
       "      <td>1617</td>\n",
       "      <td>219.0</td>\n",
       "      <td>155.0</td>\n",
       "      <td>118.0</td>\n",
       "      <td>230</td>\n",
       "      <td>187</td>\n",
       "      <td>190</td>\n",
       "      <td>264</td>\n",
       "      <td>254</td>\n",
       "      <td>638.356164</td>\n",
       "    </tr>\n",
       "    <tr>\n",
       "      <td>4</td>\n",
       "      <td>관 악 구</td>\n",
       "      <td>3985</td>\n",
       "      <td>430.0</td>\n",
       "      <td>56.0</td>\n",
       "      <td>419.0</td>\n",
       "      <td>487</td>\n",
       "      <td>609</td>\n",
       "      <td>619</td>\n",
       "      <td>694</td>\n",
       "      <td>671</td>\n",
       "      <td>826.744186</td>\n",
       "    </tr>\n",
       "    <tr>\n",
       "      <td>5</td>\n",
       "      <td>광 진 구</td>\n",
       "      <td>1581</td>\n",
       "      <td>470.0</td>\n",
       "      <td>42.0</td>\n",
       "      <td>83.0</td>\n",
       "      <td>87</td>\n",
       "      <td>64</td>\n",
       "      <td>21</td>\n",
       "      <td>468</td>\n",
       "      <td>346</td>\n",
       "      <td>236.382979</td>\n",
       "    </tr>\n",
       "    <tr>\n",
       "      <td>6</td>\n",
       "      <td>구 로 구</td>\n",
       "      <td>3227</td>\n",
       "      <td>852.0</td>\n",
       "      <td>219.0</td>\n",
       "      <td>349.0</td>\n",
       "      <td>187</td>\n",
       "      <td>268</td>\n",
       "      <td>326</td>\n",
       "      <td>540</td>\n",
       "      <td>486</td>\n",
       "      <td>278.755869</td>\n",
       "    </tr>\n",
       "    <tr>\n",
       "      <td>7</td>\n",
       "      <td>금 천 구</td>\n",
       "      <td>1634</td>\n",
       "      <td>27.0</td>\n",
       "      <td>17.0</td>\n",
       "      <td>242.0</td>\n",
       "      <td>101</td>\n",
       "      <td>382</td>\n",
       "      <td>136</td>\n",
       "      <td>199</td>\n",
       "      <td>530</td>\n",
       "      <td>5951.851852</td>\n",
       "    </tr>\n",
       "    <tr>\n",
       "      <td>8</td>\n",
       "      <td>노 원 구</td>\n",
       "      <td>1906</td>\n",
       "      <td>481.0</td>\n",
       "      <td>117.0</td>\n",
       "      <td>203.0</td>\n",
       "      <td>80</td>\n",
       "      <td>461</td>\n",
       "      <td>298</td>\n",
       "      <td>110</td>\n",
       "      <td>156</td>\n",
       "      <td>296.257796</td>\n",
       "    </tr>\n",
       "    <tr>\n",
       "      <td>9</td>\n",
       "      <td>도 봉 구</td>\n",
       "      <td>858</td>\n",
       "      <td>197.0</td>\n",
       "      <td>66.0</td>\n",
       "      <td>8.0</td>\n",
       "      <td>185</td>\n",
       "      <td>59</td>\n",
       "      <td>155</td>\n",
       "      <td>117</td>\n",
       "      <td>71</td>\n",
       "      <td>335.532995</td>\n",
       "    </tr>\n",
       "    <tr>\n",
       "      <td>10</td>\n",
       "      <td>동대문구</td>\n",
       "      <td>2003</td>\n",
       "      <td>0.0</td>\n",
       "      <td>0.0</td>\n",
       "      <td>0.0</td>\n",
       "      <td>1326</td>\n",
       "      <td>111</td>\n",
       "      <td>233</td>\n",
       "      <td>136</td>\n",
       "      <td>197</td>\n",
       "      <td>0.000000</td>\n",
       "    </tr>\n",
       "    <tr>\n",
       "      <td>11</td>\n",
       "      <td>동 작 구</td>\n",
       "      <td>1780</td>\n",
       "      <td>238.0</td>\n",
       "      <td>93.0</td>\n",
       "      <td>29.0</td>\n",
       "      <td>503</td>\n",
       "      <td>130</td>\n",
       "      <td>254</td>\n",
       "      <td>278</td>\n",
       "      <td>255</td>\n",
       "      <td>647.899160</td>\n",
       "    </tr>\n",
       "    <tr>\n",
       "      <td>12</td>\n",
       "      <td>마 포 구</td>\n",
       "      <td>1935</td>\n",
       "      <td>585.0</td>\n",
       "      <td>108.0</td>\n",
       "      <td>69.0</td>\n",
       "      <td>70</td>\n",
       "      <td>177</td>\n",
       "      <td>359</td>\n",
       "      <td>372</td>\n",
       "      <td>195</td>\n",
       "      <td>230.769231</td>\n",
       "    </tr>\n",
       "    <tr>\n",
       "      <td>13</td>\n",
       "      <td>서대문구</td>\n",
       "      <td>2121</td>\n",
       "      <td>565.0</td>\n",
       "      <td>233.0</td>\n",
       "      <td>214.0</td>\n",
       "      <td>114</td>\n",
       "      <td>109</td>\n",
       "      <td>277</td>\n",
       "      <td>415</td>\n",
       "      <td>194</td>\n",
       "      <td>275.398230</td>\n",
       "    </tr>\n",
       "    <tr>\n",
       "      <td>14</td>\n",
       "      <td>서 초 구</td>\n",
       "      <td>2835</td>\n",
       "      <td>1172.0</td>\n",
       "      <td>91.0</td>\n",
       "      <td>228.0</td>\n",
       "      <td>134</td>\n",
       "      <td>215</td>\n",
       "      <td>352</td>\n",
       "      <td>247</td>\n",
       "      <td>396</td>\n",
       "      <td>141.894198</td>\n",
       "    </tr>\n",
       "    <tr>\n",
       "      <td>15</td>\n",
       "      <td>성 동 구</td>\n",
       "      <td>2679</td>\n",
       "      <td>665.0</td>\n",
       "      <td>109.0</td>\n",
       "      <td>118.0</td>\n",
       "      <td>101</td>\n",
       "      <td>258</td>\n",
       "      <td>201</td>\n",
       "      <td>933</td>\n",
       "      <td>294</td>\n",
       "      <td>302.857143</td>\n",
       "    </tr>\n",
       "    <tr>\n",
       "      <td>16</td>\n",
       "      <td>성 북 구</td>\n",
       "      <td>3003</td>\n",
       "      <td>779.0</td>\n",
       "      <td>84.0</td>\n",
       "      <td>304.0</td>\n",
       "      <td>241</td>\n",
       "      <td>279</td>\n",
       "      <td>388</td>\n",
       "      <td>285</td>\n",
       "      <td>643</td>\n",
       "      <td>285.494223</td>\n",
       "    </tr>\n",
       "    <tr>\n",
       "      <td>17</td>\n",
       "      <td>송 파 구</td>\n",
       "      <td>1586</td>\n",
       "      <td>600.0</td>\n",
       "      <td>99.0</td>\n",
       "      <td>88.0</td>\n",
       "      <td>21</td>\n",
       "      <td>166</td>\n",
       "      <td>100</td>\n",
       "      <td>116</td>\n",
       "      <td>396</td>\n",
       "      <td>164.333333</td>\n",
       "    </tr>\n",
       "    <tr>\n",
       "      <td>18</td>\n",
       "      <td>양 천 구</td>\n",
       "      <td>2775</td>\n",
       "      <td>772.0</td>\n",
       "      <td>161.0</td>\n",
       "      <td>185.0</td>\n",
       "      <td>169</td>\n",
       "      <td>172</td>\n",
       "      <td>349</td>\n",
       "      <td>137</td>\n",
       "      <td>830</td>\n",
       "      <td>259.455959</td>\n",
       "    </tr>\n",
       "    <tr>\n",
       "      <td>19</td>\n",
       "      <td>영등포구</td>\n",
       "      <td>2495</td>\n",
       "      <td>132.0</td>\n",
       "      <td>121.0</td>\n",
       "      <td>206.0</td>\n",
       "      <td>217</td>\n",
       "      <td>366</td>\n",
       "      <td>289</td>\n",
       "      <td>371</td>\n",
       "      <td>793</td>\n",
       "      <td>1790.151515</td>\n",
       "    </tr>\n",
       "    <tr>\n",
       "      <td>20</td>\n",
       "      <td>용 산 구</td>\n",
       "      <td>2063</td>\n",
       "      <td>1279.0</td>\n",
       "      <td>152.0</td>\n",
       "      <td>201.0</td>\n",
       "      <td>107</td>\n",
       "      <td>102</td>\n",
       "      <td>89</td>\n",
       "      <td>60</td>\n",
       "      <td>73</td>\n",
       "      <td>61.297889</td>\n",
       "    </tr>\n",
       "    <tr>\n",
       "      <td>21</td>\n",
       "      <td>은 평 구</td>\n",
       "      <td>2962</td>\n",
       "      <td>1365.0</td>\n",
       "      <td>83.0</td>\n",
       "      <td>99.0</td>\n",
       "      <td>343</td>\n",
       "      <td>180</td>\n",
       "      <td>296</td>\n",
       "      <td>229</td>\n",
       "      <td>367</td>\n",
       "      <td>116.996337</td>\n",
       "    </tr>\n",
       "    <tr>\n",
       "      <td>22</td>\n",
       "      <td>종 로 구</td>\n",
       "      <td>1471</td>\n",
       "      <td>8.0</td>\n",
       "      <td>7.0</td>\n",
       "      <td>599.0</td>\n",
       "      <td>132</td>\n",
       "      <td>195</td>\n",
       "      <td>148</td>\n",
       "      <td>281</td>\n",
       "      <td>101</td>\n",
       "      <td>18287.500000</td>\n",
       "    </tr>\n",
       "    <tr>\n",
       "      <td>23</td>\n",
       "      <td>중     구</td>\n",
       "      <td>1544</td>\n",
       "      <td>25.0</td>\n",
       "      <td>165.0</td>\n",
       "      <td>114.0</td>\n",
       "      <td>80</td>\n",
       "      <td>245</td>\n",
       "      <td>270</td>\n",
       "      <td>317</td>\n",
       "      <td>328</td>\n",
       "      <td>6076.000000</td>\n",
       "    </tr>\n",
       "    <tr>\n",
       "      <td>24</td>\n",
       "      <td>중 랑 구</td>\n",
       "      <td>1068</td>\n",
       "      <td>0.0</td>\n",
       "      <td>0.0</td>\n",
       "      <td>0.0</td>\n",
       "      <td>770</td>\n",
       "      <td>102</td>\n",
       "      <td>121</td>\n",
       "      <td>66</td>\n",
       "      <td>9</td>\n",
       "      <td>0.000000</td>\n",
       "    </tr>\n",
       "  </tbody>\n",
       "</table>\n",
       "</div>"
      ],
      "text/plain": [
       "        자치구    소계  2011년 이전  2012년  2013년  2014년  2015년  2016년  2017년  2018년  \\\n",
       "0     강 남 구  5221    1944.0  195.0  316.0    430    546    765    577    448   \n",
       "1     강 동 구  1879     303.0  387.0  134.0     59    144    194    273    385   \n",
       "2     강 북 구  1265     243.0   88.0  141.0     74    145    254      1    319   \n",
       "3     강 서 구  1617     219.0  155.0  118.0    230    187    190    264    254   \n",
       "4     관 악 구  3985     430.0   56.0  419.0    487    609    619    694    671   \n",
       "5     광 진 구  1581     470.0   42.0   83.0     87     64     21    468    346   \n",
       "6     구 로 구  3227     852.0  219.0  349.0    187    268    326    540    486   \n",
       "7     금 천 구  1634      27.0   17.0  242.0    101    382    136    199    530   \n",
       "8     노 원 구  1906     481.0  117.0  203.0     80    461    298    110    156   \n",
       "9     도 봉 구   858     197.0   66.0    8.0    185     59    155    117     71   \n",
       "10     동대문구  2003       0.0    0.0    0.0   1326    111    233    136    197   \n",
       "11    동 작 구  1780     238.0   93.0   29.0    503    130    254    278    255   \n",
       "12    마 포 구  1935     585.0  108.0   69.0     70    177    359    372    195   \n",
       "13     서대문구  2121     565.0  233.0  214.0    114    109    277    415    194   \n",
       "14    서 초 구  2835    1172.0   91.0  228.0    134    215    352    247    396   \n",
       "15    성 동 구  2679     665.0  109.0  118.0    101    258    201    933    294   \n",
       "16    성 북 구  3003     779.0   84.0  304.0    241    279    388    285    643   \n",
       "17    송 파 구  1586     600.0   99.0   88.0     21    166    100    116    396   \n",
       "18    양 천 구  2775     772.0  161.0  185.0    169    172    349    137    830   \n",
       "19     영등포구  2495     132.0  121.0  206.0    217    366    289    371    793   \n",
       "20    용 산 구  2063    1279.0  152.0  201.0    107    102     89     60     73   \n",
       "21    은 평 구  2962    1365.0   83.0   99.0    343    180    296    229    367   \n",
       "22    종 로 구  1471       8.0    7.0  599.0    132    195    148    281    101   \n",
       "23  중     구  1544      25.0  165.0  114.0     80    245    270    317    328   \n",
       "24    중 랑 구  1068       0.0    0.0    0.0    770    102    121     66      9   \n",
       "\n",
       "           최신증가율  \n",
       "0     168.569959  \n",
       "1     520.132013  \n",
       "2     420.576132  \n",
       "3     638.356164  \n",
       "4     826.744186  \n",
       "5     236.382979  \n",
       "6     278.755869  \n",
       "7    5951.851852  \n",
       "8     296.257796  \n",
       "9     335.532995  \n",
       "10      0.000000  \n",
       "11    647.899160  \n",
       "12    230.769231  \n",
       "13    275.398230  \n",
       "14    141.894198  \n",
       "15    302.857143  \n",
       "16    285.494223  \n",
       "17    164.333333  \n",
       "18    259.455959  \n",
       "19   1790.151515  \n",
       "20     61.297889  \n",
       "21    116.996337  \n",
       "22  18287.500000  \n",
       "23   6076.000000  \n",
       "24      0.000000  "
      ]
     },
     "execution_count": 18,
     "metadata": {},
     "output_type": "execute_result"
    }
   ],
   "source": [
    "#nan 처리 -> 0으로 진행 \n",
    "s_cctv.fillna(0, inplace=True)\n",
    "s_cctv"
   ]
  },
  {
   "cell_type": "code",
   "execution_count": 19,
   "metadata": {},
   "outputs": [],
   "source": [
    "#  2011이전~2012, 2013, 2014 까지를 합산하여, 새로운 컬럼 2014년도 이전을 생성\n",
    "#s_cctv[ '2014년도 이전' ] = "
   ]
  },
  {
   "cell_type": "code",
   "execution_count": 20,
   "metadata": {},
   "outputs": [
    {
     "data": {
      "text/plain": [
       "Index(['자치구', '소계', '2011년 이전', '2012년', '2013년', '2014년', '2015년', '2016년',\n",
       "       '2017년', '2018년', '최신증가율'],\n",
       "      dtype='object')"
      ]
     },
     "execution_count": 20,
     "metadata": {},
     "output_type": "execute_result"
    }
   ],
   "source": [
    "s_cctv.columns"
   ]
  },
  {
   "cell_type": "code",
   "execution_count": 21,
   "metadata": {},
   "outputs": [
    {
     "data": {
      "text/html": [
       "<div>\n",
       "<style scoped>\n",
       "    .dataframe tbody tr th:only-of-type {\n",
       "        vertical-align: middle;\n",
       "    }\n",
       "\n",
       "    .dataframe tbody tr th {\n",
       "        vertical-align: top;\n",
       "    }\n",
       "\n",
       "    .dataframe thead th {\n",
       "        text-align: right;\n",
       "    }\n",
       "</style>\n",
       "<table border=\"1\" class=\"dataframe\">\n",
       "  <thead>\n",
       "    <tr style=\"text-align: right;\">\n",
       "      <th></th>\n",
       "      <th>2011년 이전</th>\n",
       "      <th>2012년</th>\n",
       "      <th>2013년</th>\n",
       "      <th>2014년</th>\n",
       "    </tr>\n",
       "  </thead>\n",
       "  <tbody>\n",
       "    <tr>\n",
       "      <td>0</td>\n",
       "      <td>1944.0</td>\n",
       "      <td>195.0</td>\n",
       "      <td>316.0</td>\n",
       "      <td>430</td>\n",
       "    </tr>\n",
       "    <tr>\n",
       "      <td>1</td>\n",
       "      <td>303.0</td>\n",
       "      <td>387.0</td>\n",
       "      <td>134.0</td>\n",
       "      <td>59</td>\n",
       "    </tr>\n",
       "  </tbody>\n",
       "</table>\n",
       "</div>"
      ],
      "text/plain": [
       "   2011년 이전  2012년  2013년  2014년\n",
       "0    1944.0  195.0  316.0    430\n",
       "1     303.0  387.0  134.0     59"
      ]
     },
     "execution_count": 21,
     "metadata": {},
     "output_type": "execute_result"
    }
   ],
   "source": [
    "# 2011이전~2012, 2013, 2014 만 추출\n",
    "tmp = s_cctv.iloc[ :, [2,3,4,5]  ]\n",
    "tmp.head(2)"
   ]
  },
  {
   "cell_type": "code",
   "execution_count": 22,
   "metadata": {},
   "outputs": [
    {
     "data": {
      "text/plain": [
       "0     2885.0\n",
       "1      883.0\n",
       "2      546.0\n",
       "3      722.0\n",
       "4     1392.0\n",
       "5      682.0\n",
       "6     1607.0\n",
       "7      387.0\n",
       "8      881.0\n",
       "9      456.0\n",
       "10    1326.0\n",
       "11     863.0\n",
       "12     832.0\n",
       "13    1126.0\n",
       "14    1625.0\n",
       "15     993.0\n",
       "16    1408.0\n",
       "17     808.0\n",
       "18    1287.0\n",
       "19     676.0\n",
       "20    1739.0\n",
       "21    1890.0\n",
       "22     746.0\n",
       "23     384.0\n",
       "24     770.0\n",
       "dtype: float64"
      ]
     },
     "execution_count": 22,
     "metadata": {},
     "output_type": "execute_result"
    }
   ],
   "source": [
    "# 축(axis)=1 열 방향 \n",
    "# 2011이전~2012, 2013, 2014를 합한것\n",
    "tmp.sum(axis=1)"
   ]
  },
  {
   "cell_type": "code",
   "execution_count": 23,
   "metadata": {},
   "outputs": [],
   "source": [
    "#s_cctv[ '2014년도 이전' ] = s_cctv[ '2011년도 이전' ] + s_cctv[ '2012' ] + ..."
   ]
  },
  {
   "cell_type": "code",
   "execution_count": 24,
   "metadata": {},
   "outputs": [],
   "source": [
    "s_cctv[ '2014년도 이전' ] = s_cctv.iloc[ :, [2,3,4,5]  ].sum(axis=1)\n",
    "# '2014년도 이전' 을 생성하고  위에서 추출해서 합한 것을 나열  "
   ]
  },
  {
   "cell_type": "code",
   "execution_count": 25,
   "metadata": {},
   "outputs": [
    {
     "data": {
      "text/html": [
       "<div>\n",
       "<style scoped>\n",
       "    .dataframe tbody tr th:only-of-type {\n",
       "        vertical-align: middle;\n",
       "    }\n",
       "\n",
       "    .dataframe tbody tr th {\n",
       "        vertical-align: top;\n",
       "    }\n",
       "\n",
       "    .dataframe thead th {\n",
       "        text-align: right;\n",
       "    }\n",
       "</style>\n",
       "<table border=\"1\" class=\"dataframe\">\n",
       "  <thead>\n",
       "    <tr style=\"text-align: right;\">\n",
       "      <th></th>\n",
       "      <th>자치구</th>\n",
       "      <th>소계</th>\n",
       "      <th>2011년 이전</th>\n",
       "      <th>2012년</th>\n",
       "      <th>2013년</th>\n",
       "      <th>2014년</th>\n",
       "      <th>2015년</th>\n",
       "      <th>2016년</th>\n",
       "      <th>2017년</th>\n",
       "      <th>2018년</th>\n",
       "      <th>최신증가율</th>\n",
       "      <th>2014년도 이전</th>\n",
       "    </tr>\n",
       "  </thead>\n",
       "  <tbody>\n",
       "    <tr>\n",
       "      <td>0</td>\n",
       "      <td>강 남 구</td>\n",
       "      <td>5221</td>\n",
       "      <td>1944.0</td>\n",
       "      <td>195.0</td>\n",
       "      <td>316.0</td>\n",
       "      <td>430</td>\n",
       "      <td>546</td>\n",
       "      <td>765</td>\n",
       "      <td>577</td>\n",
       "      <td>448</td>\n",
       "      <td>168.569959</td>\n",
       "      <td>2885.0</td>\n",
       "    </tr>\n",
       "    <tr>\n",
       "      <td>1</td>\n",
       "      <td>강 동 구</td>\n",
       "      <td>1879</td>\n",
       "      <td>303.0</td>\n",
       "      <td>387.0</td>\n",
       "      <td>134.0</td>\n",
       "      <td>59</td>\n",
       "      <td>144</td>\n",
       "      <td>194</td>\n",
       "      <td>273</td>\n",
       "      <td>385</td>\n",
       "      <td>520.132013</td>\n",
       "      <td>883.0</td>\n",
       "    </tr>\n",
       "  </tbody>\n",
       "</table>\n",
       "</div>"
      ],
      "text/plain": [
       "     자치구    소계  2011년 이전  2012년  2013년  2014년  2015년  2016년  2017년  2018년  \\\n",
       "0  강 남 구  5221    1944.0  195.0  316.0    430    546    765    577    448   \n",
       "1  강 동 구  1879     303.0  387.0  134.0     59    144    194    273    385   \n",
       "\n",
       "        최신증가율  2014년도 이전  \n",
       "0  168.569959     2885.0  \n",
       "1  520.132013      883.0  "
      ]
     },
     "execution_count": 25,
     "metadata": {},
     "output_type": "execute_result"
    }
   ],
   "source": [
    "# 확인 \n",
    "s_cctv.head(2)"
   ]
  },
  {
   "cell_type": "code",
   "execution_count": 26,
   "metadata": {},
   "outputs": [
    {
     "data": {
      "text/plain": [
       "Index(['2011년 이전', '2012년', '2013년', '2014년'], dtype='object')"
      ]
     },
     "execution_count": 26,
     "metadata": {},
     "output_type": "execute_result"
    }
   ],
   "source": [
    "# 슬라이싱을 범위를 확인 \n",
    "s_cctv.columns[2:6]"
   ]
  },
  {
   "cell_type": "code",
   "execution_count": 27,
   "metadata": {},
   "outputs": [],
   "source": [
    "rm_cols = s_cctv.columns[2:6]"
   ]
  },
  {
   "cell_type": "code",
   "execution_count": 28,
   "metadata": {},
   "outputs": [
    {
     "name": "stdout",
     "output_type": "stream",
     "text": [
      "     자치구    소계  2015년  2016년  2017년  2018년       최신증가율  2014년도 이전\n",
      "0  강 남 구  5221    546    765    577    448  168.569959     2885.0\n",
      "1  강 동 구  1879    144    194    273    385  520.132013      883.0\n"
     ]
    }
   ],
   "source": [
    "# 2014년도 이전 컬럼을 전부 드랍 !\n",
    "try:    \n",
    "    # 제거\n",
    "    s_cctv.drop( rm_cols, inplace=True, axis=1 )\n",
    "    print( s_cctv.head(2) )\n",
    "except Exception as e:\n",
    "    pass"
   ]
  },
  {
   "cell_type": "code",
   "execution_count": 29,
   "metadata": {
    "scrolled": true
   },
   "outputs": [
    {
     "data": {
      "text/html": [
       "<div>\n",
       "<style scoped>\n",
       "    .dataframe tbody tr th:only-of-type {\n",
       "        vertical-align: middle;\n",
       "    }\n",
       "\n",
       "    .dataframe tbody tr th {\n",
       "        vertical-align: top;\n",
       "    }\n",
       "\n",
       "    .dataframe thead th {\n",
       "        text-align: right;\n",
       "    }\n",
       "</style>\n",
       "<table border=\"1\" class=\"dataframe\">\n",
       "  <thead>\n",
       "    <tr style=\"text-align: right;\">\n",
       "      <th></th>\n",
       "      <th>자치구</th>\n",
       "      <th>소계</th>\n",
       "      <th>2015년</th>\n",
       "      <th>2016년</th>\n",
       "      <th>2017년</th>\n",
       "      <th>2018년</th>\n",
       "      <th>최신증가율</th>\n",
       "      <th>2014년도 이전</th>\n",
       "    </tr>\n",
       "  </thead>\n",
       "  <tbody>\n",
       "    <tr>\n",
       "      <td>0</td>\n",
       "      <td>강 남 구</td>\n",
       "      <td>5221</td>\n",
       "      <td>546</td>\n",
       "      <td>765</td>\n",
       "      <td>577</td>\n",
       "      <td>448</td>\n",
       "      <td>168.569959</td>\n",
       "      <td>2885.0</td>\n",
       "    </tr>\n",
       "    <tr>\n",
       "      <td>1</td>\n",
       "      <td>강 동 구</td>\n",
       "      <td>1879</td>\n",
       "      <td>144</td>\n",
       "      <td>194</td>\n",
       "      <td>273</td>\n",
       "      <td>385</td>\n",
       "      <td>520.132013</td>\n",
       "      <td>883.0</td>\n",
       "    </tr>\n",
       "  </tbody>\n",
       "</table>\n",
       "</div>"
      ],
      "text/plain": [
       "     자치구    소계  2015년  2016년  2017년  2018년       최신증가율  2014년도 이전\n",
       "0  강 남 구  5221    546    765    577    448  168.569959     2885.0\n",
       "1  강 동 구  1879    144    194    273    385  520.132013      883.0"
      ]
     },
     "execution_count": 29,
     "metadata": {},
     "output_type": "execute_result"
    }
   ],
   "source": [
    "# 잘 드랍 되었는지 확인 \n",
    "s_cctv.head(2)"
   ]
  },
  {
   "cell_type": "code",
   "execution_count": 30,
   "metadata": {},
   "outputs": [
    {
     "data": {
      "text/html": [
       "<div>\n",
       "<style scoped>\n",
       "    .dataframe tbody tr th:only-of-type {\n",
       "        vertical-align: middle;\n",
       "    }\n",
       "\n",
       "    .dataframe tbody tr th {\n",
       "        vertical-align: top;\n",
       "    }\n",
       "\n",
       "    .dataframe thead th {\n",
       "        text-align: right;\n",
       "    }\n",
       "</style>\n",
       "<table border=\"1\" class=\"dataframe\">\n",
       "  <thead>\n",
       "    <tr style=\"text-align: right;\">\n",
       "      <th></th>\n",
       "      <th>자치구</th>\n",
       "      <th>소계</th>\n",
       "      <th>2014년도 이전</th>\n",
       "      <th>2015년</th>\n",
       "      <th>2016년</th>\n",
       "      <th>2017년</th>\n",
       "      <th>2018년</th>\n",
       "      <th>최신증가율</th>\n",
       "    </tr>\n",
       "  </thead>\n",
       "  <tbody>\n",
       "    <tr>\n",
       "      <td>0</td>\n",
       "      <td>강 남 구</td>\n",
       "      <td>5221</td>\n",
       "      <td>2885.0</td>\n",
       "      <td>546</td>\n",
       "      <td>765</td>\n",
       "      <td>577</td>\n",
       "      <td>448</td>\n",
       "      <td>80.970537</td>\n",
       "    </tr>\n",
       "    <tr>\n",
       "      <td>1</td>\n",
       "      <td>강 동 구</td>\n",
       "      <td>1879</td>\n",
       "      <td>883.0</td>\n",
       "      <td>144</td>\n",
       "      <td>194</td>\n",
       "      <td>273</td>\n",
       "      <td>385</td>\n",
       "      <td>112.797282</td>\n",
       "    </tr>\n",
       "    <tr>\n",
       "      <td>2</td>\n",
       "      <td>강 북 구</td>\n",
       "      <td>1265</td>\n",
       "      <td>546.0</td>\n",
       "      <td>145</td>\n",
       "      <td>254</td>\n",
       "      <td>1</td>\n",
       "      <td>319</td>\n",
       "      <td>131.684982</td>\n",
       "    </tr>\n",
       "    <tr>\n",
       "      <td>3</td>\n",
       "      <td>강 서 구</td>\n",
       "      <td>1617</td>\n",
       "      <td>722.0</td>\n",
       "      <td>187</td>\n",
       "      <td>190</td>\n",
       "      <td>264</td>\n",
       "      <td>254</td>\n",
       "      <td>123.961219</td>\n",
       "    </tr>\n",
       "    <tr>\n",
       "      <td>4</td>\n",
       "      <td>관 악 구</td>\n",
       "      <td>3985</td>\n",
       "      <td>1392.0</td>\n",
       "      <td>609</td>\n",
       "      <td>619</td>\n",
       "      <td>694</td>\n",
       "      <td>671</td>\n",
       "      <td>186.278736</td>\n",
       "    </tr>\n",
       "    <tr>\n",
       "      <td>5</td>\n",
       "      <td>광 진 구</td>\n",
       "      <td>1581</td>\n",
       "      <td>682.0</td>\n",
       "      <td>64</td>\n",
       "      <td>21</td>\n",
       "      <td>468</td>\n",
       "      <td>346</td>\n",
       "      <td>131.818182</td>\n",
       "    </tr>\n",
       "    <tr>\n",
       "      <td>6</td>\n",
       "      <td>구 로 구</td>\n",
       "      <td>3227</td>\n",
       "      <td>1607.0</td>\n",
       "      <td>268</td>\n",
       "      <td>326</td>\n",
       "      <td>540</td>\n",
       "      <td>486</td>\n",
       "      <td>100.808961</td>\n",
       "    </tr>\n",
       "    <tr>\n",
       "      <td>7</td>\n",
       "      <td>금 천 구</td>\n",
       "      <td>1634</td>\n",
       "      <td>387.0</td>\n",
       "      <td>382</td>\n",
       "      <td>136</td>\n",
       "      <td>199</td>\n",
       "      <td>530</td>\n",
       "      <td>322.222222</td>\n",
       "    </tr>\n",
       "    <tr>\n",
       "      <td>8</td>\n",
       "      <td>노 원 구</td>\n",
       "      <td>1906</td>\n",
       "      <td>881.0</td>\n",
       "      <td>461</td>\n",
       "      <td>298</td>\n",
       "      <td>110</td>\n",
       "      <td>156</td>\n",
       "      <td>116.345062</td>\n",
       "    </tr>\n",
       "    <tr>\n",
       "      <td>9</td>\n",
       "      <td>도 봉 구</td>\n",
       "      <td>858</td>\n",
       "      <td>456.0</td>\n",
       "      <td>59</td>\n",
       "      <td>155</td>\n",
       "      <td>117</td>\n",
       "      <td>71</td>\n",
       "      <td>88.157895</td>\n",
       "    </tr>\n",
       "    <tr>\n",
       "      <td>10</td>\n",
       "      <td>동대문구</td>\n",
       "      <td>2003</td>\n",
       "      <td>1326.0</td>\n",
       "      <td>111</td>\n",
       "      <td>233</td>\n",
       "      <td>136</td>\n",
       "      <td>197</td>\n",
       "      <td>51.055807</td>\n",
       "    </tr>\n",
       "    <tr>\n",
       "      <td>11</td>\n",
       "      <td>동 작 구</td>\n",
       "      <td>1780</td>\n",
       "      <td>863.0</td>\n",
       "      <td>130</td>\n",
       "      <td>254</td>\n",
       "      <td>278</td>\n",
       "      <td>255</td>\n",
       "      <td>106.257242</td>\n",
       "    </tr>\n",
       "    <tr>\n",
       "      <td>12</td>\n",
       "      <td>마 포 구</td>\n",
       "      <td>1935</td>\n",
       "      <td>832.0</td>\n",
       "      <td>177</td>\n",
       "      <td>359</td>\n",
       "      <td>372</td>\n",
       "      <td>195</td>\n",
       "      <td>132.572115</td>\n",
       "    </tr>\n",
       "    <tr>\n",
       "      <td>13</td>\n",
       "      <td>서대문구</td>\n",
       "      <td>2121</td>\n",
       "      <td>1126.0</td>\n",
       "      <td>109</td>\n",
       "      <td>277</td>\n",
       "      <td>415</td>\n",
       "      <td>194</td>\n",
       "      <td>88.365897</td>\n",
       "    </tr>\n",
       "    <tr>\n",
       "      <td>14</td>\n",
       "      <td>서 초 구</td>\n",
       "      <td>2835</td>\n",
       "      <td>1625.0</td>\n",
       "      <td>215</td>\n",
       "      <td>352</td>\n",
       "      <td>247</td>\n",
       "      <td>396</td>\n",
       "      <td>74.461538</td>\n",
       "    </tr>\n",
       "    <tr>\n",
       "      <td>15</td>\n",
       "      <td>성 동 구</td>\n",
       "      <td>2679</td>\n",
       "      <td>993.0</td>\n",
       "      <td>258</td>\n",
       "      <td>201</td>\n",
       "      <td>933</td>\n",
       "      <td>294</td>\n",
       "      <td>169.788520</td>\n",
       "    </tr>\n",
       "    <tr>\n",
       "      <td>16</td>\n",
       "      <td>성 북 구</td>\n",
       "      <td>3003</td>\n",
       "      <td>1408.0</td>\n",
       "      <td>279</td>\n",
       "      <td>388</td>\n",
       "      <td>285</td>\n",
       "      <td>643</td>\n",
       "      <td>113.281250</td>\n",
       "    </tr>\n",
       "    <tr>\n",
       "      <td>17</td>\n",
       "      <td>송 파 구</td>\n",
       "      <td>1586</td>\n",
       "      <td>808.0</td>\n",
       "      <td>166</td>\n",
       "      <td>100</td>\n",
       "      <td>116</td>\n",
       "      <td>396</td>\n",
       "      <td>96.287129</td>\n",
       "    </tr>\n",
       "    <tr>\n",
       "      <td>18</td>\n",
       "      <td>양 천 구</td>\n",
       "      <td>2775</td>\n",
       "      <td>1287.0</td>\n",
       "      <td>172</td>\n",
       "      <td>349</td>\n",
       "      <td>137</td>\n",
       "      <td>830</td>\n",
       "      <td>115.617716</td>\n",
       "    </tr>\n",
       "    <tr>\n",
       "      <td>19</td>\n",
       "      <td>영등포구</td>\n",
       "      <td>2495</td>\n",
       "      <td>676.0</td>\n",
       "      <td>366</td>\n",
       "      <td>289</td>\n",
       "      <td>371</td>\n",
       "      <td>793</td>\n",
       "      <td>269.082840</td>\n",
       "    </tr>\n",
       "    <tr>\n",
       "      <td>20</td>\n",
       "      <td>용 산 구</td>\n",
       "      <td>2063</td>\n",
       "      <td>1739.0</td>\n",
       "      <td>102</td>\n",
       "      <td>89</td>\n",
       "      <td>60</td>\n",
       "      <td>73</td>\n",
       "      <td>18.631397</td>\n",
       "    </tr>\n",
       "    <tr>\n",
       "      <td>21</td>\n",
       "      <td>은 평 구</td>\n",
       "      <td>2962</td>\n",
       "      <td>1890.0</td>\n",
       "      <td>180</td>\n",
       "      <td>296</td>\n",
       "      <td>229</td>\n",
       "      <td>367</td>\n",
       "      <td>56.719577</td>\n",
       "    </tr>\n",
       "    <tr>\n",
       "      <td>22</td>\n",
       "      <td>종 로 구</td>\n",
       "      <td>1471</td>\n",
       "      <td>746.0</td>\n",
       "      <td>195</td>\n",
       "      <td>148</td>\n",
       "      <td>281</td>\n",
       "      <td>101</td>\n",
       "      <td>97.184987</td>\n",
       "    </tr>\n",
       "    <tr>\n",
       "      <td>23</td>\n",
       "      <td>중     구</td>\n",
       "      <td>1544</td>\n",
       "      <td>384.0</td>\n",
       "      <td>245</td>\n",
       "      <td>270</td>\n",
       "      <td>317</td>\n",
       "      <td>328</td>\n",
       "      <td>302.083333</td>\n",
       "    </tr>\n",
       "    <tr>\n",
       "      <td>24</td>\n",
       "      <td>중 랑 구</td>\n",
       "      <td>1068</td>\n",
       "      <td>770.0</td>\n",
       "      <td>102</td>\n",
       "      <td>121</td>\n",
       "      <td>66</td>\n",
       "      <td>9</td>\n",
       "      <td>38.701299</td>\n",
       "    </tr>\n",
       "  </tbody>\n",
       "</table>\n",
       "</div>"
      ],
      "text/plain": [
       "        자치구    소계  2014년도 이전  2015년  2016년  2017년  2018년       최신증가율\n",
       "0     강 남 구  5221     2885.0    546    765    577    448   80.970537\n",
       "1     강 동 구  1879      883.0    144    194    273    385  112.797282\n",
       "2     강 북 구  1265      546.0    145    254      1    319  131.684982\n",
       "3     강 서 구  1617      722.0    187    190    264    254  123.961219\n",
       "4     관 악 구  3985     1392.0    609    619    694    671  186.278736\n",
       "5     광 진 구  1581      682.0     64     21    468    346  131.818182\n",
       "6     구 로 구  3227     1607.0    268    326    540    486  100.808961\n",
       "7     금 천 구  1634      387.0    382    136    199    530  322.222222\n",
       "8     노 원 구  1906      881.0    461    298    110    156  116.345062\n",
       "9     도 봉 구   858      456.0     59    155    117     71   88.157895\n",
       "10     동대문구  2003     1326.0    111    233    136    197   51.055807\n",
       "11    동 작 구  1780      863.0    130    254    278    255  106.257242\n",
       "12    마 포 구  1935      832.0    177    359    372    195  132.572115\n",
       "13     서대문구  2121     1126.0    109    277    415    194   88.365897\n",
       "14    서 초 구  2835     1625.0    215    352    247    396   74.461538\n",
       "15    성 동 구  2679      993.0    258    201    933    294  169.788520\n",
       "16    성 북 구  3003     1408.0    279    388    285    643  113.281250\n",
       "17    송 파 구  1586      808.0    166    100    116    396   96.287129\n",
       "18    양 천 구  2775     1287.0    172    349    137    830  115.617716\n",
       "19     영등포구  2495      676.0    366    289    371    793  269.082840\n",
       "20    용 산 구  2063     1739.0    102     89     60     73   18.631397\n",
       "21    은 평 구  2962     1890.0    180    296    229    367   56.719577\n",
       "22    종 로 구  1471      746.0    195    148    281    101   97.184987\n",
       "23  중     구  1544      384.0    245    270    317    328  302.083333\n",
       "24    중 랑 구  1068      770.0    102    121     66      9   38.701299"
      ]
     },
     "execution_count": 30,
     "metadata": {},
     "output_type": "execute_result"
    }
   ],
   "source": [
    "# 최신증가율을 다시 계산해서 세팅\n",
    "tmp = s_cctv.iloc[ :, [2,3,4,5]  ].sum(axis=1)\n",
    "s_cctv[ '최신증가율' ] = tmp / s_cctv[ '2014년도 이전' ] * 100\n",
    "# 펜시 인덱싱을 통함 컬럼 재배치 후 사본 리턴\n",
    "s_cctv = s_cctv.iloc[ :, [0,1,7,2,3,4,5,6] ]\n",
    "s_cctv"
   ]
  },
  {
   "cell_type": "markdown",
   "metadata": {},
   "source": [
    "## 인구 현황 분석 "
   ]
  },
  {
   "cell_type": "code",
   "execution_count": 31,
   "metadata": {},
   "outputs": [
    {
     "data": {
      "text/html": [
       "<div>\n",
       "<style scoped>\n",
       "    .dataframe tbody tr th:only-of-type {\n",
       "        vertical-align: middle;\n",
       "    }\n",
       "\n",
       "    .dataframe tbody tr th {\n",
       "        vertical-align: top;\n",
       "    }\n",
       "\n",
       "    .dataframe thead th {\n",
       "        text-align: right;\n",
       "    }\n",
       "</style>\n",
       "<table border=\"1\" class=\"dataframe\">\n",
       "  <thead>\n",
       "    <tr style=\"text-align: right;\">\n",
       "      <th></th>\n",
       "      <th>기간</th>\n",
       "      <th>자치구</th>\n",
       "      <th>인구수</th>\n",
       "      <th>한국인</th>\n",
       "      <th>외국인</th>\n",
       "      <th>고령자</th>\n",
       "    </tr>\n",
       "  </thead>\n",
       "  <tbody>\n",
       "    <tr>\n",
       "      <td>203</td>\n",
       "      <td>2018</td>\n",
       "      <td>관악구</td>\n",
       "      <td>520040</td>\n",
       "      <td>501957</td>\n",
       "      <td>18083</td>\n",
       "      <td>72249</td>\n",
       "    </tr>\n",
       "    <tr>\n",
       "      <td>204</td>\n",
       "      <td>2018</td>\n",
       "      <td>서초구</td>\n",
       "      <td>438163</td>\n",
       "      <td>433951</td>\n",
       "      <td>4212</td>\n",
       "      <td>54751</td>\n",
       "    </tr>\n",
       "    <tr>\n",
       "      <td>205</td>\n",
       "      <td>2018</td>\n",
       "      <td>강남구</td>\n",
       "      <td>547453</td>\n",
       "      <td>542364</td>\n",
       "      <td>5089</td>\n",
       "      <td>67085</td>\n",
       "    </tr>\n",
       "    <tr>\n",
       "      <td>206</td>\n",
       "      <td>2018</td>\n",
       "      <td>송파구</td>\n",
       "      <td>673507</td>\n",
       "      <td>666635</td>\n",
       "      <td>6872</td>\n",
       "      <td>81364</td>\n",
       "    </tr>\n",
       "    <tr>\n",
       "      <td>207</td>\n",
       "      <td>2018</td>\n",
       "      <td>강동구</td>\n",
       "      <td>431920</td>\n",
       "      <td>427573</td>\n",
       "      <td>4347</td>\n",
       "      <td>58770</td>\n",
       "    </tr>\n",
       "  </tbody>\n",
       "</table>\n",
       "</div>"
      ],
      "text/plain": [
       "       기간  자치구     인구수     한국인    외국인    고령자\n",
       "203  2018  관악구  520040  501957  18083  72249\n",
       "204  2018  서초구  438163  433951   4212  54751\n",
       "205  2018  강남구  547453  542364   5089  67085\n",
       "206  2018  송파구  673507  666635   6872  81364\n",
       "207  2018  강동구  431920  427573   4347  58770"
      ]
     },
     "execution_count": 31,
     "metadata": {},
     "output_type": "execute_result"
    }
   ],
   "source": [
    "s_pop.tail()"
   ]
  },
  {
   "cell_type": "code",
   "execution_count": 32,
   "metadata": {},
   "outputs": [
    {
     "data": {
      "text/plain": [
       "기간      int64\n",
       "자치구    object\n",
       "인구수     int64\n",
       "한국인     int64\n",
       "외국인     int64\n",
       "고령자     int64\n",
       "dtype: object"
      ]
     },
     "execution_count": 32,
     "metadata": {},
     "output_type": "execute_result"
    }
   ],
   "source": [
    "s_pop.dtypes"
   ]
  },
  {
   "cell_type": "code",
   "execution_count": 33,
   "metadata": {},
   "outputs": [],
   "source": [
    "#s_cctv  => 2014 년도 이전 데이터는 전부 묶고 컬럼을 앞으로 이동함  \n",
    "#s_pop   => 아직 2011-년도부터 2014년도 데이터가 각컬럼을 가지고 존재\n",
    "#s_cctv = s_pop의 차원은 동일해야한다 \n",
    "# 그러므로 아래와 같이 s_pop를 s_cctv와 같도록 수정해야한다."
   ]
  },
  {
   "cell_type": "code",
   "execution_count": 34,
   "metadata": {},
   "outputs": [
    {
     "data": {
      "text/plain": [
       "(130, 6)"
      ]
     },
     "execution_count": 34,
     "metadata": {},
     "output_type": "execute_result"
    }
   ],
   "source": [
    "# s_pop에서 기간이 2014~2018년도까지만 추출해라\n",
    "s_pop_last = s_pop[ s_pop.기간 >= 2014 ]\n",
    "# 2014~2018년도까지의 차원 확인\n",
    "s_pop_last.shape"
   ]
  },
  {
   "cell_type": "code",
   "execution_count": 35,
   "metadata": {},
   "outputs": [
    {
     "data": {
      "text/plain": [
       "(25, 8)"
      ]
     },
     "execution_count": 35,
     "metadata": {},
     "output_type": "execute_result"
    }
   ],
   "source": [
    "s_cctv.shape"
   ]
  },
  {
   "cell_type": "markdown",
   "metadata": {},
   "source": [
    "# 왜125가 되어야 하는지 잘 모르겠다. "
   ]
  },
  {
   "cell_type": "code",
   "execution_count": 36,
   "metadata": {},
   "outputs": [
    {
     "data": {
      "text/plain": [
       "5.2"
      ]
     },
     "execution_count": 36,
     "metadata": {},
     "output_type": "execute_result"
    }
   ],
   "source": [
    "# 자치구 개수로 인구데이터 개수를 나눠보니 딱 안떨어진다 => 125가 되야 되는데\n",
    "# 130이 되었다 => 년도별로 1개식 데이터 가 더 있다\n",
    "s_pop_last.shape[0] / s_cctv.shape[0]"
   ]
  },
  {
   "cell_type": "code",
   "execution_count": 37,
   "metadata": {},
   "outputs": [
    {
     "data": {
      "text/plain": [
       "(125, 6)"
      ]
     },
     "execution_count": 37,
     "metadata": {},
     "output_type": "execute_result"
    }
   ],
   "source": [
    "s_pop_last.head(27)\n",
    "# 년도별로 합계 데이터가 추가되어 있다, \n",
    "# 합계를 제거해라 혹은 합계를 빼고 데이터프레임을 구성해라\n",
    "s_pop_last = s_pop_last[ s_pop_last.자치구 != '합계' ]\n",
    "s_pop_last.shape"
   ]
  },
  {
   "cell_type": "code",
   "execution_count": 38,
   "metadata": {},
   "outputs": [
    {
     "data": {
      "text/plain": [
       "5.0"
      ]
     },
     "execution_count": 38,
     "metadata": {},
     "output_type": "execute_result"
    }
   ],
   "source": [
    "# 데이터 매칭 정상\n",
    "s_pop_last.shape[0] / s_cctv.shape[0]"
   ]
  },
  {
   "cell_type": "code",
   "execution_count": 39,
   "metadata": {},
   "outputs": [
    {
     "data": {
      "text/plain": [
       "(25, 25)"
      ]
     },
     "execution_count": 39,
     "metadata": {},
     "output_type": "execute_result"
    }
   ],
   "source": [
    "# 데이터 프레임을 합쳐서 진행할 것인데, 자치구 데이터들이 고유한지 체크\n",
    "len( s_cctv['자치구'].unique() ), len( s_pop_last['자치구'].unique() )"
   ]
  },
  {
   "cell_type": "code",
   "execution_count": 40,
   "metadata": {},
   "outputs": [
    {
     "data": {
      "text/plain": [
       "0    False\n",
       "1    False\n",
       "Name: 자치구, dtype: bool"
      ]
     },
     "execution_count": 40,
     "metadata": {},
     "output_type": "execute_result"
    }
   ],
   "source": [
    "# NaN 검출 (isnull을 이용해 기본값과 타입을 확인하기 )\n",
    "s_cctv['자치구'].isnull().head(2)"
   ]
  },
  {
   "cell_type": "code",
   "execution_count": 41,
   "metadata": {},
   "outputs": [],
   "source": [
    "# Nan 값 데이터 제거\n",
    "nanidx = s_cctv[s_cctv['자치구'].isnull()].index\n",
    "if nanidx.any():\n",
    "    s_cctv.drop( [nanidx], inplace=True )"
   ]
  },
  {
   "cell_type": "code",
   "execution_count": 42,
   "metadata": {},
   "outputs": [
    {
     "data": {
      "text/plain": [
       "Index(['기간', '자치구', '인구수', '한국인', '외국인', '고령자'], dtype='object')"
      ]
     },
     "execution_count": 42,
     "metadata": {},
     "output_type": "execute_result"
    }
   ],
   "source": [
    "s_pop_last.columns"
   ]
  },
  {
   "cell_type": "code",
   "execution_count": 43,
   "metadata": {},
   "outputs": [
    {
     "data": {
      "text/html": [
       "<div>\n",
       "<style scoped>\n",
       "    .dataframe tbody tr th:only-of-type {\n",
       "        vertical-align: middle;\n",
       "    }\n",
       "\n",
       "    .dataframe tbody tr th {\n",
       "        vertical-align: top;\n",
       "    }\n",
       "\n",
       "    .dataframe thead th {\n",
       "        text-align: right;\n",
       "    }\n",
       "</style>\n",
       "<table border=\"1\" class=\"dataframe\">\n",
       "  <thead>\n",
       "    <tr style=\"text-align: right;\">\n",
       "      <th></th>\n",
       "      <th>기간</th>\n",
       "      <th>자치구</th>\n",
       "      <th>인구수</th>\n",
       "      <th>한국인</th>\n",
       "      <th>외국인</th>\n",
       "      <th>고령자</th>\n",
       "      <th>외국인비율</th>\n",
       "      <th>고령자비율</th>\n",
       "    </tr>\n",
       "  </thead>\n",
       "  <tbody>\n",
       "    <tr>\n",
       "      <td>79</td>\n",
       "      <td>2014</td>\n",
       "      <td>종로구</td>\n",
       "      <td>165344</td>\n",
       "      <td>156993</td>\n",
       "      <td>8351</td>\n",
       "      <td>24537</td>\n",
       "      <td>5.050682</td>\n",
       "      <td>14.839970</td>\n",
       "    </tr>\n",
       "    <tr>\n",
       "      <td>80</td>\n",
       "      <td>2014</td>\n",
       "      <td>중구</td>\n",
       "      <td>136227</td>\n",
       "      <td>128065</td>\n",
       "      <td>8162</td>\n",
       "      <td>19960</td>\n",
       "      <td>5.991470</td>\n",
       "      <td>14.652015</td>\n",
       "    </tr>\n",
       "    <tr>\n",
       "      <td>81</td>\n",
       "      <td>2014</td>\n",
       "      <td>용산구</td>\n",
       "      <td>249914</td>\n",
       "      <td>235951</td>\n",
       "      <td>13963</td>\n",
       "      <td>34896</td>\n",
       "      <td>5.587122</td>\n",
       "      <td>13.963203</td>\n",
       "    </tr>\n",
       "  </tbody>\n",
       "</table>\n",
       "</div>"
      ],
      "text/plain": [
       "      기간  자치구     인구수     한국인    외국인    고령자     외국인비율      고령자비율\n",
       "79  2014  종로구  165344  156993   8351  24537  5.050682  14.839970\n",
       "80  2014   중구  136227  128065   8162  19960  5.991470  14.652015\n",
       "81  2014  용산구  249914  235951  13963  34896  5.587122  13.963203"
      ]
     },
     "execution_count": 43,
     "metadata": {},
     "output_type": "execute_result"
    }
   ],
   "source": [
    "# 인구 데이터 s_pop_last 에서 외국인비율, 고령자비율 컬럼 추가\n",
    "# 외국인비율 =  외국인 / 인구수 * 100\n",
    "s_pop_last['외국인비율'] = s_pop_last['외국인'] / s_pop_last['인구수'] * 100\n",
    "s_pop_last['고령자비율'] = s_pop_last['고령자'] / s_pop_last['인구수'] * 100\n",
    "s_pop_last.head(3)"
   ]
  },
  {
   "cell_type": "code",
   "execution_count": 44,
   "metadata": {},
   "outputs": [
    {
     "data": {
      "text/plain": [
       "(25, 8)"
      ]
     },
     "execution_count": 44,
     "metadata": {},
     "output_type": "execute_result"
    }
   ],
   "source": [
    "# s_pop_last 데이터에서 s_pop_last_2018 생성, 2018년도만 획득\n",
    "s_pop_last_2018 = s_pop_last[s_pop_last.기간 == 2018]\n",
    "s_pop_last_2018.shape"
   ]
  },
  {
   "cell_type": "code",
   "execution_count": 45,
   "metadata": {},
   "outputs": [
    {
     "data": {
      "text/html": [
       "<div>\n",
       "<style scoped>\n",
       "    .dataframe tbody tr th:only-of-type {\n",
       "        vertical-align: middle;\n",
       "    }\n",
       "\n",
       "    .dataframe tbody tr th {\n",
       "        vertical-align: top;\n",
       "    }\n",
       "\n",
       "    .dataframe thead th {\n",
       "        text-align: right;\n",
       "    }\n",
       "</style>\n",
       "<table border=\"1\" class=\"dataframe\">\n",
       "  <thead>\n",
       "    <tr style=\"text-align: right;\">\n",
       "      <th></th>\n",
       "      <th>기간</th>\n",
       "      <th>자치구</th>\n",
       "      <th>인구수</th>\n",
       "      <th>한국인</th>\n",
       "      <th>외국인</th>\n",
       "      <th>고령자</th>\n",
       "      <th>외국인비율</th>\n",
       "      <th>고령자비율</th>\n",
       "    </tr>\n",
       "  </thead>\n",
       "  <tbody>\n",
       "    <tr>\n",
       "      <td>201</td>\n",
       "      <td>2018</td>\n",
       "      <td>영등포구</td>\n",
       "      <td>403600</td>\n",
       "      <td>367778</td>\n",
       "      <td>35822</td>\n",
       "      <td>55673</td>\n",
       "      <td>8.875619</td>\n",
       "      <td>13.794103</td>\n",
       "    </tr>\n",
       "    <tr>\n",
       "      <td>200</td>\n",
       "      <td>2018</td>\n",
       "      <td>금천구</td>\n",
       "      <td>254021</td>\n",
       "      <td>233917</td>\n",
       "      <td>20104</td>\n",
       "      <td>35739</td>\n",
       "      <td>7.914306</td>\n",
       "      <td>14.069309</td>\n",
       "    </tr>\n",
       "    <tr>\n",
       "      <td>199</td>\n",
       "      <td>2018</td>\n",
       "      <td>구로구</td>\n",
       "      <td>438486</td>\n",
       "      <td>404497</td>\n",
       "      <td>33989</td>\n",
       "      <td>61801</td>\n",
       "      <td>7.751445</td>\n",
       "      <td>14.094179</td>\n",
       "    </tr>\n",
       "  </tbody>\n",
       "</table>\n",
       "</div>"
      ],
      "text/plain": [
       "       기간   자치구     인구수     한국인    외국인    고령자     외국인비율      고령자비율\n",
       "201  2018  영등포구  403600  367778  35822  55673  8.875619  13.794103\n",
       "200  2018   금천구  254021  233917  20104  35739  7.914306  14.069309\n",
       "199  2018   구로구  438486  404497  33989  61801  7.751445  14.094179"
      ]
     },
     "execution_count": 45,
     "metadata": {},
     "output_type": "execute_result"
    }
   ],
   "source": [
    "#'외국인비율'을 중심으로 내림차순 정렬\n",
    "s_pop_last_2018.sort_values( by='외국인비율', ascending = False ).head(3)"
   ]
  },
  {
   "cell_type": "code",
   "execution_count": 46,
   "metadata": {},
   "outputs": [
    {
     "data": {
      "text/html": [
       "<div>\n",
       "<style scoped>\n",
       "    .dataframe tbody tr th:only-of-type {\n",
       "        vertical-align: middle;\n",
       "    }\n",
       "\n",
       "    .dataframe tbody tr th {\n",
       "        vertical-align: top;\n",
       "    }\n",
       "\n",
       "    .dataframe thead th {\n",
       "        text-align: right;\n",
       "    }\n",
       "</style>\n",
       "<table border=\"1\" class=\"dataframe\">\n",
       "  <thead>\n",
       "    <tr style=\"text-align: right;\">\n",
       "      <th></th>\n",
       "      <th>자치구</th>\n",
       "      <th>소계</th>\n",
       "      <th>2014년도 이전</th>\n",
       "      <th>2015년</th>\n",
       "      <th>2016년</th>\n",
       "      <th>2017년</th>\n",
       "      <th>2018년</th>\n",
       "      <th>최신증가율</th>\n",
       "    </tr>\n",
       "  </thead>\n",
       "  <tbody>\n",
       "    <tr>\n",
       "      <td>0</td>\n",
       "      <td>강 남 구</td>\n",
       "      <td>5221</td>\n",
       "      <td>2885.0</td>\n",
       "      <td>546</td>\n",
       "      <td>765</td>\n",
       "      <td>577</td>\n",
       "      <td>448</td>\n",
       "      <td>80.970537</td>\n",
       "    </tr>\n",
       "    <tr>\n",
       "      <td>1</td>\n",
       "      <td>강 동 구</td>\n",
       "      <td>1879</td>\n",
       "      <td>883.0</td>\n",
       "      <td>144</td>\n",
       "      <td>194</td>\n",
       "      <td>273</td>\n",
       "      <td>385</td>\n",
       "      <td>112.797282</td>\n",
       "    </tr>\n",
       "    <tr>\n",
       "      <td>2</td>\n",
       "      <td>강 북 구</td>\n",
       "      <td>1265</td>\n",
       "      <td>546.0</td>\n",
       "      <td>145</td>\n",
       "      <td>254</td>\n",
       "      <td>1</td>\n",
       "      <td>319</td>\n",
       "      <td>131.684982</td>\n",
       "    </tr>\n",
       "  </tbody>\n",
       "</table>\n",
       "</div>"
      ],
      "text/plain": [
       "     자치구    소계  2014년도 이전  2015년  2016년  2017년  2018년       최신증가율\n",
       "0  강 남 구  5221     2885.0    546    765    577    448   80.970537\n",
       "1  강 동 구  1879      883.0    144    194    273    385  112.797282\n",
       "2  강 북 구  1265      546.0    145    254      1    319  131.684982"
      ]
     },
     "execution_count": 46,
     "metadata": {},
     "output_type": "execute_result"
    }
   ],
   "source": [
    "s_cctv.head(3)"
   ]
  },
  {
   "cell_type": "markdown",
   "metadata": {},
   "source": [
    "### DataFrame 합치기:병합 (고급주제)\n",
    "\n",
    "<a href='http://localhost:8888/notebooks/Desktop/projects/analysis/pandas/basic/advanced_pandas.ipynb'>실습하기<a>`"
   ]
  },
  {
   "cell_type": "markdown",
   "metadata": {},
   "source": [
    "## cctv데이터와 인구현황데이터 합치고 분석하기 \n",
    " - merge"
   ]
  },
  {
   "cell_type": "code",
   "execution_count": 47,
   "metadata": {},
   "outputs": [
    {
     "data": {
      "text/plain": [
       "(3, 15)"
      ]
     },
     "execution_count": 47,
     "metadata": {},
     "output_type": "execute_result"
    }
   ],
   "source": [
    "#s_cctv + s_pop_last_2018 ( 2개를 병합 )\n",
    "data_result =pd.merge( s_cctv, s_pop_last_2018, on = '자치구' )\n",
    "data_result.shape\n",
    "# >>> (3,15)  15는 어디서 온것이냐 네이놈!!!! 컬럼수인가 ...? 근데 이건왜 3 이지 ? "
   ]
  },
  {
   "cell_type": "code",
   "execution_count": 48,
   "metadata": {},
   "outputs": [
    {
     "data": {
      "text/html": [
       "<div>\n",
       "<style scoped>\n",
       "    .dataframe tbody tr th:only-of-type {\n",
       "        vertical-align: middle;\n",
       "    }\n",
       "\n",
       "    .dataframe tbody tr th {\n",
       "        vertical-align: top;\n",
       "    }\n",
       "\n",
       "    .dataframe thead th {\n",
       "        text-align: right;\n",
       "    }\n",
       "</style>\n",
       "<table border=\"1\" class=\"dataframe\">\n",
       "  <thead>\n",
       "    <tr style=\"text-align: right;\">\n",
       "      <th></th>\n",
       "      <th>자치구</th>\n",
       "      <th>소계</th>\n",
       "      <th>2014년도 이전</th>\n",
       "      <th>2015년</th>\n",
       "      <th>2016년</th>\n",
       "      <th>2017년</th>\n",
       "      <th>2018년</th>\n",
       "      <th>최신증가율</th>\n",
       "      <th>기간</th>\n",
       "      <th>인구수</th>\n",
       "      <th>한국인</th>\n",
       "      <th>외국인</th>\n",
       "      <th>고령자</th>\n",
       "      <th>외국인비율</th>\n",
       "      <th>고령자비율</th>\n",
       "    </tr>\n",
       "  </thead>\n",
       "  <tbody>\n",
       "    <tr>\n",
       "      <td>0</td>\n",
       "      <td>동대문구</td>\n",
       "      <td>2003</td>\n",
       "      <td>1326.0</td>\n",
       "      <td>111</td>\n",
       "      <td>233</td>\n",
       "      <td>136</td>\n",
       "      <td>197</td>\n",
       "      <td>51.055807</td>\n",
       "      <td>2018</td>\n",
       "      <td>364338</td>\n",
       "      <td>348052</td>\n",
       "      <td>16286</td>\n",
       "      <td>57165</td>\n",
       "      <td>4.470025</td>\n",
       "      <td>15.690101</td>\n",
       "    </tr>\n",
       "    <tr>\n",
       "      <td>1</td>\n",
       "      <td>서대문구</td>\n",
       "      <td>2121</td>\n",
       "      <td>1126.0</td>\n",
       "      <td>109</td>\n",
       "      <td>277</td>\n",
       "      <td>415</td>\n",
       "      <td>194</td>\n",
       "      <td>88.365897</td>\n",
       "      <td>2018</td>\n",
       "      <td>323080</td>\n",
       "      <td>310313</td>\n",
       "      <td>12767</td>\n",
       "      <td>50456</td>\n",
       "      <td>3.951653</td>\n",
       "      <td>15.617185</td>\n",
       "    </tr>\n",
       "    <tr>\n",
       "      <td>2</td>\n",
       "      <td>영등포구</td>\n",
       "      <td>2495</td>\n",
       "      <td>676.0</td>\n",
       "      <td>366</td>\n",
       "      <td>289</td>\n",
       "      <td>371</td>\n",
       "      <td>793</td>\n",
       "      <td>269.082840</td>\n",
       "      <td>2018</td>\n",
       "      <td>403600</td>\n",
       "      <td>367778</td>\n",
       "      <td>35822</td>\n",
       "      <td>55673</td>\n",
       "      <td>8.875619</td>\n",
       "      <td>13.794103</td>\n",
       "    </tr>\n",
       "  </tbody>\n",
       "</table>\n",
       "</div>"
      ],
      "text/plain": [
       "    자치구    소계  2014년도 이전  2015년  2016년  2017년  2018년       최신증가율    기간  \\\n",
       "0  동대문구  2003     1326.0    111    233    136    197   51.055807  2018   \n",
       "1  서대문구  2121     1126.0    109    277    415    194   88.365897  2018   \n",
       "2  영등포구  2495      676.0    366    289    371    793  269.082840  2018   \n",
       "\n",
       "      인구수     한국인    외국인    고령자     외국인비율      고령자비율  \n",
       "0  364338  348052  16286  57165  4.470025  15.690101  \n",
       "1  323080  310313  12767  50456  3.951653  15.617185  \n",
       "2  403600  367778  35822  55673  8.875619  13.794103  "
      ]
     },
     "execution_count": 48,
     "metadata": {},
     "output_type": "execute_result"
    }
   ],
   "source": [
    "data_result.head()"
   ]
  },
  {
   "cell_type": "code",
   "execution_count": 49,
   "metadata": {},
   "outputs": [
    {
     "data": {
      "text/plain": [
       "(0       강 남 구\n",
       " 1       강 동 구\n",
       " 2       강 북 구\n",
       " 3       강 서 구\n",
       " 4       관 악 구\n",
       " 5       광 진 구\n",
       " 6       구 로 구\n",
       " 7       금 천 구\n",
       " 8       노 원 구\n",
       " 9       도 봉 구\n",
       " 10       동대문구\n",
       " 11      동 작 구\n",
       " 12      마 포 구\n",
       " 13       서대문구\n",
       " 14      서 초 구\n",
       " 15      성 동 구\n",
       " 16      성 북 구\n",
       " 17      송 파 구\n",
       " 18      양 천 구\n",
       " 19       영등포구\n",
       " 20      용 산 구\n",
       " 21      은 평 구\n",
       " 22      종 로 구\n",
       " 23    중     구\n",
       " 24      중 랑 구\n",
       " Name: 자치구, dtype: object, 183     종로구\n",
       " 184      중구\n",
       " 185     용산구\n",
       " 186     성동구\n",
       " 187     광진구\n",
       " 188    동대문구\n",
       " 189     중랑구\n",
       " 190     성북구\n",
       " 191     강북구\n",
       " 192     도봉구\n",
       " 193     노원구\n",
       " 194     은평구\n",
       " 195    서대문구\n",
       " 196     마포구\n",
       " 197     양천구\n",
       " 198     강서구\n",
       " 199     구로구\n",
       " 200     금천구\n",
       " 201    영등포구\n",
       " 202     동작구\n",
       " 203     관악구\n",
       " 204     서초구\n",
       " 205     강남구\n",
       " 206     송파구\n",
       " 207     강동구\n",
       " Name: 자치구, dtype: object)"
      ]
     },
     "execution_count": 49,
     "metadata": {},
     "output_type": "execute_result"
    }
   ],
   "source": [
    "s_cctv['자치구'], s_pop_last_2018['자치구']"
   ]
  },
  {
   "cell_type": "code",
   "execution_count": 50,
   "metadata": {},
   "outputs": [
    {
     "data": {
      "text/plain": [
       "'용산구'"
      ]
     },
     "execution_count": 50,
     "metadata": {},
     "output_type": "execute_result"
    }
   ],
   "source": [
    "# 자치구 용어가 통일이 안되있어서 문자열 내부에 공백이 존재\n",
    "# 공백을 부여할것인지, 공백을 제거할것인지 ->  cctv = pop 같게해야해\n",
    "# 기준점을 정해서 데이터를 전처리후 병합진행\n",
    "'용 산 구'.replace(' ','')"
   ]
  },
  {
   "cell_type": "code",
   "execution_count": 51,
   "metadata": {},
   "outputs": [],
   "source": [
    "# s_cctv의 자치구 데이터를 한놈씩 꺼내서 공백을 제거하고 원위치 시켜야 된다\n",
    "def reSpace(x):\n",
    "    return x.replace(' ','')\n",
    "\n",
    "# 처리할 내용이 1줄이면 lambda로 처리, 그 이상이면 함수를 정의해서 처리한다\n",
    "#s_cctv['자치구'].apply( reSpace )\n",
    "s_cctv['자치구'] = s_cctv['자치구'].apply( lambda x: x.replace(' ','') )"
   ]
  },
  {
   "cell_type": "code",
   "execution_count": 52,
   "metadata": {},
   "outputs": [
    {
     "data": {
      "text/plain": [
       "(25, 15)"
      ]
     },
     "execution_count": 52,
     "metadata": {},
     "output_type": "execute_result"
    }
   ],
   "source": [
    "# 데이터를 보정 => 다시 병합\n",
    "data_result = pd.merge( s_cctv, s_pop_last_2018, on ='자치구' )\n",
    "data_result.shape"
   ]
  },
  {
   "cell_type": "code",
   "execution_count": 53,
   "metadata": {},
   "outputs": [
    {
     "data": {
      "text/html": [
       "<div>\n",
       "<style scoped>\n",
       "    .dataframe tbody tr th:only-of-type {\n",
       "        vertical-align: middle;\n",
       "    }\n",
       "\n",
       "    .dataframe tbody tr th {\n",
       "        vertical-align: top;\n",
       "    }\n",
       "\n",
       "    .dataframe thead th {\n",
       "        text-align: right;\n",
       "    }\n",
       "</style>\n",
       "<table border=\"1\" class=\"dataframe\">\n",
       "  <thead>\n",
       "    <tr style=\"text-align: right;\">\n",
       "      <th></th>\n",
       "      <th>자치구</th>\n",
       "      <th>소계</th>\n",
       "      <th>2014년도 이전</th>\n",
       "      <th>2015년</th>\n",
       "      <th>2016년</th>\n",
       "      <th>2017년</th>\n",
       "      <th>2018년</th>\n",
       "      <th>최신증가율</th>\n",
       "      <th>기간</th>\n",
       "      <th>인구수</th>\n",
       "      <th>한국인</th>\n",
       "      <th>외국인</th>\n",
       "      <th>고령자</th>\n",
       "      <th>외국인비율</th>\n",
       "      <th>고령자비율</th>\n",
       "    </tr>\n",
       "  </thead>\n",
       "  <tbody>\n",
       "    <tr>\n",
       "      <td>0</td>\n",
       "      <td>강남구</td>\n",
       "      <td>5221</td>\n",
       "      <td>2885.0</td>\n",
       "      <td>546</td>\n",
       "      <td>765</td>\n",
       "      <td>577</td>\n",
       "      <td>448</td>\n",
       "      <td>80.970537</td>\n",
       "      <td>2018</td>\n",
       "      <td>547453</td>\n",
       "      <td>542364</td>\n",
       "      <td>5089</td>\n",
       "      <td>67085</td>\n",
       "      <td>0.929578</td>\n",
       "      <td>12.254020</td>\n",
       "    </tr>\n",
       "    <tr>\n",
       "      <td>1</td>\n",
       "      <td>강동구</td>\n",
       "      <td>1879</td>\n",
       "      <td>883.0</td>\n",
       "      <td>144</td>\n",
       "      <td>194</td>\n",
       "      <td>273</td>\n",
       "      <td>385</td>\n",
       "      <td>112.797282</td>\n",
       "      <td>2018</td>\n",
       "      <td>431920</td>\n",
       "      <td>427573</td>\n",
       "      <td>4347</td>\n",
       "      <td>58770</td>\n",
       "      <td>1.006436</td>\n",
       "      <td>13.606686</td>\n",
       "    </tr>\n",
       "    <tr>\n",
       "      <td>2</td>\n",
       "      <td>강북구</td>\n",
       "      <td>1265</td>\n",
       "      <td>546.0</td>\n",
       "      <td>145</td>\n",
       "      <td>254</td>\n",
       "      <td>1</td>\n",
       "      <td>319</td>\n",
       "      <td>131.684982</td>\n",
       "      <td>2018</td>\n",
       "      <td>322915</td>\n",
       "      <td>319164</td>\n",
       "      <td>3751</td>\n",
       "      <td>58196</td>\n",
       "      <td>1.161606</td>\n",
       "      <td>18.022080</td>\n",
       "    </tr>\n",
       "  </tbody>\n",
       "</table>\n",
       "</div>"
      ],
      "text/plain": [
       "   자치구    소계  2014년도 이전  2015년  2016년  2017년  2018년       최신증가율    기간     인구수  \\\n",
       "0  강남구  5221     2885.0    546    765    577    448   80.970537  2018  547453   \n",
       "1  강동구  1879      883.0    144    194    273    385  112.797282  2018  431920   \n",
       "2  강북구  1265      546.0    145    254      1    319  131.684982  2018  322915   \n",
       "\n",
       "      한국인   외국인    고령자     외국인비율      고령자비율  \n",
       "0  542364  5089  67085  0.929578  12.254020  \n",
       "1  427573  4347  58770  1.006436  13.606686  \n",
       "2  319164  3751  58196  1.161606  18.022080  "
      ]
     },
     "execution_count": 53,
     "metadata": {},
     "output_type": "execute_result"
    }
   ],
   "source": [
    "data_result.head(3)"
   ]
  },
  {
   "cell_type": "code",
   "execution_count": 54,
   "metadata": {},
   "outputs": [
    {
     "data": {
      "text/html": [
       "<div>\n",
       "<style scoped>\n",
       "    .dataframe tbody tr th:only-of-type {\n",
       "        vertical-align: middle;\n",
       "    }\n",
       "\n",
       "    .dataframe tbody tr th {\n",
       "        vertical-align: top;\n",
       "    }\n",
       "\n",
       "    .dataframe thead th {\n",
       "        text-align: right;\n",
       "    }\n",
       "</style>\n",
       "<table border=\"1\" class=\"dataframe\">\n",
       "  <thead>\n",
       "    <tr style=\"text-align: right;\">\n",
       "      <th></th>\n",
       "      <th>소계</th>\n",
       "      <th>2014년도 이전</th>\n",
       "      <th>2015년</th>\n",
       "      <th>2016년</th>\n",
       "      <th>2017년</th>\n",
       "      <th>2018년</th>\n",
       "      <th>최신증가율</th>\n",
       "      <th>기간</th>\n",
       "      <th>인구수</th>\n",
       "      <th>한국인</th>\n",
       "      <th>외국인</th>\n",
       "      <th>고령자</th>\n",
       "      <th>외국인비율</th>\n",
       "      <th>고령자비율</th>\n",
       "    </tr>\n",
       "    <tr>\n",
       "      <th>자치구</th>\n",
       "      <th></th>\n",
       "      <th></th>\n",
       "      <th></th>\n",
       "      <th></th>\n",
       "      <th></th>\n",
       "      <th></th>\n",
       "      <th></th>\n",
       "      <th></th>\n",
       "      <th></th>\n",
       "      <th></th>\n",
       "      <th></th>\n",
       "      <th></th>\n",
       "      <th></th>\n",
       "      <th></th>\n",
       "    </tr>\n",
       "  </thead>\n",
       "  <tbody>\n",
       "    <tr>\n",
       "      <td>강남구</td>\n",
       "      <td>5221</td>\n",
       "      <td>2885.0</td>\n",
       "      <td>546</td>\n",
       "      <td>765</td>\n",
       "      <td>577</td>\n",
       "      <td>448</td>\n",
       "      <td>80.970537</td>\n",
       "      <td>2018</td>\n",
       "      <td>547453</td>\n",
       "      <td>542364</td>\n",
       "      <td>5089</td>\n",
       "      <td>67085</td>\n",
       "      <td>0.929578</td>\n",
       "      <td>12.254020</td>\n",
       "    </tr>\n",
       "    <tr>\n",
       "      <td>강동구</td>\n",
       "      <td>1879</td>\n",
       "      <td>883.0</td>\n",
       "      <td>144</td>\n",
       "      <td>194</td>\n",
       "      <td>273</td>\n",
       "      <td>385</td>\n",
       "      <td>112.797282</td>\n",
       "      <td>2018</td>\n",
       "      <td>431920</td>\n",
       "      <td>427573</td>\n",
       "      <td>4347</td>\n",
       "      <td>58770</td>\n",
       "      <td>1.006436</td>\n",
       "      <td>13.606686</td>\n",
       "    </tr>\n",
       "    <tr>\n",
       "      <td>강북구</td>\n",
       "      <td>1265</td>\n",
       "      <td>546.0</td>\n",
       "      <td>145</td>\n",
       "      <td>254</td>\n",
       "      <td>1</td>\n",
       "      <td>319</td>\n",
       "      <td>131.684982</td>\n",
       "      <td>2018</td>\n",
       "      <td>322915</td>\n",
       "      <td>319164</td>\n",
       "      <td>3751</td>\n",
       "      <td>58196</td>\n",
       "      <td>1.161606</td>\n",
       "      <td>18.022080</td>\n",
       "    </tr>\n",
       "    <tr>\n",
       "      <td>강서구</td>\n",
       "      <td>1617</td>\n",
       "      <td>722.0</td>\n",
       "      <td>187</td>\n",
       "      <td>190</td>\n",
       "      <td>264</td>\n",
       "      <td>254</td>\n",
       "      <td>123.961219</td>\n",
       "      <td>2018</td>\n",
       "      <td>603611</td>\n",
       "      <td>596949</td>\n",
       "      <td>6662</td>\n",
       "      <td>79660</td>\n",
       "      <td>1.103691</td>\n",
       "      <td>13.197241</td>\n",
       "    </tr>\n",
       "    <tr>\n",
       "      <td>관악구</td>\n",
       "      <td>3985</td>\n",
       "      <td>1392.0</td>\n",
       "      <td>609</td>\n",
       "      <td>619</td>\n",
       "      <td>694</td>\n",
       "      <td>671</td>\n",
       "      <td>186.278736</td>\n",
       "      <td>2018</td>\n",
       "      <td>520040</td>\n",
       "      <td>501957</td>\n",
       "      <td>18083</td>\n",
       "      <td>72249</td>\n",
       "      <td>3.477233</td>\n",
       "      <td>13.892970</td>\n",
       "    </tr>\n",
       "  </tbody>\n",
       "</table>\n",
       "</div>"
      ],
      "text/plain": [
       "       소계  2014년도 이전  2015년  2016년  2017년  2018년       최신증가율    기간     인구수  \\\n",
       "자치구                                                                          \n",
       "강남구  5221     2885.0    546    765    577    448   80.970537  2018  547453   \n",
       "강동구  1879      883.0    144    194    273    385  112.797282  2018  431920   \n",
       "강북구  1265      546.0    145    254      1    319  131.684982  2018  322915   \n",
       "강서구  1617      722.0    187    190    264    254  123.961219  2018  603611   \n",
       "관악구  3985     1392.0    609    619    694    671  186.278736  2018  520040   \n",
       "\n",
       "        한국인    외국인    고령자     외국인비율      고령자비율  \n",
       "자치구                                             \n",
       "강남구  542364   5089  67085  0.929578  12.254020  \n",
       "강동구  427573   4347  58770  1.006436  13.606686  \n",
       "강북구  319164   3751  58196  1.161606  18.022080  \n",
       "강서구  596949   6662  79660  1.103691  13.197241  \n",
       "관악구  501957  18083  72249  3.477233  13.892970  "
      ]
     },
     "execution_count": 54,
     "metadata": {},
     "output_type": "execute_result"
    }
   ],
   "source": [
    "# 자치구=> 인덱스로 적용 => 시각화를 위한 배치\n",
    "# 특정 컬럼을 인덱스로 적용\n",
    "data_result.set_index('자치구',inplace = True)\n",
    "data_result.head()"
   ]
  },
  {
   "cell_type": "markdown",
   "metadata": {},
   "source": [
    "### 상관성 검사 \n",
    "- 상관계수 : ~ 0 ~ 1  \n",
    "> 0.1 이하 : 거의 관련 없음, 무시  \n",
    "> 0.3 이하 : 약한 상관관계  \n",
    "> 0.7 이하 : 뚜렷한 상관관계  \n",
    "> ~이상  : 명확한 상관관계   \n",
    "- np.corroef()"
   ]
  },
  {
   "cell_type": "code",
   "execution_count": 55,
   "metadata": {},
   "outputs": [
    {
     "data": {
      "text/plain": [
       "Index(['소계', '2014년도 이전', '2015년', '2016년', '2017년', '2018년', '최신증가율', '기간',\n",
       "       '인구수', '한국인', '외국인', '고령자', '외국인비율', '고령자비율'],\n",
       "      dtype='object')"
      ]
     },
     "execution_count": 55,
     "metadata": {},
     "output_type": "execute_result"
    }
   ],
   "source": [
    "data_result.columns"
   ]
  },
  {
   "cell_type": "code",
   "execution_count": 56,
   "metadata": {},
   "outputs": [
    {
     "data": {
      "text/plain": [
       "array([[ 1.        , -0.40379375],\n",
       "       [-0.40379375,  1.        ]])"
      ]
     },
     "execution_count": 56,
     "metadata": {},
     "output_type": "execute_result"
    }
   ],
   "source": [
    "# CCTV 설치 총양 대비 고령자 비율\n",
    "np.corrcoef( data_result['고령자비율'], data_result['소계'] )\n",
    "#행렬로 응답, 대각선 기준 값이 출력"
   ]
  },
  {
   "cell_type": "code",
   "execution_count": 57,
   "metadata": {},
   "outputs": [],
   "source": [
    "# -0.40379375 => 관련 없음"
   ]
  },
  {
   "cell_type": "code",
   "execution_count": 58,
   "metadata": {},
   "outputs": [
    {
     "data": {
      "text/plain": [
       "array([[1.        , 0.37523207],\n",
       "       [0.37523207, 1.        ]])"
      ]
     },
     "execution_count": 58,
     "metadata": {},
     "output_type": "execute_result"
    }
   ],
   "source": [
    "np.corrcoef( data_result['인구수'], data_result['소계'] )\n",
    "# 0.37523207 : 뚜렷한 상관관계 (약한쪽에 가까운)"
   ]
  },
  {
   "cell_type": "code",
   "execution_count": 59,
   "metadata": {},
   "outputs": [
    {
     "data": {
      "text/plain": [
       "array([[ 1.        , -0.04143132],\n",
       "       [-0.04143132,  1.        ]])"
      ]
     },
     "execution_count": 59,
     "metadata": {},
     "output_type": "execute_result"
    }
   ],
   "source": [
    "np.corrcoef( data_result['외국인비율'], data_result['소계'] )"
   ]
  },
  {
   "cell_type": "code",
   "execution_count": 60,
   "metadata": {},
   "outputs": [
    {
     "data": {
      "text/plain": [
       "array([[1.       , 0.3580254],\n",
       "       [0.3580254, 1.       ]])"
      ]
     },
     "execution_count": 60,
     "metadata": {},
     "output_type": "execute_result"
    }
   ],
   "source": [
    "np.corrcoef( data_result['한국인'], data_result['소계'] )"
   ]
  },
  {
   "cell_type": "code",
   "execution_count": 61,
   "metadata": {},
   "outputs": [
    {
     "data": {
      "text/html": [
       "<div>\n",
       "<style scoped>\n",
       "    .dataframe tbody tr th:only-of-type {\n",
       "        vertical-align: middle;\n",
       "    }\n",
       "\n",
       "    .dataframe tbody tr th {\n",
       "        vertical-align: top;\n",
       "    }\n",
       "\n",
       "    .dataframe thead th {\n",
       "        text-align: right;\n",
       "    }\n",
       "</style>\n",
       "<table border=\"1\" class=\"dataframe\">\n",
       "  <thead>\n",
       "    <tr style=\"text-align: right;\">\n",
       "      <th></th>\n",
       "      <th>소계</th>\n",
       "      <th>2014년도 이전</th>\n",
       "      <th>2015년</th>\n",
       "      <th>2016년</th>\n",
       "      <th>2017년</th>\n",
       "      <th>2018년</th>\n",
       "      <th>최신증가율</th>\n",
       "      <th>기간</th>\n",
       "      <th>인구수</th>\n",
       "      <th>한국인</th>\n",
       "      <th>외국인</th>\n",
       "      <th>고령자</th>\n",
       "      <th>외국인비율</th>\n",
       "      <th>고령자비율</th>\n",
       "    </tr>\n",
       "    <tr>\n",
       "      <th>자치구</th>\n",
       "      <th></th>\n",
       "      <th></th>\n",
       "      <th></th>\n",
       "      <th></th>\n",
       "      <th></th>\n",
       "      <th></th>\n",
       "      <th></th>\n",
       "      <th></th>\n",
       "      <th></th>\n",
       "      <th></th>\n",
       "      <th></th>\n",
       "      <th></th>\n",
       "      <th></th>\n",
       "      <th></th>\n",
       "    </tr>\n",
       "  </thead>\n",
       "  <tbody>\n",
       "    <tr>\n",
       "      <td>강남구</td>\n",
       "      <td>5221</td>\n",
       "      <td>2885.0</td>\n",
       "      <td>546</td>\n",
       "      <td>765</td>\n",
       "      <td>577</td>\n",
       "      <td>448</td>\n",
       "      <td>80.970537</td>\n",
       "      <td>2018</td>\n",
       "      <td>547453</td>\n",
       "      <td>542364</td>\n",
       "      <td>5089</td>\n",
       "      <td>67085</td>\n",
       "      <td>0.929578</td>\n",
       "      <td>12.254020</td>\n",
       "    </tr>\n",
       "    <tr>\n",
       "      <td>관악구</td>\n",
       "      <td>3985</td>\n",
       "      <td>1392.0</td>\n",
       "      <td>609</td>\n",
       "      <td>619</td>\n",
       "      <td>694</td>\n",
       "      <td>671</td>\n",
       "      <td>186.278736</td>\n",
       "      <td>2018</td>\n",
       "      <td>520040</td>\n",
       "      <td>501957</td>\n",
       "      <td>18083</td>\n",
       "      <td>72249</td>\n",
       "      <td>3.477233</td>\n",
       "      <td>13.892970</td>\n",
       "    </tr>\n",
       "    <tr>\n",
       "      <td>구로구</td>\n",
       "      <td>3227</td>\n",
       "      <td>1607.0</td>\n",
       "      <td>268</td>\n",
       "      <td>326</td>\n",
       "      <td>540</td>\n",
       "      <td>486</td>\n",
       "      <td>100.808961</td>\n",
       "      <td>2018</td>\n",
       "      <td>438486</td>\n",
       "      <td>404497</td>\n",
       "      <td>33989</td>\n",
       "      <td>61801</td>\n",
       "      <td>7.751445</td>\n",
       "      <td>14.094179</td>\n",
       "    </tr>\n",
       "    <tr>\n",
       "      <td>성북구</td>\n",
       "      <td>3003</td>\n",
       "      <td>1408.0</td>\n",
       "      <td>279</td>\n",
       "      <td>388</td>\n",
       "      <td>285</td>\n",
       "      <td>643</td>\n",
       "      <td>113.281250</td>\n",
       "      <td>2018</td>\n",
       "      <td>447687</td>\n",
       "      <td>435868</td>\n",
       "      <td>11819</td>\n",
       "      <td>67782</td>\n",
       "      <td>2.640014</td>\n",
       "      <td>15.140489</td>\n",
       "    </tr>\n",
       "    <tr>\n",
       "      <td>은평구</td>\n",
       "      <td>2962</td>\n",
       "      <td>1890.0</td>\n",
       "      <td>180</td>\n",
       "      <td>296</td>\n",
       "      <td>229</td>\n",
       "      <td>367</td>\n",
       "      <td>56.719577</td>\n",
       "      <td>2018</td>\n",
       "      <td>487666</td>\n",
       "      <td>483197</td>\n",
       "      <td>4469</td>\n",
       "      <td>77420</td>\n",
       "      <td>0.916406</td>\n",
       "      <td>15.875620</td>\n",
       "    </tr>\n",
       "  </tbody>\n",
       "</table>\n",
       "</div>"
      ],
      "text/plain": [
       "       소계  2014년도 이전  2015년  2016년  2017년  2018년       최신증가율    기간     인구수  \\\n",
       "자치구                                                                          \n",
       "강남구  5221     2885.0    546    765    577    448   80.970537  2018  547453   \n",
       "관악구  3985     1392.0    609    619    694    671  186.278736  2018  520040   \n",
       "구로구  3227     1607.0    268    326    540    486  100.808961  2018  438486   \n",
       "성북구  3003     1408.0    279    388    285    643  113.281250  2018  447687   \n",
       "은평구  2962     1890.0    180    296    229    367   56.719577  2018  487666   \n",
       "\n",
       "        한국인    외국인    고령자     외국인비율      고령자비율  \n",
       "자치구                                             \n",
       "강남구  542364   5089  67085  0.929578  12.254020  \n",
       "관악구  501957  18083  72249  3.477233  13.892970  \n",
       "구로구  404497  33989  61801  7.751445  14.094179  \n",
       "성북구  435868  11819  67782  2.640014  15.140489  \n",
       "은평구  483197   4469  77420  0.916406  15.875620  "
      ]
     },
     "execution_count": 61,
     "metadata": {},
     "output_type": "execute_result"
    }
   ],
   "source": [
    "# CCTV가 많은 구 시각화를 한다 => 데이터가 정렬\n",
    "data_result.sort_values( by='소계', ascending = False ).head()"
   ]
  },
  {
   "cell_type": "markdown",
   "metadata": {},
   "source": [
    "## 시각화 기초\n",
    "\n",
    "<a href='http://localhost:8888/notebooks/Desktop/projects/analysis/pandas/basic/%EC%8B%9C%EA%B0%81%ED%99%94.ipynb'>시각화</a>\n",
    "<br>\n",
    "<a href='http://localhost:8888/notebooks/Dropbox/%ED%92%88%EC%A7%88%EC%9E%AC%EB%8B%A8/py_projects/analysis/pandas/basic/%EC%8B%9C%EA%B0%81%ED%99%94.ipynb'> poo_시각화</a>\n",
    "\n",
    "<br>\n",
    "<a href='http://localhost:8888/notebooks/Desktop/projects/analysis/pandas/basic/matplotlib_%EC%8B%9C%EA%B0%81%ED%99%94%EA%B8%B0%EC%B4%88.ipynb'>matplotlib의 기초 시각화</a>\n"
   ]
  },
  {
   "cell_type": "code",
   "execution_count": 62,
   "metadata": {},
   "outputs": [],
   "source": [
    "from matplotlib import pyplot as plt\n",
    "import matplotlib\n",
    "%matplotlib inline"
   ]
  },
  {
   "cell_type": "markdown",
   "metadata": {},
   "source": [
    "### 폰트\n",
    "\n",
    "<a href='http://localhost:8888/notebooks/Desktop/projects/analysis/pandas/cctv/korea_font.ipynb'>Korea_폰트</a>"
   ]
  },
  {
   "cell_type": "code",
   "execution_count": 63,
   "metadata": {},
   "outputs": [],
   "source": [
    "import platform\n",
    "from matplotlib import font_manager, rc\n",
    "\n",
    "get_ipython().run_line_magic('matplotlib', 'inline')\n",
    "\n",
    "def initKoreaFontLoad() :\n",
    "    plt.rcParams['axes.unicode_minus'] = False\n",
    "    os_name = platform.system()\n",
    "    \n",
    "    if os_name == 'Darwin' :\n",
    "        # MacOS, Linux\n",
    "        rc('font', family = 'AppleGothic')\n",
    "    elif os_name == 'Windows' :\n",
    "        # window10 ~ window server\n",
    "        path = 'c:/Windows/Fonts/malgun.ttf'\n",
    "        font_name = font_manager.FontProperties(fname=path).get_name()\n",
    "        print(font_name)\n",
    "        rc('font', family = font_name)\n",
    "    else :\n",
    "        print('알 수 없는 시스템')\n",
    "        pass\n",
    "    "
   ]
  },
  {
   "cell_type": "code",
   "execution_count": 64,
   "metadata": {
    "scrolled": true
   },
   "outputs": [
    {
     "name": "stdout",
     "output_type": "stream",
     "text": [
      "Malgun Gothic\n"
     ]
    }
   ],
   "source": [
    "initKoreaFontLoad()"
   ]
  },
  {
   "cell_type": "code",
   "execution_count": 65,
   "metadata": {},
   "outputs": [
    {
     "data": {
      "image/png": "[encoded data removed]",
      "text/plain": [
       "<Figure size 720x720 with 1 Axes>"
      ]
     },
     "metadata": {
      "needs_background": "light"
     },
     "output_type": "display_data"
    }
   ],
   "source": [
    "# 소계의 자치구별 바차트 시각화\n",
    "plt.figure()\n",
    "data_result['소계'].plot( kind = 'bar',grid = True, figsize = (10,10), rot=45 )\n",
    "plt.show()"
   ]
  },
  {
   "cell_type": "code",
   "execution_count": 66,
   "metadata": {},
   "outputs": [
    {
     "data": {
      "image/png": "[encoded data removed]",
      "text/plain": [
       "<Figure size 720x720 with 1 Axes>"
      ]
     },
     "metadata": {
      "needs_background": "light"
     },
     "output_type": "display_data"
    }
   ],
   "source": [
    "# 수평바 (kind='barh')\n",
    "plt.figure()\n",
    "data_result['소계'].plot( kind='barh', grid=True, figsize=(10,10))\n",
    "plt.show()"
   ]
  },
  {
   "cell_type": "code",
   "execution_count": 67,
   "metadata": {},
   "outputs": [
    {
     "data": {
      "image/png": "[encoded data removed]",
      "text/plain": [
       "<Figure size 720x720 with 1 Axes>"
      ]
     },
     "metadata": {
      "needs_background": "light"
     },
     "output_type": "display_data"
    }
   ],
   "source": [
    "# 강남, 관악, 구로구가 상위권을 차지하고 강남구는 그중애서 압도적으로 설치 대수가 많다.\n",
    "# 도봉구가 최소량의 설치 수를 가지고 있다. \n",
    "plt.figure()\n",
    "data_result['소계'].sort_values().plot( kind='barh', grid=True, figsize=(10,10))\n",
    "plt.show()"
   ]
  },
  {
   "cell_type": "code",
   "execution_count": 68,
   "metadata": {},
   "outputs": [
    {
     "data": {
      "image/png": "[encoded data removed]",
      "text/plain": [
       "<Figure size 720x720 with 1 Axes>"
      ]
     },
     "metadata": {
      "needs_background": "light"
     },
     "output_type": "display_data"
    }
   ],
   "source": [
    "# 인구대비 cctv 비율을 계산하여 정렬 ! \n",
    "# 컬럼명 => CCTV비율 계산 -> 정렬 => 시각화 (바차트 수평처리)\n",
    "data_result['CCTV비율']=data_result['소계']/ data_result['인구수']*100\n",
    "data_result['CCTV비율'].sort_values().plot( kind='barh', grid=True, figsize=(10,10))\n",
    "plt.xlabel('인구대비_CCTV비율')\n",
    "plt.show()"
   ]
  },
  {
   "cell_type": "code",
   "execution_count": 69,
   "metadata": {},
   "outputs": [
    {
     "data": {
      "image/png": "[encoded data removed]",
      "text/plain": [
       "<Figure size 432x432 with 1 Axes>"
      ]
     },
     "metadata": {
      "needs_background": "light"
     },
     "output_type": "display_data"
    }
   ],
   "source": [
    "# 산포도 , 평균선 작성 \n",
    "# 인구대비, CCTV 설치 비율이 가장 적정한 자치구는 ? \n",
    "plt.figure(figsize=(6,6))\n",
    "plt.scatter(data_result['인구수'],data_result['소계'], s = 50 )\n",
    "plt.xlabel('인구수')\n",
    "plt.ylabel('CCTV')\n",
    "plt.grid()\n",
    "plt.show()"
   ]
  },
  {
   "cell_type": "code",
   "execution_count": 70,
   "metadata": {},
   "outputs": [
    {
     "data": {
      "text/plain": [
       "array([2.85240371e-03, 1.07309855e+03])"
      ]
     },
     "execution_count": 70,
     "metadata": {},
     "output_type": "execute_result"
    }
   ],
   "source": [
    "# 위의 산포도 기준으로 데이터릐 분포를 설명할수있는 기울기가 1인 직선값을 찾는법 \n",
    "#polyfit()\n",
    "fp1 = np.polyfit(data_result['인구수'],data_result['소계'],1)\n",
    "# y = ax + b\n",
    "# a : 기울기\n",
    "# b : 절편\n",
    "fp1\n",
    "# >>> array([ 기울기, 절편 ])"
   ]
  },
  {
   "cell_type": "code",
   "execution_count": 71,
   "metadata": {},
   "outputs": [
    {
     "data": {
      "text/plain": [
       "numpy.poly1d"
      ]
     },
     "execution_count": 71,
     "metadata": {},
     "output_type": "execute_result"
    }
   ],
   "source": [
    "# 함수를 구성 \n",
    "f1 = np.poly1d (fp1) \n",
    "# 기울기 , 절편을 넣어서 함수를 생성\n",
    "type(f1)"
   ]
  },
  {
   "cell_type": "code",
   "execution_count": 72,
   "metadata": {},
   "outputs": [
    {
     "data": {
      "text/plain": [
       "100"
      ]
     },
     "execution_count": 72,
     "metadata": {},
     "output_type": "execute_result"
    }
   ],
   "source": [
    "# x축 데이터 \n",
    "# 100000(십만)~700000(칠십만)을  100개의 구간으로 나눈다.\n",
    "fx = np.linspace( 100000, 700000, 100 )\n",
    "len(fx)"
   ]
  },
  {
   "cell_type": "code",
   "execution_count": 73,
   "metadata": {},
   "outputs": [
    {
     "data": {
      "image/png": "[encoded data removed]",
      "text/plain": [
       "<Figure size 432x432 with 1 Axes>"
      ]
     },
     "metadata": {
      "needs_background": "light"
     },
     "output_type": "display_data"
    }
   ],
   "source": [
    "# 산포도 \n",
    "plt.figure(figsize = (6,6))\n",
    "plt.scatter(data_result['인구수'],data_result['소계'], s = 50 )\n",
    "# 인구수 대비 cctv의 수 (직선)\n",
    "plt.plot( fx, f1(fx), ls ='dashed', color='g', lw=3 )\n",
    "plt.xlabel('인구수')\n",
    "plt.ylabel('CCTV')\n",
    "plt.grid()\n",
    "plt.show()"
   ]
  },
  {
   "cell_type": "code",
   "execution_count": 74,
   "metadata": {},
   "outputs": [
    {
     "data": {
      "text/plain": [
       "array([2214.06003236])"
      ]
     },
     "execution_count": 74,
     "metadata": {},
     "output_type": "execute_result"
    }
   ],
   "source": [
    "# 직선은 대표 값이다. \n",
    "# 인구수 40만일때 적정 cctv 설치 대수는 2214이다. \n",
    "tmp = [400000]\n",
    "f1(tmp)"
   ]
  },
  {
   "cell_type": "code",
   "execution_count": 75,
   "metadata": {},
   "outputs": [],
   "source": [
    "# 산포도 포인트에 자치구를 표현 (텍스트 )\n",
    "# 대표 값 기준으로 포인트들의 거리를 계산해서 멀수록 색상을 진하게 혹은 연하게 철 \n",
    "# 색상으로도 설명할수 있도록 데코레이션 처리 "
   ]
  },
  {
   "cell_type": "code",
   "execution_count": 76,
   "metadata": {},
   "outputs": [
    {
     "data": {
      "image/png": "[encoded data removed]",
      "text/plain": [
       "<Figure size 720x720 with 1 Axes>"
      ]
     },
     "metadata": {
      "needs_background": "light"
     },
     "output_type": "display_data"
    }
   ],
   "source": [
    "# 산포도 \n",
    "plt.figure(figsize=(10,10))\n",
    "plt.scatter(data_result['인구수'], data_result['소계'], s=50 )\n",
    "plt.plot( fx, f1(fx), ls='dashed', color = 'g', lw = 3 )\n",
    "# 포인트에 자치구 명명 \n",
    "# 대상선정 , 좌표 \n",
    "# 현재는 전체를 드로잉 했으나, 향후 목적에 따라 특정 자치구만 노출 시킬수 있다.\n",
    "for n in range( data_result.shape[0] ):\n",
    "    plt.text(data_result['인구수'][n]*1.02,  # x\n",
    "             data_result['소계'][n]*0.98,   # y   \n",
    "             data_result.index[n],fontsize=10 # 텍스트, 폰트 사이즈 10  \n",
    "            )\n",
    "    \n",
    "plt.xlabel('인구수')\n",
    "plt.ylabel('CCTV')\n",
    "plt.grid()\n",
    "plt.show()"
   ]
  },
  {
   "cell_type": "code",
   "execution_count": 77,
   "metadata": {},
   "outputs": [
    {
     "data": {
      "text/plain": [
       "Index(['강남구', '강동구', '강북구', '강서구', '관악구', '광진구', '구로구', '금천구', '노원구', '도봉구',\n",
       "       '동대문구', '동작구', '마포구', '서대문구', '서초구', '성동구', '성북구', '송파구', '양천구', '영등포구',\n",
       "       '용산구', '은평구', '종로구', '중구', '중랑구'],\n",
       "      dtype='object', name='자치구')"
      ]
     },
     "execution_count": 77,
     "metadata": {},
     "output_type": "execute_result"
    }
   ],
   "source": [
    "data_result.index"
   ]
  },
  {
   "cell_type": "code",
   "execution_count": 78,
   "metadata": {},
   "outputs": [
    {
     "data": {
      "text/plain": [
       "자치구\n",
       "강남구     2586.344483\n",
       "강동구      426.108759\n",
       "강북구      729.182492\n",
       "강서구     1177.840805\n",
       "관악구     1428.537426\n",
       "광진구      550.520026\n",
       "구로구      903.162358\n",
       "금천구      163.668991\n",
       "노원구      730.672166\n",
       "도봉구     1189.619423\n",
       "동대문구     109.337611\n",
       "동작구      460.829841\n",
       "마포구      240.150393\n",
       "서대문구     126.346861\n",
       "서초구      512.083685\n",
       "성동구      703.221217\n",
       "성북구      652.917392\n",
       "송파구     1408.212414\n",
       "양천구      366.562917\n",
       "영등포구     270.671314\n",
       "용산구      290.805827\n",
       "은평구      497.881144\n",
       "종로구       67.114515\n",
       "중구        84.021380\n",
       "중랑구     1169.298565\n",
       "Name: 오차, dtype: float64"
      ]
     },
     "execution_count": 78,
     "metadata": {},
     "output_type": "execute_result"
    }
   ],
   "source": [
    "# 거리계산 , 오차 \n",
    "# 식 = 절대값| cctv수 - 해당인구수의 평균cctv수 |\n",
    "data_result['오차']=np.abs(  data_result['소계'] - f1(  data_result['인구수'] ) )\n",
    "data_result['오차']"
   ]
  },
  {
   "cell_type": "code",
   "execution_count": 79,
   "metadata": {},
   "outputs": [
    {
     "data": {
      "text/html": [
       "<div>\n",
       "<style scoped>\n",
       "    .dataframe tbody tr th:only-of-type {\n",
       "        vertical-align: middle;\n",
       "    }\n",
       "\n",
       "    .dataframe tbody tr th {\n",
       "        vertical-align: top;\n",
       "    }\n",
       "\n",
       "    .dataframe thead th {\n",
       "        text-align: right;\n",
       "    }\n",
       "</style>\n",
       "<table border=\"1\" class=\"dataframe\">\n",
       "  <thead>\n",
       "    <tr style=\"text-align: right;\">\n",
       "      <th></th>\n",
       "      <th>소계</th>\n",
       "      <th>2014년도 이전</th>\n",
       "      <th>2015년</th>\n",
       "      <th>2016년</th>\n",
       "      <th>2017년</th>\n",
       "      <th>2018년</th>\n",
       "      <th>최신증가율</th>\n",
       "      <th>기간</th>\n",
       "      <th>인구수</th>\n",
       "      <th>한국인</th>\n",
       "      <th>외국인</th>\n",
       "      <th>고령자</th>\n",
       "      <th>외국인비율</th>\n",
       "      <th>고령자비율</th>\n",
       "      <th>CCTV비율</th>\n",
       "      <th>오차</th>\n",
       "    </tr>\n",
       "    <tr>\n",
       "      <th>자치구</th>\n",
       "      <th></th>\n",
       "      <th></th>\n",
       "      <th></th>\n",
       "      <th></th>\n",
       "      <th></th>\n",
       "      <th></th>\n",
       "      <th></th>\n",
       "      <th></th>\n",
       "      <th></th>\n",
       "      <th></th>\n",
       "      <th></th>\n",
       "      <th></th>\n",
       "      <th></th>\n",
       "      <th></th>\n",
       "      <th></th>\n",
       "      <th></th>\n",
       "    </tr>\n",
       "  </thead>\n",
       "  <tbody>\n",
       "    <tr>\n",
       "      <td>강남구</td>\n",
       "      <td>5221</td>\n",
       "      <td>2885.0</td>\n",
       "      <td>546</td>\n",
       "      <td>765</td>\n",
       "      <td>577</td>\n",
       "      <td>448</td>\n",
       "      <td>80.970537</td>\n",
       "      <td>2018</td>\n",
       "      <td>547453</td>\n",
       "      <td>542364</td>\n",
       "      <td>5089</td>\n",
       "      <td>67085</td>\n",
       "      <td>0.929578</td>\n",
       "      <td>12.254020</td>\n",
       "      <td>0.953689</td>\n",
       "      <td>2586.344483</td>\n",
       "    </tr>\n",
       "    <tr>\n",
       "      <td>관악구</td>\n",
       "      <td>3985</td>\n",
       "      <td>1392.0</td>\n",
       "      <td>609</td>\n",
       "      <td>619</td>\n",
       "      <td>694</td>\n",
       "      <td>671</td>\n",
       "      <td>186.278736</td>\n",
       "      <td>2018</td>\n",
       "      <td>520040</td>\n",
       "      <td>501957</td>\n",
       "      <td>18083</td>\n",
       "      <td>72249</td>\n",
       "      <td>3.477233</td>\n",
       "      <td>13.892970</td>\n",
       "      <td>0.766287</td>\n",
       "      <td>1428.537426</td>\n",
       "    </tr>\n",
       "    <tr>\n",
       "      <td>송파구</td>\n",
       "      <td>1586</td>\n",
       "      <td>808.0</td>\n",
       "      <td>166</td>\n",
       "      <td>100</td>\n",
       "      <td>116</td>\n",
       "      <td>396</td>\n",
       "      <td>96.287129</td>\n",
       "      <td>2018</td>\n",
       "      <td>673507</td>\n",
       "      <td>666635</td>\n",
       "      <td>6872</td>\n",
       "      <td>81364</td>\n",
       "      <td>1.020331</td>\n",
       "      <td>12.080647</td>\n",
       "      <td>0.235484</td>\n",
       "      <td>1408.212414</td>\n",
       "    </tr>\n",
       "    <tr>\n",
       "      <td>도봉구</td>\n",
       "      <td>858</td>\n",
       "      <td>456.0</td>\n",
       "      <td>59</td>\n",
       "      <td>155</td>\n",
       "      <td>117</td>\n",
       "      <td>71</td>\n",
       "      <td>88.157895</td>\n",
       "      <td>2018</td>\n",
       "      <td>341649</td>\n",
       "      <td>339413</td>\n",
       "      <td>2236</td>\n",
       "      <td>55964</td>\n",
       "      <td>0.654473</td>\n",
       "      <td>16.380554</td>\n",
       "      <td>0.251135</td>\n",
       "      <td>1189.619423</td>\n",
       "    </tr>\n",
       "    <tr>\n",
       "      <td>강서구</td>\n",
       "      <td>1617</td>\n",
       "      <td>722.0</td>\n",
       "      <td>187</td>\n",
       "      <td>190</td>\n",
       "      <td>264</td>\n",
       "      <td>254</td>\n",
       "      <td>123.961219</td>\n",
       "      <td>2018</td>\n",
       "      <td>603611</td>\n",
       "      <td>596949</td>\n",
       "      <td>6662</td>\n",
       "      <td>79660</td>\n",
       "      <td>1.103691</td>\n",
       "      <td>13.197241</td>\n",
       "      <td>0.267888</td>\n",
       "      <td>1177.840805</td>\n",
       "    </tr>\n",
       "  </tbody>\n",
       "</table>\n",
       "</div>"
      ],
      "text/plain": [
       "       소계  2014년도 이전  2015년  2016년  2017년  2018년       최신증가율    기간     인구수  \\\n",
       "자치구                                                                          \n",
       "강남구  5221     2885.0    546    765    577    448   80.970537  2018  547453   \n",
       "관악구  3985     1392.0    609    619    694    671  186.278736  2018  520040   \n",
       "송파구  1586      808.0    166    100    116    396   96.287129  2018  673507   \n",
       "도봉구   858      456.0     59    155    117     71   88.157895  2018  341649   \n",
       "강서구  1617      722.0    187    190    264    254  123.961219  2018  603611   \n",
       "\n",
       "        한국인    외국인    고령자     외국인비율      고령자비율    CCTV비율           오차  \n",
       "자치구                                                                    \n",
       "강남구  542364   5089  67085  0.929578  12.254020  0.953689  2586.344483  \n",
       "관악구  501957  18083  72249  3.477233  13.892970  0.766287  1428.537426  \n",
       "송파구  666635   6872  81364  1.020331  12.080647  0.235484  1408.212414  \n",
       "도봉구  339413   2236  55964  0.654473  16.380554  0.251135  1189.619423  \n",
       "강서구  596949   6662  79660  1.103691  13.197241  0.267888  1177.840805  "
      ]
     },
     "execution_count": 79,
     "metadata": {},
     "output_type": "execute_result"
    }
   ],
   "source": [
    "df_sort = data_result.sort_values(by='오차', ascending = False )\n",
    "df_sort.head()"
   ]
  },
  {
   "cell_type": "code",
   "execution_count": 80,
   "metadata": {},
   "outputs": [
    {
     "data": {
      "image/png": "[encoded data removed]",
      "text/plain": [
       "<Figure size 1080x720 with 2 Axes>"
      ]
     },
     "metadata": {
      "needs_background": "light"
     },
     "output_type": "display_data"
    }
   ],
   "source": [
    "# 산포도\n",
    "plt.figure(figsize=(15,10))#(x>,y^)\n",
    "# 기존 식에 오차 추가 \n",
    "plt.scatter(data_result['인구수'], data_result['소계'], s=50 , c = data_result['오차'])\n",
    "plt.plot( fx, f1(fx), ls='dashed', color = 'g', lw = 3 )\n",
    "#오차기준 가장 큰값을 가진 자치구 3개와 작은 값을 가진 자치구 3개를 표현하시오 \n",
    "# 글자만 3개 3개 드로잉\n",
    "for n in range( data_result.shape[0] ):\n",
    "    plt.text(data_result['인구수'][n]*1.02,  # x\n",
    "             data_result['소계'][n]*0.98,   # y   \n",
    "             data_result.index[n],fontsize=10 # 텍스트, 폰트 사이즈 10  \n",
    "            )\n",
    "    \n",
    "plt.xlabel('인구수')\n",
    "plt.ylabel('CCTV')\n",
    "plt.colorbar() #컬러바 표현 \n",
    "plt.grid()\n",
    "plt.show()"
   ]
  },
  {
   "cell_type": "code",
   "execution_count": 81,
   "metadata": {},
   "outputs": [
    {
     "data": {
      "text/plain": [
       "['강남구', '관악구', '송파구']"
      ]
     },
     "execution_count": 81,
     "metadata": {},
     "output_type": "execute_result"
    }
   ],
   "source": [
    "# 오차 top3\n",
    "list(data_result.sort_values( by='오차', ascending=False ).index[:3])"
   ]
  },
  {
   "cell_type": "code",
   "execution_count": 82,
   "metadata": {},
   "outputs": [
    {
     "data": {
      "text/plain": [
       "['동대문구', '중구', '종로구']"
      ]
     },
     "execution_count": 82,
     "metadata": {},
     "output_type": "execute_result"
    }
   ],
   "source": [
    "list(data_result.sort_values( by='오차', ascending=False ).index[-3:])"
   ]
  },
  {
   "cell_type": "code",
   "execution_count": 83,
   "metadata": {},
   "outputs": [
    {
     "data": {
      "text/plain": [
       "['강남구', '관악구', '송파구', '동대문구', '중구', '종로구']"
      ]
     },
     "execution_count": 83,
     "metadata": {},
     "output_type": "execute_result"
    }
   ],
   "source": [
    "tmp    = data_result.sort_values( by='오차', ascending=False )\n",
    "target = list(tmp.index[:3]) + list(tmp.index[-3:])\n",
    "target\n",
    "#"
   ]
  },
  {
   "cell_type": "code",
   "execution_count": 84,
   "metadata": {},
   "outputs": [
    {
     "data": {
      "image/png": "[encoded data removed]",
      "text/plain": [
       "<Figure size 1080x720 with 2 Axes>"
      ]
     },
     "metadata": {
      "needs_background": "light"
     },
     "output_type": "display_data"
    }
   ],
   "source": [
    "# 산포도\n",
    "plt.figure(figsize=(15,10)) #(x>,y^)\n",
    "plt.scatter(data_result['인구수'], data_result['소계'], s=50 , c = data_result['오차'])\n",
    "plt.plot( fx, f1(fx), ls='dashed', color = 'g', lw = 3 )\n",
    "\n",
    "for n in range( data_result.shape[0] ):\n",
    "    if data_result.index[n] in target:\n",
    "        plt.text(data_result['인구수'][n]*1.02,  # x\n",
    "                data_result['소계'][n]*0.98,   # y   \n",
    "                data_result.index[n],\n",
    "                fontsize=10 # 텍스트, 폰트 사이즈 10  \n",
    "                )\n",
    "    \n",
    "plt.xlabel('인구수')\n",
    "plt.ylabel('CCTV')\n",
    "plt.colorbar() #컬러바 표현 \n",
    "plt.grid()\n",
    "plt.show()\n",
    "\n",
    "# 강남구, 관악구, 송파구는 인구대비 CCTV 현황이 현저히 크거나(2개), 작다(1개)\n",
    "# 이들은 예산 삭감및 증액등의 기존 지원 예산검토후 액션을 취해야 한다\n",
    "#, 중구, 종로구, 동대문구는 아주 효육적으로 CCTV를 증설해 왔다 => 포상개념 XX 지원하다"
   ]
  },
  {
   "cell_type": "code",
   "execution_count": 85,
   "metadata": {},
   "outputs": [],
   "source": [
    "# 자료 덤프\n",
    "data_result.to_csv( '../data/populate_per_cctv_analysis_result.csv', sep=',', \n",
    "                   encoding='utf-8' )"
   ]
  },
  {
   "cell_type": "code",
   "execution_count": 86,
   "metadata": {},
   "outputs": [],
   "source": [
    "# 자료 덤프가 무엇인가요 ?"
   ]
  },
  {
   "cell_type": "code",
   "execution_count": null,
   "metadata": {},
   "outputs": [],
   "source": []
  }
 ],
 "metadata": {
  "kernelspec": {
   "display_name": "Python 3",
   "language": "python",
   "name": "python3"
  },
  "language_info": {
   "codemirror_mode": {
    "name": "ipython",
    "version": 3
   },
   "file_extension": ".py",
   "mimetype": "text/x-python",
   "name": "python",
   "nbconvert_exporter": "python",
   "pygments_lexer": "ipython3",
   "version": "3.6.9"
  }
 },
 "nbformat": 4,
 "nbformat_minor": 2
}
