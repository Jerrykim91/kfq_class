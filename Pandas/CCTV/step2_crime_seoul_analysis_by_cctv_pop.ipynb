{
 "cells": [
  {
   "cell_type": "markdown",
   "metadata": {},
   "source": [
    "#### 1. 관서명, 살인발생, ... <= 컬럼명\n",
    "\n",
    "  | 관서명 | 살인발생 | 살인검거 |\n",
    "  | ------ | ------| ------ |\n",
    "  | 중부  |    2 |  2   |\n",
    " \n",
    "#### 2. 관서명(구분)이 인덱스, 살인발생, ... 컬럼명 \n",
    "\n",
    "   |살인발생|살인검거|\n",
    "   | ------| ------ |\n",
    "   |    2   |  2     |"
   ]
  },
  {
   "cell_type": "markdown",
   "metadata": {},
   "source": [
    "## 위의 형태로 Datafram이 나오게끔 \n",
    "### 2017년 csv를 읽어서 위의 형태로 구성하시오 "
   ]
  },
  {
   "cell_type": "code",
   "execution_count": 1,
   "metadata": {},
   "outputs": [],
   "source": [
    "import pandas as pd\n",
    "import numpy as np"
   ]
  },
  {
   "cell_type": "markdown",
   "metadata": {},
   "source": [
    "## 데이터 확득하기 \n",
    "[5대범죄현황](https://www.data.go.kr/dataset/3075835/fileData.do)\n",
    "폴더 이름을 seoul_crime 로 변경한 후 data 폴더에 저장\n",
    "### pandas를 이용해 데이터를 정리\n",
    "다운받은 파일을 변수에 저장한다."
   ]
  },
  {
   "cell_type": "code",
   "execution_count": 2,
   "metadata": {},
   "outputs": [
    {
     "data": {
      "text/plain": [
       "(310, 4)"
      ]
     },
     "execution_count": 2,
     "metadata": {},
     "output_type": "execute_result"
    }
   ],
   "source": [
    "# 한글명 제거 후 로드\n",
    "# pd.read_csv('../data/seoul_crime/2017.csv', encoding='euc-kr')\n",
    "# engine 옵션이 c, python으로 나눠져서 파싱을 하게 되는데 \n",
    "# 기본값이 c엔진이라 한글이 깨지는 경우가 있음\n",
    "# python 엔진으로 설정하면 파일명 및 파일 내용의 인코딩까지 자동으로 처리\n",
    "crime_raw_data = pd.read_csv('../data/seoul_crime/2017년.csv', engine='python')\n",
    "crime_raw_data.shape"
   ]
  },
  {
   "cell_type": "code",
   "execution_count": 3,
   "metadata": {},
   "outputs": [
    {
     "data": {
      "text/html": [
       "<div>\n",
       "<style scoped>\n",
       "    .dataframe tbody tr th:only-of-type {\n",
       "        vertical-align: middle;\n",
       "    }\n",
       "\n",
       "    .dataframe tbody tr th {\n",
       "        vertical-align: top;\n",
       "    }\n",
       "\n",
       "    .dataframe thead th {\n",
       "        text-align: right;\n",
       "    }\n",
       "</style>\n",
       "<table border=\"1\" class=\"dataframe\">\n",
       "  <thead>\n",
       "    <tr style=\"text-align: right;\">\n",
       "      <th></th>\n",
       "      <th>구분</th>\n",
       "      <th>죄종</th>\n",
       "      <th>발생검거</th>\n",
       "      <th>건수</th>\n",
       "    </tr>\n",
       "  </thead>\n",
       "  <tbody>\n",
       "    <tr>\n",
       "      <th>0</th>\n",
       "      <td>중부</td>\n",
       "      <td>살인</td>\n",
       "      <td>발생</td>\n",
       "      <td>0</td>\n",
       "    </tr>\n",
       "    <tr>\n",
       "      <th>1</th>\n",
       "      <td>중부</td>\n",
       "      <td>살인</td>\n",
       "      <td>검거</td>\n",
       "      <td>0</td>\n",
       "    </tr>\n",
       "    <tr>\n",
       "      <th>2</th>\n",
       "      <td>중부</td>\n",
       "      <td>강도</td>\n",
       "      <td>발생</td>\n",
       "      <td>6</td>\n",
       "    </tr>\n",
       "    <tr>\n",
       "      <th>3</th>\n",
       "      <td>중부</td>\n",
       "      <td>강도</td>\n",
       "      <td>검거</td>\n",
       "      <td>6</td>\n",
       "    </tr>\n",
       "    <tr>\n",
       "      <th>4</th>\n",
       "      <td>중부</td>\n",
       "      <td>강간</td>\n",
       "      <td>발생</td>\n",
       "      <td>173</td>\n",
       "    </tr>\n",
       "  </tbody>\n",
       "</table>\n",
       "</div>"
      ],
      "text/plain": [
       "   구분  죄종 발생검거   건수\n",
       "0  중부  살인   발생    0\n",
       "1  중부  살인   검거    0\n",
       "2  중부  강도   발생    6\n",
       "3  중부  강도   검거    6\n",
       "4  중부  강간   발생  173"
      ]
     },
     "execution_count": 3,
     "metadata": {},
     "output_type": "execute_result"
    }
   ],
   "source": [
    "crime_raw_data.head()"
   ]
  },
  {
   "cell_type": "markdown",
   "metadata": {},
   "source": [
    "- numpy \n",
    "\n",
    "    배열은 동일한 타입의 값들을 가지며, \n",
    "    배열의 차원을 rank 라 하고, \n",
    "    각 차원의 크기를 튜플로 표시하는 것을 shape 라 한다. \n",
    "    예를 들어, 행이 2이고 열이 3인 2차원 배열에서 rank는 2 이고,\n",
    "     shape는 (2, 3) 이 된다.\n",
    "     \n",
    " #### 총관할서의 수 = crime_raw_data.shape[0] / 10 => 31\n"
   ]
  },
  {
   "cell_type": "code",
   "execution_count": 5,
   "metadata": {},
   "outputs": [
    {
     "data": {
      "text/plain": [
       "31.0"
      ]
     },
     "execution_count": 5,
     "metadata": {},
     "output_type": "execute_result"
    }
   ],
   "source": [
    "# 5대 범죄 *2(발생, 검거) => 관할서당 데이터는 10개 \n",
    "crime_raw_data.shape[0]/10"
   ]
  },
  {
   "cell_type": "code",
   "execution_count": 6,
   "metadata": {},
   "outputs": [
    {
     "data": {
      "text/plain": [
       "(31, 10)"
      ]
     },
     "execution_count": 6,
     "metadata": {},
     "output_type": "execute_result"
    }
   ],
   "source": [
    "# 그러므로 데이터 구조의 데이터 수는 (31,10) 이런 형태로 출력되면 OK\n",
    "tmp = pd.pivot_table( crime_raw_data,\n",
    "                     index = ['구분'],\n",
    "                     columns = ['죄종','발생검거']\n",
    "                    )\n",
    "tmp.shape"
   ]
  },
  {
   "cell_type": "code",
   "execution_count": 7,
   "metadata": {},
   "outputs": [
    {
     "data": {
      "text/html": [
       "<div>\n",
       "<style scoped>\n",
       "    .dataframe tbody tr th:only-of-type {\n",
       "        vertical-align: middle;\n",
       "    }\n",
       "\n",
       "    .dataframe tbody tr th {\n",
       "        vertical-align: top;\n",
       "    }\n",
       "\n",
       "    .dataframe thead tr th {\n",
       "        text-align: left;\n",
       "    }\n",
       "\n",
       "    .dataframe thead tr:last-of-type th {\n",
       "        text-align: right;\n",
       "    }\n",
       "</style>\n",
       "<table border=\"1\" class=\"dataframe\">\n",
       "  <thead>\n",
       "    <tr>\n",
       "      <th></th>\n",
       "      <th colspan=\"10\" halign=\"left\">건수</th>\n",
       "    </tr>\n",
       "    <tr>\n",
       "      <th>죄종</th>\n",
       "      <th colspan=\"2\" halign=\"left\">강간</th>\n",
       "      <th colspan=\"2\" halign=\"left\">강도</th>\n",
       "      <th colspan=\"2\" halign=\"left\">살인</th>\n",
       "      <th colspan=\"2\" halign=\"left\">절도</th>\n",
       "      <th colspan=\"2\" halign=\"left\">폭력</th>\n",
       "    </tr>\n",
       "    <tr>\n",
       "      <th>발생검거</th>\n",
       "      <th>검거</th>\n",
       "      <th>발생</th>\n",
       "      <th>검거</th>\n",
       "      <th>발생</th>\n",
       "      <th>검거</th>\n",
       "      <th>발생</th>\n",
       "      <th>검거</th>\n",
       "      <th>발생</th>\n",
       "      <th>검거</th>\n",
       "      <th>발생</th>\n",
       "    </tr>\n",
       "    <tr>\n",
       "      <th>구분</th>\n",
       "      <th></th>\n",
       "      <th></th>\n",
       "      <th></th>\n",
       "      <th></th>\n",
       "      <th></th>\n",
       "      <th></th>\n",
       "      <th></th>\n",
       "      <th></th>\n",
       "      <th></th>\n",
       "      <th></th>\n",
       "    </tr>\n",
       "  </thead>\n",
       "  <tbody>\n",
       "    <tr>\n",
       "      <th>강남</th>\n",
       "      <td>366</td>\n",
       "      <td>456</td>\n",
       "      <td>16</td>\n",
       "      <td>13</td>\n",
       "      <td>6</td>\n",
       "      <td>6</td>\n",
       "      <td>787</td>\n",
       "      <td>2069</td>\n",
       "      <td>1942</td>\n",
       "      <td>2229</td>\n",
       "    </tr>\n",
       "    <tr>\n",
       "      <th>강동</th>\n",
       "      <td>169</td>\n",
       "      <td>172</td>\n",
       "      <td>12</td>\n",
       "      <td>10</td>\n",
       "      <td>6</td>\n",
       "      <td>5</td>\n",
       "      <td>949</td>\n",
       "      <td>1645</td>\n",
       "      <td>2109</td>\n",
       "      <td>2429</td>\n",
       "    </tr>\n",
       "  </tbody>\n",
       "</table>\n",
       "</div>"
      ],
      "text/plain": [
       "       건수                                          \n",
       "죄종     강간       강도     살인      절도          폭력      \n",
       "발생검거   검거   발생  검거  발생 검거 발생   검거    발생    검거    발생\n",
       "구분                                                 \n",
       "강남    366  456  16  13  6  6  787  2069  1942  2229\n",
       "강동    169  172  12  10  6  5  949  1645  2109  2429"
      ]
     },
     "execution_count": 7,
     "metadata": {},
     "output_type": "execute_result"
    }
   ],
   "source": [
    "tmp.head(2)"
   ]
  },
  {
   "cell_type": "code",
   "execution_count": 9,
   "metadata": {},
   "outputs": [
    {
     "data": {
      "text/plain": [
       "MultiIndex([('건수', '강간', '검거'),\n",
       "            ('건수', '강간', '발생'),\n",
       "            ('건수', '강도', '검거'),\n",
       "            ('건수', '강도', '발생'),\n",
       "            ('건수', '살인', '검거'),\n",
       "            ('건수', '살인', '발생'),\n",
       "            ('건수', '절도', '검거'),\n",
       "            ('건수', '절도', '발생'),\n",
       "            ('건수', '폭력', '검거'),\n",
       "            ('건수', '폭력', '발생')],\n",
       "           names=[None, '죄종', '발생검거'])"
      ]
     },
     "execution_count": 9,
     "metadata": {},
     "output_type": "execute_result"
    }
   ],
   "source": [
    "tmp.columns"
   ]
  },
  {
   "cell_type": "code",
   "execution_count": 10,
   "metadata": {},
   "outputs": [
    {
     "data": {
      "text/plain": [
       "Index(['건수'], dtype='object')"
      ]
     },
     "execution_count": 10,
     "metadata": {},
     "output_type": "execute_result"
    }
   ],
   "source": [
    "tmp.columns.levels[0]"
   ]
  },
  {
   "cell_type": "code",
   "execution_count": 11,
   "metadata": {},
   "outputs": [
    {
     "data": {
      "text/plain": [
       "Index(['강간', '강도', '살인', '절도', '폭력'], dtype='object', name='죄종')"
      ]
     },
     "execution_count": 11,
     "metadata": {},
     "output_type": "execute_result"
    }
   ],
   "source": [
    "tmp.columns.levels[1]"
   ]
  },
  {
   "cell_type": "code",
   "execution_count": 9,
   "metadata": {},
   "outputs": [
    {
     "data": {
      "text/plain": [
       "Index(['검거', '발생'], dtype='object', name='발생검거')"
      ]
     },
     "execution_count": 9,
     "metadata": {},
     "output_type": "execute_result"
    }
   ],
   "source": [
    "tmp.columns.levels[2]"
   ]
  },
  {
   "cell_type": "code",
   "execution_count": 12,
   "metadata": {},
   "outputs": [
    {
     "data": {
      "text/plain": [
       "['강간검거',\n",
       " '강간발생',\n",
       " '강도검거',\n",
       " '강도발생',\n",
       " '살인검거',\n",
       " '살인발생',\n",
       " '절도검거',\n",
       " '절도발생',\n",
       " '폭력검거',\n",
       " '폭력발생']"
      ]
     },
     "execution_count": 12,
     "metadata": {},
     "output_type": "execute_result"
    }
   ],
   "source": [
    "# 새로 규정된 컬럼명 생성하기 \n",
    "# 리스트 컴프리헨션\n",
    "new_cols =[ fStr + bStr\n",
    "          for fStr in tmp.columns.levels[1]\n",
    "          for bStr in tmp.columns.levels[2]\n",
    "          ]\n",
    "new_cols"
   ]
  },
  {
   "cell_type": "code",
   "execution_count": 13,
   "metadata": {},
   "outputs": [],
   "source": [
    "# 전체 컬럼명을 변경하는 방법을 덮어버려라(순서주의)\n",
    "# 아 이런 방법도 되는구나 .... ㅇ.ㅇ \n",
    "tmp.columns = new_cols"
   ]
  },
  {
   "cell_type": "code",
   "execution_count": 16,
   "metadata": {},
   "outputs": [
    {
     "data": {
      "text/plain": [
       "Index(['강간검거', '강간발생', '강도검거', '강도발생', '살인검거', '살인발생', '절도검거', '절도발생', '폭력검거',\n",
       "       '폭력발생'],\n",
       "      dtype='object')"
      ]
     },
     "execution_count": 16,
     "metadata": {},
     "output_type": "execute_result"
    }
   ],
   "source": [
    "tmp.columns"
   ]
  },
  {
   "cell_type": "code",
   "execution_count": 17,
   "metadata": {},
   "outputs": [
    {
     "data": {
      "text/html": [
       "<div>\n",
       "<style scoped>\n",
       "    .dataframe tbody tr th:only-of-type {\n",
       "        vertical-align: middle;\n",
       "    }\n",
       "\n",
       "    .dataframe tbody tr th {\n",
       "        vertical-align: top;\n",
       "    }\n",
       "\n",
       "    .dataframe thead th {\n",
       "        text-align: right;\n",
       "    }\n",
       "</style>\n",
       "<table border=\"1\" class=\"dataframe\">\n",
       "  <thead>\n",
       "    <tr style=\"text-align: right;\">\n",
       "      <th></th>\n",
       "      <th>강간검거</th>\n",
       "      <th>강간발생</th>\n",
       "      <th>강도검거</th>\n",
       "      <th>강도발생</th>\n",
       "      <th>살인검거</th>\n",
       "      <th>살인발생</th>\n",
       "      <th>절도검거</th>\n",
       "      <th>절도발생</th>\n",
       "      <th>폭력검거</th>\n",
       "      <th>폭력발생</th>\n",
       "    </tr>\n",
       "    <tr>\n",
       "      <th>구분</th>\n",
       "      <th></th>\n",
       "      <th></th>\n",
       "      <th></th>\n",
       "      <th></th>\n",
       "      <th></th>\n",
       "      <th></th>\n",
       "      <th></th>\n",
       "      <th></th>\n",
       "      <th></th>\n",
       "      <th></th>\n",
       "    </tr>\n",
       "  </thead>\n",
       "  <tbody>\n",
       "    <tr>\n",
       "      <th>강남</th>\n",
       "      <td>366</td>\n",
       "      <td>456</td>\n",
       "      <td>16</td>\n",
       "      <td>13</td>\n",
       "      <td>6</td>\n",
       "      <td>6</td>\n",
       "      <td>787</td>\n",
       "      <td>2069</td>\n",
       "      <td>1942</td>\n",
       "      <td>2229</td>\n",
       "    </tr>\n",
       "    <tr>\n",
       "      <th>강동</th>\n",
       "      <td>169</td>\n",
       "      <td>172</td>\n",
       "      <td>12</td>\n",
       "      <td>10</td>\n",
       "      <td>6</td>\n",
       "      <td>5</td>\n",
       "      <td>949</td>\n",
       "      <td>1645</td>\n",
       "      <td>2109</td>\n",
       "      <td>2429</td>\n",
       "    </tr>\n",
       "  </tbody>\n",
       "</table>\n",
       "</div>"
      ],
      "text/plain": [
       "    강간검거  강간발생  강도검거  강도발생  살인검거  살인발생  절도검거  절도발생  폭력검거  폭력발생\n",
       "구분                                                            \n",
       "강남   366   456    16    13     6     6   787  2069  1942  2229\n",
       "강동   169   172    12    10     6     5   949  1645  2109  2429"
      ]
     },
     "execution_count": 17,
     "metadata": {},
     "output_type": "execute_result"
    }
   ],
   "source": [
    "tmp.head(2)"
   ]
  },
  {
   "cell_type": "code",
   "execution_count": 18,
   "metadata": {},
   "outputs": [],
   "source": [
    "crime_data = tmp[:]"
   ]
  },
  {
   "cell_type": "code",
   "execution_count": 19,
   "metadata": {},
   "outputs": [
    {
     "data": {
      "text/html": [
       "<div>\n",
       "<style scoped>\n",
       "    .dataframe tbody tr th:only-of-type {\n",
       "        vertical-align: middle;\n",
       "    }\n",
       "\n",
       "    .dataframe tbody tr th {\n",
       "        vertical-align: top;\n",
       "    }\n",
       "\n",
       "    .dataframe thead th {\n",
       "        text-align: right;\n",
       "    }\n",
       "</style>\n",
       "<table border=\"1\" class=\"dataframe\">\n",
       "  <thead>\n",
       "    <tr style=\"text-align: right;\">\n",
       "      <th></th>\n",
       "      <th>강간검거</th>\n",
       "      <th>강간발생</th>\n",
       "      <th>강도검거</th>\n",
       "      <th>강도발생</th>\n",
       "      <th>살인검거</th>\n",
       "      <th>살인발생</th>\n",
       "      <th>절도검거</th>\n",
       "      <th>절도발생</th>\n",
       "      <th>폭력검거</th>\n",
       "      <th>폭력발생</th>\n",
       "    </tr>\n",
       "    <tr>\n",
       "      <th>구분</th>\n",
       "      <th></th>\n",
       "      <th></th>\n",
       "      <th></th>\n",
       "      <th></th>\n",
       "      <th></th>\n",
       "      <th></th>\n",
       "      <th></th>\n",
       "      <th></th>\n",
       "      <th></th>\n",
       "      <th></th>\n",
       "    </tr>\n",
       "  </thead>\n",
       "  <tbody>\n",
       "    <tr>\n",
       "      <th>강남</th>\n",
       "      <td>366</td>\n",
       "      <td>456</td>\n",
       "      <td>16</td>\n",
       "      <td>13</td>\n",
       "      <td>6</td>\n",
       "      <td>6</td>\n",
       "      <td>787</td>\n",
       "      <td>2069</td>\n",
       "      <td>1942</td>\n",
       "      <td>2229</td>\n",
       "    </tr>\n",
       "    <tr>\n",
       "      <th>강동</th>\n",
       "      <td>169</td>\n",
       "      <td>172</td>\n",
       "      <td>12</td>\n",
       "      <td>10</td>\n",
       "      <td>6</td>\n",
       "      <td>5</td>\n",
       "      <td>949</td>\n",
       "      <td>1645</td>\n",
       "      <td>2109</td>\n",
       "      <td>2429</td>\n",
       "    </tr>\n",
       "  </tbody>\n",
       "</table>\n",
       "</div>"
      ],
      "text/plain": [
       "    강간검거  강간발생  강도검거  강도발생  살인검거  살인발생  절도검거  절도발생  폭력검거  폭력발생\n",
       "구분                                                            \n",
       "강남   366   456    16    13     6     6   787  2069  1942  2229\n",
       "강동   169   172    12    10     6     5   949  1645  2109  2429"
      ]
     },
     "execution_count": 19,
     "metadata": {},
     "output_type": "execute_result"
    }
   ],
   "source": [
    "crime_data.head(2)"
   ]
  },
  {
   "cell_type": "code",
   "execution_count": null,
   "metadata": {},
   "outputs": [],
   "source": []
  },
  {
   "cell_type": "code",
   "execution_count": 20,
   "metadata": {},
   "outputs": [],
   "source": [
    "import urllib.request\n",
    "import json"
   ]
  },
  {
   "cell_type": "markdown",
   "metadata": {},
   "source": [
    "관할서 이름 => 풀네이밍 구성 , 강남 => 서울 강남경찰서 <br>\n",
    "서울강남경찰서 => gps 확득 => kakako api 이용 <br>\n",
    "서울 강남경찰서 => address => 자치구 정보 확득 (1개 관할서는 보정) <br>"
   ]
  },
  {
   "cell_type": "code",
   "execution_count": null,
   "metadata": {},
   "outputs": [],
   "source": [
    "# 내 아이디 비번 -> 메인 \n",
    "#API\n",
    "# API_KEY = 'e9b0c47a85dc59ef81ded67e650da5c8' \n",
    "# # 이거 REST API 키값 - 내꺼 \n",
    "# url     = 'https://dapi.kakao.com/v2/local/search/keyword.json?query={}'"
   ]
  },
  {
   "cell_type": "code",
   "execution_count": 16,
   "metadata": {},
   "outputs": [
    {
     "name": "stdout",
     "output_type": "stream",
     "text": [
      "서울강남경찰서\n",
      "https://dapi.kakao.com/v2/local/search/keyword.json?query=%EC%84%9C%EC%9A%B8%EA%B0%95%EB%82%A8%EA%B2%BD%EC%B0%B0%EC%84%9C\n",
      "37.5093899463715 127.067070541137 서울 강남구 대치동 998\n",
      "서울강동경찰서\n",
      "https://dapi.kakao.com/v2/local/search/keyword.json?query=%EC%84%9C%EC%9A%B8%EA%B0%95%EB%8F%99%EA%B2%BD%EC%B0%B0%EC%84%9C\n",
      "37.5286763457485 127.126894359114 서울 강동구 성내동 541-1\n",
      "서울강북경찰서\n",
      "https://dapi.kakao.com/v2/local/search/keyword.json?query=%EC%84%9C%EC%9A%B8%EA%B0%95%EB%B6%81%EA%B2%BD%EC%B0%B0%EC%84%9C\n",
      "37.637408362838 127.027340967017 서울 강북구 번동 415-15\n",
      "서울강서경찰서\n",
      "https://dapi.kakao.com/v2/local/search/keyword.json?query=%EC%84%9C%EC%9A%B8%EA%B0%95%EC%84%9C%EA%B2%BD%EC%B0%B0%EC%84%9C\n",
      "37.5397837301896 126.829985881518 서울 양천구 신월동 25\n",
      "서울관악경찰서\n",
      "https://dapi.kakao.com/v2/local/search/keyword.json?query=%EC%84%9C%EC%9A%B8%EA%B4%80%EC%95%85%EA%B2%BD%EC%B0%B0%EC%84%9C\n",
      "37.4745875338795 126.951062346192 서울 관악구 봉천동 1695-5\n",
      "서울광진경찰서\n",
      "https://dapi.kakao.com/v2/local/search/keyword.json?query=%EC%84%9C%EC%9A%B8%EA%B4%91%EC%A7%84%EA%B2%BD%EC%B0%B0%EC%84%9C\n",
      "37.5428136101647 127.083842771963 서울 광진구 구의동 254-32\n",
      "서울구로경찰서\n",
      "https://dapi.kakao.com/v2/local/search/keyword.json?query=%EC%84%9C%EC%9A%B8%EA%B5%AC%EB%A1%9C%EA%B2%BD%EC%B0%B0%EC%84%9C\n",
      "37.4948844667899 126.886660285169 서울 구로구 구로동 436\n",
      "서울금천경찰서\n",
      "https://dapi.kakao.com/v2/local/search/keyword.json?query=%EC%84%9C%EC%9A%B8%EA%B8%88%EC%B2%9C%EA%B2%BD%EC%B0%B0%EC%84%9C\n",
      "37.45725314643252 126.89674921449215 서울 금천구 시흥동 산 189\n",
      "서울남대문경찰서\n",
      "https://dapi.kakao.com/v2/local/search/keyword.json?query=%EC%84%9C%EC%9A%B8%EB%82%A8%EB%8C%80%EB%AC%B8%EA%B2%BD%EC%B0%B0%EC%84%9C\n",
      "37.5549786547527 126.973499492486 서울 중구 남대문로5가 561\n",
      "서울노원경찰서\n",
      "https://dapi.kakao.com/v2/local/search/keyword.json?query=%EC%84%9C%EC%9A%B8%EB%85%B8%EC%9B%90%EA%B2%BD%EC%B0%B0%EC%84%9C\n",
      "37.6423345266253 127.071404832413 서울 노원구 하계동 250\n",
      "서울도봉경찰서\n",
      "https://dapi.kakao.com/v2/local/search/keyword.json?query=%EC%84%9C%EC%9A%B8%EB%8F%84%EB%B4%89%EA%B2%BD%EC%B0%B0%EC%84%9C\n",
      "37.6533976253312 127.052708256522 서울 도봉구 창동 17\n",
      "서울동대문경찰서\n",
      "https://dapi.kakao.com/v2/local/search/keyword.json?query=%EC%84%9C%EC%9A%B8%EB%8F%99%EB%8C%80%EB%AC%B8%EA%B2%BD%EC%B0%B0%EC%84%9C\n",
      "37.5850804205685 127.045762797538 서울 동대문구 청량리동 229\n",
      "서울동작경찰서\n",
      "https://dapi.kakao.com/v2/local/search/keyword.json?query=%EC%84%9C%EC%9A%B8%EB%8F%99%EC%9E%91%EA%B2%BD%EC%B0%B0%EC%84%9C\n",
      "37.5131469479959 126.942857105642 서울 동작구 노량진동 72-35\n",
      "서울마포경찰서\n",
      "https://dapi.kakao.com/v2/local/search/keyword.json?query=%EC%84%9C%EC%9A%B8%EB%A7%88%ED%8F%AC%EA%B2%BD%EC%B0%B0%EC%84%9C\n",
      "37.5510118582052 126.95394117396 서울 마포구 아현동 618-1\n",
      "서울방배경찰서\n",
      "https://dapi.kakao.com/v2/local/search/keyword.json?query=%EC%84%9C%EC%9A%B8%EB%B0%A9%EB%B0%B0%EA%B2%BD%EC%B0%B0%EC%84%9C\n",
      "37.48155944749938 126.98300906928465 서울 서초구 방배동 455-10\n",
      "서울서대문경찰서\n",
      "https://dapi.kakao.com/v2/local/search/keyword.json?query=%EC%84%9C%EC%9A%B8%EC%84%9C%EB%8C%80%EB%AC%B8%EA%B2%BD%EC%B0%B0%EC%84%9C\n",
      "37.5649023404956 126.966790740735 서울 서대문구 미근동 165\n",
      "서울서부경찰서\n",
      "https://dapi.kakao.com/v2/local/search/keyword.json?query=%EC%84%9C%EC%9A%B8%EC%84%9C%EB%B6%80%EA%B2%BD%EC%B0%B0%EC%84%9C\n",
      "37.61273115700761 126.9276766277499 서울 은평구 대조동 2-9\n",
      "서울서초경찰서\n",
      "https://dapi.kakao.com/v2/local/search/keyword.json?query=%EC%84%9C%EC%9A%B8%EC%84%9C%EC%B4%88%EA%B2%BD%EC%B0%B0%EC%84%9C\n",
      "37.4956126696023 127.00528776133 서울 서초구 서초동 1726-1\n",
      "서울성동경찰서\n",
      "https://dapi.kakao.com/v2/local/search/keyword.json?query=%EC%84%9C%EC%9A%B8%EC%84%B1%EB%8F%99%EA%B2%BD%EC%B0%B0%EC%84%9C\n",
      "37.5617947420747 127.036472076258 서울 성동구 행당동 192-8\n",
      "서울성북경찰서\n",
      "https://dapi.kakao.com/v2/local/search/keyword.json?query=%EC%84%9C%EC%9A%B8%EC%84%B1%EB%B6%81%EA%B2%BD%EC%B0%B0%EC%84%9C\n",
      "37.5897697305228 127.016254625261 서울 성북구 삼선동5가 301\n",
      "서울송파경찰서\n",
      "https://dapi.kakao.com/v2/local/search/keyword.json?query=%EC%84%9C%EC%9A%B8%EC%86%A1%ED%8C%8C%EA%B2%BD%EC%B0%B0%EC%84%9C\n",
      "37.5019775317251 127.127161296581 서울 송파구 가락동 9\n",
      "서울수서경찰서\n",
      "https://dapi.kakao.com/v2/local/search/keyword.json?query=%EC%84%9C%EC%9A%B8%EC%88%98%EC%84%9C%EA%B2%BD%EC%B0%B0%EC%84%9C\n",
      "37.4934972653425 127.077143044327 서울 강남구 개포동 14\n",
      "서울양천경찰서\n",
      "https://dapi.kakao.com/v2/local/search/keyword.json?query=%EC%84%9C%EC%9A%B8%EC%96%91%EC%B2%9C%EA%B2%BD%EC%B0%B0%EC%84%9C\n",
      "37.5165549067037 126.865542970902 서울 양천구 신정동 321\n",
      "서울영등포경찰서\n",
      "https://dapi.kakao.com/v2/local/search/keyword.json?query=%EC%84%9C%EC%9A%B8%EC%98%81%EB%93%B1%ED%8F%AC%EA%B2%BD%EC%B0%B0%EC%84%9C\n",
      "37.52585220719 126.90094457988 서울 영등포구 당산동3가 2-11\n",
      "서울용산경찰서\n",
      "https://dapi.kakao.com/v2/local/search/keyword.json?query=%EC%84%9C%EC%9A%B8%EC%9A%A9%EC%82%B0%EA%B2%BD%EC%B0%B0%EC%84%9C\n",
      "37.5411811395942 126.967778896191 서울 용산구 원효로1가 12-12\n",
      "서울은평경찰서\n",
      "https://dapi.kakao.com/v2/local/search/keyword.json?query=%EC%84%9C%EC%9A%B8%EC%9D%80%ED%8F%89%EA%B2%BD%EC%B0%B0%EC%84%9C\n",
      "37.6285242467996 126.928631038584 서울 은평구 불광동 산 24\n",
      "서울종로경찰서\n",
      "https://dapi.kakao.com/v2/local/search/keyword.json?query=%EC%84%9C%EC%9A%B8%EC%A2%85%EB%A1%9C%EA%B2%BD%EC%B0%B0%EC%84%9C\n",
      "37.5755413947569 126.984898618166 서울 종로구 경운동 90-18\n",
      "서울종암경찰서\n",
      "https://dapi.kakao.com/v2/local/search/keyword.json?query=%EC%84%9C%EC%9A%B8%EC%A2%85%EC%95%94%EA%B2%BD%EC%B0%B0%EC%84%9C\n",
      "37.602095614954 127.032233767891 서울 성북구 종암동 3-1260\n",
      "서울중랑경찰서\n",
      "https://dapi.kakao.com/v2/local/search/keyword.json?query=%EC%84%9C%EC%9A%B8%EC%A4%91%EB%9E%91%EA%B2%BD%EC%B0%B0%EC%84%9C\n",
      "37.6182390801576 127.10454224897 서울 중랑구 신내동 810\n",
      "서울중부경찰서\n",
      "https://dapi.kakao.com/v2/local/search/keyword.json?query=%EC%84%9C%EC%9A%B8%EC%A4%91%EB%B6%80%EA%B2%BD%EC%B0%B0%EC%84%9C\n",
      "37.5636199296203 126.98959144113 서울 중구 저동2가 62-1\n",
      "서울혜화경찰서\n",
      "https://dapi.kakao.com/v2/local/search/keyword.json?query=%EC%84%9C%EC%9A%B8%ED%98%9C%ED%99%94%EA%B2%BD%EC%B0%B0%EC%84%9C\n",
      "37.5718915247338 126.998935936567 서울 종로구 인의동 48-57\n"
     ]
    }
   ],
   "source": [
    "# 정보\n",
    "API_KEY = 'e34bb81e2e35e85ca6efee410badd670'\n",
    "url     = 'https://dapi.kakao.com/v2/local/search/keyword.json?query={}'\n",
    "\n",
    "# 데이터를 담아둘 리스트\n",
    "ys            = list()\n",
    "xs            = list()\n",
    "address_names = list()\n",
    "\n",
    "# 인덱스의 기본명칭을 서울**경찰서 형식의 풀네임으로 변경한다.\n",
    "for policeName in crime_data.index:\n",
    "    policeName = '서울%s경찰서' %  policeName\n",
    "    print(policeName)\n",
    "    \n",
    "    '''\n",
    "    GET /v2/local/search/keyword.{format} HTTP/1.1\n",
    "    Host: dapi.kakao.com\n",
    "    Authorization: KakaoAK {app_key}\n",
    "    '''\n",
    "    \n",
    "    # URL 문자열 생성\n",
    "    tmp_url = url.format(urllib.parse.quote(policeName))\n",
    "    print(tmp_url)\n",
    "    # 요청객체 생성완료\n",
    "    request = urllib.request.Request(tmp_url)\n",
    "    # API 키설정\n",
    "    request.add_header(\"Authorization\", 'KakaoAK {app_key}'.format(app_key=API_KEY) )\n",
    "    # 통신 요청\n",
    "    response = urllib.request.urlopen(request)\n",
    "    # 응답이 성공이면\n",
    "    if(response.getcode()==200):\n",
    "        # 응답 결과를 접근 가능하게 로드\n",
    "        tmp = json.load(response)\n",
    "        # 위도 : y, 경도 : x, 주소 : address_name 값을 추출하시오\n",
    "        y = tmp['documents'][0]['y']\n",
    "        x = tmp['documents'][0]['x']\n",
    "        address_name = tmp['documents'][0]['address_name']\n",
    "        print( y, x, address_name )\n",
    "        # 위의 추츨한 값을 리스트에 각각 담으시오\n",
    "        ys.append( y )\n",
    "        xs.append( x )\n",
    "        address_names.append( address_name )\n",
    "    else:\n",
    "        pass"
   ]
  },
  {
   "cell_type": "code",
   "execution_count": 17,
   "metadata": {},
   "outputs": [
    {
     "data": {
      "text/plain": [
       "(31, 31, 31)"
      ]
     },
     "execution_count": 17,
     "metadata": {},
     "output_type": "execute_result"
    }
   ],
   "source": [
    "len(xs), len(ys), len(address_names)"
   ]
  },
  {
   "cell_type": "code",
   "execution_count": 18,
   "metadata": {},
   "outputs": [],
   "source": [
    "crime_data['위도'] = ys\n",
    "crime_data['경도'] = xs\n",
    "crime_data['주소'] = address_names"
   ]
  },
  {
   "cell_type": "code",
   "execution_count": 19,
   "metadata": {},
   "outputs": [
    {
     "data": {
      "text/html": [
       "<div>\n",
       "<style scoped>\n",
       "    .dataframe tbody tr th:only-of-type {\n",
       "        vertical-align: middle;\n",
       "    }\n",
       "\n",
       "    .dataframe tbody tr th {\n",
       "        vertical-align: top;\n",
       "    }\n",
       "\n",
       "    .dataframe thead th {\n",
       "        text-align: right;\n",
       "    }\n",
       "</style>\n",
       "<table border=\"1\" class=\"dataframe\">\n",
       "  <thead>\n",
       "    <tr style=\"text-align: right;\">\n",
       "      <th></th>\n",
       "      <th>강간검거</th>\n",
       "      <th>강간발생</th>\n",
       "      <th>강도검거</th>\n",
       "      <th>강도발생</th>\n",
       "      <th>살인검거</th>\n",
       "      <th>살인발생</th>\n",
       "      <th>절도검거</th>\n",
       "      <th>절도발생</th>\n",
       "      <th>폭력검거</th>\n",
       "      <th>폭력발생</th>\n",
       "      <th>위도</th>\n",
       "      <th>경도</th>\n",
       "      <th>주소</th>\n",
       "    </tr>\n",
       "    <tr>\n",
       "      <th>구분</th>\n",
       "      <th></th>\n",
       "      <th></th>\n",
       "      <th></th>\n",
       "      <th></th>\n",
       "      <th></th>\n",
       "      <th></th>\n",
       "      <th></th>\n",
       "      <th></th>\n",
       "      <th></th>\n",
       "      <th></th>\n",
       "      <th></th>\n",
       "      <th></th>\n",
       "      <th></th>\n",
       "    </tr>\n",
       "  </thead>\n",
       "  <tbody>\n",
       "    <tr>\n",
       "      <th>강남</th>\n",
       "      <td>366</td>\n",
       "      <td>456</td>\n",
       "      <td>16</td>\n",
       "      <td>13</td>\n",
       "      <td>6</td>\n",
       "      <td>6</td>\n",
       "      <td>787</td>\n",
       "      <td>2069</td>\n",
       "      <td>1942</td>\n",
       "      <td>2229</td>\n",
       "      <td>37.5093899463715</td>\n",
       "      <td>127.067070541137</td>\n",
       "      <td>서울 강남구 대치동 998</td>\n",
       "    </tr>\n",
       "    <tr>\n",
       "      <th>강동</th>\n",
       "      <td>169</td>\n",
       "      <td>172</td>\n",
       "      <td>12</td>\n",
       "      <td>10</td>\n",
       "      <td>6</td>\n",
       "      <td>5</td>\n",
       "      <td>949</td>\n",
       "      <td>1645</td>\n",
       "      <td>2109</td>\n",
       "      <td>2429</td>\n",
       "      <td>37.5286763457485</td>\n",
       "      <td>127.126894359114</td>\n",
       "      <td>서울 강동구 성내동 541-1</td>\n",
       "    </tr>\n",
       "  </tbody>\n",
       "</table>\n",
       "</div>"
      ],
      "text/plain": [
       "    강간검거  강간발생  강도검거  강도발생  살인검거  살인발생  절도검거  절도발생  폭력검거  폭력발생  \\\n",
       "구분                                                               \n",
       "강남   366   456    16    13     6     6   787  2069  1942  2229   \n",
       "강동   169   172    12    10     6     5   949  1645  2109  2429   \n",
       "\n",
       "                  위도                경도                주소  \n",
       "구분                                                        \n",
       "강남  37.5093899463715  127.067070541137    서울 강남구 대치동 998  \n",
       "강동  37.5286763457485  127.126894359114  서울 강동구 성내동 541-1  "
      ]
     },
     "execution_count": 19,
     "metadata": {},
     "output_type": "execute_result"
    }
   ],
   "source": [
    "crime_data.head(2)"
   ]
  },
  {
   "cell_type": "code",
   "execution_count": 20,
   "metadata": {},
   "outputs": [
    {
     "name": "stdout",
     "output_type": "stream",
     "text": [
      "강남구\n",
      "강동구\n",
      "강북구\n",
      "양천구\n",
      "관악구\n",
      "광진구\n",
      "구로구\n",
      "금천구\n",
      "중구\n",
      "노원구\n",
      "도봉구\n",
      "동대문구\n",
      "동작구\n",
      "마포구\n",
      "서초구\n",
      "서대문구\n",
      "은평구\n",
      "서초구\n",
      "성동구\n",
      "성북구\n",
      "송파구\n",
      "강남구\n",
      "양천구\n",
      "영등포구\n",
      "용산구\n",
      "은평구\n",
      "종로구\n",
      "성북구\n",
      "중랑구\n",
      "중구\n",
      "종로구\n"
     ]
    }
   ],
   "source": [
    "# 주소 데이터로부터 자치구 정보를 추출하여 자치구 컬럼을 추가하시오\n",
    "for addr in crime_data['주소']:\n",
    "    print( addr.split()[1] )"
   ]
  },
  {
   "cell_type": "code",
   "execution_count": 21,
   "metadata": {},
   "outputs": [],
   "source": [
    "crime_data['자치구'] = [addr.split()[1] for addr in crime_data['주소']]"
   ]
  },
  {
   "cell_type": "code",
   "execution_count": 22,
   "metadata": {},
   "outputs": [],
   "source": [
    "# pandas 방식으로 처리 ->apply()"
   ]
  },
  {
   "cell_type": "code",
   "execution_count": 23,
   "metadata": {},
   "outputs": [],
   "source": [
    "def mod(x):\n",
    "    return x.split()[1]"
   ]
  },
  {
   "cell_type": "code",
   "execution_count": 24,
   "metadata": {},
   "outputs": [],
   "source": [
    "crime_data['자치구2'] = crime_data['주소'].apply(lambda x: x.split()[1])"
   ]
  },
  {
   "cell_type": "code",
   "execution_count": 25,
   "metadata": {},
   "outputs": [],
   "source": [
    "crime_data['자치구3'] = crime_data['주소'].apply(mod) "
   ]
  },
  {
   "cell_type": "code",
   "execution_count": 26,
   "metadata": {},
   "outputs": [],
   "source": [
    "#데이터 삭제 \n",
    "del crime_data['자치구2']\n",
    "del crime_data['자치구3']"
   ]
  },
  {
   "cell_type": "code",
   "execution_count": 27,
   "metadata": {},
   "outputs": [
    {
     "data": {
      "text/html": [
       "<div>\n",
       "<style scoped>\n",
       "    .dataframe tbody tr th:only-of-type {\n",
       "        vertical-align: middle;\n",
       "    }\n",
       "\n",
       "    .dataframe tbody tr th {\n",
       "        vertical-align: top;\n",
       "    }\n",
       "\n",
       "    .dataframe thead th {\n",
       "        text-align: right;\n",
       "    }\n",
       "</style>\n",
       "<table border=\"1\" class=\"dataframe\">\n",
       "  <thead>\n",
       "    <tr style=\"text-align: right;\">\n",
       "      <th></th>\n",
       "      <th>주소</th>\n",
       "      <th>자치구</th>\n",
       "    </tr>\n",
       "    <tr>\n",
       "      <th>구분</th>\n",
       "      <th></th>\n",
       "      <th></th>\n",
       "    </tr>\n",
       "  </thead>\n",
       "  <tbody>\n",
       "    <tr>\n",
       "      <th>강남</th>\n",
       "      <td>서울 강남구 대치동 998</td>\n",
       "      <td>강남구</td>\n",
       "    </tr>\n",
       "    <tr>\n",
       "      <th>강동</th>\n",
       "      <td>서울 강동구 성내동 541-1</td>\n",
       "      <td>강동구</td>\n",
       "    </tr>\n",
       "    <tr>\n",
       "      <th>강북</th>\n",
       "      <td>서울 강북구 번동 415-15</td>\n",
       "      <td>강북구</td>\n",
       "    </tr>\n",
       "    <tr>\n",
       "      <th>강서</th>\n",
       "      <td>서울 양천구 신월동 25</td>\n",
       "      <td>양천구</td>\n",
       "    </tr>\n",
       "    <tr>\n",
       "      <th>관악</th>\n",
       "      <td>서울 관악구 봉천동 1695-5</td>\n",
       "      <td>관악구</td>\n",
       "    </tr>\n",
       "    <tr>\n",
       "      <th>광진</th>\n",
       "      <td>서울 광진구 구의동 254-32</td>\n",
       "      <td>광진구</td>\n",
       "    </tr>\n",
       "    <tr>\n",
       "      <th>구로</th>\n",
       "      <td>서울 구로구 구로동 436</td>\n",
       "      <td>구로구</td>\n",
       "    </tr>\n",
       "    <tr>\n",
       "      <th>금천</th>\n",
       "      <td>서울 금천구 시흥동 산 189</td>\n",
       "      <td>금천구</td>\n",
       "    </tr>\n",
       "    <tr>\n",
       "      <th>남대문</th>\n",
       "      <td>서울 중구 남대문로5가 561</td>\n",
       "      <td>중구</td>\n",
       "    </tr>\n",
       "    <tr>\n",
       "      <th>노원</th>\n",
       "      <td>서울 노원구 하계동 250</td>\n",
       "      <td>노원구</td>\n",
       "    </tr>\n",
       "    <tr>\n",
       "      <th>도봉</th>\n",
       "      <td>서울 도봉구 창동 17</td>\n",
       "      <td>도봉구</td>\n",
       "    </tr>\n",
       "    <tr>\n",
       "      <th>동대문</th>\n",
       "      <td>서울 동대문구 청량리동 229</td>\n",
       "      <td>동대문구</td>\n",
       "    </tr>\n",
       "    <tr>\n",
       "      <th>동작</th>\n",
       "      <td>서울 동작구 노량진동 72-35</td>\n",
       "      <td>동작구</td>\n",
       "    </tr>\n",
       "    <tr>\n",
       "      <th>마포</th>\n",
       "      <td>서울 마포구 아현동 618-1</td>\n",
       "      <td>마포구</td>\n",
       "    </tr>\n",
       "    <tr>\n",
       "      <th>방배</th>\n",
       "      <td>서울 서초구 방배동 455-10</td>\n",
       "      <td>서초구</td>\n",
       "    </tr>\n",
       "    <tr>\n",
       "      <th>서대문</th>\n",
       "      <td>서울 서대문구 미근동 165</td>\n",
       "      <td>서대문구</td>\n",
       "    </tr>\n",
       "    <tr>\n",
       "      <th>서부</th>\n",
       "      <td>서울 은평구 대조동 2-9</td>\n",
       "      <td>은평구</td>\n",
       "    </tr>\n",
       "    <tr>\n",
       "      <th>서초</th>\n",
       "      <td>서울 서초구 서초동 1726-1</td>\n",
       "      <td>서초구</td>\n",
       "    </tr>\n",
       "    <tr>\n",
       "      <th>성동</th>\n",
       "      <td>서울 성동구 행당동 192-8</td>\n",
       "      <td>성동구</td>\n",
       "    </tr>\n",
       "    <tr>\n",
       "      <th>성북</th>\n",
       "      <td>서울 성북구 삼선동5가 301</td>\n",
       "      <td>성북구</td>\n",
       "    </tr>\n",
       "    <tr>\n",
       "      <th>송파</th>\n",
       "      <td>서울 송파구 가락동 9</td>\n",
       "      <td>송파구</td>\n",
       "    </tr>\n",
       "    <tr>\n",
       "      <th>수서</th>\n",
       "      <td>서울 강남구 개포동 14</td>\n",
       "      <td>강남구</td>\n",
       "    </tr>\n",
       "    <tr>\n",
       "      <th>양천</th>\n",
       "      <td>서울 양천구 신정동 321</td>\n",
       "      <td>양천구</td>\n",
       "    </tr>\n",
       "    <tr>\n",
       "      <th>영등포</th>\n",
       "      <td>서울 영등포구 당산동3가 2-11</td>\n",
       "      <td>영등포구</td>\n",
       "    </tr>\n",
       "    <tr>\n",
       "      <th>용산</th>\n",
       "      <td>서울 용산구 원효로1가 12-12</td>\n",
       "      <td>용산구</td>\n",
       "    </tr>\n",
       "    <tr>\n",
       "      <th>은평</th>\n",
       "      <td>서울 은평구 불광동 산 24</td>\n",
       "      <td>은평구</td>\n",
       "    </tr>\n",
       "    <tr>\n",
       "      <th>종로</th>\n",
       "      <td>서울 종로구 경운동 90-18</td>\n",
       "      <td>종로구</td>\n",
       "    </tr>\n",
       "    <tr>\n",
       "      <th>종암</th>\n",
       "      <td>서울 성북구 종암동 3-1260</td>\n",
       "      <td>성북구</td>\n",
       "    </tr>\n",
       "    <tr>\n",
       "      <th>중랑</th>\n",
       "      <td>서울 중랑구 신내동 810</td>\n",
       "      <td>중랑구</td>\n",
       "    </tr>\n",
       "    <tr>\n",
       "      <th>중부</th>\n",
       "      <td>서울 중구 저동2가 62-1</td>\n",
       "      <td>중구</td>\n",
       "    </tr>\n",
       "    <tr>\n",
       "      <th>혜화</th>\n",
       "      <td>서울 종로구 인의동 48-57</td>\n",
       "      <td>종로구</td>\n",
       "    </tr>\n",
       "  </tbody>\n",
       "</table>\n",
       "</div>"
      ],
      "text/plain": [
       "                     주소   자치구\n",
       "구분                           \n",
       "강남       서울 강남구 대치동 998   강남구\n",
       "강동     서울 강동구 성내동 541-1   강동구\n",
       "강북     서울 강북구 번동 415-15   강북구\n",
       "강서        서울 양천구 신월동 25   양천구\n",
       "관악    서울 관악구 봉천동 1695-5   관악구\n",
       "광진    서울 광진구 구의동 254-32   광진구\n",
       "구로       서울 구로구 구로동 436   구로구\n",
       "금천     서울 금천구 시흥동 산 189   금천구\n",
       "남대문    서울 중구 남대문로5가 561    중구\n",
       "노원       서울 노원구 하계동 250   노원구\n",
       "도봉         서울 도봉구 창동 17   도봉구\n",
       "동대문    서울 동대문구 청량리동 229  동대문구\n",
       "동작    서울 동작구 노량진동 72-35   동작구\n",
       "마포     서울 마포구 아현동 618-1   마포구\n",
       "방배    서울 서초구 방배동 455-10   서초구\n",
       "서대문     서울 서대문구 미근동 165  서대문구\n",
       "서부       서울 은평구 대조동 2-9   은평구\n",
       "서초    서울 서초구 서초동 1726-1   서초구\n",
       "성동     서울 성동구 행당동 192-8   성동구\n",
       "성북     서울 성북구 삼선동5가 301   성북구\n",
       "송파         서울 송파구 가락동 9   송파구\n",
       "수서        서울 강남구 개포동 14   강남구\n",
       "양천       서울 양천구 신정동 321   양천구\n",
       "영등포  서울 영등포구 당산동3가 2-11  영등포구\n",
       "용산   서울 용산구 원효로1가 12-12   용산구\n",
       "은평      서울 은평구 불광동 산 24   은평구\n",
       "종로     서울 종로구 경운동 90-18   종로구\n",
       "종암    서울 성북구 종암동 3-1260   성북구\n",
       "중랑       서울 중랑구 신내동 810   중랑구\n",
       "중부      서울 중구 저동2가 62-1    중구\n",
       "혜화     서울 종로구 인의동 48-57   종로구"
      ]
     },
     "execution_count": 27,
     "metadata": {},
     "output_type": "execute_result"
    }
   ],
   "source": [
    "crime_data.iloc[:, [12,13]]"
   ]
  },
  {
   "cell_type": "code",
   "execution_count": 28,
   "metadata": {},
   "outputs": [
    {
     "data": {
      "text/plain": [
       "(24, array(['강남구', '강동구', '강북구', '양천구', '관악구', '광진구', '구로구', '금천구', '중구',\n",
       "        '노원구', '도봉구', '동대문구', '동작구', '마포구', '서초구', '서대문구', '은평구', '성동구',\n",
       "        '성북구', '송파구', '영등포구', '용산구', '종로구', '중랑구'], dtype=object))"
      ]
     },
     "execution_count": 28,
     "metadata": {},
     "output_type": "execute_result"
    }
   ],
   "source": [
    "# 자치구의 값을 조사하여 중복되지 않는 개수가 25인지 체크\n",
    "len(crime_data['자치구'].unique()), crime_data['자치구'].unique()"
   ]
  },
  {
   "cell_type": "code",
   "execution_count": null,
   "metadata": {},
   "outputs": [],
   "source": [
    "crime_data['자치구'] "
   ]
  },
  {
   "cell_type": "code",
   "execution_count": 29,
   "metadata": {},
   "outputs": [
    {
     "data": {
      "text/html": [
       "<div>\n",
       "<style scoped>\n",
       "    .dataframe tbody tr th:only-of-type {\n",
       "        vertical-align: middle;\n",
       "    }\n",
       "\n",
       "    .dataframe tbody tr th {\n",
       "        vertical-align: top;\n",
       "    }\n",
       "\n",
       "    .dataframe thead th {\n",
       "        text-align: right;\n",
       "    }\n",
       "</style>\n",
       "<table border=\"1\" class=\"dataframe\">\n",
       "  <thead>\n",
       "    <tr style=\"text-align: right;\">\n",
       "      <th></th>\n",
       "      <th>강간검거</th>\n",
       "      <th>강간발생</th>\n",
       "      <th>강도검거</th>\n",
       "      <th>강도발생</th>\n",
       "      <th>살인검거</th>\n",
       "      <th>살인발생</th>\n",
       "      <th>절도검거</th>\n",
       "      <th>절도발생</th>\n",
       "      <th>폭력검거</th>\n",
       "      <th>폭력발생</th>\n",
       "      <th>위도</th>\n",
       "      <th>경도</th>\n",
       "      <th>주소</th>\n",
       "      <th>자치구</th>\n",
       "    </tr>\n",
       "    <tr>\n",
       "      <th>구분</th>\n",
       "      <th></th>\n",
       "      <th></th>\n",
       "      <th></th>\n",
       "      <th></th>\n",
       "      <th></th>\n",
       "      <th></th>\n",
       "      <th></th>\n",
       "      <th></th>\n",
       "      <th></th>\n",
       "      <th></th>\n",
       "      <th></th>\n",
       "      <th></th>\n",
       "      <th></th>\n",
       "      <th></th>\n",
       "    </tr>\n",
       "  </thead>\n",
       "  <tbody>\n",
       "    <tr>\n",
       "      <th>강남</th>\n",
       "      <td>366</td>\n",
       "      <td>456</td>\n",
       "      <td>16</td>\n",
       "      <td>13</td>\n",
       "      <td>6</td>\n",
       "      <td>6</td>\n",
       "      <td>787</td>\n",
       "      <td>2069</td>\n",
       "      <td>1942</td>\n",
       "      <td>2229</td>\n",
       "      <td>37.5093899463715</td>\n",
       "      <td>127.067070541137</td>\n",
       "      <td>서울 강남구 대치동 998</td>\n",
       "      <td>강남구</td>\n",
       "    </tr>\n",
       "    <tr>\n",
       "      <th>강동</th>\n",
       "      <td>169</td>\n",
       "      <td>172</td>\n",
       "      <td>12</td>\n",
       "      <td>10</td>\n",
       "      <td>6</td>\n",
       "      <td>5</td>\n",
       "      <td>949</td>\n",
       "      <td>1645</td>\n",
       "      <td>2109</td>\n",
       "      <td>2429</td>\n",
       "      <td>37.5286763457485</td>\n",
       "      <td>127.126894359114</td>\n",
       "      <td>서울 강동구 성내동 541-1</td>\n",
       "      <td>강동구</td>\n",
       "    </tr>\n",
       "  </tbody>\n",
       "</table>\n",
       "</div>"
      ],
      "text/plain": [
       "    강간검거  강간발생  강도검거  강도발생  살인검거  살인발생  절도검거  절도발생  폭력검거  폭력발생  \\\n",
       "구분                                                               \n",
       "강남   366   456    16    13     6     6   787  2069  1942  2229   \n",
       "강동   169   172    12    10     6     5   949  1645  2109  2429   \n",
       "\n",
       "                  위도                경도                주소  자치구  \n",
       "구분                                                             \n",
       "강남  37.5093899463715  127.067070541137    서울 강남구 대치동 998  강남구  \n",
       "강동  37.5286763457485  127.126894359114  서울 강동구 성내동 541-1  강동구  "
      ]
     },
     "execution_count": 29,
     "metadata": {},
     "output_type": "execute_result"
    }
   ],
   "source": [
    "# 구분 값이 강서인 데이터의 자치구의 값을 양천구에서 강서구로 변경\n",
    "crime_data.loc['강서','자치구']='강서구'\n",
    "crime_data.head(2)"
   ]
  },
  {
   "cell_type": "code",
   "execution_count": 30,
   "metadata": {},
   "outputs": [
    {
     "data": {
      "text/plain": [
       "(31, 14)"
      ]
     },
     "execution_count": 30,
     "metadata": {},
     "output_type": "execute_result"
    }
   ],
   "source": [
    "crime_data.shape"
   ]
  },
  {
   "cell_type": "code",
   "execution_count": 31,
   "metadata": {},
   "outputs": [],
   "source": [
    "# 현재까지 데이터를 덤프친다. 백업한다.\n",
    "crime_data.to_csv('../data/crime_data_gps_addr.csv', sep=','\n",
    "                   , encoding='utf-8')"
   ]
  },
  {
   "cell_type": "code",
   "execution_count": 32,
   "metadata": {},
   "outputs": [
    {
     "data": {
      "text/html": [
       "<div>\n",
       "<style scoped>\n",
       "    .dataframe tbody tr th:only-of-type {\n",
       "        vertical-align: middle;\n",
       "    }\n",
       "\n",
       "    .dataframe tbody tr th {\n",
       "        vertical-align: top;\n",
       "    }\n",
       "\n",
       "    .dataframe thead th {\n",
       "        text-align: right;\n",
       "    }\n",
       "</style>\n",
       "<table border=\"1\" class=\"dataframe\">\n",
       "  <thead>\n",
       "    <tr style=\"text-align: right;\">\n",
       "      <th></th>\n",
       "      <th>구분</th>\n",
       "      <th>강간검거</th>\n",
       "      <th>강간발생</th>\n",
       "      <th>강도검거</th>\n",
       "      <th>강도발생</th>\n",
       "      <th>살인검거</th>\n",
       "      <th>살인발생</th>\n",
       "      <th>절도검거</th>\n",
       "      <th>절도발생</th>\n",
       "      <th>폭력검거</th>\n",
       "      <th>폭력발생</th>\n",
       "      <th>위도</th>\n",
       "      <th>경도</th>\n",
       "      <th>주소</th>\n",
       "      <th>자치구</th>\n",
       "    </tr>\n",
       "  </thead>\n",
       "  <tbody>\n",
       "    <tr>\n",
       "      <th>0</th>\n",
       "      <td>강남</td>\n",
       "      <td>366</td>\n",
       "      <td>456</td>\n",
       "      <td>16</td>\n",
       "      <td>13</td>\n",
       "      <td>6</td>\n",
       "      <td>6</td>\n",
       "      <td>787</td>\n",
       "      <td>2069</td>\n",
       "      <td>1942</td>\n",
       "      <td>2229</td>\n",
       "      <td>37.509390</td>\n",
       "      <td>127.067071</td>\n",
       "      <td>서울 강남구 대치동 998</td>\n",
       "      <td>강남구</td>\n",
       "    </tr>\n",
       "    <tr>\n",
       "      <th>1</th>\n",
       "      <td>강동</td>\n",
       "      <td>169</td>\n",
       "      <td>172</td>\n",
       "      <td>12</td>\n",
       "      <td>10</td>\n",
       "      <td>6</td>\n",
       "      <td>5</td>\n",
       "      <td>949</td>\n",
       "      <td>1645</td>\n",
       "      <td>2109</td>\n",
       "      <td>2429</td>\n",
       "      <td>37.528676</td>\n",
       "      <td>127.126894</td>\n",
       "      <td>서울 강동구 성내동 541-1</td>\n",
       "      <td>강동구</td>\n",
       "    </tr>\n",
       "  </tbody>\n",
       "</table>\n",
       "</div>"
      ],
      "text/plain": [
       "   구분  강간검거  강간발생  강도검거  강도발생  살인검거  살인발생  절도검거  절도발생  폭력검거  폭력발생         위도  \\\n",
       "0  강남   366   456    16    13     6     6   787  2069  1942  2229  37.509390   \n",
       "1  강동   169   172    12    10     6     5   949  1645  2109  2429  37.528676   \n",
       "\n",
       "           경도                주소  자치구  \n",
       "0  127.067071    서울 강남구 대치동 998  강남구  \n",
       "1  127.126894  서울 강동구 성내동 541-1  강동구  "
      ]
     },
     "execution_count": 32,
     "metadata": {},
     "output_type": "execute_result"
    }
   ],
   "source": [
    "crime_anal_raw = pd.read_csv('../data/crime_data_gps_addr.csv'\n",
    "                              , encoding='utf-8')\n",
    "crime_anal_raw.head(2)"
   ]
  },
  {
   "cell_type": "markdown",
   "metadata": {},
   "source": [
    "## pivot_table 학습하기\n",
    "[이동](http://localhost:8888/notebooks/Desktop/projects/analysis/pandas/basic/pandas_pivot_table.ipynb)"
   ]
  },
  {
   "cell_type": "code",
   "execution_count": 33,
   "metadata": {},
   "outputs": [
    {
     "data": {
      "text/html": [
       "<div>\n",
       "<style scoped>\n",
       "    .dataframe tbody tr th:only-of-type {\n",
       "        vertical-align: middle;\n",
       "    }\n",
       "\n",
       "    .dataframe tbody tr th {\n",
       "        vertical-align: top;\n",
       "    }\n",
       "\n",
       "    .dataframe thead th {\n",
       "        text-align: right;\n",
       "    }\n",
       "</style>\n",
       "<table border=\"1\" class=\"dataframe\">\n",
       "  <thead>\n",
       "    <tr style=\"text-align: right;\">\n",
       "      <th></th>\n",
       "      <th>강간검거</th>\n",
       "      <th>강간발생</th>\n",
       "      <th>강도검거</th>\n",
       "      <th>강도발생</th>\n",
       "      <th>살인검거</th>\n",
       "      <th>살인발생</th>\n",
       "      <th>절도검거</th>\n",
       "      <th>절도발생</th>\n",
       "      <th>폭력검거</th>\n",
       "      <th>폭력발생</th>\n",
       "    </tr>\n",
       "    <tr>\n",
       "      <th>자치구</th>\n",
       "      <th></th>\n",
       "      <th></th>\n",
       "      <th></th>\n",
       "      <th></th>\n",
       "      <th></th>\n",
       "      <th></th>\n",
       "      <th></th>\n",
       "      <th></th>\n",
       "      <th></th>\n",
       "      <th></th>\n",
       "    </tr>\n",
       "  </thead>\n",
       "  <tbody>\n",
       "    <tr>\n",
       "      <th>강남구</th>\n",
       "      <td>496</td>\n",
       "      <td>607</td>\n",
       "      <td>24</td>\n",
       "      <td>20</td>\n",
       "      <td>7</td>\n",
       "      <td>7</td>\n",
       "      <td>1383</td>\n",
       "      <td>3130</td>\n",
       "      <td>3411</td>\n",
       "      <td>3956</td>\n",
       "    </tr>\n",
       "    <tr>\n",
       "      <th>강동구</th>\n",
       "      <td>169</td>\n",
       "      <td>172</td>\n",
       "      <td>12</td>\n",
       "      <td>10</td>\n",
       "      <td>6</td>\n",
       "      <td>5</td>\n",
       "      <td>949</td>\n",
       "      <td>1645</td>\n",
       "      <td>2109</td>\n",
       "      <td>2429</td>\n",
       "    </tr>\n",
       "    <tr>\n",
       "      <th>강북구</th>\n",
       "      <td>153</td>\n",
       "      <td>208</td>\n",
       "      <td>5</td>\n",
       "      <td>7</td>\n",
       "      <td>8</td>\n",
       "      <td>8</td>\n",
       "      <td>635</td>\n",
       "      <td>1014</td>\n",
       "      <td>2023</td>\n",
       "      <td>2156</td>\n",
       "    </tr>\n",
       "    <tr>\n",
       "      <th>강서구</th>\n",
       "      <td>253</td>\n",
       "      <td>316</td>\n",
       "      <td>6</td>\n",
       "      <td>4</td>\n",
       "      <td>11</td>\n",
       "      <td>11</td>\n",
       "      <td>1113</td>\n",
       "      <td>1888</td>\n",
       "      <td>2544</td>\n",
       "      <td>2916</td>\n",
       "    </tr>\n",
       "    <tr>\n",
       "      <th>관악구</th>\n",
       "      <td>323</td>\n",
       "      <td>379</td>\n",
       "      <td>6</td>\n",
       "      <td>7</td>\n",
       "      <td>7</td>\n",
       "      <td>8</td>\n",
       "      <td>1152</td>\n",
       "      <td>1979</td>\n",
       "      <td>2666</td>\n",
       "      <td>3152</td>\n",
       "    </tr>\n",
       "    <tr>\n",
       "      <th>광진구</th>\n",
       "      <td>208</td>\n",
       "      <td>261</td>\n",
       "      <td>8</td>\n",
       "      <td>13</td>\n",
       "      <td>5</td>\n",
       "      <td>6</td>\n",
       "      <td>1168</td>\n",
       "      <td>2220</td>\n",
       "      <td>1900</td>\n",
       "      <td>2146</td>\n",
       "    </tr>\n",
       "    <tr>\n",
       "      <th>구로구</th>\n",
       "      <td>181</td>\n",
       "      <td>328</td>\n",
       "      <td>6</td>\n",
       "      <td>8</td>\n",
       "      <td>8</td>\n",
       "      <td>7</td>\n",
       "      <td>869</td>\n",
       "      <td>1725</td>\n",
       "      <td>2344</td>\n",
       "      <td>2827</td>\n",
       "    </tr>\n",
       "    <tr>\n",
       "      <th>금천구</th>\n",
       "      <td>212</td>\n",
       "      <td>240</td>\n",
       "      <td>5</td>\n",
       "      <td>5</td>\n",
       "      <td>5</td>\n",
       "      <td>5</td>\n",
       "      <td>674</td>\n",
       "      <td>1141</td>\n",
       "      <td>1676</td>\n",
       "      <td>1874</td>\n",
       "    </tr>\n",
       "    <tr>\n",
       "      <th>노원구</th>\n",
       "      <td>155</td>\n",
       "      <td>180</td>\n",
       "      <td>7</td>\n",
       "      <td>9</td>\n",
       "      <td>4</td>\n",
       "      <td>4</td>\n",
       "      <td>757</td>\n",
       "      <td>1538</td>\n",
       "      <td>2124</td>\n",
       "      <td>2478</td>\n",
       "    </tr>\n",
       "    <tr>\n",
       "      <th>도봉구</th>\n",
       "      <td>115</td>\n",
       "      <td>104</td>\n",
       "      <td>3</td>\n",
       "      <td>3</td>\n",
       "      <td>1</td>\n",
       "      <td>1</td>\n",
       "      <td>417</td>\n",
       "      <td>633</td>\n",
       "      <td>1116</td>\n",
       "      <td>1258</td>\n",
       "    </tr>\n",
       "    <tr>\n",
       "      <th>동대문구</th>\n",
       "      <td>149</td>\n",
       "      <td>165</td>\n",
       "      <td>5</td>\n",
       "      <td>3</td>\n",
       "      <td>10</td>\n",
       "      <td>11</td>\n",
       "      <td>1017</td>\n",
       "      <td>1547</td>\n",
       "      <td>2093</td>\n",
       "      <td>2249</td>\n",
       "    </tr>\n",
       "    <tr>\n",
       "      <th>동작구</th>\n",
       "      <td>173</td>\n",
       "      <td>396</td>\n",
       "      <td>9</td>\n",
       "      <td>7</td>\n",
       "      <td>1</td>\n",
       "      <td>1</td>\n",
       "      <td>593</td>\n",
       "      <td>1226</td>\n",
       "      <td>1466</td>\n",
       "      <td>1700</td>\n",
       "    </tr>\n",
       "    <tr>\n",
       "      <th>마포구</th>\n",
       "      <td>429</td>\n",
       "      <td>500</td>\n",
       "      <td>8</td>\n",
       "      <td>8</td>\n",
       "      <td>3</td>\n",
       "      <td>3</td>\n",
       "      <td>837</td>\n",
       "      <td>2094</td>\n",
       "      <td>2222</td>\n",
       "      <td>2673</td>\n",
       "    </tr>\n",
       "    <tr>\n",
       "      <th>서대문구</th>\n",
       "      <td>181</td>\n",
       "      <td>202</td>\n",
       "      <td>2</td>\n",
       "      <td>1</td>\n",
       "      <td>4</td>\n",
       "      <td>4</td>\n",
       "      <td>719</td>\n",
       "      <td>1230</td>\n",
       "      <td>1393</td>\n",
       "      <td>1676</td>\n",
       "    </tr>\n",
       "    <tr>\n",
       "      <th>서초구</th>\n",
       "      <td>283</td>\n",
       "      <td>470</td>\n",
       "      <td>7</td>\n",
       "      <td>13</td>\n",
       "      <td>10</td>\n",
       "      <td>9</td>\n",
       "      <td>835</td>\n",
       "      <td>1812</td>\n",
       "      <td>2102</td>\n",
       "      <td>2404</td>\n",
       "    </tr>\n",
       "    <tr>\n",
       "      <th>성동구</th>\n",
       "      <td>106</td>\n",
       "      <td>132</td>\n",
       "      <td>3</td>\n",
       "      <td>3</td>\n",
       "      <td>1</td>\n",
       "      <td>1</td>\n",
       "      <td>543</td>\n",
       "      <td>1072</td>\n",
       "      <td>1378</td>\n",
       "      <td>1559</td>\n",
       "    </tr>\n",
       "    <tr>\n",
       "      <th>성북구</th>\n",
       "      <td>134</td>\n",
       "      <td>173</td>\n",
       "      <td>8</td>\n",
       "      <td>8</td>\n",
       "      <td>7</td>\n",
       "      <td>7</td>\n",
       "      <td>703</td>\n",
       "      <td>1344</td>\n",
       "      <td>1627</td>\n",
       "      <td>1902</td>\n",
       "    </tr>\n",
       "    <tr>\n",
       "      <th>송파구</th>\n",
       "      <td>242</td>\n",
       "      <td>288</td>\n",
       "      <td>3</td>\n",
       "      <td>1</td>\n",
       "      <td>6</td>\n",
       "      <td>6</td>\n",
       "      <td>1026</td>\n",
       "      <td>2274</td>\n",
       "      <td>2593</td>\n",
       "      <td>3007</td>\n",
       "    </tr>\n",
       "    <tr>\n",
       "      <th>양천구</th>\n",
       "      <td>122</td>\n",
       "      <td>138</td>\n",
       "      <td>2</td>\n",
       "      <td>3</td>\n",
       "      <td>2</td>\n",
       "      <td>3</td>\n",
       "      <td>756</td>\n",
       "      <td>1590</td>\n",
       "      <td>1778</td>\n",
       "      <td>2148</td>\n",
       "    </tr>\n",
       "    <tr>\n",
       "      <th>영등포구</th>\n",
       "      <td>267</td>\n",
       "      <td>455</td>\n",
       "      <td>5</td>\n",
       "      <td>5</td>\n",
       "      <td>13</td>\n",
       "      <td>15</td>\n",
       "      <td>1108</td>\n",
       "      <td>2304</td>\n",
       "      <td>2619</td>\n",
       "      <td>3190</td>\n",
       "    </tr>\n",
       "    <tr>\n",
       "      <th>용산구</th>\n",
       "      <td>289</td>\n",
       "      <td>327</td>\n",
       "      <td>4</td>\n",
       "      <td>5</td>\n",
       "      <td>1</td>\n",
       "      <td>1</td>\n",
       "      <td>626</td>\n",
       "      <td>1346</td>\n",
       "      <td>2016</td>\n",
       "      <td>2381</td>\n",
       "    </tr>\n",
       "    <tr>\n",
       "      <th>은평구</th>\n",
       "      <td>213</td>\n",
       "      <td>230</td>\n",
       "      <td>4</td>\n",
       "      <td>4</td>\n",
       "      <td>6</td>\n",
       "      <td>6</td>\n",
       "      <td>934</td>\n",
       "      <td>1387</td>\n",
       "      <td>2050</td>\n",
       "      <td>2256</td>\n",
       "    </tr>\n",
       "    <tr>\n",
       "      <th>종로구</th>\n",
       "      <td>173</td>\n",
       "      <td>253</td>\n",
       "      <td>8</td>\n",
       "      <td>10</td>\n",
       "      <td>5</td>\n",
       "      <td>7</td>\n",
       "      <td>658</td>\n",
       "      <td>1644</td>\n",
       "      <td>1837</td>\n",
       "      <td>2143</td>\n",
       "    </tr>\n",
       "    <tr>\n",
       "      <th>중구</th>\n",
       "      <td>149</td>\n",
       "      <td>267</td>\n",
       "      <td>9</td>\n",
       "      <td>9</td>\n",
       "      <td>0</td>\n",
       "      <td>1</td>\n",
       "      <td>889</td>\n",
       "      <td>1846</td>\n",
       "      <td>1804</td>\n",
       "      <td>2061</td>\n",
       "    </tr>\n",
       "    <tr>\n",
       "      <th>중랑구</th>\n",
       "      <td>144</td>\n",
       "      <td>172</td>\n",
       "      <td>4</td>\n",
       "      <td>3</td>\n",
       "      <td>5</td>\n",
       "      <td>5</td>\n",
       "      <td>813</td>\n",
       "      <td>1533</td>\n",
       "      <td>2426</td>\n",
       "      <td>2858</td>\n",
       "    </tr>\n",
       "  </tbody>\n",
       "</table>\n",
       "</div>"
      ],
      "text/plain": [
       "      강간검거  강간발생  강도검거  강도발생  살인검거  살인발생  절도검거  절도발생  폭력검거  폭력발생\n",
       "자치구                                                             \n",
       "강남구    496   607    24    20     7     7  1383  3130  3411  3956\n",
       "강동구    169   172    12    10     6     5   949  1645  2109  2429\n",
       "강북구    153   208     5     7     8     8   635  1014  2023  2156\n",
       "강서구    253   316     6     4    11    11  1113  1888  2544  2916\n",
       "관악구    323   379     6     7     7     8  1152  1979  2666  3152\n",
       "광진구    208   261     8    13     5     6  1168  2220  1900  2146\n",
       "구로구    181   328     6     8     8     7   869  1725  2344  2827\n",
       "금천구    212   240     5     5     5     5   674  1141  1676  1874\n",
       "노원구    155   180     7     9     4     4   757  1538  2124  2478\n",
       "도봉구    115   104     3     3     1     1   417   633  1116  1258\n",
       "동대문구   149   165     5     3    10    11  1017  1547  2093  2249\n",
       "동작구    173   396     9     7     1     1   593  1226  1466  1700\n",
       "마포구    429   500     8     8     3     3   837  2094  2222  2673\n",
       "서대문구   181   202     2     1     4     4   719  1230  1393  1676\n",
       "서초구    283   470     7    13    10     9   835  1812  2102  2404\n",
       "성동구    106   132     3     3     1     1   543  1072  1378  1559\n",
       "성북구    134   173     8     8     7     7   703  1344  1627  1902\n",
       "송파구    242   288     3     1     6     6  1026  2274  2593  3007\n",
       "양천구    122   138     2     3     2     3   756  1590  1778  2148\n",
       "영등포구   267   455     5     5    13    15  1108  2304  2619  3190\n",
       "용산구    289   327     4     5     1     1   626  1346  2016  2381\n",
       "은평구    213   230     4     4     6     6   934  1387  2050  2256\n",
       "종로구    173   253     8    10     5     7   658  1644  1837  2143\n",
       "중구     149   267     9     9     0     1   889  1846  1804  2061\n",
       "중랑구    144   172     4     3     5     5   813  1533  2426  2858"
      ]
     },
     "execution_count": 33,
     "metadata": {},
     "output_type": "execute_result"
    }
   ],
   "source": [
    "# crime_data -> 자치구별로 통합 -> 데이터는 25개로 자치구기준으로 구성\n",
    "# 자치구내에 경찰서가 2개인 자치구는 합산으로 수치를 맞춘다(검거, 발생)\n",
    "\n",
    "# crime_anal = pd.pivot_table( crime_data, index='자치구', aggfunc=np.sum )\n",
    "# 아웃풋에서 차이가 난다\n",
    "crime_anal = pd.pivot_table( crime_anal_raw, index='자치구', aggfunc=np.sum )\n",
    "try:\n",
    "    del crime_anal['위도']\n",
    "    del crime_anal['경도']\n",
    "    \n",
    "except Exception as e:pass\n",
    "\n",
    "crime_anal"
   ]
  },
  {
   "cell_type": "code",
   "execution_count": 34,
   "metadata": {},
   "outputs": [
    {
     "data": {
      "text/plain": [
       "['강간검거', '강도검거', '살인검거', '절도검거', '폭력검거']"
      ]
     },
     "execution_count": 34,
     "metadata": {},
     "output_type": "execute_result"
    }
   ],
   "source": [
    "# 컬럼명중에서 '검거'가 들어간 컬럼만 추출한다.\n",
    "list(filter( lambda x: x.find('검거')>0, crime_anal.columns))"
   ]
  },
  {
   "cell_type": "code",
   "execution_count": 35,
   "metadata": {},
   "outputs": [
    {
     "data": {
      "text/plain": [
       "['강간발생', '강도발생', '살인발생', '절도발생', '폭력발생']"
      ]
     },
     "execution_count": 35,
     "metadata": {},
     "output_type": "execute_result"
    }
   ],
   "source": [
    "# 컬럼명중에서 '발생'가 들어간 컬럼만 추출한다.\n",
    "list(filter( lambda x: x.find('발생')>0, crime_anal.columns))"
   ]
  },
  {
   "cell_type": "code",
   "execution_count": 36,
   "metadata": {},
   "outputs": [
    {
     "data": {
      "text/plain": [
       "2"
      ]
     },
     "execution_count": 36,
     "metadata": {},
     "output_type": "execute_result"
    }
   ],
   "source": [
    "'강도검거'.find('검거')"
   ]
  },
  {
   "cell_type": "code",
   "execution_count": 37,
   "metadata": {},
   "outputs": [],
   "source": [
    "# 검거율 정보를 생성 \n",
    "# 계산식 -> 강도검거율 = 강도검거/강도발생 * 100\n",
    "\n",
    "target = list( filter( lambda x: x.find('검거')>0, crime_anal.columns) )\n",
    "\n",
    "crime_anal['강간검거율'] = crime_anal['강간검거']/crime_anal['강간발생']*100\n",
    "crime_anal['강도검거율'] = crime_anal['강도검거']/crime_anal['강도발생']*100\n",
    "crime_anal['살인검거율'] = crime_anal['살인검거']/crime_anal['살인발생']*100\n",
    "crime_anal['절도검거율'] = crime_anal['절도검거']/crime_anal['절도발생']*100\n",
    "crime_anal['폭력검거율'] = crime_anal['폭력검거']/crime_anal['폭력발생']*100\n",
    "\n",
    "# 강도검거,... 모두 삭제한다. \n",
    "for col in target:\n",
    "    del crime_anal[col]"
   ]
  },
  {
   "cell_type": "code",
   "execution_count": 38,
   "metadata": {},
   "outputs": [
    {
     "data": {
      "text/html": [
       "<div>\n",
       "<style scoped>\n",
       "    .dataframe tbody tr th:only-of-type {\n",
       "        vertical-align: middle;\n",
       "    }\n",
       "\n",
       "    .dataframe tbody tr th {\n",
       "        vertical-align: top;\n",
       "    }\n",
       "\n",
       "    .dataframe thead th {\n",
       "        text-align: right;\n",
       "    }\n",
       "</style>\n",
       "<table border=\"1\" class=\"dataframe\">\n",
       "  <thead>\n",
       "    <tr style=\"text-align: right;\">\n",
       "      <th></th>\n",
       "      <th>강간발생</th>\n",
       "      <th>강도발생</th>\n",
       "      <th>살인발생</th>\n",
       "      <th>절도발생</th>\n",
       "      <th>폭력발생</th>\n",
       "      <th>강간검거율</th>\n",
       "      <th>강도검거율</th>\n",
       "      <th>살인검거율</th>\n",
       "      <th>절도검거율</th>\n",
       "      <th>폭력검거율</th>\n",
       "    </tr>\n",
       "    <tr>\n",
       "      <th>자치구</th>\n",
       "      <th></th>\n",
       "      <th></th>\n",
       "      <th></th>\n",
       "      <th></th>\n",
       "      <th></th>\n",
       "      <th></th>\n",
       "      <th></th>\n",
       "      <th></th>\n",
       "      <th></th>\n",
       "      <th></th>\n",
       "    </tr>\n",
       "  </thead>\n",
       "  <tbody>\n",
       "    <tr>\n",
       "      <th>강남구</th>\n",
       "      <td>607</td>\n",
       "      <td>20</td>\n",
       "      <td>7</td>\n",
       "      <td>3130</td>\n",
       "      <td>3956</td>\n",
       "      <td>81.713344</td>\n",
       "      <td>120.0</td>\n",
       "      <td>100.0</td>\n",
       "      <td>44.185304</td>\n",
       "      <td>86.223458</td>\n",
       "    </tr>\n",
       "    <tr>\n",
       "      <th>강동구</th>\n",
       "      <td>172</td>\n",
       "      <td>10</td>\n",
       "      <td>5</td>\n",
       "      <td>1645</td>\n",
       "      <td>2429</td>\n",
       "      <td>98.255814</td>\n",
       "      <td>120.0</td>\n",
       "      <td>120.0</td>\n",
       "      <td>57.689970</td>\n",
       "      <td>86.825854</td>\n",
       "    </tr>\n",
       "  </tbody>\n",
       "</table>\n",
       "</div>"
      ],
      "text/plain": [
       "     강간발생  강도발생  살인발생  절도발생  폭력발생      강간검거율  강도검거율  살인검거율      절도검거율  \\\n",
       "자치구                                                                     \n",
       "강남구   607    20     7  3130  3956  81.713344  120.0  100.0  44.185304   \n",
       "강동구   172    10     5  1645  2429  98.255814  120.0  120.0  57.689970   \n",
       "\n",
       "         폭력검거율  \n",
       "자치구             \n",
       "강남구  86.223458  \n",
       "강동구  86.825854  "
      ]
     },
     "execution_count": 38,
     "metadata": {},
     "output_type": "execute_result"
    }
   ],
   "source": [
    "crime_anal.head(2)"
   ]
  },
  {
   "cell_type": "code",
   "execution_count": 39,
   "metadata": {},
   "outputs": [
    {
     "data": {
      "text/plain": [
       "Index(['강간검거율', '강도검거율', '살인검거율', '절도검거율', '폭력검거율'], dtype='object')"
      ]
     },
     "execution_count": 39,
     "metadata": {},
     "output_type": "execute_result"
    }
   ],
   "source": [
    "# xx검거율이 100이상인 것들은 이상치에 해당되므로 일괄적으로 100으로 통일하겠다.\n",
    "col_list = crime_anal.columns[-5:]\n",
    "col_list"
   ]
  },
  {
   "cell_type": "code",
   "execution_count": 40,
   "metadata": {},
   "outputs": [],
   "source": [
    "for col in col_list:\n",
    "    crime_anal.loc[crime_anal[col]>100, col] = 100.0"
   ]
  },
  {
   "cell_type": "code",
   "execution_count": 41,
   "metadata": {},
   "outputs": [
    {
     "data": {
      "text/html": [
       "<div>\n",
       "<style scoped>\n",
       "    .dataframe tbody tr th:only-of-type {\n",
       "        vertical-align: middle;\n",
       "    }\n",
       "\n",
       "    .dataframe tbody tr th {\n",
       "        vertical-align: top;\n",
       "    }\n",
       "\n",
       "    .dataframe thead th {\n",
       "        text-align: right;\n",
       "    }\n",
       "</style>\n",
       "<table border=\"1\" class=\"dataframe\">\n",
       "  <thead>\n",
       "    <tr style=\"text-align: right;\">\n",
       "      <th></th>\n",
       "      <th>강간발생</th>\n",
       "      <th>강도발생</th>\n",
       "      <th>살인발생</th>\n",
       "      <th>절도발생</th>\n",
       "      <th>폭력발생</th>\n",
       "      <th>강간검거율</th>\n",
       "      <th>강도검거율</th>\n",
       "      <th>살인검거율</th>\n",
       "      <th>절도검거율</th>\n",
       "      <th>폭력검거율</th>\n",
       "    </tr>\n",
       "    <tr>\n",
       "      <th>자치구</th>\n",
       "      <th></th>\n",
       "      <th></th>\n",
       "      <th></th>\n",
       "      <th></th>\n",
       "      <th></th>\n",
       "      <th></th>\n",
       "      <th></th>\n",
       "      <th></th>\n",
       "      <th></th>\n",
       "      <th></th>\n",
       "    </tr>\n",
       "  </thead>\n",
       "  <tbody>\n",
       "    <tr>\n",
       "      <th>강남구</th>\n",
       "      <td>607</td>\n",
       "      <td>20</td>\n",
       "      <td>7</td>\n",
       "      <td>3130</td>\n",
       "      <td>3956</td>\n",
       "      <td>81.713344</td>\n",
       "      <td>100.000000</td>\n",
       "      <td>100.0</td>\n",
       "      <td>44.185304</td>\n",
       "      <td>86.223458</td>\n",
       "    </tr>\n",
       "    <tr>\n",
       "      <th>강동구</th>\n",
       "      <td>172</td>\n",
       "      <td>10</td>\n",
       "      <td>5</td>\n",
       "      <td>1645</td>\n",
       "      <td>2429</td>\n",
       "      <td>98.255814</td>\n",
       "      <td>100.000000</td>\n",
       "      <td>100.0</td>\n",
       "      <td>57.689970</td>\n",
       "      <td>86.825854</td>\n",
       "    </tr>\n",
       "    <tr>\n",
       "      <th>강북구</th>\n",
       "      <td>208</td>\n",
       "      <td>7</td>\n",
       "      <td>8</td>\n",
       "      <td>1014</td>\n",
       "      <td>2156</td>\n",
       "      <td>73.557692</td>\n",
       "      <td>71.428571</td>\n",
       "      <td>100.0</td>\n",
       "      <td>62.623274</td>\n",
       "      <td>93.831169</td>\n",
       "    </tr>\n",
       "    <tr>\n",
       "      <th>강서구</th>\n",
       "      <td>316</td>\n",
       "      <td>4</td>\n",
       "      <td>11</td>\n",
       "      <td>1888</td>\n",
       "      <td>2916</td>\n",
       "      <td>80.063291</td>\n",
       "      <td>100.000000</td>\n",
       "      <td>100.0</td>\n",
       "      <td>58.951271</td>\n",
       "      <td>87.242798</td>\n",
       "    </tr>\n",
       "  </tbody>\n",
       "</table>\n",
       "</div>"
      ],
      "text/plain": [
       "     강간발생  강도발생  살인발생  절도발생  폭력발생      강간검거율       강도검거율  살인검거율      절도검거율  \\\n",
       "자치구                                                                          \n",
       "강남구   607    20     7  3130  3956  81.713344  100.000000  100.0  44.185304   \n",
       "강동구   172    10     5  1645  2429  98.255814  100.000000  100.0  57.689970   \n",
       "강북구   208     7     8  1014  2156  73.557692   71.428571  100.0  62.623274   \n",
       "강서구   316     4    11  1888  2916  80.063291  100.000000  100.0  58.951271   \n",
       "\n",
       "         폭력검거율  \n",
       "자치구             \n",
       "강남구  86.223458  \n",
       "강동구  86.825854  \n",
       "강북구  93.831169  \n",
       "강서구  87.242798  "
      ]
     },
     "execution_count": 41,
     "metadata": {},
     "output_type": "execute_result"
    }
   ],
   "source": [
    "crime_anal.head(4)"
   ]
  },
  {
   "cell_type": "code",
   "execution_count": 42,
   "metadata": {},
   "outputs": [
    {
     "data": {
      "text/plain": [
       "자치구\n",
       "강남구     False\n",
       "강동구     False\n",
       "강북구     False\n",
       "강서구     False\n",
       "관악구     False\n",
       "광진구     False\n",
       "구로구     False\n",
       "금천구     False\n",
       "노원구     False\n",
       "도봉구     False\n",
       "동대문구    False\n",
       "동작구     False\n",
       "마포구     False\n",
       "서대문구    False\n",
       "서초구     False\n",
       "성동구     False\n",
       "성북구     False\n",
       "송파구     False\n",
       "양천구     False\n",
       "영등포구    False\n",
       "용산구     False\n",
       "은평구     False\n",
       "종로구     False\n",
       "중구      False\n",
       "중랑구     False\n",
       "Name: 강도검거율, dtype: bool"
      ]
     },
     "execution_count": 42,
     "metadata": {},
     "output_type": "execute_result"
    }
   ],
   "source": [
    "crime_anal['강도검거율'] > 100"
   ]
  },
  {
   "cell_type": "code",
   "execution_count": 43,
   "metadata": {},
   "outputs": [
    {
     "data": {
      "text/plain": [
       "자치구\n",
       "강남구     100.0\n",
       "강동구     100.0\n",
       "강서구     100.0\n",
       "금천구     100.0\n",
       "도봉구     100.0\n",
       "동대문구    100.0\n",
       "동작구     100.0\n",
       "마포구     100.0\n",
       "서대문구    100.0\n",
       "성동구     100.0\n",
       "성북구     100.0\n",
       "송파구     100.0\n",
       "영등포구    100.0\n",
       "은평구     100.0\n",
       "중구      100.0\n",
       "중랑구     100.0\n",
       "Name: 강도검거율, dtype: float64"
      ]
     },
     "execution_count": 43,
     "metadata": {},
     "output_type": "execute_result"
    }
   ],
   "source": [
    "# 여러년도가 모였기때문에 -100이 넘는 수치는 전부 100 이라 간주\n",
    "crime_anal.loc[crime_anal['강도검거율']==100, '강도검거율']"
   ]
  },
  {
   "cell_type": "code",
   "execution_count": 44,
   "metadata": {},
   "outputs": [],
   "source": [
    "# 강도 발생 => 강도, 5세트 조정(발생이라는 단어 제거)\n",
    "dic = { \n",
    "    '강간발생':'강간',\n",
    "    '강도발생':'강도',\n",
    "    '살인발생':'살인',\n",
    "    '절도발생':'절도',\n",
    "    '폭력발생':'폭력'\n",
    "}\n",
    "\n",
    "# 컬럼이름 변경 \n",
    "crime_anal.rename(columns = dic, inplace = True)"
   ]
  },
  {
   "cell_type": "code",
   "execution_count": 45,
   "metadata": {},
   "outputs": [
    {
     "data": {
      "text/plain": [
       "Index(['강간', '강도', '살인', '절도', '폭력', '강간검거율', '강도검거율', '살인검거율', '절도검거율',\n",
       "       '폭력검거율'],\n",
       "      dtype='object')"
      ]
     },
     "execution_count": 45,
     "metadata": {},
     "output_type": "execute_result"
    }
   ],
   "source": [
    "# 잘 제거 되었는지 확인 \n",
    "crime_anal.columns"
   ]
  },
  {
   "cell_type": "code",
   "execution_count": 46,
   "metadata": {},
   "outputs": [
    {
     "data": {
      "text/html": [
       "<div>\n",
       "<style scoped>\n",
       "    .dataframe tbody tr th:only-of-type {\n",
       "        vertical-align: middle;\n",
       "    }\n",
       "\n",
       "    .dataframe tbody tr th {\n",
       "        vertical-align: top;\n",
       "    }\n",
       "\n",
       "    .dataframe thead th {\n",
       "        text-align: right;\n",
       "    }\n",
       "</style>\n",
       "<table border=\"1\" class=\"dataframe\">\n",
       "  <thead>\n",
       "    <tr style=\"text-align: right;\">\n",
       "      <th></th>\n",
       "      <th>강간</th>\n",
       "      <th>강도</th>\n",
       "      <th>살인</th>\n",
       "      <th>절도</th>\n",
       "      <th>폭력</th>\n",
       "      <th>강간검거율</th>\n",
       "      <th>강도검거율</th>\n",
       "      <th>살인검거율</th>\n",
       "      <th>절도검거율</th>\n",
       "      <th>폭력검거율</th>\n",
       "    </tr>\n",
       "    <tr>\n",
       "      <th>자치구</th>\n",
       "      <th></th>\n",
       "      <th></th>\n",
       "      <th></th>\n",
       "      <th></th>\n",
       "      <th></th>\n",
       "      <th></th>\n",
       "      <th></th>\n",
       "      <th></th>\n",
       "      <th></th>\n",
       "      <th></th>\n",
       "    </tr>\n",
       "  </thead>\n",
       "  <tbody>\n",
       "    <tr>\n",
       "      <th>강남구</th>\n",
       "      <td>607</td>\n",
       "      <td>20</td>\n",
       "      <td>7</td>\n",
       "      <td>3130</td>\n",
       "      <td>3956</td>\n",
       "      <td>81.713344</td>\n",
       "      <td>100.0</td>\n",
       "      <td>100.0</td>\n",
       "      <td>44.185304</td>\n",
       "      <td>86.223458</td>\n",
       "    </tr>\n",
       "    <tr>\n",
       "      <th>강동구</th>\n",
       "      <td>172</td>\n",
       "      <td>10</td>\n",
       "      <td>5</td>\n",
       "      <td>1645</td>\n",
       "      <td>2429</td>\n",
       "      <td>98.255814</td>\n",
       "      <td>100.0</td>\n",
       "      <td>100.0</td>\n",
       "      <td>57.689970</td>\n",
       "      <td>86.825854</td>\n",
       "    </tr>\n",
       "  </tbody>\n",
       "</table>\n",
       "</div>"
      ],
      "text/plain": [
       "      강간  강도  살인    절도    폭력      강간검거율  강도검거율  살인검거율      절도검거율      폭력검거율\n",
       "자치구                                                                        \n",
       "강남구  607  20   7  3130  3956  81.713344  100.0  100.0  44.185304  86.223458\n",
       "강동구  172  10   5  1645  2429  98.255814  100.0  100.0  57.689970  86.825854"
      ]
     },
     "execution_count": 46,
     "metadata": {},
     "output_type": "execute_result"
    }
   ],
   "source": [
    "crime_anal.head(2)"
   ]
  },
  {
   "cell_type": "markdown",
   "metadata": {},
   "source": [
    "## 정규화(normalize)\n",
    "\n",
    "- 중요!!! \n",
    "- 절도, 폭력 => 4자리수, 강도, 살인 2~1 자리 수 편차가 너무 크다.\n",
    "- 숫자의 범위를 비슷한 범위내에 두고 비교하는것이 편하고, 합리적이다. \n",
    "- 0 ~ 1 사이로 값을 배치하여 종합적으로 비교"
   ]
  },
  {
   "cell_type": "code",
   "execution_count": 48,
   "metadata": {},
   "outputs": [],
   "source": [
    "# 머신러닝 모듈 scikit-learn(싸이킷런)의 비지도 학습의 전처리 도구\n",
    "# 최대, 최소 전처리기를 이용하여 처리\n",
    "from sklearn import preprocessing"
   ]
  },
  {
   "cell_type": "code",
   "execution_count": 49,
   "metadata": {},
   "outputs": [
    {
     "data": {
      "text/plain": [
       "Index(['강간', '강도', '살인', '절도', '폭력'], dtype='object')"
      ]
     },
     "execution_count": 49,
     "metadata": {},
     "output_type": "execute_result"
    }
   ],
   "source": [
    "# 정규화 대상 컬럼 - 앞에서부터 5개 \n",
    "cols = crime_anal.columns[:5]\n",
    "cols"
   ]
  },
  {
   "cell_type": "code",
   "execution_count": 50,
   "metadata": {},
   "outputs": [
    {
     "data": {
      "text/plain": [
       "array([[ 607,   20,    7, 3130, 3956],\n",
       "       [ 172,   10,    5, 1645, 2429],\n",
       "       [ 208,    7,    8, 1014, 2156],\n",
       "       [ 316,    4,   11, 1888, 2916],\n",
       "       [ 379,    7,    8, 1979, 3152],\n",
       "       [ 261,   13,    6, 2220, 2146],\n",
       "       [ 328,    8,    7, 1725, 2827],\n",
       "       [ 240,    5,    5, 1141, 1874],\n",
       "       [ 180,    9,    4, 1538, 2478],\n",
       "       [ 104,    3,    1,  633, 1258],\n",
       "       [ 165,    3,   11, 1547, 2249],\n",
       "       [ 396,    7,    1, 1226, 1700],\n",
       "       [ 500,    8,    3, 2094, 2673],\n",
       "       [ 202,    1,    4, 1230, 1676],\n",
       "       [ 470,   13,    9, 1812, 2404],\n",
       "       [ 132,    3,    1, 1072, 1559],\n",
       "       [ 173,    8,    7, 1344, 1902],\n",
       "       [ 288,    1,    6, 2274, 3007],\n",
       "       [ 138,    3,    3, 1590, 2148],\n",
       "       [ 455,    5,   15, 2304, 3190],\n",
       "       [ 327,    5,    1, 1346, 2381],\n",
       "       [ 230,    4,    6, 1387, 2256],\n",
       "       [ 253,   10,    7, 1644, 2143],\n",
       "       [ 267,    9,    1, 1846, 2061],\n",
       "       [ 172,    3,    5, 1533, 2858]], dtype=int64)"
      ]
     },
     "execution_count": 50,
     "metadata": {},
     "output_type": "execute_result"
    }
   ],
   "source": [
    "# 데이터 확득 : DAtaFrame에서 데이터만 추출 => numpy의 배열로 리턴 \n",
    "x = crime_anal[cols].values\n",
    "x"
   ]
  },
  {
   "cell_type": "code",
   "execution_count": 51,
   "metadata": {},
   "outputs": [
    {
     "data": {
      "text/plain": [
       "((25, 5), dtype('int64'))"
      ]
     },
     "execution_count": 51,
     "metadata": {},
     "output_type": "execute_result"
    }
   ],
   "source": [
    "x.shape, x.dtype"
   ]
  },
  {
   "cell_type": "code",
   "execution_count": 52,
   "metadata": {},
   "outputs": [],
   "source": [
    "# 전처리기 획득\n",
    "min_max_scaler = preprocessing.MinMaxScaler()"
   ]
  },
  {
   "cell_type": "code",
   "execution_count": null,
   "metadata": {},
   "outputs": [],
   "source": [
    "crime_anal[cols].head(5)"
   ]
  },
  {
   "cell_type": "code",
   "execution_count": 53,
   "metadata": {},
   "outputs": [],
   "source": [
    "# 전차리 => 정규화로 (입력원이 부동소수이여야 한다)\n",
    "x_scaled = min_max_scaler.fit_transform(x.astype(float))"
   ]
  },
  {
   "cell_type": "code",
   "execution_count": 54,
   "metadata": {},
   "outputs": [
    {
     "data": {
      "text/plain": [
       "array([[1.        , 1.        , 0.42857143, 1.        , 1.        ],\n",
       "       [0.13518887, 0.47368421, 0.28571429, 0.40528634, 0.4340252 ],\n",
       "       [0.20675944, 0.31578947, 0.5       , 0.1525831 , 0.33283914],\n",
       "       [0.42147117, 0.15789474, 0.71428571, 0.50260312, 0.61452928],\n",
       "       [0.54671968, 0.31578947, 0.5       , 0.53904686, 0.70200148],\n",
       "       [0.31212724, 0.63157895, 0.35714286, 0.63556268, 0.32913269],\n",
       "       [0.44532803, 0.36842105, 0.42857143, 0.43732479, 0.58154188],\n",
       "       [0.27037773, 0.21052632, 0.28571429, 0.20344413, 0.22831727],\n",
       "       [0.15109344, 0.42105263, 0.21428571, 0.36243492, 0.45218681],\n",
       "       [0.        , 0.10526316, 0.        , 0.        , 0.        ],\n",
       "       [0.12127237, 0.10526316, 0.71428571, 0.36603925, 0.36730912],\n",
       "       [0.5805169 , 0.31578947, 0.        , 0.23748498, 0.16382506],\n",
       "       [0.78727634, 0.36842105, 0.14285714, 0.58510212, 0.52446256],\n",
       "       [0.19483101, 0.        , 0.21428571, 0.2390869 , 0.15492958],\n",
       "       [0.72763419, 0.63157895, 0.57142857, 0.4721666 , 0.42475908],\n",
       "       [0.055666  , 0.10526316, 0.        , 0.17581097, 0.11156412],\n",
       "       [0.13717694, 0.36842105, 0.42857143, 0.28474169, 0.23869533],\n",
       "       [0.36580517, 0.        , 0.35714286, 0.65718863, 0.64825797],\n",
       "       [0.06759443, 0.10526316, 0.14285714, 0.38325991, 0.32987398],\n",
       "       [0.69781312, 0.21052632, 1.        , 0.66920304, 0.71608599],\n",
       "       [0.44333996, 0.21052632, 0.        , 0.28554265, 0.41623425],\n",
       "       [0.25049702, 0.15789474, 0.35714286, 0.30196235, 0.36990363],\n",
       "       [0.29622266, 0.47368421, 0.42857143, 0.40488586, 0.32802076],\n",
       "       [0.32405567, 0.42105263, 0.        , 0.48578294, 0.29762787],\n",
       "       [0.13518887, 0.10526316, 0.28571429, 0.36043252, 0.59303188]])"
      ]
     },
     "execution_count": 54,
     "metadata": {},
     "output_type": "execute_result"
    }
   ],
   "source": [
    "x_scaled"
   ]
  },
  {
   "cell_type": "code",
   "execution_count": 55,
   "metadata": {},
   "outputs": [
    {
     "data": {
      "text/html": [
       "<div>\n",
       "<style scoped>\n",
       "    .dataframe tbody tr th:only-of-type {\n",
       "        vertical-align: middle;\n",
       "    }\n",
       "\n",
       "    .dataframe tbody tr th {\n",
       "        vertical-align: top;\n",
       "    }\n",
       "\n",
       "    .dataframe thead th {\n",
       "        text-align: right;\n",
       "    }\n",
       "</style>\n",
       "<table border=\"1\" class=\"dataframe\">\n",
       "  <thead>\n",
       "    <tr style=\"text-align: right;\">\n",
       "      <th></th>\n",
       "      <th>강간</th>\n",
       "      <th>강도</th>\n",
       "      <th>살인</th>\n",
       "      <th>절도</th>\n",
       "      <th>폭력</th>\n",
       "    </tr>\n",
       "    <tr>\n",
       "      <th>자치구</th>\n",
       "      <th></th>\n",
       "      <th></th>\n",
       "      <th></th>\n",
       "      <th></th>\n",
       "      <th></th>\n",
       "    </tr>\n",
       "  </thead>\n",
       "  <tbody>\n",
       "    <tr>\n",
       "      <th>강남구</th>\n",
       "      <td>1.000000</td>\n",
       "      <td>1.000000</td>\n",
       "      <td>0.428571</td>\n",
       "      <td>1.000000</td>\n",
       "      <td>1.000000</td>\n",
       "    </tr>\n",
       "    <tr>\n",
       "      <th>강동구</th>\n",
       "      <td>0.135189</td>\n",
       "      <td>0.473684</td>\n",
       "      <td>0.285714</td>\n",
       "      <td>0.405286</td>\n",
       "      <td>0.434025</td>\n",
       "    </tr>\n",
       "  </tbody>\n",
       "</table>\n",
       "</div>"
      ],
      "text/plain": [
       "           강간        강도        살인        절도        폭력\n",
       "자치구                                                  \n",
       "강남구  1.000000  1.000000  0.428571  1.000000  1.000000\n",
       "강동구  0.135189  0.473684  0.285714  0.405286  0.434025"
      ]
     },
     "execution_count": 55,
     "metadata": {},
     "output_type": "execute_result"
    }
   ],
   "source": [
    "# 데이터 프레임 재구성\n",
    "crime_anal_norm = pd.DataFrame(x_scaled,columns=cols,index=crime_anal.index)\n",
    "crime_anal_norm.head(2)"
   ]
  },
  {
   "cell_type": "code",
   "execution_count": 56,
   "metadata": {},
   "outputs": [
    {
     "data": {
      "text/plain": [
       "Index(['강간검거율', '강도검거율', '살인검거율', '절도검거율', '폭력검거율'], dtype='object')"
      ]
     },
     "execution_count": 56,
     "metadata": {},
     "output_type": "execute_result"
    }
   ],
   "source": [
    "# 누락된 검거율 컬럼 목록 조회\n",
    "col_list"
   ]
  },
  {
   "cell_type": "code",
   "execution_count": 57,
   "metadata": {},
   "outputs": [],
   "source": [
    "# 검거율 5개를 동시 추가\n",
    "crime_anal_norm[col_list] = crime_anal[col_list]"
   ]
  },
  {
   "cell_type": "code",
   "execution_count": 58,
   "metadata": {},
   "outputs": [
    {
     "data": {
      "text/plain": [
       "(25, 10)"
      ]
     },
     "execution_count": 58,
     "metadata": {},
     "output_type": "execute_result"
    }
   ],
   "source": [
    "crime_anal_norm.shape"
   ]
  },
  {
   "cell_type": "code",
   "execution_count": 59,
   "metadata": {},
   "outputs": [
    {
     "data": {
      "text/html": [
       "<div>\n",
       "<style scoped>\n",
       "    .dataframe tbody tr th:only-of-type {\n",
       "        vertical-align: middle;\n",
       "    }\n",
       "\n",
       "    .dataframe tbody tr th {\n",
       "        vertical-align: top;\n",
       "    }\n",
       "\n",
       "    .dataframe thead th {\n",
       "        text-align: right;\n",
       "    }\n",
       "</style>\n",
       "<table border=\"1\" class=\"dataframe\">\n",
       "  <thead>\n",
       "    <tr style=\"text-align: right;\">\n",
       "      <th></th>\n",
       "      <th>강간</th>\n",
       "      <th>강도</th>\n",
       "      <th>살인</th>\n",
       "      <th>절도</th>\n",
       "      <th>폭력</th>\n",
       "      <th>강간검거율</th>\n",
       "      <th>강도검거율</th>\n",
       "      <th>살인검거율</th>\n",
       "      <th>절도검거율</th>\n",
       "      <th>폭력검거율</th>\n",
       "    </tr>\n",
       "    <tr>\n",
       "      <th>자치구</th>\n",
       "      <th></th>\n",
       "      <th></th>\n",
       "      <th></th>\n",
       "      <th></th>\n",
       "      <th></th>\n",
       "      <th></th>\n",
       "      <th></th>\n",
       "      <th></th>\n",
       "      <th></th>\n",
       "      <th></th>\n",
       "    </tr>\n",
       "  </thead>\n",
       "  <tbody>\n",
       "    <tr>\n",
       "      <th>강남구</th>\n",
       "      <td>1.000000</td>\n",
       "      <td>1.000000</td>\n",
       "      <td>0.428571</td>\n",
       "      <td>1.000000</td>\n",
       "      <td>1.000000</td>\n",
       "      <td>81.713344</td>\n",
       "      <td>100.0</td>\n",
       "      <td>100.0</td>\n",
       "      <td>44.185304</td>\n",
       "      <td>86.223458</td>\n",
       "    </tr>\n",
       "    <tr>\n",
       "      <th>강동구</th>\n",
       "      <td>0.135189</td>\n",
       "      <td>0.473684</td>\n",
       "      <td>0.285714</td>\n",
       "      <td>0.405286</td>\n",
       "      <td>0.434025</td>\n",
       "      <td>98.255814</td>\n",
       "      <td>100.0</td>\n",
       "      <td>100.0</td>\n",
       "      <td>57.689970</td>\n",
       "      <td>86.825854</td>\n",
       "    </tr>\n",
       "  </tbody>\n",
       "</table>\n",
       "</div>"
      ],
      "text/plain": [
       "           강간        강도        살인        절도        폭력      강간검거율  강도검거율  \\\n",
       "자치구                                                                       \n",
       "강남구  1.000000  1.000000  0.428571  1.000000  1.000000  81.713344  100.0   \n",
       "강동구  0.135189  0.473684  0.285714  0.405286  0.434025  98.255814  100.0   \n",
       "\n",
       "     살인검거율      절도검거율      폭력검거율  \n",
       "자치구                               \n",
       "강남구  100.0  44.185304  86.223458  \n",
       "강동구  100.0  57.689970  86.825854  "
      ]
     },
     "execution_count": 59,
     "metadata": {},
     "output_type": "execute_result"
    }
   ],
   "source": [
    "crime_anal_norm.head(2)"
   ]
  },
  {
   "cell_type": "markdown",
   "metadata": {},
   "source": [
    "# 1차 분석 (CCTV인구수) 관련 데이터 로드 \n",
    "- 데이터 분석을 df로 구성시 인덱스 직접 지정"
   ]
  },
  {
   "cell_type": "code",
   "execution_count": 60,
   "metadata": {},
   "outputs": [
    {
     "data": {
      "text/plain": [
       "(25, 15)"
      ]
     },
     "execution_count": 60,
     "metadata": {},
     "output_type": "execute_result"
    }
   ],
   "source": [
    "result_CCTV = pd.read_csv('../data/populate_per_cctv_analysis_result.csv',\n",
    "                         encoding='utf-8', index_col='자치구')\n",
    "result_CCTV.shape"
   ]
  },
  {
   "cell_type": "code",
   "execution_count": 61,
   "metadata": {},
   "outputs": [
    {
     "data": {
      "text/plain": [
       "Index(['소계', '2014년도 이전', '2015년', '2016년', '2017년', '2018년', '최신증가율', '인구수',\n",
       "       '한국인', '외국인', '고령자', '외국인비율', '고령자비율', 'CCTV비율', '오차'],\n",
       "      dtype='object')"
      ]
     },
     "execution_count": 61,
     "metadata": {},
     "output_type": "execute_result"
    }
   ],
   "source": [
    "result_CCTV.columns"
   ]
  },
  {
   "cell_type": "code",
   "execution_count": 62,
   "metadata": {},
   "outputs": [
    {
     "data": {
      "text/plain": [
       "((25, 12),\n",
       " Index(['강간', '강도', '살인', '절도', '폭력', '강간검거율', '강도검거율', '살인검거율', '절도검거율',\n",
       "        '폭력검거율', '인구수', 'CCTV'],\n",
       "       dtype='object'))"
      ]
     },
     "execution_count": 62,
     "metadata": {},
     "output_type": "execute_result"
    }
   ],
   "source": [
    "# 필요한 컬럼을 추가하겠다.(추가 대상의 컬럼명은 자유롭게 변경가능 )\n",
    "crime_anal_norm[['인구수','CCTV']]= result_CCTV[['인구수','소계']]\n",
    "crime_anal_norm.shape, crime_anal_norm.columns"
   ]
  },
  {
   "cell_type": "code",
   "execution_count": 63,
   "metadata": {},
   "outputs": [
    {
     "data": {
      "text/plain": [
       "자치구\n",
       "강남구     4.428571\n",
       "강동구     1.733899\n",
       "강북구     1.507971\n",
       "강서구     2.410784\n",
       "관악구     2.603557\n",
       "광진구     2.265544\n",
       "구로구     2.261187\n",
       "금천구     1.198380\n",
       "노원구     1.601054\n",
       "도봉구     0.105263\n",
       "동대문구    1.674170\n",
       "동작구     1.297616\n",
       "마포구     2.408119\n",
       "서대문구    0.803133\n",
       "서초구     2.827567\n",
       "성동구     0.448304\n",
       "성북구     1.457606\n",
       "송파구     2.028395\n",
       "양천구     1.028849\n",
       "영등포구    3.293628\n",
       "용산구     1.355643\n",
       "은평구     1.437401\n",
       "종로구     1.931385\n",
       "중구      1.528519\n",
       "중랑구     1.479631\n",
       "dtype: float64"
      ]
     },
     "execution_count": 63,
     "metadata": {},
     "output_type": "execute_result"
    }
   ],
   "source": [
    "# 발생건수 => 합치면 => 범죄\n",
    "cols = crime_anal_norm.columns[:5]\n",
    "np.sum(crime_anal_norm[cols], axis =1)"
   ]
  },
  {
   "cell_type": "code",
   "execution_count": 64,
   "metadata": {},
   "outputs": [
    {
     "data": {
      "text/html": [
       "<div>\n",
       "<style scoped>\n",
       "    .dataframe tbody tr th:only-of-type {\n",
       "        vertical-align: middle;\n",
       "    }\n",
       "\n",
       "    .dataframe tbody tr th {\n",
       "        vertical-align: top;\n",
       "    }\n",
       "\n",
       "    .dataframe thead th {\n",
       "        text-align: right;\n",
       "    }\n",
       "</style>\n",
       "<table border=\"1\" class=\"dataframe\">\n",
       "  <thead>\n",
       "    <tr style=\"text-align: right;\">\n",
       "      <th></th>\n",
       "      <th>범죄</th>\n",
       "    </tr>\n",
       "    <tr>\n",
       "      <th>자치구</th>\n",
       "      <th></th>\n",
       "    </tr>\n",
       "  </thead>\n",
       "  <tbody>\n",
       "    <tr>\n",
       "      <th>강남구</th>\n",
       "      <td>4.428571</td>\n",
       "    </tr>\n",
       "    <tr>\n",
       "      <th>강동구</th>\n",
       "      <td>1.733899</td>\n",
       "    </tr>\n",
       "    <tr>\n",
       "      <th>강북구</th>\n",
       "      <td>1.507971</td>\n",
       "    </tr>\n",
       "    <tr>\n",
       "      <th>강서구</th>\n",
       "      <td>2.410784</td>\n",
       "    </tr>\n",
       "    <tr>\n",
       "      <th>관악구</th>\n",
       "      <td>2.603557</td>\n",
       "    </tr>\n",
       "    <tr>\n",
       "      <th>광진구</th>\n",
       "      <td>2.265544</td>\n",
       "    </tr>\n",
       "    <tr>\n",
       "      <th>구로구</th>\n",
       "      <td>2.261187</td>\n",
       "    </tr>\n",
       "    <tr>\n",
       "      <th>금천구</th>\n",
       "      <td>1.198380</td>\n",
       "    </tr>\n",
       "    <tr>\n",
       "      <th>노원구</th>\n",
       "      <td>1.601054</td>\n",
       "    </tr>\n",
       "    <tr>\n",
       "      <th>도봉구</th>\n",
       "      <td>0.105263</td>\n",
       "    </tr>\n",
       "    <tr>\n",
       "      <th>동대문구</th>\n",
       "      <td>1.674170</td>\n",
       "    </tr>\n",
       "    <tr>\n",
       "      <th>동작구</th>\n",
       "      <td>1.297616</td>\n",
       "    </tr>\n",
       "    <tr>\n",
       "      <th>마포구</th>\n",
       "      <td>2.408119</td>\n",
       "    </tr>\n",
       "    <tr>\n",
       "      <th>서대문구</th>\n",
       "      <td>0.803133</td>\n",
       "    </tr>\n",
       "    <tr>\n",
       "      <th>서초구</th>\n",
       "      <td>2.827567</td>\n",
       "    </tr>\n",
       "    <tr>\n",
       "      <th>성동구</th>\n",
       "      <td>0.448304</td>\n",
       "    </tr>\n",
       "    <tr>\n",
       "      <th>성북구</th>\n",
       "      <td>1.457606</td>\n",
       "    </tr>\n",
       "    <tr>\n",
       "      <th>송파구</th>\n",
       "      <td>2.028395</td>\n",
       "    </tr>\n",
       "    <tr>\n",
       "      <th>양천구</th>\n",
       "      <td>1.028849</td>\n",
       "    </tr>\n",
       "    <tr>\n",
       "      <th>영등포구</th>\n",
       "      <td>3.293628</td>\n",
       "    </tr>\n",
       "    <tr>\n",
       "      <th>용산구</th>\n",
       "      <td>1.355643</td>\n",
       "    </tr>\n",
       "    <tr>\n",
       "      <th>은평구</th>\n",
       "      <td>1.437401</td>\n",
       "    </tr>\n",
       "    <tr>\n",
       "      <th>종로구</th>\n",
       "      <td>1.931385</td>\n",
       "    </tr>\n",
       "    <tr>\n",
       "      <th>중구</th>\n",
       "      <td>1.528519</td>\n",
       "    </tr>\n",
       "    <tr>\n",
       "      <th>중랑구</th>\n",
       "      <td>1.479631</td>\n",
       "    </tr>\n",
       "  </tbody>\n",
       "</table>\n",
       "</div>"
      ],
      "text/plain": [
       "            범죄\n",
       "자치구           \n",
       "강남구   4.428571\n",
       "강동구   1.733899\n",
       "강북구   1.507971\n",
       "강서구   2.410784\n",
       "관악구   2.603557\n",
       "광진구   2.265544\n",
       "구로구   2.261187\n",
       "금천구   1.198380\n",
       "노원구   1.601054\n",
       "도봉구   0.105263\n",
       "동대문구  1.674170\n",
       "동작구   1.297616\n",
       "마포구   2.408119\n",
       "서대문구  0.803133\n",
       "서초구   2.827567\n",
       "성동구   0.448304\n",
       "성북구   1.457606\n",
       "송파구   2.028395\n",
       "양천구   1.028849\n",
       "영등포구  3.293628\n",
       "용산구   1.355643\n",
       "은평구   1.437401\n",
       "종로구   1.931385\n",
       "중구    1.528519\n",
       "중랑구   1.479631"
      ]
     },
     "execution_count": 64,
     "metadata": {},
     "output_type": "execute_result"
    }
   ],
   "source": [
    "crime_anal_norm['범죄'] = np.sum(crime_anal_norm[cols], axis=1)\n",
    "crime_anal_norm.iloc[ :, [len(crime_anal_norm.columns)-1]]"
   ]
  },
  {
   "cell_type": "code",
   "execution_count": 65,
   "metadata": {},
   "outputs": [
    {
     "data": {
      "text/html": [
       "<div>\n",
       "<style scoped>\n",
       "    .dataframe tbody tr th:only-of-type {\n",
       "        vertical-align: middle;\n",
       "    }\n",
       "\n",
       "    .dataframe tbody tr th {\n",
       "        vertical-align: top;\n",
       "    }\n",
       "\n",
       "    .dataframe thead th {\n",
       "        text-align: right;\n",
       "    }\n",
       "</style>\n",
       "<table border=\"1\" class=\"dataframe\">\n",
       "  <thead>\n",
       "    <tr style=\"text-align: right;\">\n",
       "      <th></th>\n",
       "      <th>검거</th>\n",
       "    </tr>\n",
       "    <tr>\n",
       "      <th>자치구</th>\n",
       "      <th></th>\n",
       "    </tr>\n",
       "  </thead>\n",
       "  <tbody>\n",
       "    <tr>\n",
       "      <th>강남구</th>\n",
       "      <td>412.122106</td>\n",
       "    </tr>\n",
       "    <tr>\n",
       "      <th>강동구</th>\n",
       "      <td>442.771638</td>\n",
       "    </tr>\n",
       "    <tr>\n",
       "      <th>강북구</th>\n",
       "      <td>401.440707</td>\n",
       "    </tr>\n",
       "    <tr>\n",
       "      <th>강서구</th>\n",
       "      <td>426.257361</td>\n",
       "    </tr>\n",
       "    <tr>\n",
       "      <th>관악구</th>\n",
       "      <td>401.230996</td>\n",
       "    </tr>\n",
       "    <tr>\n",
       "      <th>광진구</th>\n",
       "      <td>365.714707</td>\n",
       "    </tr>\n",
       "    <tr>\n",
       "      <th>구로구</th>\n",
       "      <td>363.474489</td>\n",
       "    </tr>\n",
       "    <tr>\n",
       "      <th>금천구</th>\n",
       "      <td>436.838689</td>\n",
       "    </tr>\n",
       "    <tr>\n",
       "      <th>노원구</th>\n",
       "      <td>398.822941</td>\n",
       "    </tr>\n",
       "    <tr>\n",
       "      <th>도봉구</th>\n",
       "      <td>454.589019</td>\n",
       "    </tr>\n",
       "    <tr>\n",
       "      <th>동대문구</th>\n",
       "      <td>440.015847</td>\n",
       "    </tr>\n",
       "    <tr>\n",
       "      <th>동작구</th>\n",
       "      <td>378.290841</td>\n",
       "    </tr>\n",
       "    <tr>\n",
       "      <th>마포구</th>\n",
       "      <td>408.898919</td>\n",
       "    </tr>\n",
       "    <tr>\n",
       "      <th>서대문구</th>\n",
       "      <td>431.173803</td>\n",
       "    </tr>\n",
       "    <tr>\n",
       "      <th>서초구</th>\n",
       "      <td>347.578202</td>\n",
       "    </tr>\n",
       "    <tr>\n",
       "      <th>성동구</th>\n",
       "      <td>419.346009</td>\n",
       "    </tr>\n",
       "    <tr>\n",
       "      <th>성북구</th>\n",
       "      <td>415.304730</td>\n",
       "    </tr>\n",
       "    <tr>\n",
       "      <th>송파구</th>\n",
       "      <td>415.378636</td>\n",
       "    </tr>\n",
       "    <tr>\n",
       "      <th>양천구</th>\n",
       "      <td>352.060974</td>\n",
       "    </tr>\n",
       "    <tr>\n",
       "      <th>영등포구</th>\n",
       "      <td>375.538577</td>\n",
       "    </tr>\n",
       "    <tr>\n",
       "      <th>용산구</th>\n",
       "      <td>399.557684</td>\n",
       "    </tr>\n",
       "    <tr>\n",
       "      <th>은평구</th>\n",
       "      <td>450.817072</td>\n",
       "    </tr>\n",
       "    <tr>\n",
       "      <th>종로구</th>\n",
       "      <td>345.553301</td>\n",
       "    </tr>\n",
       "    <tr>\n",
       "      <th>중구</th>\n",
       "      <td>291.493748</td>\n",
       "    </tr>\n",
       "    <tr>\n",
       "      <th>중랑구</th>\n",
       "      <td>421.638733</td>\n",
       "    </tr>\n",
       "  </tbody>\n",
       "</table>\n",
       "</div>"
      ],
      "text/plain": [
       "              검거\n",
       "자치구             \n",
       "강남구   412.122106\n",
       "강동구   442.771638\n",
       "강북구   401.440707\n",
       "강서구   426.257361\n",
       "관악구   401.230996\n",
       "광진구   365.714707\n",
       "구로구   363.474489\n",
       "금천구   436.838689\n",
       "노원구   398.822941\n",
       "도봉구   454.589019\n",
       "동대문구  440.015847\n",
       "동작구   378.290841\n",
       "마포구   408.898919\n",
       "서대문구  431.173803\n",
       "서초구   347.578202\n",
       "성동구   419.346009\n",
       "성북구   415.304730\n",
       "송파구   415.378636\n",
       "양천구   352.060974\n",
       "영등포구  375.538577\n",
       "용산구   399.557684\n",
       "은평구   450.817072\n",
       "종로구   345.553301\n",
       "중구    291.493748\n",
       "중랑구   421.638733"
      ]
     },
     "execution_count": 65,
     "metadata": {},
     "output_type": "execute_result"
    }
   ],
   "source": [
    "# 검거 항목을 생성하시오 (방식은 범죄와 동일)\n",
    "cols = ['강간검거율', '강도검거율', '살인검거율', '절도검거율',\n",
    "        '폭력검거율']\n",
    "crime_anal_norm['검거'] = np.sum(crime_anal_norm[cols], axis=1)\n",
    "crime_anal_norm.iloc[ :, [len(crime_anal_norm.columns)-1]]"
   ]
  },
  {
   "cell_type": "code",
   "execution_count": 66,
   "metadata": {},
   "outputs": [
    {
     "data": {
      "text/plain": [
       "(25, 14)"
      ]
     },
     "execution_count": 66,
     "metadata": {},
     "output_type": "execute_result"
    }
   ],
   "source": [
    "crime_anal_norm.shape"
   ]
  },
  {
   "cell_type": "code",
   "execution_count": 67,
   "metadata": {
    "scrolled": true
   },
   "outputs": [
    {
     "data": {
      "text/html": [
       "<div>\n",
       "<style scoped>\n",
       "    .dataframe tbody tr th:only-of-type {\n",
       "        vertical-align: middle;\n",
       "    }\n",
       "\n",
       "    .dataframe tbody tr th {\n",
       "        vertical-align: top;\n",
       "    }\n",
       "\n",
       "    .dataframe thead th {\n",
       "        text-align: right;\n",
       "    }\n",
       "</style>\n",
       "<table border=\"1\" class=\"dataframe\">\n",
       "  <thead>\n",
       "    <tr style=\"text-align: right;\">\n",
       "      <th></th>\n",
       "      <th>강간</th>\n",
       "      <th>강도</th>\n",
       "      <th>살인</th>\n",
       "      <th>절도</th>\n",
       "      <th>폭력</th>\n",
       "      <th>강간검거율</th>\n",
       "      <th>강도검거율</th>\n",
       "      <th>살인검거율</th>\n",
       "      <th>절도검거율</th>\n",
       "      <th>폭력검거율</th>\n",
       "      <th>인구수</th>\n",
       "      <th>CCTV</th>\n",
       "      <th>범죄</th>\n",
       "      <th>검거</th>\n",
       "    </tr>\n",
       "    <tr>\n",
       "      <th>자치구</th>\n",
       "      <th></th>\n",
       "      <th></th>\n",
       "      <th></th>\n",
       "      <th></th>\n",
       "      <th></th>\n",
       "      <th></th>\n",
       "      <th></th>\n",
       "      <th></th>\n",
       "      <th></th>\n",
       "      <th></th>\n",
       "      <th></th>\n",
       "      <th></th>\n",
       "      <th></th>\n",
       "      <th></th>\n",
       "    </tr>\n",
       "  </thead>\n",
       "  <tbody>\n",
       "    <tr>\n",
       "      <th>강남구</th>\n",
       "      <td>1.000000</td>\n",
       "      <td>1.000000</td>\n",
       "      <td>0.428571</td>\n",
       "      <td>1.000000</td>\n",
       "      <td>1.000000</td>\n",
       "      <td>81.713344</td>\n",
       "      <td>100.000000</td>\n",
       "      <td>100.000000</td>\n",
       "      <td>44.185304</td>\n",
       "      <td>86.223458</td>\n",
       "      <td>547453</td>\n",
       "      <td>5221</td>\n",
       "      <td>4.428571</td>\n",
       "      <td>412.122106</td>\n",
       "    </tr>\n",
       "    <tr>\n",
       "      <th>강동구</th>\n",
       "      <td>0.135189</td>\n",
       "      <td>0.473684</td>\n",
       "      <td>0.285714</td>\n",
       "      <td>0.405286</td>\n",
       "      <td>0.434025</td>\n",
       "      <td>98.255814</td>\n",
       "      <td>100.000000</td>\n",
       "      <td>100.000000</td>\n",
       "      <td>57.689970</td>\n",
       "      <td>86.825854</td>\n",
       "      <td>431920</td>\n",
       "      <td>1879</td>\n",
       "      <td>1.733899</td>\n",
       "      <td>442.771638</td>\n",
       "    </tr>\n",
       "    <tr>\n",
       "      <th>강북구</th>\n",
       "      <td>0.206759</td>\n",
       "      <td>0.315789</td>\n",
       "      <td>0.500000</td>\n",
       "      <td>0.152583</td>\n",
       "      <td>0.332839</td>\n",
       "      <td>73.557692</td>\n",
       "      <td>71.428571</td>\n",
       "      <td>100.000000</td>\n",
       "      <td>62.623274</td>\n",
       "      <td>93.831169</td>\n",
       "      <td>322915</td>\n",
       "      <td>1265</td>\n",
       "      <td>1.507971</td>\n",
       "      <td>401.440707</td>\n",
       "    </tr>\n",
       "    <tr>\n",
       "      <th>강서구</th>\n",
       "      <td>0.421471</td>\n",
       "      <td>0.157895</td>\n",
       "      <td>0.714286</td>\n",
       "      <td>0.502603</td>\n",
       "      <td>0.614529</td>\n",
       "      <td>80.063291</td>\n",
       "      <td>100.000000</td>\n",
       "      <td>100.000000</td>\n",
       "      <td>58.951271</td>\n",
       "      <td>87.242798</td>\n",
       "      <td>603611</td>\n",
       "      <td>1617</td>\n",
       "      <td>2.410784</td>\n",
       "      <td>426.257361</td>\n",
       "    </tr>\n",
       "    <tr>\n",
       "      <th>관악구</th>\n",
       "      <td>0.546720</td>\n",
       "      <td>0.315789</td>\n",
       "      <td>0.500000</td>\n",
       "      <td>0.539047</td>\n",
       "      <td>0.702001</td>\n",
       "      <td>85.224274</td>\n",
       "      <td>85.714286</td>\n",
       "      <td>87.500000</td>\n",
       "      <td>58.211218</td>\n",
       "      <td>84.581218</td>\n",
       "      <td>520040</td>\n",
       "      <td>3985</td>\n",
       "      <td>2.603557</td>\n",
       "      <td>401.230996</td>\n",
       "    </tr>\n",
       "    <tr>\n",
       "      <th>광진구</th>\n",
       "      <td>0.312127</td>\n",
       "      <td>0.631579</td>\n",
       "      <td>0.357143</td>\n",
       "      <td>0.635563</td>\n",
       "      <td>0.329133</td>\n",
       "      <td>79.693487</td>\n",
       "      <td>61.538462</td>\n",
       "      <td>83.333333</td>\n",
       "      <td>52.612613</td>\n",
       "      <td>88.536813</td>\n",
       "      <td>371063</td>\n",
       "      <td>1581</td>\n",
       "      <td>2.265544</td>\n",
       "      <td>365.714707</td>\n",
       "    </tr>\n",
       "    <tr>\n",
       "      <th>구로구</th>\n",
       "      <td>0.445328</td>\n",
       "      <td>0.368421</td>\n",
       "      <td>0.428571</td>\n",
       "      <td>0.437325</td>\n",
       "      <td>0.581542</td>\n",
       "      <td>55.182927</td>\n",
       "      <td>75.000000</td>\n",
       "      <td>100.000000</td>\n",
       "      <td>50.376812</td>\n",
       "      <td>82.914751</td>\n",
       "      <td>438486</td>\n",
       "      <td>3227</td>\n",
       "      <td>2.261187</td>\n",
       "      <td>363.474489</td>\n",
       "    </tr>\n",
       "    <tr>\n",
       "      <th>금천구</th>\n",
       "      <td>0.270378</td>\n",
       "      <td>0.210526</td>\n",
       "      <td>0.285714</td>\n",
       "      <td>0.203444</td>\n",
       "      <td>0.228317</td>\n",
       "      <td>88.333333</td>\n",
       "      <td>100.000000</td>\n",
       "      <td>100.000000</td>\n",
       "      <td>59.070990</td>\n",
       "      <td>89.434365</td>\n",
       "      <td>254021</td>\n",
       "      <td>1634</td>\n",
       "      <td>1.198380</td>\n",
       "      <td>436.838689</td>\n",
       "    </tr>\n",
       "    <tr>\n",
       "      <th>노원구</th>\n",
       "      <td>0.151093</td>\n",
       "      <td>0.421053</td>\n",
       "      <td>0.214286</td>\n",
       "      <td>0.362435</td>\n",
       "      <td>0.452187</td>\n",
       "      <td>86.111111</td>\n",
       "      <td>77.777778</td>\n",
       "      <td>100.000000</td>\n",
       "      <td>49.219766</td>\n",
       "      <td>85.714286</td>\n",
       "      <td>548160</td>\n",
       "      <td>1906</td>\n",
       "      <td>1.601054</td>\n",
       "      <td>398.822941</td>\n",
       "    </tr>\n",
       "    <tr>\n",
       "      <th>도봉구</th>\n",
       "      <td>0.000000</td>\n",
       "      <td>0.105263</td>\n",
       "      <td>0.000000</td>\n",
       "      <td>0.000000</td>\n",
       "      <td>0.000000</td>\n",
       "      <td>100.000000</td>\n",
       "      <td>100.000000</td>\n",
       "      <td>100.000000</td>\n",
       "      <td>65.876777</td>\n",
       "      <td>88.712242</td>\n",
       "      <td>341649</td>\n",
       "      <td>858</td>\n",
       "      <td>0.105263</td>\n",
       "      <td>454.589019</td>\n",
       "    </tr>\n",
       "    <tr>\n",
       "      <th>동대문구</th>\n",
       "      <td>0.121272</td>\n",
       "      <td>0.105263</td>\n",
       "      <td>0.714286</td>\n",
       "      <td>0.366039</td>\n",
       "      <td>0.367309</td>\n",
       "      <td>90.303030</td>\n",
       "      <td>100.000000</td>\n",
       "      <td>90.909091</td>\n",
       "      <td>65.740142</td>\n",
       "      <td>93.063584</td>\n",
       "      <td>364338</td>\n",
       "      <td>2003</td>\n",
       "      <td>1.674170</td>\n",
       "      <td>440.015847</td>\n",
       "    </tr>\n",
       "    <tr>\n",
       "      <th>동작구</th>\n",
       "      <td>0.580517</td>\n",
       "      <td>0.315789</td>\n",
       "      <td>0.000000</td>\n",
       "      <td>0.237485</td>\n",
       "      <td>0.163825</td>\n",
       "      <td>43.686869</td>\n",
       "      <td>100.000000</td>\n",
       "      <td>100.000000</td>\n",
       "      <td>48.368679</td>\n",
       "      <td>86.235294</td>\n",
       "      <td>409385</td>\n",
       "      <td>1780</td>\n",
       "      <td>1.297616</td>\n",
       "      <td>378.290841</td>\n",
       "    </tr>\n",
       "    <tr>\n",
       "      <th>마포구</th>\n",
       "      <td>0.787276</td>\n",
       "      <td>0.368421</td>\n",
       "      <td>0.142857</td>\n",
       "      <td>0.585102</td>\n",
       "      <td>0.524463</td>\n",
       "      <td>85.800000</td>\n",
       "      <td>100.000000</td>\n",
       "      <td>100.000000</td>\n",
       "      <td>39.971347</td>\n",
       "      <td>83.127572</td>\n",
       "      <td>386359</td>\n",
       "      <td>1935</td>\n",
       "      <td>2.408119</td>\n",
       "      <td>408.898919</td>\n",
       "    </tr>\n",
       "    <tr>\n",
       "      <th>서대문구</th>\n",
       "      <td>0.194831</td>\n",
       "      <td>0.000000</td>\n",
       "      <td>0.214286</td>\n",
       "      <td>0.239087</td>\n",
       "      <td>0.154930</td>\n",
       "      <td>89.603960</td>\n",
       "      <td>100.000000</td>\n",
       "      <td>100.000000</td>\n",
       "      <td>58.455285</td>\n",
       "      <td>83.114558</td>\n",
       "      <td>323080</td>\n",
       "      <td>2121</td>\n",
       "      <td>0.803133</td>\n",
       "      <td>431.173803</td>\n",
       "    </tr>\n",
       "    <tr>\n",
       "      <th>서초구</th>\n",
       "      <td>0.727634</td>\n",
       "      <td>0.631579</td>\n",
       "      <td>0.571429</td>\n",
       "      <td>0.472167</td>\n",
       "      <td>0.424759</td>\n",
       "      <td>60.212766</td>\n",
       "      <td>53.846154</td>\n",
       "      <td>100.000000</td>\n",
       "      <td>46.081678</td>\n",
       "      <td>87.437604</td>\n",
       "      <td>438163</td>\n",
       "      <td>2835</td>\n",
       "      <td>2.827567</td>\n",
       "      <td>347.578202</td>\n",
       "    </tr>\n",
       "    <tr>\n",
       "      <th>성동구</th>\n",
       "      <td>0.055666</td>\n",
       "      <td>0.105263</td>\n",
       "      <td>0.000000</td>\n",
       "      <td>0.175811</td>\n",
       "      <td>0.111564</td>\n",
       "      <td>80.303030</td>\n",
       "      <td>100.000000</td>\n",
       "      <td>100.000000</td>\n",
       "      <td>50.652985</td>\n",
       "      <td>88.389994</td>\n",
       "      <td>316463</td>\n",
       "      <td>2679</td>\n",
       "      <td>0.448304</td>\n",
       "      <td>419.346009</td>\n",
       "    </tr>\n",
       "    <tr>\n",
       "      <th>성북구</th>\n",
       "      <td>0.137177</td>\n",
       "      <td>0.368421</td>\n",
       "      <td>0.428571</td>\n",
       "      <td>0.284742</td>\n",
       "      <td>0.238695</td>\n",
       "      <td>77.456647</td>\n",
       "      <td>100.000000</td>\n",
       "      <td>100.000000</td>\n",
       "      <td>52.306548</td>\n",
       "      <td>85.541535</td>\n",
       "      <td>447687</td>\n",
       "      <td>3003</td>\n",
       "      <td>1.457606</td>\n",
       "      <td>415.304730</td>\n",
       "    </tr>\n",
       "    <tr>\n",
       "      <th>송파구</th>\n",
       "      <td>0.365805</td>\n",
       "      <td>0.000000</td>\n",
       "      <td>0.357143</td>\n",
       "      <td>0.657189</td>\n",
       "      <td>0.648258</td>\n",
       "      <td>84.027778</td>\n",
       "      <td>100.000000</td>\n",
       "      <td>100.000000</td>\n",
       "      <td>45.118734</td>\n",
       "      <td>86.232125</td>\n",
       "      <td>673507</td>\n",
       "      <td>1586</td>\n",
       "      <td>2.028395</td>\n",
       "      <td>415.378636</td>\n",
       "    </tr>\n",
       "    <tr>\n",
       "      <th>양천구</th>\n",
       "      <td>0.067594</td>\n",
       "      <td>0.105263</td>\n",
       "      <td>0.142857</td>\n",
       "      <td>0.383260</td>\n",
       "      <td>0.329874</td>\n",
       "      <td>88.405797</td>\n",
       "      <td>66.666667</td>\n",
       "      <td>66.666667</td>\n",
       "      <td>47.547170</td>\n",
       "      <td>82.774674</td>\n",
       "      <td>468145</td>\n",
       "      <td>2775</td>\n",
       "      <td>1.028849</td>\n",
       "      <td>352.060974</td>\n",
       "    </tr>\n",
       "    <tr>\n",
       "      <th>영등포구</th>\n",
       "      <td>0.697813</td>\n",
       "      <td>0.210526</td>\n",
       "      <td>1.000000</td>\n",
       "      <td>0.669203</td>\n",
       "      <td>0.716086</td>\n",
       "      <td>58.681319</td>\n",
       "      <td>100.000000</td>\n",
       "      <td>86.666667</td>\n",
       "      <td>48.090278</td>\n",
       "      <td>82.100313</td>\n",
       "      <td>403600</td>\n",
       "      <td>2495</td>\n",
       "      <td>3.293628</td>\n",
       "      <td>375.538577</td>\n",
       "    </tr>\n",
       "    <tr>\n",
       "      <th>용산구</th>\n",
       "      <td>0.443340</td>\n",
       "      <td>0.210526</td>\n",
       "      <td>0.000000</td>\n",
       "      <td>0.285543</td>\n",
       "      <td>0.416234</td>\n",
       "      <td>88.379205</td>\n",
       "      <td>80.000000</td>\n",
       "      <td>100.000000</td>\n",
       "      <td>46.508172</td>\n",
       "      <td>84.670307</td>\n",
       "      <td>245090</td>\n",
       "      <td>2063</td>\n",
       "      <td>1.355643</td>\n",
       "      <td>399.557684</td>\n",
       "    </tr>\n",
       "    <tr>\n",
       "      <th>은평구</th>\n",
       "      <td>0.250497</td>\n",
       "      <td>0.157895</td>\n",
       "      <td>0.357143</td>\n",
       "      <td>0.301962</td>\n",
       "      <td>0.369904</td>\n",
       "      <td>92.608696</td>\n",
       "      <td>100.000000</td>\n",
       "      <td>100.000000</td>\n",
       "      <td>67.339582</td>\n",
       "      <td>90.868794</td>\n",
       "      <td>487666</td>\n",
       "      <td>2962</td>\n",
       "      <td>1.437401</td>\n",
       "      <td>450.817072</td>\n",
       "    </tr>\n",
       "    <tr>\n",
       "      <th>종로구</th>\n",
       "      <td>0.296223</td>\n",
       "      <td>0.473684</td>\n",
       "      <td>0.428571</td>\n",
       "      <td>0.404886</td>\n",
       "      <td>0.328021</td>\n",
       "      <td>68.379447</td>\n",
       "      <td>80.000000</td>\n",
       "      <td>71.428571</td>\n",
       "      <td>40.024331</td>\n",
       "      <td>85.720952</td>\n",
       "      <td>163026</td>\n",
       "      <td>1471</td>\n",
       "      <td>1.931385</td>\n",
       "      <td>345.553301</td>\n",
       "    </tr>\n",
       "    <tr>\n",
       "      <th>중구</th>\n",
       "      <td>0.324056</td>\n",
       "      <td>0.421053</td>\n",
       "      <td>0.000000</td>\n",
       "      <td>0.485783</td>\n",
       "      <td>0.297628</td>\n",
       "      <td>55.805243</td>\n",
       "      <td>100.000000</td>\n",
       "      <td>0.000000</td>\n",
       "      <td>48.158180</td>\n",
       "      <td>87.530325</td>\n",
       "      <td>135633</td>\n",
       "      <td>1544</td>\n",
       "      <td>1.528519</td>\n",
       "      <td>291.493748</td>\n",
       "    </tr>\n",
       "    <tr>\n",
       "      <th>중랑구</th>\n",
       "      <td>0.135189</td>\n",
       "      <td>0.105263</td>\n",
       "      <td>0.285714</td>\n",
       "      <td>0.360433</td>\n",
       "      <td>0.593032</td>\n",
       "      <td>83.720930</td>\n",
       "      <td>100.000000</td>\n",
       "      <td>100.000000</td>\n",
       "      <td>53.033268</td>\n",
       "      <td>84.884535</td>\n",
       "      <td>408147</td>\n",
       "      <td>1068</td>\n",
       "      <td>1.479631</td>\n",
       "      <td>421.638733</td>\n",
       "    </tr>\n",
       "  </tbody>\n",
       "</table>\n",
       "</div>"
      ],
      "text/plain": [
       "            강간        강도        살인        절도        폭력       강간검거율  \\\n",
       "자치구                                                                  \n",
       "강남구   1.000000  1.000000  0.428571  1.000000  1.000000   81.713344   \n",
       "강동구   0.135189  0.473684  0.285714  0.405286  0.434025   98.255814   \n",
       "강북구   0.206759  0.315789  0.500000  0.152583  0.332839   73.557692   \n",
       "강서구   0.421471  0.157895  0.714286  0.502603  0.614529   80.063291   \n",
       "관악구   0.546720  0.315789  0.500000  0.539047  0.702001   85.224274   \n",
       "광진구   0.312127  0.631579  0.357143  0.635563  0.329133   79.693487   \n",
       "구로구   0.445328  0.368421  0.428571  0.437325  0.581542   55.182927   \n",
       "금천구   0.270378  0.210526  0.285714  0.203444  0.228317   88.333333   \n",
       "노원구   0.151093  0.421053  0.214286  0.362435  0.452187   86.111111   \n",
       "도봉구   0.000000  0.105263  0.000000  0.000000  0.000000  100.000000   \n",
       "동대문구  0.121272  0.105263  0.714286  0.366039  0.367309   90.303030   \n",
       "동작구   0.580517  0.315789  0.000000  0.237485  0.163825   43.686869   \n",
       "마포구   0.787276  0.368421  0.142857  0.585102  0.524463   85.800000   \n",
       "서대문구  0.194831  0.000000  0.214286  0.239087  0.154930   89.603960   \n",
       "서초구   0.727634  0.631579  0.571429  0.472167  0.424759   60.212766   \n",
       "성동구   0.055666  0.105263  0.000000  0.175811  0.111564   80.303030   \n",
       "성북구   0.137177  0.368421  0.428571  0.284742  0.238695   77.456647   \n",
       "송파구   0.365805  0.000000  0.357143  0.657189  0.648258   84.027778   \n",
       "양천구   0.067594  0.105263  0.142857  0.383260  0.329874   88.405797   \n",
       "영등포구  0.697813  0.210526  1.000000  0.669203  0.716086   58.681319   \n",
       "용산구   0.443340  0.210526  0.000000  0.285543  0.416234   88.379205   \n",
       "은평구   0.250497  0.157895  0.357143  0.301962  0.369904   92.608696   \n",
       "종로구   0.296223  0.473684  0.428571  0.404886  0.328021   68.379447   \n",
       "중구    0.324056  0.421053  0.000000  0.485783  0.297628   55.805243   \n",
       "중랑구   0.135189  0.105263  0.285714  0.360433  0.593032   83.720930   \n",
       "\n",
       "           강도검거율       살인검거율      절도검거율      폭력검거율     인구수  CCTV        범죄  \\\n",
       "자치구                                                                          \n",
       "강남구   100.000000  100.000000  44.185304  86.223458  547453  5221  4.428571   \n",
       "강동구   100.000000  100.000000  57.689970  86.825854  431920  1879  1.733899   \n",
       "강북구    71.428571  100.000000  62.623274  93.831169  322915  1265  1.507971   \n",
       "강서구   100.000000  100.000000  58.951271  87.242798  603611  1617  2.410784   \n",
       "관악구    85.714286   87.500000  58.211218  84.581218  520040  3985  2.603557   \n",
       "광진구    61.538462   83.333333  52.612613  88.536813  371063  1581  2.265544   \n",
       "구로구    75.000000  100.000000  50.376812  82.914751  438486  3227  2.261187   \n",
       "금천구   100.000000  100.000000  59.070990  89.434365  254021  1634  1.198380   \n",
       "노원구    77.777778  100.000000  49.219766  85.714286  548160  1906  1.601054   \n",
       "도봉구   100.000000  100.000000  65.876777  88.712242  341649   858  0.105263   \n",
       "동대문구  100.000000   90.909091  65.740142  93.063584  364338  2003  1.674170   \n",
       "동작구   100.000000  100.000000  48.368679  86.235294  409385  1780  1.297616   \n",
       "마포구   100.000000  100.000000  39.971347  83.127572  386359  1935  2.408119   \n",
       "서대문구  100.000000  100.000000  58.455285  83.114558  323080  2121  0.803133   \n",
       "서초구    53.846154  100.000000  46.081678  87.437604  438163  2835  2.827567   \n",
       "성동구   100.000000  100.000000  50.652985  88.389994  316463  2679  0.448304   \n",
       "성북구   100.000000  100.000000  52.306548  85.541535  447687  3003  1.457606   \n",
       "송파구   100.000000  100.000000  45.118734  86.232125  673507  1586  2.028395   \n",
       "양천구    66.666667   66.666667  47.547170  82.774674  468145  2775  1.028849   \n",
       "영등포구  100.000000   86.666667  48.090278  82.100313  403600  2495  3.293628   \n",
       "용산구    80.000000  100.000000  46.508172  84.670307  245090  2063  1.355643   \n",
       "은평구   100.000000  100.000000  67.339582  90.868794  487666  2962  1.437401   \n",
       "종로구    80.000000   71.428571  40.024331  85.720952  163026  1471  1.931385   \n",
       "중구    100.000000    0.000000  48.158180  87.530325  135633  1544  1.528519   \n",
       "중랑구   100.000000  100.000000  53.033268  84.884535  408147  1068  1.479631   \n",
       "\n",
       "              검거  \n",
       "자치구               \n",
       "강남구   412.122106  \n",
       "강동구   442.771638  \n",
       "강북구   401.440707  \n",
       "강서구   426.257361  \n",
       "관악구   401.230996  \n",
       "광진구   365.714707  \n",
       "구로구   363.474489  \n",
       "금천구   436.838689  \n",
       "노원구   398.822941  \n",
       "도봉구   454.589019  \n",
       "동대문구  440.015847  \n",
       "동작구   378.290841  \n",
       "마포구   408.898919  \n",
       "서대문구  431.173803  \n",
       "서초구   347.578202  \n",
       "성동구   419.346009  \n",
       "성북구   415.304730  \n",
       "송파구   415.378636  \n",
       "양천구   352.060974  \n",
       "영등포구  375.538577  \n",
       "용산구   399.557684  \n",
       "은평구   450.817072  \n",
       "종로구   345.553301  \n",
       "중구    291.493748  \n",
       "중랑구   421.638733  "
      ]
     },
     "execution_count": 67,
     "metadata": {},
     "output_type": "execute_result"
    }
   ],
   "source": [
    "crime_anal_norm"
   ]
  },
  {
   "cell_type": "markdown",
   "metadata": {},
   "source": [
    "### 보다 향상된 시각화 도구 [seaborn:씨본]\n",
    "\n",
    "<a href='http://localhost:8888/notebooks/Dropbox/busan/py_projects/analysis/pandas/basic/seaborn_basic.ipynb'>기초학습</a>"
   ]
  },
  {
   "cell_type": "code",
   "execution_count": 68,
   "metadata": {},
   "outputs": [],
   "source": [
    "import matplotlib.pyplot as plt\n",
    "import seaborn as sns\n",
    "%matplotlib inline"
   ]
  },
  {
   "cell_type": "code",
   "execution_count": null,
   "metadata": {},
   "outputs": [],
   "source": [
    "import platform\n",
    "from matplotlib import font_manager, rc\n",
    "\n",
    "get_ipython().run_line_magic('matplotlib', 'inline')\n",
    "\n",
    "def initKoreaFontLoad() :\n",
    "    plt.rcParams['axes.unicode_minus'] = False\n",
    "    os_name = platform.system()\n",
    "    \n",
    "    if os_name == 'Darwin' :\n",
    "        # MacOS, Linux\n",
    "        rc('font', family = 'AppleGothic')\n",
    "    elif os_name == 'Windows' :\n",
    "        # window10 ~ window server\n",
    "        path = 'c:/Windows/Fonts/malgun.ttf'\n",
    "        font_name = font_manager.FontProperties(fname=path).get_name()\n",
    "        print(font_name)\n",
    "        rc('font', family = font_name)\n",
    "    else :\n",
    "        print('알 수 없는 시스템')\n",
    "        pass"
   ]
  },
  {
   "cell_type": "code",
   "execution_count": 69,
   "metadata": {},
   "outputs": [
    {
     "name": "stdout",
     "output_type": "stream",
     "text": [
      "Malgun Gothic\n"
     ]
    }
   ],
   "source": [
    "from korea_font import initKoreaFontLoad\n",
    "initKoreaFontLoad()"
   ]
  },
  {
   "cell_type": "code",
   "execution_count": 70,
   "metadata": {},
   "outputs": [
    {
     "data": {
      "text/html": [
       "<div>\n",
       "<style scoped>\n",
       "    .dataframe tbody tr th:only-of-type {\n",
       "        vertical-align: middle;\n",
       "    }\n",
       "\n",
       "    .dataframe tbody tr th {\n",
       "        vertical-align: top;\n",
       "    }\n",
       "\n",
       "    .dataframe thead th {\n",
       "        text-align: right;\n",
       "    }\n",
       "</style>\n",
       "<table border=\"1\" class=\"dataframe\">\n",
       "  <thead>\n",
       "    <tr style=\"text-align: right;\">\n",
       "      <th></th>\n",
       "      <th>강간</th>\n",
       "      <th>강도</th>\n",
       "      <th>살인</th>\n",
       "      <th>절도</th>\n",
       "      <th>폭력</th>\n",
       "      <th>강간검거율</th>\n",
       "      <th>강도검거율</th>\n",
       "      <th>살인검거율</th>\n",
       "      <th>절도검거율</th>\n",
       "      <th>폭력검거율</th>\n",
       "      <th>인구수</th>\n",
       "      <th>CCTV</th>\n",
       "      <th>범죄</th>\n",
       "      <th>검거</th>\n",
       "    </tr>\n",
       "    <tr>\n",
       "      <th>자치구</th>\n",
       "      <th></th>\n",
       "      <th></th>\n",
       "      <th></th>\n",
       "      <th></th>\n",
       "      <th></th>\n",
       "      <th></th>\n",
       "      <th></th>\n",
       "      <th></th>\n",
       "      <th></th>\n",
       "      <th></th>\n",
       "      <th></th>\n",
       "      <th></th>\n",
       "      <th></th>\n",
       "      <th></th>\n",
       "    </tr>\n",
       "  </thead>\n",
       "  <tbody>\n",
       "    <tr>\n",
       "      <th>강남구</th>\n",
       "      <td>1.000000</td>\n",
       "      <td>1.000000</td>\n",
       "      <td>0.428571</td>\n",
       "      <td>1.000000</td>\n",
       "      <td>1.000000</td>\n",
       "      <td>81.713344</td>\n",
       "      <td>100.0</td>\n",
       "      <td>100.0</td>\n",
       "      <td>44.185304</td>\n",
       "      <td>86.223458</td>\n",
       "      <td>547453</td>\n",
       "      <td>5221</td>\n",
       "      <td>4.428571</td>\n",
       "      <td>412.122106</td>\n",
       "    </tr>\n",
       "    <tr>\n",
       "      <th>강동구</th>\n",
       "      <td>0.135189</td>\n",
       "      <td>0.473684</td>\n",
       "      <td>0.285714</td>\n",
       "      <td>0.405286</td>\n",
       "      <td>0.434025</td>\n",
       "      <td>98.255814</td>\n",
       "      <td>100.0</td>\n",
       "      <td>100.0</td>\n",
       "      <td>57.689970</td>\n",
       "      <td>86.825854</td>\n",
       "      <td>431920</td>\n",
       "      <td>1879</td>\n",
       "      <td>1.733899</td>\n",
       "      <td>442.771638</td>\n",
       "    </tr>\n",
       "  </tbody>\n",
       "</table>\n",
       "</div>"
      ],
      "text/plain": [
       "           강간        강도        살인        절도        폭력      강간검거율  강도검거율  \\\n",
       "자치구                                                                       \n",
       "강남구  1.000000  1.000000  0.428571  1.000000  1.000000  81.713344  100.0   \n",
       "강동구  0.135189  0.473684  0.285714  0.405286  0.434025  98.255814  100.0   \n",
       "\n",
       "     살인검거율      절도검거율      폭력검거율     인구수  CCTV        범죄          검거  \n",
       "자치구                                                                   \n",
       "강남구  100.0  44.185304  86.223458  547453  5221  4.428571  412.122106  \n",
       "강동구  100.0  57.689970  86.825854  431920  1879  1.733899  442.771638  "
      ]
     },
     "execution_count": 70,
     "metadata": {},
     "output_type": "execute_result"
    }
   ],
   "source": [
    "crime_anal_norm.head(2)"
   ]
  },
  {
   "cell_type": "code",
   "execution_count": 71,
   "metadata": {},
   "outputs": [
    {
     "data": {
      "image/png": "[encoded data removed]",
      "text/plain": [
       "<Figure size 648x648 with 12 Axes>"
      ]
     },
     "metadata": {
      "needs_background": "light"
     },
     "output_type": "display_data"
    }
   ],
   "source": [
    "# 변수간의 상관성 => 산포 행렬\n",
    "# 범죄들간의 연관성 \n",
    "# kind='reg' 선형회귀\n",
    "sns.pairplot( crime_anal_norm, \n",
    "              vars = ['강도','폭력','살인'], \n",
    "              size =3, \n",
    "              kind ='reg')\n",
    "plt.show()"
   ]
  },
  {
   "cell_type": "code",
   "execution_count": 72,
   "metadata": {},
   "outputs": [
    {
     "data": {
      "image/png": "[encoded data removed]",
      "text/plain": [
       "<Figure size 432x432 with 4 Axes>"
      ]
     },
     "metadata": {
      "needs_background": "light"
     },
     "output_type": "display_data"
    }
   ],
   "source": [
    "# X : 인구수, CCTV, Y: 강도검거율, 폭력검거율\n",
    "sns.pairplot(crime_anal_norm, \n",
    "             x_vars=['인구수','CCTV'], \n",
    "             y_vars=['강도검거율','폭력검거율'],\n",
    "             size=3, kind='reg')\n",
    "plt.show()\n",
    "# 인구수와 cctv 수는 검거율과 관련이 없다!!\n",
    "# 원 cctv의 목적은 예방에 촛점이 맞춰져 있고\\\n",
    "# 검거 자체는 인구와 상관없는 요인들의 영향을 받는다."
   ]
  },
  {
   "cell_type": "code",
   "execution_count": 73,
   "metadata": {},
   "outputs": [],
   "source": [
    "# 검거 항목의 최대값(최고값) 100으로 한정하고, 그 기준을 값을 배치\n",
    "# 정규화 => 값을 동일 범위내로 배치\n",
    "crime_anal_norm['검거'] = crime_anal_norm['검거'] / crime_anal_norm['검거'].max() * 100"
   ]
  },
  {
   "cell_type": "code",
   "execution_count": 74,
   "metadata": {},
   "outputs": [
    {
     "data": {
      "text/plain": [
       "자치구\n",
       "강남구      90.658174\n",
       "강동구      97.400425\n",
       "강북구      88.308492\n",
       "강서구      93.767633\n",
       "관악구      88.262360\n",
       "광진구      80.449525\n",
       "구로구      79.956724\n",
       "금천구      96.095302\n",
       "노원구      87.732638\n",
       "도봉구     100.000000\n",
       "동대문구     96.794209\n",
       "동작구      83.216010\n",
       "마포구      89.949141\n",
       "서대문구     94.849146\n",
       "서초구      76.459876\n",
       "성동구      92.247281\n",
       "성북구      91.358285\n",
       "송파구      91.374543\n",
       "양천구      77.445992\n",
       "영등포구     82.610569\n",
       "용산구      87.894267\n",
       "은평구      99.170251\n",
       "종로구      76.014441\n",
       "중구       64.122479\n",
       "중랑구      92.751632\n",
       "Name: 검거, dtype: float64"
      ]
     },
     "execution_count": 74,
     "metadata": {},
     "output_type": "execute_result"
    }
   ],
   "source": [
    "crime_anal_norm['검거']"
   ]
  },
  {
   "cell_type": "code",
   "execution_count": 75,
   "metadata": {},
   "outputs": [
    {
     "data": {
      "text/html": [
       "<div>\n",
       "<style scoped>\n",
       "    .dataframe tbody tr th:only-of-type {\n",
       "        vertical-align: middle;\n",
       "    }\n",
       "\n",
       "    .dataframe tbody tr th {\n",
       "        vertical-align: top;\n",
       "    }\n",
       "\n",
       "    .dataframe thead th {\n",
       "        text-align: right;\n",
       "    }\n",
       "</style>\n",
       "<table border=\"1\" class=\"dataframe\">\n",
       "  <thead>\n",
       "    <tr style=\"text-align: right;\">\n",
       "      <th></th>\n",
       "      <th>강간</th>\n",
       "      <th>강도</th>\n",
       "      <th>살인</th>\n",
       "      <th>절도</th>\n",
       "      <th>폭력</th>\n",
       "      <th>강간검거율</th>\n",
       "      <th>강도검거율</th>\n",
       "      <th>살인검거율</th>\n",
       "      <th>절도검거율</th>\n",
       "      <th>폭력검거율</th>\n",
       "      <th>인구수</th>\n",
       "      <th>CCTV</th>\n",
       "      <th>범죄</th>\n",
       "      <th>검거</th>\n",
       "    </tr>\n",
       "    <tr>\n",
       "      <th>자치구</th>\n",
       "      <th></th>\n",
       "      <th></th>\n",
       "      <th></th>\n",
       "      <th></th>\n",
       "      <th></th>\n",
       "      <th></th>\n",
       "      <th></th>\n",
       "      <th></th>\n",
       "      <th></th>\n",
       "      <th></th>\n",
       "      <th></th>\n",
       "      <th></th>\n",
       "      <th></th>\n",
       "      <th></th>\n",
       "    </tr>\n",
       "  </thead>\n",
       "  <tbody>\n",
       "    <tr>\n",
       "      <th>도봉구</th>\n",
       "      <td>0.000000</td>\n",
       "      <td>0.105263</td>\n",
       "      <td>0.000000</td>\n",
       "      <td>0.000000</td>\n",
       "      <td>0.000000</td>\n",
       "      <td>100.000000</td>\n",
       "      <td>100.0</td>\n",
       "      <td>100.0</td>\n",
       "      <td>65.876777</td>\n",
       "      <td>88.712242</td>\n",
       "      <td>341649</td>\n",
       "      <td>858</td>\n",
       "      <td>0.105263</td>\n",
       "      <td>100.000000</td>\n",
       "    </tr>\n",
       "    <tr>\n",
       "      <th>은평구</th>\n",
       "      <td>0.250497</td>\n",
       "      <td>0.157895</td>\n",
       "      <td>0.357143</td>\n",
       "      <td>0.301962</td>\n",
       "      <td>0.369904</td>\n",
       "      <td>92.608696</td>\n",
       "      <td>100.0</td>\n",
       "      <td>100.0</td>\n",
       "      <td>67.339582</td>\n",
       "      <td>90.868794</td>\n",
       "      <td>487666</td>\n",
       "      <td>2962</td>\n",
       "      <td>1.437401</td>\n",
       "      <td>99.170251</td>\n",
       "    </tr>\n",
       "  </tbody>\n",
       "</table>\n",
       "</div>"
      ],
      "text/plain": [
       "           강간        강도        살인        절도        폭력       강간검거율  강도검거율  \\\n",
       "자치구                                                                        \n",
       "도봉구  0.000000  0.105263  0.000000  0.000000  0.000000  100.000000  100.0   \n",
       "은평구  0.250497  0.157895  0.357143  0.301962  0.369904   92.608696  100.0   \n",
       "\n",
       "     살인검거율      절도검거율      폭력검거율     인구수  CCTV        범죄          검거  \n",
       "자치구                                                                   \n",
       "도봉구  100.0  65.876777  88.712242  341649   858  0.105263  100.000000  \n",
       "은평구  100.0  67.339582  90.868794  487666  2962  1.437401   99.170251  "
      ]
     },
     "execution_count": 75,
     "metadata": {},
     "output_type": "execute_result"
    }
   ],
   "source": [
    "crime_anal_norm_sort = crime_anal_norm.sort_values(by='검거', ascending=False)\n",
    "crime_anal_norm_sort.head(2)"
   ]
  },
  {
   "cell_type": "code",
   "execution_count": 76,
   "metadata": {},
   "outputs": [
    {
     "data": {
      "image/png": "[encoded data removed]",
      "text/plain": [
       "<Figure size 720x720 with 2 Axes>"
      ]
     },
     "metadata": {
      "needs_background": "light"
     },
     "output_type": "display_data"
    }
   ],
   "source": [
    "#히트맵을 통해서 검거율을 확인\n",
    "# y: 자치구, x: xx검거율\n",
    "# 데이터로 사용 crime_anal_norm_sort\n",
    "plt.figure(figsize=(10, 10))\n",
    "sns.heatmap(crime_anal_norm_sort[cols], annot=True, fmt='f',linewidths=5)\n",
    "plt.title('자치구별 범죄 검거 비율')\n",
    "plt.show()"
   ]
  },
  {
   "cell_type": "code",
   "execution_count": 77,
   "metadata": {},
   "outputs": [],
   "source": [
    "# 범죄 발생 통계\n",
    "# y:자치구(범죄비율이 높은수), x:5대 범죄\n",
    "# 히트맵 표현"
   ]
  },
  {
   "cell_type": "code",
   "execution_count": null,
   "metadata": {},
   "outputs": [],
   "source": []
  },
  {
   "cell_type": "markdown",
   "metadata": {},
   "source": [
    "### 지도 시각화 (공간 시각화의 한범주)\n",
    "\n",
    "- folium을 이용하고, geoJson 데이터를 이용하여 지도상에 행정구역을 표현\n",
    "- 구역별 정보를 시각화 한다\n",
    "- 연습 : 미국 지도에 실업율 데이터를 가지고 확인\n",
    "- 적용 : 서울시 지도에 경찰서 표시, 검거율, 발생율에 따른 행정구역의 칼라맵적용, 마커를 통해 포인트 설정 및 폴리곤표현으로 검거율은 표시\n",
    "- 응용 : 주유소정보데이터 부산시 행정구역으료 표현, 자치구별 가장 저렴한 주요소 마킹,행정구역별 주유가격 평균을 통해서 칼라맵으로 표시, 브랜드별(6개) 알뜰주유수 -> 브랜드대비, 진짜 싼지 체크!!"
   ]
  },
  {
   "cell_type": "code",
   "execution_count": 78,
   "metadata": {},
   "outputs": [],
   "source": [
    "# 서울을 행정구역은 나눠서 드로잉 -> 자치구별로 드로잉\n",
    "import json"
   ]
  },
  {
   "cell_type": "code",
   "execution_count": 79,
   "metadata": {},
   "outputs": [],
   "source": [
    "# 한글 경우 인코딩 처리해서 지도에 데이터로 삽입\n",
    "geo_str = json.load( open( '../data/seoul.json', encoding='utf-8' ) )"
   ]
  },
  {
   "cell_type": "code",
   "execution_count": 81,
   "metadata": {},
   "outputs": [
    {
     "data": {
      "text/plain": [
       "dict"
      ]
     },
     "execution_count": 81,
     "metadata": {},
     "output_type": "execute_result"
    }
   ],
   "source": [
    "type(geo_str)"
   ]
  },
  {
   "cell_type": "code",
   "execution_count": 87,
   "metadata": {},
   "outputs": [],
   "source": [
    "gps = [37.5289126,126.9957077]"
   ]
  },
  {
   "cell_type": "code",
   "execution_count": 82,
   "metadata": {},
   "outputs": [
    {
     "data": {
      "text/plain": [
       "Index(['강남구', '강동구', '강북구', '강서구', '관악구', '광진구', '구로구', '금천구', '노원구', '도봉구',\n",
       "       '동대문구', '동작구', '마포구', '서대문구', '서초구', '성동구', '성북구', '송파구', '양천구', '영등포구',\n",
       "       '용산구', '은평구', '종로구', '중구', '중랑구'],\n",
       "      dtype='object', name='자치구')"
      ]
     },
     "execution_count": 82,
     "metadata": {},
     "output_type": "execute_result"
    }
   ],
   "source": [
    "crime_anal_norm.index"
   ]
  },
  {
   "cell_type": "code",
   "execution_count": 83,
   "metadata": {},
   "outputs": [
    {
     "data": {
      "text/plain": [
       "Index(['강간', '강도', '살인', '절도', '폭력', '강간검거율', '강도검거율', '살인검거율', '절도검거율',\n",
       "       '폭력검거율', '인구수', 'CCTV', '범죄', '검거'],\n",
       "      dtype='object')"
      ]
     },
     "execution_count": 83,
     "metadata": {},
     "output_type": "execute_result"
    }
   ],
   "source": [
    "crime_anal_norm.columns"
   ]
  },
  {
   "cell_type": "code",
   "execution_count": null,
   "metadata": {},
   "outputs": [],
   "source": []
  },
  {
   "cell_type": "markdown",
   "metadata": {},
   "source": [
    "### folium \n",
    "- 파이썬을 이용해 지도 시각화를 제공하는 라이브러리\n",
    "\n",
    "<a href='http://localhost:8888/notebooks/Desktop/projects/analysis/pandas/basic/Folium_basic.ipynb'>기초학습</a>"
   ]
  },
  {
   "cell_type": "code",
   "execution_count": 85,
   "metadata": {},
   "outputs": [],
   "source": [
    "import folium"
   ]
  },
  {
   "cell_type": "code",
   "execution_count": 92,
   "metadata": {},
   "outputs": [
    {
     "data": {
      "text/html": [
       "<div style=\"width:100%;\"><div style=\"position:relative;width:100%;height:0;padding-bottom:60%;\"><iframe src=\"data:text/html;charset=utf-8;base64,PCFET0NUWVBFIGh0bWw+CjxoZWFkPiAgICAKICAgIDxtZXRhIGh0dHAtZXF1aXY9ImNvbnRlbnQtdHlwZSIgY29udGVudD0idGV4dC9odG1sOyBjaGFyc2V0PVVURi04IiAvPgogICAgCiAgICAgICAgPHNjcmlwdD4KICAgICAgICAgICAgTF9OT19UT1VDSCA9IGZhbHNlOwogICAgICAgICAgICBMX0RJU0FCTEVfM0QgPSBmYWxzZTsKICAgICAgICA8L3NjcmlwdD4KICAgIAogICAgPHNjcmlwdCBzcmM9Imh0dHBzOi8vY2RuLmpzZGVsaXZyLm5ldC9ucG0vbGVhZmxldEAxLjUuMS9kaXN0L2xlYWZsZXQuanMiPjwvc2NyaXB0PgogICAgPHNjcmlwdCBzcmM9Imh0dHBzOi8vY29kZS5qcXVlcnkuY29tL2pxdWVyeS0xLjEyLjQubWluLmpzIj48L3NjcmlwdD4KICAgIDxzY3JpcHQgc3JjPSJodHRwczovL21heGNkbi5ib290c3RyYXBjZG4uY29tL2Jvb3RzdHJhcC8zLjIuMC9qcy9ib290c3RyYXAubWluLmpzIj48L3NjcmlwdD4KICAgIDxzY3JpcHQgc3JjPSJodHRwczovL2NkbmpzLmNsb3VkZmxhcmUuY29tL2FqYXgvbGlicy9MZWFmbGV0LmF3ZXNvbWUtbWFya2Vycy8yLjAuMi9sZWFmbGV0LmF3ZXNvbWUtbWFya2Vycy5qcyI+PC9zY3JpcHQ+CiAgICA8bGluayByZWw9InN0eWxlc2hlZXQiIGhyZWY9Imh0dHBzOi8vY2RuLmpzZGVsaXZyLm5ldC9ucG0vbGVhZmxldEAxLjUuMS9kaXN0L2xlYWZsZXQuY3NzIi8+CiAgICA8bGluayByZWw9InN0eWxlc2hlZXQiIGhyZWY9Imh0dHBzOi8vbWF4Y2RuLmJvb3RzdHJhcGNkbi5jb20vYm9vdHN0cmFwLzMuMi4wL2Nzcy9ib290c3RyYXAubWluLmNzcyIvPgogICAgPGxpbmsgcmVsPSJzdHlsZXNoZWV0IiBocmVmPSJodHRwczovL21heGNkbi5ib290c3RyYXBjZG4uY29tL2Jvb3RzdHJhcC8zLjIuMC9jc3MvYm9vdHN0cmFwLXRoZW1lLm1pbi5jc3MiLz4KICAgIDxsaW5rIHJlbD0ic3R5bGVzaGVldCIgaHJlZj0iaHR0cHM6Ly9tYXhjZG4uYm9vdHN0cmFwY2RuLmNvbS9mb250LWF3ZXNvbWUvNC42LjMvY3NzL2ZvbnQtYXdlc29tZS5taW4uY3NzIi8+CiAgICA8bGluayByZWw9InN0eWxlc2hlZXQiIGhyZWY9Imh0dHBzOi8vY2RuanMuY2xvdWRmbGFyZS5jb20vYWpheC9saWJzL0xlYWZsZXQuYXdlc29tZS1tYXJrZXJzLzIuMC4yL2xlYWZsZXQuYXdlc29tZS1tYXJrZXJzLmNzcyIvPgogICAgPGxpbmsgcmVsPSJzdHlsZXNoZWV0IiBocmVmPSJodHRwczovL3Jhd2Nkbi5naXRoYWNrLmNvbS9weXRob24tdmlzdWFsaXphdGlvbi9mb2xpdW0vbWFzdGVyL2ZvbGl1bS90ZW1wbGF0ZXMvbGVhZmxldC5hd2Vzb21lLnJvdGF0ZS5jc3MiLz4KICAgIDxzdHlsZT5odG1sLCBib2R5IHt3aWR0aDogMTAwJTtoZWlnaHQ6IDEwMCU7bWFyZ2luOiAwO3BhZGRpbmc6IDA7fTwvc3R5bGU+CiAgICA8c3R5bGU+I21hcCB7cG9zaXRpb246YWJzb2x1dGU7dG9wOjA7Ym90dG9tOjA7cmlnaHQ6MDtsZWZ0OjA7fTwvc3R5bGU+CiAgICAKICAgICAgICAgICAgPG1ldGEgbmFtZT0idmlld3BvcnQiIGNvbnRlbnQ9IndpZHRoPWRldmljZS13aWR0aCwKICAgICAgICAgICAgICAgIGluaXRpYWwtc2NhbGU9MS4wLCBtYXhpbXVtLXNjYWxlPTEuMCwgdXNlci1zY2FsYWJsZT1ubyIgLz4KICAgICAgICAgICAgPHN0eWxlPgogICAgICAgICAgICAgICAgI21hcF8zN2RhZmViZTY5Nzk0ZmZiOGVkZjQzOWM5YTI5MWRmYiB7CiAgICAgICAgICAgICAgICAgICAgcG9zaXRpb246IHJlbGF0aXZlOwogICAgICAgICAgICAgICAgICAgIHdpZHRoOiAxMDAuMCU7CiAgICAgICAgICAgICAgICAgICAgaGVpZ2h0OiAxMDAuMCU7CiAgICAgICAgICAgICAgICAgICAgbGVmdDogMC4wJTsKICAgICAgICAgICAgICAgICAgICB0b3A6IDAuMCU7CiAgICAgICAgICAgICAgICB9CiAgICAgICAgICAgIDwvc3R5bGU+CiAgICAgICAgCiAgICA8c2NyaXB0IHNyYz0iaHR0cHM6Ly9jZG5qcy5jbG91ZGZsYXJlLmNvbS9hamF4L2xpYnMvZDMvMy41LjUvZDMubWluLmpzIj48L3NjcmlwdD4KPC9oZWFkPgo8Ym9keT4gICAgCiAgICAKICAgICAgICAgICAgPGRpdiBjbGFzcz0iZm9saXVtLW1hcCIgaWQ9Im1hcF8zN2RhZmViZTY5Nzk0ZmZiOGVkZjQzOWM5YTI5MWRmYiIgPjwvZGl2PgogICAgICAgIAo8L2JvZHk+CjxzY3JpcHQ+ICAgIAogICAgCiAgICAgICAgICAgIHZhciBtYXBfMzdkYWZlYmU2OTc5NGZmYjhlZGY0MzljOWEyOTFkZmIgPSBMLm1hcCgKICAgICAgICAgICAgICAgICJtYXBfMzdkYWZlYmU2OTc5NGZmYjhlZGY0MzljOWEyOTFkZmIiLAogICAgICAgICAgICAgICAgewogICAgICAgICAgICAgICAgICAgIGNlbnRlcjogWzM3LjUyODkxMjYsIDEyNi45OTU3MDc3XSwKICAgICAgICAgICAgICAgICAgICBjcnM6IEwuQ1JTLkVQU0czODU3LAogICAgICAgICAgICAgICAgICAgIHpvb206IDEwLAogICAgICAgICAgICAgICAgICAgIHpvb21Db250cm9sOiB0cnVlLAogICAgICAgICAgICAgICAgICAgIHByZWZlckNhbnZhczogZmFsc2UsCiAgICAgICAgICAgICAgICB9CiAgICAgICAgICAgICk7CgogICAgICAgICAgICAKCiAgICAgICAgCiAgICAKICAgICAgICAgICAgdmFyIHRpbGVfbGF5ZXJfZGNiOTc2Yjc1Y2EzNDEwNGJmNzZhZWY4ZmU4YmJmYjAgPSBMLnRpbGVMYXllcigKICAgICAgICAgICAgICAgICJodHRwczovL3tzfS50aWxlLm9wZW5zdHJlZXRtYXAub3JnL3t6fS97eH0ve3l9LnBuZyIsCiAgICAgICAgICAgICAgICB7ImF0dHJpYnV0aW9uIjogIkRhdGEgYnkgXHUwMDI2Y29weTsgXHUwMDNjYSBocmVmPVwiaHR0cDovL29wZW5zdHJlZXRtYXAub3JnXCJcdTAwM2VPcGVuU3RyZWV0TWFwXHUwMDNjL2FcdTAwM2UsIHVuZGVyIFx1MDAzY2EgaHJlZj1cImh0dHA6Ly93d3cub3BlbnN0cmVldG1hcC5vcmcvY29weXJpZ2h0XCJcdTAwM2VPRGJMXHUwMDNjL2FcdTAwM2UuIiwgImRldGVjdFJldGluYSI6IGZhbHNlLCAibWF4TmF0aXZlWm9vbSI6IDE4LCAibWF4Wm9vbSI6IDE4LCAibWluWm9vbSI6IDAsICJub1dyYXAiOiBmYWxzZSwgIm9wYWNpdHkiOiAxLCAic3ViZG9tYWlucyI6ICJhYmMiLCAidG1zIjogZmFsc2V9CiAgICAgICAgICAgICkuYWRkVG8obWFwXzM3ZGFmZWJlNjk3OTRmZmI4ZWRmNDM5YzlhMjkxZGZiKTsKICAgICAgICAKICAgIAogICAgICAgICAgICB2YXIgY2hvcm9wbGV0aF9lYmY2ZDQ1Zjg0YjI0ZjYwODA1YzA5ZWNjZmU4ZWJmYiA9IEwuZmVhdHVyZUdyb3VwKAogICAgICAgICAgICAgICAge30KICAgICAgICAgICAgKS5hZGRUbyhtYXBfMzdkYWZlYmU2OTc5NGZmYjhlZGY0MzljOWEyOTFkZmIpOwogICAgICAgIAogICAgCiAgICAgICAgZnVuY3Rpb24gZ2VvX2pzb25fNTM3OGIxZWI2YTJkNDAxOTllZjJhMDdmMmZjOWEwYzJfc3R5bGVyKGZlYXR1cmUpIHsKICAgICAgICAgICAgc3dpdGNoKGZlYXR1cmUuaWQpIHsKICAgICAgICAgICAgICAgIGNhc2UgIlx1YWMxNVx1YjNkOVx1YWQ2YyI6IGNhc2UgIlx1YzFhMVx1ZDMwY1x1YWQ2YyI6IGNhc2UgIlx1YWQ2Y1x1Yjg1Y1x1YWQ2YyI6IGNhc2UgIlx1YjE3OFx1YzZkMFx1YWQ2YyI6IGNhc2UgIlx1YjNkOVx1YjMwMFx1YmIzOFx1YWQ2YyI6IGNhc2UgIlx1YWQxMVx1YzljNFx1YWQ2YyI6IGNhc2UgIlx1Yzg4NVx1Yjg1Y1x1YWQ2YyI6IAogICAgICAgICAgICAgICAgICAgIHJldHVybiB7ImNvbG9yIjogImJsYWNrIiwgImZpbGxDb2xvciI6ICIjYWRkZDhlIiwgImZpbGxPcGFjaXR5IjogMC42LCAib3BhY2l0eSI6IDEsICJ3ZWlnaHQiOiAxfTsKICAgICAgICAgICAgICAgIGNhc2UgIlx1YWMxNVx1YjBhOFx1YWQ2YyI6IAogICAgICAgICAgICAgICAgICAgIHJldHVybiB7ImNvbG9yIjogImJsYWNrIiwgImZpbGxDb2xvciI6ICIjMDA2ODM3IiwgImZpbGxPcGFjaXR5IjogMC42LCAib3BhY2l0eSI6IDEsICJ3ZWlnaHQiOiAxfTsKICAgICAgICAgICAgICAgIGNhc2UgIlx1YzExY1x1Y2QwOFx1YWQ2YyI6IGNhc2UgIlx1YWQwMFx1YzU0NVx1YWQ2YyI6IGNhc2UgIlx1YWMxNVx1YzExY1x1YWQ2YyI6IGNhc2UgIlx1YjljOFx1ZDNlY1x1YWQ2YyI6IAogICAgICAgICAgICAgICAgICAgIHJldHVybiB7ImNvbG9yIjogImJsYWNrIiwgImZpbGxDb2xvciI6ICIjNzhjNjc5IiwgImZpbGxPcGFjaXR5IjogMC42LCAib3BhY2l0eSI6IDEsICJ3ZWlnaHQiOiAxfTsKICAgICAgICAgICAgICAgIGNhc2UgIlx1YzYwMVx1YjRmMVx1ZDNlY1x1YWQ2YyI6IAogICAgICAgICAgICAgICAgICAgIHJldHVybiB7ImNvbG9yIjogImJsYWNrIiwgImZpbGxDb2xvciI6ICIjMzFhMzU0IiwgImZpbGxPcGFjaXR5IjogMC42LCAib3BhY2l0eSI6IDEsICJ3ZWlnaHQiOiAxfTsKICAgICAgICAgICAgICAgIGNhc2UgIlx1YzExY1x1YjMwMFx1YmIzOFx1YWQ2YyI6IGNhc2UgIlx1YjNjNFx1YmQwOVx1YWQ2YyI6IGNhc2UgIlx1YzEzMVx1YjNkOVx1YWQ2YyI6IAogICAgICAgICAgICAgICAgICAgIHJldHVybiB7ImNvbG9yIjogImJsYWNrIiwgImZpbGxDb2xvciI6ICIjZmZmZmNjIiwgImZpbGxPcGFjaXR5IjogMC42LCAib3BhY2l0eSI6IDEsICJ3ZWlnaHQiOiAxfTsKICAgICAgICAgICAgICAgIGRlZmF1bHQ6CiAgICAgICAgICAgICAgICAgICAgcmV0dXJuIHsiY29sb3IiOiAiYmxhY2siLCAiZmlsbENvbG9yIjogIiNkOWYwYTMiLCAiZmlsbE9wYWNpdHkiOiAwLjYsICJvcGFjaXR5IjogMSwgIndlaWdodCI6IDF9OwogICAgICAgICAgICB9CiAgICAgICAgfQogICAgICAgIGZ1bmN0aW9uIGdlb19qc29uXzUzNzhiMWViNmEyZDQwMTk5ZWYyYTA3ZjJmYzlhMGMyX29uRWFjaEZlYXR1cmUoZmVhdHVyZSwgbGF5ZXIpIHsKICAgICAgICAgICAgbGF5ZXIub24oewogICAgICAgICAgICAgICAgY2xpY2s6IGZ1bmN0aW9uKGUpIHsKICAgICAgICAgICAgICAgICAgICBtYXBfMzdkYWZlYmU2OTc5NGZmYjhlZGY0MzljOWEyOTFkZmIuZml0Qm91bmRzKGUudGFyZ2V0LmdldEJvdW5kcygpKTsKICAgICAgICAgICAgICAgIH0KICAgICAgICAgICAgfSk7CiAgICAgICAgfTsKICAgICAgICB2YXIgZ2VvX2pzb25fNTM3OGIxZWI2YTJkNDAxOTllZjJhMDdmMmZjOWEwYzIgPSBMLmdlb0pzb24obnVsbCwgewogICAgICAgICAgICAgICAgb25FYWNoRmVhdHVyZTogZ2VvX2pzb25fNTM3OGIxZWI2YTJkNDAxOTllZjJhMDdmMmZjOWEwYzJfb25FYWNoRmVhdHVyZSwKICAgICAgICAgICAgCiAgICAgICAgICAgICAgICBzdHlsZTogZ2VvX2pzb25fNTM3OGIxZWI2YTJkNDAxOTllZjJhMDdmMmZjOWEwYzJfc3R5bGVyLAogICAgICAgIH0pLmFkZFRvKGNob3JvcGxldGhfZWJmNmQ0NWY4NGIyNGY2MDgwNWMwOWVjY2ZlOGViZmIpOwogICAgICAgICAgICBnZW9fanNvbl81Mzc4YjFlYjZhMmQ0MDE5OWVmMmEwN2YyZmM5YTBjMi5hZGREYXRhKHsiZmVhdHVyZXMiOiBbeyJnZW9tZXRyeSI6IHsiY29vcmRpbmF0ZXMiOiBbW1sxMjcuMTE1MTk1ODQ5ODE2MDYsIDM3LjU1NzUzMzE4MDcwNDkxNV0sIFsxMjcuMTY2ODMxODQzNjYxMjksIDM3LjU3NjcyNDg3Mzg4NjI3XSwgWzEyNy4xODQwODc5MjMzMDE1MiwgMzcuNTU4MTQyODAzNjk1NzVdLCBbMTI3LjE2NTMwOTg0MzA3NDQ3LCAzNy41NDIyMTg1MTI1ODY5M10sIFsxMjcuMTQ2NzI4MDY4MjM1MDIsIDM3LjUxNDE1NjgwNjgwMjkxXSwgWzEyNy4xMjEyMzE2NTcxOTYxNSwgMzcuNTI1MjgyNzAwODldLCBbMTI3LjExMTY3NjQyMDM2MDgsIDM3LjU0MDY2OTk1NTMyNDk2NV0sIFsxMjcuMTE1MTk1ODQ5ODE2MDYsIDM3LjU1NzUzMzE4MDcwNDkxNV1dXSwgInR5cGUiOiAiUG9seWdvbiJ9LCAiaWQiOiAiXHVhYzE1XHViM2Q5XHVhZDZjIiwgInByb3BlcnRpZXMiOiB7ImJhc2VfeWVhciI6ICIyMDEzIiwgImNvZGUiOiAiMTEyNTAiLCAibmFtZSI6ICJcdWFjMTVcdWIzZDlcdWFkNmMiLCAibmFtZV9lbmciOiAiR2FuZ2RvbmctZ3UifSwgInR5cGUiOiAiRmVhdHVyZSJ9LCB7Imdlb21ldHJ5IjogeyJjb29yZGluYXRlcyI6IFtbWzEyNy4wNjkwNjk4MTMwMzcyLCAzNy41MjIyNzk0MjM1MDUwMjZdLCBbMTI3LjEwMDg3NTE5NzkxOTYyLCAzNy41MjQ4NDEyMjAxNjcwNTVdLCBbMTI3LjExMTY3NjQyMDM2MDgsIDM3LjU0MDY2OTk1NTMyNDk2NV0sIFsxMjcuMTIxMjMxNjU3MTk2MTUsIDM3LjUyNTI4MjcwMDg5XSwgWzEyNy4xNDY3MjgwNjgyMzUwMiwgMzcuNTE0MTU2ODA2ODAyOTFdLCBbMTI3LjE2MzQ5NDQyMTU3NjUsIDM3LjQ5NzQ0NTQwNjA5NzQ4NF0sIFsxMjcuMTQyMDYwNTg0MTMyNzQsIDM3LjQ3MDg5ODE5MDk4NTAxXSwgWzEyNy4xMjQ0MDU3MTA4MDg5MywgMzcuNDYyNDA0NDU1ODcwNDhdLCBbMTI3LjExMTE3MDg1MjAxMjM4LCAzNy40ODU3MDgzODE1MTI0NDVdLCBbMTI3LjA3MTkxNDYwMDA3MjQsIDM3LjUwMjI0MDEzNTg3NjY5XSwgWzEyNy4wNjkwNjk4MTMwMzcyLCAzNy41MjIyNzk0MjM1MDUwMjZdXV0sICJ0eXBlIjogIlBvbHlnb24ifSwgImlkIjogIlx1YzFhMVx1ZDMwY1x1YWQ2YyIsICJwcm9wZXJ0aWVzIjogeyJiYXNlX3llYXIiOiAiMjAxMyIsICJjb2RlIjogIjExMjQwIiwgIm5hbWUiOiAiXHVjMWExXHVkMzBjXHVhZDZjIiwgIm5hbWVfZW5nIjogIlNvbmdwYS1ndSJ9LCAidHlwZSI6ICJGZWF0dXJlIn0sIHsiZ2VvbWV0cnkiOiB7ImNvb3JkaW5hdGVzIjogW1tbMTI3LjA1ODY3MzU5Mjg4Mzk4LCAzNy41MjYyOTk3NDkyMjU2OF0sIFsxMjcuMDY5MDY5ODEzMDM3MiwgMzcuNTIyMjc5NDIzNTA1MDI2XSwgWzEyNy4wNzE5MTQ2MDAwNzI0LCAzNy41MDIyNDAxMzU4NzY2OV0sIFsxMjcuMTExMTcwODUyMDEyMzgsIDM3LjQ4NTcwODM4MTUxMjQ0NV0sIFsxMjcuMTI0NDA1NzEwODA4OTMsIDM3LjQ2MjQwNDQ1NTg3MDQ4XSwgWzEyNy4wOTg0Mjc1OTMxODc1MSwgMzcuNDU4NjIyNTM4NTc0NjFdLCBbMTI3LjA4NjQwNDQwNTc4MTU2LCAzNy40NzI2OTc5MzUxODQ2NTVdLCBbMTI3LjA1NTkxNzA0ODE5MDQsIDM3LjQ2NTkyMjg5MTQwNzddLCBbMTI3LjAzNjIxOTE1MDk4Nzk4LCAzNy40ODE3NTgwMjQyNzYwM10sIFsxMjcuMDEzOTcxMTk2Njc1MTMsIDM3LjUyNTAzOTg4Mjg5NjY5XSwgWzEyNy4wMjMwMjgzMTg5MDU1OSwgMzcuNTMyMzE4OTk1ODI2NjNdLCBbMTI3LjA1ODY3MzU5Mjg4Mzk4LCAzNy41MjYyOTk3NDkyMjU2OF1dXSwgInR5cGUiOiAiUG9seWdvbiJ9LCAiaWQiOiAiXHVhYzE1XHViMGE4XHVhZDZjIiwgInByb3BlcnRpZXMiOiB7ImJhc2VfeWVhciI6ICIyMDEzIiwgImNvZGUiOiAiMTEyMzAiLCAibmFtZSI6ICJcdWFjMTVcdWIwYThcdWFkNmMiLCAibmFtZV9lbmciOiAiR2FuZ25hbS1ndSJ9LCAidHlwZSI6ICJGZWF0dXJlIn0sIHsiZ2VvbWV0cnkiOiB7ImNvb3JkaW5hdGVzIjogW1tbMTI3LjAxMzk3MTE5NjY3NTEzLCAzNy41MjUwMzk4ODI4OTY2OV0sIFsxMjcuMDM2MjE5MTUwOTg3OTgsIDM3LjQ4MTc1ODAyNDI3NjAzXSwgWzEyNy4wNTU5MTcwNDgxOTA0LCAzNy40NjU5MjI4OTE0MDc3XSwgWzEyNy4wODY0MDQ0MDU3ODE1NiwgMzcuNDcyNjk3OTM1MTg0NjU1XSwgWzEyNy4wOTg0Mjc1OTMxODc1MSwgMzcuNDU4NjIyNTM4NTc0NjFdLCBbMTI3LjA5MDQ2OTI4NTY1OTUxLCAzNy40NDI5NjgyNjExNDE4NV0sIFsxMjcuMDY3NzgxMDc2MDU0MzMsIDM3LjQyNjE5NzQyNDA1NzMxNF0sIFsxMjcuMDQ5NTcyMzI5ODcxNDIsIDM3LjQyODA1ODM2ODQ1Njk0XSwgWzEyNy4wMzg4MTc4MjU5NzkyMiwgMzcuNDUzODIwMzk4NTE3MTVdLCBbMTI2Ljk5MDcyMDczMTk1NDYyLCAzNy40NTUzMjYxNDMzMTAwMjVdLCBbMTI2Ljk4MzY3NjY4MjkxODAyLCAzNy40NzM4NTY0OTI2OTIwODZdLCBbMTI2Ljk4MjIzODA3OTE2MDgxLCAzNy41MDkzMTQ5NjY3NzAzMjZdLCBbMTI3LjAxMzk3MTE5NjY3NTEzLCAzNy41MjUwMzk4ODI4OTY2OV1dXSwgInR5cGUiOiAiUG9seWdvbiJ9LCAiaWQiOiAiXHVjMTFjXHVjZDA4XHVhZDZjIiwgInByb3BlcnRpZXMiOiB7ImJhc2VfeWVhciI6ICIyMDEzIiwgImNvZGUiOiAiMTEyMjAiLCAibmFtZSI6ICJcdWMxMWNcdWNkMDhcdWFkNmMiLCAibmFtZV9lbmciOiAiU2VvY2hvLWd1In0sICJ0eXBlIjogIkZlYXR1cmUifSwgeyJnZW9tZXRyeSI6IHsiY29vcmRpbmF0ZXMiOiBbW1sxMjYuOTgzNjc2NjgyOTE4MDIsIDM3LjQ3Mzg1NjQ5MjY5MjA4Nl0sIFsxMjYuOTkwNzIwNzMxOTU0NjIsIDM3LjQ1NTMyNjE0MzMxMDAyNV0sIFsxMjYuOTY1MjA0MzkwODUxNDMsIDM3LjQzODI0OTc4NDAwNjI0Nl0sIFsxMjYuOTUwMDAwMDEwMTAxODIsIDM3LjQzNjEzNDUxMTY1NzE5XSwgWzEyNi45MzA4NDQwODA1NjUyNSwgMzcuNDQ3MzgyOTI4MzMzOTk0XSwgWzEyNi45MTY3NzI4MTQ2NjAxLCAzNy40NTQ5MDU2NjQyMzc4OV0sIFsxMjYuOTAxNTYwOTQxMjk4OTUsIDM3LjQ3NzUzODQyNzg5OTAxXSwgWzEyNi45MDUzMTk3NTgwMTgxMiwgMzcuNDgyMTgwODc1NzU0MjldLCBbMTI2Ljk0OTIyNjYxMzg5NTA4LCAzNy40OTEyNTQzNzQ5NTY0OV0sIFsxMjYuOTcyNTg5MTg1MDY2MiwgMzcuNDcyNTYxMzYzMjc4MTI1XSwgWzEyNi45ODM2NzY2ODI5MTgwMiwgMzcuNDczODU2NDkyNjkyMDg2XV1dLCAidHlwZSI6ICJQb2x5Z29uIn0sICJpZCI6ICJcdWFkMDBcdWM1NDVcdWFkNmMiLCAicHJvcGVydGllcyI6IHsiYmFzZV95ZWFyIjogIjIwMTMiLCAiY29kZSI6ICIxMTIxMCIsICJuYW1lIjogIlx1YWQwMFx1YzU0NVx1YWQ2YyIsICJuYW1lX2VuZyI6ICJHd2FuYWstZ3UifSwgInR5cGUiOiAiRmVhdHVyZSJ9LCB7Imdlb21ldHJ5IjogeyJjb29yZGluYXRlcyI6IFtbWzEyNi45ODIyMzgwNzkxNjA4MSwgMzcuNTA5MzE0OTY2NzcwMzI2XSwgWzEyNi45ODM2NzY2ODI5MTgwMiwgMzcuNDczODU2NDkyNjkyMDg2XSwgWzEyNi45NzI1ODkxODUwNjYyLCAzNy40NzI1NjEzNjMyNzgxMjVdLCBbMTI2Ljk0OTIyNjYxMzg5NTA4LCAzNy40OTEyNTQzNzQ5NTY0OV0sIFsxMjYuOTA1MzE5NzU4MDE4MTIsIDM3LjQ4MjE4MDg3NTc1NDI5XSwgWzEyNi45MjE3Nzg5MzE3NDgyNSwgMzcuNDk0ODg5ODc3NDE1MTc2XSwgWzEyNi45MjgxMDYyODgyODI3OSwgMzcuNTEzMjk1OTU3MzIwMTVdLCBbMTI2Ljk1MjQ5OTkwMjk4MTU5LCAzNy41MTcyMjUwMDc0MTgxM10sIFsxMjYuOTgyMjM4MDc5MTYwODEsIDM3LjUwOTMxNDk2Njc3MDMyNl1dXSwgInR5cGUiOiAiUG9seWdvbiJ9LCAiaWQiOiAiXHViM2Q5XHVjNzkxXHVhZDZjIiwgInByb3BlcnRpZXMiOiB7ImJhc2VfeWVhciI6ICIyMDEzIiwgImNvZGUiOiAiMTEyMDAiLCAibmFtZSI6ICJcdWIzZDlcdWM3OTFcdWFkNmMiLCAibmFtZV9lbmciOiAiRG9uZ2phay1ndSJ9LCAidHlwZSI6ICJGZWF0dXJlIn0sIHsiZ2VvbWV0cnkiOiB7ImNvb3JkaW5hdGVzIjogW1tbMTI2Ljg5MTg0NjYzODYyNzY0LCAzNy41NDczNzM5NzQ5OTcxMTRdLCBbMTI2Ljk0NTY2NzMzMDgzMjEyLCAzNy41MjY2MTc1NDI0NTMzNjZdLCBbMTI2Ljk1MjQ5OTkwMjk4MTU5LCAzNy41MTcyMjUwMDc0MTgxM10sIFsxMjYuOTI4MTA2Mjg4MjgyNzksIDM3LjUxMzI5NTk1NzMyMDE1XSwgWzEyNi45MjE3Nzg5MzE3NDgyNSwgMzcuNDk0ODg5ODc3NDE1MTc2XSwgWzEyNi45MDUzMTk3NTgwMTgxMiwgMzcuNDgyMTgwODc1NzU0MjldLCBbMTI2Ljg5NTk0Nzc2NzgyNDg1LCAzNy41MDQ2NzUyODEzMDkxNzZdLCBbMTI2Ljg4MTU2NDAyMzUzODYyLCAzNy41MTM5NzAwMzQ3NjU2ODRdLCBbMTI2Ljg4ODI1NzU3ODYwMDk5LCAzNy41NDA3OTczMzYzMDIzMl0sIFsxMjYuODkxODQ2NjM4NjI3NjQsIDM3LjU0NzM3Mzk3NDk5NzExNF1dXSwgInR5cGUiOiAiUG9seWdvbiJ9LCAiaWQiOiAiXHVjNjAxXHViNGYxXHVkM2VjXHVhZDZjIiwgInByb3BlcnRpZXMiOiB7ImJhc2VfeWVhciI6ICIyMDEzIiwgImNvZGUiOiAiMTExOTAiLCAibmFtZSI6ICJcdWM2MDFcdWI0ZjFcdWQzZWNcdWFkNmMiLCAibmFtZV9lbmciOiAiWWVvbmdkZXVuZ3BvLWd1In0sICJ0eXBlIjogIkZlYXR1cmUifSwgeyJnZW9tZXRyeSI6IHsiY29vcmRpbmF0ZXMiOiBbW1sxMjYuOTAxNTYwOTQxMjk4OTUsIDM3LjQ3NzUzODQyNzg5OTAxXSwgWzEyNi45MTY3NzI4MTQ2NjAxLCAzNy40NTQ5MDU2NjQyMzc4OV0sIFsxMjYuOTMwODQ0MDgwNTY1MjUsIDM3LjQ0NzM4MjkyODMzMzk5NF0sIFsxMjYuOTAyNTgzMTcxMTY5NywgMzcuNDM0NTQ5MzY2MzQ5MTI0XSwgWzEyNi44NzY4MzI3MTUwMjQyOCwgMzcuNDgyNTc2NTkxNjA3MzA1XSwgWzEyNi45MDE1NjA5NDEyOTg5NSwgMzcuNDc3NTM4NDI3ODk5MDFdXV0sICJ0eXBlIjogIlBvbHlnb24ifSwgImlkIjogIlx1YWUwOFx1Y2M5Y1x1YWQ2YyIsICJwcm9wZXJ0aWVzIjogeyJiYXNlX3llYXIiOiAiMjAxMyIsICJjb2RlIjogIjExMTgwIiwgIm5hbWUiOiAiXHVhZTA4XHVjYzljXHVhZDZjIiwgIm5hbWVfZW5nIjogIkdldW1jaGVvbi1ndSJ9LCAidHlwZSI6ICJGZWF0dXJlIn0sIHsiZ2VvbWV0cnkiOiB7ImNvb3JkaW5hdGVzIjogW1tbMTI2LjgyNjg4MDgxNTE3MzE0LCAzNy41MDU0ODk3MjIzMjg5Nl0sIFsxMjYuODgxNTY0MDIzNTM4NjIsIDM3LjUxMzk3MDAzNDc2NTY4NF0sIFsxMjYuODk1OTQ3NzY3ODI0ODUsIDM3LjUwNDY3NTI4MTMwOTE3Nl0sIFsxMjYuOTA1MzE5NzU4MDE4MTIsIDM3LjQ4MjE4MDg3NTc1NDI5XSwgWzEyNi45MDE1NjA5NDEyOTg5NSwgMzcuNDc3NTM4NDI3ODk5MDFdLCBbMTI2Ljg3NjgzMjcxNTAyNDI4LCAzNy40ODI1NzY1OTE2MDczMDVdLCBbMTI2Ljg0NzYyNjc2MDU0OTUzLCAzNy40NzE0NjcyMzkzNjMyM10sIFsxMjYuODM1NDk0ODUwNzYxOTYsIDM3LjQ3NDA5ODIzNjk3NTA5NV0sIFsxMjYuODIyNjQ3OTY3OTEzNDgsIDM3LjQ4Nzg0NzY0OTIxNDddLCBbMTI2LjgyNTA0NzM2MzMxNDA2LCAzNy41MDMwMjYxMjY0MDQ0M10sIFsxMjYuODI2ODgwODE1MTczMTQsIDM3LjUwNTQ4OTcyMjMyODk2XV1dLCAidHlwZSI6ICJQb2x5Z29uIn0sICJpZCI6ICJcdWFkNmNcdWI4NWNcdWFkNmMiLCAicHJvcGVydGllcyI6IHsiYmFzZV95ZWFyIjogIjIwMTMiLCAiY29kZSI6ICIxMTE3MCIsICJuYW1lIjogIlx1YWQ2Y1x1Yjg1Y1x1YWQ2YyIsICJuYW1lX2VuZyI6ICJHdXJvLWd1In0sICJ0eXBlIjogIkZlYXR1cmUifSwgeyJnZW9tZXRyeSI6IHsiY29vcmRpbmF0ZXMiOiBbW1sxMjYuNzk1NzU3Njg1NTI5MDcsIDM3LjU3ODgxMDg3NjMzMjAyXSwgWzEyNi44MDcwMjExNTAyMzU5NywgMzcuNjAxMjMwMDEwMTMyMjhdLCBbMTI2LjgyMjUxNDM4NDc3MTA1LCAzNy41ODgwNDMwODEwMDgyXSwgWzEyNi44NTk4NDE5OTM5OTY2NywgMzcuNTcxODQ3ODU1MjkyNzQ1XSwgWzEyNi44OTE4NDY2Mzg2Mjc2NCwgMzcuNTQ3MzczOTc0OTk3MTE0XSwgWzEyNi44ODgyNTc1Nzg2MDA5OSwgMzcuNTQwNzk3MzM2MzAyMzJdLCBbMTI2Ljg2NjM3NDY0MzIxMjM4LCAzNy41NDg1OTE5MTA5NDgyM10sIFsxMjYuODY2MTAwNzM0NzYzOTUsIDM3LjUyNjk5OTY0MTQ0NjY5XSwgWzEyNi44NDI1NzI5MTk0MzE1MywgMzcuNTIzNzM3MDc4MDU1OTZdLCBbMTI2LjgyNDIzMzE0MjY3MjIsIDM3LjUzNzg4MDc4NzUzMjQ4XSwgWzEyNi43NzMyNDQxNzcxNzcwMywgMzcuNTQ1OTEyMzQ1MDU1NF0sIFsxMjYuNzY5NzkxODA1NzkzNTIsIDM3LjU1MTM5MTgzMDA4ODA5XSwgWzEyNi43OTU3NTc2ODU1MjkwNywgMzcuNTc4ODEwODc2MzMyMDJdXV0sICJ0eXBlIjogIlBvbHlnb24ifSwgImlkIjogIlx1YWMxNVx1YzExY1x1YWQ2YyIsICJwcm9wZXJ0aWVzIjogeyJiYXNlX3llYXIiOiAiMjAxMyIsICJjb2RlIjogIjExMTYwIiwgIm5hbWUiOiAiXHVhYzE1XHVjMTFjXHVhZDZjIiwgIm5hbWVfZW5nIjogIkdhbmdzZW8tZ3UifSwgInR5cGUiOiAiRmVhdHVyZSJ9LCB7Imdlb21ldHJ5IjogeyJjb29yZGluYXRlcyI6IFtbWzEyNi44MjQyMzMxNDI2NzIyLCAzNy41Mzc4ODA3ODc1MzI0OF0sIFsxMjYuODQyNTcyOTE5NDMxNTMsIDM3LjUyMzczNzA3ODA1NTk2XSwgWzEyNi44NjYxMDA3MzQ3NjM5NSwgMzcuNTI2OTk5NjQxNDQ2NjldLCBbMTI2Ljg2NjM3NDY0MzIxMjM4LCAzNy41NDg1OTE5MTA5NDgyM10sIFsxMjYuODg4MjU3NTc4NjAwOTksIDM3LjU0MDc5NzMzNjMwMjMyXSwgWzEyNi44ODE1NjQwMjM1Mzg2MiwgMzcuNTEzOTcwMDM0NzY1Njg0XSwgWzEyNi44MjY4ODA4MTUxNzMxNCwgMzcuNTA1NDg5NzIyMzI4OTZdLCBbMTI2LjgyNDIzMzE0MjY3MjIsIDM3LjUzNzg4MDc4NzUzMjQ4XV1dLCAidHlwZSI6ICJQb2x5Z29uIn0sICJpZCI6ICJcdWM1OTFcdWNjOWNcdWFkNmMiLCAicHJvcGVydGllcyI6IHsiYmFzZV95ZWFyIjogIjIwMTMiLCAiY29kZSI6ICIxMTE1MCIsICJuYW1lIjogIlx1YzU5MVx1Y2M5Y1x1YWQ2YyIsICJuYW1lX2VuZyI6ICJZYW5nY2hlb24tZ3UifSwgInR5cGUiOiAiRmVhdHVyZSJ9LCB7Imdlb21ldHJ5IjogeyJjb29yZGluYXRlcyI6IFtbWzEyNi45MDUyMjA2NTgzMTA1MywgMzcuNTc0MDk3MDA1MjI1NzRdLCBbMTI2LjkzODk4MTYxNzk4OTczLCAzNy41NTIzMTAwMDM3MjgxMjRdLCBbMTI2Ljk2MzU4MjI2NzEwODEyLCAzNy41NTYwNTYzNTQ3NTE1NF0sIFsxMjYuOTY0NDg1NzA1NTMwNTUsIDM3LjU0ODcwNTY5MjAyMTYzNV0sIFsxMjYuOTQ1NjY3MzMwODMyMTIsIDM3LjUyNjYxNzU0MjQ1MzM2Nl0sIFsxMjYuODkxODQ2NjM4NjI3NjQsIDM3LjU0NzM3Mzk3NDk5NzExNF0sIFsxMjYuODU5ODQxOTkzOTk2NjcsIDM3LjU3MTg0Nzg1NTI5Mjc0NV0sIFsxMjYuODg0MzMyODQ3NzMyODgsIDM3LjU4ODE0MzMyMjg4MDUyNl0sIFsxMjYuOTA1MjIwNjU4MzEwNTMsIDM3LjU3NDA5NzAwNTIyNTc0XV1dLCAidHlwZSI6ICJQb2x5Z29uIn0sICJpZCI6ICJcdWI5YzhcdWQzZWNcdWFkNmMiLCAicHJvcGVydGllcyI6IHsiYmFzZV95ZWFyIjogIjIwMTMiLCAiY29kZSI6ICIxMTE0MCIsICJuYW1lIjogIlx1YjljOFx1ZDNlY1x1YWQ2YyIsICJuYW1lX2VuZyI6ICJNYXBvLWd1In0sICJ0eXBlIjogIkZlYXR1cmUifSwgeyJnZW9tZXRyeSI6IHsiY29vcmRpbmF0ZXMiOiBbW1sxMjYuOTUyNDc1MjAzMDU3MiwgMzcuNjA1MDg2OTI3MzcwNDVdLCBbMTI2Ljk1NTY1NDI1ODQ2NDYzLCAzNy41NzYwODA3OTA4ODE0NTZdLCBbMTI2Ljk2ODczNjMzMjc5MDc1LCAzNy41NjMxMzYwNDY5MDgyN10sIFsxMjYuOTYzNTgyMjY3MTA4MTIsIDM3LjU1NjA1NjM1NDc1MTU0XSwgWzEyNi45Mzg5ODE2MTc5ODk3MywgMzcuNTUyMzEwMDAzNzI4MTI0XSwgWzEyNi45MDUyMjA2NTgzMTA1MywgMzcuNTc0MDk3MDA1MjI1NzRdLCBbMTI2Ljk1MjQ3NTIwMzA1NzIsIDM3LjYwNTA4NjkyNzM3MDQ1XV1dLCAidHlwZSI6ICJQb2x5Z29uIn0sICJpZCI6ICJcdWMxMWNcdWIzMDBcdWJiMzhcdWFkNmMiLCAicHJvcGVydGllcyI6IHsiYmFzZV95ZWFyIjogIjIwMTMiLCAiY29kZSI6ICIxMTEzMCIsICJuYW1lIjogIlx1YzExY1x1YjMwMFx1YmIzOFx1YWQ2YyIsICJuYW1lX2VuZyI6ICJTZW9kYWVtdW4tZ3UifSwgInR5cGUiOiAiRmVhdHVyZSJ9LCB7Imdlb21ldHJ5IjogeyJjb29yZGluYXRlcyI6IFtbWzEyNi45NzM4ODY0MTI4NzAyLCAzNy42Mjk0OTYzNDc4Njg4OF0sIFsxMjYuOTU0MjcwMTcwMDYxMjksIDM3LjYyMjAzMzQzMTMzOTQyNV0sIFsxMjYuOTUyNDc1MjAzMDU3MiwgMzcuNjA1MDg2OTI3MzcwNDVdLCBbMTI2LjkwNTIyMDY1ODMxMDUzLCAzNy41NzQwOTcwMDUyMjU3NF0sIFsxMjYuODg0MzMyODQ3NzMyODgsIDM3LjU4ODE0MzMyMjg4MDUyNl0sIFsxMjYuOTAzOTY2ODEwMDM1OTUsIDM3LjU5MjI3NDAzNDE5OTQyXSwgWzEyNi45MDMwMzA2NjE3NzY2OCwgMzcuNjA5OTc3OTExNDAxMzQ0XSwgWzEyNi45MTQ1NTQ4MTQyOTY0OCwgMzcuNjQxNTAwNTA5OTY5MzVdLCBbMTI2Ljk1NjQ3Mzc5NzM4NywgMzcuNjUyNDgwNzM3MzM5NDQ1XSwgWzEyNi45NzM4ODY0MTI4NzAyLCAzNy42Mjk0OTYzNDc4Njg4OF1dXSwgInR5cGUiOiAiUG9seWdvbiJ9LCAiaWQiOiAiXHVjNzQwXHVkM2M5XHVhZDZjIiwgInByb3BlcnRpZXMiOiB7ImJhc2VfeWVhciI6ICIyMDEzIiwgImNvZGUiOiAiMTExMjAiLCAibmFtZSI6ICJcdWM3NDBcdWQzYzlcdWFkNmMiLCAibmFtZV9lbmciOiAiRXVucHllb25nLWd1In0sICJ0eXBlIjogIkZlYXR1cmUifSwgeyJnZW9tZXRyeSI6IHsiY29vcmRpbmF0ZXMiOiBbW1sxMjcuMDgzODc1MjcwMzE5NSwgMzcuNjkzNTk1MzQyMDIwMzRdLCBbMTI3LjA5NzA2MzkxMzA5Njk1LCAzNy42ODYzODM3MTkzNzIyOTRdLCBbMTI3LjA5NDQwNzY2Mjk4NzE3LCAzNy42NDcxMzQ5MDQ3MzA0NV0sIFsxMjcuMTEzMjY3OTU4NTUxOTksIDM3LjYzOTYyMjkwNTMxNTkyNV0sIFsxMjcuMTA3ODIyNzc2ODgxMjksIDM3LjYxODA0MjQ0MjQxMDY5XSwgWzEyNy4wNzM1MTI0MzgyNTI3OCwgMzcuNjEyODM2NjAzNDIzMTNdLCBbMTI3LjA1MjA5MzczNTY4NjE5LCAzNy42MjE2NDA2NTQ4Nzc4Ml0sIFsxMjcuMDQzNTg4MDA4OTU2MDksIDM3LjYyODQ4OTMxMjk4NzE1XSwgWzEyNy4wNTgwMDA3NTIyMDA5MSwgMzcuNjQzMTgyNjM4NzgyNzZdLCBbMTI3LjA1Mjg4NDc5NzEwNDg1LCAzNy42ODQyMzg1NzA4NDM0N10sIFsxMjcuMDgzODc1MjcwMzE5NSwgMzcuNjkzNTk1MzQyMDIwMzRdXV0sICJ0eXBlIjogIlBvbHlnb24ifSwgImlkIjogIlx1YjE3OFx1YzZkMFx1YWQ2YyIsICJwcm9wZXJ0aWVzIjogeyJiYXNlX3llYXIiOiAiMjAxMyIsICJjb2RlIjogIjExMTEwIiwgIm5hbWUiOiAiXHViMTc4XHVjNmQwXHVhZDZjIiwgIm5hbWVfZW5nIjogIk5vd29uLWd1In0sICJ0eXBlIjogIkZlYXR1cmUifSwgeyJnZW9tZXRyeSI6IHsiY29vcmRpbmF0ZXMiOiBbW1sxMjcuMDUyODg0Nzk3MTA0ODUsIDM3LjY4NDIzODU3MDg0MzQ3XSwgWzEyNy4wNTgwMDA3NTIyMDA5MSwgMzcuNjQzMTgyNjM4NzgyNzZdLCBbMTI3LjA0MzU4ODAwODk1NjA5LCAzNy42Mjg0ODkzMTI5ODcxNV0sIFsxMjcuMDE0NjU5MzU4OTI0NjYsIDM3LjY0OTQzNjg3NDk2ODEyXSwgWzEyNy4wMjA2MjExNjE0MTM4OSwgMzcuNjY3MTczNTc1OTcxMjA1XSwgWzEyNy4wMTAzOTY2NjA0MjA3MSwgMzcuNjgxODk0NTg5NjAzNTk0XSwgWzEyNy4wMTc5NTA5OTIwMzQzMiwgMzcuNjk4MjQ0MTI3NzU2NjJdLCBbMTI3LjA1Mjg4NDc5NzEwNDg1LCAzNy42ODQyMzg1NzA4NDM0N11dXSwgInR5cGUiOiAiUG9seWdvbiJ9LCAiaWQiOiAiXHViM2M0XHViZDA5XHVhZDZjIiwgInByb3BlcnRpZXMiOiB7ImJhc2VfeWVhciI6ICIyMDEzIiwgImNvZGUiOiAiMTExMDAiLCAibmFtZSI6ICJcdWIzYzRcdWJkMDlcdWFkNmMiLCAibmFtZV9lbmciOiAiRG9ib25nLWd1In0sICJ0eXBlIjogIkZlYXR1cmUifSwgeyJnZW9tZXRyeSI6IHsiY29vcmRpbmF0ZXMiOiBbW1sxMjYuOTkzODM5MDM0MjQsIDM3LjY3NjY4MTc2MTE5OTA4NV0sIFsxMjcuMDEwMzk2NjYwNDIwNzEsIDM3LjY4MTg5NDU4OTYwMzU5NF0sIFsxMjcuMDIwNjIxMTYxNDEzODksIDM3LjY2NzE3MzU3NTk3MTIwNV0sIFsxMjcuMDE0NjU5MzU4OTI0NjYsIDM3LjY0OTQzNjg3NDk2ODEyXSwgWzEyNy4wNDM1ODgwMDg5NTYwOSwgMzcuNjI4NDg5MzEyOTg3MTVdLCBbMTI3LjA1MjA5MzczNTY4NjE5LCAzNy42MjE2NDA2NTQ4Nzc4Ml0sIFsxMjcuMDM4OTI0MDA5OTIzMDEsIDM3LjYwOTcxNTYxMTAyMzgxNl0sIFsxMjcuMDEyODE1NDc0OTUyMywgMzcuNjEzNjUyMjQzNDcwMjU2XSwgWzEyNi45ODY3MjcwNTUxMzg2OSwgMzcuNjMzNzc2NDEyODgxOTZdLCBbMTI2Ljk4MTc0NTI2NzY1NTEsIDM3LjY1MjA5NzY5Mzg3Nzc2XSwgWzEyNi45OTM4MzkwMzQyNCwgMzcuNjc2NjgxNzYxMTk5MDg1XV1dLCAidHlwZSI6ICJQb2x5Z29uIn0sICJpZCI6ICJcdWFjMTVcdWJkODFcdWFkNmMiLCAicHJvcGVydGllcyI6IHsiYmFzZV95ZWFyIjogIjIwMTMiLCAiY29kZSI6ICIxMTA5MCIsICJuYW1lIjogIlx1YWMxNVx1YmQ4MVx1YWQ2YyIsICJuYW1lX2VuZyI6ICJHYW5nYnVrLWd1In0sICJ0eXBlIjogIkZlYXR1cmUifSwgeyJnZW9tZXRyeSI6IHsiY29vcmRpbmF0ZXMiOiBbW1sxMjYuOTc3MTc1NDA2NDE2LCAzNy42Mjg1OTcxNTQwMDM4OF0sIFsxMjYuOTg2NzI3MDU1MTM4NjksIDM3LjYzMzc3NjQxMjg4MTk2XSwgWzEyNy4wMTI4MTU0NzQ5NTIzLCAzNy42MTM2NTIyNDM0NzAyNTZdLCBbMTI3LjAzODkyNDAwOTkyMzAxLCAzNy42MDk3MTU2MTEwMjM4MTZdLCBbMTI3LjA1MjA5MzczNTY4NjE5LCAzNy42MjE2NDA2NTQ4Nzc4Ml0sIFsxMjcuMDczNTEyNDM4MjUyNzgsIDM3LjYxMjgzNjYwMzQyMzEzXSwgWzEyNy4wNzM4MjcwNzA5OTIyNywgMzcuNjA0MDE5Mjg5ODY0MTldLCBbMTI3LjA0MjcwNTIyMjA5NCwgMzcuNTkyMzk0Mzc1OTMzOTFdLCBbMTI3LjAyNTI3MjU0NTI4MDAzLCAzNy41NzUyNDYxNjI0NTI0OV0sIFsxMjYuOTkzNDgyOTMzNTgzMTQsIDM3LjU4ODU2NTQ1NzIxNjE1Nl0sIFsxMjYuOTg4Nzk4NjU5OTIzODQsIDM3LjYxMTg5MjczMTk3NTZdLCBbMTI2Ljk3NzE3NTQwNjQxNiwgMzcuNjI4NTk3MTU0MDAzODhdXV0sICJ0eXBlIjogIlBvbHlnb24ifSwgImlkIjogIlx1YzEzMVx1YmQ4MVx1YWQ2YyIsICJwcm9wZXJ0aWVzIjogeyJiYXNlX3llYXIiOiAiMjAxMyIsICJjb2RlIjogIjExMDgwIiwgIm5hbWUiOiAiXHVjMTMxXHViZDgxXHVhZDZjIiwgIm5hbWVfZW5nIjogIlNlb25nYnVrLWd1In0sICJ0eXBlIjogIkZlYXR1cmUifSwgeyJnZW9tZXRyeSI6IHsiY29vcmRpbmF0ZXMiOiBbW1sxMjcuMDczNTEyNDM4MjUyNzgsIDM3LjYxMjgzNjYwMzQyMzEzXSwgWzEyNy4xMDc4MjI3NzY4ODEyOSwgMzcuNjE4MDQyNDQyNDEwNjldLCBbMTI3LjEyMDEyNDYwMjAxMTQsIDM3LjYwMTc4NDU3NTk4MTg4XSwgWzEyNy4xMDMwNDE3NDI0OTIxNCwgMzcuNTcwNzYzNDIyOTA5NTVdLCBbMTI3LjA4MDY4NTQxMjgwNDAzLCAzNy41NjkwNjQyNTUxOTAxN10sIFsxMjcuMDczODI3MDcwOTkyMjcsIDM3LjYwNDAxOTI4OTg2NDE5XSwgWzEyNy4wNzM1MTI0MzgyNTI3OCwgMzcuNjEyODM2NjAzNDIzMTNdXV0sICJ0eXBlIjogIlBvbHlnb24ifSwgImlkIjogIlx1YzkxMVx1Yjc5MVx1YWQ2YyIsICJwcm9wZXJ0aWVzIjogeyJiYXNlX3llYXIiOiAiMjAxMyIsICJjb2RlIjogIjExMDcwIiwgIm5hbWUiOiAiXHVjOTExXHViNzkxXHVhZDZjIiwgIm5hbWVfZW5nIjogIkp1bmduYW5nLWd1In0sICJ0eXBlIjogIkZlYXR1cmUifSwgeyJnZW9tZXRyeSI6IHsiY29vcmRpbmF0ZXMiOiBbW1sxMjcuMDI1MjcyNTQ1MjgwMDMsIDM3LjU3NTI0NjE2MjQ1MjQ5XSwgWzEyNy4wNDI3MDUyMjIwOTQsIDM3LjU5MjM5NDM3NTkzMzkxXSwgWzEyNy4wNzM4MjcwNzA5OTIyNywgMzcuNjA0MDE5Mjg5ODY0MTldLCBbMTI3LjA4MDY4NTQxMjgwNDAzLCAzNy41NjkwNjQyNTUxOTAxN10sIFsxMjcuMDc0MjEwNTMwMjQzNjIsIDM3LjU1NzI0NzY5NzEyMDg1XSwgWzEyNy4wNTAwNTYwMTA4MTU2NywgMzcuNTY3NTc3NjEyNTkwODQ2XSwgWzEyNy4wMjU0NzI2NjM0OTk3NiwgMzcuNTY4OTQzNTUyMjM3NzM0XSwgWzEyNy4wMjUyNzI1NDUyODAwMywgMzcuNTc1MjQ2MTYyNDUyNDldXV0sICJ0eXBlIjogIlBvbHlnb24ifSwgImlkIjogIlx1YjNkOVx1YjMwMFx1YmIzOFx1YWQ2YyIsICJwcm9wZXJ0aWVzIjogeyJiYXNlX3llYXIiOiAiMjAxMyIsICJjb2RlIjogIjExMDYwIiwgIm5hbWUiOiAiXHViM2Q5XHViMzAwXHViYjM4XHVhZDZjIiwgIm5hbWVfZW5nIjogIkRvbmdkYWVtdW4tZ3UifSwgInR5cGUiOiAiRmVhdHVyZSJ9LCB7Imdlb21ldHJ5IjogeyJjb29yZGluYXRlcyI6IFtbWzEyNy4wODA2ODU0MTI4MDQwMywgMzcuNTY5MDY0MjU1MTkwMTddLCBbMTI3LjEwMzA0MTc0MjQ5MjE0LCAzNy41NzA3NjM0MjI5MDk1NV0sIFsxMjcuMTE1MTk1ODQ5ODE2MDYsIDM3LjU1NzUzMzE4MDcwNDkxNV0sIFsxMjcuMTExNjc2NDIwMzYwOCwgMzcuNTQwNjY5OTU1MzI0OTY1XSwgWzEyNy4xMDA4NzUxOTc5MTk2MiwgMzcuNTI0ODQxMjIwMTY3MDU1XSwgWzEyNy4wNjkwNjk4MTMwMzcyLCAzNy41MjIyNzk0MjM1MDUwMjZdLCBbMTI3LjA1ODY3MzU5Mjg4Mzk4LCAzNy41MjYyOTk3NDkyMjU2OF0sIFsxMjcuMDc0MjEwNTMwMjQzNjIsIDM3LjU1NzI0NzY5NzEyMDg1XSwgWzEyNy4wODA2ODU0MTI4MDQwMywgMzcuNTY5MDY0MjU1MTkwMTddXV0sICJ0eXBlIjogIlBvbHlnb24ifSwgImlkIjogIlx1YWQxMVx1YzljNFx1YWQ2YyIsICJwcm9wZXJ0aWVzIjogeyJiYXNlX3llYXIiOiAiMjAxMyIsICJjb2RlIjogIjExMDUwIiwgIm5hbWUiOiAiXHVhZDExXHVjOWM0XHVhZDZjIiwgIm5hbWVfZW5nIjogIkd3YW5namluLWd1In0sICJ0eXBlIjogIkZlYXR1cmUifSwgeyJnZW9tZXRyeSI6IHsiY29vcmRpbmF0ZXMiOiBbW1sxMjcuMDI1NDcyNjYzNDk5NzYsIDM3LjU2ODk0MzU1MjIzNzczNF0sIFsxMjcuMDUwMDU2MDEwODE1NjcsIDM3LjU2NzU3NzYxMjU5MDg0Nl0sIFsxMjcuMDc0MjEwNTMwMjQzNjIsIDM3LjU1NzI0NzY5NzEyMDg1XSwgWzEyNy4wNTg2NzM1OTI4ODM5OCwgMzcuNTI2Mjk5NzQ5MjI1NjhdLCBbMTI3LjAyMzAyODMxODkwNTU5LCAzNy41MzIzMTg5OTU4MjY2M10sIFsxMjcuMDEwNzA4OTQxNzc0ODIsIDM3LjU0MTE4MDQ4OTY0NzYyXSwgWzEyNy4wMjU0NzI2NjM0OTk3NiwgMzcuNTY4OTQzNTUyMjM3NzM0XV1dLCAidHlwZSI6ICJQb2x5Z29uIn0sICJpZCI6ICJcdWMxMzFcdWIzZDlcdWFkNmMiLCAicHJvcGVydGllcyI6IHsiYmFzZV95ZWFyIjogIjIwMTMiLCAiY29kZSI6ICIxMTA0MCIsICJuYW1lIjogIlx1YzEzMVx1YjNkOVx1YWQ2YyIsICJuYW1lX2VuZyI6ICJTZW9uZ2RvbmctZ3UifSwgInR5cGUiOiAiRmVhdHVyZSJ9LCB7Imdlb21ldHJ5IjogeyJjb29yZGluYXRlcyI6IFtbWzEyNy4wMTA3MDg5NDE3NzQ4MiwgMzcuNTQxMTgwNDg5NjQ3NjJdLCBbMTI3LjAyMzAyODMxODkwNTU5LCAzNy41MzIzMTg5OTU4MjY2M10sIFsxMjcuMDEzOTcxMTk2Njc1MTMsIDM3LjUyNTAzOTg4Mjg5NjY5XSwgWzEyNi45ODIyMzgwNzkxNjA4MSwgMzcuNTA5MzE0OTY2NzcwMzI2XSwgWzEyNi45NTI0OTk5MDI5ODE1OSwgMzcuNTE3MjI1MDA3NDE4MTNdLCBbMTI2Ljk0NTY2NzMzMDgzMjEyLCAzNy41MjY2MTc1NDI0NTMzNjZdLCBbMTI2Ljk2NDQ4NTcwNTUzMDU1LCAzNy41NDg3MDU2OTIwMjE2MzVdLCBbMTI2Ljk4NzUyOTk2OTAzMzI4LCAzNy41NTA5NDgxODgwNzEzOV0sIFsxMjcuMDEwNzA4OTQxNzc0ODIsIDM3LjU0MTE4MDQ4OTY0NzYyXV1dLCAidHlwZSI6ICJQb2x5Z29uIn0sICJpZCI6ICJcdWM2YTlcdWMwYjBcdWFkNmMiLCAicHJvcGVydGllcyI6IHsiYmFzZV95ZWFyIjogIjIwMTMiLCAiY29kZSI6ICIxMTAzMCIsICJuYW1lIjogIlx1YzZhOVx1YzBiMFx1YWQ2YyIsICJuYW1lX2VuZyI6ICJZb25nc2FuLWd1In0sICJ0eXBlIjogIkZlYXR1cmUifSwgeyJnZW9tZXRyeSI6IHsiY29vcmRpbmF0ZXMiOiBbW1sxMjcuMDI1NDcyNjYzNDk5NzYsIDM3LjU2ODk0MzU1MjIzNzczNF0sIFsxMjcuMDEwNzA4OTQxNzc0ODIsIDM3LjU0MTE4MDQ4OTY0NzYyXSwgWzEyNi45ODc1Mjk5NjkwMzMyOCwgMzcuNTUwOTQ4MTg4MDcxMzldLCBbMTI2Ljk2NDQ4NTcwNTUzMDU1LCAzNy41NDg3MDU2OTIwMjE2MzVdLCBbMTI2Ljk2MzU4MjI2NzEwODEyLCAzNy41NTYwNTYzNTQ3NTE1NF0sIFsxMjYuOTY4NzM2MzMyNzkwNzUsIDM3LjU2MzEzNjA0NjkwODI3XSwgWzEyNy4wMjU0NzI2NjM0OTk3NiwgMzcuNTY4OTQzNTUyMjM3NzM0XV1dLCAidHlwZSI6ICJQb2x5Z29uIn0sICJpZCI6ICJcdWM5MTFcdWFkNmMiLCAicHJvcGVydGllcyI6IHsiYmFzZV95ZWFyIjogIjIwMTMiLCAiY29kZSI6ICIxMTAyMCIsICJuYW1lIjogIlx1YzkxMVx1YWQ2YyIsICJuYW1lX2VuZyI6ICJKdW5nLWd1In0sICJ0eXBlIjogIkZlYXR1cmUifSwgeyJnZW9tZXRyeSI6IHsiY29vcmRpbmF0ZXMiOiBbW1sxMjYuOTczODg2NDEyODcwMiwgMzcuNjI5NDk2MzQ3ODY4ODhdLCBbMTI2Ljk3NzE3NTQwNjQxNiwgMzcuNjI4NTk3MTU0MDAzODhdLCBbMTI2Ljk4ODc5ODY1OTkyMzg0LCAzNy42MTE4OTI3MzE5NzU2XSwgWzEyNi45OTM0ODI5MzM1ODMxNCwgMzcuNTg4NTY1NDU3MjE2MTU2XSwgWzEyNy4wMjUyNzI1NDUyODAwMywgMzcuNTc1MjQ2MTYyNDUyNDldLCBbMTI3LjAyNTQ3MjY2MzQ5OTc2LCAzNy41Njg5NDM1NTIyMzc3MzRdLCBbMTI2Ljk2ODczNjMzMjc5MDc1LCAzNy41NjMxMzYwNDY5MDgyN10sIFsxMjYuOTU1NjU0MjU4NDY0NjMsIDM3LjU3NjA4MDc5MDg4MTQ1Nl0sIFsxMjYuOTUyNDc1MjAzMDU3MiwgMzcuNjA1MDg2OTI3MzcwNDVdLCBbMTI2Ljk1NDI3MDE3MDA2MTI5LCAzNy42MjIwMzM0MzEzMzk0MjVdLCBbMTI2Ljk3Mzg4NjQxMjg3MDIsIDM3LjYyOTQ5NjM0Nzg2ODg4XV1dLCAidHlwZSI6ICJQb2x5Z29uIn0sICJpZCI6ICJcdWM4ODVcdWI4NWNcdWFkNmMiLCAicHJvcGVydGllcyI6IHsiYmFzZV95ZWFyIjogIjIwMTMiLCAiY29kZSI6ICIxMTAxMCIsICJuYW1lIjogIlx1Yzg4NVx1Yjg1Y1x1YWQ2YyIsICJuYW1lX2VuZyI6ICJKb25nbm8tZ3UifSwgInR5cGUiOiAiRmVhdHVyZSJ9XSwgInR5cGUiOiAiRmVhdHVyZUNvbGxlY3Rpb24ifSk7CiAgICAgICAgCiAgICAKICAgIHZhciBjb2xvcl9tYXBfNzI3ODRhZjk4ZDEzNGU0N2FiZTkwNmVlNWFjYzZhOTAgPSB7fTsKCiAgICAKICAgIGNvbG9yX21hcF83Mjc4NGFmOThkMTM0ZTQ3YWJlOTA2ZWU1YWNjNmE5MC5jb2xvciA9IGQzLnNjYWxlLnRocmVzaG9sZCgpCiAgICAgICAgICAgICAgLmRvbWFpbihbMC4xMDUyNjMxNTc4OTQ3MzY4NCwgMC4xMTM5MjcxMDIzMjQ5NTA2NSwgMC4xMjI1OTEwNDY3NTUxNjQ0NSwgMC4xMzEyNTQ5OTExODUzNzgyNiwgMC4xMzk5MTg5MzU2MTU1OTIwNywgMC4xNDg1ODI4ODAwNDU4MDU5LCAwLjE1NzI0NjgyNDQ3NjAxOTcsIDAuMTY1OTEwNzY4OTA2MjMzNTIsIDAuMTc0NTc0NzEzMzM2NDQ3MywgMC4xODMyMzg2NTc3NjY2NjExNSwgMC4xOTE5MDI2MDIxOTY4NzQ5NCwgMC4yMDA1NjY1NDY2MjcwODg3NSwgMC4yMDkyMzA0OTEwNTczMDI1NywgMC4yMTc4OTQ0MzU0ODc1MTYzOSwgMC4yMjY1NTgzNzk5MTc3MzAyLCAwLjIzNTIyMjMyNDM0Nzk0NCwgMC4yNDM4ODYyNjg3NzgxNTc4LCAwLjI1MjU1MDIxMzIwODM3MTYsIDAuMjYxMjE0MTU3NjM4NTg1NDYsIDAuMjY5ODc4MTAyMDY4Nzk5MjUsIDAuMjc4NTQyMDQ2NDk5MDEzMDQsIDAuMjg3MjA1OTkwOTI5MjI2ODMsIDAuMjk1ODY5OTM1MzU5NDQwNjcsIDAuMzA0NTMzODc5Nzg5NjU0NSwgMC4zMTMxOTc4MjQyMTk4NjgzLCAwLjMyMTg2MTc2ODY1MDA4MjEsIDAuMzMwNTI1NzEzMDgwMjk1OTQsIDAuMzM5MTg5NjU3NTEwNTA5OCwgMC4zNDc4NTM2MDE5NDA3MjM1NywgMC4zNTY1MTc1NDYzNzA5MzczNSwgMC4zNjUxODE0OTA4MDExNTExNCwgMC4zNzM4NDU0MzUyMzEzNjQ5MywgMC4zODI1MDkzNzk2NjE1Nzg4LCAwLjM5MTE3MzMyNDA5MTc5MjYsIDAuMzk5ODM3MjY4NTIyMDA2NCwgMC40MDg1MDEyMTI5NTIyMjAyNSwgMC40MTcxNjUxNTczODI0MzQwNCwgMC40MjU4MjkxMDE4MTI2NDc5LCAwLjQzNDQ5MzA0NjI0Mjg2MTYsIDAuNDQzMTU2OTkwNjczMDc1NDYsIDAuNDUxODIwOTM1MTAzMjg5MjUsIDAuNDYwNDg0ODc5NTMzNTAzMSwgMC40NjkxNDg4MjM5NjM3MTY5LCAwLjQ3NzgxMjc2ODM5MzkzMDcsIDAuNDg2NDc2NzEyODI0MTQ0NSwgMC40OTUxNDA2NTcyNTQzNTgzNSwgMC41MDM4MDQ2MDE2ODQ1NzIxLCAwLjUxMjQ2ODU0NjExNDc4NiwgMC41MjExMzI0OTA1NDQ5OTk4LCAwLjUyOTc5NjQzNDk3NTIxMzYsIDAuNTM4NDYwMzc5NDA1NDI3NSwgMC41NDcxMjQzMjM4MzU2NDExLCAwLjU1NTc4ODI2ODI2NTg1NSwgMC41NjQ0NTIyMTI2OTYwNjg4LCAwLjU3MzExNjE1NzEyNjI4MjYsIDAuNTgxNzgwMTAxNTU2NDk2NCwgMC41OTA0NDQwNDU5ODY3MTAyLCAwLjU5OTEwNzk5MDQxNjkyNDEsIDAuNjA3NzcxOTM0ODQ3MTM3OSwgMC42MTY0MzU4NzkyNzczNTE3LCAwLjYyNTA5OTgyMzcwNzU2NTQsIDAuNjMzNzYzNzY4MTM3Nzc5MywgMC42NDI0Mjc3MTI1Njc5OTMsIDAuNjUxMDkxNjU2OTk4MjA2OSwgMC42NTk3NTU2MDE0Mjg0MjA3LCAwLjY2ODQxOTU0NTg1ODYzNDYsIDAuNjc3MDgzNDkwMjg4ODQ4NCwgMC42ODU3NDc0MzQ3MTkwNjIyLCAwLjY5NDQxMTM3OTE0OTI3NiwgMC43MDMwNzUzMjM1Nzk0ODk4LCAwLjcxMTczOTI2ODAwOTcwMzcsIDAuNzIwNDAzMjEyNDM5OTE3MywgMC43MjkwNjcxNTY4NzAxMzEyLCAwLjczNzczMTEwMTMwMDM0NSwgMC43NDYzOTUwNDU3MzA1NTg5LCAwLjc1NTA1ODk5MDE2MDc3MjYsIDAuNzYzNzIyOTM0NTkwOTg2NCwgMC43NzIzODY4NzkwMjEyMDAzLCAwLjc4MTA1MDgyMzQ1MTQxNDEsIDAuNzg5NzE0NzY3ODgxNjI3OSwgMC43OTgzNzg3MTIzMTE4NDE3LCAwLjgwNzA0MjY1Njc0MjA1NTYsIDAuODE1NzA2NjAxMTcyMjY5MywgMC44MjQzNzA1NDU2MDI0ODMyLCAwLjgzMzAzNDQ5MDAzMjY5NjksIDAuODQxNjk4NDM0NDYyOTEwNywgMC44NTAzNjIzNzg4OTMxMjQ2LCAwLjg1OTAyNjMyMzMyMzMzODQsIDAuODY3NjkwMjY3NzUzNTUyMiwgMC44NzYzNTQyMTIxODM3NjYsIDAuODg1MDE4MTU2NjEzOTc5OSwgMC44OTM2ODIxMDEwNDQxOTM3LCAwLjkwMjM0NjA0NTQ3NDQwNzQsIDAuOTExMDA5OTg5OTA0NjIxMiwgMC45MTk2NzM5MzQzMzQ4MzUsIDAuOTI4MzM3ODc4NzY1MDQ4OSwgMC45MzcwMDE4MjMxOTUyNjI3LCAwLjk0NTY2NTc2NzYyNTQ3NjUsIDAuOTU0MzI5NzEyMDU1NjkwMywgMC45NjI5OTM2NTY0ODU5MDQyLCAwLjk3MTY1NzYwMDkxNjExOCwgMC45ODAzMjE1NDUzNDYzMzE4LCAwLjk4ODk4NTQ4OTc3NjU0NTUsIDAuOTk3NjQ5NDM0MjA2NzU5MywgMS4wMDYzMTMzNzg2MzY5NzMzLCAxLjAxNDk3NzMyMzA2NzE4NjgsIDEuMDIzNjQxMjY3NDk3NDAwNywgMS4wMzIzMDUyMTE5Mjc2MTQ2LCAxLjA0MDk2OTE1NjM1NzgyODUsIDEuMDQ5NjMzMTAwNzg4MDQyMiwgMS4wNTgyOTcwNDUyMTgyNTU4LCAxLjA2Njk2MDk4OTY0ODQ2OTcsIDEuMDc1NjI0OTM0MDc4NjgzNiwgMS4wODQyODg4Nzg1MDg4OTc1LCAxLjA5Mjk1MjgyMjkzOTExMTIsIDEuMTAxNjE2NzY3MzY5MzI1MSwgMS4xMTAyODA3MTE3OTk1Mzg4LCAxLjExODk0NDY1NjIyOTc1MjcsIDEuMTI3NjA4NjAwNjU5OTY2NiwgMS4xMzYyNzI1NDUwOTAxODA1LCAxLjE0NDkzNjQ4OTUyMDM5NCwgMS4xNTM2MDA0MzM5NTA2MDc5LCAxLjE2MjI2NDM3ODM4MDgyMTcsIDEuMTcwOTI4MzIyODExMDM1NiwgMS4xNzk1OTIyNjcyNDEyNDksIDEuMTg4MjU2MjExNjcxNDYzNCwgMS4xOTY5MjAxNTYxMDE2NzcsIDEuMjA1NTg0MTAwNTMxODkwOCwgMS4yMTQyNDgwNDQ5NjIxMDQ3LCAxLjIyMjkxMTk4OTM5MjMxODIsIDEuMjMxNTc1OTMzODIyNTMyNSwgMS4yNDAyMzk4NzgyNTI3NDYsIDEuMjQ4OTAzODIyNjgyOTU5OSwgMS4yNTc1Njc3NjcxMTMxNzM4LCAxLjI2NjIzMTcxMTU0MzM4NzcsIDEuMjc0ODk1NjU1OTczNjAxNSwgMS4yODM1NTk2MDA0MDM4MTUsIDEuMjkyMjIzNTQ0ODM0MDI5LCAxLjMwMDg4NzQ4OTI2NDI0MjgsIDEuMzA5NTUxNDMzNjk0NDU2NywgMS4zMTgyMTUzNzgxMjQ2NzA2LCAxLjMyNjg3OTMyMjU1NDg4NCwgMS4zMzU1NDMyNjY5ODUwOTgsIDEuMzQ0MjA3MjExNDE1MzExOSwgMS4zNTI4NzExNTU4NDU1MjU4LCAxLjM2MTUzNTEwMDI3NTczOTcsIDEuMzcwMTk5MDQ0NzA1OTUzLCAxLjM3ODg2Mjk4OTEzNjE2NywgMS4zODc1MjY5MzM1NjYzODEsIDEuMzk2MTkwODc3OTk2NTk0OCwgMS40MDQ4NTQ4MjI0MjY4MDgzLCAxLjQxMzUxODc2Njg1NzAyMjIsIDEuNDIyMTgyNzExMjg3MjM2LCAxLjQzMDg0NjY1NTcxNzQ1LCAxLjQzOTUxMDYwMDE0NzY2MzksIDEuNDQ4MTc0NTQ0NTc3ODc3MywgMS40NTY4Mzg0ODkwMDgwOTEyLCAxLjQ2NTUwMjQzMzQzODMwNSwgMS40NzQxNjYzNzc4Njg1MTksIDEuNDgyODMwMzIyMjk4NzMzLCAxLjQ5MTQ5NDI2NjcyODk0NjQsIDEuNTAwMTU4MjExMTU5MTYwMywgMS41MDg4MjIxNTU1ODkzNzQyLCAxLjUxNzQ4NjEwMDAxOTU4OCwgMS41MjYxNTAwNDQ0NDk4MDIsIDEuNTM0ODEzOTg4ODgwMDE1NCwgMS41NDM0Nzc5MzMzMTAyMjk4LCAxLjU1MjE0MTg3Nzc0MDQ0MzIsIDEuNTYwODA1ODIyMTcwNjU3LCAxLjU2OTQ2OTc2NjYwMDg3MSwgMS41NzgxMzM3MTEwMzEwODQ1LCAxLjU4Njc5NzY1NTQ2MTI5ODQsIDEuNTk1NDYxNTk5ODkxNTEyMywgMS42MDQxMjU1NDQzMjE3MjYyLCAxLjYxMjc4OTQ4ODc1MTk0LCAxLjYyMTQ1MzQzMzE4MjE1NCwgMS42MzAxMTczNzc2MTIzNjc0LCAxLjYzODc4MTMyMjA0MjU4MTMsIDEuNjQ3NDQ1MjY2NDcyNzk1MiwgMS42NTYxMDkyMTA5MDMwMDksIDEuNjY0NzczMTU1MzMzMjIzLCAxLjY3MzQzNzA5OTc2MzQzNjUsIDEuNjgyMTAxMDQ0MTkzNjUwNCwgMS42OTA3NjQ5ODg2MjM4NjQzLCAxLjY5OTQyODkzMzA1NDA3ODIsIDEuNzA4MDkyODc3NDg0MjkyLCAxLjcxNjc1NjgyMTkxNDUwNTUsIDEuNzI1NDIwNzY2MzQ0NzE5NCwgMS43MzQwODQ3MTA3NzQ5MzMzLCAxLjc0Mjc0ODY1NTIwNTE0NzIsIDEuNzUxNDEyNTk5NjM1MzYxMSwgMS43NjAwNzY1NDQwNjU1NzQ2LCAxLjc2ODc0MDQ4ODQ5NTc4ODUsIDEuNzc3NDA0NDMyOTI2MDAyNCwgMS43ODYwNjgzNzczNTYyMTYzLCAxLjc5NDczMjMyMTc4NjQzMDIsIDEuODAzMzk2MjY2MjE2NjQzNiwgMS44MTIwNjAyMTA2NDY4NTc1LCAxLjgyMDcyNDE1NTA3NzA3MTQsIDEuODI5Mzg4MDk5NTA3Mjg1MywgMS44MzgwNTIwNDM5Mzc0OTkyLCAxLjg0NjcxNTk4ODM2NzcxMjcsIDEuODU1Mzc5OTMyNzk3OTI2NiwgMS44NjQwNDM4NzcyMjgxNDA1LCAxLjg3MjcwNzgyMTY1ODM1NDQsIDEuODgxMzcxNzY2MDg4NTY3OCwgMS44OTAwMzU3MTA1MTg3ODE3LCAxLjg5ODY5OTY1NDk0ODk5NTYsIDEuOTA3MzYzNTk5Mzc5MjA5NSwgMS45MTYwMjc1NDM4MDk0MjM0LCAxLjkyNDY5MTQ4ODIzOTYzNjksIDEuOTMzMzU1NDMyNjY5ODUxMiwgMS45NDIwMTkzNzcxMDAwNjQ3LCAxLjk1MDY4MzMyMTUzMDI3ODYsIDEuOTU5MzQ3MjY1OTYwNDkyNSwgMS45NjgwMTEyMTAzOTA3MDYsIDEuOTc2Njc1MTU0ODIwOTIwMywgMS45ODUzMzkwOTkyNTExMzM3LCAxLjk5NDAwMzA0MzY4MTM0NzYsIDIuMDAyNjY2OTg4MTExNTYxNSwgMi4wMTEzMzA5MzI1NDE3NzUsIDIuMDE5OTk0ODc2OTcxOTg5MywgMi4wMjg2NTg4MjE0MDIyMDI4LCAyLjAzNzMyMjc2NTgzMjQxNjcsIDIuMDQ1OTg2NzEwMjYyNjMwNiwgMi4wNTQ2NTA2NTQ2OTI4NDQ1LCAyLjA2MzMxNDU5OTEyMzA1ODQsIDIuMDcxOTc4NTQzNTUzMjcyLCAyLjA4MDY0MjQ4Nzk4MzQ4NTcsIDIuMDg5MzA2NDMyNDEzNjk5NiwgMi4wOTc5NzAzNzY4NDM5MTM1LCAyLjEwNjYzNDMyMTI3NDEyNywgMi4xMTUyOTgyNjU3MDQzNDEsIDIuMTIzOTYyMjEwMTM0NTU0OCwgMi4xMzI2MjYxNTQ1NjQ3Njg3LCAyLjE0MTI5MDA5ODk5NDk4MiwgMi4xNDk5NTQwNDM0MjUxOTYsIDIuMTU4NjE3OTg3ODU1NDEsIDIuMTY3MjgxOTMyMjg1NjI0LCAyLjE3NTk0NTg3NjcxNTgzNzMsIDIuMTg0NjA5ODIxMTQ2MDUxLCAyLjE5MzI3Mzc2NTU3NjI2NTUsIDIuMjAxOTM3NzEwMDA2NDc5LCAyLjIxMDYwMTY1NDQzNjY5MywgMi4yMTkyNjU1OTg4NjY5MDY4LCAyLjIyNzkyOTU0MzI5NzEyMDIsIDIuMjM2NTkzNDg3NzI3MzM0LCAyLjI0NTI1NzQzMjE1NzU0OCwgMi4yNTM5MjEzNzY1ODc3NjE1LCAyLjI2MjU4NTMyMTAxNzk3NTQsIDIuMjcxMjQ5MjY1NDQ4MTg5NywgMi4yNzk5MTMyMDk4Nzg0MDM2LCAyLjI4ODU3NzE1NDMwODYxNywgMi4yOTcyNDEwOTg3Mzg4MzEsIDIuMzA1OTA1MDQzMTY5MDQ1LCAyLjMxNDU2ODk4NzU5OTI1ODMsIDIuMzIzMjMyOTMyMDI5NDcyMiwgMi4zMzE4OTY4NzY0NTk2ODYsIDIuMzQwNTYwODIwODg5ODk5NiwgMi4zNDkyMjQ3NjUzMjAxMTQsIDIuMzU3ODg4NzA5NzUwMzI4LCAyLjM2NjU1MjY1NDE4MDU0MTMsIDIuMzc1MjE2NTk4NjEwNzU1LCAyLjM4Mzg4MDU0MzA0MDk2OSwgMi4zOTI1NDQ0ODc0NzExODMsIDIuNDAxMjA4NDMxOTAxMzk2NCwgMi40MDk4NzIzNzYzMzE2MTAzLCAyLjQxODUzNjMyMDc2MTgyNDIsIDIuNDI3MjAwMjY1MTkyMDM4LCAyLjQzNTg2NDIwOTYyMjI1MiwgMi40NDQ1MjgxNTQwNTI0NjYsIDIuNDUzMTkyMDk4NDgyNjc5NCwgMi40NjE4NTYwNDI5MTI4OTMzLCAyLjQ3MDUxOTk4NzM0MzEwNywgMi40NzkxODM5MzE3NzMzMjA2LCAyLjQ4Nzg0Nzg3NjIwMzUzNDUsIDIuNDk2NTExODIwNjMzNzQ4NCwgMi41MDUxNzU3NjUwNjM5NjMsIDIuNTEzODM5NzA5NDk0MTc2MiwgMi41MjI1MDM2NTM5MjQzOSwgMi41MzExNjc1OTgzNTQ2MDQsIDIuNTM5ODMxNTQyNzg0ODE3NSwgMi41NDg0OTU0ODcyMTUwMzE0LCAyLjU1NzE1OTQzMTY0NTI0NTMsIDIuNTY1ODIzMzc2MDc1NDU4NywgMi41NzQ0ODczMjA1MDU2NzI2LCAyLjU4MzE1MTI2NDkzNTg4NywgMi41OTE4MTUyMDkzNjYxMDA0LCAyLjYwMDQ3OTE1Mzc5NjMxNDMsIDIuNjA5MTQzMDk4MjI2NTI4MiwgMi42MTc4MDcwNDI2NTY3NDIsIDIuNjI2NDcwOTg3MDg2OTU1NiwgMi42MzUxMzQ5MzE1MTcxNjk1LCAyLjY0Mzc5ODg3NTk0NzM4MzQsIDIuNjUyNDYyODIwMzc3NTk3LCAyLjY2MTEyNjc2NDgwNzgxMSwgMi42Njk3OTA3MDkyMzgwMjUsIDIuNjc4NDU0NjUzNjY4MjM4NSwgMi42ODcxMTg1OTgwOTg0NTI0LCAyLjY5NTc4MjU0MjUyODY2NjMsIDIuNzA0NDQ2NDg2OTU4ODgsIDIuNzEzMTEwNDMxMzg5MDkzNywgMi43MjE3NzQzNzU4MTkzMDc2LCAyLjczMDQzODMyMDI0OTUyMSwgMi43MzkxMDIyNjQ2Nzk3MzUsIDIuNzQ3NzY2MjA5MTA5OTQ5MywgMi43NTY0MzAxNTM1NDAxNjMsIDIuNzY1MDk0MDk3OTcwMzc2NiwgMi43NzM3NTgwNDI0MDA1OTA1LCAyLjc4MjQyMTk4NjgzMDgwNDQsIDIuNzkxMDg1OTMxMjYxMDE4LCAyLjc5OTc0OTg3NTY5MTIzMiwgMi44MDg0MTM4MjAxMjE0NDU3LCAyLjgxNzA3Nzc2NDU1MTY1OSwgMi44MjU3NDE3MDg5ODE4NzM1LCAyLjgzNDQwNTY1MzQxMjA4NzQsIDIuODQzMDY5NTk3ODQyMzAxLCAyLjg1MTczMzU0MjI3MjUxNDcsIDIuODYwMzk3NDg2NzAyNzI4NiwgMi44NjkwNjE0MzExMzI5NDI1LCAyLjg3NzcyNTM3NTU2MzE1NiwgMi44ODYzODkzMTk5OTMzNywgMi44OTUwNTMyNjQ0MjM1ODQsIDIuOTAzNzE3MjA4ODUzNzk3NywgMi45MTIzODExNTMyODQwMTE2LCAyLjkyMTA0NTA5NzcxNDIyNTUsIDIuOTI5NzA5MDQyMTQ0NDM5LCAyLjkzODM3Mjk4NjU3NDY1MywgMi45NDcwMzY5MzEwMDQ4NjY3LCAyLjk1NTcwMDg3NTQzNTA4LCAyLjk2NDM2NDgxOTg2NTI5NCwgMi45NzMwMjg3NjQyOTU1MDgsIDIuOTgxNjkyNzA4NzI1NzIyMywgMi45OTAzNTY2NTMxNTU5MzYsIDIuOTk5MDIwNTk3NTg2MTQ5NywgMy4wMDc2ODQ1NDIwMTYzNjM2LCAzLjAxNjM0ODQ4NjQ0NjU3NywgMy4wMjUwMTI0MzA4NzY3OTEsIDMuMDMzNjc2Mzc1MzA3MDA1LCAzLjA0MjM0MDMxOTczNzIxODMsIDMuMDUxMDA0MjY0MTY3NDMyLCAzLjA1OTY2ODIwODU5NzY0NjUsIDMuMDY4MzMyMTUzMDI3ODYsIDMuMDc2OTk2MDk3NDU4MDc0LCAzLjA4NTY2MDA0MTg4ODI4OCwgMy4wOTQzMjM5ODYzMTg1MDE3LCAzLjEwMjk4NzkzMDc0ODcxNSwgMy4xMTE2NTE4NzUxNzg5MjksIDMuMTIwMzE1ODE5NjA5MTQzLCAzLjEyODk3OTc2NDAzOTM1NjQsIDMuMTM3NjQzNzA4NDY5NTcwNywgMy4xNDYzMDc2NTI4OTk3ODQ2LCAzLjE1NDk3MTU5NzMyOTk5OCwgMy4xNjM2MzU1NDE3NjAyMTIsIDMuMTcyMjk5NDg2MTkwNDI2LCAzLjE4MDk2MzQzMDYyMDYzOTQsIDMuMTg5NjI3Mzc1MDUwODUzMywgMy4xOTgyOTEzMTk0ODEwNjcsIDMuMjA2OTU1MjYzOTExMjgxLCAzLjIxNTYxOTIwODM0MTQ5NSwgMy4yMjQyODMxNTI3NzE3MDksIDMuMjMyOTQ3MDk3MjAxOTIyNywgMy4yNDE2MTEwNDE2MzIxMzYsIDMuMjUwMjc0OTg2MDYyMzUsIDMuMjU4OTM4OTMwNDkyNTY0LCAzLjI2NzYwMjg3NDkyMjc3NzUsIDMuMjc2MjY2ODE5MzUyOTkxNCwgMy4yODQ5MzA3NjM3ODMyMDUzLCAzLjI5MzU5NDcwODIxMzQxOSwgMy4zMDIyNTg2NTI2NDM2MzMsIDMuMzEwOTIyNTk3MDczODQ3LCAzLjMxOTU4NjU0MTUwNDA2MSwgMy4zMjgyNTA0ODU5MzQyNzQzLCAzLjMzNjkxNDQzMDM2NDQ4OCwgMy4zNDU1NzgzNzQ3OTQ3MDIsIDMuMzU0MjQyMzE5MjI0OTE1NiwgMy4zNjI5MDYyNjM2NTUxMjk1LCAzLjM3MTU3MDIwODA4NTM0NCwgMy4zODAyMzQxNTI1MTU1NTczLCAzLjM4ODg5ODA5Njk0NTc3MSwgMy4zOTc1NjIwNDEzNzU5ODUsIDMuNDA2MjI1OTg1ODA2MTk4NSwgMy40MTQ4ODk5MzAyMzY0MTI0LCAzLjQyMzU1Mzg3NDY2NjYyNjMsIDMuNDMyMjE3ODE5MDk2ODQsIDMuNDQwODgxNzYzNTI3MDUzNywgMy40NDk1NDU3MDc5NTcyNjgsIDMuNDU4MjA5NjUyMzg3NDgyLCAzLjQ2Njg3MzU5NjgxNzY5NTQsIDMuNDc1NTM3NTQxMjQ3OTA5MywgMy40ODQyMDE0ODU2NzgxMjMsIDMuNDkyODY1NDMwMTA4MzM2NiwgMy41MDE1MjkzNzQ1Mzg1NTA1LCAzLjUxMDE5MzMxODk2ODc2NDQsIDMuNTE4ODU3MjYzMzk4OTc4LCAzLjUyNzUyMTIwNzgyOTE5MiwgMy41MzYxODUxNTIyNTk0MDYsIDMuNTQ0ODQ5MDk2Njg5NjE5NiwgMy41NTM1MTMwNDExMTk4MzM1LCAzLjU2MjE3Njk4NTU1MDA0NzQsIDMuNTcwODQwOTI5OTgwMjYxMywgMy41Nzk1MDQ4NzQ0MTA0NzQ3LCAzLjU4ODE2ODgxODg0MDY4ODYsIDMuNTk2ODMyNzYzMjcwOTAyNSwgMy42MDU0OTY3MDc3MDExMTY0LCAzLjYxNDE2MDY1MjEzMTMzMDMsIDMuNjIyODI0NTk2NTYxNTQ0LCAzLjYzMTQ4ODU0MDk5MTc1NzcsIDMuNjQwMTUyNDg1NDIxOTcxNiwgMy42NDg4MTY0Mjk4NTIxODU1LCAzLjY1NzQ4MDM3NDI4MjM5OSwgMy42NjYxNDQzMTg3MTI2MTMsIDMuNjc0ODA4MjYzMTQyODI2NywgMy42ODM0NzIyMDc1NzMwNDEsIDMuNjkyMTM2MTUyMDAzMjU0NSwgMy43MDA4MDAwOTY0MzM0Njg0LCAzLjcwOTQ2NDA0MDg2MzY4MjMsIDMuNzE4MTI3OTg1MjkzODk1OCwgMy43MjY3OTE5Mjk3MjQxMDk3LCAzLjczNTQ1NTg3NDE1NDMyMzYsIDMuNzQ0MTE5ODE4NTg0NTM3LCAzLjc1Mjc4Mzc2MzAxNDc1MSwgMy43NjE0NDc3MDc0NDQ5NjUzLCAzLjc3MDExMTY1MTg3NTE3ODcsIDMuNzc4Nzc1NTk2MzA1MzkyNiwgMy43ODc0Mzk1NDA3MzU2MDY1LCAzLjc5NjEwMzQ4NTE2NTgyMDQsIDMuODA0NzY3NDI5NTk2MDM0LCAzLjgxMzQzMTM3NDAyNjI0NzgsIDMuODIyMDk1MzE4NDU2NDYxNywgMy44MzA3NTkyNjI4ODY2NzUsIDMuODM5NDIzMjA3MzE2ODg5LCAzLjg0ODA4NzE1MTc0NzEwMzQsIDMuODU2NzUxMDk2MTc3MzE3LCAzLjg2NTQxNTA0MDYwNzUzMDcsIDMuODc0MDc4OTg1MDM3NzQ0NiwgMy44ODI3NDI5Mjk0Njc5NTgsIDMuODkxNDA2ODczODk4MTcyLCAzLjkwMDA3MDgxODMyODM4NiwgMy45MDg3MzQ3NjI3NTg1OTk4LCAzLjkxNzM5ODcwNzE4ODgxMzIsIDMuOTI2MDYyNjUxNjE5MDI3NiwgMy45MzQ3MjY1OTYwNDkyNDE1LCAzLjk0MzM5MDU0MDQ3OTQ1NSwgMy45NTIwNTQ0ODQ5MDk2NjksIDMuOTYwNzE4NDI5MzM5ODgyNywgMy45NjkzODIzNzM3NzAwOTYsIDMuOTc4MDQ2MzE4MjAwMzEsIDMuOTg2NzEwMjYyNjMwNTI0LCAzLjk5NTM3NDIwNzA2MDczNzQsIDQuMDA0MDM4MTUxNDkwOTUyLCA0LjAxMjcwMjA5NTkyMTE2NiwgNC4wMjEzNjYwNDAzNTEzOCwgNC4wMzAwMjk5ODQ3ODE1OTMsIDQuMDM4NjkzOTI5MjExODA3LCA0LjA0NzM1Nzg3MzY0MjAyMSwgNC4wNTYwMjE4MTgwNzIyMzQsIDQuMDY0Njg1NzYyNTAyNDQ5LCA0LjA3MzM0OTcwNjkzMjY2MiwgNC4wODIwMTM2NTEzNjI4NzYsIDQuMDkwNjc3NTk1NzkzMDksIDQuMDk5MzQxNTQwMjIzMzA0LCA0LjEwODAwNTQ4NDY1MzUxOCwgNC4xMTY2Njk0MjkwODM3MzIsIDQuMTI1MzMzMzczNTEzOTQ1NSwgNC4xMzM5OTczMTc5NDQxNiwgNC4xNDI2NjEyNjIzNzQzNzMsIDQuMTUxMzI1MjA2ODA0NTg3LCA0LjE1OTk4OTE1MTIzNDgwMSwgNC4xNjg2NTMwOTU2NjUwMTQ1LCA0LjE3NzMxNzA0MDA5NTIyOCwgNC4xODU5ODA5ODQ1MjU0NDIsIDQuMTk0NjQ0OTI4OTU1NjU2LCA0LjIwMzMwODg3MzM4NTg3LCA0LjIxMTk3MjgxNzgxNjA4NCwgNC4yMjA2MzY3NjIyNDYyOTcsIDQuMjI5MzAwNzA2Njc2NTExLCA0LjIzNzk2NDY1MTEwNjcyNSwgNC4yNDY2Mjg1OTU1MzY5MzgsIDQuMjU1MjkyNTM5OTY3MTUzLCA0LjI2Mzk1NjQ4NDM5NzM2NiwgNC4yNzI2MjA0Mjg4Mjc1Nzk1LCA0LjI4MTI4NDM3MzI1Nzc5NSwgNC4yODk5NDgzMTc2ODgwMDgsIDQuMjk4NjEyMjYyMTE4MjIyLCA0LjMwNzI3NjIwNjU0ODQzNiwgNC4zMTU5NDAxNTA5Nzg2NDk1LCA0LjMyNDYwNDA5NTQwODg2MywgNC4zMzMyNjgwMzk4MzkwNzcsIDQuMzQxOTMxOTg0MjY5MjkxLCA0LjM1MDU5NTkyODY5OTUwNCwgNC4zNTkyNTk4NzMxMjk3MTg1LCA0LjM2NzkyMzgxNzU1OTkzMiwgNC4zNzY1ODc3NjE5OTAxNDUsIDQuMzg1MjUxNzA2NDIwMzYsIDQuMzkzOTE1NjUwODUwNTczLCA0LjQwMjU3OTU5NTI4MDc4NywgNC40MTEyNDM1Mzk3MTEwMDEsIDQuNDE5OTA3NDg0MTQxMjE0NSwgNC40Mjg1NzE0Mjg1NzE0M10pCiAgICAgICAgICAgICAgLnJhbmdlKFsnI2ZmZmZjYycsICcjZmZmZmNjJywgJyNmZmZmY2MnLCAnI2ZmZmZjYycsICcjZmZmZmNjJywgJyNmZmZmY2MnLCAnI2ZmZmZjYycsICcjZmZmZmNjJywgJyNmZmZmY2MnLCAnI2ZmZmZjYycsICcjZmZmZmNjJywgJyNmZmZmY2MnLCAnI2ZmZmZjYycsICcjZmZmZmNjJywgJyNmZmZmY2MnLCAnI2ZmZmZjYycsICcjZmZmZmNjJywgJyNmZmZmY2MnLCAnI2ZmZmZjYycsICcjZmZmZmNjJywgJyNmZmZmY2MnLCAnI2ZmZmZjYycsICcjZmZmZmNjJywgJyNmZmZmY2MnLCAnI2ZmZmZjYycsICcjZmZmZmNjJywgJyNmZmZmY2MnLCAnI2ZmZmZjYycsICcjZmZmZmNjJywgJyNmZmZmY2MnLCAnI2ZmZmZjYycsICcjZmZmZmNjJywgJyNmZmZmY2MnLCAnI2ZmZmZjYycsICcjZmZmZmNjJywgJyNmZmZmY2MnLCAnI2ZmZmZjYycsICcjZmZmZmNjJywgJyNmZmZmY2MnLCAnI2ZmZmZjYycsICcjZmZmZmNjJywgJyNmZmZmY2MnLCAnI2ZmZmZjYycsICcjZmZmZmNjJywgJyNmZmZmY2MnLCAnI2ZmZmZjYycsICcjZmZmZmNjJywgJyNmZmZmY2MnLCAnI2ZmZmZjYycsICcjZmZmZmNjJywgJyNmZmZmY2MnLCAnI2ZmZmZjYycsICcjZmZmZmNjJywgJyNmZmZmY2MnLCAnI2ZmZmZjYycsICcjZmZmZmNjJywgJyNmZmZmY2MnLCAnI2ZmZmZjYycsICcjZmZmZmNjJywgJyNmZmZmY2MnLCAnI2ZmZmZjYycsICcjZmZmZmNjJywgJyNmZmZmY2MnLCAnI2ZmZmZjYycsICcjZmZmZmNjJywgJyNmZmZmY2MnLCAnI2ZmZmZjYycsICcjZmZmZmNjJywgJyNmZmZmY2MnLCAnI2ZmZmZjYycsICcjZmZmZmNjJywgJyNmZmZmY2MnLCAnI2ZmZmZjYycsICcjZmZmZmNjJywgJyNmZmZmY2MnLCAnI2ZmZmZjYycsICcjZmZmZmNjJywgJyNmZmZmY2MnLCAnI2ZmZmZjYycsICcjZmZmZmNjJywgJyNmZmZmY2MnLCAnI2ZmZmZjYycsICcjZmZmZmNjJywgJyNmZmZmY2MnLCAnI2Q5ZjBhMycsICcjZDlmMGEzJywgJyNkOWYwYTMnLCAnI2Q5ZjBhMycsICcjZDlmMGEzJywgJyNkOWYwYTMnLCAnI2Q5ZjBhMycsICcjZDlmMGEzJywgJyNkOWYwYTMnLCAnI2Q5ZjBhMycsICcjZDlmMGEzJywgJyNkOWYwYTMnLCAnI2Q5ZjBhMycsICcjZDlmMGEzJywgJyNkOWYwYTMnLCAnI2Q5ZjBhMycsICcjZDlmMGEzJywgJyNkOWYwYTMnLCAnI2Q5ZjBhMycsICcjZDlmMGEzJywgJyNkOWYwYTMnLCAnI2Q5ZjBhMycsICcjZDlmMGEzJywgJyNkOWYwYTMnLCAnI2Q5ZjBhMycsICcjZDlmMGEzJywgJyNkOWYwYTMnLCAnI2Q5ZjBhMycsICcjZDlmMGEzJywgJyNkOWYwYTMnLCAnI2Q5ZjBhMycsICcjZDlmMGEzJywgJyNkOWYwYTMnLCAnI2Q5ZjBhMycsICcjZDlmMGEzJywgJyNkOWYwYTMnLCAnI2Q5ZjBhMycsICcjZDlmMGEzJywgJyNkOWYwYTMnLCAnI2Q5ZjBhMycsICcjZDlmMGEzJywgJyNkOWYwYTMnLCAnI2Q5ZjBhMycsICcjZDlmMGEzJywgJyNkOWYwYTMnLCAnI2Q5ZjBhMycsICcjZDlmMGEzJywgJyNkOWYwYTMnLCAnI2Q5ZjBhMycsICcjZDlmMGEzJywgJyNkOWYwYTMnLCAnI2Q5ZjBhMycsICcjZDlmMGEzJywgJyNkOWYwYTMnLCAnI2Q5ZjBhMycsICcjZDlmMGEzJywgJyNkOWYwYTMnLCAnI2Q5ZjBhMycsICcjZDlmMGEzJywgJyNkOWYwYTMnLCAnI2Q5ZjBhMycsICcjZDlmMGEzJywgJyNkOWYwYTMnLCAnI2Q5ZjBhMycsICcjZDlmMGEzJywgJyNkOWYwYTMnLCAnI2Q5ZjBhMycsICcjZDlmMGEzJywgJyNkOWYwYTMnLCAnI2Q5ZjBhMycsICcjZDlmMGEzJywgJyNkOWYwYTMnLCAnI2Q5ZjBhMycsICcjZDlmMGEzJywgJyNkOWYwYTMnLCAnI2Q5ZjBhMycsICcjZDlmMGEzJywgJyNkOWYwYTMnLCAnI2Q5ZjBhMycsICcjZDlmMGEzJywgJyNkOWYwYTMnLCAnI2Q5ZjBhMycsICcjZDlmMGEzJywgJyNhZGRkOGUnLCAnI2FkZGQ4ZScsICcjYWRkZDhlJywgJyNhZGRkOGUnLCAnI2FkZGQ4ZScsICcjYWRkZDhlJywgJyNhZGRkOGUnLCAnI2FkZGQ4ZScsICcjYWRkZDhlJywgJyNhZGRkOGUnLCAnI2FkZGQ4ZScsICcjYWRkZDhlJywgJyNhZGRkOGUnLCAnI2FkZGQ4ZScsICcjYWRkZDhlJywgJyNhZGRkOGUnLCAnI2FkZGQ4ZScsICcjYWRkZDhlJywgJyNhZGRkOGUnLCAnI2FkZGQ4ZScsICcjYWRkZDhlJywgJyNhZGRkOGUnLCAnI2FkZGQ4ZScsICcjYWRkZDhlJywgJyNhZGRkOGUnLCAnI2FkZGQ4ZScsICcjYWRkZDhlJywgJyNhZGRkOGUnLCAnI2FkZGQ4ZScsICcjYWRkZDhlJywgJyNhZGRkOGUnLCAnI2FkZGQ4ZScsICcjYWRkZDhlJywgJyNhZGRkOGUnLCAnI2FkZGQ4ZScsICcjYWRkZDhlJywgJyNhZGRkOGUnLCAnI2FkZGQ4ZScsICcjYWRkZDhlJywgJyNhZGRkOGUnLCAnI2FkZGQ4ZScsICcjYWRkZDhlJywgJyNhZGRkOGUnLCAnI2FkZGQ4ZScsICcjYWRkZDhlJywgJyNhZGRkOGUnLCAnI2FkZGQ4ZScsICcjYWRkZDhlJywgJyNhZGRkOGUnLCAnI2FkZGQ4ZScsICcjYWRkZDhlJywgJyNhZGRkOGUnLCAnI2FkZGQ4ZScsICcjYWRkZDhlJywgJyNhZGRkOGUnLCAnI2FkZGQ4ZScsICcjYWRkZDhlJywgJyNhZGRkOGUnLCAnI2FkZGQ4ZScsICcjYWRkZDhlJywgJyNhZGRkOGUnLCAnI2FkZGQ4ZScsICcjYWRkZDhlJywgJyNhZGRkOGUnLCAnI2FkZGQ4ZScsICcjYWRkZDhlJywgJyNhZGRkOGUnLCAnI2FkZGQ4ZScsICcjYWRkZDhlJywgJyNhZGRkOGUnLCAnI2FkZGQ4ZScsICcjYWRkZDhlJywgJyNhZGRkOGUnLCAnI2FkZGQ4ZScsICcjYWRkZDhlJywgJyNhZGRkOGUnLCAnI2FkZGQ4ZScsICcjYWRkZDhlJywgJyNhZGRkOGUnLCAnI2FkZGQ4ZScsICcjYWRkZDhlJywgJyNhZGRkOGUnLCAnI2FkZGQ4ZScsICcjNzhjNjc5JywgJyM3OGM2NzknLCAnIzc4YzY3OScsICcjNzhjNjc5JywgJyM3OGM2NzknLCAnIzc4YzY3OScsICcjNzhjNjc5JywgJyM3OGM2NzknLCAnIzc4YzY3OScsICcjNzhjNjc5JywgJyM3OGM2NzknLCAnIzc4YzY3OScsICcjNzhjNjc5JywgJyM3OGM2NzknLCAnIzc4YzY3OScsICcjNzhjNjc5JywgJyM3OGM2NzknLCAnIzc4YzY3OScsICcjNzhjNjc5JywgJyM3OGM2NzknLCAnIzc4YzY3OScsICcjNzhjNjc5JywgJyM3OGM2NzknLCAnIzc4YzY3OScsICcjNzhjNjc5JywgJyM3OGM2NzknLCAnIzc4YzY3OScsICcjNzhjNjc5JywgJyM3OGM2NzknLCAnIzc4YzY3OScsICcjNzhjNjc5JywgJyM3OGM2NzknLCAnIzc4YzY3OScsICcjNzhjNjc5JywgJyM3OGM2NzknLCAnIzc4YzY3OScsICcjNzhjNjc5JywgJyM3OGM2NzknLCAnIzc4YzY3OScsICcjNzhjNjc5JywgJyM3OGM2NzknLCAnIzc4YzY3OScsICcjNzhjNjc5JywgJyM3OGM2NzknLCAnIzc4YzY3OScsICcjNzhjNjc5JywgJyM3OGM2NzknLCAnIzc4YzY3OScsICcjNzhjNjc5JywgJyM3OGM2NzknLCAnIzc4YzY3OScsICcjNzhjNjc5JywgJyM3OGM2NzknLCAnIzc4YzY3OScsICcjNzhjNjc5JywgJyM3OGM2NzknLCAnIzc4YzY3OScsICcjNzhjNjc5JywgJyM3OGM2NzknLCAnIzc4YzY3OScsICcjNzhjNjc5JywgJyM3OGM2NzknLCAnIzc4YzY3OScsICcjNzhjNjc5JywgJyM3OGM2NzknLCAnIzc4YzY3OScsICcjNzhjNjc5JywgJyM3OGM2NzknLCAnIzc4YzY3OScsICcjNzhjNjc5JywgJyM3OGM2NzknLCAnIzc4YzY3OScsICcjNzhjNjc5JywgJyM3OGM2NzknLCAnIzc4YzY3OScsICcjNzhjNjc5JywgJyM3OGM2NzknLCAnIzc4YzY3OScsICcjNzhjNjc5JywgJyM3OGM2NzknLCAnIzc4YzY3OScsICcjNzhjNjc5JywgJyM3OGM2NzknLCAnIzMxYTM1NCcsICcjMzFhMzU0JywgJyMzMWEzNTQnLCAnIzMxYTM1NCcsICcjMzFhMzU0JywgJyMzMWEzNTQnLCAnIzMxYTM1NCcsICcjMzFhMzU0JywgJyMzMWEzNTQnLCAnIzMxYTM1NCcsICcjMzFhMzU0JywgJyMzMWEzNTQnLCAnIzMxYTM1NCcsICcjMzFhMzU0JywgJyMzMWEzNTQnLCAnIzMxYTM1NCcsICcjMzFhMzU0JywgJyMzMWEzNTQnLCAnIzMxYTM1NCcsICcjMzFhMzU0JywgJyMzMWEzNTQnLCAnIzMxYTM1NCcsICcjMzFhMzU0JywgJyMzMWEzNTQnLCAnIzMxYTM1NCcsICcjMzFhMzU0JywgJyMzMWEzNTQnLCAnIzMxYTM1NCcsICcjMzFhMzU0JywgJyMzMWEzNTQnLCAnIzMxYTM1NCcsICcjMzFhMzU0JywgJyMzMWEzNTQnLCAnIzMxYTM1NCcsICcjMzFhMzU0JywgJyMzMWEzNTQnLCAnIzMxYTM1NCcsICcjMzFhMzU0JywgJyMzMWEzNTQnLCAnIzMxYTM1NCcsICcjMzFhMzU0JywgJyMzMWEzNTQnLCAnIzMxYTM1NCcsICcjMzFhMzU0JywgJyMzMWEzNTQnLCAnIzMxYTM1NCcsICcjMzFhMzU0JywgJyMzMWEzNTQnLCAnIzMxYTM1NCcsICcjMzFhMzU0JywgJyMzMWEzNTQnLCAnIzMxYTM1NCcsICcjMzFhMzU0JywgJyMzMWEzNTQnLCAnIzMxYTM1NCcsICcjMzFhMzU0JywgJyMzMWEzNTQnLCAnIzMxYTM1NCcsICcjMzFhMzU0JywgJyMzMWEzNTQnLCAnIzMxYTM1NCcsICcjMzFhMzU0JywgJyMzMWEzNTQnLCAnIzMxYTM1NCcsICcjMzFhMzU0JywgJyMzMWEzNTQnLCAnIzMxYTM1NCcsICcjMzFhMzU0JywgJyMzMWEzNTQnLCAnIzMxYTM1NCcsICcjMzFhMzU0JywgJyMzMWEzNTQnLCAnIzMxYTM1NCcsICcjMzFhMzU0JywgJyMzMWEzNTQnLCAnIzMxYTM1NCcsICcjMzFhMzU0JywgJyMzMWEzNTQnLCAnIzMxYTM1NCcsICcjMzFhMzU0JywgJyMzMWEzNTQnLCAnIzMxYTM1NCcsICcjMzFhMzU0JywgJyMwMDY4MzcnLCAnIzAwNjgzNycsICcjMDA2ODM3JywgJyMwMDY4MzcnLCAnIzAwNjgzNycsICcjMDA2ODM3JywgJyMwMDY4MzcnLCAnIzAwNjgzNycsICcjMDA2ODM3JywgJyMwMDY4MzcnLCAnIzAwNjgzNycsICcjMDA2ODM3JywgJyMwMDY4MzcnLCAnIzAwNjgzNycsICcjMDA2ODM3JywgJyMwMDY4MzcnLCAnIzAwNjgzNycsICcjMDA2ODM3JywgJyMwMDY4MzcnLCAnIzAwNjgzNycsICcjMDA2ODM3JywgJyMwMDY4MzcnLCAnIzAwNjgzNycsICcjMDA2ODM3JywgJyMwMDY4MzcnLCAnIzAwNjgzNycsICcjMDA2ODM3JywgJyMwMDY4MzcnLCAnIzAwNjgzNycsICcjMDA2ODM3JywgJyMwMDY4MzcnLCAnIzAwNjgzNycsICcjMDA2ODM3JywgJyMwMDY4MzcnLCAnIzAwNjgzNycsICcjMDA2ODM3JywgJyMwMDY4MzcnLCAnIzAwNjgzNycsICcjMDA2ODM3JywgJyMwMDY4MzcnLCAnIzAwNjgzNycsICcjMDA2ODM3JywgJyMwMDY4MzcnLCAnIzAwNjgzNycsICcjMDA2ODM3JywgJyMwMDY4MzcnLCAnIzAwNjgzNycsICcjMDA2ODM3JywgJyMwMDY4MzcnLCAnIzAwNjgzNycsICcjMDA2ODM3JywgJyMwMDY4MzcnLCAnIzAwNjgzNycsICcjMDA2ODM3JywgJyMwMDY4MzcnLCAnIzAwNjgzNycsICcjMDA2ODM3JywgJyMwMDY4MzcnLCAnIzAwNjgzNycsICcjMDA2ODM3JywgJyMwMDY4MzcnLCAnIzAwNjgzNycsICcjMDA2ODM3JywgJyMwMDY4MzcnLCAnIzAwNjgzNycsICcjMDA2ODM3JywgJyMwMDY4MzcnLCAnIzAwNjgzNycsICcjMDA2ODM3JywgJyMwMDY4MzcnLCAnIzAwNjgzNycsICcjMDA2ODM3JywgJyMwMDY4MzcnLCAnIzAwNjgzNycsICcjMDA2ODM3JywgJyMwMDY4MzcnLCAnIzAwNjgzNycsICcjMDA2ODM3JywgJyMwMDY4MzcnLCAnIzAwNjgzNycsICcjMDA2ODM3JywgJyMwMDY4MzcnLCAnIzAwNjgzNycsICcjMDA2ODM3J10pOwogICAgCgogICAgY29sb3JfbWFwXzcyNzg0YWY5OGQxMzRlNDdhYmU5MDZlZTVhY2M2YTkwLnggPSBkMy5zY2FsZS5saW5lYXIoKQogICAgICAgICAgICAgIC5kb21haW4oWzAuMTA1MjYzMTU3ODk0NzM2ODQsIDQuNDI4NTcxNDI4NTcxNDNdKQogICAgICAgICAgICAgIC5yYW5nZShbMCwgNDAwXSk7CgogICAgY29sb3JfbWFwXzcyNzg0YWY5OGQxMzRlNDdhYmU5MDZlZTVhY2M2YTkwLmxlZ2VuZCA9IEwuY29udHJvbCh7cG9zaXRpb246ICd0b3ByaWdodCd9KTsKICAgIGNvbG9yX21hcF83Mjc4NGFmOThkMTM0ZTQ3YWJlOTA2ZWU1YWNjNmE5MC5sZWdlbmQub25BZGQgPSBmdW5jdGlvbiAobWFwKSB7dmFyIGRpdiA9IEwuRG9tVXRpbC5jcmVhdGUoJ2RpdicsICdsZWdlbmQnKTsgcmV0dXJuIGRpdn07CiAgICBjb2xvcl9tYXBfNzI3ODRhZjk4ZDEzNGU0N2FiZTkwNmVlNWFjYzZhOTAubGVnZW5kLmFkZFRvKG1hcF8zN2RhZmViZTY5Nzk0ZmZiOGVkZjQzOWM5YTI5MWRmYik7CgogICAgY29sb3JfbWFwXzcyNzg0YWY5OGQxMzRlNDdhYmU5MDZlZTVhY2M2YTkwLnhBeGlzID0gZDMuc3ZnLmF4aXMoKQogICAgICAgIC5zY2FsZShjb2xvcl9tYXBfNzI3ODRhZjk4ZDEzNGU0N2FiZTkwNmVlNWFjYzZhOTAueCkKICAgICAgICAub3JpZW50KCJ0b3AiKQogICAgICAgIC50aWNrU2l6ZSgxKQogICAgICAgIC50aWNrVmFsdWVzKFswLjEwNTI2MzE1Nzg5NDczNjg0LCAwLjgyNTgxNDUzNjM0MDg1MjEsIDEuNTQ2MzY1OTE0Nzg2OTY3MywgMi4yNjY5MTcyOTMyMzMwODI2LCAyLjk4NzQ2ODY3MTY3OTE5OCwgMy43MDgwMjAwNTAxMjUzMTMsIDQuNDI4NTcxNDI4NTcxNDI5XSk7CgogICAgY29sb3JfbWFwXzcyNzg0YWY5OGQxMzRlNDdhYmU5MDZlZTVhY2M2YTkwLnN2ZyA9IGQzLnNlbGVjdCgiLmxlZ2VuZC5sZWFmbGV0LWNvbnRyb2wiKS5hcHBlbmQoInN2ZyIpCiAgICAgICAgLmF0dHIoImlkIiwgJ2xlZ2VuZCcpCiAgICAgICAgLmF0dHIoIndpZHRoIiwgNDUwKQogICAgICAgIC5hdHRyKCJoZWlnaHQiLCA0MCk7CgogICAgY29sb3JfbWFwXzcyNzg0YWY5OGQxMzRlNDdhYmU5MDZlZTVhY2M2YTkwLmcgPSBjb2xvcl9tYXBfNzI3ODRhZjk4ZDEzNGU0N2FiZTkwNmVlNWFjYzZhOTAuc3ZnLmFwcGVuZCgiZyIpCiAgICAgICAgLmF0dHIoImNsYXNzIiwgImtleSIpCiAgICAgICAgLmF0dHIoInRyYW5zZm9ybSIsICJ0cmFuc2xhdGUoMjUsMTYpIik7CgogICAgY29sb3JfbWFwXzcyNzg0YWY5OGQxMzRlNDdhYmU5MDZlZTVhY2M2YTkwLmcuc2VsZWN0QWxsKCJyZWN0IikKICAgICAgICAuZGF0YShjb2xvcl9tYXBfNzI3ODRhZjk4ZDEzNGU0N2FiZTkwNmVlNWFjYzZhOTAuY29sb3IucmFuZ2UoKS5tYXAoZnVuY3Rpb24oZCwgaSkgewogICAgICAgICAgcmV0dXJuIHsKICAgICAgICAgICAgeDA6IGkgPyBjb2xvcl9tYXBfNzI3ODRhZjk4ZDEzNGU0N2FiZTkwNmVlNWFjYzZhOTAueChjb2xvcl9tYXBfNzI3ODRhZjk4ZDEzNGU0N2FiZTkwNmVlNWFjYzZhOTAuY29sb3IuZG9tYWluKClbaSAtIDFdKSA6IGNvbG9yX21hcF83Mjc4NGFmOThkMTM0ZTQ3YWJlOTA2ZWU1YWNjNmE5MC54LnJhbmdlKClbMF0sCiAgICAgICAgICAgIHgxOiBpIDwgY29sb3JfbWFwXzcyNzg0YWY5OGQxMzRlNDdhYmU5MDZlZTVhY2M2YTkwLmNvbG9yLmRvbWFpbigpLmxlbmd0aCA/IGNvbG9yX21hcF83Mjc4NGFmOThkMTM0ZTQ3YWJlOTA2ZWU1YWNjNmE5MC54KGNvbG9yX21hcF83Mjc4NGFmOThkMTM0ZTQ3YWJlOTA2ZWU1YWNjNmE5MC5jb2xvci5kb21haW4oKVtpXSkgOiBjb2xvcl9tYXBfNzI3ODRhZjk4ZDEzNGU0N2FiZTkwNmVlNWFjYzZhOTAueC5yYW5nZSgpWzFdLAogICAgICAgICAgICB6OiBkCiAgICAgICAgICB9OwogICAgICAgIH0pKQogICAgICAuZW50ZXIoKS5hcHBlbmQoInJlY3QiKQogICAgICAgIC5hdHRyKCJoZWlnaHQiLCAxMCkKICAgICAgICAuYXR0cigieCIsIGZ1bmN0aW9uKGQpIHsgcmV0dXJuIGQueDA7IH0pCiAgICAgICAgLmF0dHIoIndpZHRoIiwgZnVuY3Rpb24oZCkgeyByZXR1cm4gZC54MSAtIGQueDA7IH0pCiAgICAgICAgLnN0eWxlKCJmaWxsIiwgZnVuY3Rpb24oZCkgeyByZXR1cm4gZC56OyB9KTsKCiAgICBjb2xvcl9tYXBfNzI3ODRhZjk4ZDEzNGU0N2FiZTkwNmVlNWFjYzZhOTAuZy5jYWxsKGNvbG9yX21hcF83Mjc4NGFmOThkMTM0ZTQ3YWJlOTA2ZWU1YWNjNmE5MC54QXhpcykuYXBwZW5kKCJ0ZXh0IikKICAgICAgICAuYXR0cigiY2xhc3MiLCAiY2FwdGlvbiIpCiAgICAgICAgLmF0dHIoInkiLCAyMSkKICAgICAgICAudGV4dCgn7ISc7Jq47IucIOyekOy5mOq1rOuzhCDrspTso4TruYTsnKgnKTsKPC9zY3JpcHQ+\" style=\"position:absolute;width:100%;height:100%;left:0;top:0;border:none !important;\" allowfullscreen webkitallowfullscreen mozallowfullscreen></iframe></div></div>"
      ],
      "text/plain": [
       "<folium.folium.Map at 0x21b5ea5ec50>"
      ]
     },
     "execution_count": 92,
     "metadata": {},
     "output_type": "execute_result"
    }
   ],
   "source": [
    "map_seoul = folium.Map( location=gps, zoom_start=10)\n",
    "# 행정구역을 표현\n",
    "map_seoul.choropleth(geo_data=geo_str,\n",
    "                     data=crime_anal_norm,\n",
    "                     columns=[crime_anal_norm.index,'범죄'],\n",
    "                     key_on='feature.id',\n",
    "                     fill_color='YlGn',\n",
    "                     legend_name='서울시 자치구별 범죄비율'\n",
    "                      )\n",
    "map_seoul"
   ]
  },
  {
   "cell_type": "code",
   "execution_count": 93,
   "metadata": {
    "scrolled": true
   },
   "outputs": [
    {
     "data": {
      "text/plain": [
       "4.428571428571429"
      ]
     },
     "execution_count": 93,
     "metadata": {},
     "output_type": "execute_result"
    }
   ],
   "source": [
    "crime_anal_norm['범죄'].max()"
   ]
  },
  {
   "cell_type": "code",
   "execution_count": 95,
   "metadata": {},
   "outputs": [
    {
     "data": {
      "text/html": [
       "<div style=\"width:100%;\"><div style=\"position:relative;width:100%;height:0;padding-bottom:60%;\"><iframe src=\"data:text/html;charset=utf-8;base64,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\" style=\"position:absolute;width:100%;height:100%;left:0;top:0;border:none !important;\" allowfullscreen webkitallowfullscreen mozallowfullscreen></iframe></div></div>"
      ],
      "text/plain": [
       "<folium.folium.Map at 0x21b5ea84320>"
      ]
     },
     "execution_count": 95,
     "metadata": {},
     "output_type": "execute_result"
    }
   ],
   "source": [
    "# 범죄 값을 정규화하여 다시 시도\n",
    "# 최대값은 5.0 기준 -> 재 정규화\n",
    "# 범죄 발생율 = 범죄/5.0*100\n",
    "# 컬러 PuRd\n",
    "tmp = crime_anal_norm['범죄']/crime_anal_norm['범죄'].max() * 100\n",
    "map_seoul = folium.Map( location=gps, zoom_start=10)\n",
    "\n",
    "# 행정구역을 표현\n",
    "map_seoul.choropleth( geo_data=geo_str\n",
    "                   ,data=tmp \n",
    "                   ,columns=[ crime_anal_norm.index, tmp ]\n",
    "                   ,key_on='feature.id'\n",
    "                   ,fill_color='PuRd'\n",
    "                   ,legend_name='서울시 자치구별 범죄비율'\n",
    "                 )\n",
    "map_seoul"
   ]
  },
  {
   "cell_type": "code",
   "execution_count": 96,
   "metadata": {},
   "outputs": [
    {
     "data": {
      "text/html": [
       "<div style=\"width:100%;\"><div style=\"position:relative;width:100%;height:0;padding-bottom:60%;\"><iframe src=\"data:text/html;charset=utf-8;base64,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\" style=\"position:absolute;width:100%;height:100%;left:0;top:0;border:none !important;\" allowfullscreen webkitallowfullscreen mozallowfullscreen></iframe></div></div>"
      ],
      "text/plain": [
       "<folium.folium.Map at 0x21b5ea95080>"
      ]
     },
     "execution_count": 96,
     "metadata": {},
     "output_type": "execute_result"
    }
   ],
   "source": [
    "# 인구수 대비 범죄응 계산하여 범죄 발생율 대입\n",
    "# 범죄발생율 = 범죄(정규화된것)/인구수*100\n",
    "# 컬러 PuRd\n",
    "tmp = crime_anal_norm['범죄']/crime_anal_norm['인구수'] * 100\n",
    "map_seoul = folium.Map( location=gps, zoom_start=10)\n",
    "\n",
    "# 행정구역을 표현\n",
    "map_seoul.choropleth( geo_data=geo_str\n",
    "                   ,data=tmp \n",
    "                   ,columns=[ crime_anal_norm.index, tmp ]\n",
    "                   ,key_on='feature.id'\n",
    "                   ,fill_color='PuRd'\n",
    "                   ,legend_name='서울시 자치구별 인구대비 범죄비율(5대범죄가중치동일)'\n",
    "                 )\n",
    "map_seoul\n",
    "\n",
    "# 인구대비 범죄비율은 종로구가 1위를 차지\n",
    "# 강남구는 그럼에도 불구하도 상위권 3위 이내에 존재한다"
   ]
  },
  {
   "cell_type": "code",
   "execution_count": 103,
   "metadata": {},
   "outputs": [],
   "source": [
    "tmp_pop = np.sum(crime_anal[crime_anal.columns[:5]], axis=1)"
   ]
  },
  {
   "cell_type": "code",
   "execution_count": 104,
   "metadata": {},
   "outputs": [
    {
     "name": "stderr",
     "output_type": "stream",
     "text": [
      "C:\\Users\\User\\Anaconda3\\envs\\analysis\\lib\\site-packages\\folium\\folium.py:415: FutureWarning: The choropleth  method has been deprecated. Instead use the new Choropleth class, which has the same arguments. See the example notebook 'GeoJSON_and_choropleth' for how to do this.\n",
      "  FutureWarning\n"
     ]
    },
    {
     "data": {
      "text/html": [
       "<div style=\"width:100%;\"><div style=\"position:relative;width:100%;height:0;padding-bottom:60%;\"><iframe src=\"data:text/html;charset=utf-8;base64,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\" style=\"position:absolute;width:100%;height:100%;left:0;top:0;border:none !important;\" allowfullscreen webkitallowfullscreen mozallowfullscreen></iframe></div></div>"
      ],
      "text/plain": [
       "<folium.folium.Map at 0x21b5eacb278>"
      ]
     },
     "execution_count": 104,
     "metadata": {},
     "output_type": "execute_result"
    }
   ],
   "source": [
    "tmp = tmp_pop/crime_anal_norm['인구수'] * 100\n",
    "map_seoul = folium.Map( location=gps, zoom_start=10)\n",
    "# 행정구역을 표현\n",
    "map_seoul.choropleth( geo_data=geo_str\n",
    "                   ,data=tmp \n",
    "                   ,columns=[ crime_anal_norm.index, tmp ]\n",
    "                   ,key_on='feature.id'\n",
    "                   ,fill_color='PuRd'\n",
    "                   ,legend_name='서울시 자치구별 인구대비 범죄비율(5대범죄가중치동일)'\n",
    "                 )\n",
    "map_seoul\n",
    "# 종로구가 실질적인 범죄 우발지역 자치구이다"
   ]
  },
  {
   "cell_type": "code",
   "execution_count": null,
   "metadata": {},
   "outputs": [],
   "source": []
  },
  {
   "cell_type": "markdown",
   "metadata": {},
   "source": [
    "## 경찰서별 검거현황과 자치구별 범죄 발생현황을 표현\n",
    "- 경찰서를 마킹\n",
    "- 검거(순수카운트, 총량)를 서클마커 표시 => 작으면 적당히 스케일을 키운다\n",
    "- 범죄(총량) 자치구별 색상표시"
   ]
  },
  {
   "cell_type": "code",
   "execution_count": 110,
   "metadata": {},
   "outputs": [
    {
     "data": {
      "text/plain": [
       "Index(['강남', '강동', '강북', '강서', '관악', '광진', '구로', '금천', '남대문', '노원', '도봉',\n",
       "       '동대문', '동작', '마포', '방배', '서대문', '서부', '서초', '성동', '성북', '송파', '수서',\n",
       "       '양천', '영등포', '용산', '은평', '종로', '종암', '중랑', '중부', '혜화'],\n",
       "      dtype='object', name='구분')"
      ]
     },
     "execution_count": 110,
     "metadata": {},
     "output_type": "execute_result"
    }
   ],
   "source": [
    "crime_data.head(2)\n",
    "# 관할서\n",
    "crime_data.index"
   ]
  },
  {
   "cell_type": "code",
   "execution_count": 113,
   "metadata": {},
   "outputs": [
    {
     "data": {
      "text/plain": [
       "(구분\n",
       " 강남      37.5093899463715\n",
       " 강동      37.5286763457485\n",
       " 강북       37.637408362838\n",
       " 강서      37.5397837301896\n",
       " 관악      37.4745875338795\n",
       " 광진      37.5428136101647\n",
       " 구로      37.4948844667899\n",
       " 금천     37.45725314643252\n",
       " 남대문     37.5549786547527\n",
       " 노원      37.6423345266253\n",
       " 도봉      37.6533976253312\n",
       " 동대문     37.5850804205685\n",
       " 동작      37.5131469479959\n",
       " 마포      37.5510118582052\n",
       " 방배     37.48155944749938\n",
       " 서대문     37.5649023404956\n",
       " 서부     37.61273115700761\n",
       " 서초      37.4956126696023\n",
       " 성동      37.5617947420747\n",
       " 성북      37.5897697305228\n",
       " 송파      37.5019775317251\n",
       " 수서      37.4934972653425\n",
       " 양천      37.5165549067037\n",
       " 영등포       37.52585220719\n",
       " 용산      37.5411811395942\n",
       " 은평      37.6285242467996\n",
       " 종로      37.5755413947569\n",
       " 종암       37.602095614954\n",
       " 중랑      37.6182390801576\n",
       " 중부      37.5636199296203\n",
       " 혜화      37.5718915247338\n",
       " Name: 위도, dtype: object, 구분\n",
       " 강남       127.067070541137\n",
       " 강동       127.126894359114\n",
       " 강북       127.027340967017\n",
       " 강서       126.829985881518\n",
       " 관악       126.951062346192\n",
       " 광진       127.083842771963\n",
       " 구로       126.886660285169\n",
       " 금천     126.89674921449215\n",
       " 남대문      126.973499492486\n",
       " 노원       127.071404832413\n",
       " 도봉       127.052708256522\n",
       " 동대문      127.045762797538\n",
       " 동작       126.942857105642\n",
       " 마포        126.95394117396\n",
       " 방배     126.98300906928465\n",
       " 서대문      126.966790740735\n",
       " 서부      126.9276766277499\n",
       " 서초        127.00528776133\n",
       " 성동       127.036472076258\n",
       " 성북       127.016254625261\n",
       " 송파       127.127161296581\n",
       " 수서       127.077143044327\n",
       " 양천       126.865542970902\n",
       " 영등포       126.90094457988\n",
       " 용산       126.967778896191\n",
       " 은평       126.928631038584\n",
       " 종로       126.984898618166\n",
       " 종암       127.032233767891\n",
       " 중랑        127.10454224897\n",
       " 중부        126.98959144113\n",
       " 혜화       126.998935936567\n",
       " Name: 경도, dtype: object)"
      ]
     },
     "execution_count": 113,
     "metadata": {},
     "output_type": "execute_result"
    }
   ],
   "source": [
    "crime_data['위도'], crime_data['경도']"
   ]
  },
  {
   "cell_type": "code",
   "execution_count": 105,
   "metadata": {},
   "outputs": [],
   "source": [
    "# 5대 범죄에 대한 총량\n",
    "tmp_pop = np.sum(crime_anal[crime_anal.columns[:5]], axis=1)"
   ]
  },
  {
   "cell_type": "code",
   "execution_count": 129,
   "metadata": {},
   "outputs": [],
   "source": [
    "# 검거 컬럼만 뽑기\n",
    "cols = list(filter(lambda x: x.find('검거')>0, crime_data.columns))"
   ]
  },
  {
   "cell_type": "code",
   "execution_count": 131,
   "metadata": {},
   "outputs": [
    {
     "data": {
      "text/plain": [
       "구분\n",
       "강남    3117\n",
       "강동    3245\n",
       "dtype: int64"
      ]
     },
     "execution_count": 131,
     "metadata": {},
     "output_type": "execute_result"
    }
   ],
   "source": [
    "# 범죄의 총량을 구하는 부분\n",
    "tmp_catch = np.sum(crime_data[cols], axis=1)\n",
    "tmp_catch[:2]"
   ]
  },
  {
   "cell_type": "code",
   "execution_count": 132,
   "metadata": {},
   "outputs": [],
   "source": [
    "# 서클의 크기가 너무 크면 애매 => 크기를 10으로 제한\n",
    "tmp_catch = tmp_catch/tmp_catch.max()*10"
   ]
  },
  {
   "cell_type": "code",
   "execution_count": 135,
   "metadata": {},
   "outputs": [
    {
     "data": {
      "text/html": [
       "<div style=\"width:100%;\"><div style=\"position:relative;width:100%;height:0;padding-bottom:60%;\"><iframe src=\"data:text/html;charset=utf-8;base64,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\" style=\"position:absolute;width:100%;height:100%;left:0;top:0;border:none !important;\" allowfullscreen webkitallowfullscreen mozallowfullscreen></iframe></div></div>"
      ],
      "text/plain": [
       "<folium.folium.Map at 0x21b5eac8d30>"
      ]
     },
     "execution_count": 135,
     "metadata": {},
     "output_type": "execute_result"
    }
   ],
   "source": [
    "map_seoul = folium.Map(location=gps, zoom_start=10)\n",
    "\n",
    "# 행정구역을 표현\n",
    "folium.Choropleth(geo_data=geo_str\n",
    "                   ,name='choropleth'\n",
    "                   ,data=tmp_pop \n",
    "                   ,columns=[crime_anal_norm.index, tmp_pop]\n",
    "                   ,key_on='feature.id'\n",
    "                   ,fill_color='PuRd'\n",
    "                   ,legend_name='서울시 자치구별 인구대비 범죄비율(5대범죄가중치동일)'\n",
    "                 ).add_to(map_seoul)\n",
    "\n",
    "# 경찰서 마커 \n",
    "for idx in range( len(crime_data.index) ):\n",
    "    # 경찰서 위치 정보 -> 위도 경도의 정보를 담은 변수를 생성\n",
    "    tmp_gps = [crime_data['위도'][idx],crime_data['경도'][idx]]\n",
    "    # 마킹\n",
    "    folium.Marker( tmp_gps, popup='서울%s경찰서' % crime_data.index[idx], \n",
    "                   icon=folium.Icon(icon='info-sign', color='red') ).add_to(map_seoul)\n",
    "    folium.CircleMarker( tmp_gps, \n",
    "                         radius=tmp_catch[idx]*2, \n",
    "                         popup='%s서 검거량' % crime_data.index[idx], \n",
    "                         color='#3186cc', fill_color='#00ff00' ).add_to(map_seoul)\n",
    "map_seoul"
   ]
  },
  {
   "cell_type": "code",
   "execution_count": null,
   "metadata": {},
   "outputs": [],
   "source": []
  },
  {
   "cell_type": "code",
   "execution_count": null,
   "metadata": {},
   "outputs": [],
   "source": []
  }
 ],
 "metadata": {
  "kernelspec": {
   "display_name": "Python 3",
   "language": "python",
   "name": "python3"
  },
  "language_info": {
   "codemirror_mode": {
    "name": "ipython",
    "version": 3
   },
   "file_extension": ".py",
   "mimetype": "text/x-python",
   "name": "python",
   "nbconvert_exporter": "python",
   "pygments_lexer": "ipython3",
   "version": "3.7.6"
  }
 },
 "nbformat": 4,
 "nbformat_minor": 2
}
