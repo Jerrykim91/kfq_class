{
 "cells": [
  {
   "cell_type": "code",
   "execution_count": 1,
   "metadata": {},
   "outputs": [
    {
     "name": "stderr",
     "output_type": "stream",
     "text": [
      "Using TensorFlow backend.\n"
     ]
    }
   ],
   "source": [
    "import pickle\n",
    "import os\n",
    "import cv2\n",
    "import numpy as np\n",
    "from keras.models import Model\n",
    "from random import randrange\n",
    "import matplotlib.pyplot as plt\n",
    "import seaborn as sns\n",
    "from flask import Flask, request, render_template ,redirect, url_for,send_file, make_response\n",
    "from matplotlib.backends.backend_agg import FigureCanvasAgg as FigureCanvas\n",
    "import prettyplotlib as ppl\n",
    "import pandas as pd\n",
    "import tensorflow as tf\n",
    "from io import BytesIO"
   ]
  },
  {
   "cell_type": "code",
   "execution_count": 2,
   "metadata": {},
   "outputs": [],
   "source": [
    "PEOPLE_FOLDER = os.path.join('static', 'data')"
   ]
  },
  {
   "cell_type": "code",
   "execution_count": 3,
   "metadata": {},
   "outputs": [],
   "source": [
    "app = Flask(__name__)"
   ]
  },
  {
   "cell_type": "code",
   "execution_count": 4,
   "metadata": {},
   "outputs": [],
   "source": [
    "app.config['UPLOAD_FOLDER'] = PEOPLE_FOLDER"
   ]
  },
  {
   "cell_type": "code",
   "execution_count": 5,
   "metadata": {},
   "outputs": [],
   "source": [
    "# 메인 페이지 라우팅 \n",
    "@ app.route(\"/\") \n",
    "def index():\n",
    "    return render_template('index.html')"
   ]
  },
  {
   "cell_type": "code",
   "execution_count": 6,
   "metadata": {},
   "outputs": [
    {
     "name": "stdout",
     "output_type": "stream",
     "text": [
      "WARNING:tensorflow:From C:\\Users\\sun41\\AppData\\Local\\Continuum\\anaconda3\\lib\\site-packages\\tensorflow\\python\\framework\\op_def_library.py:263: colocate_with (from tensorflow.python.framework.ops) is deprecated and will be removed in a future version.\n",
      "Instructions for updating:\n",
      "Colocations handled automatically by placer.\n"
     ]
    }
   ],
   "source": [
    "with open('model.p', 'rb') as file:    # james.p 파일을 바이너리 읽기 모드(rb)로 열기\n",
    "    model = pickle.load(file)"
   ]
  },
  {
   "cell_type": "code",
   "execution_count": 7,
   "metadata": {},
   "outputs": [],
   "source": [
    "model.load_weights(\"best_weight.h5\")"
   ]
  },
  {
   "cell_type": "code",
   "execution_count": 8,
   "metadata": {},
   "outputs": [],
   "source": [
    "@ app.route(\"/load\", methods=[ \"POST\" ])\n",
    "def load():\n",
    "    if request.method == \"POST\":\n",
    "\n",
    "        #  # 파일 처리 분기 \n",
    "        file = request.files[\"img\"]\n",
    "        # file.read()\n",
    "        # if not file: return render_template(\"load.html\",  ml_label = \"Nothing\")      \n",
    "\n",
    "        # 이미지 픽셀 정보 읽기\n",
    "        # 렌덤 변수가 3 자리에 들어가면 렌덤한 이미지를 가질수 잇다.( 범위 : math.random(len(test_list) )\n",
    "        # abs_name = test_path + test_list[randrange(len(test_list))] \n",
    "        test_path = \"data/test_images/\"\n",
    "        test_list = os.listdir(test_path)\n",
    "\n",
    "        img_width = 800\n",
    "        img_height = 128\n",
    "\n",
    "        abs_name = test_path + test_list[randrange(len(test_list))]\n",
    "        seed_image = cv2.imread(abs_name)\n",
    "        seed_image = cv2.cvtColor(seed_image, cv2.COLOR_BGR2GRAY)\n",
    "        seed_image_resize = cv2.resize(seed_image, dsize=(img_width, img_height))\n",
    "        seed_image_resize = np.expand_dims(seed_image_resize, axis=-1)\n",
    "        seed_image_resize = np.expand_dims(seed_image_resize, axis=0)\n",
    "        seed_image_resize = seed_image_resize/255\n",
    "\n",
    "        seed_image = np.expand_dims(seed_image, axis=-1)\n",
    "        seed_image = np.expand_dims(seed_image, axis=0)\n",
    "        seed_image = seed_image/255\n",
    "\n",
    "        # 입력 받은 이미지 예측\n",
    "        pred = model.predict([seed_image_resize, seed_image])[0]\n",
    "\n",
    "         # 그림판 준비\n",
    "        fig,(ax1, ax2, ax3, ax4, ax5) = plt.subplots(5, 1, figsize=(15,15), sharey=True)\n",
    "        sns.heatmap(pred[:,:,0],vmin=0, vmax=1, ax=ax1)\n",
    "        sns.heatmap(pred[:,:,1],vmin=0, vmax=1, ax=ax2)\n",
    "        sns.heatmap(pred[:,:,2],vmin=0, vmax=1, ax=ax3)\n",
    "        sns.heatmap(pred[:,:,3],vmin=0, vmax=1, ax=ax4)\n",
    "        sns.heatmap(pred[:,:,4],vmin=0, vmax=1, ax=ax5)\n",
    "        \n",
    "        # 그려진 img 파일 내용을 html 랜더링 쪽에 전송한다.\n",
    "        img = BytesIO()\n",
    "        fig.savefig(img)\n",
    "        img.seek(0)\n",
    "        return send_file(img, mimetype='image/png')"
   ]
  },
  {
   "cell_type": "code",
   "execution_count": 11,
   "metadata": {},
   "outputs": [],
   "source": [
    "        test_path = \"data/test_images/\"\n",
    "        test_list = os.listdir(test_path)"
   ]
  },
  {
   "cell_type": "code",
   "execution_count": 9,
   "metadata": {},
   "outputs": [],
   "source": [
    "def show_index():\n",
    "        \n",
    "    if request.method == \"POST\":\n",
    "\n",
    "        test_path = \"/data/test_images/\"\n",
    "        test_list = os.listdir(test_path)\n",
    "\n",
    "        img_width = 800\n",
    "        img_height = 128\n",
    "\n",
    "        abs_name = test_path + test_list[randrange(len(test_list))]\n",
    "        seed_image = cv2.imread(abs_name)\n",
    "        seed_image = cv2.cvtColor(seed_image, cv2.COLOR_BGR2GRAY)\n",
    "        seed_image_resize = cv2.resize(seed_image, dsize=(img_width, img_height))\n",
    "        seed_image_resize = np.expand_dims(seed_image_resize, axis=-1)\n",
    "        seed_image_resize = np.expand_dims(seed_image_resize, axis=0)\n",
    "        seed_image_resize = seed_image_resize/255\n",
    "\n",
    "        seed_image = np.expand_dims(seed_image, axis=-1)\n",
    "        seed_image = np.expand_dims(seed_image, axis=0)\n",
    "        seed_image = seed_image/255\n",
    "\n",
    "        fig = plt.figure(figsize=(15,15))\n",
    "        plt.imshow(seed_image[0,:,:,0], \"gray\")\n",
    "        fig.savefig('./static/data/image100.png')   # save the figure to file\n",
    "        plt.close(fig) \n",
    "        log(\"ok\")\n",
    "\n",
    "    full_filename = os.path.join(app.config['UPLOAD_FOLDER'], 'image100.png')\n",
    "    return render_template(\"index.html\", user_image = full_filename)\n"
   ]
  },
  {
   "cell_type": "code",
   "execution_count": 10,
   "metadata": {},
   "outputs": [
    {
     "ename": "UnsupportedOperation",
     "evalue": "not writable",
     "output_type": "error",
     "traceback": [
      "\u001b[1;31m---------------------------------------------------------------------------\u001b[0m",
      "\u001b[1;31mUnsupportedOperation\u001b[0m                      Traceback (most recent call last)",
      "\u001b[1;32m<ipython-input-10-76e80566f8c4>\u001b[0m in \u001b[0;36m<module>\u001b[1;34m()\u001b[0m\n\u001b[0;32m      1\u001b[0m \u001b[1;32mif\u001b[0m \u001b[0m__name__\u001b[0m \u001b[1;33m==\u001b[0m \u001b[1;34m\"__main__\"\u001b[0m\u001b[1;33m:\u001b[0m\u001b[1;33m\u001b[0m\u001b[0m\n\u001b[0;32m      2\u001b[0m     \u001b[1;31m# 디버그 하면 자동으로 로그 확인\u001b[0m\u001b[1;33m\u001b[0m\u001b[1;33m\u001b[0m\u001b[0m\n\u001b[1;32m----> 3\u001b[1;33m     \u001b[0mapp\u001b[0m\u001b[1;33m.\u001b[0m\u001b[0mrun\u001b[0m\u001b[1;33m(\u001b[0m \u001b[0mdebug\u001b[0m\u001b[1;33m=\u001b[0m\u001b[1;32mTrue\u001b[0m\u001b[1;33m)\u001b[0m\u001b[1;33m\u001b[0m\u001b[0m\n\u001b[0m",
      "\u001b[1;32m~\\AppData\\Local\\Continuum\\anaconda3\\lib\\site-packages\\flask\\app.py\u001b[0m in \u001b[0;36mrun\u001b[1;34m(self, host, port, debug, load_dotenv, **options)\u001b[0m\n\u001b[0;32m    936\u001b[0m         \u001b[0moptions\u001b[0m\u001b[1;33m.\u001b[0m\u001b[0msetdefault\u001b[0m\u001b[1;33m(\u001b[0m\u001b[1;34m'threaded'\u001b[0m\u001b[1;33m,\u001b[0m \u001b[1;32mTrue\u001b[0m\u001b[1;33m)\u001b[0m\u001b[1;33m\u001b[0m\u001b[0m\n\u001b[0;32m    937\u001b[0m \u001b[1;33m\u001b[0m\u001b[0m\n\u001b[1;32m--> 938\u001b[1;33m         \u001b[0mcli\u001b[0m\u001b[1;33m.\u001b[0m\u001b[0mshow_server_banner\u001b[0m\u001b[1;33m(\u001b[0m\u001b[0mself\u001b[0m\u001b[1;33m.\u001b[0m\u001b[0menv\u001b[0m\u001b[1;33m,\u001b[0m \u001b[0mself\u001b[0m\u001b[1;33m.\u001b[0m\u001b[0mdebug\u001b[0m\u001b[1;33m,\u001b[0m \u001b[0mself\u001b[0m\u001b[1;33m.\u001b[0m\u001b[0mname\u001b[0m\u001b[1;33m,\u001b[0m \u001b[1;32mFalse\u001b[0m\u001b[1;33m)\u001b[0m\u001b[1;33m\u001b[0m\u001b[0m\n\u001b[0m\u001b[0;32m    939\u001b[0m \u001b[1;33m\u001b[0m\u001b[0m\n\u001b[0;32m    940\u001b[0m         \u001b[1;32mfrom\u001b[0m \u001b[0mwerkzeug\u001b[0m\u001b[1;33m.\u001b[0m\u001b[0mserving\u001b[0m \u001b[1;32mimport\u001b[0m \u001b[0mrun_simple\u001b[0m\u001b[1;33m\u001b[0m\u001b[0m\n",
      "\u001b[1;32m~\\AppData\\Local\\Continuum\\anaconda3\\lib\\site-packages\\flask\\cli.py\u001b[0m in \u001b[0;36mshow_server_banner\u001b[1;34m(env, debug, app_import_path, eager_loading)\u001b[0m\n\u001b[0;32m    627\u001b[0m             \u001b[0mmessage\u001b[0m \u001b[1;33m+=\u001b[0m \u001b[1;34m' (lazy loading)'\u001b[0m\u001b[1;33m\u001b[0m\u001b[0m\n\u001b[0;32m    628\u001b[0m \u001b[1;33m\u001b[0m\u001b[0m\n\u001b[1;32m--> 629\u001b[1;33m         \u001b[0mclick\u001b[0m\u001b[1;33m.\u001b[0m\u001b[0mecho\u001b[0m\u001b[1;33m(\u001b[0m\u001b[0mmessage\u001b[0m\u001b[1;33m)\u001b[0m\u001b[1;33m\u001b[0m\u001b[0m\n\u001b[0m\u001b[0;32m    630\u001b[0m \u001b[1;33m\u001b[0m\u001b[0m\n\u001b[0;32m    631\u001b[0m     \u001b[0mclick\u001b[0m\u001b[1;33m.\u001b[0m\u001b[0mecho\u001b[0m\u001b[1;33m(\u001b[0m\u001b[1;34m' * Environment: {0}'\u001b[0m\u001b[1;33m.\u001b[0m\u001b[0mformat\u001b[0m\u001b[1;33m(\u001b[0m\u001b[0menv\u001b[0m\u001b[1;33m)\u001b[0m\u001b[1;33m)\u001b[0m\u001b[1;33m\u001b[0m\u001b[0m\n",
      "\u001b[1;32m~\\AppData\\Local\\Continuum\\anaconda3\\lib\\site-packages\\click\\utils.py\u001b[0m in \u001b[0;36mecho\u001b[1;34m(message, file, nl, err, color)\u001b[0m\n\u001b[0;32m    257\u001b[0m \u001b[1;33m\u001b[0m\u001b[0m\n\u001b[0;32m    258\u001b[0m     \u001b[1;32mif\u001b[0m \u001b[0mmessage\u001b[0m\u001b[1;33m:\u001b[0m\u001b[1;33m\u001b[0m\u001b[0m\n\u001b[1;32m--> 259\u001b[1;33m         \u001b[0mfile\u001b[0m\u001b[1;33m.\u001b[0m\u001b[0mwrite\u001b[0m\u001b[1;33m(\u001b[0m\u001b[0mmessage\u001b[0m\u001b[1;33m)\u001b[0m\u001b[1;33m\u001b[0m\u001b[0m\n\u001b[0m\u001b[0;32m    260\u001b[0m     \u001b[0mfile\u001b[0m\u001b[1;33m.\u001b[0m\u001b[0mflush\u001b[0m\u001b[1;33m(\u001b[0m\u001b[1;33m)\u001b[0m\u001b[1;33m\u001b[0m\u001b[0m\n\u001b[0;32m    261\u001b[0m \u001b[1;33m\u001b[0m\u001b[0m\n",
      "\u001b[1;31mUnsupportedOperation\u001b[0m: not writable"
     ]
    }
   ],
   "source": [
    "if __name__ == \"__main__\":\n",
    "    # 디버그 하면 자동으로 로그 확인 \n",
    "    app.run( debug = True) "
   ]
  }
 ],
 "metadata": {
  "kernelspec": {
   "display_name": "Python 3",
   "language": "python",
   "name": "python3"
  },
  "language_info": {
   "codemirror_mode": {
    "name": "ipython",
    "version": 3
   },
   "file_extension": ".py",
   "mimetype": "text/x-python",
   "name": "python",
   "nbconvert_exporter": "python",
   "pygments_lexer": "ipython3",
   "version": "3.6.5"
  }
 },
 "nbformat": 4,
 "nbformat_minor": 2
}
