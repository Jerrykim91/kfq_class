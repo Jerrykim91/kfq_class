{
 "cells": [
  {
   "cell_type": "code",
   "execution_count": 1,
   "metadata": {},
   "outputs": [],
   "source": [
    "from bs4 import BeautifulSoup\n",
    "from urllib.request import urlopen"
   ]
  },
  {
   "cell_type": "code",
   "execution_count": 3,
   "metadata": {},
   "outputs": [],
   "source": [
    "target_site = 'https://movie.naver.com/movie/sdb/rank/rmovie.nhn?sel=cur&date=20190808'\n",
    "page = urlopen( target_site )\n",
    "soup = BeautifulSoup( page,  'html.parser')\n",
    "#soup"
   ]
  },
  {
   "cell_type": "markdown",
   "metadata": {},
   "source": [
    "- url을 분석해 보면 get방식으로 진행되는데, 20190808 날짜값에 따라 다른 데이터가 온다\n",
    "- 2005.02.07 ~ 2019.08.08를 수집하고, 하루에 1회만, 수집하면 지속적으로 수집된다"
   ]
  },
  {
   "cell_type": "code",
   "execution_count": 4,
   "metadata": {},
   "outputs": [],
   "source": [
    "# 연속된 날짜 리스트 획득\n",
    "import pandas as pd"
   ]
  },
  {
   "cell_type": "code",
   "execution_count": 8,
   "metadata": {},
   "outputs": [
    {
     "data": {
      "text/plain": [
       "DatetimeIndex(['2019-08-08', '2019-08-09'], dtype='datetime64[ns]', freq='D')"
      ]
     },
     "execution_count": 8,
     "metadata": {},
     "output_type": "execute_result"
    }
   ],
   "source": [
    "dates = pd.date_range('2005.02.07', periods=5297, freq='D')\n",
    "dates[-2:]"
   ]
  },
  {
   "cell_type": "code",
   "execution_count": 12,
   "metadata": {},
   "outputs": [
    {
     "name": "stdout",
     "output_type": "stream",
     "text": [
      "https://movie.naver.com/movie/sdb/rank/rmovie.nhn?sel=cur&date=20190808\n",
      "https://movie.naver.com/movie/sdb/rank/rmovie.nhn?sel=cur&date=20190809\n"
     ]
    }
   ],
   "source": [
    "target_site = 'https://movie.naver.com/movie/sdb/rank/rmovie.nhn?sel=cur&date='\n",
    "for date in dates[-2:]:\n",
    "    # 필요한 형태는 YYYYmmdd\n",
    "    #print( date, type(date), date.strftime('%Y%m%d') )\n",
    "    print( target_site + date.strftime('%Y%m%d')  )"
   ]
  },
  {
   "cell_type": "code",
   "execution_count": 14,
   "metadata": {},
   "outputs": [],
   "source": [
    "# 진행율 표시 : tqdm\n",
    "from tqdm import tqdm"
   ]
  },
  {
   "cell_type": "code",
   "execution_count": 23,
   "metadata": {},
   "outputs": [
    {
     "name": "stdout",
     "output_type": "stream",
     "text": [
      "37 37 2019-08-08 00:00:00\n",
      "[{'time': Timestamp('2019-08-08 00:00:00', freq='D'), 'movie': '주전장', 'point': '9.52'}, {'time': Timestamp('2019-08-08 00:00:00', freq='D'), 'movie': '당갈', 'point': '9.44'}, {'time': Timestamp('2019-08-08 00:00:00', freq='D'), 'movie': '알라딘', 'point': '9.42'}, {'time': Timestamp('2019-08-08 00:00:00', freq='D'), 'movie': '어벤져스: 엔드게임', 'point': '9.38'}, {'time': Timestamp('2019-08-08 00:00:00', freq='D'), 'movie': '아이 캔 스피크', 'point': '9.37'}, {'time': Timestamp('2019-08-08 00:00:00', freq='D'), 'movie': '레드슈즈', 'point': '9.31'}, {'time': Timestamp('2019-08-08 00:00:00', freq='D'), 'movie': '뽀로로 극장판 보물섬 대모험', 'point': '9.28'}, {'time': Timestamp('2019-08-08 00:00:00', freq='D'), 'movie': '교회오빠', 'point': '9.27'}, {'time': Timestamp('2019-08-08 00:00:00', freq='D'), 'movie': '이웃집 토토로', 'point': '9.26'}, {'time': Timestamp('2019-08-08 00:00:00', freq='D'), 'movie': '브링 더 소울 : 더 무비', 'point': '9.24'}, {'time': Timestamp('2019-08-08 00:00:00', freq='D'), 'movie': '토이 스토리 4', 'point': '9.08'}, {'time': Timestamp('2019-08-08 00:00:00', freq='D'), 'movie': '퍼펙트 월드', 'point': '9.03'}, {'time': Timestamp('2019-08-08 00:00:00', freq='D'), 'movie': '마녀 배달부 키키', 'point': '9.00'}, {'time': Timestamp('2019-08-08 00:00:00', freq='D'), 'movie': '마이펫의 이중생활2', 'point': '8.96'}, {'time': Timestamp('2019-08-08 00:00:00', freq='D'), 'movie': '마담 프루스트의 비밀정원', 'point': '8.90'}, {'time': Timestamp('2019-08-08 00:00:00', freq='D'), 'movie': '디어 헌터', 'point': '8.86'}, {'time': Timestamp('2019-08-08 00:00:00', freq='D'), 'movie': '천로역정: 천국을 찾아서', 'point': '8.72'}, {'time': Timestamp('2019-08-08 00:00:00', freq='D'), 'movie': '엑시트', 'point': '8.59'}, {'time': Timestamp('2019-08-08 00:00:00', freq='D'), 'movie': '꿈의 제인', 'point': '8.57'}, {'time': Timestamp('2019-08-08 00:00:00', freq='D'), 'movie': '기생충', 'point': '8.50'}, {'time': Timestamp('2019-08-08 00:00:00', freq='D'), 'movie': '스파이더맨: 파 프롬 홈', 'point': '8.42'}, {'time': Timestamp('2019-08-08 00:00:00', freq='D'), 'movie': '라이온 킹', 'point': '8.29'}, {'time': Timestamp('2019-08-08 00:00:00', freq='D'), 'movie': '롱 샷', 'point': '8.27'}, {'time': Timestamp('2019-08-08 00:00:00', freq='D'), 'movie': '존 윅 3: 파라벨룸', 'point': '8.27'}, {'time': Timestamp('2019-08-08 00:00:00', freq='D'), 'movie': '1919 유관순', 'point': '8.26'}, {'time': Timestamp('2019-08-08 00:00:00', freq='D'), 'movie': '우리의 20세기', 'point': '8.23'}, {'time': Timestamp('2019-08-08 00:00:00', freq='D'), 'movie': '춘몽', 'point': '7.97'}, {'time': Timestamp('2019-08-08 00:00:00', freq='D'), 'movie': '봉오동 전투', 'point': '7.43'}, {'time': Timestamp('2019-08-08 00:00:00', freq='D'), 'movie': '사자', 'point': '7.27'}, {'time': Timestamp('2019-08-08 00:00:00', freq='D'), 'movie': '유전', 'point': '7.15'}, {'time': Timestamp('2019-08-08 00:00:00', freq='D'), 'movie': '미드소마', 'point': '6.90'}, {'time': Timestamp('2019-08-08 00:00:00', freq='D'), 'movie': '팔로우', 'point': '6.62'}, {'time': Timestamp('2019-08-08 00:00:00', freq='D'), 'movie': '언더 더 스킨', 'point': '6.16'}, {'time': Timestamp('2019-08-08 00:00:00', freq='D'), 'movie': '기방도령', 'point': '5.71'}, {'time': Timestamp('2019-08-08 00:00:00', freq='D'), 'movie': '명탐정 코난: 감청의 권', 'point': '4.93'}, {'time': Timestamp('2019-08-08 00:00:00', freq='D'), 'movie': '극장판 엉덩이 탐정: 화려한 사건 수첩', 'point': '3.91'}, {'time': Timestamp('2019-08-08 00:00:00', freq='D'), 'movie': '나랏말싸미', 'point': '3.50'}]\n",
      "37 37 2019-08-09 00:00:00\n",
      "[{'time': Timestamp('2019-08-09 00:00:00', freq='D'), 'movie': '주전장', 'point': '9.52'}, {'time': Timestamp('2019-08-09 00:00:00', freq='D'), 'movie': '당갈', 'point': '9.44'}, {'time': Timestamp('2019-08-09 00:00:00', freq='D'), 'movie': '알라딘', 'point': '9.42'}, {'time': Timestamp('2019-08-09 00:00:00', freq='D'), 'movie': '어벤져스: 엔드게임', 'point': '9.38'}, {'time': Timestamp('2019-08-09 00:00:00', freq='D'), 'movie': '아이 캔 스피크', 'point': '9.37'}, {'time': Timestamp('2019-08-09 00:00:00', freq='D'), 'movie': '레드슈즈', 'point': '9.31'}, {'time': Timestamp('2019-08-09 00:00:00', freq='D'), 'movie': '뽀로로 극장판 보물섬 대모험', 'point': '9.28'}, {'time': Timestamp('2019-08-09 00:00:00', freq='D'), 'movie': '교회오빠', 'point': '9.27'}, {'time': Timestamp('2019-08-09 00:00:00', freq='D'), 'movie': '이웃집 토토로', 'point': '9.26'}, {'time': Timestamp('2019-08-09 00:00:00', freq='D'), 'movie': '브링 더 소울 : 더 무비', 'point': '9.24'}, {'time': Timestamp('2019-08-09 00:00:00', freq='D'), 'movie': '토이 스토리 4', 'point': '9.08'}, {'time': Timestamp('2019-08-09 00:00:00', freq='D'), 'movie': '퍼펙트 월드', 'point': '9.03'}, {'time': Timestamp('2019-08-09 00:00:00', freq='D'), 'movie': '마녀 배달부 키키', 'point': '9.00'}, {'time': Timestamp('2019-08-09 00:00:00', freq='D'), 'movie': '마이펫의 이중생활2', 'point': '8.96'}, {'time': Timestamp('2019-08-09 00:00:00', freq='D'), 'movie': '마담 프루스트의 비밀정원', 'point': '8.90'}, {'time': Timestamp('2019-08-09 00:00:00', freq='D'), 'movie': '디어 헌터', 'point': '8.86'}, {'time': Timestamp('2019-08-09 00:00:00', freq='D'), 'movie': '천로역정: 천국을 찾아서', 'point': '8.72'}, {'time': Timestamp('2019-08-09 00:00:00', freq='D'), 'movie': '엑시트', 'point': '8.59'}, {'time': Timestamp('2019-08-09 00:00:00', freq='D'), 'movie': '꿈의 제인', 'point': '8.57'}, {'time': Timestamp('2019-08-09 00:00:00', freq='D'), 'movie': '기생충', 'point': '8.50'}, {'time': Timestamp('2019-08-09 00:00:00', freq='D'), 'movie': '스파이더맨: 파 프롬 홈', 'point': '8.42'}, {'time': Timestamp('2019-08-09 00:00:00', freq='D'), 'movie': '라이온 킹', 'point': '8.29'}, {'time': Timestamp('2019-08-09 00:00:00', freq='D'), 'movie': '롱 샷', 'point': '8.27'}, {'time': Timestamp('2019-08-09 00:00:00', freq='D'), 'movie': '존 윅 3: 파라벨룸', 'point': '8.27'}, {'time': Timestamp('2019-08-09 00:00:00', freq='D'), 'movie': '1919 유관순', 'point': '8.26'}, {'time': Timestamp('2019-08-09 00:00:00', freq='D'), 'movie': '우리의 20세기', 'point': '8.23'}, {'time': Timestamp('2019-08-09 00:00:00', freq='D'), 'movie': '춘몽', 'point': '7.97'}, {'time': Timestamp('2019-08-09 00:00:00', freq='D'), 'movie': '봉오동 전투', 'point': '7.43'}, {'time': Timestamp('2019-08-09 00:00:00', freq='D'), 'movie': '사자', 'point': '7.27'}, {'time': Timestamp('2019-08-09 00:00:00', freq='D'), 'movie': '유전', 'point': '7.15'}, {'time': Timestamp('2019-08-09 00:00:00', freq='D'), 'movie': '미드소마', 'point': '6.90'}, {'time': Timestamp('2019-08-09 00:00:00', freq='D'), 'movie': '팔로우', 'point': '6.62'}, {'time': Timestamp('2019-08-09 00:00:00', freq='D'), 'movie': '언더 더 스킨', 'point': '6.16'}, {'time': Timestamp('2019-08-09 00:00:00', freq='D'), 'movie': '기방도령', 'point': '5.71'}, {'time': Timestamp('2019-08-09 00:00:00', freq='D'), 'movie': '명탐정 코난: 감청의 권', 'point': '4.93'}, {'time': Timestamp('2019-08-09 00:00:00', freq='D'), 'movie': '극장판 엉덩이 탐정: 화려한 사건 수첩', 'point': '3.91'}, {'time': Timestamp('2019-08-09 00:00:00', freq='D'), 'movie': '나랏말싸미', 'point': '3.50'}]\n"
     ]
    }
   ],
   "source": [
    "import time\n",
    "tmp = []\n",
    "for date in dates[-2:]:#tqdm(dates[-2:]):\n",
    "    #tmp.append( target_site + date.strftime('%Y%m%d') )\n",
    "    #time.sleep(1*0.1)\n",
    "    page = urlopen( target_site + date.strftime('%Y%m%d')  )\n",
    "    soup = BeautifulSoup( page,  'html.parser')\n",
    "    # 영화명\n",
    "    titles = soup.select('.tit5')\n",
    "    # 평점\n",
    "    points = soup.select('.point')\n",
    "    # 날짜\n",
    "    print( len(titles), len(points), date )\n",
    "    # [ {'time':xx, 'movie':'주전장', 'point':3.89 },{},{},{}... ]\n",
    "    results = [\n",
    "        {\n",
    "            'time':date, \n",
    "            'movie':titles[n].a.string, \n",
    "            'point':points[n].string\n",
    "        }\n",
    "        for n in range( len(titles) )\n",
    "    ]\n",
    "    # 디비 입력\n",
    "    print( results )\n",
    "\n",
    "# 과거의 데이터를 1회 전부 다 수집한 이후, 매일 1회씩 평점을 갱신하면\n",
    "# 항상, 전체 데이터를 최신으로 유지할수 있다"
   ]
  },
  {
   "cell_type": "code",
   "execution_count": null,
   "metadata": {},
   "outputs": [],
   "source": []
  },
  {
   "cell_type": "code",
   "execution_count": null,
   "metadata": {},
   "outputs": [],
   "source": []
  },
  {
   "cell_type": "code",
   "execution_count": null,
   "metadata": {},
   "outputs": [],
   "source": []
  }
 ],
 "metadata": {
  "kernelspec": {
   "display_name": "Python 3",
   "language": "python",
   "name": "python3"
  },
  "language_info": {
   "codemirror_mode": {
    "name": "ipython",
    "version": 3
   },
   "file_extension": ".py",
   "mimetype": "text/x-python",
   "name": "python",
   "nbconvert_exporter": "python",
   "pygments_lexer": "ipython3",
   "version": "3.6.9"
  }
 },
 "nbformat": 4,
 "nbformat_minor": 2
}
