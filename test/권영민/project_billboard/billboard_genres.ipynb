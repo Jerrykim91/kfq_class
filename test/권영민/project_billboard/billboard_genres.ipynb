{
 "cells": [
  {
   "cell_type": "code",
   "execution_count": null,
   "metadata": {},
   "outputs": [],
   "source": [
    "import pandas as pd\n",
    "import numpy as np"
   ]
  },
  {
   "cell_type": "code",
   "execution_count": null,
   "metadata": {},
   "outputs": [],
   "source": [
    "'''\n",
    "데이터: Year-End Hot 100 Songs\n",
    "출처: https://www.kaggle.com/rakannimer/billboard-lyrics\n",
    "'''"
   ]
  },
  {
   "cell_type": "code",
   "execution_count": null,
   "metadata": {},
   "outputs": [],
   "source": [
    "# 곡 장르찾기\n",
    "# https://www.allmusic.com/search 에서 검색 처리"
   ]
  },
  {
   "cell_type": "code",
   "execution_count": null,
   "metadata": {},
   "outputs": [],
   "source": [
    "rawdata=pd.read_csv('data/billboard_lyrics_1964-2015.csv', encoding='latin')"
   ]
  },
  {
   "cell_type": "code",
   "execution_count": null,
   "metadata": {},
   "outputs": [],
   "source": [
    "rawdata = pd.DataFrame(rawdata)"
   ]
  },
  {
   "cell_type": "code",
   "execution_count": null,
   "metadata": {},
   "outputs": [],
   "source": [
    "rawdata.head()"
   ]
  },
  {
   "cell_type": "code",
   "execution_count": null,
   "metadata": {},
   "outputs": [],
   "source": [
    "# 장르 검색을 위한 검색어 만들기\n",
    "genre_keyword=[]\n",
    "for n in range(len(rawdata)):\n",
    "    tmp = rawdata['Song'][n]+' '+rawdata['Artist'][n]\n",
    "    genre_keyword.append(tmp)\n",
    "genre_keyword[:10]"
   ]
  },
  {
   "cell_type": "code",
   "execution_count": null,
   "metadata": {},
   "outputs": [],
   "source": [
    "# https://www.allmusic.com/search/all/take%20a%20bow%20rihanna 이런식으로 검색된다"
   ]
  },
  {
   "cell_type": "code",
   "execution_count": null,
   "metadata": {},
   "outputs": [],
   "source": [
    "genre_keyword=[n.replace(' ','%20') for n in genre_keyword]"
   ]
  },
  {
   "cell_type": "code",
   "execution_count": null,
   "metadata": {},
   "outputs": [],
   "source": [
    "genre_keyword[:10]"
   ]
  },
  {
   "cell_type": "code",
   "execution_count": null,
   "metadata": {},
   "outputs": [],
   "source": [
    "artists=rawdata['Artist']"
   ]
  },
  {
   "cell_type": "code",
   "execution_count": null,
   "metadata": {},
   "outputs": [],
   "source": [
    "target_site='https://www.allmusic.com/search/all/'"
   ]
  },
  {
   "cell_type": "code",
   "execution_count": null,
   "metadata": {},
   "outputs": [],
   "source": [
    "from selenium import webdriver as wd\n",
    "import urllib"
   ]
  },
  {
   "cell_type": "code",
   "execution_count": null,
   "metadata": {},
   "outputs": [],
   "source": [
    "# 웹드라이버 가동\n",
    "driver=wd.Chrome('./tool/chromedriver_75.0.3770.140.exe')"
   ]
  },
  {
   "cell_type": "code",
   "execution_count": null,
   "metadata": {},
   "outputs": [],
   "source": [
    "len(genre_keyword)"
   ]
  },
  {
   "cell_type": "code",
   "execution_count": null,
   "metadata": {},
   "outputs": [],
   "source": [
    "import time\n",
    "# 사이트 접속해서 장르 추출\n",
    "results=[]\n",
    "for i in range(len(genre_keyword)):\n",
    "    try:\n",
    "        target_url = target_site+genre_keyword[i]\n",
    "        driver.get(target_url)\n",
    "        time.sleep(3)\n",
    "        keywords=driver.find_element_by_class_name('genres').text\n",
    "#         print(keywords)\n",
    "        results.append(keywords)\n",
    "    except Exception as e:\n",
    "#         print(e)\n",
    "        keywords=None\n",
    "        results.append(keywords)\n",
    "results[:10]"
   ]
  },
  {
   "cell_type": "code",
   "execution_count": null,
   "metadata": {},
   "outputs": [],
   "source": [
    "len(results)"
   ]
  },
  {
   "cell_type": "code",
   "execution_count": null,
   "metadata": {},
   "outputs": [],
   "source": [
    "rawdata['Genres']=results"
   ]
  },
  {
   "cell_type": "code",
   "execution_count": null,
   "metadata": {},
   "outputs": [],
   "source": [
    "# 장르 데이터 소실되기전에 저장\n",
    "rawdata.to_csv('./data/raw_with_genres.xls', encoding='latin')"
   ]
  },
  {
   "cell_type": "code",
   "execution_count": null,
   "metadata": {},
   "outputs": [],
   "source": [
    "driver.close()\n",
    "driver.quit()"
   ]
  },
  {
   "cell_type": "code",
   "execution_count": null,
   "metadata": {},
   "outputs": [],
   "source": [
    "import sys\n",
    "sys.exit"
   ]
  },
  {
   "cell_type": "code",
   "execution_count": null,
   "metadata": {},
   "outputs": [],
   "source": [
    "rawdata=pd.read_csv('./data/raw_with_genres.xls', encoding='latin')"
   ]
  },
  {
   "cell_type": "code",
   "execution_count": null,
   "metadata": {},
   "outputs": [],
   "source": [
    "rawdata[:20]"
   ]
  },
  {
   "cell_type": "code",
   "execution_count": null,
   "metadata": {
    "scrolled": false
   },
   "outputs": [],
   "source": [
    "genres=[]\n",
    "for data in rawdata['Genres']:\n",
    "    try:\n",
    "        tmp=data.split(',')[0]\n",
    "        genres.append(tmp)\n",
    "    except Exception as e:\n",
    "        tmp=data\n",
    "        genres.append(tmp)\n",
    "genres[:20]"
   ]
  },
  {
   "cell_type": "code",
   "execution_count": null,
   "metadata": {},
   "outputs": [],
   "source": [
    "rawdata['Genres_sorted']=genres"
   ]
  },
  {
   "cell_type": "code",
   "execution_count": null,
   "metadata": {
    "scrolled": true
   },
   "outputs": [],
   "source": [
    "rawdata[:20]"
   ]
  },
  {
   "cell_type": "code",
   "execution_count": null,
   "metadata": {},
   "outputs": [],
   "source": [
    "# none갯수\n",
    "sum_numbers=0\n",
    "for number in rawdata['Genres_sorted'].value_counts():\n",
    "    sum_numbers+=number\n",
    "len(genres)-sum_numbers"
   ]
  },
  {
   "cell_type": "code",
   "execution_count": null,
   "metadata": {},
   "outputs": [],
   "source": [
    "genres2=[]\n",
    "for data in rawdata['Genres']:\n",
    "    try:\n",
    "        tmp=data.split(',')[1]\n",
    "        genres2.append(tmp)\n",
    "    except Exception as e:\n",
    "        tmp=None\n",
    "        genres2.append(tmp)\n",
    "genres2[:20]"
   ]
  },
  {
   "cell_type": "code",
   "execution_count": null,
   "metadata": {},
   "outputs": [],
   "source": [
    "genres2=='Pop/Rock'"
   ]
  },
  {
   "cell_type": "code",
   "execution_count": null,
   "metadata": {},
   "outputs": [],
   "source": [
    "g_tf=[]\n",
    "for word in genres2:\n",
    "    try:\n",
    "        tmp= 'Pop/Rock' in word\n",
    "        g_tf.append(tmp)\n",
    "    except Exception as e:\n",
    "        tmp = False\n",
    "        g_tf.append(tmp)"
   ]
  },
  {
   "cell_type": "code",
   "execution_count": 163,
   "metadata": {},
   "outputs": [
    {
     "data": {
      "text/plain": [
       "Index(['Pop/Rock', 'R&B', 'Rap', 'Country', 'Electronic', 'Jazz',\n",
       "       'Easy Listening', 'Vocal'],\n",
       "      dtype='object')"
      ]
     },
     "execution_count": 163,
     "metadata": {},
     "output_type": "execute_result"
    }
   ],
   "source": [
    "# 차트의 상위 8개 장르 확인\n",
    "rawdata['Genres_sorted'].value_counts()[:8].index"
   ]
  },
  {
   "cell_type": "code",
   "execution_count": 164,
   "metadata": {},
   "outputs": [],
   "source": [
    "# 차트 상위 8개 장르 추출\n",
    "idx=['Pop/Rock', 'R&B', 'Rap', 'Country', 'Electronic', 'Jazz', 'Easy Listening', 'Vocal']"
   ]
  },
  {
   "cell_type": "code",
   "execution_count": null,
   "metadata": {},
   "outputs": [],
   "source": [
    "rawdata.shape"
   ]
  },
  {
   "cell_type": "code",
   "execution_count": 106,
   "metadata": {},
   "outputs": [],
   "source": [
    "# 년도별 차트에 올라간 장르 횟수 생성\n",
    "rawdata['cnt'] = rawdata['Rank'].apply( lambda x:1)"
   ]
  },
  {
   "cell_type": "code",
   "execution_count": 102,
   "metadata": {},
   "outputs": [],
   "source": [
    "# 피벗 테이블로 년도별 정리\n",
    "frequency=rawdata.pivot_table(index=['Year'],columns=['Genres_sorted'], values=['cnt'],aggfunc=[np.sum])"
   ]
  },
  {
   "cell_type": "code",
   "execution_count": 113,
   "metadata": {},
   "outputs": [],
   "source": [
    "# 데이터 정리를 위한 과정\n",
    "frequency=frequency['sum']"
   ]
  },
  {
   "cell_type": "code",
   "execution_count": 118,
   "metadata": {},
   "outputs": [],
   "source": [
    "# 데이터 정리를 위한 과정\n",
    "frequency=frequency['cnt']"
   ]
  },
  {
   "cell_type": "code",
   "execution_count": 166,
   "metadata": {},
   "outputs": [],
   "source": [
    "# 데이터 정리를 위한 과정\n",
    "frequency=frequency[idx]"
   ]
  },
  {
   "cell_type": "code",
   "execution_count": null,
   "metadata": {},
   "outputs": [],
   "source": [
    "import matplotlib.pyplot as plt\n",
    "import matplotlib\n",
    "import seaborn as sns\n",
    "%matplotlib inline"
   ]
  },
  {
   "cell_type": "code",
   "execution_count": 182,
   "metadata": {
    "scrolled": true
   },
   "outputs": [
    {
     "data": {
      "text/plain": [
       "<Figure size 432x288 with 0 Axes>"
      ]
     },
     "metadata": {},
     "output_type": "display_data"
    },
    {
     "data": {
      "image/png": "[encoded data removed]",
      "text/plain": [
       "<Figure size 1440x432 with 1 Axes>"
      ]
     },
     "metadata": {},
     "output_type": "display_data"
    }
   ],
   "source": [
    "# 누적 막대 그래프 생성\n",
    "plt.figure()\n",
    "frequency.plot(kind='bar', stacked=True, rot=45, figsize=(20,6))\n",
    "plt.show()"
   ]
  }
 ],
 "metadata": {
  "kernelspec": {
   "display_name": "Python 3",
   "language": "python",
   "name": "python3"
  },
  "language_info": {
   "codemirror_mode": {
    "name": "ipython",
    "version": 3
   },
   "file_extension": ".py",
   "mimetype": "text/x-python",
   "name": "python",
   "nbconvert_exporter": "python",
   "pygments_lexer": "ipython3",
   "version": "3.6.5"
  }
 },
 "nbformat": 4,
 "nbformat_minor": 2
}
