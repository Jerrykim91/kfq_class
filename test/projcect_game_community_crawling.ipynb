{
 "cells": [
  {
   "cell_type": "code",
   "execution_count": 245,
   "metadata": {},
   "outputs": [],
   "source": [
    "from bs4 import BeautifulSoup\n",
    "import urllib\n",
    "from urllib.request import urlopen\n",
    "import pandas as pd\n",
    "import time\n",
    "from selenium import webdriver as wd\n",
    "import re\n",
    "from urllib.request import urljoin\n",
    "from tqdm import tqdm_notebook"
   ]
  },
  {
   "cell_type": "code",
   "execution_count": 246,
   "metadata": {},
   "outputs": [],
   "source": [
    "url = 'http://bbs.ruliweb.com/family/4454/board/100159?page=1'\n",
    "html = urlopen(url)\n",
    "soup = BeautifulSoup( html,  'html.parser')"
   ]
  },
  {
   "cell_type": "code",
   "execution_count": 247,
   "metadata": {},
   "outputs": [],
   "source": [
    "### 아이디 ,굿, 뷰, ,시간 , 실패"
   ]
  },
  {
   "cell_type": "code",
   "execution_count": 248,
   "metadata": {},
   "outputs": [],
   "source": [
    "# #게시글 속성 주소 링크\n",
    "# links = soup.select('td.subject > div > a')\n",
    "# links\n",
    "# for each in links:\n",
    "#     href = each['href']\n",
    "#     text = each.string\n",
    "#     print(text + '->' +href)"
   ]
  },
  {
   "cell_type": "code",
   "execution_count": 249,
   "metadata": {
    "scrolled": false
   },
   "outputs": [
    {
     "data": {
      "text/plain": [
       "28"
      ]
     },
     "execution_count": 249,
     "metadata": {},
     "output_type": "execute_result"
    }
   ],
   "source": [
    "len(soup.findAll('tr',\"table_body\")[3:])"
   ]
  },
  {
   "cell_type": "code",
   "execution_count": 270,
   "metadata": {},
   "outputs": [
    {
     "data": {
      "text/plain": [
       "bs4.element.Tag"
      ]
     },
     "execution_count": 270,
     "metadata": {},
     "output_type": "execute_result"
    }
   ],
   "source": [
    "tmp_one = soup.findAll('tr',\"table_body\")[3]\n",
    "type(tmp_one)"
   ]
  },
  {
   "cell_type": "code",
   "execution_count": 271,
   "metadata": {},
   "outputs": [
    {
     "data": {
      "text/plain": [
       "['9365176']"
      ]
     },
     "execution_count": 271,
     "metadata": {},
     "output_type": "execute_result"
    }
   ],
   "source": [
    "#게시글 아이디\n",
    "tmp_one.find(class_='id').string.split()"
   ]
  },
  {
   "cell_type": "code",
   "execution_count": 253,
   "metadata": {},
   "outputs": [
    {
     "data": {
      "text/plain": [
       "'난 본섭하는 사람들이 왜 이렇게 클래식 헐뜯는지 모르겠다.'"
      ]
     },
     "execution_count": 253,
     "metadata": {},
     "output_type": "execute_result"
    }
   ],
   "source": [
    "#게시글 제목\n",
    "tmp_one.find(class_= 'deco').get_text()"
   ]
  },
  {
   "cell_type": "code",
   "execution_count": 254,
   "metadata": {},
   "outputs": [
    {
     "data": {
      "text/plain": [
       "'http://bbs.ruliweb.com/family/4454/board/100159/read/9365464?page=1'"
      ]
     },
     "execution_count": 254,
     "metadata": {},
     "output_type": "execute_result"
    }
   ],
   "source": [
    "#게시글 링크\n",
    "tmp_one.find(class_= 'deco')['href']"
   ]
  },
  {
   "cell_type": "code",
   "execution_count": 255,
   "metadata": {},
   "outputs": [
    {
     "name": "stdout",
     "output_type": "stream",
     "text": [
      "['루리웹-9389559420']\n"
     ]
    }
   ],
   "source": [
    "#글쓴이\n",
    "writer = tmp_one.find(class_='writer text_over').get_text().split()\n",
    "print(writer)"
   ]
  },
  {
   "cell_type": "code",
   "execution_count": 256,
   "metadata": {},
   "outputs": [
    {
     "name": "stdout",
     "output_type": "stream",
     "text": [
      "['2']\n"
     ]
    },
    {
     "data": {
      "text/plain": [
       "list"
      ]
     },
     "execution_count": 256,
     "metadata": {},
     "output_type": "execute_result"
    }
   ],
   "source": [
    "#추천수\n",
    "good = tmp_one.find(class_='recomd').get_text().split()\n",
    "print(good)\n",
    "type(good)"
   ]
  },
  {
   "cell_type": "code",
   "execution_count": 257,
   "metadata": {},
   "outputs": [
    {
     "name": "stdout",
     "output_type": "stream",
     "text": [
      "['514']\n"
     ]
    }
   ],
   "source": [
    "#조회수\n",
    "views = tmp_one.find(class_= 'hit').get_text().split()\n",
    "print(views)"
   ]
  },
  {
   "cell_type": "code",
   "execution_count": 258,
   "metadata": {},
   "outputs": [
    {
     "name": "stdout",
     "output_type": "stream",
     "text": [
      "['09:58']\n"
     ]
    }
   ],
   "source": [
    "#등록일\n",
    "reg_date = tmp_one.find(class_= 'time').get_text().split()\n",
    "print(reg_date)"
   ]
  },
  {
   "cell_type": "code",
   "execution_count": 259,
   "metadata": {},
   "outputs": [],
   "source": [
    "\n",
    "# IDS      =[]\n",
    "# titles   =[]\n",
    "# links    =[]\n",
    "# writer   =[]  \n",
    "# good     =[]   \n",
    "# views    =[]   \n",
    "# reg_date =[]\n",
    "# comments =[]\n",
    "\n",
    "# list_soup = soup.findAll('tr',\"table_body\")\n",
    "# for n in range(1,11):\n",
    "#     url = 'http://bbs.ruliweb.com/family/4454/board/100159?page='+str(n)\n",
    "#     html = urlopen(url)\n",
    "#     soup = BeautifulSoup( html,  'html.parser')\n",
    "#     for item in list_soup[3:]:\n",
    "#         #게시글 아이디\n",
    "#         IDS.append(tmp_one.find(class_='id').string.split())\n",
    "#         #게시글 제목                \n",
    "#         titles.append( item.find(class_= 'deco').get_text() )\n",
    "#         #게시글 링크\n",
    "#         links.append(urljoin(url,item.find(class_= 'deco')['href']))\n",
    "#         #글쓴이\n",
    "#         writer.append(item.find(class_='writer text_over').get_text().split())\n",
    "#         #추천수\n",
    "#         good.append(item.find(class_='recomd').get_text().split())\n",
    "#         #조회수\n",
    "#         views.append(item.find(class_= 'hit').get_text().split())\n",
    "#         #등록일\n",
    "#         reg_date.append(item.find(class_= 'time').get_text().split())\n",
    "\n",
    "    "
   ]
  },
  {
   "cell_type": "code",
   "execution_count": null,
   "metadata": {},
   "outputs": [],
   "source": [
    "# len(IDS),len(titles),len(links),len(writer),len(good),len(views),len(reg_date)"
   ]
  },
  {
   "cell_type": "code",
   "execution_count": null,
   "metadata": {
    "scrolled": false
   },
   "outputs": [],
   "source": [
    "# data = {'ID':IDS, \n",
    "#         'Title':titles ,\n",
    "#         'Links':links, \n",
    "#         'Writer':writer, \n",
    "#         'Good':good,\n",
    "#         'Views':views,\n",
    "#         'Reg_date':reg_date}\n",
    "\n",
    "# df = pd.DataFrame(data)\n",
    "# df.head(2)"
   ]
  },
  {
   "cell_type": "code",
   "execution_count": 320,
   "metadata": {},
   "outputs": [
    {
     "data": {
      "application/vnd.jupyter.widget-view+json": {
       "model_id": "a2e8de4ff975477195633dd8c546826e",
       "version_major": 2,
       "version_minor": 0
      },
      "text/plain": [
       "HBox(children=(IntProgress(value=0, max=1520), HTML(value='')))"
      ]
     },
     "metadata": {},
     "output_type": "display_data"
    },
    {
     "ename": "URLError",
     "evalue": "<urlopen error [WinError 10060] 연결된 구성원으로부터 응답이 없어 연결하지 못했거나, 호스트로부터 응답이 없어 연결이 끊어졌습니다>",
     "output_type": "error",
     "traceback": [
      "\u001b[1;31m---------------------------------------------------------------------------\u001b[0m",
      "\u001b[1;31mTimeoutError\u001b[0m                              Traceback (most recent call last)",
      "\u001b[1;32m~\\Anaconda3\\lib\\urllib\\request.py\u001b[0m in \u001b[0;36mdo_open\u001b[1;34m(self, http_class, req, **http_conn_args)\u001b[0m\n\u001b[0;32m   1317\u001b[0m                 h.request(req.get_method(), req.selector, req.data, headers,\n\u001b[1;32m-> 1318\u001b[1;33m                           encode_chunked=req.has_header('Transfer-encoding'))\n\u001b[0m\u001b[0;32m   1319\u001b[0m             \u001b[1;32mexcept\u001b[0m \u001b[0mOSError\u001b[0m \u001b[1;32mas\u001b[0m \u001b[0merr\u001b[0m\u001b[1;33m:\u001b[0m \u001b[1;31m# timeout error\u001b[0m\u001b[1;33m\u001b[0m\u001b[0m\n",
      "\u001b[1;32m~\\Anaconda3\\lib\\http\\client.py\u001b[0m in \u001b[0;36mrequest\u001b[1;34m(self, method, url, body, headers, encode_chunked)\u001b[0m\n\u001b[0;32m   1238\u001b[0m         \u001b[1;34m\"\"\"Send a complete request to the server.\"\"\"\u001b[0m\u001b[1;33m\u001b[0m\u001b[0m\n\u001b[1;32m-> 1239\u001b[1;33m         \u001b[0mself\u001b[0m\u001b[1;33m.\u001b[0m\u001b[0m_send_request\u001b[0m\u001b[1;33m(\u001b[0m\u001b[0mmethod\u001b[0m\u001b[1;33m,\u001b[0m \u001b[0murl\u001b[0m\u001b[1;33m,\u001b[0m \u001b[0mbody\u001b[0m\u001b[1;33m,\u001b[0m \u001b[0mheaders\u001b[0m\u001b[1;33m,\u001b[0m \u001b[0mencode_chunked\u001b[0m\u001b[1;33m)\u001b[0m\u001b[1;33m\u001b[0m\u001b[0m\n\u001b[0m\u001b[0;32m   1240\u001b[0m \u001b[1;33m\u001b[0m\u001b[0m\n",
      "\u001b[1;32m~\\Anaconda3\\lib\\http\\client.py\u001b[0m in \u001b[0;36m_send_request\u001b[1;34m(self, method, url, body, headers, encode_chunked)\u001b[0m\n\u001b[0;32m   1284\u001b[0m             \u001b[0mbody\u001b[0m \u001b[1;33m=\u001b[0m \u001b[0m_encode\u001b[0m\u001b[1;33m(\u001b[0m\u001b[0mbody\u001b[0m\u001b[1;33m,\u001b[0m \u001b[1;34m'body'\u001b[0m\u001b[1;33m)\u001b[0m\u001b[1;33m\u001b[0m\u001b[0m\n\u001b[1;32m-> 1285\u001b[1;33m         \u001b[0mself\u001b[0m\u001b[1;33m.\u001b[0m\u001b[0mendheaders\u001b[0m\u001b[1;33m(\u001b[0m\u001b[0mbody\u001b[0m\u001b[1;33m,\u001b[0m \u001b[0mencode_chunked\u001b[0m\u001b[1;33m=\u001b[0m\u001b[0mencode_chunked\u001b[0m\u001b[1;33m)\u001b[0m\u001b[1;33m\u001b[0m\u001b[0m\n\u001b[0m\u001b[0;32m   1286\u001b[0m \u001b[1;33m\u001b[0m\u001b[0m\n",
      "\u001b[1;32m~\\Anaconda3\\lib\\http\\client.py\u001b[0m in \u001b[0;36mendheaders\u001b[1;34m(self, message_body, encode_chunked)\u001b[0m\n\u001b[0;32m   1233\u001b[0m             \u001b[1;32mraise\u001b[0m \u001b[0mCannotSendHeader\u001b[0m\u001b[1;33m(\u001b[0m\u001b[1;33m)\u001b[0m\u001b[1;33m\u001b[0m\u001b[0m\n\u001b[1;32m-> 1234\u001b[1;33m         \u001b[0mself\u001b[0m\u001b[1;33m.\u001b[0m\u001b[0m_send_output\u001b[0m\u001b[1;33m(\u001b[0m\u001b[0mmessage_body\u001b[0m\u001b[1;33m,\u001b[0m \u001b[0mencode_chunked\u001b[0m\u001b[1;33m=\u001b[0m\u001b[0mencode_chunked\u001b[0m\u001b[1;33m)\u001b[0m\u001b[1;33m\u001b[0m\u001b[0m\n\u001b[0m\u001b[0;32m   1235\u001b[0m \u001b[1;33m\u001b[0m\u001b[0m\n",
      "\u001b[1;32m~\\Anaconda3\\lib\\http\\client.py\u001b[0m in \u001b[0;36m_send_output\u001b[1;34m(self, message_body, encode_chunked)\u001b[0m\n\u001b[0;32m   1025\u001b[0m         \u001b[1;32mdel\u001b[0m \u001b[0mself\u001b[0m\u001b[1;33m.\u001b[0m\u001b[0m_buffer\u001b[0m\u001b[1;33m[\u001b[0m\u001b[1;33m:\u001b[0m\u001b[1;33m]\u001b[0m\u001b[1;33m\u001b[0m\u001b[0m\n\u001b[1;32m-> 1026\u001b[1;33m         \u001b[0mself\u001b[0m\u001b[1;33m.\u001b[0m\u001b[0msend\u001b[0m\u001b[1;33m(\u001b[0m\u001b[0mmsg\u001b[0m\u001b[1;33m)\u001b[0m\u001b[1;33m\u001b[0m\u001b[0m\n\u001b[0m\u001b[0;32m   1027\u001b[0m \u001b[1;33m\u001b[0m\u001b[0m\n",
      "\u001b[1;32m~\\Anaconda3\\lib\\http\\client.py\u001b[0m in \u001b[0;36msend\u001b[1;34m(self, data)\u001b[0m\n\u001b[0;32m    963\u001b[0m             \u001b[1;32mif\u001b[0m \u001b[0mself\u001b[0m\u001b[1;33m.\u001b[0m\u001b[0mauto_open\u001b[0m\u001b[1;33m:\u001b[0m\u001b[1;33m\u001b[0m\u001b[0m\n\u001b[1;32m--> 964\u001b[1;33m                 \u001b[0mself\u001b[0m\u001b[1;33m.\u001b[0m\u001b[0mconnect\u001b[0m\u001b[1;33m(\u001b[0m\u001b[1;33m)\u001b[0m\u001b[1;33m\u001b[0m\u001b[0m\n\u001b[0m\u001b[0;32m    965\u001b[0m             \u001b[1;32melse\u001b[0m\u001b[1;33m:\u001b[0m\u001b[1;33m\u001b[0m\u001b[0m\n",
      "\u001b[1;32m~\\Anaconda3\\lib\\http\\client.py\u001b[0m in \u001b[0;36mconnect\u001b[1;34m(self)\u001b[0m\n\u001b[0;32m    935\u001b[0m         self.sock = self._create_connection(\n\u001b[1;32m--> 936\u001b[1;33m             (self.host,self.port), self.timeout, self.source_address)\n\u001b[0m\u001b[0;32m    937\u001b[0m         \u001b[0mself\u001b[0m\u001b[1;33m.\u001b[0m\u001b[0msock\u001b[0m\u001b[1;33m.\u001b[0m\u001b[0msetsockopt\u001b[0m\u001b[1;33m(\u001b[0m\u001b[0msocket\u001b[0m\u001b[1;33m.\u001b[0m\u001b[0mIPPROTO_TCP\u001b[0m\u001b[1;33m,\u001b[0m \u001b[0msocket\u001b[0m\u001b[1;33m.\u001b[0m\u001b[0mTCP_NODELAY\u001b[0m\u001b[1;33m,\u001b[0m \u001b[1;36m1\u001b[0m\u001b[1;33m)\u001b[0m\u001b[1;33m\u001b[0m\u001b[0m\n",
      "\u001b[1;32m~\\Anaconda3\\lib\\socket.py\u001b[0m in \u001b[0;36mcreate_connection\u001b[1;34m(address, timeout, source_address)\u001b[0m\n\u001b[0;32m    723\u001b[0m     \u001b[1;32mif\u001b[0m \u001b[0merr\u001b[0m \u001b[1;32mis\u001b[0m \u001b[1;32mnot\u001b[0m \u001b[1;32mNone\u001b[0m\u001b[1;33m:\u001b[0m\u001b[1;33m\u001b[0m\u001b[0m\n\u001b[1;32m--> 724\u001b[1;33m         \u001b[1;32mraise\u001b[0m \u001b[0merr\u001b[0m\u001b[1;33m\u001b[0m\u001b[0m\n\u001b[0m\u001b[0;32m    725\u001b[0m     \u001b[1;32melse\u001b[0m\u001b[1;33m:\u001b[0m\u001b[1;33m\u001b[0m\u001b[0m\n",
      "\u001b[1;32m~\\Anaconda3\\lib\\socket.py\u001b[0m in \u001b[0;36mcreate_connection\u001b[1;34m(address, timeout, source_address)\u001b[0m\n\u001b[0;32m    712\u001b[0m                 \u001b[0msock\u001b[0m\u001b[1;33m.\u001b[0m\u001b[0mbind\u001b[0m\u001b[1;33m(\u001b[0m\u001b[0msource_address\u001b[0m\u001b[1;33m)\u001b[0m\u001b[1;33m\u001b[0m\u001b[0m\n\u001b[1;32m--> 713\u001b[1;33m             \u001b[0msock\u001b[0m\u001b[1;33m.\u001b[0m\u001b[0mconnect\u001b[0m\u001b[1;33m(\u001b[0m\u001b[0msa\u001b[0m\u001b[1;33m)\u001b[0m\u001b[1;33m\u001b[0m\u001b[0m\n\u001b[0m\u001b[0;32m    714\u001b[0m             \u001b[1;31m# Break explicitly a reference cycle\u001b[0m\u001b[1;33m\u001b[0m\u001b[1;33m\u001b[0m\u001b[0m\n",
      "\u001b[1;31mTimeoutError\u001b[0m: [WinError 10060] 연결된 구성원으로부터 응답이 없어 연결하지 못했거나, 호스트로부터 응답이 없어 연결이 끊어졌습니다",
      "\nDuring handling of the above exception, another exception occurred:\n",
      "\u001b[1;31mURLError\u001b[0m                                  Traceback (most recent call last)",
      "\u001b[1;32m<ipython-input-320-aa44377b4cbe>\u001b[0m in \u001b[0;36m<module>\u001b[1;34m()\u001b[0m\n\u001b[0;32m      2\u001b[0m \u001b[1;32mfor\u001b[0m \u001b[0mn\u001b[0m \u001b[1;32min\u001b[0m \u001b[0mtqdm_notebook\u001b[0m\u001b[1;33m(\u001b[0m\u001b[0mrange\u001b[0m\u001b[1;33m(\u001b[0m\u001b[1;36m1\u001b[0m\u001b[1;33m,\u001b[0m\u001b[1;36m1521\u001b[0m\u001b[1;33m)\u001b[0m\u001b[1;33m)\u001b[0m\u001b[1;33m:\u001b[0m\u001b[1;33m\u001b[0m\u001b[0m\n\u001b[0;32m      3\u001b[0m     \u001b[0murl\u001b[0m \u001b[1;33m=\u001b[0m \u001b[1;34m'http://bbs.ruliweb.com/family/4454/board/100159?page='\u001b[0m\u001b[1;33m+\u001b[0m\u001b[0mstr\u001b[0m\u001b[1;33m(\u001b[0m\u001b[0mn\u001b[0m\u001b[1;33m)\u001b[0m\u001b[1;33m\u001b[0m\u001b[0m\n\u001b[1;32m----> 4\u001b[1;33m     \u001b[0mhtml\u001b[0m \u001b[1;33m=\u001b[0m \u001b[0murlopen\u001b[0m\u001b[1;33m(\u001b[0m\u001b[0murl\u001b[0m\u001b[1;33m)\u001b[0m\u001b[1;33m\u001b[0m\u001b[0m\n\u001b[0m\u001b[0;32m      5\u001b[0m     \u001b[0msoup\u001b[0m \u001b[1;33m=\u001b[0m \u001b[0mBeautifulSoup\u001b[0m\u001b[1;33m(\u001b[0m \u001b[0mhtml\u001b[0m\u001b[1;33m,\u001b[0m  \u001b[1;34m'html.parser'\u001b[0m\u001b[1;33m)\u001b[0m\u001b[1;33m\u001b[0m\u001b[0m\n\u001b[0;32m      6\u001b[0m     \u001b[1;32mfor\u001b[0m \u001b[0mitem\u001b[0m \u001b[1;32min\u001b[0m \u001b[0mlist_soup\u001b[0m\u001b[1;33m[\u001b[0m\u001b[1;36m3\u001b[0m\u001b[1;33m:\u001b[0m\u001b[1;33m]\u001b[0m\u001b[1;33m:\u001b[0m\u001b[1;33m\u001b[0m\u001b[0m\n",
      "\u001b[1;32m~\\Anaconda3\\lib\\urllib\\request.py\u001b[0m in \u001b[0;36murlopen\u001b[1;34m(url, data, timeout, cafile, capath, cadefault, context)\u001b[0m\n\u001b[0;32m    221\u001b[0m     \u001b[1;32melse\u001b[0m\u001b[1;33m:\u001b[0m\u001b[1;33m\u001b[0m\u001b[0m\n\u001b[0;32m    222\u001b[0m         \u001b[0mopener\u001b[0m \u001b[1;33m=\u001b[0m \u001b[0m_opener\u001b[0m\u001b[1;33m\u001b[0m\u001b[0m\n\u001b[1;32m--> 223\u001b[1;33m     \u001b[1;32mreturn\u001b[0m \u001b[0mopener\u001b[0m\u001b[1;33m.\u001b[0m\u001b[0mopen\u001b[0m\u001b[1;33m(\u001b[0m\u001b[0murl\u001b[0m\u001b[1;33m,\u001b[0m \u001b[0mdata\u001b[0m\u001b[1;33m,\u001b[0m \u001b[0mtimeout\u001b[0m\u001b[1;33m)\u001b[0m\u001b[1;33m\u001b[0m\u001b[0m\n\u001b[0m\u001b[0;32m    224\u001b[0m \u001b[1;33m\u001b[0m\u001b[0m\n\u001b[0;32m    225\u001b[0m \u001b[1;32mdef\u001b[0m \u001b[0minstall_opener\u001b[0m\u001b[1;33m(\u001b[0m\u001b[0mopener\u001b[0m\u001b[1;33m)\u001b[0m\u001b[1;33m:\u001b[0m\u001b[1;33m\u001b[0m\u001b[0m\n",
      "\u001b[1;32m~\\Anaconda3\\lib\\urllib\\request.py\u001b[0m in \u001b[0;36mopen\u001b[1;34m(self, fullurl, data, timeout)\u001b[0m\n\u001b[0;32m    524\u001b[0m             \u001b[0mreq\u001b[0m \u001b[1;33m=\u001b[0m \u001b[0mmeth\u001b[0m\u001b[1;33m(\u001b[0m\u001b[0mreq\u001b[0m\u001b[1;33m)\u001b[0m\u001b[1;33m\u001b[0m\u001b[0m\n\u001b[0;32m    525\u001b[0m \u001b[1;33m\u001b[0m\u001b[0m\n\u001b[1;32m--> 526\u001b[1;33m         \u001b[0mresponse\u001b[0m \u001b[1;33m=\u001b[0m \u001b[0mself\u001b[0m\u001b[1;33m.\u001b[0m\u001b[0m_open\u001b[0m\u001b[1;33m(\u001b[0m\u001b[0mreq\u001b[0m\u001b[1;33m,\u001b[0m \u001b[0mdata\u001b[0m\u001b[1;33m)\u001b[0m\u001b[1;33m\u001b[0m\u001b[0m\n\u001b[0m\u001b[0;32m    527\u001b[0m \u001b[1;33m\u001b[0m\u001b[0m\n\u001b[0;32m    528\u001b[0m         \u001b[1;31m# post-process response\u001b[0m\u001b[1;33m\u001b[0m\u001b[1;33m\u001b[0m\u001b[0m\n",
      "\u001b[1;32m~\\Anaconda3\\lib\\urllib\\request.py\u001b[0m in \u001b[0;36m_open\u001b[1;34m(self, req, data)\u001b[0m\n\u001b[0;32m    542\u001b[0m         \u001b[0mprotocol\u001b[0m \u001b[1;33m=\u001b[0m \u001b[0mreq\u001b[0m\u001b[1;33m.\u001b[0m\u001b[0mtype\u001b[0m\u001b[1;33m\u001b[0m\u001b[0m\n\u001b[0;32m    543\u001b[0m         result = self._call_chain(self.handle_open, protocol, protocol +\n\u001b[1;32m--> 544\u001b[1;33m                                   '_open', req)\n\u001b[0m\u001b[0;32m    545\u001b[0m         \u001b[1;32mif\u001b[0m \u001b[0mresult\u001b[0m\u001b[1;33m:\u001b[0m\u001b[1;33m\u001b[0m\u001b[0m\n\u001b[0;32m    546\u001b[0m             \u001b[1;32mreturn\u001b[0m \u001b[0mresult\u001b[0m\u001b[1;33m\u001b[0m\u001b[0m\n",
      "\u001b[1;32m~\\Anaconda3\\lib\\urllib\\request.py\u001b[0m in \u001b[0;36m_call_chain\u001b[1;34m(self, chain, kind, meth_name, *args)\u001b[0m\n\u001b[0;32m    502\u001b[0m         \u001b[1;32mfor\u001b[0m \u001b[0mhandler\u001b[0m \u001b[1;32min\u001b[0m \u001b[0mhandlers\u001b[0m\u001b[1;33m:\u001b[0m\u001b[1;33m\u001b[0m\u001b[0m\n\u001b[0;32m    503\u001b[0m             \u001b[0mfunc\u001b[0m \u001b[1;33m=\u001b[0m \u001b[0mgetattr\u001b[0m\u001b[1;33m(\u001b[0m\u001b[0mhandler\u001b[0m\u001b[1;33m,\u001b[0m \u001b[0mmeth_name\u001b[0m\u001b[1;33m)\u001b[0m\u001b[1;33m\u001b[0m\u001b[0m\n\u001b[1;32m--> 504\u001b[1;33m             \u001b[0mresult\u001b[0m \u001b[1;33m=\u001b[0m \u001b[0mfunc\u001b[0m\u001b[1;33m(\u001b[0m\u001b[1;33m*\u001b[0m\u001b[0margs\u001b[0m\u001b[1;33m)\u001b[0m\u001b[1;33m\u001b[0m\u001b[0m\n\u001b[0m\u001b[0;32m    505\u001b[0m             \u001b[1;32mif\u001b[0m \u001b[0mresult\u001b[0m \u001b[1;32mis\u001b[0m \u001b[1;32mnot\u001b[0m \u001b[1;32mNone\u001b[0m\u001b[1;33m:\u001b[0m\u001b[1;33m\u001b[0m\u001b[0m\n\u001b[0;32m    506\u001b[0m                 \u001b[1;32mreturn\u001b[0m \u001b[0mresult\u001b[0m\u001b[1;33m\u001b[0m\u001b[0m\n",
      "\u001b[1;32m~\\Anaconda3\\lib\\urllib\\request.py\u001b[0m in \u001b[0;36mhttp_open\u001b[1;34m(self, req)\u001b[0m\n\u001b[0;32m   1344\u001b[0m \u001b[1;33m\u001b[0m\u001b[0m\n\u001b[0;32m   1345\u001b[0m     \u001b[1;32mdef\u001b[0m \u001b[0mhttp_open\u001b[0m\u001b[1;33m(\u001b[0m\u001b[0mself\u001b[0m\u001b[1;33m,\u001b[0m \u001b[0mreq\u001b[0m\u001b[1;33m)\u001b[0m\u001b[1;33m:\u001b[0m\u001b[1;33m\u001b[0m\u001b[0m\n\u001b[1;32m-> 1346\u001b[1;33m         \u001b[1;32mreturn\u001b[0m \u001b[0mself\u001b[0m\u001b[1;33m.\u001b[0m\u001b[0mdo_open\u001b[0m\u001b[1;33m(\u001b[0m\u001b[0mhttp\u001b[0m\u001b[1;33m.\u001b[0m\u001b[0mclient\u001b[0m\u001b[1;33m.\u001b[0m\u001b[0mHTTPConnection\u001b[0m\u001b[1;33m,\u001b[0m \u001b[0mreq\u001b[0m\u001b[1;33m)\u001b[0m\u001b[1;33m\u001b[0m\u001b[0m\n\u001b[0m\u001b[0;32m   1347\u001b[0m \u001b[1;33m\u001b[0m\u001b[0m\n\u001b[0;32m   1348\u001b[0m     \u001b[0mhttp_request\u001b[0m \u001b[1;33m=\u001b[0m \u001b[0mAbstractHTTPHandler\u001b[0m\u001b[1;33m.\u001b[0m\u001b[0mdo_request_\u001b[0m\u001b[1;33m\u001b[0m\u001b[0m\n",
      "\u001b[1;32m~\\Anaconda3\\lib\\urllib\\request.py\u001b[0m in \u001b[0;36mdo_open\u001b[1;34m(self, http_class, req, **http_conn_args)\u001b[0m\n\u001b[0;32m   1318\u001b[0m                           encode_chunked=req.has_header('Transfer-encoding'))\n\u001b[0;32m   1319\u001b[0m             \u001b[1;32mexcept\u001b[0m \u001b[0mOSError\u001b[0m \u001b[1;32mas\u001b[0m \u001b[0merr\u001b[0m\u001b[1;33m:\u001b[0m \u001b[1;31m# timeout error\u001b[0m\u001b[1;33m\u001b[0m\u001b[0m\n\u001b[1;32m-> 1320\u001b[1;33m                 \u001b[1;32mraise\u001b[0m \u001b[0mURLError\u001b[0m\u001b[1;33m(\u001b[0m\u001b[0merr\u001b[0m\u001b[1;33m)\u001b[0m\u001b[1;33m\u001b[0m\u001b[0m\n\u001b[0m\u001b[0;32m   1321\u001b[0m             \u001b[0mr\u001b[0m \u001b[1;33m=\u001b[0m \u001b[0mh\u001b[0m\u001b[1;33m.\u001b[0m\u001b[0mgetresponse\u001b[0m\u001b[1;33m(\u001b[0m\u001b[1;33m)\u001b[0m\u001b[1;33m\u001b[0m\u001b[0m\n\u001b[0;32m   1322\u001b[0m         \u001b[1;32mexcept\u001b[0m\u001b[1;33m:\u001b[0m\u001b[1;33m\u001b[0m\u001b[0m\n",
      "\u001b[1;31mURLError\u001b[0m: <urlopen error [WinError 10060] 연결된 구성원으로부터 응답이 없어 연결하지 못했거나, 호스트로부터 응답이 없어 연결이 끊어졌습니다>"
     ]
    }
   ],
   "source": [
    "a = list()\n",
    "for n in tqdm_notebook(range(1,1521)):\n",
    "    url = 'http://bbs.ruliweb.com/family/4454/board/100159?page='+str(n)\n",
    "    html = urlopen(url)\n",
    "    soup = BeautifulSoup( html,  'html.parser')\n",
    "    for item in list_soup[3:]:\n",
    "        \n",
    "        data = {\n",
    "            'ID':item.find(class_='id').string.strip(), \n",
    "            'Title':item.find(class_= 'deco').get_text() ,\n",
    "            'Links':urljoin(url,item.find(class_= 'deco')['href']), \n",
    "            'Writer':item.find(class_='writer text_over').get_text().strip(), \n",
    "            'Good':item.find(class_='recomd').get_text().strip(),\n",
    "            'Views':item.find(class_= 'hit').get_text().strip(),\n",
    "            'Reg_date':item.find(class_= 'time').get_text().strip()\n",
    "        }\n",
    "        a.append(data)\n",
    "a"
   ]
  },
  {
   "cell_type": "code",
   "execution_count": 345,
   "metadata": {},
   "outputs": [
    {
     "data": {
      "text/plain": [
       "0                                           오늘자 핫픽스.\n",
       "1                                         황금골과 골드샤이어\n",
       "2                   난 본섭하는 사람들이 왜 이렇게 클래식 헐뜯는지 모르겠다.\n",
       "3                        오리지날 클베부터 접속해봤던 아재의 클래식 소감.\n",
       "4                                        애엄마한테 등짝 맞음\n",
       "5                              클래식 첫날 동접 많다고 생각하시는분들\n",
       "6                                        클래식 냥꾼분들...\n",
       "7                                     데저트 이글도 클래식 복귀\n",
       "8        다시느끼는건데 ... 게임은 불편할수록 재밌다 .. 다시 한번 깨달았다 ...\n",
       "9                     음 클래식이 오픈하니까 확실히 본섭에 사람이 줄긴 했어\n",
       "10                                          클래식은 미니맵\n",
       "11                                 나엘냥꾼으로 스톰윈드 쉽게가는법\n",
       "12                                    요즘 틀무새들 존나 많네.\n",
       "13                                   클래식은 딱 낙스까지인가요?\n",
       "14                                          이번주의 와우.\n",
       "15                               와우 클래식 행복회로 폭발하는 현실\n",
       "16                                부활 후유증 기다릴 겸 쓰는 잡팁\n",
       "17                        론다 로우지가 15주년 기념 광고를 찍었나보네요\n",
       "18                             틀래식 이 정도로 흥할 줄 몰랐네요..\n",
       "19                             클래식이 한달 반짝할 수 있다고 하지만\n",
       "20                                 14시간의 플탐을 종료했습니다.\n",
       "21                     오리지널 때 블리자드의 디테일에 감탄했던 퀘스트...\n",
       "22                          와우 클래식 9시 35분 대기열 실화냐? ㅎ\n",
       "23                               와우 클래식은 어떤재미로하는건가요?\n",
       "24                                         궁금한게 있습니다\n",
       "25                              대기 9000명 270분 ㅋㅋㅋㅋㅋㅋ\n",
       "26                    와우 클래식 애드온 추천 및 설치 가이드/오픈첫날 풍경\n",
       "27                             ....전 클래식 적응 몬하겠네요 ㅠㅠ\n",
       "28                                          오늘자 핫픽스.\n",
       "29                                        황금골과 골드샤이어\n",
       "                            ...                     \n",
       "32086                 와우 클래식 애드온 추천 및 설치 가이드/오픈첫날 풍경\n",
       "32087                          ....전 클래식 적응 몬하겠네요 ㅠㅠ\n",
       "32088                                       오늘자 핫픽스.\n",
       "32089                                     황금골과 골드샤이어\n",
       "32090               난 본섭하는 사람들이 왜 이렇게 클래식 헐뜯는지 모르겠다.\n",
       "32091                    오리지날 클베부터 접속해봤던 아재의 클래식 소감.\n",
       "32092                                    애엄마한테 등짝 맞음\n",
       "32093                          클래식 첫날 동접 많다고 생각하시는분들\n",
       "32094                                    클래식 냥꾼분들...\n",
       "32095                                 데저트 이글도 클래식 복귀\n",
       "32096    다시느끼는건데 ... 게임은 불편할수록 재밌다 .. 다시 한번 깨달았다 ...\n",
       "32097                 음 클래식이 오픈하니까 확실히 본섭에 사람이 줄긴 했어\n",
       "32098                                       클래식은 미니맵\n",
       "32099                              나엘냥꾼으로 스톰윈드 쉽게가는법\n",
       "32100                                 요즘 틀무새들 존나 많네.\n",
       "32101                                클래식은 딱 낙스까지인가요?\n",
       "32102                                       이번주의 와우.\n",
       "32103                            와우 클래식 행복회로 폭발하는 현실\n",
       "32104                             부활 후유증 기다릴 겸 쓰는 잡팁\n",
       "32105                     론다 로우지가 15주년 기념 광고를 찍었나보네요\n",
       "32106                          틀래식 이 정도로 흥할 줄 몰랐네요..\n",
       "32107                          클래식이 한달 반짝할 수 있다고 하지만\n",
       "32108                              14시간의 플탐을 종료했습니다.\n",
       "32109                  오리지널 때 블리자드의 디테일에 감탄했던 퀘스트...\n",
       "32110                       와우 클래식 9시 35분 대기열 실화냐? ㅎ\n",
       "32111                            와우 클래식은 어떤재미로하는건가요?\n",
       "32112                                      궁금한게 있습니다\n",
       "32113                           대기 9000명 270분 ㅋㅋㅋㅋㅋㅋ\n",
       "32114                 와우 클래식 애드온 추천 및 설치 가이드/오픈첫날 풍경\n",
       "32115                          ....전 클래식 적응 몬하겠네요 ㅠㅠ\n",
       "Name: Title, Length: 32116, dtype: object"
      ]
     },
     "execution_count": 345,
     "metadata": {},
     "output_type": "execute_result"
    }
   ],
   "source": [
    "df = pd.DataFrame(a, columns=['ID','Title','Writer','Views','Good','Reg_date','Links']"
   ]
  },
  {
   "cell_type": "code",
   "execution_count": 329,
   "metadata": {},
   "outputs": [
    {
     "ename": "SyntaxError",
     "evalue": "invalid syntax (<ipython-input-329-b7884056b3d5>, line 1)",
     "output_type": "error",
     "traceback": [
      "\u001b[1;36m  File \u001b[1;32m\"<ipython-input-329-b7884056b3d5>\"\u001b[1;36m, line \u001b[1;32m1\u001b[0m\n\u001b[1;33m    if good in df['Good'] == ''\u001b[0m\n\u001b[1;37m                               ^\u001b[0m\n\u001b[1;31mSyntaxError\u001b[0m\u001b[1;31m:\u001b[0m invalid syntax\n"
     ]
    }
   ],
   "source": [
    "if good in df['Good'] == ''\n",
    "    good.appned == 0"
   ]
  },
  {
   "cell_type": "raw",
   "metadata": {},
   "source": [
    "a"
   ]
  },
  {
   "cell_type": "code",
   "execution_count": 323,
   "metadata": {},
   "outputs": [],
   "source": [
    "df.to_excel('game_community.xlsx')"
   ]
  },
  {
   "cell_type": "code",
   "execution_count": null,
   "metadata": {},
   "outputs": [],
   "source": [
    "p = re.compile()\n",
    "df['Links'][4]"
   ]
  },
  {
   "cell_type": "code",
   "execution_count": 330,
   "metadata": {},
   "outputs": [
    {
     "data": {
      "text/plain": [
       "'이건 먼 갑자기 ㄱ 소리지'"
      ]
     },
     "execution_count": 330,
     "metadata": {},
     "output_type": "execute_result"
    }
   ],
   "source": [
    "comment_tmp = soup_tmp.findAll('span','text')[0].string\n",
    "comment_tmp"
   ]
  },
  {
   "cell_type": "code",
   "execution_count": 314,
   "metadata": {},
   "outputs": [
    {
     "data": {
      "application/vnd.jupyter.widget-view+json": {
       "model_id": "2f14ce0af22f4ea889131f3af40dc305",
       "version_major": 2,
       "version_minor": 0
      },
      "text/plain": [
       "HBox(children=(IntProgress(value=0, max=280), HTML(value='')))"
      ]
     },
     "metadata": {},
     "output_type": "display_data"
    },
    {
     "name": "stdout",
     "output_type": "stream",
     "text": [
      "==============================\n",
      "==============================\n",
      "==============================\n",
      "==============================\n",
      "==============================\n",
      "==============================\n",
      "==============================\n",
      "==============================\n",
      "==============================\n",
      "==============================\n",
      "==============================\n",
      "==============================\n",
      "==============================\n",
      "==============================\n",
      "==============================\n",
      "==============================\n"
     ]
    },
    {
     "ename": "AttributeError",
     "evalue": "'NoneType' object has no attribute 'get_text'",
     "output_type": "error",
     "traceback": [
      "\u001b[1;31m---------------------------------------------------------------------------\u001b[0m",
      "\u001b[1;31mAttributeError\u001b[0m                            Traceback (most recent call last)",
      "\u001b[1;32m<ipython-input-314-7cbe94c40d9d>\u001b[0m in \u001b[0;36m<module>\u001b[1;34m()\u001b[0m\n\u001b[0;32m      4\u001b[0m     \u001b[0mhtml\u001b[0m \u001b[1;33m=\u001b[0m \u001b[0murlopen\u001b[0m\u001b[1;33m(\u001b[0m\u001b[0mdf\u001b[0m\u001b[1;33m[\u001b[0m\u001b[1;34m'Links'\u001b[0m\u001b[1;33m]\u001b[0m\u001b[1;33m[\u001b[0m\u001b[0mn\u001b[0m\u001b[1;33m]\u001b[0m\u001b[1;33m)\u001b[0m\u001b[1;33m\u001b[0m\u001b[0m\n\u001b[0;32m      5\u001b[0m     \u001b[0msoup_tmp\u001b[0m \u001b[1;33m=\u001b[0m \u001b[0mBeautifulSoup\u001b[0m\u001b[1;33m(\u001b[0m\u001b[0mhtml\u001b[0m\u001b[1;33m,\u001b[0m\u001b[1;34m'lxml'\u001b[0m\u001b[1;33m)\u001b[0m\u001b[1;33m\u001b[0m\u001b[0m\n\u001b[1;32m----> 6\u001b[1;33m     \u001b[0mcomments\u001b[0m \u001b[1;33m=\u001b[0m \u001b[0msoup_tmp\u001b[0m\u001b[1;33m.\u001b[0m\u001b[0mfind\u001b[0m\u001b[1;33m(\u001b[0m\u001b[1;34m'span'\u001b[0m\u001b[1;33m,\u001b[0m\u001b[1;34m'text'\u001b[0m\u001b[1;33m)\u001b[0m\u001b[1;33m.\u001b[0m\u001b[0mget_text\u001b[0m\u001b[1;33m(\u001b[0m\u001b[1;33m)\u001b[0m\u001b[1;33m\u001b[0m\u001b[0m\n\u001b[0m\u001b[0;32m      7\u001b[0m \u001b[1;31m#     dic={\u001b[0m\u001b[1;33m\u001b[0m\u001b[1;33m\u001b[0m\u001b[0m\n\u001b[0;32m      8\u001b[0m \u001b[1;31m#             'reply' : n.string =['1234']\u001b[0m\u001b[1;33m\u001b[0m\u001b[1;33m\u001b[0m\u001b[0m\n",
      "\u001b[1;31mAttributeError\u001b[0m: 'NoneType' object has no attribute 'get_text'"
     ]
    }
   ],
   "source": [
    "# comments = []\n",
    "\n",
    "# for n in tqdm_notebook(df.index):\n",
    "#     html = urlopen(df['Links'][n])\n",
    "#     soup_tmp = BeautifulSoup(html,'lxml')\n",
    "#     comments = soup_tmp.find('span','text').get_text()\n",
    "    "
   ]
  },
  {
   "cell_type": "code",
   "execution_count": null,
   "metadata": {},
   "outputs": [],
   "source": []
  },
  {
   "cell_type": "code",
   "execution_count": 308,
   "metadata": {},
   "outputs": [],
   "source": []
  },
  {
   "cell_type": "code",
   "execution_count": null,
   "metadata": {},
   "outputs": [],
   "source": []
  },
  {
   "cell_type": "code",
   "execution_count": null,
   "metadata": {},
   "outputs": [],
   "source": [
    "len(comments)"
   ]
  },
  {
   "cell_type": "code",
   "execution_count": null,
   "metadata": {},
   "outputs": [],
   "source": [
    "dic_tmp = [ {1:'A'},{1:'B'}]"
   ]
  },
  {
   "cell_type": "code",
   "execution_count": null,
   "metadata": {},
   "outputs": [],
   "source": [
    "pd.DataFrame.from_dict( dic_tmp )"
   ]
  },
  {
   "cell_type": "code",
   "execution_count": null,
   "metadata": {},
   "outputs": [],
   "source": []
  },
  {
   "cell_type": "code",
   "execution_count": null,
   "metadata": {},
   "outputs": [],
   "source": [
    "# #연속된 페이지 리스트 \n",
    "# pages=page[1,1520]"
   ]
  },
  {
   "cell_type": "code",
   "execution_count": null,
   "metadata": {},
   "outputs": [],
   "source": [
    "# #게시판 게시글들 링크 획득\n",
    "# subjects = [ option.get_attribute('href')\n",
    "#             for option in driver.find_elements_by_css_selector('td.subject > div > a')\n",
    "#             if option.get_attribute('href') \n",
    "#           ]\n",
    "# subjects[:4]"
   ]
  },
  {
   "cell_type": "code",
   "execution_count": null,
   "metadata": {},
   "outputs": [],
   "source": [
    "#게시판 반복\n",
    "# for subject in subjects:\n",
    "        # 3-1. 시군구 태그를 찾아서\n",
    "#         subject_tag = driver.find_element_by_css_selector('href')\n",
    "#         subject_tag\n",
    "#         # 3-2. 시군구값 설정\n",
    "#         subject_tag.send_keys( subject)\n",
    "#         # 3-3. 잠시 대기\n",
    "#         time.sleep(2)\n",
    "#         # 3-4. 엑셀 저장\n",
    "#         driver.find_element_by_id('pro_excel').click()"
   ]
  },
  {
   "cell_type": "code",
   "execution_count": null,
   "metadata": {},
   "outputs": [],
   "source": [
    "#모든 게시판\n",
    "gesipansoo=range(1,20)\n",
    "print(target_site +str(gesipansoo.index))\n",
    "#7월 27일 부터의 게시글\n",
    "# pages = range(1,20)\n",
    "# pages\n",
    "print(gesipansoo.index)"
   ]
  },
  {
   "cell_type": "code",
   "execution_count": null,
   "metadata": {},
   "outputs": [],
   "source": [
    "#모든 게시 글\n",
    "#데이터 획득 2단계 글 필요없을 가능성 농후\n",
    "target_site2 = 'http://bbs.ruliweb.com/family/4454/board/100159/read/9365420?'\n",
    "page = urlopen(target_site2)\n",
    "soup = BeautifulSoup( page,  'html.parser')\n",
    "news_param = 'board/%s/read/%s?' % (100159,gesigeulsoo)\n",
    "gesigeulsoo = range(1365730,9365409)\n",
    "print(target_site2 + '%s' %(gesigeulsoo))"
   ]
  },
  {
   "cell_type": "code",
   "execution_count": null,
   "metadata": {},
   "outputs": [],
   "source": [
    "# target_site = 'http://bbs.ruliweb.com/family/4454/board/100159?page='\n",
    "# for page in pages:\n",
    "#     page = urlopen(target_site +str(pages.index))\n",
    "# print(pages)"
   ]
  },
  {
   "cell_type": "code",
   "execution_count": null,
   "metadata": {
    "scrolled": false
   },
   "outputs": [],
   "source": [
    "# target_site = 'http://bbs.ruliweb.com/family/4454/board/100159?page=1'\n",
    "# for subject in pages:\n",
    "#     page = urlopen(target_site + str(pages))\n",
    "#     results = []\n",
    "#     for n in subjects :\n",
    "#         titles        = soup.findAll('td',{'class':'subject'})\n",
    "#         name          = soup.findAll('td',{'class':'writer text_over'})\n",
    "#         view          = soup.findAll('td',{'class':'hit'})\n",
    "#         reply_count   = soup.findAll('span',{'class':'num'})\n",
    "#         good          = soup.findAll('td',{'class':'recomd'})\n",
    "#         reg_date      = soup.findAll('td',{'class':'time'})\n",
    "#         print( len(titles),len(name),len(view),len(reply_count),len(good),len(reg_date) )\n",
    "#         results=[\n",
    "#                     {\n",
    "#                     'titles':titles[n].a.string,\n",
    "#                     'name':name[n].string,\n",
    "#                     'view':view[n].string,\n",
    "#                     'reply_count':reply_count[n].string,\n",
    "#                     'good':good.text[n].string,\n",
    "#                     'reg_date':reg_date[n].string,\n",
    "#                     }\n",
    "#                     for n in range(len(pages))\n",
    "#                     if titles[n].a.string\n",
    "#                 ]\n",
    "#         print(results)"
   ]
  },
  {
   "cell_type": "code",
   "execution_count": null,
   "metadata": {
    "scrolled": true
   },
   "outputs": [],
   "source": [
    "len(gesipansoo)"
   ]
  },
  {
   "cell_type": "code",
   "execution_count": null,
   "metadata": {},
   "outputs": [],
   "source": [
    "gesipansoo"
   ]
  },
  {
   "cell_type": "code",
   "execution_count": null,
   "metadata": {},
   "outputs": [],
   "source": [
    "# soup = BeautifulSoup( gesipan,  'html.parser')\n",
    "# view          = soup.findAll('td',{'class':'hit'})\n",
    "# p = re.compile('[0-9]')\n",
    "# m = p.match(view[3].string)\n",
    "# korean_word =[kword for kword in word if re.match(r'^[ᄀ-힣]+$', kword)"
   ]
  },
  {
   "cell_type": "code",
   "execution_count": null,
   "metadata": {
    "scrolled": false
   },
   "outputs": [],
   "source": [
    "results = []\n",
    "target_site = 'http://bbs.ruliweb.com/family/4454/board/100159?page='\n",
    "for gesipan in range(len(gesipansoo)):\n",
    "    # 1. 새로운 게시판 페이지 요청 \n",
    "    gesipan = urlopen(target_site + str(gesipansoo.index))\n",
    "    # 2. 응답 데이터는 스푸로 생성\n",
    "    soup = BeautifulSoup( gesipan,  'html.parser')\n",
    "    # 3. 스프로부터 메타 정보 추출\n",
    "    titles        = soup.findAll('td',{'class':'subject'})\n",
    "    names         = soup.findAll('td',{'class':'writer text_over'})\n",
    "    view          = soup.findAll('td',{'class':'hit'})\n",
    "    reg_date      = soup.findAll('td',{'class':'time'})\n",
    "    # 4. 추출된 정보를 리스트에 추가\n",
    "    \n",
    "    \n",
    "    \n",
    "    \n",
    "    for n in range(len(titles)):\n",
    "        if titles[n].a.string:\n",
    "#             if soup.findAll('td',{'class':'recomd'})[n].string == None :\n",
    "#                 soup.findAll('td',{'class':'recomd'})[n].string = '0'\n",
    "            \n",
    "            dic = {\n",
    "                'titles'   : titles[n].a.string.strip(),\n",
    "                'names'    : names[n].a.string,\n",
    "                'view'     : view[n].string.strip(),\n",
    "                'reg_date' : reg_date[n].string.strip(),\n",
    "                 #print( len(titles), len(name), len(view),len(reg_date), len(reg_date))\n",
    "            }\n",
    "            results.append( dic )\n",
    "    \n",
    "#     results=[\n",
    "#                 {\n",
    "#                 'titles':titles[n].a.string,\n",
    "#                  'names':names[n].a.string,\n",
    "#                 'view':view[n].string,\n",
    "#                 'reg_date':reg_date[n].string,\n",
    "#                  #print( len(titles), len(name), len(view),len(reg_date), len(reg_date))\n",
    "#                 }\n",
    "#                 for n in range(len(gesipansoo))\n",
    "#                 if titles[n].a.string\n",
    "#             ]\n",
    "#     print(results)"
   ]
  },
  {
   "cell_type": "code",
   "execution_count": null,
   "metadata": {},
   "outputs": [],
   "source": [
    "results\n",
    "# df = pd.DataFrame['titles','names','views','reg_date']"
   ]
  },
  {
   "cell_type": "code",
   "execution_count": null,
   "metadata": {},
   "outputs": [],
   "source": []
  },
  {
   "cell_type": "code",
   "execution_count": null,
   "metadata": {},
   "outputs": [],
   "source": [
    "import pandas as pd"
   ]
  },
  {
   "cell_type": "code",
   "execution_count": 333,
   "metadata": {},
   "outputs": [],
   "source": [
    "game_c=pd.read_excel('game_community.xlsx')"
   ]
  },
  {
   "cell_type": "code",
   "execution_count": 346,
   "metadata": {},
   "outputs": [
    {
     "data": {
      "text/plain": [
       "0                                           오늘자 핫픽스.\n",
       "1                                         황금골과 골드샤이어\n",
       "2                   난 본섭하는 사람들이 왜 이렇게 클래식 헐뜯는지 모르겠다.\n",
       "3                        오리지날 클베부터 접속해봤던 아재의 클래식 소감.\n",
       "4                                        애엄마한테 등짝 맞음\n",
       "5                              클래식 첫날 동접 많다고 생각하시는분들\n",
       "6                                        클래식 냥꾼분들...\n",
       "7                                     데저트 이글도 클래식 복귀\n",
       "8        다시느끼는건데 ... 게임은 불편할수록 재밌다 .. 다시 한번 깨달았다 ...\n",
       "9                     음 클래식이 오픈하니까 확실히 본섭에 사람이 줄긴 했어\n",
       "10                                          클래식은 미니맵\n",
       "11                                 나엘냥꾼으로 스톰윈드 쉽게가는법\n",
       "12                                    요즘 틀무새들 존나 많네.\n",
       "13                                   클래식은 딱 낙스까지인가요?\n",
       "14                                          이번주의 와우.\n",
       "15                               와우 클래식 행복회로 폭발하는 현실\n",
       "16                                부활 후유증 기다릴 겸 쓰는 잡팁\n",
       "17                        론다 로우지가 15주년 기념 광고를 찍었나보네요\n",
       "18                             틀래식 이 정도로 흥할 줄 몰랐네요..\n",
       "19                             클래식이 한달 반짝할 수 있다고 하지만\n",
       "20                                 14시간의 플탐을 종료했습니다.\n",
       "21                     오리지널 때 블리자드의 디테일에 감탄했던 퀘스트...\n",
       "22                          와우 클래식 9시 35분 대기열 실화냐? ㅎ\n",
       "23                               와우 클래식은 어떤재미로하는건가요?\n",
       "24                                         궁금한게 있습니다\n",
       "25                              대기 9000명 270분 ㅋㅋㅋㅋㅋㅋ\n",
       "26                    와우 클래식 애드온 추천 및 설치 가이드/오픈첫날 풍경\n",
       "27                             ....전 클래식 적응 몬하겠네요 ㅠㅠ\n",
       "28                                          오늘자 핫픽스.\n",
       "29                                        황금골과 골드샤이어\n",
       "                            ...                     \n",
       "32086                 와우 클래식 애드온 추천 및 설치 가이드/오픈첫날 풍경\n",
       "32087                          ....전 클래식 적응 몬하겠네요 ㅠㅠ\n",
       "32088                                       오늘자 핫픽스.\n",
       "32089                                     황금골과 골드샤이어\n",
       "32090               난 본섭하는 사람들이 왜 이렇게 클래식 헐뜯는지 모르겠다.\n",
       "32091                    오리지날 클베부터 접속해봤던 아재의 클래식 소감.\n",
       "32092                                    애엄마한테 등짝 맞음\n",
       "32093                          클래식 첫날 동접 많다고 생각하시는분들\n",
       "32094                                    클래식 냥꾼분들...\n",
       "32095                                 데저트 이글도 클래식 복귀\n",
       "32096    다시느끼는건데 ... 게임은 불편할수록 재밌다 .. 다시 한번 깨달았다 ...\n",
       "32097                 음 클래식이 오픈하니까 확실히 본섭에 사람이 줄긴 했어\n",
       "32098                                       클래식은 미니맵\n",
       "32099                              나엘냥꾼으로 스톰윈드 쉽게가는법\n",
       "32100                                 요즘 틀무새들 존나 많네.\n",
       "32101                                클래식은 딱 낙스까지인가요?\n",
       "32102                                       이번주의 와우.\n",
       "32103                            와우 클래식 행복회로 폭발하는 현실\n",
       "32104                             부활 후유증 기다릴 겸 쓰는 잡팁\n",
       "32105                     론다 로우지가 15주년 기념 광고를 찍었나보네요\n",
       "32106                          틀래식 이 정도로 흥할 줄 몰랐네요..\n",
       "32107                          클래식이 한달 반짝할 수 있다고 하지만\n",
       "32108                              14시간의 플탐을 종료했습니다.\n",
       "32109                  오리지널 때 블리자드의 디테일에 감탄했던 퀘스트...\n",
       "32110                       와우 클래식 9시 35분 대기열 실화냐? ㅎ\n",
       "32111                            와우 클래식은 어떤재미로하는건가요?\n",
       "32112                                      궁금한게 있습니다\n",
       "32113                           대기 9000명 270분 ㅋㅋㅋㅋㅋㅋ\n",
       "32114                 와우 클래식 애드온 추천 및 설치 가이드/오픈첫날 풍경\n",
       "32115                          ....전 클래식 적응 몬하겠네요 ㅠㅠ\n",
       "Name: Title, Length: 32116, dtype: object"
      ]
     },
     "execution_count": 346,
     "metadata": {},
     "output_type": "execute_result"
    }
   ],
   "source": [
    "game_title = df['Title']\n",
    "game_title"
   ]
  },
  {
   "cell_type": "code",
   "execution_count": 379,
   "metadata": {},
   "outputs": [],
   "source": [
    "test_text = df['Title']"
   ]
  },
  {
   "cell_type": "code",
   "execution_count": 380,
   "metadata": {},
   "outputs": [],
   "source": [
    "from konlpy.tag import Okt\n",
    "from konlpy.tag import Twitter\n",
    "t = Okt()"
   ]
  },
  {
   "cell_type": "code",
   "execution_count": 381,
   "metadata": {},
   "outputs": [
    {
     "ename": "RuntimeError",
     "evalue": "No matching overloads found for phrases in find. at native\\common\\jp_method.cpp:127",
     "output_type": "error",
     "traceback": [
      "\u001b[1;31m---------------------------------------------------------------------------\u001b[0m",
      "\u001b[1;31mRuntimeError\u001b[0m                              Traceback (most recent call last)",
      "\u001b[1;32m<ipython-input-381-66dcbac1efbf>\u001b[0m in \u001b[0;36m<module>\u001b[1;34m()\u001b[0m\n\u001b[1;32m----> 1\u001b[1;33m \u001b[0mtmp\u001b[0m \u001b[1;33m=\u001b[0m \u001b[0mt\u001b[0m\u001b[1;33m.\u001b[0m\u001b[0mphrases\u001b[0m\u001b[1;33m(\u001b[0m\u001b[0mtest_text\u001b[0m\u001b[1;33m)\u001b[0m\u001b[1;33m\u001b[0m\u001b[0m\n\u001b[0m",
      "\u001b[1;32m~\\Anaconda3\\lib\\site-packages\\konlpy\\tag\\_okt.py\u001b[0m in \u001b[0;36mphrases\u001b[1;34m(self, phrase)\u001b[0m\n\u001b[0;32m     81\u001b[0m         \u001b[1;34m\"\"\"Phrase extractor.\"\"\"\u001b[0m\u001b[1;33m\u001b[0m\u001b[0m\n\u001b[0;32m     82\u001b[0m \u001b[1;33m\u001b[0m\u001b[0m\n\u001b[1;32m---> 83\u001b[1;33m         \u001b[1;32mreturn\u001b[0m \u001b[1;33m[\u001b[0m\u001b[0mp\u001b[0m \u001b[1;32mfor\u001b[0m \u001b[0mp\u001b[0m \u001b[1;32min\u001b[0m \u001b[0mself\u001b[0m\u001b[1;33m.\u001b[0m\u001b[0mjki\u001b[0m\u001b[1;33m.\u001b[0m\u001b[0mphrases\u001b[0m\u001b[1;33m(\u001b[0m\u001b[0mphrase\u001b[0m\u001b[1;33m)\u001b[0m\u001b[1;33m.\u001b[0m\u001b[0mtoArray\u001b[0m\u001b[1;33m(\u001b[0m\u001b[1;33m)\u001b[0m\u001b[1;33m]\u001b[0m\u001b[1;33m\u001b[0m\u001b[0m\n\u001b[0m\u001b[0;32m     84\u001b[0m \u001b[1;33m\u001b[0m\u001b[0m\n\u001b[0;32m     85\u001b[0m     \u001b[1;32mdef\u001b[0m \u001b[0m__init__\u001b[0m\u001b[1;33m(\u001b[0m\u001b[0mself\u001b[0m\u001b[1;33m,\u001b[0m \u001b[0mjvmpath\u001b[0m\u001b[1;33m=\u001b[0m\u001b[1;32mNone\u001b[0m\u001b[1;33m,\u001b[0m \u001b[0mmax_heap_size\u001b[0m\u001b[1;33m=\u001b[0m\u001b[1;36m1024\u001b[0m\u001b[1;33m)\u001b[0m\u001b[1;33m:\u001b[0m\u001b[1;33m\u001b[0m\u001b[0m\n",
      "\u001b[1;31mRuntimeError\u001b[0m: No matching overloads found for phrases in find. at native\\common\\jp_method.cpp:127"
     ]
    }
   ],
   "source": [
    "tmp = t.phrases(test_text)"
   ]
  },
  {
   "cell_type": "code",
   "execution_count": 367,
   "metadata": {},
   "outputs": [],
   "source": [
    "for sen in tmp:\n",
    "    print( \"-\"* 10 )\n",
    "    word = t.nouns(sen)\n",
    "    # 형태소 분석\n",
    "    morphs = t.morphs(sen)\n",
    "    pos =t.pos(sen)\n",
    "    print( sen,tmp,morphs,pos)\n",
    "    print( \"-\"* 10 )"
   ]
  },
  {
   "cell_type": "code",
   "execution_count": 368,
   "metadata": {},
   "outputs": [],
   "source": [
    "test_text = str(test_text).split()"
   ]
  },
  {
   "cell_type": "code",
   "execution_count": 369,
   "metadata": {},
   "outputs": [],
   "source": [
    "p =re.compile('\\d+\\s+\\n+')\n",
    "tmp = p.sub(' ',test_text[100])"
   ]
  },
  {
   "cell_type": "code",
   "execution_count": 370,
   "metadata": {},
   "outputs": [],
   "source": [
    "from wordcloud import WordCloud, STOPWORDS\n",
    "import numpy as np\n",
    "from PIL import Image\n",
    "import nltk\n",
    "from konlpy.tag import Okt\n",
    "t = Okt()"
   ]
  },
  {
   "cell_type": "code",
   "execution_count": 377,
   "metadata": {},
   "outputs": [
    {
     "data": {
      "text/plain": [
       "['틀', '식']"
      ]
     },
     "execution_count": 377,
     "metadata": {},
     "output_type": "execute_result"
    }
   ],
   "source": [
    "t.nouns(tmp)"
   ]
  },
  {
   "cell_type": "code",
   "execution_count": 382,
   "metadata": {},
   "outputs": [
    {
     "data": {
      "text/plain": [
       "(900, 900)"
      ]
     },
     "execution_count": 382,
     "metadata": {},
     "output_type": "execute_result"
    }
   ],
   "source": [
    "alice_mask = np.array( Image.open('alice_mask.png'))\n",
    "alice_mask.shape"
   ]
  },
  {
   "cell_type": "code",
   "execution_count": 383,
   "metadata": {},
   "outputs": [],
   "source": [
    "import matplotlib.pyplot as plt\n",
    "%matplotlib inline"
   ]
  },
  {
   "cell_type": "code",
   "execution_count": 384,
   "metadata": {},
   "outputs": [
    {
     "name": "stdout",
     "output_type": "stream",
     "text": [
      "Malgun Gothic\n"
     ]
    }
   ],
   "source": [
    "from korea_font import initKoreaFontLoad\n",
    "initKoreaFontLoad()"
   ]
  },
  {
   "cell_type": "code",
   "execution_count": null,
   "metadata": {},
   "outputs": [],
   "source": []
  },
  {
   "cell_type": "code",
   "execution_count": null,
   "metadata": {},
   "outputs": [],
   "source": []
  },
  {
   "cell_type": "code",
   "execution_count": null,
   "metadata": {},
   "outputs": [],
   "source": []
  },
  {
   "cell_type": "code",
   "execution_count": null,
   "metadata": {},
   "outputs": [],
   "source": [
    "stop_words = ['.','(',')','%','-','의','을','다','만','로','제','호','및','이','항','함']\n",
    "def myFilter( x ) :\n",
    "    if len(x)> 1 : #한글자 제거\n",
    "        return True\n",
    "    else:\n",
    "        if x not in stop_words: #배제 단어에 없으면 회생\n",
    "            return True\n",
    "        else: #배제 단어에 포함되어 있으면 제거\n",
    "            return False\n",
    "\n",
    "        \n",
    "def myFilter2( x ) :\n",
    "    return (len(x)> 1 or x not in stop_words )#한글자 이상이거나, 배제 단어에 없으면 포함"
   ]
  },
  {
   "cell_type": "code",
   "execution_count": null,
   "metadata": {},
   "outputs": [],
   "source": [
    "# stop_words = ['.','(',')','%','-','의','을','다','만','로','제','호','및','이','항','함']\n",
    "# ko = [each_word for each_word in ko if each_word not in stop_words ]\n",
    "# ko"
   ]
  },
  {
   "cell_type": "code",
   "execution_count": null,
   "metadata": {},
   "outputs": [],
   "source": [
    "# 특정단어의 주변 단어 => 텍스트 주변에 자주 나오는 표현\n",
    "ko.concordance('하도급')"
   ]
  },
  {
   "cell_type": "code",
   "execution_count": null,
   "metadata": {},
   "outputs": [],
   "source": [
    "#연어 , 비슷한 의미를 내포하게끔 사용된 단어\n",
    "ko.collocations()"
   ]
  },
  {
   "cell_type": "code",
   "execution_count": null,
   "metadata": {},
   "outputs": [],
   "source": [
    "data = ko.vocab().most_common(150)"
   ]
  },
  {
   "cell_type": "code",
   "execution_count": null,
   "metadata": {},
   "outputs": [],
   "source": [
    "wc = WordCloud(relative_scaling = 0.2,\n",
    "                 background_color= 'white',\n",
    "                   font_path='c:/windows/Fonts/malgun.ttf').generate_from_frequencies(dict(data))"
   ]
  },
  {
   "cell_type": "code",
   "execution_count": null,
   "metadata": {},
   "outputs": [],
   "source": [
    "plt.figure(figsize=(12,8) )\n",
    "plt.imshow( wc )\n",
    "plt.axis('off')\n",
    "plt.show()"
   ]
  }
 ],
 "metadata": {
  "kernelspec": {
   "display_name": "Python 3",
   "language": "python",
   "name": "python3"
  },
  "language_info": {
   "codemirror_mode": {
    "name": "ipython",
    "version": 3
   },
   "file_extension": ".py",
   "mimetype": "text/x-python",
   "name": "python",
   "nbconvert_exporter": "python",
   "pygments_lexer": "ipython3",
   "version": "3.6.5"
  }
 },
 "nbformat": 4,
 "nbformat_minor": 2
}
